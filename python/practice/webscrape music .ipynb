{
 "cells": [
  {
   "cell_type": "code",
   "execution_count": 1,
   "metadata": {},
   "outputs": [],
   "source": [
    "from selenium import webdriver\n",
    "from selenium.webdriver.common.keys import Keys\n",
    "from bs4 import BeautifulSoup \n",
    "import pandas as pd\n",
    "import time\n",
    "\n",
    "#initiate driver\n",
    "driver = webdriver.Chrome()\n"
   ]
  },
  {
   "cell_type": "code",
   "execution_count": null,
   "metadata": {},
   "outputs": [],
   "source": [
    "\n",
    "driver.get('https://play.google.com/music/listen#/all')\n"
   ]
  },
  {
   "cell_type": "code",
   "execution_count": null,
   "metadata": {},
   "outputs": [],
   "source": [
    "driver.get('https://play.google.com/music/listen#/all')\n",
    "time.sleep(2) # Let the user actually see something!\n",
    "signin= driver.find_element_by_id('gb_70')\n",
    "signin.send_keys(Keys.RETURN)\n",
    "time.sleep(2)\n",
    "email=driver.find_element_by_name('identifier')\n",
    "email.send_keys('nate.turner.2788@gmail.com')\n",
    "email.send_keys(Keys.RETURN)\n",
    "time.sleep(2)\n",
    "password=driver.find_element_by_name('password')\n",
    "password.send_keys('K^bC992V')\n",
    "password.send_keys(Keys.RETURN)\n",
    "#search_box.submit()\n",
    "#time.sleep(3) # Let the user actually see something!\n",
    "#driver.quit()"
   ]
  },
  {
   "cell_type": "code",
   "execution_count": 2,
   "metadata": {},
   "outputs": [
    {
     "ename": "AttributeError",
     "evalue": "'Musicmanager' object has no attribute 'perform_ouath'",
     "output_type": "error",
     "traceback": [
      "\u001b[1;31m---------------------------------------------------------------------------\u001b[0m",
      "\u001b[1;31mAttributeError\u001b[0m                            Traceback (most recent call last)",
      "\u001b[1;32m<ipython-input-2-2ad2421f3dc7>\u001b[0m in \u001b[0;36m<module>\u001b[1;34m\u001b[0m\n\u001b[0;32m      2\u001b[0m \u001b[1;33m\u001b[0m\u001b[0m\n\u001b[0;32m      3\u001b[0m \u001b[0mmm\u001b[0m\u001b[1;33m=\u001b[0m\u001b[0mMusicmanager\u001b[0m\u001b[1;33m(\u001b[0m\u001b[1;33m)\u001b[0m\u001b[1;33m\u001b[0m\u001b[1;33m\u001b[0m\u001b[0m\n\u001b[1;32m----> 4\u001b[1;33m \u001b[0mmm\u001b[0m\u001b[1;33m.\u001b[0m\u001b[0mperform_ouath\u001b[0m\u001b[1;33m(\u001b[0m\u001b[1;33m)\u001b[0m\u001b[1;33m\u001b[0m\u001b[1;33m\u001b[0m\u001b[0m\n\u001b[0m",
      "\u001b[1;31mAttributeError\u001b[0m: 'Musicmanager' object has no attribute 'perform_ouath'"
     ]
    }
   ],
   "source": [
    "from gmusicapi import Musicmanager\n",
    "\n",
    "mm=Musicmanager()\n",
    "mm.perform_ouath()"
   ]
  },
  {
   "cell_type": "code",
   "execution_count": null,
   "metadata": {},
   "outputs": [],
   "source": []
  }
 ],
 "metadata": {
  "kernelspec": {
   "display_name": "Python 3",
   "language": "python",
   "name": "python3"
  },
  "language_info": {
   "codemirror_mode": {
    "name": "ipython",
    "version": 3
   },
   "file_extension": ".py",
   "mimetype": "text/x-python",
   "name": "python",
   "nbconvert_exporter": "python",
   "pygments_lexer": "ipython3",
   "version": "3.7.3"
  }
 },
 "nbformat": 4,
 "nbformat_minor": 2
}
