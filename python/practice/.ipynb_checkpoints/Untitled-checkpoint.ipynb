{
 "cells": [
  {
   "cell_type": "code",
   "execution_count": 27,
   "metadata": {},
   "outputs": [
    {
     "name": "stdout",
     "output_type": "stream",
     "text": [
      "please type a log set of words!\n",
      "The quick brown fox jumps over the lazy dog\n",
      "dog lazy the over jumps fox brown quick The\n"
     ]
    }
   ],
   "source": [
    "#reverse string of words\n",
    "reverse=[]\n",
    "i=0\n",
    "\n",
    "inputstring=input('please type a log set of words!\\r')\n",
    "x=inputstring.split()\n",
    "\n",
    "while i<len(x):\n",
    "    reverse.append(x.pop(-1))\n",
    "    i++1\n",
    "d=' '\n",
    "d=d.join(reverse)\n",
    "\n",
    "print(d)"
   ]
  },
  {
   "cell_type": "code",
   "execution_count": null,
   "metadata": {},
   "outputs": [],
   "source": []
  }
 ],
 "metadata": {
  "kernelspec": {
   "display_name": "Python 3",
   "language": "python",
   "name": "python3"
  },
  "language_info": {
   "codemirror_mode": {
    "name": "ipython",
    "version": 3
   },
   "file_extension": ".py",
   "mimetype": "text/x-python",
   "name": "python",
   "nbconvert_exporter": "python",
   "pygments_lexer": "ipython3",
   "version": "3.7.3"
  }
 },
 "nbformat": 4,
 "nbformat_minor": 2
}
