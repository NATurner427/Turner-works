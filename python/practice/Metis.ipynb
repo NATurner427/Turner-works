{
 "cells": [
  {
   "cell_type": "code",
   "execution_count": 32,
   "metadata": {},
   "outputs": [
    {
     "name": "stdout",
     "output_type": "stream",
     "text": [
      "please type a log set of words!\n",
      "The quick brown fox jumps over the lazy dog\n"
     ]
    },
    {
     "data": {
      "text/plain": [
       "'dog lazy the over jumps fox brown quick The'"
      ]
     },
     "execution_count": 32,
     "metadata": {},
     "output_type": "execute_result"
    }
   ],
   "source": [
    "#reverse string of words\n",
    "rev=[]\n",
    "i=0\n",
    "\n",
    "def reverse(x):\n",
    "    while i<len(x):\n",
    "        rev.append(x.pop(-1))\n",
    "        i++1\n",
    "    d=' '\n",
    "    d=d.join(rev)\n",
    "    return d\n",
    "\n",
    "inputstring=input('please type a log set of words!\\r')\n",
    "\n",
    "reverse(inputstring.split())\n",
    "\n"
   ]
  },
  {
   "cell_type": "code",
   "execution_count": 41,
   "metadata": {},
   "outputs": [],
   "source": [
    "A='siladfubwpfiunwhepvuinh'"
   ]
  },
  {
   "cell_type": "code",
   "execution_count": 42,
   "metadata": {},
   "outputs": [
    {
     "name": "stdout",
     "output_type": "stream",
     "text": [
      "hAnAiAuAvApAeAhAwAnAuAiAfApAwAbAuAfAdAaAlAiAsA\n"
     ]
    }
   ],
   "source": [
    "B=''\n",
    "x=0\n",
    "while x < len(A):\n",
    "    B=B+A[x-1-2*x]+'A'\n",
    "    x+=1\n",
    "print(B)"
   ]
  },
  {
   "cell_type": "code",
   "execution_count": 46,
   "metadata": {},
   "outputs": [],
   "source": [
    "lower=5\n",
    "upper=9"
   ]
  },
  {
   "cell_type": "code",
   "execution_count": 57,
   "metadata": {},
   "outputs": [
    {
     "ename": "TypeError",
     "evalue": "'int' object is not iterable",
     "output_type": "error",
     "traceback": [
      "\u001b[1;31m---------------------------------------------------------------------------\u001b[0m",
      "\u001b[1;31mTypeError\u001b[0m                                 Traceback (most recent call last)",
      "\u001b[1;32m<ipython-input-57-5e6e1738798b>\u001b[0m in \u001b[0;36m<module>\u001b[1;34m\u001b[0m\n\u001b[0;32m      3\u001b[0m \u001b[1;32mfor\u001b[0m \u001b[0mn\u001b[0m \u001b[1;32min\u001b[0m \u001b[0mx\u001b[0m\u001b[1;33m:\u001b[0m\u001b[1;33m\u001b[0m\u001b[1;33m\u001b[0m\u001b[0m\n\u001b[0;32m      4\u001b[0m     \u001b[1;32mif\u001b[0m \u001b[0mn\u001b[0m\u001b[1;33m%\u001b[0m\u001b[1;36m2\u001b[0m\u001b[1;33m==\u001b[0m\u001b[1;36m0\u001b[0m\u001b[1;33m:\u001b[0m\u001b[1;33m\u001b[0m\u001b[1;33m\u001b[0m\u001b[0m\n\u001b[1;32m----> 5\u001b[1;33m         \u001b[0my\u001b[0m\u001b[1;33m=\u001b[0m\u001b[0my\u001b[0m\u001b[1;33m.\u001b[0m\u001b[0mextend\u001b[0m\u001b[1;33m(\u001b[0m\u001b[0mn\u001b[0m\u001b[1;33m)\u001b[0m\u001b[1;33m\u001b[0m\u001b[1;33m\u001b[0m\u001b[0m\n\u001b[0m\u001b[0;32m      6\u001b[0m     \u001b[1;32melif\u001b[0m \u001b[0mn\u001b[0m\u001b[1;33m%\u001b[0m\u001b[1;36m7\u001b[0m\u001b[1;33m==\u001b[0m\u001b[1;36m0\u001b[0m\u001b[1;33m:\u001b[0m\u001b[1;33m\u001b[0m\u001b[1;33m\u001b[0m\u001b[0m\n\u001b[0;32m      7\u001b[0m         \u001b[0my\u001b[0m\u001b[1;33m=\u001b[0m\u001b[0my\u001b[0m\u001b[1;33m.\u001b[0m\u001b[0mextend\u001b[0m\u001b[1;33m(\u001b[0m\u001b[0mn\u001b[0m\u001b[1;33m)\u001b[0m\u001b[1;33m\u001b[0m\u001b[1;33m\u001b[0m\u001b[0m\n",
      "\u001b[1;31mTypeError\u001b[0m: 'int' object is not iterable"
     ]
    }
   ],
   "source": [
    "\n",
    "\n",
    "x=range(lower,upper+1)\n",
    "\n",
    "\n",
    "\n",
    "y=[]\n",
    "for n in x:\n",
    "    if n%2==0:\n",
    "        y=y.extend(n)\n",
    "    elif n%7==0:\n",
    "        y=y.extend(n)\n",
    "    else:\n",
    "        continue\n",
    "print(y)"
   ]
  },
  {
   "cell_type": "code",
   "execution_count": 85,
   "metadata": {},
   "outputs": [],
   "source": [
    "def numbers_between(lower, upper):\n",
    "    # Write your code here\n",
    "    \n",
    "    good=0\n",
    "    x=[]\n",
    "    y=[]\n",
    "    \n",
    "    while good==0:\n",
    "        good=1\n",
    "        if lower <= upper:\n",
    "            x.extend(range(lower,upper+1))\n",
    "            for n in x:\n",
    "                if n%2==0:\n",
    "                    y.append(n)\n",
    "                elif n%7==0:\n",
    "                    y.append(n)\n",
    "                else:\n",
    "                    continue\n",
    "            return y\n",
    "        else:\n",
    "            good=0\n",
    "            print('please input value LOWER that is lower than UPPER')\n",
    "            lower=int(input('please enter a lower value \\t'))\n",
    "            upper=int(input('please enther a upper value \\t'))\n",
    "    "
   ]
  },
  {
   "cell_type": "code",
   "execution_count": 86,
   "metadata": {},
   "outputs": [
    {
     "name": "stdout",
     "output_type": "stream",
     "text": [
      "please enter a lower value \t12\n",
      "please enther a upper value \t1\n",
      "please input value LOWER that is lower than UPPER\n",
      "please enter a lower value \t12\n",
      "please enther a upper value \t1\n",
      "please input value LOWER that is lower than UPPER\n",
      "please enter a lower value \t1\n",
      "please enther a upper value \t12\n"
     ]
    },
    {
     "data": {
      "text/plain": [
       "[2, 4, 6, 7, 8, 10, 12]"
      ]
     },
     "execution_count": 86,
     "metadata": {},
     "output_type": "execute_result"
    }
   ],
   "source": [
    "lower=int(input('please enter a lower value \\t'))\n",
    "upper=int(input('please enther a upper value \\t'))\n",
    "\n",
    "numbers_between(lower,upper)"
   ]
  },
  {
   "cell_type": "code",
   "execution_count": 110,
   "metadata": {},
   "outputs": [],
   "source": [
    "l1=[3,3,5]\n",
    "l2=[1,4,5,5]\n",
    "l3=[]\n"
   ]
  },
  {
   "cell_type": "code",
   "execution_count": 126,
   "metadata": {},
   "outputs": [],
   "source": [
    "def combine_distinct_and_sort(list1, list2):\n",
    "    #create empty lists\n",
    "    l3=[]\n",
    "    l4=[]\n",
    "\n",
    "    #find values that appear in both lists\n",
    "    for n1 in list1:\n",
    "        for n2 in list2:\n",
    "            if n1==n2:\n",
    "                l3.append(n2)\n",
    "\n",
    "    #combine input lists           \n",
    "    combo=list1+list2\n",
    "\n",
    "    #remove values that appear in both lists from combined list\n",
    "    if l3 != []:\n",
    "        for x in list1:\n",
    "            for y in l3:\n",
    "                if x==y:\n",
    "                    pass\n",
    "                elif x!=y:\n",
    "                    l4.append(x)\n",
    "\n",
    "    # sort list by value\n",
    "        l4.sort()\n",
    "\n",
    "        print(l4)\n",
    "\n",
    "    else:\n",
    "        list1.sort()\n",
    "        print(list1)"
   ]
  },
  {
   "cell_type": "code",
   "execution_count": 130,
   "metadata": {},
   "outputs": [
    {
     "name": "stdout",
     "output_type": "stream",
     "text": [
      "[]\n"
     ]
    }
   ],
   "source": [
    "list1=[]\n",
    "list2=[]\n",
    "\n",
    "combine_distinct_and_sort(list1,list2)"
   ]
  },
  {
   "cell_type": "code",
   "execution_count": 172,
   "metadata": {},
   "outputs": [
    {
     "name": "stdout",
     "output_type": "stream",
     "text": [
      "True\n"
     ]
    }
   ],
   "source": [
    "target_word='elL'\n",
    "letter_word='hElo'\n",
    "\n",
    "tw=target_word.lower()\n",
    "lw=letter_word.lower()\n",
    "\n",
    "valid=True\n",
    "for c in tw:\n",
    "    if c in lw:\n",
    "        pass\n",
    "    else:\n",
    "        valid= False    \n",
    "print(valid)"
   ]
  },
  {
   "cell_type": "code",
   "execution_count": 144,
   "metadata": {},
   "outputs": [
    {
     "data": {
      "text/plain": [
       "False"
      ]
     },
     "execution_count": 144,
     "metadata": {},
     "output_type": "execute_result"
    }
   ],
   "source": [
    "target_word='elL'\n",
    "letter_word='hEllo'\n",
    "\n",
    "can_spell_with(target_word, letter_word)"
   ]
  },
  {
   "cell_type": "code",
   "execution_count": 162,
   "metadata": {},
   "outputs": [
    {
     "name": "stdout",
     "output_type": "stream",
     "text": [
      "['elL']\n"
     ]
    }
   ],
   "source": [
    "target_word='elL'\n",
    "letter_word='hEllo'\n",
    "\n",
    "tw=target_word.split()\n",
    "print(tw)"
   ]
  },
  {
   "cell_type": "code",
   "execution_count": 186,
   "metadata": {},
   "outputs": [
    {
     "name": "stdout",
     "output_type": "stream",
     "text": [
      "{1: [2, 3, 4], 2: [2, 4], 5: []}\n"
     ]
    }
   ],
   "source": [
    "coll={}\n",
    "\n",
    "divsors=[1,2,5]\n",
    "\n",
    "lower=2\n",
    "upper=4\n",
    "rang=[]\n",
    "\n",
    "value=[]\n",
    "\n",
    "if lower <= upper:\n",
    "            rang.extend(range(lower,upper+1))\n",
    "\n",
    "\n",
    "for x in divsors:\n",
    "    \n",
    "    for y in rang:\n",
    "        if y%x == 0:\n",
    "            value.append(y)\n",
    "    coll.update({int(x) : value})\n",
    "    value=[]\n",
    "print(coll)\n"
   ]
  },
  {
   "cell_type": "code",
   "execution_count": null,
   "metadata": {},
   "outputs": [],
   "source": []
  }
 ],
 "metadata": {
  "kernelspec": {
   "display_name": "Python 3",
   "language": "python",
   "name": "python3"
  },
  "language_info": {
   "codemirror_mode": {
    "name": "ipython",
    "version": 3
   },
   "file_extension": ".py",
   "mimetype": "text/x-python",
   "name": "python",
   "nbconvert_exporter": "python",
   "pygments_lexer": "ipython3",
   "version": "3.7.3"
  }
 },
 "nbformat": 4,
 "nbformat_minor": 2
}
