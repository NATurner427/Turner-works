{
 "cells": [
  {
   "cell_type": "code",
   "execution_count": 32,
   "metadata": {},
   "outputs": [
    {
     "name": "stdout",
     "output_type": "stream",
     "text": [
      "please type a log set of words!\n",
      "The quick brown fox jumps over the lazy dog\n"
     ]
    },
    {
     "data": {
      "text/plain": [
       "'dog lazy the over jumps fox brown quick The'"
      ]
     },
     "execution_count": 32,
     "metadata": {},
     "output_type": "execute_result"
    }
   ],
   "source": [
    "#reverse string of words\n",
    "rev=[]\n",
    "i=0\n",
    "\n",
    "def reverse(x):\n",
    "    while i<len(x):\n",
    "        rev.append(x.pop(-1))\n",
    "        i++1\n",
    "    d=' '\n",
    "    d=d.join(rev)\n",
    "    return d\n",
    "\n",
    "inputstring=input('please type a log set of words!\\r')\n",
    "\n",
    "reverse(inputstring.split())\n",
    "\n"
   ]
  },
  {
   "cell_type": "code",
   "execution_count": null,
   "metadata": {},
   "outputs": [],
   "source": []
  }
 ],
 "metadata": {
  "kernelspec": {
   "display_name": "Python 3",
   "language": "python",
   "name": "python3"
  },
  "language_info": {
   "codemirror_mode": {
    "name": "ipython",
    "version": 3
   },
   "file_extension": ".py",
   "mimetype": "text/x-python",
   "name": "python",
   "nbconvert_exporter": "python",
   "pygments_lexer": "ipython3",
   "version": "3.7.3"
  }
 },
 "nbformat": 4,
 "nbformat_minor": 2
}
