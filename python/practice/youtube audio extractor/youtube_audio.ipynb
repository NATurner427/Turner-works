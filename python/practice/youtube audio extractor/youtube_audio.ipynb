{
 "cells": [
  {
   "cell_type": "code",
   "execution_count": 17,
   "metadata": {},
   "outputs": [],
   "source": [
    "\n",
    "import youtube_dl\n",
    "import os.path"
   ]
  },
  {
   "cell_type": "code",
   "execution_count": 32,
   "metadata": {},
   "outputs": [
    {
     "name": "stdout",
     "output_type": "stream",
     "text": [
      "[youtube] jIxfVSS_65o: Downloading webpage\n",
      "[youtube] jIxfVSS_65o: Downloading video info webpage\n",
      "[youtube] jIxfVSS_65o: Downloading webpage\n",
      "[youtube] jIxfVSS_65o: Downloading video info webpage\n",
      "[download] Destination: Whip-poor-will Song.m4a\n",
      "[download] 100% of 700.07KiB in 00:00                  \n",
      "[ffmpeg] Correcting container in \"Whip-poor-will Song.m4a\"\n",
      "[ffmpeg] Destination: Whip-poor-will Song.wav\n",
      "Deleting original file Whip-poor-will Song.m4a (pass -k to keep)\n"
     ]
    }
   ],
   "source": [
    "savedir= 'test-birdsong'\n",
    "if not os.path.exists(savedir):\n",
    "    os.makedirs(savedir)\n",
    "#url\n",
    "x='https://www.youtube.com/watch?v=jIxfVSS_65o'\n",
    "\n",
    "opt = {'outtmpl':u'%(title)s.%(ext)s','format':'bestaudio',\n",
    "       'postprocessors' : [{'key':'FFmpegExtractAudio','preferredcodec':'wav'}]\n",
    "      }\n",
    "ydl= youtube_dl.YoutubeDL(opt)\n",
    "\n",
    "with ydl:\n",
    "          r=ydl.extract_info(x,download=False)\n",
    "    \n",
    "          ydl.download([x])"
   ]
  },
  {
   "cell_type": "code",
   "execution_count": null,
   "metadata": {},
   "outputs": [],
   "source": []
  }
 ],
 "metadata": {
  "kernelspec": {
   "display_name": "Python 3",
   "language": "python",
   "name": "python3"
  },
  "language_info": {
   "codemirror_mode": {
    "name": "ipython",
    "version": 3
   },
   "file_extension": ".py",
   "mimetype": "text/x-python",
   "name": "python",
   "nbconvert_exporter": "python",
   "pygments_lexer": "ipython3",
   "version": "3.7.3"
  }
 },
 "nbformat": 4,
 "nbformat_minor": 2
}
