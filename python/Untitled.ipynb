{
 "cells": [
  {
   "cell_type": "markdown",
   "metadata": {},
   "source": [
    "nervous coding\n",
    "\n",
    "fizz buzz"
   ]
  },
  {
   "cell_type": "code",
   "execution_count": 27,
   "metadata": {},
   "outputs": [],
   "source": [
    "#fizzbuzz takes precedence\n",
    "#then fizz and buzz\n",
    "x=1\n",
    "lst=[]\n",
    "out=''\n",
    "while x <=100:\n",
    "    if x%3==0:\n",
    "        out+='fizz'\n",
    "        lst.append(out)\n",
    "    elif x%5==0:\n",
    "        out+='buzz'\n",
    "        lst.append(out)\n",
    "    else:\n",
    "        #print(x)\n",
    "        lst.append(x)\n",
    "    out=''\n",
    "    x+=1"
   ]
  },
  {
   "cell_type": "code",
   "execution_count": 28,
   "metadata": {},
   "outputs": [
    {
     "data": {
      "text/plain": [
       "[1,\n",
       " 2,\n",
       " 'fizz',\n",
       " 4,\n",
       " 'buzz',\n",
       " 'fizz',\n",
       " 7,\n",
       " 8,\n",
       " 'fizz',\n",
       " 'buzz',\n",
       " 11,\n",
       " 'fizz',\n",
       " 13,\n",
       " 14,\n",
       " 'fizzbuzz',\n",
       " 16,\n",
       " 17,\n",
       " 'fizz',\n",
       " 19,\n",
       " 'buzz',\n",
       " 'fizz',\n",
       " 22,\n",
       " 23,\n",
       " 'fizz',\n",
       " 'buzz',\n",
       " 26,\n",
       " 'fizz',\n",
       " 28,\n",
       " 29,\n",
       " 'fizzbuzz',\n",
       " 31,\n",
       " 32,\n",
       " 'fizz',\n",
       " 34,\n",
       " 'buzz',\n",
       " 'fizz',\n",
       " 37,\n",
       " 38,\n",
       " 'fizz',\n",
       " 'buzz',\n",
       " 41,\n",
       " 'fizz',\n",
       " 43,\n",
       " 44,\n",
       " 'fizzbuzz',\n",
       " 46,\n",
       " 47,\n",
       " 'fizz',\n",
       " 49,\n",
       " 'buzz',\n",
       " 'fizz',\n",
       " 52,\n",
       " 53,\n",
       " 'fizz',\n",
       " 'buzz',\n",
       " 56,\n",
       " 'fizz',\n",
       " 58,\n",
       " 59,\n",
       " 'fizzbuzz',\n",
       " 61,\n",
       " 62,\n",
       " 'fizz',\n",
       " 64,\n",
       " 'buzz',\n",
       " 'fizz',\n",
       " 67,\n",
       " 68,\n",
       " 'fizz',\n",
       " 'buzz',\n",
       " 71,\n",
       " 'fizz',\n",
       " 73,\n",
       " 74,\n",
       " 'fizzbuzz',\n",
       " 76,\n",
       " 77,\n",
       " 'fizz',\n",
       " 79,\n",
       " 'buzz',\n",
       " 'fizz',\n",
       " 82,\n",
       " 83,\n",
       " 'fizz',\n",
       " 'buzz',\n",
       " 86,\n",
       " 'fizz',\n",
       " 88,\n",
       " 89,\n",
       " 'fizzbuzz',\n",
       " 91,\n",
       " 92,\n",
       " 'fizz',\n",
       " 94,\n",
       " 'buzz',\n",
       " 'fizz',\n",
       " 97,\n",
       " 98,\n",
       " 'fizz',\n",
       " 'buzz']"
      ]
     },
     "execution_count": 28,
     "metadata": {},
     "output_type": "execute_result"
    }
   ],
   "source": [
    "new_lst"
   ]
  },
  {
   "cell_type": "code",
   "execution_count": 2,
   "metadata": {},
   "outputs": [],
   "source": [
    "import numpy as np"
   ]
  },
  {
   "cell_type": "code",
   "execution_count": 5,
   "metadata": {},
   "outputs": [
    {
     "data": {
      "text/plain": [
       "(3, 3)"
      ]
     },
     "execution_count": 5,
     "metadata": {},
     "output_type": "execute_result"
    }
   ],
   "source": [
    "a = np.random.randn(3,3)\n",
    "b= np.random.randn(3,1)\n",
    "c=a*b\n",
    "c.shape"
   ]
  },
  {
   "cell_type": "code",
   "execution_count": 6,
   "metadata": {},
   "outputs": [
    {
     "name": "stdout",
     "output_type": "stream",
     "text": [
      "[[-0.46994991  0.09224717 -0.48789704]\n",
      " [ 0.27379405  0.11829277  0.16490788]\n",
      " [-0.23022932  0.13636766 -1.36238395]]\n"
     ]
    }
   ],
   "source": [
    "print(c)"
   ]
  },
  {
   "cell_type": "code",
   "execution_count": 7,
   "metadata": {},
   "outputs": [
    {
     "name": "stdout",
     "output_type": "stream",
     "text": [
      "[[-1.98708487  0.39004786 -2.06297055]\n",
      " [ 1.33286439  0.5758643   0.8027926 ]\n",
      " [-0.29577828  0.17519312 -1.7502705 ]]\n"
     ]
    }
   ],
   "source": [
    "print(a)"
   ]
  },
  {
   "cell_type": "code",
   "execution_count": 8,
   "metadata": {},
   "outputs": [
    {
     "name": "stdout",
     "output_type": "stream",
     "text": [
      "[[0.23650218]\n",
      " [0.20541778]\n",
      " [0.7783848 ]]\n"
     ]
    }
   ],
   "source": [
    "print(b)"
   ]
  },
  {
   "cell_type": "code",
   "execution_count": 13,
   "metadata": {},
   "outputs": [],
   "source": [
    "a=np.arange(1,10,1).reshape(3,3)\n",
    "b=np.arange(2,8,2).reshape(3,1)"
   ]
  },
  {
   "cell_type": "code",
   "execution_count": 14,
   "metadata": {},
   "outputs": [
    {
     "data": {
      "text/plain": [
       "array([[1, 2, 3],\n",
       "       [4, 5, 6],\n",
       "       [7, 8, 9]])"
      ]
     },
     "execution_count": 14,
     "metadata": {},
     "output_type": "execute_result"
    }
   ],
   "source": [
    "a"
   ]
  },
  {
   "cell_type": "code",
   "execution_count": 15,
   "metadata": {},
   "outputs": [
    {
     "data": {
      "text/plain": [
       "array([[2],\n",
       "       [4],\n",
       "       [6]])"
      ]
     },
     "execution_count": 15,
     "metadata": {},
     "output_type": "execute_result"
    }
   ],
   "source": [
    "b"
   ]
  },
  {
   "cell_type": "code",
   "execution_count": 16,
   "metadata": {},
   "outputs": [
    {
     "data": {
      "text/plain": [
       "array([[ 2,  4,  6],\n",
       "       [16, 20, 24],\n",
       "       [42, 48, 54]])"
      ]
     },
     "execution_count": 16,
     "metadata": {},
     "output_type": "execute_result"
    }
   ],
   "source": [
    "a*b"
   ]
  },
  {
   "cell_type": "code",
   "execution_count": 3,
   "metadata": {},
   "outputs": [
    {
     "data": {
      "text/plain": [
       "(4, 1)"
      ]
     },
     "execution_count": 3,
     "metadata": {},
     "output_type": "execute_result"
    }
   ],
   "source": [
    "A= np.random.randn(4,3)\n",
    "B= np.sum(A, axis=1, keepdims=True)\n",
    "B.shape"
   ]
  },
  {
   "cell_type": "code",
   "execution_count": null,
   "metadata": {},
   "outputs": [],
   "source": []
  }
 ],
 "metadata": {
  "kernelspec": {
   "display_name": "Python 3",
   "language": "python",
   "name": "python3"
  },
  "language_info": {
   "codemirror_mode": {
    "name": "ipython",
    "version": 3
   },
   "file_extension": ".py",
   "mimetype": "text/x-python",
   "name": "python",
   "nbconvert_exporter": "python",
   "pygments_lexer": "ipython3",
   "version": "3.7.3"
  }
 },
 "nbformat": 4,
 "nbformat_minor": 4
}
