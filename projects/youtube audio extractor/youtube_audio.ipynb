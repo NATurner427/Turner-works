{
 "cells": [
  {
   "cell_type": "code",
   "execution_count": 1,
   "metadata": {},
   "outputs": [],
   "source": [
    "\n",
    "import youtube_dl\n",
    "import os.path"
   ]
  },
  {
   "cell_type": "code",
   "execution_count": 13,
   "metadata": {
    "scrolled": true
   },
   "outputs": [
    {
     "name": "stdout",
     "output_type": "stream",
     "text": [
      "[youtube] GfxVITaXZo0: Downloading webpage\n",
      "[youtube] GfxVITaXZo0: Downloading video info webpage\n",
      "[download] Destination: ..\\..\\..\\HOU 18\\HOU AT TEX - March 30, 2018.webm\n",
      "[download] 100% of 125.40MiB in 00:09                          \n",
      "[youtube] GfxVITaXZo0: Downloading webpage\n",
      "[youtube] GfxVITaXZo0: Downloading video info webpage\n",
      "[download] ..\\..\\..\\HOU 18\\HOU AT TEX - March 30, 2018.webm has already been downloaded\n",
      "[download] 100% of 125.40MiB\n"
     ]
    }
   ],
   "source": [
    "#url\n",
    "x='https://www.youtube.com/watch?v=GfxVITaXZo0'\n",
    "#directory path\n",
    "path='../../../HOU 18/'\n",
    "\n",
    "\n",
    "#youtube downloader \n",
    "opt = {'outtmpl':path+u'%(title)s.%(ext)s' ,'format':'bestaudio'}\n",
    "      \n",
    "ydl= youtube_dl.YoutubeDL(opt)\n",
    "\n",
    "with ydl:\n",
    "          r=ydl.extract_info(x,download=True)\n",
    "    \n",
    "          ydl.download([x])"
   ]
  },
  {
   "cell_type": "code",
   "execution_count": null,
   "metadata": {},
   "outputs": [],
   "source": []
  }
 ],
 "metadata": {
  "kernelspec": {
   "display_name": "Python 3",
   "language": "python",
   "name": "python3"
  },
  "language_info": {
   "codemirror_mode": {
    "name": "ipython",
    "version": 3
   },
   "file_extension": ".py",
   "mimetype": "text/x-python",
   "name": "python",
   "nbconvert_exporter": "python",
   "pygments_lexer": "ipython3",
   "version": "3.7.3"
  }
 },
 "nbformat": 4,
 "nbformat_minor": 2
}
