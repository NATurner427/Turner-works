{
 "cells": [
  {
   "cell_type": "code",
   "execution_count": 2,
   "metadata": {},
   "outputs": [],
   "source": [
    "from __future__ import unicode_literals\n",
    "import youtube_dl\n",
    "import os.path"
   ]
  },
  {
   "cell_type": "code",
   "execution_count": 12,
   "metadata": {},
   "outputs": [
    {
     "name": "stdout",
     "output_type": "stream",
     "text": [
      "[youtube] jIxfVSS_65o: Downloading webpage\n",
      "[youtube] jIxfVSS_65o: Downloading video info webpage\n"
     ]
    }
   ],
   "source": [
    "x='https://www.youtube.com/watch?v=jIxfVSS_65o'\n",
    "\n",
    "with youtube_dl.YoutubeDL(opt) as ydl:\n",
    "          r=ydl.extract_info(x,download=False)\n",
    "        \n",
    "opt = {'outtmpl':\"r['title']\",'format':'bestaudio/best',\n",
    "      # 'postprocessors' : [{'key':'FFmpegExtractAudio','preferredcodedc':'mp3'}]\n",
    "      }\n",
    "with youtube_dl.YoutubeDL(opt) as ydl:\n",
    "          ydl.download([x])"
   ]
  },
  {
   "cell_type": "code",
   "execution_count": null,
   "metadata": {},
   "outputs": [],
   "source": []
  }
 ],
 "metadata": {
  "kernelspec": {
   "display_name": "Python 3",
   "language": "python",
   "name": "python3"
  },
  "language_info": {
   "codemirror_mode": {
    "name": "ipython",
    "version": 3
   },
   "file_extension": ".py",
   "mimetype": "text/x-python",
   "name": "python",
   "nbconvert_exporter": "python",
   "pygments_lexer": "ipython3",
   "version": "3.7.3"
  }
 },
 "nbformat": 4,
 "nbformat_minor": 2
}
