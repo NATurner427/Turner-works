{
 "cells": [
  {
   "cell_type": "markdown",
   "metadata": {},
   "source": [
    "# Columbus Metro Area and Ohio Corona Virus"
   ]
  },
  {
   "cell_type": "markdown",
   "metadata": {},
   "source": [
    "I learned a lot from my previous iteration of this code, and created a new project that removes that learning and note taking to streamline and build on my COMA area project.\n",
    "\n",
    "I found a paper that describes imporvements to the SIR model (vaccinations, death, reinfection) that I want to implement here. I also want to input actual COMA data. So I will tabulate that here."
   ]
  },
  {
   "cell_type": "code",
   "execution_count": 93,
   "metadata": {},
   "outputs": [
    {
     "data": {
      "text/html": [
       "        <script type=\"text/javascript\">\n",
       "        window.PlotlyConfig = {MathJaxConfig: 'local'};\n",
       "        if (window.MathJax) {MathJax.Hub.Config({SVG: {font: \"STIX-Web\"}});}\n",
       "        if (typeof require !== 'undefined') {\n",
       "        require.undef(\"plotly\");\n",
       "        requirejs.config({\n",
       "            paths: {\n",
       "                'plotly': ['https://cdn.plot.ly/plotly-latest.min']\n",
       "            }\n",
       "        });\n",
       "        require(['plotly'], function(Plotly) {\n",
       "            window._Plotly = Plotly;\n",
       "        });\n",
       "        }\n",
       "        </script>\n",
       "        "
      ]
     },
     "metadata": {},
     "output_type": "display_data"
    }
   ],
   "source": [
    "import numpy as np\n",
    "import pandas as pd\n",
    "import matplotlib.pyplot as plt\n",
    "import matplotlib\n",
    "from matplotlib.font_manager import FontProperties\n",
    "import math\n",
    "%matplotlib inline\n",
    "import plotly.figure_factory as ff\n",
    "import plotly.express as px\n",
    "# make font legible size\n",
    "font={'size':18}\n",
    "\n",
    "matplotlib.rc('font',**font)\n",
    "\n",
    "from urllib.request import urlopen\n",
    "import json\n",
    "\n",
    "from ipywidgets import interact, interactive,fixed\n",
    "from IPython.display import clear_output,display,HTML\n",
    "\n",
    "from matplotlib import animation\n",
    "\n",
    "import cufflinks as cf\n",
    "import plotly.offline\n",
    "cf.go_offline()\n",
    "cf.set_config_file(offline=False, world_readable=True)"
   ]
  },
  {
   "cell_type": "code",
   "execution_count": 105,
   "metadata": {},
   "outputs": [],
   "source": [
    "OHIO=pd.read_csv('Ohio Corona- County and Day.csv')"
   ]
  },
  {
   "cell_type": "code",
   "execution_count": 124,
   "metadata": {
    "scrolled": false
   },
   "outputs": [],
   "source": [
    "def County(OHIO,County,day):\n",
    "    \n",
    "    county=OHIO[OHIO['County']==County]\n",
    "    data=county.iloc[0:,list(np.arange(4,day+5,1))]\n",
    "    x=OHIO.columns.values.tolist()[4:day+5]\n",
    "    fig, ax = plt.subplots(figsize=(9,7))\n",
    "    line_c, = ax.plot(x,data.values.tolist()[0],'r-', )\n",
    "    ax.set_title(f'{County} Infection over time')\n",
    "    ax.set_ylabel('Cases')\n",
    "    ax.set_xlabel('Days')\n",
    "    ax.set_xlim(0,15)\n",
    "    #ax.set_ylim(-5,1050)\n",
    "    ax.xaxis.grid()\n",
    "    ax.yaxis.grid()\n"
   ]
  },
  {
   "cell_type": "code",
   "execution_count": 100,
   "metadata": {
    "scrolled": false
   },
   "outputs": [],
   "source": [
    "def Ohio(OHIO,day):\n",
    "    day=str(day)\n",
    "    with urlopen('https://raw.githubusercontent.com/plotly/datasets/master/geojson-counties-fips.json') as response:\n",
    "        counties = json.load(response)\n",
    "\n",
    "    fig=px.choropleth_mapbox(OHIO, geojson=counties, locations='FIPS',color=day,mapbox_style='carto-positron',hover_name='County', \n",
    "                             range_color=(0,150),color_continuous_scale='Reds',zoom=5.9, center = {\"lat\": 40, \"lon\": -83},\n",
    "                               opacity=0.33,title='Coronavirus in Ohio')\n",
    "\n",
    "    fig.update_layout(margin={'r':0,'t':0,'l':0,'b':0})\n",
    "    fig.show()"
   ]
  },
  {
   "cell_type": "code",
   "execution_count": 102,
   "metadata": {
    "scrolled": false
   },
   "outputs": [
    {
     "data": {
      "application/vnd.jupyter.widget-view+json": {
       "model_id": "2f8c60427365423db4d77466561f6d36",
       "version_major": 2,
       "version_minor": 0
      },
      "text/plain": [
       "interactive(children=(IntSlider(value=7, description='day', max=15), Output()), _dom_classes=('widget-interact…"
      ]
     },
     "metadata": {},
     "output_type": "display_data"
    },
    {
     "data": {
      "text/plain": [
       "<function __main__.Ohio(OHIO, day)>"
      ]
     },
     "metadata": {},
     "output_type": "display_data"
    }
   ],
   "source": [
    "w=interact(Ohio,OHIO=fixed(OHIO),day=(0,15),continous_update=False)\n",
    "display(w);"
   ]
  },
  {
   "cell_type": "code",
   "execution_count": 125,
   "metadata": {
    "scrolled": false
   },
   "outputs": [
    {
     "data": {
      "application/vnd.jupyter.widget-view+json": {
       "model_id": "2936af7ab6a84ce78e7b4897bb0f81a2",
       "version_major": 2,
       "version_minor": 0
      },
      "text/plain": [
       "interactive(children=(Dropdown(description='County', options=('Adams', 'Allen', 'Ashland', 'Ashtabula', 'Athen…"
      ]
     },
     "metadata": {},
     "output_type": "display_data"
    }
   ],
   "source": [
    "w2=interactive(County,OHIO=fixed(OHIO),County=OHIO['County'].values.tolist(),day=fixed(15))\n",
    "display(w2);"
   ]
  },
  {
   "cell_type": "code",
   "execution_count": 10,
   "metadata": {
    "scrolled": false
   },
   "outputs": [
    {
     "name": "stdout",
     "output_type": "stream",
     "text": [
      "Basic Repoduction number is 2.50 and susceptible population fraction is 1.00\n",
      "2.50 is over 1: Endemic disease\n",
      "2.50 is over 1 even after mitgation: Still endemic disease\n",
      "peak hospitalization sickness occured on day 37.0 with 66121.0 infected\n",
      "\n"
     ]
    },
    {
     "data": {
      "image/png": "[encoded data removed]",
      "text/plain": [
       "<Figure size 864x720 with 1 Axes>"
      ]
     },
     "metadata": {
      "needs_background": "light"
     },
     "output_type": "display_data"
    }
   ],
   "source": [
    "#population\n",
    "N=N_u+N_s+N_r\n",
    "\n",
    "#initial infected \n",
    "I_o=1\n",
    "i_o=I_o/N\n",
    "\n",
    "#initial suceptible\n",
    "S_o=N-I_o\n",
    "\n",
    "s_o=S_o/N\n",
    "\n",
    "\n",
    "#initial recovered\n",
    "R_o=0\n",
    "r_o=R_o/N\n",
    "\n",
    "#days out\n",
    "days=250\n",
    "\n",
    "#make time range in days with a set increment size\n",
    "day_o=0\n",
    "increment=days*24\n",
    "time=np.linspace(day_o,days,increment+1)\n",
    "#step size\n",
    "step=days/(increment)\n",
    "\n",
    "#contamination\n",
    "\n",
    "b=.673\n",
    "\n",
    "#recovery\n",
    "k=.2693\n",
    "\n",
    "#transit parameter\n",
    "trav=0.0\n",
    "\n",
    "#mitigate day in days\n",
    "mitigate=0\n",
    "off = 0\n",
    "#mitigate effectiveness 1 off 0 ideal\n",
    "m=1\n",
    "b_m=b*m\n",
    "\n",
    "Ro=b/k\n",
    "Rom=b_m/k\n",
    "check=s_o*Ro\n",
    "checkm=s_o*Rom\n",
    "print(f'Basic Repoduction number is {Ro:.2f} and susceptible population fraction is {s_o:.2f}')\n",
    "if check >= 1:\n",
    "    print(f'{check:.2f} is over 1: Endemic disease')\n",
    "    if checkm >= 1:\n",
    "        print(f'{checkm:.2f} is over 1 even after mitgation: Still endemic disease') \n",
    "        \n",
    "    elif checkm < 1:\n",
    "        print(f'{checkm:.2f} is now under 1 crisis averted') \n",
    "        \n",
    "elif check <1:\n",
    "    print(f'{check:.2f} is under 1: ok')\n",
    "# lists to be filled with s r and i functions\n",
    "s=[]\n",
    "i=[]\n",
    "r=[]\n",
    "\n",
    "#loop\n",
    "while day_o < days:\n",
    "\n",
    "    #get first values using initial conditions\n",
    "    if day_o==0:\n",
    "        \n",
    "        \n",
    "        s.append(s_o)\n",
    "      \n",
    "        i.append(i_o)\n",
    "      \n",
    "        r.append(r_o)\n",
    "        \n",
    "    else:\n",
    "        if day_o < mitigate or day_o > off:\n",
    "            s_n=(s[-1])-b*(s[-1])*(i[-1])*step\n",
    "            \n",
    "            s.append(s_n)\n",
    "\n",
    "            r_n=(r[-1])+k*(i[-1])*step\n",
    "            \n",
    "            r.append(r_n)\n",
    "\n",
    "            i_n=(i[-1])+(b*s[-1]*i[-1]-k*i[-1])*step\n",
    "            \n",
    "            i.append(i_n)\n",
    "        \n",
    "        elif day_o >= mitigate and day_o <= off:\n",
    "            \n",
    "            s_n=(s[-1])-b_m*(s[-1])*(i[-1])*step\n",
    "            \n",
    "            s.append(s_n)\n",
    "\n",
    "            r_n=(r[-1])+k*(i[-1])*step\n",
    "            \n",
    "            r.append(r_n)\n",
    "\n",
    "            i_n=(i[-1])+(b_m*s[-1]*i[-1]-k*i[-1])*step\n",
    "            \n",
    "            i.append(i_n)\n",
    "\n",
    "\n",
    "    day_o+=step\n",
    "#get values in terms of population\n",
    "S=[x*N for x in s]\n",
    "I=[x*N for x in i]\n",
    "R=[x*N for x in r]\n",
    "\n",
    "# find hospital population by multiplying infected by 0.15\n",
    "hosp=[x*0.15 for x in i]\n",
    "HOSP=[x*N for x in hosp]\n",
    "\n",
    "\n",
    "fig, ax = plt.subplots(figsize=(12,10))\n",
    "line_s, = ax.plot(time,s,'r.', )\n",
    "line_i,=ax.plot(time,i,'b.')\n",
    "line_r,=ax.plot(time,r,'g.')\n",
    "line_hosp,=ax.plot(time,hosp,'k.')\n",
    "\n",
    "ax.set_title(f'COMA Infection over time')\n",
    "ax.set_ylabel('Population percentage')\n",
    "ax.set_xlabel('Days')\n",
    "ax.set_xlim(0,days)\n",
    "#ax.set_ylim(-5,1050)\n",
    "ax.xaxis.grid()\n",
    "ax.yaxis.grid()\n",
    "\n",
    "#legend\n",
    "line_s.set_label('Total Susceptible')\n",
    "line_i.set_label('Total Infected')\n",
    "line_r.set_label('Total Recovered')\n",
    "line_hosp.set_label('Required Hospitalizations')\n",
    "leg=ax.legend(fontsize=16)\n",
    "\n",
    "\n",
    "#find peak hospitalization\n",
    "max_val = max(HOSP)\n",
    "max_idx = HOSP.index(max_val)/24\n",
    "\n",
    "#create informative title and export figure\n",
    "print(f'peak hospitalization sickness occured on day {np.floor(max_idx)} with {np.floor(max_val)} infected\\n')\n",
    "ax.set_title(f'COMA Infection over time \\n hospital peak on day {np.floor(max_idx):.0f} with {np.floor(max_val):.0f}\\n Mitigation on day {mitigate} with {(1-m)*100:.2f}% effectiveness ')\n",
    "plt.tight_layout()\n",
    "fig.savefig(f'figures/COMA Corona - day {mitigate} mitigation with {(1-m)*100:.2f}% effectiveness day 63 off.tif',dpi=150)"
   ]
  },
  {
   "cell_type": "code",
   "execution_count": 56,
   "metadata": {},
   "outputs": [
    {
     "data": {
      "text/plain": [
       "405.2674753550172"
      ]
     },
     "execution_count": 56,
     "metadata": {},
     "output_type": "execute_result"
    }
   ],
   "source": [
    "I[15*24]"
   ]
  },
  {
   "cell_type": "code",
   "execution_count": 58,
   "metadata": {},
   "outputs": [
    {
     "data": {
      "text/plain": [
       "0.12598425196850394"
      ]
     },
     "execution_count": 58,
     "metadata": {},
     "output_type": "execute_result"
    }
   ],
   "source": [
    "32/254"
   ]
  },
  {
   "cell_type": "code",
   "execution_count": null,
   "metadata": {},
   "outputs": [],
   "source": []
  }
 ],
 "metadata": {
  "kernelspec": {
   "display_name": "Python 3",
   "language": "python",
   "name": "python3"
  },
  "language_info": {
   "codemirror_mode": {
    "name": "ipython",
    "version": 3
   },
   "file_extension": ".py",
   "mimetype": "text/x-python",
   "name": "python",
   "nbconvert_exporter": "python",
   "pygments_lexer": "ipython3",
   "version": "3.7.3"
  }
 },
 "nbformat": 4,
 "nbformat_minor": 2
}
