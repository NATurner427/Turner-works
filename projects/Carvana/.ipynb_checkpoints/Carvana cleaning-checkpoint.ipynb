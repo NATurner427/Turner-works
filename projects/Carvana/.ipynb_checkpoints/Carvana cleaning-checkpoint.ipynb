{
 "cells": [
  {
   "cell_type": "code",
   "execution_count": 3,
   "metadata": {},
   "outputs": [],
   "source": [
    "import numpy as np\n",
    "import pandas as pd\n",
    "from numpy.random import randn\n",
    "from IPython.display import clear_output"
   ]
  },
  {
   "cell_type": "code",
   "execution_count": 5,
   "metadata": {
    "scrolled": false
   },
   "outputs": [],
   "source": [
    "cars=pd.read_csv('Reynoldsburg Carvana.csv')"
   ]
  },
  {
   "cell_type": "code",
   "execution_count": 16,
   "metadata": {},
   "outputs": [
    {
     "data": {
      "text/html": [
       "<div>\n",
       "<style scoped>\n",
       "    .dataframe tbody tr th:only-of-type {\n",
       "        vertical-align: middle;\n",
       "    }\n",
       "\n",
       "    .dataframe tbody tr th {\n",
       "        vertical-align: top;\n",
       "    }\n",
       "\n",
       "    .dataframe thead th {\n",
       "        text-align: right;\n",
       "    }\n",
       "</style>\n",
       "<table border=\"1\" class=\"dataframe\">\n",
       "  <thead>\n",
       "    <tr style=\"text-align: right;\">\n",
       "      <th></th>\n",
       "      <th>YEAR</th>\n",
       "      <th>BRAND</th>\n",
       "      <th>MAKE</th>\n",
       "      <th>TRIM</th>\n",
       "      <th>PRICE</th>\n",
       "      <th>MILES</th>\n",
       "      <th>SHIP</th>\n",
       "      <th>PAGE</th>\n",
       "      <th>ENTRY</th>\n",
       "    </tr>\n",
       "  </thead>\n",
       "  <tbody>\n",
       "    <tr>\n",
       "      <th>0</th>\n",
       "      <td>2017</td>\n",
       "      <td>HYUNDAI</td>\n",
       "      <td>SONATA</td>\n",
       "      <td>SE</td>\n",
       "      <td>14,600</td>\n",
       "      <td>24,223 miles</td>\n",
       "      <td>Shipping: $300</td>\n",
       "      <td>1</td>\n",
       "      <td>1</td>\n",
       "    </tr>\n",
       "    <tr>\n",
       "      <th>1</th>\n",
       "      <td>2017</td>\n",
       "      <td>KIA</td>\n",
       "      <td>SPORTAGE</td>\n",
       "      <td>EX</td>\n",
       "      <td>21,400</td>\n",
       "      <td>2,948 miles</td>\n",
       "      <td>Free Shipping</td>\n",
       "      <td>1</td>\n",
       "      <td>2</td>\n",
       "    </tr>\n",
       "    <tr>\n",
       "      <th>2</th>\n",
       "      <td>2019</td>\n",
       "      <td>CHRYSLER</td>\n",
       "      <td>PACIFICA</td>\n",
       "      <td>Limited</td>\n",
       "      <td>34,400</td>\n",
       "      <td>24,928 miles</td>\n",
       "      <td>Shipping: $200</td>\n",
       "      <td>1</td>\n",
       "      <td>3</td>\n",
       "    </tr>\n",
       "    <tr>\n",
       "      <th>3</th>\n",
       "      <td>2017</td>\n",
       "      <td>HYUNDAI</td>\n",
       "      <td>TUCSON</td>\n",
       "      <td>SE</td>\n",
       "      <td>15,600</td>\n",
       "      <td>34,179 miles</td>\n",
       "      <td>Shipping: $300</td>\n",
       "      <td>1</td>\n",
       "      <td>4</td>\n",
       "    </tr>\n",
       "    <tr>\n",
       "      <th>4</th>\n",
       "      <td>2017</td>\n",
       "      <td>NISSAN</td>\n",
       "      <td>ROGUE</td>\n",
       "      <td>SV</td>\n",
       "      <td>16,600</td>\n",
       "      <td>32,046 miles</td>\n",
       "      <td>Shipping: $300</td>\n",
       "      <td>1</td>\n",
       "      <td>5</td>\n",
       "    </tr>\n",
       "  </tbody>\n",
       "</table>\n",
       "</div>"
      ],
      "text/plain": [
       "   YEAR     BRAND      MAKE     TRIM   PRICE         MILES            SHIP  \\\n",
       "0  2017   HYUNDAI    SONATA       SE  14,600  24,223 miles  Shipping: $300   \n",
       "1  2017       KIA  SPORTAGE       EX  21,400   2,948 miles   Free Shipping   \n",
       "2  2019  CHRYSLER  PACIFICA  Limited  34,400  24,928 miles  Shipping: $200   \n",
       "3  2017   HYUNDAI    TUCSON       SE  15,600  34,179 miles  Shipping: $300   \n",
       "4  2017    NISSAN     ROGUE       SV  16,600  32,046 miles  Shipping: $300   \n",
       "\n",
       "   PAGE  ENTRY  \n",
       "0     1      1  \n",
       "1     1      2  \n",
       "2     1      3  \n",
       "3     1      4  \n",
       "4     1      5  "
      ]
     },
     "execution_count": 16,
     "metadata": {},
     "output_type": "execute_result"
    }
   ],
   "source": [
    "cars.head()"
   ]
  },
  {
   "cell_type": "code",
   "execution_count": 15,
   "metadata": {
    "scrolled": true
   },
   "outputs": [
    {
     "data": {
      "text/html": [
       "<div>\n",
       "<style scoped>\n",
       "    .dataframe tbody tr th:only-of-type {\n",
       "        vertical-align: middle;\n",
       "    }\n",
       "\n",
       "    .dataframe tbody tr th {\n",
       "        vertical-align: top;\n",
       "    }\n",
       "\n",
       "    .dataframe thead th {\n",
       "        text-align: right;\n",
       "    }\n",
       "</style>\n",
       "<table border=\"1\" class=\"dataframe\">\n",
       "  <thead>\n",
       "    <tr style=\"text-align: right;\">\n",
       "      <th></th>\n",
       "      <th>YEAR</th>\n",
       "      <th>BRAND</th>\n",
       "      <th>MAKE</th>\n",
       "      <th>TRIM</th>\n",
       "      <th>PRICE</th>\n",
       "      <th>MILES</th>\n",
       "      <th>SHIP</th>\n",
       "      <th>PAGE</th>\n",
       "      <th>ENTRY</th>\n",
       "    </tr>\n",
       "  </thead>\n",
       "  <tbody>\n",
       "    <tr>\n",
       "      <th>8961</th>\n",
       "      <td>2020</td>\n",
       "      <td>TOYOTA</td>\n",
       "      <td>GR SUPRA</td>\n",
       "      <td>3</td>\n",
       "      <td>54,900</td>\n",
       "      <td>1,061 miles</td>\n",
       "      <td>Free Shipping</td>\n",
       "      <td>449</td>\n",
       "      <td>2</td>\n",
       "    </tr>\n",
       "  </tbody>\n",
       "</table>\n",
       "</div>"
      ],
      "text/plain": [
       "      YEAR   BRAND      MAKE TRIM   PRICE        MILES           SHIP  PAGE  \\\n",
       "8961  2020  TOYOTA  GR SUPRA    3  54,900  1,061 miles  Free Shipping   449   \n",
       "\n",
       "      ENTRY  \n",
       "8961      2  "
      ]
     },
     "execution_count": 15,
     "metadata": {},
     "output_type": "execute_result"
    }
   ],
   "source": [
    "cars.loc[cars['YEAR']==2020]\n",
    "#dang. 55k toyota sports car hidden on carvana page 449, only 1000 miles on it too."
   ]
  },
  {
   "cell_type": "markdown",
   "metadata": {},
   "source": [
    "## clean price column"
   ]
  },
  {
   "cell_type": "code",
   "execution_count": 70,
   "metadata": {},
   "outputs": [],
   "source": [
    "price=[]\n",
    "dummy=[]\n",
    "for x in cars['PRICE']:\n",
    "    y=x.replace(',','')\n",
    "    price.append(int(y))\n",
    "    dummy.append(int(1))"
   ]
  },
  {
   "cell_type": "markdown",
   "metadata": {},
   "source": [
    "## clean miles column"
   ]
  },
  {
   "cell_type": "code",
   "execution_count": 60,
   "metadata": {
    "scrolled": true
   },
   "outputs": [],
   "source": [
    "miles=[]\n",
    "\n",
    "for x in cars['MILES']:\n",
    "    y=x.replace(' miles','')\n",
    "    z=y.replace(',','')\n",
    "    miles.append(int(z))"
   ]
  },
  {
   "cell_type": "markdown",
   "metadata": {},
   "source": [
    "## clean shipping column"
   ]
  },
  {
   "cell_type": "code",
   "execution_count": 67,
   "metadata": {},
   "outputs": [],
   "source": [
    "shipping=[]\n",
    "\n",
    "for x in cars['SHIP']:\n",
    "    if x =='Free Shipping':\n",
    "        shipping.append(int(0))\n",
    "    else:\n",
    "        y=x.replace('Shipping: $','')\n",
    "        shipping.append(int(y))"
   ]
  },
  {
   "cell_type": "markdown",
   "metadata": {},
   "source": [
    "## replace columns with cleaned"
   ]
  },
  {
   "cell_type": "code",
   "execution_count": 71,
   "metadata": {},
   "outputs": [],
   "source": [
    "del cars['MILES']\n",
    "del cars['PRICE']\n",
    "del cars['SHIP']\n",
    "\n"
   ]
  },
  {
   "cell_type": "code",
   "execution_count": 76,
   "metadata": {},
   "outputs": [],
   "source": [
    "cars['PRICE']=price\n",
    "cars['MILES']=miles\n",
    "cars['SHIPPING']=shipping\n",
    "cars['dummy']=dummy"
   ]
  },
  {
   "cell_type": "markdown",
   "metadata": {},
   "source": [
    "## remove car brands with less than 100 entries and not going to use make or trim"
   ]
  },
  {
   "cell_type": "code",
   "execution_count": 91,
   "metadata": {},
   "outputs": [],
   "source": [
    "lst=[]\n",
    "for brand,x in cars['BRAND'].value_counts().iteritems():\n",
    "    if x>=100:\n",
    "        lst.append(brand)\n",
    "\n",
    "cleaned_cars=cars[cars['BRAND'].isin(lst)]\n",
    "\n",
    "del cleaned_cars['MAKE']\n",
    "del cleaned_cars['TRIM']\n",
    "\n",
    "#lst= ['CHEVROLET', 'FORD', 'HYUNDAI', 'TOYOTA', 'JEEP', 'VOLKSWAGEN', 'NISSAN', \n",
    "#'KIA', 'BUICK', 'DODGE', 'HONDA', 'GMC', 'SUBARU', 'INFINITI', 'MAZDA', 'CADILLAC', 'FIAT', 'LEXUS', 'BMW']"
   ]
  },
  {
   "cell_type": "markdown",
   "metadata": {},
   "source": [
    "## create and fill categorical columns for each brand "
   ]
  },
  {
   "cell_type": "code",
   "execution_count": 117,
   "metadata": {
    "scrolled": true
   },
   "outputs": [
    {
     "name": "stderr",
     "output_type": "stream",
     "text": [
      "C:\\Users\\16142\\Anaconda3\\lib\\site-packages\\ipykernel_launcher.py:2: SettingWithCopyWarning: \n",
      "A value is trying to be set on a copy of a slice from a DataFrame.\n",
      "Try using .loc[row_indexer,col_indexer] = value instead\n",
      "\n",
      "See the caveats in the documentation: http://pandas.pydata.org/pandas-docs/stable/indexing.html#indexing-view-versus-copy\n",
      "  \n"
     ]
    }
   ],
   "source": [
    "for x in lst:\n",
    "    cleaned_cars[x]=0\n",
    "    "
   ]
  },
  {
   "cell_type": "code",
   "execution_count": 123,
   "metadata": {},
   "outputs": [
    {
     "name": "stdout",
     "output_type": "stream",
     "text": [
      "33310\n",
      "33320\n",
      "33330\n",
      "33340\n"
     ]
    }
   ],
   "source": [
    "for index,x in cleaned_cars.iterrows():\n",
    "     cleaned_cars[x[1]].loc[index]=int(1)\n",
    "   "
   ]
  },
  {
   "cell_type": "markdown",
   "metadata": {},
   "source": [
    "## Remove duplicate rows\n",
    "\n",
    "noticed towards the end that carvana was repeating the same page of cars over and over, that would lead to oversampling, so those rows were removed. \n",
    "\n",
    "should have done this before ennumerating categorical columns, the deduping process cut out 20k!!!! rows!\n",
    "\n",
    "For me to remove a row I had to have the columns match year, brand, price, milage, and shipping cost. So the possibility of the deleted row being real is slim to none. Carvana really ballons their stock... "
   ]
  },
  {
   "cell_type": "code",
   "execution_count": 137,
   "metadata": {},
   "outputs": [
    {
     "data": {
      "text/plain": [
       "Index(['YEAR', 'BRAND', 'PAGE', 'ENTRY', 'PRICE', 'MILES', 'SHIPPING', 'dummy',\n",
       "       'CHEVROLET', 'FORD', 'HYUNDAI', 'TOYOTA', 'JEEP', 'VOLKSWAGEN',\n",
       "       'NISSAN', 'KIA', 'BUICK', 'DODGE', 'HONDA', 'GMC', 'SUBARU', 'INFINITI',\n",
       "       'MAZDA', 'CADILLAC', 'FIAT', 'LEXUS', 'BMW'],\n",
       "      dtype='object')"
      ]
     },
     "execution_count": 137,
     "metadata": {},
     "output_type": "execute_result"
    }
   ],
   "source": [
    "cleaned_cars.columns"
   ]
  },
  {
   "cell_type": "code",
   "execution_count": 178,
   "metadata": {},
   "outputs": [],
   "source": [
    "dedup=cleaned_cars[~cleaned_cars.duplicated(['YEAR']+['BRAND']+['PRICE']+['MILES']+['SHIPPING'],keep='first')]"
   ]
  },
  {
   "cell_type": "code",
   "execution_count": 180,
   "metadata": {},
   "outputs": [],
   "source": [
    "dedup.to_csv('Cleaned_Carvana.csv',index=False)"
   ]
  },
  {
   "cell_type": "code",
   "execution_count": 169,
   "metadata": {
    "scrolled": true
   },
   "outputs": [
    {
     "data": {
      "text/html": [
       "<div>\n",
       "<style scoped>\n",
       "    .dataframe tbody tr th:only-of-type {\n",
       "        vertical-align: middle;\n",
       "    }\n",
       "\n",
       "    .dataframe tbody tr th {\n",
       "        vertical-align: top;\n",
       "    }\n",
       "\n",
       "    .dataframe thead th {\n",
       "        text-align: right;\n",
       "    }\n",
       "</style>\n",
       "<table border=\"1\" class=\"dataframe\">\n",
       "  <thead>\n",
       "    <tr style=\"text-align: right;\">\n",
       "      <th></th>\n",
       "      <th>YEAR</th>\n",
       "      <th>BRAND</th>\n",
       "      <th>PAGE</th>\n",
       "      <th>ENTRY</th>\n",
       "      <th>PRICE</th>\n",
       "      <th>MILES</th>\n",
       "      <th>SHIPPING</th>\n",
       "      <th>dummy</th>\n",
       "      <th>CHEVROLET</th>\n",
       "      <th>FORD</th>\n",
       "      <th>...</th>\n",
       "      <th>DODGE</th>\n",
       "      <th>HONDA</th>\n",
       "      <th>GMC</th>\n",
       "      <th>SUBARU</th>\n",
       "      <th>INFINITI</th>\n",
       "      <th>MAZDA</th>\n",
       "      <th>CADILLAC</th>\n",
       "      <th>FIAT</th>\n",
       "      <th>LEXUS</th>\n",
       "      <th>BMW</th>\n",
       "    </tr>\n",
       "  </thead>\n",
       "  <tbody>\n",
       "    <tr>\n",
       "      <th>8961</th>\n",
       "      <td>2020</td>\n",
       "      <td>TOYOTA</td>\n",
       "      <td>449</td>\n",
       "      <td>2</td>\n",
       "      <td>54900</td>\n",
       "      <td>1061</td>\n",
       "      <td>0</td>\n",
       "      <td>1</td>\n",
       "      <td>0</td>\n",
       "      <td>0</td>\n",
       "      <td>...</td>\n",
       "      <td>0</td>\n",
       "      <td>0</td>\n",
       "      <td>0</td>\n",
       "      <td>0</td>\n",
       "      <td>0</td>\n",
       "      <td>0</td>\n",
       "      <td>0</td>\n",
       "      <td>0</td>\n",
       "      <td>0</td>\n",
       "      <td>0</td>\n",
       "    </tr>\n",
       "  </tbody>\n",
       "</table>\n",
       "<p>1 rows × 27 columns</p>\n",
       "</div>"
      ],
      "text/plain": [
       "      YEAR   BRAND  PAGE  ENTRY  PRICE  MILES  SHIPPING  dummy  CHEVROLET  \\\n",
       "8961  2020  TOYOTA   449      2  54900   1061         0      1          0   \n",
       "\n",
       "      FORD  ...  DODGE  HONDA  GMC  SUBARU  INFINITI  MAZDA  CADILLAC  FIAT  \\\n",
       "8961     0  ...      0      0    0       0         0      0         0     0   \n",
       "\n",
       "      LEXUS  BMW  \n",
       "8961      0    0  \n",
       "\n",
       "[1 rows x 27 columns]"
      ]
     },
     "execution_count": 169,
     "metadata": {},
     "output_type": "execute_result"
    }
   ],
   "source": [
    "dedup.loc[dedup['YEAR']==2020]"
   ]
  },
  {
   "cell_type": "code",
   "execution_count": 173,
   "metadata": {},
   "outputs": [
    {
     "data": {
      "text/plain": [
       "(33916, 10)"
      ]
     },
     "execution_count": 173,
     "metadata": {},
     "output_type": "execute_result"
    }
   ],
   "source": [
    "cars.shape"
   ]
  },
  {
   "cell_type": "code",
   "execution_count": 174,
   "metadata": {},
   "outputs": [
    {
     "data": {
      "text/plain": [
       "(8610, 27)"
      ]
     },
     "execution_count": 174,
     "metadata": {},
     "output_type": "execute_result"
    }
   ],
   "source": [
    "dedup.shape"
   ]
  },
  {
   "cell_type": "code",
   "execution_count": 176,
   "metadata": {},
   "outputs": [
    {
     "data": {
      "text/plain": [
       "37.57200209460639"
      ]
     },
     "execution_count": 176,
     "metadata": {},
     "output_type": "execute_result"
    }
   ],
   "source": [
    "#percent of total real entries\n",
    "100*(8610/22916)"
   ]
  },
  {
   "cell_type": "code",
   "execution_count": null,
   "metadata": {},
   "outputs": [],
   "source": []
  }
 ],
 "metadata": {
  "kernelspec": {
   "display_name": "Python 3",
   "language": "python",
   "name": "python3"
  },
  "language_info": {
   "codemirror_mode": {
    "name": "ipython",
    "version": 3
   },
   "file_extension": ".py",
   "mimetype": "text/x-python",
   "name": "python",
   "nbconvert_exporter": "python",
   "pygments_lexer": "ipython3",
   "version": "3.7.3"
  }
 },
 "nbformat": 4,
 "nbformat_minor": 2
}
