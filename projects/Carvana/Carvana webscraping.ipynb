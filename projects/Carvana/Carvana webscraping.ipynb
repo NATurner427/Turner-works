{
 "cells": [
  {
   "cell_type": "code",
   "execution_count": 2,
   "metadata": {},
   "outputs": [],
   "source": [
    "from selenium import webdriver\n",
    "from selenium.webdriver.common.by import By\n",
    "from selenium.webdriver.support.ui import WebDriverWait\n",
    "from selenium.webdriver.support import expected_conditions as EC\n",
    "from selenium.common.exceptions import TimeoutException\n",
    "\n",
    "import time\n",
    "import requests\n",
    "from bs4 import BeautifulSoup\n",
    "\n",
    "import pandas as pd"
   ]
  },
  {
   "cell_type": "code",
   "execution_count": 3,
   "metadata": {},
   "outputs": [],
   "source": [
    "option = webdriver.ChromeOptions()\n",
    "option.add_argument(' - incognito')"
   ]
  },
  {
   "cell_type": "code",
   "execution_count": 79,
   "metadata": {
    "scrolled": true
   },
   "outputs": [],
   "source": [
    "RAW=[]\n",
    "\n",
    "i=0\n",
    "j=0\n",
    "driver = webdriver.Chrome('C:/chromedriver_win32/chromedriver.exe')\n",
    "driver.implicitly_wait(100)\n",
    "\n",
    "for i in range(665,1700):\n",
    "    driver.get(f'https://www.carvana.com/cars?page={i}')\n",
    "    for j in range(1,21):\n",
    "        test = driver.find_element_by_xpath(f'/html/body/div[1]/main/section/section/div[{j}]')\n",
    "        \n",
    "        soup=BeautifulSoup(test.text,'html.parser')\n",
    "\n",
    "        s=str(soup).split('\\n')\n",
    "        RAW.append(s)\n",
    "driver.quit()      "
   ]
  },
  {
   "cell_type": "code",
   "execution_count": 80,
   "metadata": {},
   "outputs": [],
   "source": [
    "#RAW0_418\n",
    "#RAW419_553\n",
    "#RAW555_664\n",
    "RAW665_1700=RAW"
   ]
  },
  {
   "cell_type": "code",
   "execution_count": 85,
   "metadata": {},
   "outputs": [],
   "source": [
    "TOTAL=RAW0_418+RAW418_553+RAW555_664+RAW665_1700"
   ]
  },
  {
   "cell_type": "code",
   "execution_count": 86,
   "metadata": {},
   "outputs": [
    {
     "data": {
      "text/plain": [
       "33916"
      ]
     },
     "execution_count": 86,
     "metadata": {},
     "output_type": "execute_result"
    }
   ],
   "source": [
    "len(TOTAL)"
   ]
  },
  {
   "cell_type": "code",
   "execution_count": 102,
   "metadata": {},
   "outputs": [],
   "source": [
    "YEAR=[]\n",
    "BRAND=[]\n",
    "MAKE=[]\n",
    "TRIM=[]\n",
    "PRICE=[]\n",
    "MILES=[]\n",
    "SHIP=[]\n",
    "PAGE=[]\n",
    "ENTRY=[]\n",
    "n=0\n",
    "for s in TOTAL:\n",
    "    i= (n/20)+1\n",
    "    j=(n%20)+1\n",
    "    \n",
    "    if len(s)==6:\n",
    "        \n",
    "        \n",
    "        YB=s[0].split()\n",
    "        YEAR.append(YB[0])\n",
    "        BRAND.append(YB[1])\n",
    "        MAKE.append(s[1])\n",
    "        TRIM.append(s[2])\n",
    "        PRICE.append(s[3])\n",
    "        MILES.append(s[4])\n",
    "        SHIP.append(s[5])\n",
    "        PAGE.append(int(i))\n",
    "        ENTRY.append(int(j))\n",
    "        \n",
    "    elif len(s)==7:\n",
    "        YB=s[1].split()\n",
    "        YEAR.append(YB[0])\n",
    "        BRAND.append(YB[1])\n",
    "        MAKE.append(s[2])\n",
    "        TRIM.append(s[3])\n",
    "        PRICE.append(s[4])\n",
    "        MILES.append(s[5])\n",
    "        SHIP.append(s[6])\n",
    "        PAGE.append(int(i))\n",
    "        ENTRY.append(int(j))\n",
    "        \n",
    "    n+=1\n",
    "        \n",
    "df=pd.DataFrame({'YEAR':YEAR,'BRAND':BRAND,'MAKE':MAKE,'TRIM':TRIM,'PRICE':PRICE,\n",
    "                 'MILES':MILES,'SHIP':SHIP,'PAGE':PAGE,'ENTRY':ENTRY})"
   ]
  },
  {
   "cell_type": "code",
   "execution_count": 104,
   "metadata": {},
   "outputs": [],
   "source": [
    "df.to_csv('Reynoldsburg Carvana.csv', index=False)"
   ]
  },
  {
   "cell_type": "code",
   "execution_count": null,
   "metadata": {},
   "outputs": [],
   "source": []
  }
 ],
 "metadata": {
  "kernelspec": {
   "display_name": "Python 3",
   "language": "python",
   "name": "python3"
  },
  "language_info": {
   "codemirror_mode": {
    "name": "ipython",
    "version": 3
   },
   "file_extension": ".py",
   "mimetype": "text/x-python",
   "name": "python",
   "nbconvert_exporter": "python",
   "pygments_lexer": "ipython3",
   "version": "3.7.3"
  }
 },
 "nbformat": 4,
 "nbformat_minor": 2
}
