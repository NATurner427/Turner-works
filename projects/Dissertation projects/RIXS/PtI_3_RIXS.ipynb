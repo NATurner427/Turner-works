{
 "cells": [
  {
   "cell_type": "code",
   "execution_count": 1,
   "metadata": {},
   "outputs": [],
   "source": [
    "import numpy as np\n",
    "import pandas as pd\n",
    "import math\n",
    "import matplotlib.pyplot as plt\n",
    "import seaborn as sns\n",
    "import matplotlib\n",
    "from matplotlib.font_manager import FontProperties\n",
    "\n",
    "%matplotlib inline"
   ]
  },
  {
   "cell_type": "markdown",
   "metadata": {},
   "source": [
    "# RIXS data prep\n",
    "\n",
    "At SLAC, we collected RIXS on platinum halide single crystal samples. These materials are organometallic, meaning they are susceptible to damage due to exposure to the X-ray beam. we needed to balance that with the objective of collecting as much high quality data. When at a beamline, your time is limited and our sample quantity was limited as well. The decision was to take 2 full scans on a single spot on the sample, then translate the the beam spot to an unexposed spot on the sample and run another 2 scans, etc. The 2 scans for each spot need to be kept seperate at least initially since the conditions of the scans are different. We need to see if we can detect a difference between the unexposed first cans on each spot and the 2nd scans for each spot. Along with these two scans, a third t=1 second long scan was collected for normalization purposes.\n",
    "\n",
    "## 1.a) Extracting raw data from SLAC beamline\n",
    "\n",
    "The data from SLAC is in a large single txt file with nested headers. The first step to analyzing the data is to properly pull the data from this large txt file. The top header with some relevant info about the entire set of data is saved in a header* file. The remaining data is split between the 2 scans of each spot on the crystal exposed to the beam followed by the time scan. These 3 sets of data are seperated into individual data files.\n",
    "\n",
    "splitting these data files also gives us the opportunity to to build a pandas dataframe in preperation to subsequent steps in this process"
   ]
  },
  {
   "cell_type": "code",
   "execution_count": 2,
   "metadata": {},
   "outputs": [],
   "source": [
    "#create integer tuple for use in grabbing relevant lines of the data file\n",
    "l1=[]\n",
    "for x in list(range(0,10,1)):\n",
    "    l1.append(str(x))\n",
    "num=tuple(l1)\n",
    "\n",
    "#import data file and open intial header file to exported to.\n",
    "f1=open('PtI_Par_3.txt','r')\n",
    "f2=open(f'PtI_Par_3_raw_data/header_PtI_Par_3.txt','w+')\n",
    "\n",
    "#initialize index counters used to divide the data into 1st and 2nd scans and time scan\n",
    "\n",
    "i=0\n",
    "l=0\n",
    "m=0\n",
    "n=0\n",
    "\n",
    "#header logical flag\n",
    "header=0\n",
    "\n",
    "#make sure the pointer is at the start of the file\n",
    "f1.seek(0)\n",
    "\n",
    "#grab line from datafile\n",
    "for x in f1:\n",
    "    \n",
    "    #some of the lines are empty, need to skip them in the loop\n",
    "    if x=='\\n':\n",
    "        #print('empty')\n",
    "        continue\n",
    "    else: \n",
    "        \n",
    "        #creating the initial header file that has diagnostic info on the beamline and crystal orientation\n",
    "        if header==0:\n",
    "            if x.strip().startswith('#N')==True:\n",
    "                f2.write(x.strip())\n",
    "                f2.write('\\n')\n",
    "                header=1\n",
    "            elif x.strip().startswith('#')==True:\n",
    "                f2.write(x.strip())\n",
    "                f2.write('\\n')\n",
    "        \n",
    "        #split the data into seperate files for each scan           \n",
    "        elif header==1:\n",
    "            if x.strip().startswith('#L')==True:\n",
    "                \n",
    "                #file name changer, each preceding file is closed and a new file is opened\n",
    "                if i%3==0:\n",
    "                    m+=1\n",
    "                    f2.close()\n",
    "                    f2=open(f'PtI_Par_3_raw_data/PtI_Par_3_1_{m}_r.csv','w+')\n",
    "                    f2.write(x.strip().replace('#L ','').replace('  ',','))\n",
    "                    f2.write('\\n')\n",
    "                elif i%3==1:\n",
    "                    n+=1\n",
    "                    f2.close()\n",
    "                    f2=open(f'PtI_Par_3_raw_data/PtI_Par_3_2_{n}_r.csv','w+')\n",
    "                    f2.write(x.strip().replace('#L ','').replace('  ',','))\n",
    "                    f2.write('\\n')\n",
    "                elif i%3==2:\n",
    "                    l+=1\n",
    "                    f2.close()\n",
    "                    f2=open(f'PtI_Par_3_raw_data/PtI_Par_3_t_{l}_r.csv','w+')\n",
    "                    f2.write(x.strip().replace('#L ','').replace('  ',','))\n",
    "                    f2.write('\\n')\n",
    "                \n",
    "                i+=1\n",
    "                \n",
    "            #grabs the numerical data and puts it into current open f2 file as decided by above conditionals    \n",
    "            elif x.strip().startswith(num)==True:\n",
    "                f2.write(x.strip().replace(' ',','))\n",
    "                f2.write('\\n')\n",
    "                continue\n",
    "# close files            \n",
    "f1.close()\n",
    "f2.close()"
   ]
  },
  {
   "cell_type": "markdown",
   "metadata": {},
   "source": [
    "## 1.b) Concentration file\n",
    "\n",
    "along with the data scans, we also have a set of concentration scans that are used to normalize the data. concentration scans are done once for each of the three data scans performed above. The strucutre of the txt file is similar to the data files so we can use the same set of code without the conditional file name change section."
   ]
  },
  {
   "cell_type": "code",
   "execution_count": 3,
   "metadata": {},
   "outputs": [],
   "source": [
    "#create integer tuple for use in grabbing relevant lines of the data file\n",
    "l1=[]\n",
    "for x in list(range(0,10,1)):\n",
    "    l1.append(str(x))\n",
    "num=tuple(l1)\n",
    "\n",
    "#import concentration file and open intial header file to exported to.\n",
    "f1=open('PtI_Par_3_Concentration.txt','r')\n",
    "f2=open('PtI_Par_3_concentration/header_PtI_Par_3_c.txt','w+')\n",
    "\n",
    "#initialize index counters used to divide the data into 1st and 2nd scans and time scan\n",
    "i=0\n",
    "\n",
    "#header logical flag\n",
    "header=0\n",
    "\n",
    "#make sure the pointer is at the start of the file\n",
    "f1.seek(0)\n",
    "\n",
    "#grab line from datafile\n",
    "for x in f1:\n",
    "    \n",
    "    #some of the lines are empty, need to skip them in the loop\n",
    "    if x=='\\n':\n",
    "        #print('empty')\n",
    "        continue\n",
    "    else: \n",
    "        \n",
    "        #creating the initial header file that has diagnostic info on the beamline and crystal orientation\n",
    "        if header==0:\n",
    "            if x.strip().startswith('#N')==True:\n",
    "                f2.write(x.strip())\n",
    "                f2.write('\\n')\n",
    "                header=1\n",
    "            elif x.strip().startswith('#')==True:\n",
    "                f2.write(x.strip())\n",
    "                f2.write('\\n')\n",
    "        \n",
    "        #split the data into seperate files for each scan           \n",
    "        elif header==1:\n",
    "            if x.strip().startswith('#L')==True:\n",
    "                \n",
    "                #file name changer, each preceding file is closed and a new file is opened\n",
    "                i+=1\n",
    "                f2.close()\n",
    "                f2=open(f'PtI_Par_3_concentration/PtI_Par_3_{i}_c.csv','w+')\n",
    "                f2.write(x.strip().replace('#L ','').replace('  ',','))\n",
    "                f2.write('\\n')\n",
    "                \n",
    "            #grabs the numerical data and puts it into current open f2 file as decided by above conditionals    \n",
    "            elif x.strip().startswith(num)==True:\n",
    "                f2.write(x.strip().replace(' ',','))\n",
    "                f2.write('\\n')\n",
    "                continue\n",
    "# close files            \n",
    "f1.close()\n",
    "f2.close()"
   ]
  },
  {
   "cell_type": "markdown",
   "metadata": {},
   "source": [
    "## 2.a) Processing: raw data to cooked data\n",
    "\n",
    "You start with raw data in physics. Raw counts from a spectremeter, a scintilator, a diode, whatever. Those numbers rarely give the result we are interested in, or at least in a form that is understandable. We need to go through a set of processes and normalizations to make the data presentable. What needs to be done varies depending on what data was collected and what physics is involved. This whole process of taking raw data and making it ready for study is, at least in my group, called cooking the data.  \n",
    "\n",
    "There is some preliminary processing that does not depend on the physics. The first one I'll be doing is rebinning the data. When X-ray spectroscopy data is collected, we want to see the absorption of the photons as a function of the energy being impinged on the sample. Synchrotrons that are used to create X-rays for experiments produce them in a wide range of energies. The synchrotron has multiple (as many as 20 or 30) different research groups all using these different energy x-rays at the same time. The way each team gets the energy they want is by using a monochromator. These X-ray monochromators are often giant sheets of material that when X-rays hit them, only a certain energy is reflected. What energy is reflected depends on what angle the x-rays hit the monochromator at. When we used the monochromator at SLAC we had it moving over a 150eV range around 11.5 kev 71 times. Throughout each of these scans we could hear the large motors moving these sheets and when we got to the end of each scan, the collection had to pause while the monochromator realigned back to the beginning angle again. This explanation is all to setup why rebinning is necessary. If you look at any of the raw data you can see what the monochromator energies were for each datapoint. We set them to regular intervals, you can see that the actual values varied very slightly, this is due to the large moving sheets settling slighty off from they should be. Everything is very accuate, the motors can stop on a dime, but even a dime has a width. So I'll go through each file and move the energy to what it should be. \n",
    "\n",
    "Thankfully when I created the raw data files I formated them to be csv files so I can effortlessly switch into pandas DataFrame to work with the data from here."
   ]
  },
  {
   "cell_type": "code",
   "execution_count": 39,
   "metadata": {},
   "outputs": [],
   "source": [
    "i=1\n",
    "j=1\n",
    "emi=list(np.linspace(11569,11551.25,72))\n",
    "while j <=2:\n",
    "\n",
    "    while i<=70:\n",
    "        reg=[]\n",
    "        df=pd.read_csv(f'PtI_Par_3_raw_data/PtI_Par_3_{j}_{i}_r.csv')\n",
    "\n",
    "        for x in df['mono'].iteritems():\n",
    "            numba=math.modf(x[1])\n",
    "            reg.append(numba[1]+(round(numba[0]*100)/100))\n",
    "            \n",
    "        df.insert(loc=0,column='MONO',value=reg)\n",
    "        del df['mono']\n",
    "        df['emission']=emi[i]\n",
    "        del df['EMISSION']\n",
    "        df.to_csv(f'PtI_Par_3_cooked_data/PtI_Par_3_{j}_{i}_p.csv',index=False)\n",
    "        i+=1\n",
    "    i=1\n",
    "    j+=1"
   ]
  },
  {
   "cell_type": "markdown",
   "metadata": {},
   "source": [
    "## 2.b) Calibration\n",
    "\n",
    "we now have rebinned clean MONO data. But we now need to calibrate it. Due to the instrumentation not being ideal (and it never will be) the reported energies can drift by an eV or more over the course of a run. This would make it difficult to compare scans to each other during a run, or compare data between runs. So before any data is collected on samples we are interested in, we collect a scan on a simple pure elemental sample, in this case, a Pt foil. With that sample we look at the I0 channel. This is the X-ray beam before it interacts with anything. We then look for large dips in  the I0. These are called 'Bragg peaks' the same physics that allows the large slabs of silicon to select the energy we want also creates these large dips in I0 signal. They appear no matter what sample is collected on. If we take note of where it appears we can calibrate the x-axis of all of our scans off of where the I0 Bragg peak appears. \n",
    "\n",
    "Thats why we collected data at that high region at all, because a large bragg peak appeared there. \n",
    "\n",
    "The calibration value, the location of the Bragg peak for our Pt foil sample was 11701.9eV\n",
    "\n",
    "using the first scan we can look at I0"
   ]
  },
  {
   "cell_type": "code",
   "execution_count": 42,
   "metadata": {
    "scrolled": false
   },
   "outputs": [
    {
     "data": {
      "image/png": "[encoded data removed]",
      "text/plain": [
       "<Figure size 864x576 with 1 Axes>"
      ]
     },
     "metadata": {
      "needs_background": "light"
     },
     "output_type": "display_data"
    }
   ],
   "source": [
    "df=pd.read_csv(f'PtI_Par_3_cooked_data/PtI_Par_3_1_1_p.csv')\n",
    "\n",
    "font={'size':18}\n",
    "\n",
    "matplotlib.rc('font',**font)\n",
    "\n",
    "fig, ax = plt.subplots(figsize=(12,8))\n",
    "ax.plot(df['MONO'],df['I0'])\n",
    "\n",
    "ax.set_title('Example I0')\n",
    "ax.set_ylabel('I0')\n",
    "ax.set_xlabel('energy (eV)')\n",
    "#ax.set_xlim(0,101)\n",
    "#ax.set_ylim(0,410)\n",
    "ax.xaxis.grid()\n",
    "ax.yaxis.grid()\n",
    "\n",
    "plt.tight_layout()"
   ]
  },
  {
   "cell_type": "markdown",
   "metadata": {},
   "source": [
    "The region we are interested in is on the left around 11560 eV where as the region we collected for the glitch is around 11700 eV. We can see that if differs by .1eV. that may not seem large but it is important to account for it when the features we will be eventually look at are only an eV wide."
   ]
  },
  {
   "cell_type": "code",
   "execution_count": 43,
   "metadata": {},
   "outputs": [
    {
     "name": "stdout",
     "output_type": "stream",
     "text": [
      "66    11701.4\n",
      "Name: MONO, dtype: float64\n"
     ]
    }
   ],
   "source": [
    "df=pd.read_csv(f'PtI_Par_3_cooked_data/PtI_Par_3_1_1_p.csv')\n",
    "scanmin=df.loc[df['I0']==df['I0'].min()]['MONO']\n",
    "print(scanmin)"
   ]
  },
  {
   "cell_type": "markdown",
   "metadata": {},
   "source": [
    "## 2.c) Concentration sum\n",
    "\n",
    "The X-ray response of each sample and each spot on a sample depends on a multitude of factors. The  thickness of the sample, the homogeneity of the crystal surface, the angle of incidence of the X-ray and the orientation of the X-ray with the sample. After each scan a concentration was collected to take this into account, a baseline that normalizes scans to one another."
   ]
  },
  {
   "cell_type": "markdown",
   "metadata": {},
   "source": [
    "## 2.d) Energy Transfer\n",
    "\n",
    "A RIXS depends on the energy put into a sample versus the energy coming out of the sample. The energy in is the Monochromator energy. The energy coming out of the sample is collected in the Emission column. The difference between these two energies is called the energy transfer.\n",
    "\n",
    "The emission being collected at is held constant while the monochromator scans through energies and collects intensities of the signal. The emission is changed in .25 incriments and then the range the monochromator scans through is also changed in .25 increments to ensure a constant range of energy transfers are collected, creating square grid of intensities."
   ]
  },
  {
   "cell_type": "markdown",
   "metadata": {},
   "source": [
    "## 2.e) Normalization\n",
    "\n",
    "The intensity out of the scans is not normalized. Not only do we use the concentration we summed earlier, but we also divide through Io. Io is the initial intensity of the X-ray beam on the sample, these intensities can fluctuate over the course of a beam line run so its important to divide out."
   ]
  },
  {
   "cell_type": "code",
   "execution_count": 215,
   "metadata": {
    "scrolled": false
   },
   "outputs": [],
   "source": [
    "# calibration energy from Pt foil sample\n",
    "localmin=11701.9\n",
    "\n",
    "#iterators\n",
    "i=1\n",
    "j=1\n",
    "\n",
    "#2 scans for each spot\n",
    "while j <=2:\n",
    "    \n",
    "    #Open our big RIXS file\n",
    "    RIXS=pd.DataFrame()\n",
    "    \n",
    "    #iterate through spots\n",
    "    while i<=70:\n",
    "        \n",
    "        #open files\n",
    "        df=pd.read_csv(f'PtI_Par_3_cooked_data/PtI_Par_3_{j}_{i}_p.csv')\n",
    "        df2=pd.read_csv(f'PtI_Par_3_concentration/PtI_Par_3_{i}_c.csv')\n",
    "        \n",
    "        #find minimum Io for each scan and shift it to match the minimum Io of the Pt foil sample\n",
    "        scanmin=df.loc[df['I0']==df['I0'].min()]['MONO'].values\n",
    "        shift=localmin-scanmin[0]\n",
    "        df['SHIFT']=shift\n",
    "        calib=df['MONO']+df['SHIFT']\n",
    "        df['Calibrated']=calib.round(decimals=2)\n",
    "        \n",
    "        #sum the concentration of each spot\n",
    "        consum=df2['DTC_FF1'].sum()\n",
    "        df['Concentration Sum']=consum\n",
    "        \n",
    "        #find the energy transfer\n",
    "        energytrans=df['Calibrated']-df['emission'].round(decimals=2)\n",
    "        \n",
    "        #Use the Io and concentration sum to normalize the scans\n",
    "        df['Energy Transfer']=energytrans.round(decimals=2)\n",
    "        finalInt=(df['DTC_FF1']/df['I0'])/df['Concentration Sum']\n",
    "        df['RIXS']=finalInt   \n",
    "        \n",
    "        #export full cooked data file\n",
    "        df.to_csv(f'PtI_Par_3_cooked_data/PtI_Par_3_{j}_{i}_p.csv',index=False)\n",
    "         \n",
    "        #construct RIXS relevant data file. \n",
    "        #Calibrated monochromator energy, calibrated energy transfer, RIXS intensity (x,y,z)\n",
    "        \n",
    "        scan=df[['Calibrated'] + ['Energy Transfer'] + ['RIXS']]\n",
    "        RIXS=RIXS.append(scan,ignore_index=True)\n",
    "        i+=1\n",
    "    RIXS.to_csv(f'RIXS scans/PtI_Par_3_{j}_RIXS.csv',index=False)\n",
    "    i=1\n",
    "    j+=1"
   ]
  },
  {
   "cell_type": "markdown",
   "metadata": {},
   "source": [
    "a bit of book keeping, removing all the rows of data from the RIXS files that stretch far out from the region of interest. This far out region was only collected for calibration purposes and is not needed for the analysis. Second is to again rebin the data. Our pixel size will be .25 by .25 eV. Necessary to oraganize the ordered pairs to fit these grids."
   ]
  },
  {
   "cell_type": "markdown",
   "metadata": {},
   "source": [
    "# 3 RIXS map making and slicing\n",
    "\n"
   ]
  },
  {
   "cell_type": "markdown",
   "metadata": {},
   "source": [
    "We now have a st of x,y,z data points. the range of points came from 3 columns of data that actually shifted over the scans. To properly plot the data I need to find and fill the missing grid points with z=0 intensity to make it square. \n",
    "\n",
    "Its also helpful to take slices of the data along constant clibrated energy as well as constant Energy Transfer values. I'll create these as well."
   ]
  },
  {
   "cell_type": "code",
   "execution_count": 282,
   "metadata": {},
   "outputs": [],
   "source": [
    "x=np.linspace(11550.25,11582.5,130)\n",
    "y=np.linspace(1,13,49)\n",
    "MAP=pd.DataFrame(columns=x,index=y)\n",
    "MAP.fillna(value=0,inplace=True)\n",
    "\n",
    "df=pd.read_csv('RIXS scans/PtI_Par_3_1_RIXS.csv')\n",
    "RIXS=df[df['Energy Transfer']<= 14]\n",
    "\n",
    "RIXSx=[]\n",
    "RIXSy=[]\n",
    "RIXSz=[]\n",
    "\n",
    "for index,row in RIXS.iterrows():\n",
    "    diffx=abs(x-row[0])\n",
    "    minimumx=diffx.min()\n",
    "    for idx,valx in enumerate(x):\n",
    "        if abs(valx-row[0])==minimumx:\n",
    "            RIXSx.append(valx)\n",
    "            dfcol=idx\n",
    "            \n",
    "    diffy=abs(y-row[1])\n",
    "    minimumy=diffy.min()\n",
    "    for idy,valy in enumerate(y):\n",
    "        if abs(valy-row[1])==minimumy:\n",
    "            RIXSy.append(valy)\n",
    "            dfrow=idy\n",
    "            \n",
    "    RIXSz.append(row[2])\n",
    "    MAP.iloc[dfrow,dfcol]=row[2]\n",
    "    \n",
    "df2=pd.DataFrame({'Excitation':RIXSx,'Energy Transfer':RIXSy,'Intensity':RIXSz})\n",
    "df2.to_csv('RIXS scans/PtI_Par_3_1_RIXS_cl.csv',index=False)\n",
    "MAP.to_csv('PtI_Par_3_1_RIXSMAP.csv',index=True)\n",
    "\n",
    "\n",
    "df=pd.read_csv('RIXS scans/PtI_Par_3_2_RIXS.csv')\n",
    "RIXS=df[df['Energy Transfer']<= 14]\n",
    "\n",
    "RIXSx=[]\n",
    "RIXSy=[]\n",
    "RIXSz=[]\n",
    "\n",
    "for index,row in RIXS.iterrows():\n",
    "    diffx=abs(x-row[0])\n",
    "    minimumx=diffx.min()\n",
    "    for idx,valx in enumerate(x):\n",
    "        if abs(valx-row[0])==minimumx:\n",
    "            RIXSx.append(valx)\n",
    "            dfcol=idx\n",
    "\n",
    "    diffy=abs(y-row[1])\n",
    "    minimumy=diffy.min()\n",
    "    for idy,valy in enumerate(y):\n",
    "        if abs(valy-row[1])==minimumy:\n",
    "            RIXSy.append(valy)\n",
    "            dfrow=idy\n",
    "            \n",
    "    RIXSz.append(row[2])\n",
    "    MAP.iloc[dfrow,dfcol]=row[2]\n",
    "    \n",
    "df2=pd.DataFrame({'Excitation':RIXSx,'Energy Transfer':RIXSy,'Intensity':RIXSz})\n",
    "df2.to_csv('RIXS scans/PtI_Par_3_2_RIXS_cl.csv',index=False)\n",
    "MAP.to_csv('PtI_Par_3_2_RIXSMAP.csv',index=True)"
   ]
  },
  {
   "cell_type": "code",
   "execution_count": 285,
   "metadata": {},
   "outputs": [
    {
     "data": {
      "image/png": "[encoded data removed]",
      "text/plain": [
       "<Figure size 864x576 with 2 Axes>"
      ]
     },
     "metadata": {
      "needs_background": "light"
     },
     "output_type": "display_data"
    }
   ],
   "source": [
    "MAP=pd.read_csv('PtI_Par_3_2_RIXSMAP.csv',index_col=0)\n",
    "#MAP\n",
    "fig, ax = plt.subplots(figsize=(12,8))\n",
    "\n",
    "fig=sns.heatmap(MAP,robust=True)"
   ]
  },
  {
   "cell_type": "code",
   "execution_count": 198,
   "metadata": {},
   "outputs": [],
   "source": [
    "gridy=-1\n",
    "\n",
    "aggregation_function = {'RIXS':'mean'}\n",
    "\n",
    "RIXS=pd.read_csv(f'RIXS scans/PtI_Par_3_1_RIXS_cl.csv')\n",
    "\n",
    "while gridy <=14:\n",
    "    EnS=RIXS[(RIXS['Energy Transfer'] <= gridy+.18) & (RIXS['Energy Transfer'] >= gridy-.18)]\n",
    "    Ens=EnS[['Calibrated'] + ['RIXS']].sort_values(by='Calibrated')\n",
    "\n",
    "    x=Ens.groupby(Ens['Calibrated'], as_index=False).aggregate(aggregation_function)\n",
    "    x.to_csv(f'EnSlices/PtI_Par_3_1_RIXS_Energy_Transfer slice={gridy}.csv',index=False)\n",
    "    gridy+=.25\n",
    "\n",
    "gridy=-1\n",
    "RIXS=pd.read_csv(f'RIXS scans/PtI_Par_3_2_RIXS_cl.csv')\n",
    "\n",
    "while gridy <=14:\n",
    "    EnS=RIXS[(RIXS['Energy Transfer'] <= gridy+.18) & (RIXS['Energy Transfer'] >= gridy-.18)]\n",
    "    Ens=EnS[['Calibrated'] + ['RIXS']].sort_values(by='Calibrated')\n",
    "\n",
    "    x=Ens.groupby(Ens['Calibrated'], as_index=False).aggregate(aggregation_function)\n",
    "    x.to_csv(f'EnSlices/PtI_Par_3_2_RIXS_Energy_Transfer slice={gridy}.csv',index=False)\n",
    "    gridy+=.25"
   ]
  },
  {
   "cell_type": "code",
   "execution_count": 178,
   "metadata": {},
   "outputs": [],
   "source": [
    "gridx=11550.25\n",
    "\n",
    "aggregation_function = {'RIXS':'mean'}\n",
    "\n",
    "RIXS=pd.read_csv(f'RIXS scans/PtI_Par_3_1_RIXS_cl.csv')\n",
    "while gridx<= 11582.25:\n",
    "    \n",
    "    ExS=RIXS[(RIXS['Calibrated'] <= gridx+.18) & (RIXS['Calibrated'] >= gridx-.18)]\n",
    "    Exs=ExS[['Energy Transfer'] + ['RIXS']].sort_values(by='Energy Transfer')\n",
    "\n",
    "    x=Exs.groupby(Exs['Energy Transfer'],as_index=False).aggregate(aggregation_function)\n",
    "    x.to_csv(f'ExSlices/PtI_Par_3_1_RIXS_Monochromator slice={gridx}.csv',index=False)\n",
    "    gridx+=.25\n",
    "\n",
    "gridx=11550.25\n",
    "RIXS=pd.read_csv(f'RIXS scans/PtI_Par_3_2_RIXS_cl.csv')    \n",
    "    \n",
    "while gridx<= 11582.25:\n",
    "    \n",
    "    ExS=RIXS[(RIXS['Calibrated'] <= gridx+.18) & (RIXS['Calibrated'] >= gridx-.18)]\n",
    "    Exs=ExS[['Energy Transfer'] + ['RIXS']].sort_values(by='Energy Transfer')\n",
    "\n",
    "    x=Exs.groupby(Exs['Energy Transfer'],as_index=False).aggregate(aggregation_function)\n",
    "    x.to_csv(f'ExSlices/PtI_Par_3_2_RIXS_Monochromator slice={gridx}.csv',index=False)\n",
    "    gridx+=.25\n"
   ]
  },
  {
   "cell_type": "code",
   "execution_count": 258,
   "metadata": {},
   "outputs": [],
   "source": [
    "x=np.linspace(11550.25,11582.5,130)\n",
    "y=np.linspace(-3,14,69)\n",
    "df=pd.DataFrame(columns=x,index=y)\n",
    "df.fillna(value=0,inplace=True)\n",
    "\n",
    "RIXS=pd.read_csv(f'RIXS scans/PtI_Par_3_1_RIXS_cl.csv')\n",
    "\n",
    "RIXSx=[]\n",
    "RIXSy=[]\n",
    "RIXSz=[]\n",
    "\n",
    "for index,row in RIXS.iterrows():\n",
    "    diffx=abs(x-row[0])\n",
    "    minimumx=diffx.min()\n",
    "    for idx,valx in enumerate(x):\n",
    "        if abs(valx-row[0])==minimumx:\n",
    "            dfcol=idx\n",
    "\n",
    "    diffy=abs(y-row[1])\n",
    "    minimumy=diffy.min()\n",
    "    for idy,valy in enumerate(y):\n",
    "        if abs(valy-row[1])==minimumy:\n",
    "            dfrow=idy\n",
    "\n",
    "    df.iloc[dfrow,dfcol]=row[2]\n",
    "\n"
   ]
  },
  {
   "cell_type": "code",
   "execution_count": null,
   "metadata": {},
   "outputs": [],
   "source": []
  }
 ],
 "metadata": {
  "kernelspec": {
   "display_name": "Python 3",
   "language": "python",
   "name": "python3"
  },
  "language_info": {
   "codemirror_mode": {
    "name": "ipython",
    "version": 3
   },
   "file_extension": ".py",
   "mimetype": "text/x-python",
   "name": "python",
   "nbconvert_exporter": "python",
   "pygments_lexer": "ipython3",
   "version": "3.7.3"
  }
 },
 "nbformat": 4,
 "nbformat_minor": 2
}
