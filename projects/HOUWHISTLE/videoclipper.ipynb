{
 "cells": [
  {
   "cell_type": "markdown",
   "metadata": {},
   "source": [
    "## Video and audio clipper\n",
    "\n",
    "Once the comprehensive log is made this program runs through the video again and cuts the video and audio into just the portion surrounding each pitch. I've thought of adding this to timestamper program but teo reasons prevent me. \n",
    "\n",
    "1) Some manual proofreading is needed once the timestamper routine runs to recouncil what tesseract found versus the pitch logs and removing errounous text pulls. \n",
    "\n",
    "2) the main slow down of this program is processing the video to clip it. If I inserted this routine into the timestamper int would not save anytime, it would slow down the previous routine. As I did with game 2 to bug check, I may need to restart the timestamper multiple times to make sure crops are correct and tesseract is reading properly so slowing down that process would be an overall hinderance.\n",
    "\n"
   ]
  },
  {
   "cell_type": "code",
   "execution_count": 14,
   "metadata": {},
   "outputs": [
    {
     "name": "stdout",
     "output_type": "stream",
     "text": [
      "Wall time: 3h 59min 27s\n"
     ]
    }
   ],
   "source": [
    "%%time\n",
    "\n",
    "import os\n",
    "import moviepy.editor as mpy\n",
    "import pandas as pd\n",
    "from IPython.display import clear_output\n",
    "\n",
    "#Pull in relevant logs and set path to input video and audio and output files\n",
    "summary=pd.read_csv('E://HOU18/HOU_18_games.csv')\n",
    "\n",
    "#lst=list(summary[summary['cleaned']==1]['game'].values)\n",
    "lst=[  6,   7,   8,  14,  15,  24,  25,  26,  27,  29,  30,  31,  33,\n",
    "        40,  41,  42,  46,  47,  62,  63,  74,  75,  76,  77,  78,  79,\n",
    "        80,  82,  89,  90,  91,  93,  95,  97,  98,  99, 105, 106, 107,\n",
    "       116, 117, 118, 119, 120, 121, 132, 134, 135, 136, 138, 139, 140,\n",
    "       147, 148, 149, 150, 151, 152, 153, 154, 155, 163, 164, 168, 169]\n",
    "for n in lst:\n",
    "    print(n)\n",
    "    game=pd.read_csv(f'E://HOU18/games/game {n}/pitch outcomes and time.csv')\n",
    "\n",
    "    input_video=f'E://HOU18/games/game {n}/game {n} video.mp4'\n",
    "    input_audio=f'E://HOU18/games/game {n}/game {n} audio.wav'\n",
    "\n",
    "    output_video=f'E://HOU18/games/game {n}/pitch clips/'\n",
    "    output_audio=f'E://HOU18/games/game {n}/audio clips/'\n",
    "\n",
    "    summary[summary['game']==n]\n",
    "\n",
    "    opp=summary[summary['game']==n]['Opponent'].iloc[0]\n",
    "\n",
    "    #redo timestamps if times were adjusted\n",
    "\n",
    "    j=0\n",
    "    stamp=[]\n",
    "    while j <  len(game['game_pitch'].values):\n",
    "        stamp.append(f\"{game['game_url'][j]}&t={game['start'][j]}\")\n",
    "        j+=1\n",
    "\n",
    "    game['timestamp']=stamp\n",
    "\n",
    "    # run through each pitch and clip audio from game \n",
    "    for i,row in game.iterrows():\n",
    "\n",
    "        print(f'{opp} pitcher')\n",
    "        myclip = mpy.AudioFileClip(input_audio).subclip(row[21]-3,row[21]+17)\n",
    "        myclip.write_audiofile(f'{output_audio}{row[6]} {opp} {row[7]} pitch #{row[10]} - {row[8]}.wav')\n",
    "        clear_output(wait=True)\n",
    "        \n",
    "    game.to_csv(f'E://HOU18/games/game {n}/pitch outcomes and time.csv',index=False)"
   ]
  },
  {
   "cell_type": "code",
   "execution_count": 2,
   "metadata": {},
   "outputs": [
    {
     "data": {
      "text/plain": [
       "array([  6,   7,   8,  14,  15,  24,  25,  26,  27,  29,  30,  31,  33,\n",
       "        40,  41,  42,  46,  47,  62,  63,  74,  75,  76,  77,  78,  79,\n",
       "        80,  82,  89,  90,  91,  93,  95,  97,  98,  99, 105, 106, 107,\n",
       "       116, 117, 118, 119, 120, 121, 132, 134, 135, 136, 138, 139, 140,\n",
       "       147, 148, 149, 150, 151, 152, 153, 154, 155, 163, 164, 168, 169],\n",
       "      dtype=int64)"
      ]
     },
     "execution_count": 2,
     "metadata": {},
     "output_type": "execute_result"
    }
   ],
   "source": [
    "(summary[summary['cleaned']==1]['game'].values)"
   ]
  },
  {
   "cell_type": "code",
   "execution_count": 26,
   "metadata": {},
   "outputs": [
    {
     "data": {
      "text/plain": [
       "Index(['Game', 'Date', 'Opponent', 'Hou_Score', 'Opp_Score', 'Win',\n",
       "       'game_pitch', 'pitcher', 'pitch_type', 'batter', 'pitch_count',\n",
       "       'plate_appearence', 'inning', 'result', 'pitch_velo_(mph)',\n",
       "       'exit_velo_(mph)', 'launch_angle_(degrees)', 'distance_(ft)', 'xBA',\n",
       "       'time', 'adjusted', 'start', 'game_url', 'timestamp', 'pitch_url'],\n",
       "      dtype='object')"
      ]
     },
     "execution_count": 26,
     "metadata": {},
     "output_type": "execute_result"
    }
   ],
   "source": [
    "game.columns"
   ]
  },
  {
   "cell_type": "markdown",
   "metadata": {},
   "source": [
    "## Video clipper cell"
   ]
  },
  {
   "cell_type": "code",
   "execution_count": 5,
   "metadata": {},
   "outputs": [
    {
     "name": "stdout",
     "output_type": "stream",
     "text": [
      "finished video\n",
      "Wall time: 42min 5s\n"
     ]
    }
   ],
   "source": [
    "%%time\n",
    "\n",
    "opp=summary[summary['game']==n]['Opponent'].iloc[0]\n",
    "\n",
    "# loop through each pitch and clip video from game \n",
    "for j,row in game.iterrows():\n",
    "                      \n",
    "    if row[8]==1:\n",
    "        print(f'{opp} pitcher')\n",
    "        myclip = mpy.VideoFileClip(input_video).subclip(row[23],row[23]+17)\n",
    "        myclip.write_videofile(f'{output_video}{row[7]} {opp} {row[9]} pitch #{row[12]} - {row[10]}.mp4')\n",
    "        clear_output(wait=True)\n",
    "     #if you want HOU pitchers   \n",
    "     '''                 \n",
    "    elif row[8]==0:\n",
    "        print(f'HOU pitcher')\n",
    "        myclip = mpy.VideoFileClip(input_video).subclip(row[23],row[23]+17)\n",
    "        myclip.write_videofile(f'{output_video}{row[7]} HOU {row[9]} pitch #{row[12]} - {row[10]}.mp4')\n",
    "        clear_output(wait=True)\n"
   ]
  },
  {
   "cell_type": "markdown",
   "metadata": {},
   "source": [
    "## Audio clipper cell"
   ]
  },
  {
   "cell_type": "code",
   "execution_count": 13,
   "metadata": {},
   "outputs": [
    {
     "name": "stdout",
     "output_type": "stream",
     "text": [
      "Wall time: 12min 5s\n"
     ]
    }
   ],
   "source": [
    "%%time\n",
    "\n",
    "import os\n",
    "import moviepy.editor as mpy\n",
    "import pandas as pd\n",
    "from IPython.display import clear_output\n",
    "\n",
    "\n",
    "#Pull in relevant logs and set path to input video and audio and output files\n",
    "summary=pd.read_csv('E://HOU18/Playoffs 2017/2017playoff_games.csv')\n",
    "\n",
    "lst=[14,15,16]\n",
    "for n in lst:\n",
    "    opp=summary[summary['game']==n]['Opponent'].iloc[0]\n",
    "\n",
    "    game=pd.read_csv(f'E://HOU18/Playoffs 2017/games/game {n}/pitch outcomes and time.csv')\n",
    "    input_audio=f'E://HOU18/Playoffs 2017/games/game {n}/game {n} audio.wav'\n",
    "\n",
    "    output_audio=f'E://HOU18/Playoffs 2017/games/game {n}/audio clips/'\n",
    "\n",
    "    summary[summary['game']==n]\n",
    "\n",
    "    opp=summary[summary['game']==n]['Opponent'].iloc[0]\n",
    "\n",
    "    #redo timestamps if times were adjusted\n",
    "\n",
    "    j=0\n",
    "    stamp=[]\n",
    "    while j <  len(game['game_pitch'].values):\n",
    "        stamp.append(f\"{game['game_url'][j]}&t={game['start'][j]}\")\n",
    "        j+=1\n",
    "\n",
    "    game['timestamp']=stamp\n",
    "\n",
    "\n",
    "    # loop through each pitch and clip video from game \n",
    "    for i,row in game.iterrows():\n",
    "\n",
    "        print(f'{opp} pitcher')\n",
    "        myclip = mpy.AudioFileClip(input_audio).subclip(row[21],row[21]+20)\n",
    "        myclip.write_audiofile(f'{output_audio}{row[6]} {opp} {row[7]} pitch #{row[10]} - {row[8]}.wav')\n",
    "        clear_output(wait=True) \n",
    "\n",
    "    game.to_csv(f'E://HOU18/Playoffs 2017/games/game {n}/pitch outcomes and time.csv',index=False)"
   ]
  },
  {
   "cell_type": "code",
   "execution_count": null,
   "metadata": {},
   "outputs": [],
   "source": [
    "## Manual Clipper"
   ]
  },
  {
   "cell_type": "code",
   "execution_count": 1,
   "metadata": {},
   "outputs": [
    {
     "name": "stderr",
     "output_type": "stream",
     "text": [
      "chunk:   0%|                                                                         | 0/375 [00:00<?, ?it/s, now=None]"
     ]
    },
    {
     "name": "stdout",
     "output_type": "stream",
     "text": [
      "MoviePy - Writing audio in E://HOU18/games/game 93/audio clips/289 OAK Treinen pitch #18 - Cutter.wav\n"
     ]
    },
    {
     "name": "stderr",
     "output_type": "stream",
     "text": [
      "                                                                                                                       "
     ]
    },
    {
     "name": "stdout",
     "output_type": "stream",
     "text": [
      "MoviePy - Done.\n"
     ]
    },
    {
     "name": "stderr",
     "output_type": "stream",
     "text": [
      "\r"
     ]
    }
   ],
   "source": [
    "import os\n",
    "import moviepy.editor as mpy\n",
    "import pandas as pd\n",
    "from IPython.display import clear_output\n",
    "\n",
    "myclip = mpy.AudioFileClip('E://HOU18/games/game 93/game 93 audio.wav').subclip(11174,11191)\n",
    "myclip.write_audiofile(f'E://HOU18/games/game 93/audio clips/289 OAK Treinen pitch #18 - Cutter.wav')\n"
   ]
  },
  {
   "cell_type": "code",
   "execution_count": null,
   "metadata": {},
   "outputs": [],
   "source": []
  }
 ],
 "metadata": {
  "kernelspec": {
   "display_name": "Python 3",
   "language": "python",
   "name": "python3"
  },
  "language_info": {
   "codemirror_mode": {
    "name": "ipython",
    "version": 3
   },
   "file_extension": ".py",
   "mimetype": "text/x-python",
   "name": "python",
   "nbconvert_exporter": "python",
   "pygments_lexer": "ipython3",
   "version": "3.7.3"
  }
 },
 "nbformat": 4,
 "nbformat_minor": 4
}
