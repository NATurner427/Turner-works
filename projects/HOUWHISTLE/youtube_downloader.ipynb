{
 "cells": [
  {
   "cell_type": "markdown",
   "metadata": {},
   "source": [
    "## Youtube downloader\n",
    "\n",
    "This porgram pulls video and audio from a youtube url.\n",
    "\n",
    "I have a loop version that pulls video and audio files (used to pull the WS games)\n",
    "\n",
    "I also wrote a single pull version for audio or video."
   ]
  },
  {
   "cell_type": "code",
   "execution_count": 1,
   "metadata": {},
   "outputs": [],
   "source": [
    "import youtube_dl\n",
    "import os.path\n",
    "import pandas as pd\n",
    "\n",
    "log=pd.read_csv('E://HOU18/HOU_18_games.csv')"
   ]
  },
  {
   "cell_type": "code",
   "execution_count": 6,
   "metadata": {},
   "outputs": [
    {
     "data": {
      "text/plain": [
       "game                                                             10\n",
       "Date                                                       8-Apr-18\n",
       "Opponent                                                        SDN\n",
       "Home                                                              1\n",
       "HOU_SCORE                                                         4\n",
       "OPP_SCORE                                                         1\n",
       "WIN                                                               1\n",
       "pitch_url         https://baseballsavant.mlb.com/gamefeed?game_p...\n",
       "Youtube search                          SDN AT HOU - APRIL 08, 2018\n",
       "game_url                https://www.youtube.com/watch?v=h2n1VtHCBvU\n",
       "pulled                                                            1\n",
       "Name: 9, dtype: object"
      ]
     },
     "execution_count": 6,
     "metadata": {},
     "output_type": "execute_result"
    }
   ],
   "source": [
    "log.iloc[9]"
   ]
  },
  {
   "cell_type": "code",
   "execution_count": 1,
   "metadata": {
    "scrolled": true
   },
   "outputs": [
    {
     "name": "stdout",
     "output_type": "stream",
     "text": [
      "[youtube] f9o0m5cE4Uc: Downloading webpage\n",
      "[youtube] f9o0m5cE4Uc: Downloading video info webpage\n",
      "[download] Destination: E:\\HOU18\\games\\game 40\\game 40 audio.m4a\n",
      "[download] 100% of 137.94MiB in 00:26                          \n",
      "[ffmpeg] Correcting container in \"E:\\HOU18\\games\\game 40\\game 40 audio.m4a\"\n",
      "[ffmpeg] Destination: E:\\HOU18\\games\\game 40\\game 40 audio.wav\n",
      "Deleting original file E:\\HOU18\\games\\game 40\\game 40 audio.m4a (pass -k to keep)\n",
      "[youtube] f9o0m5cE4Uc: Downloading webpage\n",
      "[youtube] f9o0m5cE4Uc: Downloading video info webpage\n",
      "[download] Destination: E:\\HOU18\\games\\game 40\\game 40 audio.m4a\n",
      "[download] 100% of 137.94MiB in 00:21                          \n",
      "[ffmpeg] Correcting container in \"E:\\HOU18\\games\\game 40\\game 40 audio.m4a\"\n",
      "[ffmpeg] Destination: E:\\HOU18\\games\\game 40\\game 40 audio.wav\n",
      "Deleting original file E:\\HOU18\\games\\game 40\\game 40 audio.m4a (pass -k to keep)\n",
      "[youtube] f9o0m5cE4Uc: Downloading webpage\n",
      "[youtube] f9o0m5cE4Uc: Downloading video info webpage\n",
      "[download] Destination: E:\\HOU18\\games\\game 40\\game 40 video.mp4\n",
      "[download] 100% of 2.43GiB in 09:08                          \n",
      "[youtube] f9o0m5cE4Uc: Downloading webpage\n",
      "[youtube] f9o0m5cE4Uc: Downloading video info webpage\n",
      "[download] E:\\HOU18\\games\\game 40\\game 40 video.mp4 has already been downloaded\n",
      "[download] 100% of 2.43GiB\n",
      "[youtube] EeojYZQJPnE: Downloading webpage\n",
      "[youtube] EeojYZQJPnE: Downloading video info webpage\n",
      "[download] E:\\HOU18\\games\\game 41\\game 41 audio.webm has already been downloaded\n",
      "[download] 100% of 93.48MiB\n",
      "[ffmpeg] Destination: E:\\HOU18\\games\\game 41\\game 41 audio.wav\n",
      "Deleting original file E:\\HOU18\\games\\game 41\\game 41 audio.webm (pass -k to keep)\n",
      "[youtube] EeojYZQJPnE: Downloading webpage\n",
      "[youtube] EeojYZQJPnE: Downloading video info webpage\n",
      "[download] Destination: E:\\HOU18\\games\\game 41\\game 41 audio.webm\n",
      "[download] 100% of 93.48MiB in 00:10                          \n",
      "[ffmpeg] Destination: E:\\HOU18\\games\\game 41\\game 41 audio.wav\n",
      "Deleting original file E:\\HOU18\\games\\game 41\\game 41 audio.webm (pass -k to keep)\n",
      "[youtube] EeojYZQJPnE: Downloading webpage\n",
      "[youtube] EeojYZQJPnE: Downloading video info webpage\n",
      "[download] E:\\HOU18\\games\\game 41\\game 41 video.mp4 has already been downloaded\n",
      "[download] 100% of 2.02GiB\n",
      "[youtube] EeojYZQJPnE: Downloading webpage\n",
      "[youtube] EeojYZQJPnE: Downloading video info webpage\n",
      "[download] E:\\HOU18\\games\\game 41\\game 41 video.mp4 has already been downloaded\n",
      "[download] 100% of 2.02GiB\n",
      "Wall time: 20min 21s\n"
     ]
    }
   ],
   "source": [
    "%%time\n",
    "\n",
    "import youtube_dl\n",
    "import os.path\n",
    "import pandas as pd\n",
    "\n",
    "## log file\n",
    "log=pd.read_csv('E://HOU18/HOU_18_games.csv')\n",
    "\n",
    "#loop iterator\n",
    "#88,89,90,91,92,93,94,96,97,98\n",
    "lst=[39,40]\n",
    "#directory path\n",
    "\n",
    "\n",
    "for n in lst:\n",
    "    path=f'E://HOU18/games/game {n+1}/'\n",
    "    #url\n",
    "    url=log['game_url'][n]\n",
    "\n",
    "\n",
    "    #youtube downloader \n",
    "    opt = {'outtmpl': path+u'game ' + str(n+1) + u' audio.%(ext)s' ,'format':'bestaudio',\n",
    "           'postprocessors' : [{'key':'FFmpegExtractAudio','preferredcodec':'wav'}]}\n",
    "\n",
    "    ydl= youtube_dl.YoutubeDL(opt)\n",
    "\n",
    "    with ydl:\n",
    "              r=ydl.extract_info(url, download=True)\n",
    "\n",
    "              ydl.download([url])\n",
    "\n",
    "    #youtube downloader  resolution options\n",
    "\n",
    "    '''\n",
    "    format\n",
    "    137: 1080p\n",
    "    136: 720p\n",
    "    135: 480p\n",
    "    134: 360p\n",
    "    133: 240p\n",
    "\n",
    "    '''\n",
    "    \n",
    "    opt = {'outtmpl': path +u'game ' + str(n+1) + u' video.%(ext)s','format':'136'}\n",
    "\n",
    "    ydl= youtube_dl.YoutubeDL(opt)\n",
    "\n",
    "    with ydl:\n",
    "              r=ydl.extract_info(url,download=True)\n",
    "\n",
    "              ydl.download([url])\n",
    "                \n",
    "    n+=1"
   ]
  },
  {
   "cell_type": "code",
   "execution_count": null,
   "metadata": {},
   "outputs": [],
   "source": []
  },
  {
   "cell_type": "markdown",
   "metadata": {},
   "source": [
    "## Single audio pull"
   ]
  },
  {
   "cell_type": "code",
   "execution_count": 12,
   "metadata": {},
   "outputs": [
    {
     "name": "stdout",
     "output_type": "stream",
     "text": [
      "[youtube] 91YyEVUeO8I: Downloading webpage\n",
      "[youtube] 91YyEVUeO8I: Downloading video info webpage\n",
      "[download] Destination: E:\\HOU18\\Playoffs 2017\\games\\game 16\\game 16 audio.wav\n",
      "[download] 100% of 230.70MiB in 00:25                   \n",
      "[ffmpeg] Correcting container in \"E:\\HOU18\\Playoffs 2017\\games\\game 16\\game 16 audio.wav\"\n",
      "[ffmpeg] Post-process file E:\\HOU18\\Playoffs 2017\\games\\game 16\\game 16 audio.wav exists, skipping\n",
      "[youtube] 91YyEVUeO8I: Downloading webpage\n",
      "[youtube] 91YyEVUeO8I: Downloading video info webpage\n",
      "[download] E:\\HOU18\\Playoffs 2017\\games\\game 16\\game 16 audio.wav has already been downloaded\n",
      "[download] 100% of 230.47MiB\n",
      "[ffmpeg] Correcting container in \"E:\\HOU18\\Playoffs 2017\\games\\game 16\\game 16 audio.wav\"\n",
      "[ffmpeg] Post-process file E:\\HOU18\\Playoffs 2017\\games\\game 16\\game 16 audio.wav exists, skipping\n",
      "Wall time: 54.1 s\n"
     ]
    }
   ],
   "source": [
    "%%time\n",
    "\n",
    "import youtube_dl\n",
    "import os.path\n",
    "import pandas as pd\n",
    "\n",
    "## log file\n",
    "#log=pd.read_csv('E://HOU18/World series 2017/2017WS_games.csv')\n",
    "\n",
    "#loop iterator\n",
    "\n",
    "#directory path\n",
    "path=f'E://HOU18/Playoffs 2017/games/game 1/'\n",
    "#url\n",
    "url='https://www.youtube.com/watch?v=Q8PMoFWkvz0'\n",
    "\n",
    "\n",
    "#youtube downloader \n",
    "opt = {'outtmpl': path+ u'game 1 audio.wav' ,'format':'bestaudio',\n",
    "       'postprocessors' : [{'key':'FFmpegExtractAudio','preferredcodec':'wav'}]}\n",
    "\n",
    "ydl= youtube_dl.YoutubeDL(opt)\n",
    "\n",
    "with ydl:\n",
    "          r=ydl.extract_info(url, download=True)\n",
    "          ydl.download([url])\n"
   ]
  },
  {
   "cell_type": "markdown",
   "metadata": {},
   "source": [
    "## Single video pull"
   ]
  },
  {
   "cell_type": "code",
   "execution_count": 2,
   "metadata": {},
   "outputs": [
    {
     "name": "stdout",
     "output_type": "stream",
     "text": [
      "[youtube] PlZoda8VnAg: Downloading webpage\n",
      "[youtube] PlZoda8VnAg: Downloading video info webpage\n",
      "[download] Destination: E:\\HOU18\\games\\game 25\\game 25 video.mp4\n",
      "[download] 100% of 2.96GiB in 06:47                          \n",
      "[youtube] PlZoda8VnAg: Downloading webpage\n",
      "[youtube] PlZoda8VnAg: Downloading video info webpage\n",
      "[download] E:\\HOU18\\games\\game 25\\game 25 video.mp4 has already been downloaded\n",
      "[download] 100% of 2.96GiB\n",
      "Wall time: 6min 52s\n"
     ]
    }
   ],
   "source": [
    "%%time\n",
    "\n",
    "import youtube_dl\n",
    "import os.path\n",
    "import pandas as pd\n",
    "\n",
    "## log file\n",
    "log=pd.read_csv('E://HOU18/Hou_18_games.csv')\n",
    "\n",
    "#loop iterator\n",
    "\n",
    "#directory path\n",
    "path=f'E://HOU18/games/game 25/'\n",
    "#url\n",
    "url='https://www.youtube.com/watch?v=PlZoda8VnAg'\n",
    "\n",
    "\n",
    "#youtube downloader  resolution options\n",
    "\n",
    "'''\n",
    "format\n",
    "137: 1080p\n",
    "136: 720p\n",
    "135: 480p\n",
    "134: 360p\n",
    "133: 240p\n",
    "\n",
    "'''\n",
    "\n",
    "opt = {'outtmpl': path +u'game ' + str(25) + u' video.%(ext)s','format':'136'}\n",
    "\n",
    "ydl= youtube_dl.YoutubeDL(opt)\n",
    "\n",
    "with ydl:\n",
    "          r=ydl.extract_info(url,download=True)\n",
    "          ydl.download([url])\n"
   ]
  },
  {
   "cell_type": "code",
   "execution_count": null,
   "metadata": {},
   "outputs": [],
   "source": []
  }
 ],
 "metadata": {
  "kernelspec": {
   "display_name": "Python 3",
   "language": "python",
   "name": "python3"
  },
  "language_info": {
   "codemirror_mode": {
    "name": "ipython",
    "version": 3
   },
   "file_extension": ".py",
   "mimetype": "text/x-python",
   "name": "python",
   "nbconvert_exporter": "python",
   "pygments_lexer": "ipython3",
   "version": "3.7.3"
  }
 },
 "nbformat": 4,
 "nbformat_minor": 4
}
