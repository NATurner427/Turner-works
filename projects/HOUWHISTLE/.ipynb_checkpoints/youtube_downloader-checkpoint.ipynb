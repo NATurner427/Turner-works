{
 "cells": [
  {
   "cell_type": "code",
   "execution_count": 2,
   "metadata": {},
   "outputs": [],
   "source": [
    "import youtube_dl\n",
    "import os.path"
   ]
  },
  {
   "cell_type": "markdown",
   "metadata": {},
   "source": [
    "get audio"
   ]
  },
  {
   "cell_type": "code",
   "execution_count": null,
   "metadata": {},
   "outputs": [],
   "source": []
  },
  {
   "cell_type": "code",
   "execution_count": null,
   "metadata": {
    "scrolled": true
   },
   "outputs": [
    {
     "name": "stdout",
     "output_type": "stream",
     "text": [
      "[youtube] GfxVITaXZo0: Downloading webpage\n",
      "[download] Destination: E:\\HOU AT TEX - March 30, 2018.webm\n",
      "[download] 100% of 125.40MiB in 00:13                          \n",
      "[ffmpeg] Destination: E:\\HOU AT TEX - March 30, 2018.wav\n"
     ]
    }
   ],
   "source": [
    "#url\n",
    "x='https://www.youtube.com/watch?v=GfxVITaXZo0'\n",
    "#directory path\n",
    "path='E://'\n",
    "\n",
    "\n",
    "#youtube downloader \n",
    "opt = {'outtmpl': path + u'%(title)s.%(ext)s' ,'format':'bestaudio',\n",
    "       'postprocessors' : [{'key':'FFmpegExtractAudio','preferredcodec':'wav'}]}\n",
    "      \n",
    "ydl= youtube_dl.YoutubeDL(opt)\n",
    "\n",
    "with ydl:\n",
    "          r=ydl.extract_info(x,download=True)\n",
    "    \n",
    "          ydl.download([x])"
   ]
  },
  {
   "cell_type": "markdown",
   "metadata": {},
   "source": [
    "get video"
   ]
  },
  {
   "cell_type": "code",
   "execution_count": 4,
   "metadata": {},
   "outputs": [
    {
     "name": "stdout",
     "output_type": "stream",
     "text": [
      "[youtube] FIzy7l1vWpM: Downloading webpage\n",
      "[download] Destination: E:\\HOU18\\videos\\NYA AT HOU - May 03, 2018 video.mp4\n",
      "[download] 100% of 1.54GiB in 10:30                          \n",
      "[youtube] FIzy7l1vWpM: Downloading webpage\n",
      "[download] E:\\HOU18\\videos\\NYA AT HOU - May 03, 2018 video.mp4 has already been downloaded\n",
      "[download] 100% of 1.54GiB\n"
     ]
    }
   ],
   "source": [
    "#url\n",
    "x='https://www.youtube.com/watch?v=FIzy7l1vWpM'\n",
    "#directory path\n",
    "path='E://HOU18/videos/'\n",
    "\n",
    "\n",
    "#youtube downloader \n",
    "'''\n",
    "format\n",
    "137: 1080p\n",
    "136: 720p\n",
    "135: 480p\n",
    "134: 360p\n",
    "133: 240p\n",
    "\n",
    "'''\n",
    "opt = {'outtmpl': path + u'%(title)s video.%(ext)s','format':'136'}\n",
    "ydl= youtube_dl.YoutubeDL(opt)\n",
    "\n",
    "with ydl:\n",
    "          r=ydl.extract_info(x,download=True)\n",
    "    \n",
    "          ydl.download([x])"
   ]
  },
  {
   "cell_type": "code",
   "execution_count": null,
   "metadata": {},
   "outputs": [],
   "source": []
  }
 ],
 "metadata": {
  "kernelspec": {
   "display_name": "Python 3",
   "language": "python",
   "name": "python3"
  },
  "language_info": {
   "codemirror_mode": {
    "name": "ipython",
    "version": 3
   },
   "file_extension": ".py",
   "mimetype": "text/x-python",
   "name": "python",
   "nbconvert_exporter": "python",
   "pygments_lexer": "ipython3",
   "version": "3.6.6"
  }
 },
 "nbformat": 4,
 "nbformat_minor": 2
}
