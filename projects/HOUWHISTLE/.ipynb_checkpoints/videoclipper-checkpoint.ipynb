{
 "cells": [
  {
   "cell_type": "markdown",
   "metadata": {},
   "source": [
    "## Video and audio clipper\n",
    "\n",
    "Once the comprehensive log is made this program runs through the video again and cuts the video and audio into just the portion surrounding each pitch. I've thought of adding this to timestamper program but teo reasons prevent me. \n",
    "\n",
    "1) Some manual proofreading is needed once the timestamper routine runs to recouncil what tesseract found versus the pitch logs and removing errounous text pulls. \n",
    "\n",
    "2) the main slow down of this program is processing the video to clip it. If I inserted this routine into the timestamper int would not save anytime, it would slow down the previous routine. As I did with game 2 to bug check, I may need to restart the timestamper multiple times to make sure crops are correct and tesseract is reading properly so slowing down that process would be an overall hinderance.\n",
    "\n"
   ]
  },
  {
   "cell_type": "code",
   "execution_count": 7,
   "metadata": {},
   "outputs": [
    {
     "data": {
      "text/html": [
       "<div>\n",
       "<style scoped>\n",
       "    .dataframe tbody tr th:only-of-type {\n",
       "        vertical-align: middle;\n",
       "    }\n",
       "\n",
       "    .dataframe tbody tr th {\n",
       "        vertical-align: top;\n",
       "    }\n",
       "\n",
       "    .dataframe thead th {\n",
       "        text-align: right;\n",
       "    }\n",
       "</style>\n",
       "<table border=\"1\" class=\"dataframe\">\n",
       "  <thead>\n",
       "    <tr style=\"text-align: right;\">\n",
       "      <th></th>\n",
       "      <th>game</th>\n",
       "      <th>Date</th>\n",
       "      <th>Opponent</th>\n",
       "      <th>HOME</th>\n",
       "      <th>HOU_SCORE</th>\n",
       "      <th>OPP_SCORE</th>\n",
       "      <th>WIN</th>\n",
       "      <th>pitch_url</th>\n",
       "      <th>Youtube search</th>\n",
       "      <th>game_url</th>\n",
       "    </tr>\n",
       "  </thead>\n",
       "  <tbody>\n",
       "    <tr>\n",
       "      <th>0</th>\n",
       "      <td>1</td>\n",
       "      <td>24-Oct-17</td>\n",
       "      <td>LAD</td>\n",
       "      <td>0</td>\n",
       "      <td>1</td>\n",
       "      <td>3</td>\n",
       "      <td>0</td>\n",
       "      <td>https://baseballsavant.mlb.com/gamefeed?game_p...</td>\n",
       "      <td>HOU AT LAN - October 24, 2017</td>\n",
       "      <td>https://www.youtube.com/watch?v=F2QVELDu_Y4</td>\n",
       "    </tr>\n",
       "  </tbody>\n",
       "</table>\n",
       "</div>"
      ],
      "text/plain": [
       "   game       Date Opponent  HOME  HOU_SCORE  OPP_SCORE  WIN  \\\n",
       "0     1  24-Oct-17      LAD     0          1          3    0   \n",
       "\n",
       "                                           pitch_url  \\\n",
       "0  https://baseballsavant.mlb.com/gamefeed?game_p...   \n",
       "\n",
       "                  Youtube search                                     game_url  \n",
       "0  HOU AT LAN - October 24, 2017  https://www.youtube.com/watch?v=F2QVELDu_Y4  "
      ]
     },
     "execution_count": 7,
     "metadata": {},
     "output_type": "execute_result"
    }
   ],
   "source": [
    "import os\n",
    "import moviepy.editor as mpy\n",
    "import pandas as pd\n",
    "from IPython.display import clear_output\n",
    "\n",
    "#game number\n",
    "n=1\n",
    "\n",
    "#Pull in relevant logs and set path to input video and audio and output files\n",
    "summary=pd.read_csv('E://HOU18/World series 2017/2017WS_games.csv')\n",
    "game=pd.read_csv(f'E://HOU18/World series 2017/games/game {n}/pitch outcomes and time.csv')\n",
    "\n",
    "input_video=f'E://HOU18/World series 2017/games/game {n}/game 1 video.mp4'\n",
    "input_audio=f'E://HOU18/World series 2017/games/game {n}/game 1 audio.wav'\n",
    "\n",
    "output_video=f'E://HOU18/World series 2017/games/game {n}/pitch clips/'\n",
    "output_audio=f'E://HOU18/World series 2017/games/game {n}/audio clips/'\n",
    "\n",
    "summary[summary['game']==n]"
   ]
  },
  {
   "cell_type": "code",
   "execution_count": 4,
   "metadata": {},
   "outputs": [
    {
     "data": {
      "text/plain": [
       "Index(['game_pitch', 'astro_batter', 'pitcher', 'pitch_type', 'batter',\n",
       "       'pitch_count', 'plate_appearence', 'inning', 'result',\n",
       "       'pitch_velo_(mph)', 'exit_velo_(mph)', 'launch_angle_(degrees)',\n",
       "       'distance_(ft)', 'xBA', 'time'],\n",
       "      dtype='object')"
      ]
     },
     "execution_count": 4,
     "metadata": {},
     "output_type": "execute_result"
    }
   ],
   "source": [
    "game.columns"
   ]
  },
  {
   "cell_type": "markdown",
   "metadata": {},
   "source": [
    "## Video clipper cell"
   ]
  },
  {
   "cell_type": "code",
   "execution_count": 5,
   "metadata": {},
   "outputs": [
    {
     "name": "stdout",
     "output_type": "stream",
     "text": [
      "finished video\n",
      "Wall time: 42min 5s\n"
     ]
    }
   ],
   "source": [
    "%%time\n",
    "\n",
    "#SET UP FOLDER STRUCTURE\n",
    "\n",
    "opp=summary[summary['game']==n]['Opponent'].iloc[0]\n",
    "\n",
    "if not os.path.exists(f'{output_video}'):\n",
    "    os.mkdir(f'{output_video}')    \n",
    "\n",
    "if not os.path.exists(f'{output_video}HOU pitchers'):\n",
    "    os.mkdir(f'{output_video}HOU pitchers')\n",
    "\n",
    "if not os.path.exists(f'{output_video}{opp} pitchers'):\n",
    "    os.mkdir(f'{output_video}{opp} pitchers')\n",
    "\n",
    "# loop through each pitch and clip video from game \n",
    "for j,row in game.iterrows():\n",
    "                      \n",
    "    if row[1]==1:\n",
    "        print(f'{opp} pitcher')\n",
    "        myclip = mpy.VideoFileClip(input_video).subclip(row[14]-15,row[14])\n",
    "        myclip.write_videofile(f'{output_video}{opp} pitchers/{row[0]} {row[2]} pitch #{row[5]} - {row[3]}.mp4')\n",
    "        clear_output(wait=True)\n",
    "                      \n",
    "    elif row[1]==0:\n",
    "        print(f'HOU pitcher')\n",
    "        myclip = mpy.VideoFileClip(input_video).subclip(row[14]-15,row[14])\n",
    "        myclip.write_videofile(f'{output_video}HOU pitchers/{row[0]} {row[2]} pitch #{row[5]} - {row[3]}.mp4')\n",
    "        clear_output(wait=True)\n",
    "    \n",
    "print('finished video')"
   ]
  },
  {
   "cell_type": "markdown",
   "metadata": {},
   "source": [
    "## Audio clipper cell"
   ]
  },
  {
   "cell_type": "code",
   "execution_count": 8,
   "metadata": {},
   "outputs": [
    {
     "name": "stdout",
     "output_type": "stream",
     "text": [
      "finished\n",
      "Wall time: 5min 23s\n"
     ]
    }
   ],
   "source": [
    "%%time\n",
    "\n",
    "#SET UP FOLDER STRUCTURE\n",
    "\n",
    "opp=summary[summary['game']==n]['Opponent'].iloc[0]\n",
    "\n",
    "if not os.path.exists(f'{output_audio}'):\n",
    "    os.mkdir(f'{output_audio}')    \n",
    "\n",
    "if not os.path.exists(f'{output_audio}HOU pitchers'):\n",
    "    os.mkdir(f'{output_audio}HOU pitchers')\n",
    "\n",
    "if not os.path.exists(f'{output_audio}{opp} pitchers'):\n",
    "    os.mkdir(f'{output_audio}{opp} pitchers')\n",
    "\n",
    "# loop through each pitch and clip video from game \n",
    "for j,row in game.iterrows():\n",
    "                      \n",
    "    if row[1]==1:\n",
    "        print(f'{opp} pitcher')\n",
    "        myclip = mpy.AudioFileClip(input_audio).subclip(row[14]-20,row[14]-5)\n",
    "        myclip.write_audiofile(f'{output_audio}{opp} pitchers/{row[0]} {row[2]} pitch #{row[5]} - {row[3]}.wav')\n",
    "        clear_output(wait=True)\n",
    "                      \n",
    "    elif row[1]==0:\n",
    "        print(f'HOU pitcher')\n",
    "        myclip = mpy.AudioFileClip(input_audio).subclip(row[14]-20,row[14]-5)\n",
    "        myclip.write_audiofile(f'{output_audio}HOU pitchers/{row[0]} {row[2]} pitch #{row[5]} - {row[3]}.wav')\n",
    "        clear_output(wait=True)\n",
    "    \n",
    "print('finished')  "
   ]
  },
  {
   "cell_type": "markdown",
   "metadata": {},
   "source": [
    "Now have a set of audio clips and video clips for reference.\n",
    "\n",
    "The audio wav files need to be converted to spectrograms before using a CNN to look for the whistles.\n",
    "\n",
    "Will think about processing the wav (high pass filter? other actions?)"
   ]
  },
  {
   "cell_type": "markdown",
   "metadata": {},
   "source": [
    "## Manual Clipper"
   ]
  },
  {
   "cell_type": "code",
   "execution_count": 58,
   "metadata": {},
   "outputs": [
    {
     "name": "stderr",
     "output_type": "stream",
     "text": [
      "chunk:   0%|                                                                          | 0/67 [00:00<?, ?it/s, now=None]"
     ]
    },
    {
     "name": "stdout",
     "output_type": "stream",
     "text": [
      "MoviePy - Writing audio in E://HOU18/b27 whistle/audio clips/test.wav\n"
     ]
    },
    {
     "name": "stderr",
     "output_type": "stream",
     "text": [
      "                                                                                                                       "
     ]
    },
    {
     "name": "stdout",
     "output_type": "stream",
     "text": [
      "MoviePy - Done.\n"
     ]
    },
    {
     "name": "stderr",
     "output_type": "stream",
     "text": [
      "\r"
     ]
    }
   ],
   "source": [
    "import os\n",
    "import moviepy.editor as mpy\n",
    "import pandas as pd\n",
    "from IPython.display import clear_output\n",
    "\n",
    "myclip = mpy.AudioFileClip('E://HOU18/b27 whistle/b27 whistle audio 2.wav').subclip(171.5,174.5)\n",
    "myclip.write_audiofile(f'E://HOU18/b27 whistle/audio clips/test.wav')\n"
   ]
  },
  {
   "cell_type": "code",
   "execution_count": null,
   "metadata": {},
   "outputs": [],
   "source": []
  }
 ],
 "metadata": {
  "kernelspec": {
   "display_name": "Python 3",
   "language": "python",
   "name": "python3"
  },
  "language_info": {
   "codemirror_mode": {
    "name": "ipython",
    "version": 3
   },
   "file_extension": ".py",
   "mimetype": "text/x-python",
   "name": "python",
   "nbconvert_exporter": "python",
   "pygments_lexer": "ipython3",
   "version": "3.7.3"
  }
 },
 "nbformat": 4,
 "nbformat_minor": 4
}
