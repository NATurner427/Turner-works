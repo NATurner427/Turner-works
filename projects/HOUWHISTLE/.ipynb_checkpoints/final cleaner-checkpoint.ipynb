{
 "cells": [
  {
   "cell_type": "code",
   "execution_count": 1,
   "metadata": {},
   "outputs": [],
   "source": [
    "import pandas as pd\n",
    "import numpy as np\n",
    "import datetime"
   ]
  },
  {
   "cell_type": "code",
   "execution_count": 17,
   "metadata": {},
   "outputs": [],
   "source": [
    "path='C://Users/16142/Desktop/Astro/2017 postseason/'\n",
    "df=pd.read_csv(f'{path}2017 postseason pitch log.csv')\n",
    "summary=pd.read_csv(f'{path}2017playoff_games.csv')"
   ]
  },
  {
   "cell_type": "code",
   "execution_count": 8,
   "metadata": {},
   "outputs": [],
   "source": [
    "date={43013:'2017-10-05',43014:'2017-10-06',43021:'2017-10-13',43022:'2017-10-14',43028:'2017-10-20',43029:'2017-10-21',43035:'2017-10-27',43036:'2017-10-28',43037:'2017-10-29'}"
   ]
  },
  {
   "cell_type": "code",
   "execution_count": 9,
   "metadata": {},
   "outputs": [],
   "source": [
    "pitches={1:['Two-Seam Fastball','Four-Seam Fastball','Cutter','Sinker','Splitter','Forkball'],\n",
    "       2:['Changeup','Curveball','Slider','Knuckle Curve','Eephus','Screwball','Knuckleball']}"
   ]
  },
  {
   "cell_type": "code",
   "execution_count": 33,
   "metadata": {},
   "outputs": [],
   "source": [
    "df2=df.replace(date)"
   ]
  },
  {
   "cell_type": "code",
   "execution_count": 36,
   "metadata": {},
   "outputs": [],
   "source": [
    "lst=[]\n",
    "for i,row in df2.iterrows():\n",
    "    lst.append(str(datetime.timedelta(0,int(row[21]))))\n",
    "    \n",
    "    \n"
   ]
  },
  {
   "cell_type": "code",
   "execution_count": 19,
   "metadata": {},
   "outputs": [],
   "source": [
    "lst=[]\n",
    "for i,row in df.iterrows():\n",
    "    for sign,pitch in pitches.items():\n",
    "            if row[8] in pitch:\n",
    "                lst.append(sign)"
   ]
  },
  {
   "cell_type": "code",
   "execution_count": 38,
   "metadata": {},
   "outputs": [],
   "source": [
    "df2.insert(loc=22,column='youtube_timestamp',value=lst)"
   ]
  },
  {
   "cell_type": "code",
   "execution_count": 20,
   "metadata": {},
   "outputs": [],
   "source": [
    "df.insert(loc=9,column='pitch_category',value=lst)"
   ]
  },
  {
   "cell_type": "code",
   "execution_count": 22,
   "metadata": {},
   "outputs": [],
   "source": [
    "df.to_csv(f'{path}2017 postseason pitch log.csv',index=False)"
   ]
  },
  {
   "cell_type": "code",
   "execution_count": 68,
   "metadata": {},
   "outputs": [
    {
     "data": {
      "text/html": [
       "<div>\n",
       "<style scoped>\n",
       "    .dataframe tbody tr th:only-of-type {\n",
       "        vertical-align: middle;\n",
       "    }\n",
       "\n",
       "    .dataframe tbody tr th {\n",
       "        vertical-align: top;\n",
       "    }\n",
       "\n",
       "    .dataframe thead th {\n",
       "        text-align: right;\n",
       "    }\n",
       "</style>\n",
       "<table border=\"1\" class=\"dataframe\">\n",
       "  <thead>\n",
       "    <tr style=\"text-align: right;\">\n",
       "      <th></th>\n",
       "      <th>Game</th>\n",
       "      <th>Date</th>\n",
       "      <th>Opponent</th>\n",
       "      <th>Hou_Score</th>\n",
       "      <th>Opp_Score</th>\n",
       "      <th>Win</th>\n",
       "      <th>game_pitch</th>\n",
       "      <th>pitcher</th>\n",
       "      <th>pitch_type</th>\n",
       "      <th>pitch_sign</th>\n",
       "      <th>...</th>\n",
       "      <th>time</th>\n",
       "      <th>adjusted</th>\n",
       "      <th>start</th>\n",
       "      <th>youtube_timestamp</th>\n",
       "      <th>game_url</th>\n",
       "      <th>timestamp</th>\n",
       "      <th>pitch_url</th>\n",
       "      <th>whistle</th>\n",
       "      <th>type</th>\n",
       "      <th>notes</th>\n",
       "    </tr>\n",
       "  </thead>\n",
       "  <tbody>\n",
       "    <tr>\n",
       "      <th>0</th>\n",
       "      <td>1</td>\n",
       "      <td>2017-10-05</td>\n",
       "      <td>BOS</td>\n",
       "      <td>8</td>\n",
       "      <td>2</td>\n",
       "      <td>1</td>\n",
       "      <td>16</td>\n",
       "      <td>Sale</td>\n",
       "      <td>Two-Seam Fastball</td>\n",
       "      <td>1</td>\n",
       "      <td>...</td>\n",
       "      <td>1228</td>\n",
       "      <td>1228</td>\n",
       "      <td>1208</td>\n",
       "      <td>0:20:08</td>\n",
       "      <td>https://www.youtube.com/watch?v=Q8PMoFWkvz0</td>\n",
       "      <td>https://www.youtube.com/watch?v=Q8PMoFWkvz0&amp;t=...</td>\n",
       "      <td>https://baseballsavant.mlb.com/gamefeed?game_p...</td>\n",
       "      <td>NaN</td>\n",
       "      <td>NaN</td>\n",
       "      <td>NaN</td>\n",
       "    </tr>\n",
       "  </tbody>\n",
       "</table>\n",
       "<p>1 rows × 30 columns</p>\n",
       "</div>"
      ],
      "text/plain": [
       "   Game        Date Opponent  Hou_Score  Opp_Score  Win  game_pitch pitcher  \\\n",
       "0     1  2017-10-05      BOS          8          2    1          16    Sale   \n",
       "\n",
       "          pitch_type  pitch_sign  ...  time  adjusted  start  \\\n",
       "0  Two-Seam Fastball           1  ...  1228      1228   1208   \n",
       "\n",
       "   youtube_timestamp                                     game_url  \\\n",
       "0            0:20:08  https://www.youtube.com/watch?v=Q8PMoFWkvz0   \n",
       "\n",
       "                                           timestamp  \\\n",
       "0  https://www.youtube.com/watch?v=Q8PMoFWkvz0&t=...   \n",
       "\n",
       "                                           pitch_url  whistle  type  notes  \n",
       "0  https://baseballsavant.mlb.com/gamefeed?game_p...      NaN   NaN    NaN  \n",
       "\n",
       "[1 rows x 30 columns]"
      ]
     },
     "execution_count": 68,
     "metadata": {},
     "output_type": "execute_result"
    }
   ],
   "source": [
    "df2.head(1)"
   ]
  },
  {
   "cell_type": "code",
   "execution_count": 53,
   "metadata": {},
   "outputs": [
    {
     "name": "stdout",
     "output_type": "stream",
     "text": [
      "0:20:08 - Springer - Two-Seam Fastball\n"
     ]
    }
   ],
   "source": [
    "df2=df2[df2['Game']==1]\n",
    "print(f'{df2.iloc[0][\"youtube_timestamp\"]} - {df2.iloc[0][\"batter\"]} - {df2.iloc[0][\"pitch_type\"]}') "
   ]
  },
  {
   "cell_type": "code",
   "execution_count": 55,
   "metadata": {
    "collapsed": true,
    "jupyter": {
     "outputs_hidden": true
    }
   },
   "outputs": [
    {
     "name": "stdout",
     "output_type": "stream",
     "text": [
      "0:20:08 - Springer - Two-Seam Fastball\n",
      "0:20:22 - Springer - Slider\n",
      "0:20:40 - Springer - Four-Seam Fastball\n",
      "0:20:59 - Springer - Four-Seam Fastball\n",
      "0:21:18 - Springer - Slider\n",
      "0:21:39 - Springer - Four-Seam Fastball\n",
      "0:22:15 - Bregman - Two-Seam Fastball\n",
      "0:22:28 - Bregman - Two-Seam Fastball\n",
      "0:22:49 - Bregman - Changeup\n",
      "0:23:09 - Bregman - Four-Seam Fastball\n",
      "0:23:30 - Bregman - Two-Seam Fastball\n",
      "0:23:53 - Bregman - Slider\n",
      "0:24:40 - Altuve - Slider\n",
      "0:24:52 - Altuve - Two-Seam Fastball\n",
      "0:25:05 - Altuve - Four-Seam Fastball\n",
      "0:26:10 - Correa - Four-Seam Fastball\n",
      "0:26:27 - Correa - Four-Seam Fastball\n",
      "0:26:46 - Correa - Slider\n",
      "0:27:01 - Correa - Two-Seam Fastball\n",
      "0:27:26 - Correa - Four-Seam Fastball\n",
      "0:28:00 - Gattis - Slider\n",
      "0:28:21 - Gattis - Slider\n",
      "0:28:40 - Gattis - Changeup\n",
      "0:48:43 - Reddick - Two-Seam Fastball\n",
      "0:48:55 - Reddick - Slider\n",
      "0:49:09 - Reddick - Slider\n",
      "0:49:26 - Reddick - Slider\n",
      "0:50:10 - Gurriel - Two-Seam Fastball\n",
      "0:50:28 - Gurriel - Slider\n",
      "0:50:48 - Gurriel - Four-Seam Fastball\n",
      "0:51:15 - Gurriel - Slider\n",
      "0:52:06 - Gurriel - Four-Seam Fastball\n",
      "0:52:35 - Gurriel - Four-Seam Fastball\n",
      "0:53:09 - Gurriel - Two-Seam Fastball\n",
      "0:53:33 - Gurriel - Two-Seam Fastball\n",
      "0:54:24 - Gonzalez - Slider\n",
      "0:54:52 - Gonzalez - Slider\n",
      "0:55:32 - Gonzalez - Slider\n",
      "0:56:09 - McCann - Slider\n",
      "0:56:30 - McCann - Two-Seam Fastball\n",
      "0:56:49 - McCann - Two-Seam Fastball\n",
      "0:57:20 - McCann - Slider\n",
      "0:57:45 - McCann - Two-Seam Fastball\n",
      "0:58:43 - McCann - Two-Seam Fastball\n",
      "0:59:25 - McCann - Slider\n",
      "1:00:00 - McCann - Four-Seam Fastball\n",
      "1:13:25 - Springer - Changeup\n",
      "1:13:38 - Springer - Four-Seam Fastball\n",
      "1:14:02 - Springer - Four-Seam Fastball\n",
      "1:14:18 - Springer - Four-Seam Fastball\n",
      "1:14:53 - Bregman - Four-Seam Fastball\n",
      "1:16:07 - Altuve - Slider\n",
      "1:16:37 - Altuve - Slider\n",
      "1:17:07 - Altuve - Two-Seam Fastball\n",
      "1:17:27 - Altuve - Two-Seam Fastball\n",
      "1:38:33 - Correa - Slider\n",
      "1:38:46 - Correa - Four-Seam Fastball\n",
      "1:39:03 - Correa - Two-Seam Fastball\n",
      "1:39:19 - Correa - Four-Seam Fastball\n",
      "1:39:58 - Gattis - Four-Seam Fastball\n",
      "1:40:36 - Gattis - Slider\n",
      "1:40:56 - Gattis - Slider\n",
      "1:41:17 - Gattis - Slider\n",
      "1:41:40 - Gattis - Changeup\n",
      "1:42:03 - Gattis - Slider\n",
      "1:43:11 - Reddick - Slider\n",
      "1:43:31 - Reddick - Two-Seam Fastball\n",
      "1:46:26 - Gurriel - Four-Seam Fastball\n",
      "1:46:44 - Gurriel - Two-Seam Fastball\n",
      "1:47:16 - Gurriel - Four-Seam Fastball\n",
      "1:47:46 - Gurriel - Four-Seam Fastball\n",
      "1:48:42 - Gonzalez - Changeup\n",
      "1:49:23 - Gonzalez - Slider\n",
      "1:49:57 - Gonzalez - Four-Seam Fastball\n",
      "1:51:16 - McCann - Four-Seam Fastball\n",
      "2:01:09 - Springer - Slider\n",
      "2:01:20 - Springer - Four-Seam Fastball\n",
      "2:01:39 - Springer - Slider\n",
      "2:01:56 - Springer - Two-Seam Fastball\n",
      "2:02:36 - Bregman - Changeup\n",
      "2:02:51 - Bregman - Changeup\n",
      "2:03:06 - Bregman - Changeup\n",
      "2:03:23 - Bregman - Two-Seam Fastball\n",
      "2:03:39 - Bregman - Four-Seam Fastball\n",
      "2:04:00 - Bregman - Four-Seam Fastball\n",
      "2:04:33 - Altuve - Two-Seam Fastball\n",
      "2:05:33 - Correa - Slider\n",
      "2:05:43 - Correa - Four-Seam Fastball\n",
      "2:06:03 - Correa - Four-Seam Fastball\n",
      "2:17:14 - Gattis - Two-Seam Fastball\n",
      "2:17:35 - Gattis - Four-Seam Fastball\n",
      "2:17:55 - Gattis - Four-Seam Fastball\n",
      "2:18:17 - Gattis - Changeup\n",
      "2:18:39 - Gattis - Four-Seam Fastball\n",
      "2:19:07 - Gattis - Four-Seam Fastball\n",
      "2:20:00 - Reddick - Four-Seam Fastball\n",
      "2:20:20 - Reddick - Two-Seam Fastball\n",
      "2:20:45 - Reddick - Slider\n",
      "2:21:13 - Reddick - Slider\n",
      "2:21:40 - Reddick - Four-Seam Fastball\n",
      "2:25:01 - Gurriel - Knuckle Curve\n",
      "2:25:22 - Gurriel - Knuckle Curve\n",
      "2:25:47 - Gurriel - Four-Seam Fastball\n",
      "2:26:12 - Gurriel - Knuckle Curve\n",
      "2:27:33 - Gonzalez - Two-Seam Fastball\n",
      "2:28:10 - Gonzalez - Knuckle Curve\n",
      "2:28:41 - Gonzalez - Two-Seam Fastball\n",
      "2:29:17 - Gonzalez - Two-Seam Fastball\n",
      "2:29:53 - Gonzalez - Slider\n",
      "2:31:13 - Gonzalez - Two-Seam Fastball\n",
      "2:31:53 - Gonzalez - Two-Seam Fastball\n",
      "2:32:25 - Gonzalez - Knuckle Curve\n",
      "2:33:08 - Gonzalez - Changeup\n",
      "2:33:49 - Gonzalez - Changeup\n",
      "2:34:30 - McCann - Two-Seam Fastball\n",
      "2:34:53 - McCann - Knuckle Curve\n",
      "2:35:16 - McCann - Two-Seam Fastball\n",
      "2:35:50 - McCann - Two-Seam Fastball\n",
      "2:36:26 - McCann - Two-Seam Fastball\n",
      "2:37:03 - McCann - Four-Seam Fastball\n",
      "2:38:03 - Springer - Two-Seam Fastball\n",
      "2:38:30 - Springer - Slider\n",
      "2:38:53 - Springer - Slider\n",
      "2:39:47 - Bregman - Two-Seam Fastball\n",
      "2:40:43 - Bregman - Slider\n",
      "2:52:30 - Altuve - Changeup\n",
      "2:52:50 - Altuve - Two-Seam Fastball\n",
      "2:53:06 - Altuve - Changeup\n",
      "2:54:23 - Correa - Two-Seam Fastball\n",
      "2:55:12 - Gattis - Changeup\n",
      "2:55:31 - Gattis - Slider\n",
      "2:55:48 - Gattis - Two-Seam Fastball\n",
      "2:56:06 - Gattis - Two-Seam Fastball\n",
      "2:56:26 - Gattis - Two-Seam Fastball\n",
      "2:57:00 - Gattis - Two-Seam Fastball\n",
      "2:58:07 - Reddick - Two-Seam Fastball\n",
      "2:58:25 - Reddick - Two-Seam Fastball\n",
      "2:59:01 - Reddick - Changeup\n",
      "2:59:15 - Reddick - Two-Seam Fastball\n",
      "2:59:32 - Reddick - Two-Seam Fastball\n",
      "3:00:20 - Reddick - Changeup\n",
      "3:00:44 - Reddick - Two-Seam Fastball\n",
      "3:01:16 - Reddick - Two-Seam Fastball\n",
      "3:19:45 - Gurriel - Four-Seam Fastball\n",
      "3:20:04 - Gurriel - Two-Seam Fastball\n",
      "3:20:22 - Gurriel - Four-Seam Fastball\n",
      "3:20:42 - Gurriel - Two-Seam Fastball\n",
      "3:21:06 - Gurriel - Four-Seam Fastball\n",
      "3:21:57 - Gonzalez - Two-Seam Fastball\n",
      "3:22:20 - Gonzalez - Changeup\n",
      "3:22:42 - Gonzalez - Four-Seam Fastball\n",
      "3:23:04 - Gonzalez - Four-Seam Fastball\n",
      "3:23:40 - Gonzalez - Four-Seam Fastball\n",
      "3:24:26 - McCann - Changeup\n",
      "3:24:51 - McCann - Slider\n"
     ]
    }
   ],
   "source": [
    "for i,row in df2.iterrows():\n",
    "    print(f'{row[22]} - {row[9]} - {row[8]}') "
   ]
  }
 ],
 "metadata": {
  "kernelspec": {
   "display_name": "Python 3",
   "language": "python",
   "name": "python3"
  },
  "language_info": {
   "codemirror_mode": {
    "name": "ipython",
    "version": 3
   },
   "file_extension": ".py",
   "mimetype": "text/x-python",
   "name": "python",
   "nbconvert_exporter": "python",
   "pygments_lexer": "ipython3",
   "version": "3.7.3"
  }
 },
 "nbformat": 4,
 "nbformat_minor": 4
}
