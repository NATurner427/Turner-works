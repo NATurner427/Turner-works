{
 "cells": [
  {
   "cell_type": "code",
   "execution_count": 1,
   "metadata": {},
   "outputs": [
    {
     "name": "stdout",
     "output_type": "stream",
     "text": [
      "top left point is (1016, 496)\n",
      "bottom right point is (1228, 655)\n",
      "time of right click 546412.5333333334\n",
      "frame number during right click 16377.0\n"
     ]
    }
   ],
   "source": [
    "import cv2\n",
    "\n",
    "#IMPORT VIDEO\n",
    "cap = cv2.VideoCapture('E:\\\\HOU18\\game 2\\HOU AT TEX - March 30, 2018 video.mp4')\n",
    "\n",
    "\n",
    "\n",
    "if cap.isOpened() == False:\n",
    "    print('ERROR FILE NOT FOUND!')\n",
    "\n",
    "    \n",
    "## CALLBACK FUNCTION RECTANGLE\n",
    "def draw_rect(event,x,y,flags,param):\n",
    "    global pt1, pt2, topleft, botright\n",
    "    \n",
    "    if event == cv2.EVENT_LBUTTONDOWN:\n",
    "\n",
    "        if topleft == True and botright == True:\n",
    "            topleft = False\n",
    "            botright = False\n",
    "           \n",
    "            pt1 = (0,0)\n",
    "            pt2 = (0,0)\n",
    "            \n",
    "            \n",
    "        if topleft == False:\n",
    "            pt1 = (x,y)\n",
    "            topleft= True\n",
    "            \n",
    "        elif botright == False:\n",
    "            pt2 = (x,y)\n",
    "            botright = True\n",
    "            \n",
    "    if event == cv2.EVENT_RBUTTONDOWN:\n",
    "            print(f'top left point is {pt1}')\n",
    "            print(f'bottom right point is {pt2}')\n",
    "            topleft = False\n",
    "            botright = False\n",
    "            pt1 = (0,0)\n",
    "            pt2 = (0,0)\n",
    "            t=cap.get(cv2.CAP_PROP_POS_MSEC)\n",
    "            f=cap.get(cv2.CAP_PROP_POS_FRAMES)\n",
    "            print(f'time of right click {t}')\n",
    "            print(f'frame number during right click {f}')\n",
    "## GLOBAL VARIABLES\n",
    "pt1=(0,0)\n",
    "pt2=(0,0)\n",
    "topleft = False\n",
    "botright = False\n",
    "\n",
    "\n",
    "## CONNECT TO CALL BACK\n",
    "cv2.namedWindow('frame')\n",
    "cv2.setMouseCallback('frame',draw_rect)\n",
    "    \n",
    "while cap.isOpened():\n",
    "    \n",
    "    ret,frame = cap.read()\n",
    "    \n",
    "    if ret ==True:\n",
    "        \n",
    "        if topleft:\n",
    "            cv2.circle(frame,center=pt1,radius=3,color=(255,255,255),thickness=-1)\n",
    "        \n",
    "        if topleft and botright:\n",
    "            cv2.rectangle(frame,pt1,pt2,(255,255,255),2)\n",
    "        \n",
    "        cv2.imshow('frame',frame)\n",
    "        \n",
    "        if cv2.waitKey(10) & 0xFF == ord('q'):\n",
    "            break\n",
    "            \n",
    "    else:\n",
    "        break\n",
    "        \n",
    "cap.release()\n",
    "cv2.destroyAllWindows()"
   ]
  },
  {
   "cell_type": "code",
   "execution_count": null,
   "metadata": {},
   "outputs": [],
   "source": []
  }
 ],
 "metadata": {
  "kernelspec": {
   "display_name": "Python 3",
   "language": "python",
   "name": "python3"
  },
  "language_info": {
   "codemirror_mode": {
    "name": "ipython",
    "version": 3
   },
   "file_extension": ".py",
   "mimetype": "text/x-python",
   "name": "python",
   "nbconvert_exporter": "python",
   "pygments_lexer": "ipython3",
   "version": "3.7.3"
  }
 },
 "nbformat": 4,
 "nbformat_minor": 4
}
