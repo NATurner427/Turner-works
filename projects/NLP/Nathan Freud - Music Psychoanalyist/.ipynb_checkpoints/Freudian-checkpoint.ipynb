{
 "cells": [
  {
   "cell_type": "code",
   "execution_count": 5,
   "metadata": {},
   "outputs": [],
   "source": [
    "import pickle, re, time, string, requests, unidecode\n",
    "\n",
    "import pandas as pd\n",
    "import numpy as np\n",
    "\n",
    "import en_core_web_sm\n",
    "\n",
    "from selenium import webdriver\n",
    "from selenium.webdriver.common.by import By\n",
    "from selenium.webdriver.support.ui import WebDriverWait\n",
    "from selenium.webdriver.support import expected_conditions as EC\n",
    "from selenium.common.exceptions import TimeoutException\n",
    "\n",
    "from webdriver_manager.chrome import ChromeDriverManager\n",
    "\n",
    "from bs4 import BeautifulSoup\n",
    "\n",
    "def clean_text(text):\n",
    "    '''Make text lowercase, remove text in square brackets, remove punctuation and remove words containing numbers.'''\n",
    "    text = text.lower()\n",
    "    text = re.sub(r'\\[.*?\\]', '', text)\n",
    "    text = re.sub(r'[%s]' % re.escape(string.punctuation), '', text)\n",
    "    text = re.sub(r'\\w*\\d\\w*', '', text)\n",
    "    return text\n",
    "\n",
    "def lemmatizer(text,i=[0]):\n",
    "    sent = []\n",
    "    doc = en_core_web_sm.load()(text)\n",
    "    for word in doc:\n",
    "        \n",
    "        sent.append(word.lemma_)\n",
    "    return \" \".join(sent)\n",
    "\n",
    "def lyric_grab(url):\n",
    "    driver = webdriver.Chrome(ChromeDriverManager().install())\n",
    "    driver.implicitly_wait(30)\n",
    "\n",
    "    driver.get(url)\n",
    "\n",
    "    page= driver.find_element_by_xpath(f'/html/body/routable-page/ng-outlet/song-page/div/div/div/div/div')\n",
    "\n",
    "    soup=BeautifulSoup(page.text,'html.parser')\n",
    "    driver.quit()\n",
    "\n",
    "    s=str(soup)\n",
    "    s=s.replace('\\u2005',' ')\n",
    "    s=s.split('\\n')\n",
    "    s.pop()\n",
    "    s.pop()\n",
    "    s.pop(0)\n",
    "\n",
    "    s=[x for x in s if '[' not in x]\n",
    "    for line in s:\n",
    "        if line == '':\n",
    "            s.remove('')\n",
    "\n",
    "    lyrics=''\n",
    "    for line in s:        \n",
    "        lyrics+=str(line)\n",
    "        lyrics+=' '\n",
    "    return lyrics\n",
    "\n",
    "def Freud(url):\n",
    "    lyrics=lyric_grab(url)\n",
    "    lyrics=clean_text(lyrics)\n",
    "    lyrics=lemmatizer(lyrics).replace('-PRON-','')\n",
    "    lyric_list=[]\n",
    "    lyric_list.append(lyrics)\n",
    "    vector=vectorizer.transform(lyric_list)\n",
    "    prob_scores=LDA.transform(vector)\n",
    "    print('         Ego          SuperEgo          Id')\n",
    "    return prob_scores[0]\n",
    "\n",
    "vectorizer=pickle.load(open('Nathan_Freud_vectorizer.sav','rb'))\n",
    "LDA=pickle.load(open('Nathan_Freud_Music_Psychologist.sav','rb'))"
   ]
  },
  {
   "cell_type": "code",
   "execution_count": 8,
   "metadata": {
    "scrolled": true
   },
   "outputs": [
    {
     "name": "stderr",
     "output_type": "stream",
     "text": [
      "[WDM] - Cache is valid for [05/06/2020]\n",
      "[WDM] - Looking for [chromedriver 83.0.4103.39 win32] driver in cache \n",
      "[WDM] - Driver found in cache [C:\\Users\\16142\\.wdm\\drivers\\chromedriver\\83.0.4103.39\\win32\\chromedriver.exe]\n"
     ]
    },
    {
     "name": "stdout",
     "output_type": "stream",
     "text": [
      " \n",
      "         Ego          SuperEgo          Id\n"
     ]
    },
    {
     "data": {
      "text/plain": [
       "array([0.10568112, 0.4279531 , 0.46636578])"
      ]
     },
     "execution_count": 8,
     "metadata": {},
     "output_type": "execute_result"
    }
   ],
   "source": [
    "Freud('https://genius.com/Be-your-own-pet-the-kelly-affair-lyrics')"
   ]
  },
  {
   "cell_type": "code",
   "execution_count": null,
   "metadata": {},
   "outputs": [],
   "source": []
  }
 ],
 "metadata": {
  "kernelspec": {
   "display_name": "Python 3",
   "language": "python",
   "name": "python3"
  },
  "language_info": {
   "codemirror_mode": {
    "name": "ipython",
    "version": 3
   },
   "file_extension": ".py",
   "mimetype": "text/x-python",
   "name": "python",
   "nbconvert_exporter": "python",
   "pygments_lexer": "ipython3",
   "version": "3.7.3"
  }
 },
 "nbformat": 4,
 "nbformat_minor": 2
}
