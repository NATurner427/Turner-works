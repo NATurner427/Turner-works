{
 "cells": [
  {
   "cell_type": "code",
   "execution_count": 3,
   "metadata": {},
   "outputs": [
    {
     "data": {
      "text/html": [
       "        <script type=\"text/javascript\">\n",
       "        window.PlotlyConfig = {MathJaxConfig: 'local'};\n",
       "        if (window.MathJax) {MathJax.Hub.Config({SVG: {font: \"STIX-Web\"}});}\n",
       "        if (typeof require !== 'undefined') {\n",
       "        require.undef(\"plotly\");\n",
       "        requirejs.config({\n",
       "            paths: {\n",
       "                'plotly': ['https://cdn.plot.ly/plotly-latest.min']\n",
       "            }\n",
       "        });\n",
       "        require(['plotly'], function(Plotly) {\n",
       "            window._Plotly = Plotly;\n",
       "        });\n",
       "        }\n",
       "        </script>\n",
       "        "
      ]
     },
     "metadata": {},
     "output_type": "display_data"
    }
   ],
   "source": [
    "import numpy as np\n",
    "import pandas as pd\n",
    "import scipy.sparse\n",
    "\n",
    "import matplotlib\n",
    "import matplotlib.pyplot as plt\n",
    "from matplotlib.font_manager import FontProperties\n",
    "import plotly.graph_objects as go\n",
    "import pyLDAvis\n",
    "import pyLDAvis.sklearn\n",
    "import seaborn as sns\n",
    "sns.set_style('white')\n",
    "\n",
    "import nltk\n",
    "\n",
    "import string\n",
    "from nltk.corpus import stopwords\n",
    "\n",
    "import psycopg2 as pg2\n",
    "\n",
    "import ipywidgets as widgets\n",
    "from ipywidgets import interact, interactive,fixed\n",
    "\n",
    "import cufflinks as cf\n",
    "import plotly.offline\n",
    "cf.go_offline()\n",
    "cf.set_config_file(offline=False, world_readable=True)\n",
    "\n",
    "from sklearn.feature_extraction.text import TfidfTransformer\n",
    "from sklearn.decomposition import LatentDirichletAllocation\n",
    "from sklearn.decomposition import nmf\n",
    "from sklearn.feature_extraction.text import CountVectorizer\n",
    "\n",
    "\n",
    "from wordcloud import WordCloud, STOPWORDS\n",
    "from subprocess import check_output\n",
    "import matplotlib as mpl\n",
    "\n",
    "%matplotlib inline"
   ]
  },
  {
   "cell_type": "markdown",
   "metadata": {},
   "source": [
    "## music lyric look up class"
   ]
  },
  {
   "cell_type": "code",
   "execution_count": 2,
   "metadata": {},
   "outputs": [],
   "source": [
    "# class that puts all the SQL query actions under the hood.\n",
    "\n",
    "class Query:\n",
    "\n",
    "    def total(self,artist):\n",
    "        conn = pg2.connect(database='Music',user='postgres',password='obscura88')\n",
    "        cur=conn.cursor()\n",
    "        cur.execute(\"SELECT artist, SUM(lyrics_word_length), SUM(cleaned_word_length) FROM song_lyrics WHERE artist = (%s)  GROUP BY artist\", [artist])    \n",
    "        result=cur.fetchone()\n",
    "        conn.close()   \n",
    "        return print(f\"{result[0]} has {result[1]} total words in their lyrics and {result[2]} excluding stopwords\")\n",
    "        \n",
    "    def song_count(self,artist):\n",
    "        conn = pg2.connect(database='Music',user='postgres',password='obscura88')\n",
    "        cur=conn.cursor()\n",
    "        cur.execute(\"SELECT title AS Bon_Iver, lyrics_word_length, cleaned_word_length FROM song_lyrics WHERE artist = (%s)\",[artist])\n",
    "        song=cur.fetchall()\n",
    "        conn.close() \n",
    "        return song\n",
    "    \n",
    "    def album_count(self,artist):\n",
    "        conn = pg2.connect(database='Music',user='postgres',password='obscura88')\n",
    "        cur=conn.cursor()\n",
    "        cur.execute(\"SELECT album, SUM(lyrics_word_length), SUM(cleaned_word_length) FROM song_lyrics WHERE artist = (%s) GROUP BY album\",[artist])\n",
    "        album=cur.fetchall()\n",
    "        conn.close()\n",
    "        return album  \n",
    "        \n",
    "    def album_avg(self,artist):\n",
    "        conn = pg2.connect(database='Music',user='postgres',password='obscura88')\n",
    "        cur=conn.cursor()\n",
    "        cur.execute(\"SELECT artist,ROUND(AVG(original),0) AS average_word_count,ROUND(AVG(cleaned),0) AS cleaned_word_count FROM (SELECT artist, album, SUM(lyrics_word_length) AS original, SUM(cleaned_word_length) AS cleaned FROM song_lyrics WHERE artist = (%s) GROUP BY album, artist) AS T GROUP BY artist\",[artist])\n",
    "        albumavg=cur.fetchone()\n",
    "        conn.close\n",
    "        print(f'{albumavg[0]} averages {albumavg[1]} words an album {albumavg[2]} of which are non stopwords')\n",
    "        print('\\n')\n",
    "        return\n",
    "        \n",
    "    def song_avg(self,artist):\n",
    "        conn = pg2.connect(database='Music',user='postgres',password='obscura88')\n",
    "        cur=conn.cursor()\n",
    "        cur.execute(\"SELECT artist, ROUND(AVG(lyrics_word_length),0) AS average_word_count, ROUND(AVG(cleaned_word_length),0) AS average_cleaned_word_count FROM song_lyrics GROUP BY artist ORDER BY average_word_count DESC\")\n",
    "        song_avg=cur.fetchall()\n",
    "        for j in song_avg:\n",
    "            if j[0] == artist:\n",
    "                print(f'{j[0]} has an average of {j[1]} words per song {j[2]} of which are non stopwords')\n",
    "        print('\\n')\n",
    "        return\n",
    "    \n",
    "    def similar(self,artist):\n",
    "        conn = pg2.connect(database='Music',user='postgres',password='obscura88')\n",
    "        cur=conn.cursor()\n",
    "        cur.execute(\"SELECT artist, rnk FROM ranked_verbose WHERE rnk BETWEEN( SELECT rnk from ranked_verbose WHERE artist = (%s))-3 AND( SELECT rnk from ranked_verbose WHERE artist = (%s))+3\",(artist,artist))\n",
    "        similar=cur.fetchall()\n",
    "        print(f'Some artists similar to {artist} in terms of verbosity in your library:')\n",
    "        print('-------------------------------------------------------------------')\n",
    "        for j in similar:\n",
    "            if j[0] != artist:\n",
    "                print(f'{j[0]}')\n",
    "        print('\\n')\n",
    "        return\n",
    "\n",
    "    def fluff(self,artist):\n",
    "        conn = pg2.connect(database='Music',user='postgres',password='obscura88')\n",
    "        cur=conn.cursor()\n",
    "        cur.execute(\"SELECT artist, fluff_ratio FROM fluff_ratio WHERE rnk BETWEEN(SELECT rnk from fluff_ratio WHERE artist = (%s))-3 AND(SELECT rnk from fluff_ratio WHERE artist = (%s))+3\",(artist,artist))\n",
    "        fluff=cur.fetchall()\n",
    "        for j in fluff:\n",
    "            if j[0] == artist:\n",
    "                print(f'Some artists similar to {artist} in terms of fluff in your library:')\n",
    "                print('(fluff is the ratio of non stopwords divided by all words)')\n",
    "        print('-------------------------------------------------------------------')\n",
    "        for j in fluff:\n",
    "            if j[0] != artist:\n",
    "                print(f'{j[0]}')\n",
    "        print('\\n')\n",
    "        return\n",
    "\n",
    "    \n",
    "# calls to a set queries from the Query class that and formats it \n",
    "def lookup(artist):\n",
    "    print(f'\\nSome info on {artist}!\\n')\n",
    "    print('###########################################################################\\n')\n",
    "    Query().album_avg(artist)\n",
    "    Query().song_avg(artist)\n",
    "    Query().similar(artist)\n",
    "    Query().fluff(artist)\n",
    "\n",
    "# pulls the list of artists in the SQL library \n",
    "def info():\n",
    "\n",
    "    artists=[]\n",
    "    conn = pg2.connect(database='Music',user='postgres',password='obscura88')\n",
    "    cur=conn.cursor()\n",
    "    cur.execute(\"SELECT DISTINCT artist FROM song_lyrics ORDER BY artist ASC\")\n",
    "    ar=cur.fetchall()\n",
    "    for j in ar:\n",
    "        artists.append(j[0])\n",
    "\n",
    "    w=interact(lookup, artist=artists)\n",
    "    display(w)\n",
    "    \n",
    "def album_bar(artist):\n",
    "    \n",
    "    q=Query().album_count(artist)\n",
    "    title=[]\n",
    "    count=[]\n",
    "    clean=[]\n",
    "    for j in q:\n",
    "        title.append(j[0])\n",
    "        count.append(j[1])\n",
    "        clean.append(j[2])\n",
    "\n",
    "    font = {'weight' : 'normal',\n",
    "            'size'   : 18}\n",
    "    matplotlib.rc('font', **font)\n",
    "    x=np.arange(len(title))\n",
    "    width=.3\n",
    "\n",
    "    fig,ax = plt.subplots(figsize=(13,10))\n",
    "    rects1=ax.bar(x-width/2,count,width,label='Word count')\n",
    "    rects2=ax.bar(x+width/2,clean,width,label='cleaned word count')\n",
    "\n",
    "    ax.set_xlabel('Album Title',fontsize=16)\n",
    "    ax.set_ylabel('Word Count',fontsize=16)\n",
    "    ax.set_title(f'Word count by album for {artist}',fontsize=22)\n",
    "\n",
    "    ax.set_ylim(0,(max(count)+max(count)*.4))\n",
    "    ax.set_xticks(x)\n",
    "    plt.xticks(rotation=90)\n",
    "    ax.set_xticklabels(title)\n",
    "    ax.legend(loc='upper right', facecolor='white',framealpha=1)\n",
    "\n",
    "    ax.yaxis.grid()\n",
    "    ax.set_axisbelow(True)\n",
    "    fig.tight_layout()\n",
    "\n",
    "def info_album():\n",
    "    \n",
    "    artists=[]\n",
    "    conn = pg2.connect(database='Music',user='postgres',password='obscura88')\n",
    "    cur=conn.cursor()\n",
    "    cur.execute(\"SELECT DISTINCT artist FROM song_lyrics ORDER BY artist ASC\")\n",
    "    ar=cur.fetchall()\n",
    "    for j in ar:\n",
    "        artists.append(j[0])\n",
    "\n",
    "    w=interact(album_bar, artist=artists)\n",
    "    display(w)\n",
    "\n",
    "    \n",
    "def song_bar(artist):\n",
    "    \n",
    "    q=Query().song_count(artist)\n",
    "    title=[]\n",
    "    count=[]\n",
    "    clean=[]\n",
    "    for j in q:\n",
    "        title.append(j[0])\n",
    "        count.append(j[1])\n",
    "        clean.append(j[2])\n",
    "\n",
    "    font = {'weight' : 'normal',\n",
    "            'size'   : 18}\n",
    "    matplotlib.rc('font', **font)\n",
    "    x=np.arange(len(title))\n",
    "    width=.3\n",
    "\n",
    "    fig,ax = plt.subplots(figsize=(13,10))\n",
    "    rects1=ax.bar(x-width/2,count,width,label='Word count')\n",
    "    rects2=ax.bar(x+width/2,clean,width,label='cleaned word count')\n",
    "\n",
    "    ax.set_xlabel('Song Title',fontsize=16)\n",
    "    ax.set_ylabel('Word Count',fontsize=16)\n",
    "    ax.set_title(f'Word count by song for {artist}',fontsize=22)\n",
    "\n",
    "    ax.set_ylim(0,(max(count)+max(count)*.4))\n",
    "    ax.set_xticks(x)\n",
    "    plt.xticks(rotation=90)\n",
    "    ax.set_xticklabels(title)\n",
    "    ax.legend(loc='upper right', facecolor='white',framealpha=1)\n",
    "\n",
    "    ax.yaxis.grid()\n",
    "    ax.set_axisbelow(True)\n",
    "    fig.tight_layout()\n",
    "\n",
    "def info_song():\n",
    "    \n",
    "    artists=[]\n",
    "    conn = pg2.connect(database='Music',user='postgres',password='obscura88')\n",
    "    cur=conn.cursor()\n",
    "    cur.execute(\"SELECT DISTINCT artist FROM song_lyrics ORDER BY artist ASC\")\n",
    "    ar=cur.fetchall()\n",
    "    for j in ar:\n",
    "        artists.append(j[0])\n",
    "\n",
    "    w=interact(song_bar, artist=artists)\n",
    "    display(w)\n"
   ]
  },
  {
   "cell_type": "markdown",
   "metadata": {},
   "source": [
    "## clean and process\n",
    "\n",
    "clean the data, input the csv into a SQL database and build a class that outputs info based on artist via SQL queries.\n",
    "\n",
    "First issue, punctuation. Need to remove punctuation, specifically ' and \" from the csv. these characters are used as quote and escape characters by PostgreSQL. Need to remove them from the album, artist, title, and lyrics columns.\n"
   ]
  },
  {
   "cell_type": "code",
   "execution_count": 3,
   "metadata": {},
   "outputs": [],
   "source": [
    "songlyrics = pd.read_csv('song_lyrics.csv',index_col='song_id')"
   ]
  },
  {
   "cell_type": "code",
   "execution_count": 5,
   "metadata": {},
   "outputs": [],
   "source": [
    "def text_process(mess):\n",
    "    \n",
    "    return [word for word in mess.split() if word.lower() not in stopwords.words('english')]\n",
    "    "
   ]
  },
  {
   "cell_type": "code",
   "execution_count": 6,
   "metadata": {},
   "outputs": [],
   "source": [
    "def no_punc(mess):\n",
    "\n",
    "    nopunc = [c for c in mess if c not in string.punctuation]\n",
    "    \n",
    "    nopunc=''.join(nopunc)\n",
    "    \n",
    "    return nopunc\n",
    "    "
   ]
  },
  {
   "cell_type": "code",
   "execution_count": 76,
   "metadata": {},
   "outputs": [],
   "source": [
    "def text_punc(mess):\n",
    "    \n",
    "    nopunc = [c for c in mess if c not in string.punctuation]\n",
    "    \n",
    "    nopunc=''.join(nopunc)\n",
    "    \n",
    "    return [word for word in nopunc.split() if word.lower() not in stopwords.words('english')]"
   ]
  },
  {
   "cell_type": "code",
   "execution_count": 6,
   "metadata": {},
   "outputs": [],
   "source": [
    "songlyrics['artist']=songlyrics['artist'].apply(no_punc)\n",
    "songlyrics['album']=songlyrics['album'].apply(no_punc)\n",
    "songlyrics['title']=songlyrics['title'].apply(no_punc)\n",
    "songlyrics['lyrics']=songlyrics['lyrics'].apply(no_punc)"
   ]
  },
  {
   "cell_type": "code",
   "execution_count": 7,
   "metadata": {},
   "outputs": [],
   "source": [
    "length=[]\n",
    "for i,j in songlyrics.iterrows():\n",
    "    length.append((len(j[7].split())))\n",
    "songlyrics['lyrics_word_length']=length"
   ]
  },
  {
   "cell_type": "code",
   "execution_count": 8,
   "metadata": {},
   "outputs": [],
   "source": [
    "songlyrics['cleaned_lyrics']=songlyrics['lyrics'].apply(text_process)"
   ]
  },
  {
   "cell_type": "code",
   "execution_count": 9,
   "metadata": {},
   "outputs": [],
   "source": [
    "length=[]\n",
    "for i,j in songlyrics.iterrows():\n",
    "    length.append(len(j[9]))\n",
    "\n",
    "songlyrics['cleaned_word_length']=length"
   ]
  },
  {
   "cell_type": "code",
   "execution_count": 10,
   "metadata": {},
   "outputs": [
    {
     "data": {
      "text/html": [
       "<div>\n",
       "<style scoped>\n",
       "    .dataframe tbody tr th:only-of-type {\n",
       "        vertical-align: middle;\n",
       "    }\n",
       "\n",
       "    .dataframe tbody tr th {\n",
       "        vertical-align: top;\n",
       "    }\n",
       "\n",
       "    .dataframe thead th {\n",
       "        text-align: right;\n",
       "    }\n",
       "</style>\n",
       "<table border=\"1\" class=\"dataframe\">\n",
       "  <thead>\n",
       "    <tr style=\"text-align: right;\">\n",
       "      <th></th>\n",
       "      <th>artist</th>\n",
       "      <th>album</th>\n",
       "      <th>title</th>\n",
       "      <th>duration</th>\n",
       "      <th>playcount</th>\n",
       "      <th>rating</th>\n",
       "      <th>rating_interpretation</th>\n",
       "      <th>lyrics</th>\n",
       "      <th>lyrics_word_length</th>\n",
       "      <th>cleaned_lyrics</th>\n",
       "      <th>cleaned_word_length</th>\n",
       "    </tr>\n",
       "    <tr>\n",
       "      <th>song_id</th>\n",
       "      <th></th>\n",
       "      <th></th>\n",
       "      <th></th>\n",
       "      <th></th>\n",
       "      <th></th>\n",
       "      <th></th>\n",
       "      <th></th>\n",
       "      <th></th>\n",
       "      <th></th>\n",
       "      <th></th>\n",
       "      <th></th>\n",
       "    </tr>\n",
       "  </thead>\n",
       "  <tbody>\n",
       "    <tr>\n",
       "      <th>0</th>\n",
       "      <td>Bon Iver</td>\n",
       "      <td>22 A Million</td>\n",
       "      <td>00000 Million</td>\n",
       "      <td>3:54</td>\n",
       "      <td>1</td>\n",
       "      <td>undefined</td>\n",
       "      <td>never-rated</td>\n",
       "      <td>Mustve been forces that took me on them wild c...</td>\n",
       "      <td>233</td>\n",
       "      <td>[Mustve, forces, took, wild, courses, knows, m...</td>\n",
       "      <td>121</td>\n",
       "    </tr>\n",
       "    <tr>\n",
       "      <th>1</th>\n",
       "      <td>M83</td>\n",
       "      <td>Dead Cities Red Seas  Lost Ghosts</td>\n",
       "      <td>0078h</td>\n",
       "      <td>4:02</td>\n",
       "      <td>1</td>\n",
       "      <td>0</td>\n",
       "      <td>not-rated</td>\n",
       "      <td>I was someone elses girl Every time you look i...</td>\n",
       "      <td>179</td>\n",
       "      <td>[someone, elses, girl, Every, time, look, eyes...</td>\n",
       "      <td>80</td>\n",
       "    </tr>\n",
       "    <tr>\n",
       "      <th>2</th>\n",
       "      <td>The Magnetic Fields</td>\n",
       "      <td>50 Song Memoir</td>\n",
       "      <td>02 Be True to Your Bar</td>\n",
       "      <td>3:34</td>\n",
       "      <td>0</td>\n",
       "      <td>undefined</td>\n",
       "      <td>never-rated</td>\n",
       "      <td>Sitting in bars and cafés Writing songs about ...</td>\n",
       "      <td>197</td>\n",
       "      <td>[Sitting, bars, cafés, Writing, songs, songs, ...</td>\n",
       "      <td>106</td>\n",
       "    </tr>\n",
       "    <tr>\n",
       "      <th>3</th>\n",
       "      <td>The Magnetic Fields</td>\n",
       "      <td>50 Song Memoir</td>\n",
       "      <td>05 Never Again</td>\n",
       "      <td>3:19</td>\n",
       "      <td>0</td>\n",
       "      <td>undefined</td>\n",
       "      <td>never-rated</td>\n",
       "      <td>Well walk in the rain Just having a day Never ...</td>\n",
       "      <td>150</td>\n",
       "      <td>[Well, walk, rain, day, Never, newspaper, page...</td>\n",
       "      <td>75</td>\n",
       "    </tr>\n",
       "    <tr>\n",
       "      <th>4</th>\n",
       "      <td>The Magnetic Fields</td>\n",
       "      <td>50 Song Memoir</td>\n",
       "      <td>06 Quotes</td>\n",
       "      <td>2:17</td>\n",
       "      <td>0</td>\n",
       "      <td>undefined</td>\n",
       "      <td>never-rated</td>\n",
       "      <td>For some of which you could have sued Oh the h...</td>\n",
       "      <td>101</td>\n",
       "      <td>[could, sued, Oh, hateful, mail, youve, read, ...</td>\n",
       "      <td>50</td>\n",
       "    </tr>\n",
       "  </tbody>\n",
       "</table>\n",
       "</div>"
      ],
      "text/plain": [
       "                      artist                              album  \\\n",
       "song_id                                                           \n",
       "0                   Bon Iver                       22 A Million   \n",
       "1                        M83  Dead Cities Red Seas  Lost Ghosts   \n",
       "2        The Magnetic Fields                     50 Song Memoir   \n",
       "3        The Magnetic Fields                     50 Song Memoir   \n",
       "4        The Magnetic Fields                     50 Song Memoir   \n",
       "\n",
       "                          title duration  playcount     rating  \\\n",
       "song_id                                                          \n",
       "0                 00000 Million     3:54          1  undefined   \n",
       "1                         0078h     4:02          1          0   \n",
       "2        02 Be True to Your Bar     3:34          0  undefined   \n",
       "3                05 Never Again     3:19          0  undefined   \n",
       "4                     06 Quotes     2:17          0  undefined   \n",
       "\n",
       "        rating_interpretation  \\\n",
       "song_id                         \n",
       "0                 never-rated   \n",
       "1                   not-rated   \n",
       "2                 never-rated   \n",
       "3                 never-rated   \n",
       "4                 never-rated   \n",
       "\n",
       "                                                    lyrics  \\\n",
       "song_id                                                      \n",
       "0        Mustve been forces that took me on them wild c...   \n",
       "1        I was someone elses girl Every time you look i...   \n",
       "2        Sitting in bars and cafés Writing songs about ...   \n",
       "3        Well walk in the rain Just having a day Never ...   \n",
       "4        For some of which you could have sued Oh the h...   \n",
       "\n",
       "         lyrics_word_length  \\\n",
       "song_id                       \n",
       "0                       233   \n",
       "1                       179   \n",
       "2                       197   \n",
       "3                       150   \n",
       "4                       101   \n",
       "\n",
       "                                            cleaned_lyrics  \\\n",
       "song_id                                                      \n",
       "0        [Mustve, forces, took, wild, courses, knows, m...   \n",
       "1        [someone, elses, girl, Every, time, look, eyes...   \n",
       "2        [Sitting, bars, cafés, Writing, songs, songs, ...   \n",
       "3        [Well, walk, rain, day, Never, newspaper, page...   \n",
       "4        [could, sued, Oh, hateful, mail, youve, read, ...   \n",
       "\n",
       "         cleaned_word_length  \n",
       "song_id                       \n",
       "0                        121  \n",
       "1                         80  \n",
       "2                        106  \n",
       "3                         75  \n",
       "4                         50  "
      ]
     },
     "execution_count": 10,
     "metadata": {},
     "output_type": "execute_result"
    }
   ],
   "source": [
    "songlyrics.head()"
   ]
  },
  {
   "cell_type": "code",
   "execution_count": 11,
   "metadata": {},
   "outputs": [],
   "source": [
    "# save cleaned lyrics\n",
    "songlyrics.to_csv('song_lyrics_cleaned.csv')"
   ]
  },
  {
   "cell_type": "markdown",
   "metadata": {},
   "source": [
    "removed the punctuation from the artist, album, title, and lyrics columns, removed stopwords from the lyrics and also counted the lyrics and cleaned lyrics and added those columns.\n",
    "\n",
    "Going to export this file and try to get it into postgres.\n",
    "\n",
    "Success!\n",
    "\n",
    "Lets call to it instead of the csv."
   ]
  },
  {
   "cell_type": "markdown",
   "metadata": {},
   "source": [
    "Pick an artist,\n",
    "\n",
    "1) report word count by album, \n",
    "\n",
    "2) word count song to song,\n",
    "\n",
    "3) avgerage would count per song,\n",
    "\n",
    "4)similar bands based on average word count per song (verbose to mum). "
   ]
  },
  {
   "cell_type": "markdown",
   "metadata": {},
   "source": [
    "## query bank\n",
    "\n",
    "### report artist total word count, original and cleaned\n",
    "\n",
    "- [x] SELECT artist, SUM(lyrics_word_length), SUM(cleaned_word_length) FROM song_lyrics\n",
    "WHERE artist = 'Bon Iver'\n",
    "GROUP BY artist\n",
    "\n",
    "important to do this by song or by album basis, because some songs would or would not be available in the genius database, so you don't want to unfairly weight the more successful pulls.\n",
    "\n",
    "### Here is a query that reports the lyric word count on a song by song basis for a given artist\n",
    "\n",
    "- [x] SELECT title AS Bon_Iver, lyrics_word_length, cleaned_word_length FROM song_lyrics\n",
    "WHERE artist = 'Bon Iver'\n",
    "\n",
    "\n",
    "### report artist word count by album orginal and cleaned\n",
    "\n",
    "- [x] SELECT album, SUM(lyrics_word_length), SUM(cleaned_word_length) FROM song_lyrics\n",
    "WHERE artist = 'Bon Iver'\n",
    "GROUP BY album;\n",
    "\n",
    "### build on this and make a query that finds the average album word count for a given artist \n",
    "\n",
    "- [x] SELECT artist,\n",
    "\t\tROUND(AVG(original),0) AS average_word_count,\n",
    "\t\tROUND(AVG(cleaned),0) AS cleaned_word_count\n",
    "        FROM\n",
    "        (\n",
    "        SELECT artist, album, SUM(lyrics_word_length) AS original, \n",
    " \t\t\t\tSUM(cleaned_word_length) AS cleaned\n",
    "                FROM song_lyrics\n",
    "                WHERE artist = 'Bon Iver'\n",
    "                GROUP BY album, artist\n",
    "                ) AS T\n",
    "                GROUP BY artist;\n",
    "\n",
    "### similarly, query that finds the average word count by song for a given artist. This one is ordered by original word count\n",
    "\n",
    "- [x] SELECT artist, ROUND(AVG(lyrics_word_length),0) AS average_word_count,\n",
    "\t\t\t   ROUND(AVG(cleaned_word_length),0) AS average_cleaned_word_count\n",
    "\t\t\t   FROM song_lyrics\n",
    "               GROUP BY artist\n",
    "               ORDER BY average_word_count DESC\n",
    "\n",
    "### and this one is ordered by cleaned word count\n",
    "\n",
    "- [x] SELECT artist, ROUND(AVG(lyrics_word_length),0) AS average_word_count,\n",
    "\t\t\t   ROUND(AVG(cleaned_word_length),0) AS average_cleaned_word_count\n",
    "\t\t\t   FROM song_lyrics\n",
    "               GROUP BY artist\n",
    "               ORDER BY average_cleaned_word_count DESC\n",
    "\n",
    "### The most challenging idea I had was to return a list of artists that have similar verbosity\n",
    "\n",
    "SELECT artist\n",
    "FROM( SELECT \n",
    "\t\t\t   artist, \n",
    "\t\t\t   ROUND(AVG(lyrics_word_length),0) AS average_word_count,\n",
    "\t\t\t   ROUND(AVG(cleaned_word_length),0) AS average_cleaned_word_count,\n",
    "\t\t\t   ROW_NUMBER() OVER (PARTITION BY 5 ORDER BY ROUND(AVG(lyrics_word_length),0) DESC ) AS rnk\n",
    "\t\t\t   FROM song_lyrics\n",
    "\n",
    "GROUP BY artist)AS T\n",
    "WHERE rnk BETWEEN(\n",
    "SELECT rnk FROM \n",
    "\t(\n",
    "\tSELECT \n",
    "\t\t\t   artist, \n",
    "\t\t\t   ROUND(AVG(lyrics_word_length),0) AS average_word_count,\n",
    "\t\t\t   ROUND(AVG(cleaned_word_length),0) AS average_cleaned_word_count,\n",
    "\t\t\t   ROW_NUMBER() OVER (PARTITION BY 5 ORDER BY ROUND(AVG(lyrics_word_length),0) DESC ) AS rnk\n",
    "\t\t\t   FROM song_lyrics\n",
    "\n",
    "GROUP BY artist) AS T\n",
    "WHERE artist = 'Bon Iver')-3 AND(\n",
    "SELECT rnk FROM\n",
    "\t(\n",
    "\tSELECT \n",
    "\t\t\t   artist, \n",
    "\t\t\t   ROUND(AVG(lyrics_word_length),0) AS average_word_count,\n",
    "\t\t\t   ROUND(AVG(cleaned_word_length),0) AS average_cleaned_word_count,\n",
    "\t\t\t   ROW_NUMBER() OVER (PARTITION BY 5 ORDER BY ROUND(AVG(lyrics_word_length),0) DESC ) AS rnk\n",
    "\t\t\t   FROM song_lyrics\n",
    "\n",
    "GROUP BY artist) AS T\n",
    "WHERE artist = 'Bon Iver')+3;\n",
    "\n",
    "### This is significantly cleaned up by using a view called ranked_verbose\n",
    "\n",
    "SELECT artist, rnk\n",
    "FROM ranked_verbose\n",
    "WHERE rnk \n",
    "BETWEEN(\n",
    "SELECT rnk from ranked_verbose\n",
    "WHERE artist = 'Bon Iver')-3 \n",
    "AND(\n",
    "SELECT rnk from ranked_verbose\n",
    "WHERE artist = 'Bon Iver')+3\n",
    "\n",
    "### Similar, a view that makes the ratios of cleaned word count divided by regular word count\n",
    "\n",
    "SELECT artist, fluff_ratio\n",
    "FROM fluff_ratio\n",
    "WHERE rnk \n",
    "BETWEEN(\n",
    "SELECT rnk from fluff_ratio\n",
    "WHERE artist = 'Bon Iver')-3 \n",
    "AND(\n",
    "SELECT rnk from fluff_ratio\n",
    "WHERE artist = 'Bon Iver')+3\n",
    "\n",
    "### A lot of the work in this last query was to have a number to pull off of once the group by average lyrics table was created. Headache would be averted if I had an artist_id to use instead of making the rnk column, learned for the future!\n"
   ]
  },
  {
   "cell_type": "markdown",
   "metadata": {},
   "source": [
    "#  EDA graphs\n",
    "\n",
    "Time to make some fun graphs. count the words in each lyrics list\n",
    "\n",
    "info() will pull info on a band, with comparisons to similar artists.\n",
    "\n",
    "info_album() will compare lyrics word count with original text and with the stopwords removed for each album of a particular artist.\n",
    "\n",
    "info_song() will compare lyrics word count with original text and with the stopwords removed for each song of a particular artist."
   ]
  },
  {
   "cell_type": "code",
   "execution_count": 5,
   "metadata": {
    "scrolled": false
   },
   "outputs": [
    {
     "data": {
      "application/vnd.jupyter.widget-view+json": {
       "model_id": "10ef49ab2c0240248bd2a9872d96139c",
       "version_major": 2,
       "version_minor": 0
      },
      "text/plain": [
       "interactive(children=(Dropdown(description='artist', options=('A Giant Dog', 'A Place To Bury Strangers', 'A P…"
      ]
     },
     "metadata": {},
     "output_type": "display_data"
    },
    {
     "data": {
      "text/plain": [
       "<function __main__.lookup(artist)>"
      ]
     },
     "metadata": {},
     "output_type": "display_data"
    }
   ],
   "source": [
    "info()\n"
   ]
  },
  {
   "cell_type": "markdown",
   "metadata": {},
   "source": [
    "## 2) NLP analysis"
   ]
  },
  {
   "cell_type": "markdown",
   "metadata": {},
   "source": [
    "We can use unsupervised machine learning to further analyze my music library's lyrical content. \n",
    "\n",
    "I will apply a topic model to my music library's lyrics. I want to put sets of my songs lyrics into categories differentiated by the words used in the artists songs.  \n",
    "\n",
    "I found a paper on the topic https://www.researchgate.net/publication/221573745_Natural_language_processing_of_lyrics\n",
    "and will follow there analysis."
   ]
  },
  {
   "cell_type": "markdown",
   "metadata": {},
   "source": [
    "Use a word cloud to get an idea of topics"
   ]
  },
  {
   "cell_type": "code",
   "execution_count": 6,
   "metadata": {},
   "outputs": [
    {
     "ename": "NameError",
     "evalue": "name 'songlyrics' is not defined",
     "output_type": "error",
     "traceback": [
      "\u001b[1;31m---------------------------------------------------------------------------\u001b[0m",
      "\u001b[1;31mNameError\u001b[0m                                 Traceback (most recent call last)",
      "\u001b[1;32m<ipython-input-6-0b76561587d0>\u001b[0m in \u001b[0;36m<module>\u001b[1;34m\u001b[0m\n\u001b[0;32m      9\u001b[0m                           \u001b[0mmax_font_size\u001b[0m\u001b[1;33m=\u001b[0m\u001b[1;36m40\u001b[0m\u001b[1;33m,\u001b[0m\u001b[1;33m\u001b[0m\u001b[1;33m\u001b[0m\u001b[0m\n\u001b[0;32m     10\u001b[0m                           \u001b[0mrandom_state\u001b[0m\u001b[1;33m=\u001b[0m\u001b[1;36m42\u001b[0m\u001b[1;33m\u001b[0m\u001b[1;33m\u001b[0m\u001b[0m\n\u001b[1;32m---> 11\u001b[1;33m                          ).generate(str(songlyrics['cleaned_lyrics'].replace(\"'\",\"\")))\n\u001b[0m\u001b[0;32m     12\u001b[0m \u001b[1;33m\u001b[0m\u001b[0m\n\u001b[0;32m     13\u001b[0m \u001b[0mprint\u001b[0m\u001b[1;33m(\u001b[0m\u001b[0mwordcloud\u001b[0m\u001b[1;33m)\u001b[0m\u001b[1;33m\u001b[0m\u001b[1;33m\u001b[0m\u001b[0m\n",
      "\u001b[1;31mNameError\u001b[0m: name 'songlyrics' is not defined"
     ]
    }
   ],
   "source": [
    "mpl.rcParams['figure.figsize']=(12.0,12.0)  \n",
    "mpl.rcParams['font.size']=12            \n",
    "mpl.rcParams['savefig.dpi']=100             \n",
    "mpl.rcParams['figure.subplot.bottom']=.1 \n",
    "\n",
    "wordcloud = WordCloud(\n",
    "                          background_color='white',\n",
    "                          max_words=500,\n",
    "                          max_font_size=40, \n",
    "                          random_state=42\n",
    "                         ).generate(str(songlyrics['cleaned_lyrics'].replace(\"'\",\"\")))\n",
    "\n",
    "print(wordcloud)\n",
    "fig = plt.figure(1)\n",
    "plt.imshow(wordcloud)\n",
    "plt.axis('off')\n",
    "plt.show()"
   ]
  },
  {
   "cell_type": "markdown",
   "metadata": {},
   "source": [
    "Do a set of -grams graphs. This will pull the most common indiviual words in the lyrics corpus, called unigrams, as well as common two word and three word phrases called bigrams and trigrams."
   ]
  },
  {
   "cell_type": "markdown",
   "metadata": {},
   "source": [
    "count vectorizer changes lists of words into vectors, but term frequency-inverse document frequency penalizes the word counts for words that appear very often. They should be less likely to provide insight into the specific topics of a document given how common the word is."
   ]
  },
  {
   "cell_type": "code",
   "execution_count": 66,
   "metadata": {},
   "outputs": [
    {
     "data": {
      "application/vnd.plotly.v1+json": {
       "config": {
        "plotlyServerURL": "https://plot.ly"
       },
       "data": [
        {
         "type": "bar",
         "x": [
          "im",
          "dont",
          "know",
          "like",
          "oh",
          "love",
          "youre",
          "time",
          "got",
          "want",
          "come",
          "say",
          "ill",
          "way",
          "feel",
          "make",
          "away",
          "let",
          "yeah",
          "ive",
          "cause",
          "think",
          "wanna",
          "right",
          "night",
          "gonna",
          "tell",
          "life",
          "theres",
          "said"
         ],
         "y": [
          14531,
          12016,
          11349,
          11094,
          9706,
          8470,
          7142,
          6787,
          6612,
          6225,
          4778,
          4726,
          4630,
          4592,
          4499,
          4184,
          4167,
          4020,
          3919,
          3804,
          3638,
          3463,
          3449,
          3436,
          3423,
          3331,
          3251,
          3175,
          3135,
          3117
         ]
        }
       ],
       "layout": {
        "template": {
         "data": {
          "bar": [
           {
            "error_x": {
             "color": "#2a3f5f"
            },
            "error_y": {
             "color": "#2a3f5f"
            },
            "marker": {
             "line": {
              "color": "#E5ECF6",
              "width": 0.5
             }
            },
            "type": "bar"
           }
          ],
          "barpolar": [
           {
            "marker": {
             "line": {
              "color": "#E5ECF6",
              "width": 0.5
             }
            },
            "type": "barpolar"
           }
          ],
          "carpet": [
           {
            "aaxis": {
             "endlinecolor": "#2a3f5f",
             "gridcolor": "white",
             "linecolor": "white",
             "minorgridcolor": "white",
             "startlinecolor": "#2a3f5f"
            },
            "baxis": {
             "endlinecolor": "#2a3f5f",
             "gridcolor": "white",
             "linecolor": "white",
             "minorgridcolor": "white",
             "startlinecolor": "#2a3f5f"
            },
            "type": "carpet"
           }
          ],
          "choropleth": [
           {
            "colorbar": {
             "outlinewidth": 0,
             "ticks": ""
            },
            "type": "choropleth"
           }
          ],
          "contour": [
           {
            "colorbar": {
             "outlinewidth": 0,
             "ticks": ""
            },
            "colorscale": [
             [
              0,
              "#0d0887"
             ],
             [
              0.1111111111111111,
              "#46039f"
             ],
             [
              0.2222222222222222,
              "#7201a8"
             ],
             [
              0.3333333333333333,
              "#9c179e"
             ],
             [
              0.4444444444444444,
              "#bd3786"
             ],
             [
              0.5555555555555556,
              "#d8576b"
             ],
             [
              0.6666666666666666,
              "#ed7953"
             ],
             [
              0.7777777777777778,
              "#fb9f3a"
             ],
             [
              0.8888888888888888,
              "#fdca26"
             ],
             [
              1,
              "#f0f921"
             ]
            ],
            "type": "contour"
           }
          ],
          "contourcarpet": [
           {
            "colorbar": {
             "outlinewidth": 0,
             "ticks": ""
            },
            "type": "contourcarpet"
           }
          ],
          "heatmap": [
           {
            "colorbar": {
             "outlinewidth": 0,
             "ticks": ""
            },
            "colorscale": [
             [
              0,
              "#0d0887"
             ],
             [
              0.1111111111111111,
              "#46039f"
             ],
             [
              0.2222222222222222,
              "#7201a8"
             ],
             [
              0.3333333333333333,
              "#9c179e"
             ],
             [
              0.4444444444444444,
              "#bd3786"
             ],
             [
              0.5555555555555556,
              "#d8576b"
             ],
             [
              0.6666666666666666,
              "#ed7953"
             ],
             [
              0.7777777777777778,
              "#fb9f3a"
             ],
             [
              0.8888888888888888,
              "#fdca26"
             ],
             [
              1,
              "#f0f921"
             ]
            ],
            "type": "heatmap"
           }
          ],
          "heatmapgl": [
           {
            "colorbar": {
             "outlinewidth": 0,
             "ticks": ""
            },
            "colorscale": [
             [
              0,
              "#0d0887"
             ],
             [
              0.1111111111111111,
              "#46039f"
             ],
             [
              0.2222222222222222,
              "#7201a8"
             ],
             [
              0.3333333333333333,
              "#9c179e"
             ],
             [
              0.4444444444444444,
              "#bd3786"
             ],
             [
              0.5555555555555556,
              "#d8576b"
             ],
             [
              0.6666666666666666,
              "#ed7953"
             ],
             [
              0.7777777777777778,
              "#fb9f3a"
             ],
             [
              0.8888888888888888,
              "#fdca26"
             ],
             [
              1,
              "#f0f921"
             ]
            ],
            "type": "heatmapgl"
           }
          ],
          "histogram": [
           {
            "marker": {
             "colorbar": {
              "outlinewidth": 0,
              "ticks": ""
             }
            },
            "type": "histogram"
           }
          ],
          "histogram2d": [
           {
            "colorbar": {
             "outlinewidth": 0,
             "ticks": ""
            },
            "colorscale": [
             [
              0,
              "#0d0887"
             ],
             [
              0.1111111111111111,
              "#46039f"
             ],
             [
              0.2222222222222222,
              "#7201a8"
             ],
             [
              0.3333333333333333,
              "#9c179e"
             ],
             [
              0.4444444444444444,
              "#bd3786"
             ],
             [
              0.5555555555555556,
              "#d8576b"
             ],
             [
              0.6666666666666666,
              "#ed7953"
             ],
             [
              0.7777777777777778,
              "#fb9f3a"
             ],
             [
              0.8888888888888888,
              "#fdca26"
             ],
             [
              1,
              "#f0f921"
             ]
            ],
            "type": "histogram2d"
           }
          ],
          "histogram2dcontour": [
           {
            "colorbar": {
             "outlinewidth": 0,
             "ticks": ""
            },
            "colorscale": [
             [
              0,
              "#0d0887"
             ],
             [
              0.1111111111111111,
              "#46039f"
             ],
             [
              0.2222222222222222,
              "#7201a8"
             ],
             [
              0.3333333333333333,
              "#9c179e"
             ],
             [
              0.4444444444444444,
              "#bd3786"
             ],
             [
              0.5555555555555556,
              "#d8576b"
             ],
             [
              0.6666666666666666,
              "#ed7953"
             ],
             [
              0.7777777777777778,
              "#fb9f3a"
             ],
             [
              0.8888888888888888,
              "#fdca26"
             ],
             [
              1,
              "#f0f921"
             ]
            ],
            "type": "histogram2dcontour"
           }
          ],
          "mesh3d": [
           {
            "colorbar": {
             "outlinewidth": 0,
             "ticks": ""
            },
            "type": "mesh3d"
           }
          ],
          "parcoords": [
           {
            "line": {
             "colorbar": {
              "outlinewidth": 0,
              "ticks": ""
             }
            },
            "type": "parcoords"
           }
          ],
          "pie": [
           {
            "automargin": true,
            "type": "pie"
           }
          ],
          "scatter": [
           {
            "marker": {
             "colorbar": {
              "outlinewidth": 0,
              "ticks": ""
             }
            },
            "type": "scatter"
           }
          ],
          "scatter3d": [
           {
            "line": {
             "colorbar": {
              "outlinewidth": 0,
              "ticks": ""
             }
            },
            "marker": {
             "colorbar": {
              "outlinewidth": 0,
              "ticks": ""
             }
            },
            "type": "scatter3d"
           }
          ],
          "scattercarpet": [
           {
            "marker": {
             "colorbar": {
              "outlinewidth": 0,
              "ticks": ""
             }
            },
            "type": "scattercarpet"
           }
          ],
          "scattergeo": [
           {
            "marker": {
             "colorbar": {
              "outlinewidth": 0,
              "ticks": ""
             }
            },
            "type": "scattergeo"
           }
          ],
          "scattergl": [
           {
            "marker": {
             "colorbar": {
              "outlinewidth": 0,
              "ticks": ""
             }
            },
            "type": "scattergl"
           }
          ],
          "scattermapbox": [
           {
            "marker": {
             "colorbar": {
              "outlinewidth": 0,
              "ticks": ""
             }
            },
            "type": "scattermapbox"
           }
          ],
          "scatterpolar": [
           {
            "marker": {
             "colorbar": {
              "outlinewidth": 0,
              "ticks": ""
             }
            },
            "type": "scatterpolar"
           }
          ],
          "scatterpolargl": [
           {
            "marker": {
             "colorbar": {
              "outlinewidth": 0,
              "ticks": ""
             }
            },
            "type": "scatterpolargl"
           }
          ],
          "scatterternary": [
           {
            "marker": {
             "colorbar": {
              "outlinewidth": 0,
              "ticks": ""
             }
            },
            "type": "scatterternary"
           }
          ],
          "surface": [
           {
            "colorbar": {
             "outlinewidth": 0,
             "ticks": ""
            },
            "colorscale": [
             [
              0,
              "#0d0887"
             ],
             [
              0.1111111111111111,
              "#46039f"
             ],
             [
              0.2222222222222222,
              "#7201a8"
             ],
             [
              0.3333333333333333,
              "#9c179e"
             ],
             [
              0.4444444444444444,
              "#bd3786"
             ],
             [
              0.5555555555555556,
              "#d8576b"
             ],
             [
              0.6666666666666666,
              "#ed7953"
             ],
             [
              0.7777777777777778,
              "#fb9f3a"
             ],
             [
              0.8888888888888888,
              "#fdca26"
             ],
             [
              1,
              "#f0f921"
             ]
            ],
            "type": "surface"
           }
          ],
          "table": [
           {
            "cells": {
             "fill": {
              "color": "#EBF0F8"
             },
             "line": {
              "color": "white"
             }
            },
            "header": {
             "fill": {
              "color": "#C8D4E3"
             },
             "line": {
              "color": "white"
             }
            },
            "type": "table"
           }
          ]
         },
         "layout": {
          "annotationdefaults": {
           "arrowcolor": "#2a3f5f",
           "arrowhead": 0,
           "arrowwidth": 1
          },
          "coloraxis": {
           "colorbar": {
            "outlinewidth": 0,
            "ticks": ""
           }
          },
          "colorscale": {
           "diverging": [
            [
             0,
             "#8e0152"
            ],
            [
             0.1,
             "#c51b7d"
            ],
            [
             0.2,
             "#de77ae"
            ],
            [
             0.3,
             "#f1b6da"
            ],
            [
             0.4,
             "#fde0ef"
            ],
            [
             0.5,
             "#f7f7f7"
            ],
            [
             0.6,
             "#e6f5d0"
            ],
            [
             0.7,
             "#b8e186"
            ],
            [
             0.8,
             "#7fbc41"
            ],
            [
             0.9,
             "#4d9221"
            ],
            [
             1,
             "#276419"
            ]
           ],
           "sequential": [
            [
             0,
             "#0d0887"
            ],
            [
             0.1111111111111111,
             "#46039f"
            ],
            [
             0.2222222222222222,
             "#7201a8"
            ],
            [
             0.3333333333333333,
             "#9c179e"
            ],
            [
             0.4444444444444444,
             "#bd3786"
            ],
            [
             0.5555555555555556,
             "#d8576b"
            ],
            [
             0.6666666666666666,
             "#ed7953"
            ],
            [
             0.7777777777777778,
             "#fb9f3a"
            ],
            [
             0.8888888888888888,
             "#fdca26"
            ],
            [
             1,
             "#f0f921"
            ]
           ],
           "sequentialminus": [
            [
             0,
             "#0d0887"
            ],
            [
             0.1111111111111111,
             "#46039f"
            ],
            [
             0.2222222222222222,
             "#7201a8"
            ],
            [
             0.3333333333333333,
             "#9c179e"
            ],
            [
             0.4444444444444444,
             "#bd3786"
            ],
            [
             0.5555555555555556,
             "#d8576b"
            ],
            [
             0.6666666666666666,
             "#ed7953"
            ],
            [
             0.7777777777777778,
             "#fb9f3a"
            ],
            [
             0.8888888888888888,
             "#fdca26"
            ],
            [
             1,
             "#f0f921"
            ]
           ]
          },
          "colorway": [
           "#636efa",
           "#EF553B",
           "#00cc96",
           "#ab63fa",
           "#FFA15A",
           "#19d3f3",
           "#FF6692",
           "#B6E880",
           "#FF97FF",
           "#FECB52"
          ],
          "font": {
           "color": "#2a3f5f"
          },
          "geo": {
           "bgcolor": "white",
           "lakecolor": "white",
           "landcolor": "#E5ECF6",
           "showlakes": true,
           "showland": true,
           "subunitcolor": "white"
          },
          "hoverlabel": {
           "align": "left"
          },
          "hovermode": "closest",
          "mapbox": {
           "style": "light"
          },
          "paper_bgcolor": "white",
          "plot_bgcolor": "#E5ECF6",
          "polar": {
           "angularaxis": {
            "gridcolor": "white",
            "linecolor": "white",
            "ticks": ""
           },
           "bgcolor": "#E5ECF6",
           "radialaxis": {
            "gridcolor": "white",
            "linecolor": "white",
            "ticks": ""
           }
          },
          "scene": {
           "xaxis": {
            "backgroundcolor": "#E5ECF6",
            "gridcolor": "white",
            "gridwidth": 2,
            "linecolor": "white",
            "showbackground": true,
            "ticks": "",
            "zerolinecolor": "white"
           },
           "yaxis": {
            "backgroundcolor": "#E5ECF6",
            "gridcolor": "white",
            "gridwidth": 2,
            "linecolor": "white",
            "showbackground": true,
            "ticks": "",
            "zerolinecolor": "white"
           },
           "zaxis": {
            "backgroundcolor": "#E5ECF6",
            "gridcolor": "white",
            "gridwidth": 2,
            "linecolor": "white",
            "showbackground": true,
            "ticks": "",
            "zerolinecolor": "white"
           }
          },
          "shapedefaults": {
           "line": {
            "color": "#2a3f5f"
           }
          },
          "ternary": {
           "aaxis": {
            "gridcolor": "white",
            "linecolor": "white",
            "ticks": ""
           },
           "baxis": {
            "gridcolor": "white",
            "linecolor": "white",
            "ticks": ""
           },
           "bgcolor": "#E5ECF6",
           "caxis": {
            "gridcolor": "white",
            "linecolor": "white",
            "ticks": ""
           }
          },
          "title": {
           "x": 0.05
          },
          "xaxis": {
           "automargin": true,
           "gridcolor": "white",
           "linecolor": "white",
           "ticks": "",
           "title": {
            "standoff": 15
           },
           "zerolinecolor": "white",
           "zerolinewidth": 2
          },
          "yaxis": {
           "automargin": true,
           "gridcolor": "white",
           "linecolor": "white",
           "ticks": "",
           "title": {
            "standoff": 15
           },
           "zerolinecolor": "white",
           "zerolinewidth": 2
          }
         }
        },
        "title": {
         "text": "Top 30 unigrams in the question text after removing stop words and lemmatization"
        }
       }
      },
      "text/html": [
       "<div>\n",
       "        \n",
       "        \n",
       "            <div id=\"bd1552e4-0b19-4513-97a0-7116ce15ed8c\" class=\"plotly-graph-div\" style=\"height:525px; width:100%;\"></div>\n",
       "            <script type=\"text/javascript\">\n",
       "                require([\"plotly\"], function(Plotly) {\n",
       "                    window.PLOTLYENV=window.PLOTLYENV || {};\n",
       "                    \n",
       "                if (document.getElementById(\"bd1552e4-0b19-4513-97a0-7116ce15ed8c\")) {\n",
       "                    Plotly.newPlot(\n",
       "                        'bd1552e4-0b19-4513-97a0-7116ce15ed8c',\n",
       "                        [{\"type\": \"bar\", \"x\": [\"im\", \"dont\", \"know\", \"like\", \"oh\", \"love\", \"youre\", \"time\", \"got\", \"want\", \"come\", \"say\", \"ill\", \"way\", \"feel\", \"make\", \"away\", \"let\", \"yeah\", \"ive\", \"cause\", \"think\", \"wanna\", \"right\", \"night\", \"gonna\", \"tell\", \"life\", \"theres\", \"said\"], \"y\": [14531, 12016, 11349, 11094, 9706, 8470, 7142, 6787, 6612, 6225, 4778, 4726, 4630, 4592, 4499, 4184, 4167, 4020, 3919, 3804, 3638, 3463, 3449, 3436, 3423, 3331, 3251, 3175, 3135, 3117]}],\n",
       "                        {\"template\": {\"data\": {\"bar\": [{\"error_x\": {\"color\": \"#2a3f5f\"}, \"error_y\": {\"color\": \"#2a3f5f\"}, \"marker\": {\"line\": {\"color\": \"#E5ECF6\", \"width\": 0.5}}, \"type\": \"bar\"}], \"barpolar\": [{\"marker\": {\"line\": {\"color\": \"#E5ECF6\", \"width\": 0.5}}, \"type\": \"barpolar\"}], \"carpet\": [{\"aaxis\": {\"endlinecolor\": \"#2a3f5f\", \"gridcolor\": \"white\", \"linecolor\": \"white\", \"minorgridcolor\": \"white\", \"startlinecolor\": \"#2a3f5f\"}, \"baxis\": {\"endlinecolor\": \"#2a3f5f\", \"gridcolor\": \"white\", \"linecolor\": \"white\", \"minorgridcolor\": \"white\", \"startlinecolor\": \"#2a3f5f\"}, \"type\": \"carpet\"}], \"choropleth\": [{\"colorbar\": {\"outlinewidth\": 0, \"ticks\": \"\"}, \"type\": \"choropleth\"}], \"contour\": [{\"colorbar\": {\"outlinewidth\": 0, \"ticks\": \"\"}, \"colorscale\": [[0.0, \"#0d0887\"], [0.1111111111111111, \"#46039f\"], [0.2222222222222222, \"#7201a8\"], [0.3333333333333333, \"#9c179e\"], [0.4444444444444444, \"#bd3786\"], [0.5555555555555556, \"#d8576b\"], [0.6666666666666666, \"#ed7953\"], [0.7777777777777778, \"#fb9f3a\"], [0.8888888888888888, \"#fdca26\"], [1.0, \"#f0f921\"]], \"type\": \"contour\"}], \"contourcarpet\": [{\"colorbar\": {\"outlinewidth\": 0, \"ticks\": \"\"}, \"type\": \"contourcarpet\"}], \"heatmap\": [{\"colorbar\": {\"outlinewidth\": 0, \"ticks\": \"\"}, \"colorscale\": [[0.0, \"#0d0887\"], [0.1111111111111111, \"#46039f\"], [0.2222222222222222, \"#7201a8\"], [0.3333333333333333, \"#9c179e\"], [0.4444444444444444, \"#bd3786\"], [0.5555555555555556, \"#d8576b\"], [0.6666666666666666, \"#ed7953\"], [0.7777777777777778, \"#fb9f3a\"], [0.8888888888888888, \"#fdca26\"], [1.0, \"#f0f921\"]], \"type\": \"heatmap\"}], \"heatmapgl\": [{\"colorbar\": {\"outlinewidth\": 0, \"ticks\": \"\"}, \"colorscale\": [[0.0, \"#0d0887\"], [0.1111111111111111, \"#46039f\"], [0.2222222222222222, \"#7201a8\"], [0.3333333333333333, \"#9c179e\"], [0.4444444444444444, \"#bd3786\"], [0.5555555555555556, \"#d8576b\"], [0.6666666666666666, \"#ed7953\"], [0.7777777777777778, \"#fb9f3a\"], [0.8888888888888888, \"#fdca26\"], [1.0, \"#f0f921\"]], \"type\": \"heatmapgl\"}], \"histogram\": [{\"marker\": {\"colorbar\": {\"outlinewidth\": 0, \"ticks\": \"\"}}, \"type\": \"histogram\"}], \"histogram2d\": [{\"colorbar\": {\"outlinewidth\": 0, \"ticks\": \"\"}, \"colorscale\": [[0.0, \"#0d0887\"], [0.1111111111111111, \"#46039f\"], [0.2222222222222222, \"#7201a8\"], [0.3333333333333333, \"#9c179e\"], [0.4444444444444444, \"#bd3786\"], [0.5555555555555556, \"#d8576b\"], [0.6666666666666666, \"#ed7953\"], [0.7777777777777778, \"#fb9f3a\"], [0.8888888888888888, \"#fdca26\"], [1.0, \"#f0f921\"]], \"type\": \"histogram2d\"}], \"histogram2dcontour\": [{\"colorbar\": {\"outlinewidth\": 0, \"ticks\": \"\"}, \"colorscale\": [[0.0, \"#0d0887\"], [0.1111111111111111, \"#46039f\"], [0.2222222222222222, \"#7201a8\"], [0.3333333333333333, \"#9c179e\"], [0.4444444444444444, \"#bd3786\"], [0.5555555555555556, \"#d8576b\"], [0.6666666666666666, \"#ed7953\"], [0.7777777777777778, \"#fb9f3a\"], [0.8888888888888888, \"#fdca26\"], [1.0, \"#f0f921\"]], \"type\": \"histogram2dcontour\"}], \"mesh3d\": [{\"colorbar\": {\"outlinewidth\": 0, \"ticks\": \"\"}, \"type\": \"mesh3d\"}], \"parcoords\": [{\"line\": {\"colorbar\": {\"outlinewidth\": 0, \"ticks\": \"\"}}, \"type\": \"parcoords\"}], \"pie\": [{\"automargin\": true, \"type\": \"pie\"}], \"scatter\": [{\"marker\": {\"colorbar\": {\"outlinewidth\": 0, \"ticks\": \"\"}}, \"type\": \"scatter\"}], \"scatter3d\": [{\"line\": {\"colorbar\": {\"outlinewidth\": 0, \"ticks\": \"\"}}, \"marker\": {\"colorbar\": {\"outlinewidth\": 0, \"ticks\": \"\"}}, \"type\": \"scatter3d\"}], \"scattercarpet\": [{\"marker\": {\"colorbar\": {\"outlinewidth\": 0, \"ticks\": \"\"}}, \"type\": \"scattercarpet\"}], \"scattergeo\": [{\"marker\": {\"colorbar\": {\"outlinewidth\": 0, \"ticks\": \"\"}}, \"type\": \"scattergeo\"}], \"scattergl\": [{\"marker\": {\"colorbar\": {\"outlinewidth\": 0, \"ticks\": \"\"}}, \"type\": \"scattergl\"}], \"scattermapbox\": [{\"marker\": {\"colorbar\": {\"outlinewidth\": 0, \"ticks\": \"\"}}, \"type\": \"scattermapbox\"}], \"scatterpolar\": [{\"marker\": {\"colorbar\": {\"outlinewidth\": 0, \"ticks\": \"\"}}, \"type\": \"scatterpolar\"}], \"scatterpolargl\": [{\"marker\": {\"colorbar\": {\"outlinewidth\": 0, \"ticks\": \"\"}}, \"type\": \"scatterpolargl\"}], \"scatterternary\": [{\"marker\": {\"colorbar\": {\"outlinewidth\": 0, \"ticks\": \"\"}}, \"type\": \"scatterternary\"}], \"surface\": [{\"colorbar\": {\"outlinewidth\": 0, \"ticks\": \"\"}, \"colorscale\": [[0.0, \"#0d0887\"], [0.1111111111111111, \"#46039f\"], [0.2222222222222222, \"#7201a8\"], [0.3333333333333333, \"#9c179e\"], [0.4444444444444444, \"#bd3786\"], [0.5555555555555556, \"#d8576b\"], [0.6666666666666666, \"#ed7953\"], [0.7777777777777778, \"#fb9f3a\"], [0.8888888888888888, \"#fdca26\"], [1.0, \"#f0f921\"]], \"type\": \"surface\"}], \"table\": [{\"cells\": {\"fill\": {\"color\": \"#EBF0F8\"}, \"line\": {\"color\": \"white\"}}, \"header\": {\"fill\": {\"color\": \"#C8D4E3\"}, \"line\": {\"color\": \"white\"}}, \"type\": \"table\"}]}, \"layout\": {\"annotationdefaults\": {\"arrowcolor\": \"#2a3f5f\", \"arrowhead\": 0, \"arrowwidth\": 1}, \"coloraxis\": {\"colorbar\": {\"outlinewidth\": 0, \"ticks\": \"\"}}, \"colorscale\": {\"diverging\": [[0, \"#8e0152\"], [0.1, \"#c51b7d\"], [0.2, \"#de77ae\"], [0.3, \"#f1b6da\"], [0.4, \"#fde0ef\"], [0.5, \"#f7f7f7\"], [0.6, \"#e6f5d0\"], [0.7, \"#b8e186\"], [0.8, \"#7fbc41\"], [0.9, \"#4d9221\"], [1, \"#276419\"]], \"sequential\": [[0.0, \"#0d0887\"], [0.1111111111111111, \"#46039f\"], [0.2222222222222222, \"#7201a8\"], [0.3333333333333333, \"#9c179e\"], [0.4444444444444444, \"#bd3786\"], [0.5555555555555556, \"#d8576b\"], [0.6666666666666666, \"#ed7953\"], [0.7777777777777778, \"#fb9f3a\"], [0.8888888888888888, \"#fdca26\"], [1.0, \"#f0f921\"]], \"sequentialminus\": [[0.0, \"#0d0887\"], [0.1111111111111111, \"#46039f\"], [0.2222222222222222, \"#7201a8\"], [0.3333333333333333, \"#9c179e\"], [0.4444444444444444, \"#bd3786\"], [0.5555555555555556, \"#d8576b\"], [0.6666666666666666, \"#ed7953\"], [0.7777777777777778, \"#fb9f3a\"], [0.8888888888888888, \"#fdca26\"], [1.0, \"#f0f921\"]]}, \"colorway\": [\"#636efa\", \"#EF553B\", \"#00cc96\", \"#ab63fa\", \"#FFA15A\", \"#19d3f3\", \"#FF6692\", \"#B6E880\", \"#FF97FF\", \"#FECB52\"], \"font\": {\"color\": \"#2a3f5f\"}, \"geo\": {\"bgcolor\": \"white\", \"lakecolor\": \"white\", \"landcolor\": \"#E5ECF6\", \"showlakes\": true, \"showland\": true, \"subunitcolor\": \"white\"}, \"hoverlabel\": {\"align\": \"left\"}, \"hovermode\": \"closest\", \"mapbox\": {\"style\": \"light\"}, \"paper_bgcolor\": \"white\", \"plot_bgcolor\": \"#E5ECF6\", \"polar\": {\"angularaxis\": {\"gridcolor\": \"white\", \"linecolor\": \"white\", \"ticks\": \"\"}, \"bgcolor\": \"#E5ECF6\", \"radialaxis\": {\"gridcolor\": \"white\", \"linecolor\": \"white\", \"ticks\": \"\"}}, \"scene\": {\"xaxis\": {\"backgroundcolor\": \"#E5ECF6\", \"gridcolor\": \"white\", \"gridwidth\": 2, \"linecolor\": \"white\", \"showbackground\": true, \"ticks\": \"\", \"zerolinecolor\": \"white\"}, \"yaxis\": {\"backgroundcolor\": \"#E5ECF6\", \"gridcolor\": \"white\", \"gridwidth\": 2, \"linecolor\": \"white\", \"showbackground\": true, \"ticks\": \"\", \"zerolinecolor\": \"white\"}, \"zaxis\": {\"backgroundcolor\": \"#E5ECF6\", \"gridcolor\": \"white\", \"gridwidth\": 2, \"linecolor\": \"white\", \"showbackground\": true, \"ticks\": \"\", \"zerolinecolor\": \"white\"}}, \"shapedefaults\": {\"line\": {\"color\": \"#2a3f5f\"}}, \"ternary\": {\"aaxis\": {\"gridcolor\": \"white\", \"linecolor\": \"white\", \"ticks\": \"\"}, \"baxis\": {\"gridcolor\": \"white\", \"linecolor\": \"white\", \"ticks\": \"\"}, \"bgcolor\": \"#E5ECF6\", \"caxis\": {\"gridcolor\": \"white\", \"linecolor\": \"white\", \"ticks\": \"\"}}, \"title\": {\"x\": 0.05}, \"xaxis\": {\"automargin\": true, \"gridcolor\": \"white\", \"linecolor\": \"white\", \"ticks\": \"\", \"title\": {\"standoff\": 15}, \"zerolinecolor\": \"white\", \"zerolinewidth\": 2}, \"yaxis\": {\"automargin\": true, \"gridcolor\": \"white\", \"linecolor\": \"white\", \"ticks\": \"\", \"title\": {\"standoff\": 15}, \"zerolinecolor\": \"white\", \"zerolinewidth\": 2}}}, \"title\": {\"text\": \"Top 30 unigrams in the question text after removing stop words and lemmatization\"}},\n",
       "                        {\"responsive\": true}\n",
       "                    ).then(function(){\n",
       "                            \n",
       "var gd = document.getElementById('bd1552e4-0b19-4513-97a0-7116ce15ed8c');\n",
       "var x = new MutationObserver(function (mutations, observer) {{\n",
       "        var display = window.getComputedStyle(gd).display;\n",
       "        if (!display || display === 'none') {{\n",
       "            console.log([gd, 'removed!']);\n",
       "            Plotly.purge(gd);\n",
       "            observer.disconnect();\n",
       "        }}\n",
       "}});\n",
       "\n",
       "// Listen for the removal of the full notebook cells\n",
       "var notebookContainer = gd.closest('#notebook-container');\n",
       "if (notebookContainer) {{\n",
       "    x.observe(notebookContainer, {childList: true});\n",
       "}}\n",
       "\n",
       "// Listen for the clearing of the current output cell\n",
       "var outputEl = gd.closest('.output');\n",
       "if (outputEl) {{\n",
       "    x.observe(outputEl, {childList: true});\n",
       "}}\n",
       "\n",
       "                        })\n",
       "                };\n",
       "                });\n",
       "            </script>\n",
       "        </div>"
      ]
     },
     "metadata": {},
     "output_type": "display_data"
    }
   ],
   "source": [
    "def get_top_n_words(corpus, n=None):\n",
    "    vec = CountVectorizer(stop_words='english').fit(corpus)\n",
    "    bag_of_words = vec.transform(corpus)\n",
    "    sum_words = bag_of_words.sum(axis=0) \n",
    "    words_freq = [(word, sum_words[0, idx]) for word, idx in vec.vocabulary_.items()]\n",
    "    words_freq =sorted(words_freq, key = lambda x: x[1], reverse=True)\n",
    "    return words_freq[:n]\n",
    "common_words = get_top_n_words(songlyrics['cleaned_lyrics'], 30)\n",
    "df2 = pd.DataFrame(common_words, columns = ['unigram' , 'count'])\n",
    "\n",
    "fig = go.Figure([go.Bar(x=df2['unigram'], y=df2['count'])])\n",
    "fig.update_layout(title=go.layout.Title(text=\"Top 30 unigrams in the question text after removing stop words and lemmatization\"))\n",
    "fig.show()"
   ]
  },
  {
   "cell_type": "code",
   "execution_count": 74,
   "metadata": {},
   "outputs": [
    {
     "data": {
      "application/vnd.plotly.v1+json": {
       "config": {
        "plotlyServerURL": "https://plot.ly"
       },
       "data": [
        {
         "type": "bar",
         "x": [
          "oh oh",
          "dont know",
          "la la",
          "yeah yeah",
          "dont want",
          "im gonna",
          "dont wanna",
          "ive got",
          "love love",
          "know know",
          "feel like",
          "na na",
          "youve got",
          "ooh ooh",
          "know im",
          "dont care",
          "ah ah",
          "da da",
          "know youre",
          "know dont",
          "come come",
          "im going",
          "hey hey",
          "want want",
          "dont need",
          "dont let",
          "cause im",
          "feels like",
          "think im",
          "time time"
         ],
         "y": [
          2120,
          1857,
          1187,
          1039,
          1031,
          834,
          784,
          774,
          736,
          658,
          650,
          624,
          616,
          575,
          516,
          512,
          448,
          427,
          398,
          397,
          394,
          374,
          374,
          362,
          354,
          337,
          332,
          310,
          307,
          304
         ]
        }
       ],
       "layout": {
        "template": {
         "data": {
          "bar": [
           {
            "error_x": {
             "color": "#2a3f5f"
            },
            "error_y": {
             "color": "#2a3f5f"
            },
            "marker": {
             "line": {
              "color": "#E5ECF6",
              "width": 0.5
             }
            },
            "type": "bar"
           }
          ],
          "barpolar": [
           {
            "marker": {
             "line": {
              "color": "#E5ECF6",
              "width": 0.5
             }
            },
            "type": "barpolar"
           }
          ],
          "carpet": [
           {
            "aaxis": {
             "endlinecolor": "#2a3f5f",
             "gridcolor": "white",
             "linecolor": "white",
             "minorgridcolor": "white",
             "startlinecolor": "#2a3f5f"
            },
            "baxis": {
             "endlinecolor": "#2a3f5f",
             "gridcolor": "white",
             "linecolor": "white",
             "minorgridcolor": "white",
             "startlinecolor": "#2a3f5f"
            },
            "type": "carpet"
           }
          ],
          "choropleth": [
           {
            "colorbar": {
             "outlinewidth": 0,
             "ticks": ""
            },
            "type": "choropleth"
           }
          ],
          "contour": [
           {
            "colorbar": {
             "outlinewidth": 0,
             "ticks": ""
            },
            "colorscale": [
             [
              0,
              "#0d0887"
             ],
             [
              0.1111111111111111,
              "#46039f"
             ],
             [
              0.2222222222222222,
              "#7201a8"
             ],
             [
              0.3333333333333333,
              "#9c179e"
             ],
             [
              0.4444444444444444,
              "#bd3786"
             ],
             [
              0.5555555555555556,
              "#d8576b"
             ],
             [
              0.6666666666666666,
              "#ed7953"
             ],
             [
              0.7777777777777778,
              "#fb9f3a"
             ],
             [
              0.8888888888888888,
              "#fdca26"
             ],
             [
              1,
              "#f0f921"
             ]
            ],
            "type": "contour"
           }
          ],
          "contourcarpet": [
           {
            "colorbar": {
             "outlinewidth": 0,
             "ticks": ""
            },
            "type": "contourcarpet"
           }
          ],
          "heatmap": [
           {
            "colorbar": {
             "outlinewidth": 0,
             "ticks": ""
            },
            "colorscale": [
             [
              0,
              "#0d0887"
             ],
             [
              0.1111111111111111,
              "#46039f"
             ],
             [
              0.2222222222222222,
              "#7201a8"
             ],
             [
              0.3333333333333333,
              "#9c179e"
             ],
             [
              0.4444444444444444,
              "#bd3786"
             ],
             [
              0.5555555555555556,
              "#d8576b"
             ],
             [
              0.6666666666666666,
              "#ed7953"
             ],
             [
              0.7777777777777778,
              "#fb9f3a"
             ],
             [
              0.8888888888888888,
              "#fdca26"
             ],
             [
              1,
              "#f0f921"
             ]
            ],
            "type": "heatmap"
           }
          ],
          "heatmapgl": [
           {
            "colorbar": {
             "outlinewidth": 0,
             "ticks": ""
            },
            "colorscale": [
             [
              0,
              "#0d0887"
             ],
             [
              0.1111111111111111,
              "#46039f"
             ],
             [
              0.2222222222222222,
              "#7201a8"
             ],
             [
              0.3333333333333333,
              "#9c179e"
             ],
             [
              0.4444444444444444,
              "#bd3786"
             ],
             [
              0.5555555555555556,
              "#d8576b"
             ],
             [
              0.6666666666666666,
              "#ed7953"
             ],
             [
              0.7777777777777778,
              "#fb9f3a"
             ],
             [
              0.8888888888888888,
              "#fdca26"
             ],
             [
              1,
              "#f0f921"
             ]
            ],
            "type": "heatmapgl"
           }
          ],
          "histogram": [
           {
            "marker": {
             "colorbar": {
              "outlinewidth": 0,
              "ticks": ""
             }
            },
            "type": "histogram"
           }
          ],
          "histogram2d": [
           {
            "colorbar": {
             "outlinewidth": 0,
             "ticks": ""
            },
            "colorscale": [
             [
              0,
              "#0d0887"
             ],
             [
              0.1111111111111111,
              "#46039f"
             ],
             [
              0.2222222222222222,
              "#7201a8"
             ],
             [
              0.3333333333333333,
              "#9c179e"
             ],
             [
              0.4444444444444444,
              "#bd3786"
             ],
             [
              0.5555555555555556,
              "#d8576b"
             ],
             [
              0.6666666666666666,
              "#ed7953"
             ],
             [
              0.7777777777777778,
              "#fb9f3a"
             ],
             [
              0.8888888888888888,
              "#fdca26"
             ],
             [
              1,
              "#f0f921"
             ]
            ],
            "type": "histogram2d"
           }
          ],
          "histogram2dcontour": [
           {
            "colorbar": {
             "outlinewidth": 0,
             "ticks": ""
            },
            "colorscale": [
             [
              0,
              "#0d0887"
             ],
             [
              0.1111111111111111,
              "#46039f"
             ],
             [
              0.2222222222222222,
              "#7201a8"
             ],
             [
              0.3333333333333333,
              "#9c179e"
             ],
             [
              0.4444444444444444,
              "#bd3786"
             ],
             [
              0.5555555555555556,
              "#d8576b"
             ],
             [
              0.6666666666666666,
              "#ed7953"
             ],
             [
              0.7777777777777778,
              "#fb9f3a"
             ],
             [
              0.8888888888888888,
              "#fdca26"
             ],
             [
              1,
              "#f0f921"
             ]
            ],
            "type": "histogram2dcontour"
           }
          ],
          "mesh3d": [
           {
            "colorbar": {
             "outlinewidth": 0,
             "ticks": ""
            },
            "type": "mesh3d"
           }
          ],
          "parcoords": [
           {
            "line": {
             "colorbar": {
              "outlinewidth": 0,
              "ticks": ""
             }
            },
            "type": "parcoords"
           }
          ],
          "pie": [
           {
            "automargin": true,
            "type": "pie"
           }
          ],
          "scatter": [
           {
            "marker": {
             "colorbar": {
              "outlinewidth": 0,
              "ticks": ""
             }
            },
            "type": "scatter"
           }
          ],
          "scatter3d": [
           {
            "line": {
             "colorbar": {
              "outlinewidth": 0,
              "ticks": ""
             }
            },
            "marker": {
             "colorbar": {
              "outlinewidth": 0,
              "ticks": ""
             }
            },
            "type": "scatter3d"
           }
          ],
          "scattercarpet": [
           {
            "marker": {
             "colorbar": {
              "outlinewidth": 0,
              "ticks": ""
             }
            },
            "type": "scattercarpet"
           }
          ],
          "scattergeo": [
           {
            "marker": {
             "colorbar": {
              "outlinewidth": 0,
              "ticks": ""
             }
            },
            "type": "scattergeo"
           }
          ],
          "scattergl": [
           {
            "marker": {
             "colorbar": {
              "outlinewidth": 0,
              "ticks": ""
             }
            },
            "type": "scattergl"
           }
          ],
          "scattermapbox": [
           {
            "marker": {
             "colorbar": {
              "outlinewidth": 0,
              "ticks": ""
             }
            },
            "type": "scattermapbox"
           }
          ],
          "scatterpolar": [
           {
            "marker": {
             "colorbar": {
              "outlinewidth": 0,
              "ticks": ""
             }
            },
            "type": "scatterpolar"
           }
          ],
          "scatterpolargl": [
           {
            "marker": {
             "colorbar": {
              "outlinewidth": 0,
              "ticks": ""
             }
            },
            "type": "scatterpolargl"
           }
          ],
          "scatterternary": [
           {
            "marker": {
             "colorbar": {
              "outlinewidth": 0,
              "ticks": ""
             }
            },
            "type": "scatterternary"
           }
          ],
          "surface": [
           {
            "colorbar": {
             "outlinewidth": 0,
             "ticks": ""
            },
            "colorscale": [
             [
              0,
              "#0d0887"
             ],
             [
              0.1111111111111111,
              "#46039f"
             ],
             [
              0.2222222222222222,
              "#7201a8"
             ],
             [
              0.3333333333333333,
              "#9c179e"
             ],
             [
              0.4444444444444444,
              "#bd3786"
             ],
             [
              0.5555555555555556,
              "#d8576b"
             ],
             [
              0.6666666666666666,
              "#ed7953"
             ],
             [
              0.7777777777777778,
              "#fb9f3a"
             ],
             [
              0.8888888888888888,
              "#fdca26"
             ],
             [
              1,
              "#f0f921"
             ]
            ],
            "type": "surface"
           }
          ],
          "table": [
           {
            "cells": {
             "fill": {
              "color": "#EBF0F8"
             },
             "line": {
              "color": "white"
             }
            },
            "header": {
             "fill": {
              "color": "#C8D4E3"
             },
             "line": {
              "color": "white"
             }
            },
            "type": "table"
           }
          ]
         },
         "layout": {
          "annotationdefaults": {
           "arrowcolor": "#2a3f5f",
           "arrowhead": 0,
           "arrowwidth": 1
          },
          "coloraxis": {
           "colorbar": {
            "outlinewidth": 0,
            "ticks": ""
           }
          },
          "colorscale": {
           "diverging": [
            [
             0,
             "#8e0152"
            ],
            [
             0.1,
             "#c51b7d"
            ],
            [
             0.2,
             "#de77ae"
            ],
            [
             0.3,
             "#f1b6da"
            ],
            [
             0.4,
             "#fde0ef"
            ],
            [
             0.5,
             "#f7f7f7"
            ],
            [
             0.6,
             "#e6f5d0"
            ],
            [
             0.7,
             "#b8e186"
            ],
            [
             0.8,
             "#7fbc41"
            ],
            [
             0.9,
             "#4d9221"
            ],
            [
             1,
             "#276419"
            ]
           ],
           "sequential": [
            [
             0,
             "#0d0887"
            ],
            [
             0.1111111111111111,
             "#46039f"
            ],
            [
             0.2222222222222222,
             "#7201a8"
            ],
            [
             0.3333333333333333,
             "#9c179e"
            ],
            [
             0.4444444444444444,
             "#bd3786"
            ],
            [
             0.5555555555555556,
             "#d8576b"
            ],
            [
             0.6666666666666666,
             "#ed7953"
            ],
            [
             0.7777777777777778,
             "#fb9f3a"
            ],
            [
             0.8888888888888888,
             "#fdca26"
            ],
            [
             1,
             "#f0f921"
            ]
           ],
           "sequentialminus": [
            [
             0,
             "#0d0887"
            ],
            [
             0.1111111111111111,
             "#46039f"
            ],
            [
             0.2222222222222222,
             "#7201a8"
            ],
            [
             0.3333333333333333,
             "#9c179e"
            ],
            [
             0.4444444444444444,
             "#bd3786"
            ],
            [
             0.5555555555555556,
             "#d8576b"
            ],
            [
             0.6666666666666666,
             "#ed7953"
            ],
            [
             0.7777777777777778,
             "#fb9f3a"
            ],
            [
             0.8888888888888888,
             "#fdca26"
            ],
            [
             1,
             "#f0f921"
            ]
           ]
          },
          "colorway": [
           "#636efa",
           "#EF553B",
           "#00cc96",
           "#ab63fa",
           "#FFA15A",
           "#19d3f3",
           "#FF6692",
           "#B6E880",
           "#FF97FF",
           "#FECB52"
          ],
          "font": {
           "color": "#2a3f5f"
          },
          "geo": {
           "bgcolor": "white",
           "lakecolor": "white",
           "landcolor": "#E5ECF6",
           "showlakes": true,
           "showland": true,
           "subunitcolor": "white"
          },
          "hoverlabel": {
           "align": "left"
          },
          "hovermode": "closest",
          "mapbox": {
           "style": "light"
          },
          "paper_bgcolor": "white",
          "plot_bgcolor": "#E5ECF6",
          "polar": {
           "angularaxis": {
            "gridcolor": "white",
            "linecolor": "white",
            "ticks": ""
           },
           "bgcolor": "#E5ECF6",
           "radialaxis": {
            "gridcolor": "white",
            "linecolor": "white",
            "ticks": ""
           }
          },
          "scene": {
           "xaxis": {
            "backgroundcolor": "#E5ECF6",
            "gridcolor": "white",
            "gridwidth": 2,
            "linecolor": "white",
            "showbackground": true,
            "ticks": "",
            "zerolinecolor": "white"
           },
           "yaxis": {
            "backgroundcolor": "#E5ECF6",
            "gridcolor": "white",
            "gridwidth": 2,
            "linecolor": "white",
            "showbackground": true,
            "ticks": "",
            "zerolinecolor": "white"
           },
           "zaxis": {
            "backgroundcolor": "#E5ECF6",
            "gridcolor": "white",
            "gridwidth": 2,
            "linecolor": "white",
            "showbackground": true,
            "ticks": "",
            "zerolinecolor": "white"
           }
          },
          "shapedefaults": {
           "line": {
            "color": "#2a3f5f"
           }
          },
          "ternary": {
           "aaxis": {
            "gridcolor": "white",
            "linecolor": "white",
            "ticks": ""
           },
           "baxis": {
            "gridcolor": "white",
            "linecolor": "white",
            "ticks": ""
           },
           "bgcolor": "#E5ECF6",
           "caxis": {
            "gridcolor": "white",
            "linecolor": "white",
            "ticks": ""
           }
          },
          "title": {
           "x": 0.05
          },
          "xaxis": {
           "automargin": true,
           "gridcolor": "white",
           "linecolor": "white",
           "ticks": "",
           "title": {
            "standoff": 15
           },
           "zerolinecolor": "white",
           "zerolinewidth": 2
          },
          "yaxis": {
           "automargin": true,
           "gridcolor": "white",
           "linecolor": "white",
           "ticks": "",
           "title": {
            "standoff": 15
           },
           "zerolinecolor": "white",
           "zerolinewidth": 2
          }
         }
        },
        "title": {
         "text": "Top 20 bigrams in the question text after removing stop words and lemmatization"
        }
       }
      },
      "text/html": [
       "<div>\n",
       "        \n",
       "        \n",
       "            <div id=\"5f5bd353-af45-4902-a75a-b4effa7a1b4e\" class=\"plotly-graph-div\" style=\"height:525px; width:100%;\"></div>\n",
       "            <script type=\"text/javascript\">\n",
       "                require([\"plotly\"], function(Plotly) {\n",
       "                    window.PLOTLYENV=window.PLOTLYENV || {};\n",
       "                    \n",
       "                if (document.getElementById(\"5f5bd353-af45-4902-a75a-b4effa7a1b4e\")) {\n",
       "                    Plotly.newPlot(\n",
       "                        '5f5bd353-af45-4902-a75a-b4effa7a1b4e',\n",
       "                        [{\"type\": \"bar\", \"x\": [\"oh oh\", \"dont know\", \"la la\", \"yeah yeah\", \"dont want\", \"im gonna\", \"dont wanna\", \"ive got\", \"love love\", \"know know\", \"feel like\", \"na na\", \"youve got\", \"ooh ooh\", \"know im\", \"dont care\", \"ah ah\", \"da da\", \"know youre\", \"know dont\", \"come come\", \"im going\", \"hey hey\", \"want want\", \"dont need\", \"dont let\", \"cause im\", \"feels like\", \"think im\", \"time time\"], \"y\": [2120, 1857, 1187, 1039, 1031, 834, 784, 774, 736, 658, 650, 624, 616, 575, 516, 512, 448, 427, 398, 397, 394, 374, 374, 362, 354, 337, 332, 310, 307, 304]}],\n",
       "                        {\"template\": {\"data\": {\"bar\": [{\"error_x\": {\"color\": \"#2a3f5f\"}, \"error_y\": {\"color\": \"#2a3f5f\"}, \"marker\": {\"line\": {\"color\": \"#E5ECF6\", \"width\": 0.5}}, \"type\": \"bar\"}], \"barpolar\": [{\"marker\": {\"line\": {\"color\": \"#E5ECF6\", \"width\": 0.5}}, \"type\": \"barpolar\"}], \"carpet\": [{\"aaxis\": {\"endlinecolor\": \"#2a3f5f\", \"gridcolor\": \"white\", \"linecolor\": \"white\", \"minorgridcolor\": \"white\", \"startlinecolor\": \"#2a3f5f\"}, \"baxis\": {\"endlinecolor\": \"#2a3f5f\", \"gridcolor\": \"white\", \"linecolor\": \"white\", \"minorgridcolor\": \"white\", \"startlinecolor\": \"#2a3f5f\"}, \"type\": \"carpet\"}], \"choropleth\": [{\"colorbar\": {\"outlinewidth\": 0, \"ticks\": \"\"}, \"type\": \"choropleth\"}], \"contour\": [{\"colorbar\": {\"outlinewidth\": 0, \"ticks\": \"\"}, \"colorscale\": [[0.0, \"#0d0887\"], [0.1111111111111111, \"#46039f\"], [0.2222222222222222, \"#7201a8\"], [0.3333333333333333, \"#9c179e\"], [0.4444444444444444, \"#bd3786\"], [0.5555555555555556, \"#d8576b\"], [0.6666666666666666, \"#ed7953\"], [0.7777777777777778, \"#fb9f3a\"], [0.8888888888888888, \"#fdca26\"], [1.0, \"#f0f921\"]], \"type\": \"contour\"}], \"contourcarpet\": [{\"colorbar\": {\"outlinewidth\": 0, \"ticks\": \"\"}, \"type\": \"contourcarpet\"}], \"heatmap\": [{\"colorbar\": {\"outlinewidth\": 0, \"ticks\": \"\"}, \"colorscale\": [[0.0, \"#0d0887\"], [0.1111111111111111, \"#46039f\"], [0.2222222222222222, \"#7201a8\"], [0.3333333333333333, \"#9c179e\"], [0.4444444444444444, \"#bd3786\"], [0.5555555555555556, \"#d8576b\"], [0.6666666666666666, \"#ed7953\"], [0.7777777777777778, \"#fb9f3a\"], [0.8888888888888888, \"#fdca26\"], [1.0, \"#f0f921\"]], \"type\": \"heatmap\"}], \"heatmapgl\": [{\"colorbar\": {\"outlinewidth\": 0, \"ticks\": \"\"}, \"colorscale\": [[0.0, \"#0d0887\"], [0.1111111111111111, \"#46039f\"], [0.2222222222222222, \"#7201a8\"], [0.3333333333333333, \"#9c179e\"], [0.4444444444444444, \"#bd3786\"], [0.5555555555555556, \"#d8576b\"], [0.6666666666666666, \"#ed7953\"], [0.7777777777777778, \"#fb9f3a\"], [0.8888888888888888, \"#fdca26\"], [1.0, \"#f0f921\"]], \"type\": \"heatmapgl\"}], \"histogram\": [{\"marker\": {\"colorbar\": {\"outlinewidth\": 0, \"ticks\": \"\"}}, \"type\": \"histogram\"}], \"histogram2d\": [{\"colorbar\": {\"outlinewidth\": 0, \"ticks\": \"\"}, \"colorscale\": [[0.0, \"#0d0887\"], [0.1111111111111111, \"#46039f\"], [0.2222222222222222, \"#7201a8\"], [0.3333333333333333, \"#9c179e\"], [0.4444444444444444, \"#bd3786\"], [0.5555555555555556, \"#d8576b\"], [0.6666666666666666, \"#ed7953\"], [0.7777777777777778, \"#fb9f3a\"], [0.8888888888888888, \"#fdca26\"], [1.0, \"#f0f921\"]], \"type\": \"histogram2d\"}], \"histogram2dcontour\": [{\"colorbar\": {\"outlinewidth\": 0, \"ticks\": \"\"}, \"colorscale\": [[0.0, \"#0d0887\"], [0.1111111111111111, \"#46039f\"], [0.2222222222222222, \"#7201a8\"], [0.3333333333333333, \"#9c179e\"], [0.4444444444444444, \"#bd3786\"], [0.5555555555555556, \"#d8576b\"], [0.6666666666666666, \"#ed7953\"], [0.7777777777777778, \"#fb9f3a\"], [0.8888888888888888, \"#fdca26\"], [1.0, \"#f0f921\"]], \"type\": \"histogram2dcontour\"}], \"mesh3d\": [{\"colorbar\": {\"outlinewidth\": 0, \"ticks\": \"\"}, \"type\": \"mesh3d\"}], \"parcoords\": [{\"line\": {\"colorbar\": {\"outlinewidth\": 0, \"ticks\": \"\"}}, \"type\": \"parcoords\"}], \"pie\": [{\"automargin\": true, \"type\": \"pie\"}], \"scatter\": [{\"marker\": {\"colorbar\": {\"outlinewidth\": 0, \"ticks\": \"\"}}, \"type\": \"scatter\"}], \"scatter3d\": [{\"line\": {\"colorbar\": {\"outlinewidth\": 0, \"ticks\": \"\"}}, \"marker\": {\"colorbar\": {\"outlinewidth\": 0, \"ticks\": \"\"}}, \"type\": \"scatter3d\"}], \"scattercarpet\": [{\"marker\": {\"colorbar\": {\"outlinewidth\": 0, \"ticks\": \"\"}}, \"type\": \"scattercarpet\"}], \"scattergeo\": [{\"marker\": {\"colorbar\": {\"outlinewidth\": 0, \"ticks\": \"\"}}, \"type\": \"scattergeo\"}], \"scattergl\": [{\"marker\": {\"colorbar\": {\"outlinewidth\": 0, \"ticks\": \"\"}}, \"type\": \"scattergl\"}], \"scattermapbox\": [{\"marker\": {\"colorbar\": {\"outlinewidth\": 0, \"ticks\": \"\"}}, \"type\": \"scattermapbox\"}], \"scatterpolar\": [{\"marker\": {\"colorbar\": {\"outlinewidth\": 0, \"ticks\": \"\"}}, \"type\": \"scatterpolar\"}], \"scatterpolargl\": [{\"marker\": {\"colorbar\": {\"outlinewidth\": 0, \"ticks\": \"\"}}, \"type\": \"scatterpolargl\"}], \"scatterternary\": [{\"marker\": {\"colorbar\": {\"outlinewidth\": 0, \"ticks\": \"\"}}, \"type\": \"scatterternary\"}], \"surface\": [{\"colorbar\": {\"outlinewidth\": 0, \"ticks\": \"\"}, \"colorscale\": [[0.0, \"#0d0887\"], [0.1111111111111111, \"#46039f\"], [0.2222222222222222, \"#7201a8\"], [0.3333333333333333, \"#9c179e\"], [0.4444444444444444, \"#bd3786\"], [0.5555555555555556, \"#d8576b\"], [0.6666666666666666, \"#ed7953\"], [0.7777777777777778, \"#fb9f3a\"], [0.8888888888888888, \"#fdca26\"], [1.0, \"#f0f921\"]], \"type\": \"surface\"}], \"table\": [{\"cells\": {\"fill\": {\"color\": \"#EBF0F8\"}, \"line\": {\"color\": \"white\"}}, \"header\": {\"fill\": {\"color\": \"#C8D4E3\"}, \"line\": {\"color\": \"white\"}}, \"type\": \"table\"}]}, \"layout\": {\"annotationdefaults\": {\"arrowcolor\": \"#2a3f5f\", \"arrowhead\": 0, \"arrowwidth\": 1}, \"coloraxis\": {\"colorbar\": {\"outlinewidth\": 0, \"ticks\": \"\"}}, \"colorscale\": {\"diverging\": [[0, \"#8e0152\"], [0.1, \"#c51b7d\"], [0.2, \"#de77ae\"], [0.3, \"#f1b6da\"], [0.4, \"#fde0ef\"], [0.5, \"#f7f7f7\"], [0.6, \"#e6f5d0\"], [0.7, \"#b8e186\"], [0.8, \"#7fbc41\"], [0.9, \"#4d9221\"], [1, \"#276419\"]], \"sequential\": [[0.0, \"#0d0887\"], [0.1111111111111111, \"#46039f\"], [0.2222222222222222, \"#7201a8\"], [0.3333333333333333, \"#9c179e\"], [0.4444444444444444, \"#bd3786\"], [0.5555555555555556, \"#d8576b\"], [0.6666666666666666, \"#ed7953\"], [0.7777777777777778, \"#fb9f3a\"], [0.8888888888888888, \"#fdca26\"], [1.0, \"#f0f921\"]], \"sequentialminus\": [[0.0, \"#0d0887\"], [0.1111111111111111, \"#46039f\"], [0.2222222222222222, \"#7201a8\"], [0.3333333333333333, \"#9c179e\"], [0.4444444444444444, \"#bd3786\"], [0.5555555555555556, \"#d8576b\"], [0.6666666666666666, \"#ed7953\"], [0.7777777777777778, \"#fb9f3a\"], [0.8888888888888888, \"#fdca26\"], [1.0, \"#f0f921\"]]}, \"colorway\": [\"#636efa\", \"#EF553B\", \"#00cc96\", \"#ab63fa\", \"#FFA15A\", \"#19d3f3\", \"#FF6692\", \"#B6E880\", \"#FF97FF\", \"#FECB52\"], \"font\": {\"color\": \"#2a3f5f\"}, \"geo\": {\"bgcolor\": \"white\", \"lakecolor\": \"white\", \"landcolor\": \"#E5ECF6\", \"showlakes\": true, \"showland\": true, \"subunitcolor\": \"white\"}, \"hoverlabel\": {\"align\": \"left\"}, \"hovermode\": \"closest\", \"mapbox\": {\"style\": \"light\"}, \"paper_bgcolor\": \"white\", \"plot_bgcolor\": \"#E5ECF6\", \"polar\": {\"angularaxis\": {\"gridcolor\": \"white\", \"linecolor\": \"white\", \"ticks\": \"\"}, \"bgcolor\": \"#E5ECF6\", \"radialaxis\": {\"gridcolor\": \"white\", \"linecolor\": \"white\", \"ticks\": \"\"}}, \"scene\": {\"xaxis\": {\"backgroundcolor\": \"#E5ECF6\", \"gridcolor\": \"white\", \"gridwidth\": 2, \"linecolor\": \"white\", \"showbackground\": true, \"ticks\": \"\", \"zerolinecolor\": \"white\"}, \"yaxis\": {\"backgroundcolor\": \"#E5ECF6\", \"gridcolor\": \"white\", \"gridwidth\": 2, \"linecolor\": \"white\", \"showbackground\": true, \"ticks\": \"\", \"zerolinecolor\": \"white\"}, \"zaxis\": {\"backgroundcolor\": \"#E5ECF6\", \"gridcolor\": \"white\", \"gridwidth\": 2, \"linecolor\": \"white\", \"showbackground\": true, \"ticks\": \"\", \"zerolinecolor\": \"white\"}}, \"shapedefaults\": {\"line\": {\"color\": \"#2a3f5f\"}}, \"ternary\": {\"aaxis\": {\"gridcolor\": \"white\", \"linecolor\": \"white\", \"ticks\": \"\"}, \"baxis\": {\"gridcolor\": \"white\", \"linecolor\": \"white\", \"ticks\": \"\"}, \"bgcolor\": \"#E5ECF6\", \"caxis\": {\"gridcolor\": \"white\", \"linecolor\": \"white\", \"ticks\": \"\"}}, \"title\": {\"x\": 0.05}, \"xaxis\": {\"automargin\": true, \"gridcolor\": \"white\", \"linecolor\": \"white\", \"ticks\": \"\", \"title\": {\"standoff\": 15}, \"zerolinecolor\": \"white\", \"zerolinewidth\": 2}, \"yaxis\": {\"automargin\": true, \"gridcolor\": \"white\", \"linecolor\": \"white\", \"ticks\": \"\", \"title\": {\"standoff\": 15}, \"zerolinecolor\": \"white\", \"zerolinewidth\": 2}}}, \"title\": {\"text\": \"Top 20 bigrams in the question text after removing stop words and lemmatization\"}},\n",
       "                        {\"responsive\": true}\n",
       "                    ).then(function(){\n",
       "                            \n",
       "var gd = document.getElementById('5f5bd353-af45-4902-a75a-b4effa7a1b4e');\n",
       "var x = new MutationObserver(function (mutations, observer) {{\n",
       "        var display = window.getComputedStyle(gd).display;\n",
       "        if (!display || display === 'none') {{\n",
       "            console.log([gd, 'removed!']);\n",
       "            Plotly.purge(gd);\n",
       "            observer.disconnect();\n",
       "        }}\n",
       "}});\n",
       "\n",
       "// Listen for the removal of the full notebook cells\n",
       "var notebookContainer = gd.closest('#notebook-container');\n",
       "if (notebookContainer) {{\n",
       "    x.observe(notebookContainer, {childList: true});\n",
       "}}\n",
       "\n",
       "// Listen for the clearing of the current output cell\n",
       "var outputEl = gd.closest('.output');\n",
       "if (outputEl) {{\n",
       "    x.observe(outputEl, {childList: true});\n",
       "}}\n",
       "\n",
       "                        })\n",
       "                };\n",
       "                });\n",
       "            </script>\n",
       "        </div>"
      ]
     },
     "metadata": {},
     "output_type": "display_data"
    }
   ],
   "source": [
    "def get_top_n_bigram(corpus, n=None):\n",
    "    vec = CountVectorizer(ngram_range=(2, 2), stop_words='english').fit(corpus)\n",
    "    bag_of_words = vec.transform(corpus)\n",
    "    sum_words = bag_of_words.sum(axis=0) \n",
    "    words_freq = [(word, sum_words[0, idx]) for word, idx in vec.vocabulary_.items()]\n",
    "    words_freq =sorted(words_freq, key = lambda x: x[1], reverse=True)\n",
    "    return words_freq[:n]\n",
    "common_words = get_top_n_bigram(songlyrics['cleaned_lyrics'], 30)\n",
    "df3 = pd.DataFrame(common_words, columns = ['bigram' , 'count'])\n",
    "\n",
    "fig = go.Figure([go.Bar(x=df3['bigram'], y=df3['count'])])\n",
    "fig.update_layout(title=go.layout.Title(text=\"Top 20 bigrams in the question text after removing stop words and lemmatization\"))\n",
    "fig.show()"
   ]
  },
  {
   "cell_type": "code",
   "execution_count": 73,
   "metadata": {
    "scrolled": false
   },
   "outputs": [
    {
     "data": {
      "application/vnd.plotly.v1+json": {
       "config": {
        "plotlyServerURL": "https://plot.ly"
       },
       "data": [
        {
         "type": "bar",
         "x": [
          "oh oh oh",
          "la la la",
          "yeah yeah yeah",
          "na na na",
          "ah ah ah",
          "ooh ooh ooh",
          "da da da",
          "love love love",
          "dont know dont",
          "beep beep beep",
          "know dont know",
          "hey hey hey",
          "ba ba ba",
          "know know know",
          "come come come",
          "doo doo doo",
          "dont dont dont",
          "want want want",
          "run run run",
          "want dont want",
          "got got got",
          "try try try",
          "dont know im",
          "dont want dont",
          "hoo hoo hoo",
          "bad bad bad",
          "time time time",
          "boogie boogie boogie",
          "help help help",
          "ride ride ride"
         ],
         "y": [
          1242,
          1000,
          714,
          554,
          344,
          339,
          300,
          278,
          210,
          208,
          201,
          194,
          192,
          180,
          158,
          140,
          131,
          125,
          120,
          113,
          112,
          101,
          100,
          99,
          93,
          92,
          86,
          86,
          84,
          83
         ]
        }
       ],
       "layout": {
        "template": {
         "data": {
          "bar": [
           {
            "error_x": {
             "color": "#2a3f5f"
            },
            "error_y": {
             "color": "#2a3f5f"
            },
            "marker": {
             "line": {
              "color": "#E5ECF6",
              "width": 0.5
             }
            },
            "type": "bar"
           }
          ],
          "barpolar": [
           {
            "marker": {
             "line": {
              "color": "#E5ECF6",
              "width": 0.5
             }
            },
            "type": "barpolar"
           }
          ],
          "carpet": [
           {
            "aaxis": {
             "endlinecolor": "#2a3f5f",
             "gridcolor": "white",
             "linecolor": "white",
             "minorgridcolor": "white",
             "startlinecolor": "#2a3f5f"
            },
            "baxis": {
             "endlinecolor": "#2a3f5f",
             "gridcolor": "white",
             "linecolor": "white",
             "minorgridcolor": "white",
             "startlinecolor": "#2a3f5f"
            },
            "type": "carpet"
           }
          ],
          "choropleth": [
           {
            "colorbar": {
             "outlinewidth": 0,
             "ticks": ""
            },
            "type": "choropleth"
           }
          ],
          "contour": [
           {
            "colorbar": {
             "outlinewidth": 0,
             "ticks": ""
            },
            "colorscale": [
             [
              0,
              "#0d0887"
             ],
             [
              0.1111111111111111,
              "#46039f"
             ],
             [
              0.2222222222222222,
              "#7201a8"
             ],
             [
              0.3333333333333333,
              "#9c179e"
             ],
             [
              0.4444444444444444,
              "#bd3786"
             ],
             [
              0.5555555555555556,
              "#d8576b"
             ],
             [
              0.6666666666666666,
              "#ed7953"
             ],
             [
              0.7777777777777778,
              "#fb9f3a"
             ],
             [
              0.8888888888888888,
              "#fdca26"
             ],
             [
              1,
              "#f0f921"
             ]
            ],
            "type": "contour"
           }
          ],
          "contourcarpet": [
           {
            "colorbar": {
             "outlinewidth": 0,
             "ticks": ""
            },
            "type": "contourcarpet"
           }
          ],
          "heatmap": [
           {
            "colorbar": {
             "outlinewidth": 0,
             "ticks": ""
            },
            "colorscale": [
             [
              0,
              "#0d0887"
             ],
             [
              0.1111111111111111,
              "#46039f"
             ],
             [
              0.2222222222222222,
              "#7201a8"
             ],
             [
              0.3333333333333333,
              "#9c179e"
             ],
             [
              0.4444444444444444,
              "#bd3786"
             ],
             [
              0.5555555555555556,
              "#d8576b"
             ],
             [
              0.6666666666666666,
              "#ed7953"
             ],
             [
              0.7777777777777778,
              "#fb9f3a"
             ],
             [
              0.8888888888888888,
              "#fdca26"
             ],
             [
              1,
              "#f0f921"
             ]
            ],
            "type": "heatmap"
           }
          ],
          "heatmapgl": [
           {
            "colorbar": {
             "outlinewidth": 0,
             "ticks": ""
            },
            "colorscale": [
             [
              0,
              "#0d0887"
             ],
             [
              0.1111111111111111,
              "#46039f"
             ],
             [
              0.2222222222222222,
              "#7201a8"
             ],
             [
              0.3333333333333333,
              "#9c179e"
             ],
             [
              0.4444444444444444,
              "#bd3786"
             ],
             [
              0.5555555555555556,
              "#d8576b"
             ],
             [
              0.6666666666666666,
              "#ed7953"
             ],
             [
              0.7777777777777778,
              "#fb9f3a"
             ],
             [
              0.8888888888888888,
              "#fdca26"
             ],
             [
              1,
              "#f0f921"
             ]
            ],
            "type": "heatmapgl"
           }
          ],
          "histogram": [
           {
            "marker": {
             "colorbar": {
              "outlinewidth": 0,
              "ticks": ""
             }
            },
            "type": "histogram"
           }
          ],
          "histogram2d": [
           {
            "colorbar": {
             "outlinewidth": 0,
             "ticks": ""
            },
            "colorscale": [
             [
              0,
              "#0d0887"
             ],
             [
              0.1111111111111111,
              "#46039f"
             ],
             [
              0.2222222222222222,
              "#7201a8"
             ],
             [
              0.3333333333333333,
              "#9c179e"
             ],
             [
              0.4444444444444444,
              "#bd3786"
             ],
             [
              0.5555555555555556,
              "#d8576b"
             ],
             [
              0.6666666666666666,
              "#ed7953"
             ],
             [
              0.7777777777777778,
              "#fb9f3a"
             ],
             [
              0.8888888888888888,
              "#fdca26"
             ],
             [
              1,
              "#f0f921"
             ]
            ],
            "type": "histogram2d"
           }
          ],
          "histogram2dcontour": [
           {
            "colorbar": {
             "outlinewidth": 0,
             "ticks": ""
            },
            "colorscale": [
             [
              0,
              "#0d0887"
             ],
             [
              0.1111111111111111,
              "#46039f"
             ],
             [
              0.2222222222222222,
              "#7201a8"
             ],
             [
              0.3333333333333333,
              "#9c179e"
             ],
             [
              0.4444444444444444,
              "#bd3786"
             ],
             [
              0.5555555555555556,
              "#d8576b"
             ],
             [
              0.6666666666666666,
              "#ed7953"
             ],
             [
              0.7777777777777778,
              "#fb9f3a"
             ],
             [
              0.8888888888888888,
              "#fdca26"
             ],
             [
              1,
              "#f0f921"
             ]
            ],
            "type": "histogram2dcontour"
           }
          ],
          "mesh3d": [
           {
            "colorbar": {
             "outlinewidth": 0,
             "ticks": ""
            },
            "type": "mesh3d"
           }
          ],
          "parcoords": [
           {
            "line": {
             "colorbar": {
              "outlinewidth": 0,
              "ticks": ""
             }
            },
            "type": "parcoords"
           }
          ],
          "pie": [
           {
            "automargin": true,
            "type": "pie"
           }
          ],
          "scatter": [
           {
            "marker": {
             "colorbar": {
              "outlinewidth": 0,
              "ticks": ""
             }
            },
            "type": "scatter"
           }
          ],
          "scatter3d": [
           {
            "line": {
             "colorbar": {
              "outlinewidth": 0,
              "ticks": ""
             }
            },
            "marker": {
             "colorbar": {
              "outlinewidth": 0,
              "ticks": ""
             }
            },
            "type": "scatter3d"
           }
          ],
          "scattercarpet": [
           {
            "marker": {
             "colorbar": {
              "outlinewidth": 0,
              "ticks": ""
             }
            },
            "type": "scattercarpet"
           }
          ],
          "scattergeo": [
           {
            "marker": {
             "colorbar": {
              "outlinewidth": 0,
              "ticks": ""
             }
            },
            "type": "scattergeo"
           }
          ],
          "scattergl": [
           {
            "marker": {
             "colorbar": {
              "outlinewidth": 0,
              "ticks": ""
             }
            },
            "type": "scattergl"
           }
          ],
          "scattermapbox": [
           {
            "marker": {
             "colorbar": {
              "outlinewidth": 0,
              "ticks": ""
             }
            },
            "type": "scattermapbox"
           }
          ],
          "scatterpolar": [
           {
            "marker": {
             "colorbar": {
              "outlinewidth": 0,
              "ticks": ""
             }
            },
            "type": "scatterpolar"
           }
          ],
          "scatterpolargl": [
           {
            "marker": {
             "colorbar": {
              "outlinewidth": 0,
              "ticks": ""
             }
            },
            "type": "scatterpolargl"
           }
          ],
          "scatterternary": [
           {
            "marker": {
             "colorbar": {
              "outlinewidth": 0,
              "ticks": ""
             }
            },
            "type": "scatterternary"
           }
          ],
          "surface": [
           {
            "colorbar": {
             "outlinewidth": 0,
             "ticks": ""
            },
            "colorscale": [
             [
              0,
              "#0d0887"
             ],
             [
              0.1111111111111111,
              "#46039f"
             ],
             [
              0.2222222222222222,
              "#7201a8"
             ],
             [
              0.3333333333333333,
              "#9c179e"
             ],
             [
              0.4444444444444444,
              "#bd3786"
             ],
             [
              0.5555555555555556,
              "#d8576b"
             ],
             [
              0.6666666666666666,
              "#ed7953"
             ],
             [
              0.7777777777777778,
              "#fb9f3a"
             ],
             [
              0.8888888888888888,
              "#fdca26"
             ],
             [
              1,
              "#f0f921"
             ]
            ],
            "type": "surface"
           }
          ],
          "table": [
           {
            "cells": {
             "fill": {
              "color": "#EBF0F8"
             },
             "line": {
              "color": "white"
             }
            },
            "header": {
             "fill": {
              "color": "#C8D4E3"
             },
             "line": {
              "color": "white"
             }
            },
            "type": "table"
           }
          ]
         },
         "layout": {
          "annotationdefaults": {
           "arrowcolor": "#2a3f5f",
           "arrowhead": 0,
           "arrowwidth": 1
          },
          "coloraxis": {
           "colorbar": {
            "outlinewidth": 0,
            "ticks": ""
           }
          },
          "colorscale": {
           "diverging": [
            [
             0,
             "#8e0152"
            ],
            [
             0.1,
             "#c51b7d"
            ],
            [
             0.2,
             "#de77ae"
            ],
            [
             0.3,
             "#f1b6da"
            ],
            [
             0.4,
             "#fde0ef"
            ],
            [
             0.5,
             "#f7f7f7"
            ],
            [
             0.6,
             "#e6f5d0"
            ],
            [
             0.7,
             "#b8e186"
            ],
            [
             0.8,
             "#7fbc41"
            ],
            [
             0.9,
             "#4d9221"
            ],
            [
             1,
             "#276419"
            ]
           ],
           "sequential": [
            [
             0,
             "#0d0887"
            ],
            [
             0.1111111111111111,
             "#46039f"
            ],
            [
             0.2222222222222222,
             "#7201a8"
            ],
            [
             0.3333333333333333,
             "#9c179e"
            ],
            [
             0.4444444444444444,
             "#bd3786"
            ],
            [
             0.5555555555555556,
             "#d8576b"
            ],
            [
             0.6666666666666666,
             "#ed7953"
            ],
            [
             0.7777777777777778,
             "#fb9f3a"
            ],
            [
             0.8888888888888888,
             "#fdca26"
            ],
            [
             1,
             "#f0f921"
            ]
           ],
           "sequentialminus": [
            [
             0,
             "#0d0887"
            ],
            [
             0.1111111111111111,
             "#46039f"
            ],
            [
             0.2222222222222222,
             "#7201a8"
            ],
            [
             0.3333333333333333,
             "#9c179e"
            ],
            [
             0.4444444444444444,
             "#bd3786"
            ],
            [
             0.5555555555555556,
             "#d8576b"
            ],
            [
             0.6666666666666666,
             "#ed7953"
            ],
            [
             0.7777777777777778,
             "#fb9f3a"
            ],
            [
             0.8888888888888888,
             "#fdca26"
            ],
            [
             1,
             "#f0f921"
            ]
           ]
          },
          "colorway": [
           "#636efa",
           "#EF553B",
           "#00cc96",
           "#ab63fa",
           "#FFA15A",
           "#19d3f3",
           "#FF6692",
           "#B6E880",
           "#FF97FF",
           "#FECB52"
          ],
          "font": {
           "color": "#2a3f5f"
          },
          "geo": {
           "bgcolor": "white",
           "lakecolor": "white",
           "landcolor": "#E5ECF6",
           "showlakes": true,
           "showland": true,
           "subunitcolor": "white"
          },
          "hoverlabel": {
           "align": "left"
          },
          "hovermode": "closest",
          "mapbox": {
           "style": "light"
          },
          "paper_bgcolor": "white",
          "plot_bgcolor": "#E5ECF6",
          "polar": {
           "angularaxis": {
            "gridcolor": "white",
            "linecolor": "white",
            "ticks": ""
           },
           "bgcolor": "#E5ECF6",
           "radialaxis": {
            "gridcolor": "white",
            "linecolor": "white",
            "ticks": ""
           }
          },
          "scene": {
           "xaxis": {
            "backgroundcolor": "#E5ECF6",
            "gridcolor": "white",
            "gridwidth": 2,
            "linecolor": "white",
            "showbackground": true,
            "ticks": "",
            "zerolinecolor": "white"
           },
           "yaxis": {
            "backgroundcolor": "#E5ECF6",
            "gridcolor": "white",
            "gridwidth": 2,
            "linecolor": "white",
            "showbackground": true,
            "ticks": "",
            "zerolinecolor": "white"
           },
           "zaxis": {
            "backgroundcolor": "#E5ECF6",
            "gridcolor": "white",
            "gridwidth": 2,
            "linecolor": "white",
            "showbackground": true,
            "ticks": "",
            "zerolinecolor": "white"
           }
          },
          "shapedefaults": {
           "line": {
            "color": "#2a3f5f"
           }
          },
          "ternary": {
           "aaxis": {
            "gridcolor": "white",
            "linecolor": "white",
            "ticks": ""
           },
           "baxis": {
            "gridcolor": "white",
            "linecolor": "white",
            "ticks": ""
           },
           "bgcolor": "#E5ECF6",
           "caxis": {
            "gridcolor": "white",
            "linecolor": "white",
            "ticks": ""
           }
          },
          "title": {
           "x": 0.05
          },
          "xaxis": {
           "automargin": true,
           "gridcolor": "white",
           "linecolor": "white",
           "ticks": "",
           "title": {
            "standoff": 15
           },
           "zerolinecolor": "white",
           "zerolinewidth": 2
          },
          "yaxis": {
           "automargin": true,
           "gridcolor": "white",
           "linecolor": "white",
           "ticks": "",
           "title": {
            "standoff": 15
           },
           "zerolinecolor": "white",
           "zerolinewidth": 2
          }
         }
        },
        "title": {
         "text": "Top 30 trigrams in the question text"
        }
       }
      },
      "text/html": [
       "<div>\n",
       "        \n",
       "        \n",
       "            <div id=\"39783ec5-b290-4db4-b8f1-53753476e1c1\" class=\"plotly-graph-div\" style=\"height:525px; width:100%;\"></div>\n",
       "            <script type=\"text/javascript\">\n",
       "                require([\"plotly\"], function(Plotly) {\n",
       "                    window.PLOTLYENV=window.PLOTLYENV || {};\n",
       "                    \n",
       "                if (document.getElementById(\"39783ec5-b290-4db4-b8f1-53753476e1c1\")) {\n",
       "                    Plotly.newPlot(\n",
       "                        '39783ec5-b290-4db4-b8f1-53753476e1c1',\n",
       "                        [{\"type\": \"bar\", \"x\": [\"oh oh oh\", \"la la la\", \"yeah yeah yeah\", \"na na na\", \"ah ah ah\", \"ooh ooh ooh\", \"da da da\", \"love love love\", \"dont know dont\", \"beep beep beep\", \"know dont know\", \"hey hey hey\", \"ba ba ba\", \"know know know\", \"come come come\", \"doo doo doo\", \"dont dont dont\", \"want want want\", \"run run run\", \"want dont want\", \"got got got\", \"try try try\", \"dont know im\", \"dont want dont\", \"hoo hoo hoo\", \"bad bad bad\", \"time time time\", \"boogie boogie boogie\", \"help help help\", \"ride ride ride\"], \"y\": [1242, 1000, 714, 554, 344, 339, 300, 278, 210, 208, 201, 194, 192, 180, 158, 140, 131, 125, 120, 113, 112, 101, 100, 99, 93, 92, 86, 86, 84, 83]}],\n",
       "                        {\"template\": {\"data\": {\"bar\": [{\"error_x\": {\"color\": \"#2a3f5f\"}, \"error_y\": {\"color\": \"#2a3f5f\"}, \"marker\": {\"line\": {\"color\": \"#E5ECF6\", \"width\": 0.5}}, \"type\": \"bar\"}], \"barpolar\": [{\"marker\": {\"line\": {\"color\": \"#E5ECF6\", \"width\": 0.5}}, \"type\": \"barpolar\"}], \"carpet\": [{\"aaxis\": {\"endlinecolor\": \"#2a3f5f\", \"gridcolor\": \"white\", \"linecolor\": \"white\", \"minorgridcolor\": \"white\", \"startlinecolor\": \"#2a3f5f\"}, \"baxis\": {\"endlinecolor\": \"#2a3f5f\", \"gridcolor\": \"white\", \"linecolor\": \"white\", \"minorgridcolor\": \"white\", \"startlinecolor\": \"#2a3f5f\"}, \"type\": \"carpet\"}], \"choropleth\": [{\"colorbar\": {\"outlinewidth\": 0, \"ticks\": \"\"}, \"type\": \"choropleth\"}], \"contour\": [{\"colorbar\": {\"outlinewidth\": 0, \"ticks\": \"\"}, \"colorscale\": [[0.0, \"#0d0887\"], [0.1111111111111111, \"#46039f\"], [0.2222222222222222, \"#7201a8\"], [0.3333333333333333, \"#9c179e\"], [0.4444444444444444, \"#bd3786\"], [0.5555555555555556, \"#d8576b\"], [0.6666666666666666, \"#ed7953\"], [0.7777777777777778, \"#fb9f3a\"], [0.8888888888888888, \"#fdca26\"], [1.0, \"#f0f921\"]], \"type\": \"contour\"}], \"contourcarpet\": [{\"colorbar\": {\"outlinewidth\": 0, \"ticks\": \"\"}, \"type\": \"contourcarpet\"}], \"heatmap\": [{\"colorbar\": {\"outlinewidth\": 0, \"ticks\": \"\"}, \"colorscale\": [[0.0, \"#0d0887\"], [0.1111111111111111, \"#46039f\"], [0.2222222222222222, \"#7201a8\"], [0.3333333333333333, \"#9c179e\"], [0.4444444444444444, \"#bd3786\"], [0.5555555555555556, \"#d8576b\"], [0.6666666666666666, \"#ed7953\"], [0.7777777777777778, \"#fb9f3a\"], [0.8888888888888888, \"#fdca26\"], [1.0, \"#f0f921\"]], \"type\": \"heatmap\"}], \"heatmapgl\": [{\"colorbar\": {\"outlinewidth\": 0, \"ticks\": \"\"}, \"colorscale\": [[0.0, \"#0d0887\"], [0.1111111111111111, \"#46039f\"], [0.2222222222222222, \"#7201a8\"], [0.3333333333333333, \"#9c179e\"], [0.4444444444444444, \"#bd3786\"], [0.5555555555555556, \"#d8576b\"], [0.6666666666666666, \"#ed7953\"], [0.7777777777777778, \"#fb9f3a\"], [0.8888888888888888, \"#fdca26\"], [1.0, \"#f0f921\"]], \"type\": \"heatmapgl\"}], \"histogram\": [{\"marker\": {\"colorbar\": {\"outlinewidth\": 0, \"ticks\": \"\"}}, \"type\": \"histogram\"}], \"histogram2d\": [{\"colorbar\": {\"outlinewidth\": 0, \"ticks\": \"\"}, \"colorscale\": [[0.0, \"#0d0887\"], [0.1111111111111111, \"#46039f\"], [0.2222222222222222, \"#7201a8\"], [0.3333333333333333, \"#9c179e\"], [0.4444444444444444, \"#bd3786\"], [0.5555555555555556, \"#d8576b\"], [0.6666666666666666, \"#ed7953\"], [0.7777777777777778, \"#fb9f3a\"], [0.8888888888888888, \"#fdca26\"], [1.0, \"#f0f921\"]], \"type\": \"histogram2d\"}], \"histogram2dcontour\": [{\"colorbar\": {\"outlinewidth\": 0, \"ticks\": \"\"}, \"colorscale\": [[0.0, \"#0d0887\"], [0.1111111111111111, \"#46039f\"], [0.2222222222222222, \"#7201a8\"], [0.3333333333333333, \"#9c179e\"], [0.4444444444444444, \"#bd3786\"], [0.5555555555555556, \"#d8576b\"], [0.6666666666666666, \"#ed7953\"], [0.7777777777777778, \"#fb9f3a\"], [0.8888888888888888, \"#fdca26\"], [1.0, \"#f0f921\"]], \"type\": \"histogram2dcontour\"}], \"mesh3d\": [{\"colorbar\": {\"outlinewidth\": 0, \"ticks\": \"\"}, \"type\": \"mesh3d\"}], \"parcoords\": [{\"line\": {\"colorbar\": {\"outlinewidth\": 0, \"ticks\": \"\"}}, \"type\": \"parcoords\"}], \"pie\": [{\"automargin\": true, \"type\": \"pie\"}], \"scatter\": [{\"marker\": {\"colorbar\": {\"outlinewidth\": 0, \"ticks\": \"\"}}, \"type\": \"scatter\"}], \"scatter3d\": [{\"line\": {\"colorbar\": {\"outlinewidth\": 0, \"ticks\": \"\"}}, \"marker\": {\"colorbar\": {\"outlinewidth\": 0, \"ticks\": \"\"}}, \"type\": \"scatter3d\"}], \"scattercarpet\": [{\"marker\": {\"colorbar\": {\"outlinewidth\": 0, \"ticks\": \"\"}}, \"type\": \"scattercarpet\"}], \"scattergeo\": [{\"marker\": {\"colorbar\": {\"outlinewidth\": 0, \"ticks\": \"\"}}, \"type\": \"scattergeo\"}], \"scattergl\": [{\"marker\": {\"colorbar\": {\"outlinewidth\": 0, \"ticks\": \"\"}}, \"type\": \"scattergl\"}], \"scattermapbox\": [{\"marker\": {\"colorbar\": {\"outlinewidth\": 0, \"ticks\": \"\"}}, \"type\": \"scattermapbox\"}], \"scatterpolar\": [{\"marker\": {\"colorbar\": {\"outlinewidth\": 0, \"ticks\": \"\"}}, \"type\": \"scatterpolar\"}], \"scatterpolargl\": [{\"marker\": {\"colorbar\": {\"outlinewidth\": 0, \"ticks\": \"\"}}, \"type\": \"scatterpolargl\"}], \"scatterternary\": [{\"marker\": {\"colorbar\": {\"outlinewidth\": 0, \"ticks\": \"\"}}, \"type\": \"scatterternary\"}], \"surface\": [{\"colorbar\": {\"outlinewidth\": 0, \"ticks\": \"\"}, \"colorscale\": [[0.0, \"#0d0887\"], [0.1111111111111111, \"#46039f\"], [0.2222222222222222, \"#7201a8\"], [0.3333333333333333, \"#9c179e\"], [0.4444444444444444, \"#bd3786\"], [0.5555555555555556, \"#d8576b\"], [0.6666666666666666, \"#ed7953\"], [0.7777777777777778, \"#fb9f3a\"], [0.8888888888888888, \"#fdca26\"], [1.0, \"#f0f921\"]], \"type\": \"surface\"}], \"table\": [{\"cells\": {\"fill\": {\"color\": \"#EBF0F8\"}, \"line\": {\"color\": \"white\"}}, \"header\": {\"fill\": {\"color\": \"#C8D4E3\"}, \"line\": {\"color\": \"white\"}}, \"type\": \"table\"}]}, \"layout\": {\"annotationdefaults\": {\"arrowcolor\": \"#2a3f5f\", \"arrowhead\": 0, \"arrowwidth\": 1}, \"coloraxis\": {\"colorbar\": {\"outlinewidth\": 0, \"ticks\": \"\"}}, \"colorscale\": {\"diverging\": [[0, \"#8e0152\"], [0.1, \"#c51b7d\"], [0.2, \"#de77ae\"], [0.3, \"#f1b6da\"], [0.4, \"#fde0ef\"], [0.5, \"#f7f7f7\"], [0.6, \"#e6f5d0\"], [0.7, \"#b8e186\"], [0.8, \"#7fbc41\"], [0.9, \"#4d9221\"], [1, \"#276419\"]], \"sequential\": [[0.0, \"#0d0887\"], [0.1111111111111111, \"#46039f\"], [0.2222222222222222, \"#7201a8\"], [0.3333333333333333, \"#9c179e\"], [0.4444444444444444, \"#bd3786\"], [0.5555555555555556, \"#d8576b\"], [0.6666666666666666, \"#ed7953\"], [0.7777777777777778, \"#fb9f3a\"], [0.8888888888888888, \"#fdca26\"], [1.0, \"#f0f921\"]], \"sequentialminus\": [[0.0, \"#0d0887\"], [0.1111111111111111, \"#46039f\"], [0.2222222222222222, \"#7201a8\"], [0.3333333333333333, \"#9c179e\"], [0.4444444444444444, \"#bd3786\"], [0.5555555555555556, \"#d8576b\"], [0.6666666666666666, \"#ed7953\"], [0.7777777777777778, \"#fb9f3a\"], [0.8888888888888888, \"#fdca26\"], [1.0, \"#f0f921\"]]}, \"colorway\": [\"#636efa\", \"#EF553B\", \"#00cc96\", \"#ab63fa\", \"#FFA15A\", \"#19d3f3\", \"#FF6692\", \"#B6E880\", \"#FF97FF\", \"#FECB52\"], \"font\": {\"color\": \"#2a3f5f\"}, \"geo\": {\"bgcolor\": \"white\", \"lakecolor\": \"white\", \"landcolor\": \"#E5ECF6\", \"showlakes\": true, \"showland\": true, \"subunitcolor\": \"white\"}, \"hoverlabel\": {\"align\": \"left\"}, \"hovermode\": \"closest\", \"mapbox\": {\"style\": \"light\"}, \"paper_bgcolor\": \"white\", \"plot_bgcolor\": \"#E5ECF6\", \"polar\": {\"angularaxis\": {\"gridcolor\": \"white\", \"linecolor\": \"white\", \"ticks\": \"\"}, \"bgcolor\": \"#E5ECF6\", \"radialaxis\": {\"gridcolor\": \"white\", \"linecolor\": \"white\", \"ticks\": \"\"}}, \"scene\": {\"xaxis\": {\"backgroundcolor\": \"#E5ECF6\", \"gridcolor\": \"white\", \"gridwidth\": 2, \"linecolor\": \"white\", \"showbackground\": true, \"ticks\": \"\", \"zerolinecolor\": \"white\"}, \"yaxis\": {\"backgroundcolor\": \"#E5ECF6\", \"gridcolor\": \"white\", \"gridwidth\": 2, \"linecolor\": \"white\", \"showbackground\": true, \"ticks\": \"\", \"zerolinecolor\": \"white\"}, \"zaxis\": {\"backgroundcolor\": \"#E5ECF6\", \"gridcolor\": \"white\", \"gridwidth\": 2, \"linecolor\": \"white\", \"showbackground\": true, \"ticks\": \"\", \"zerolinecolor\": \"white\"}}, \"shapedefaults\": {\"line\": {\"color\": \"#2a3f5f\"}}, \"ternary\": {\"aaxis\": {\"gridcolor\": \"white\", \"linecolor\": \"white\", \"ticks\": \"\"}, \"baxis\": {\"gridcolor\": \"white\", \"linecolor\": \"white\", \"ticks\": \"\"}, \"bgcolor\": \"#E5ECF6\", \"caxis\": {\"gridcolor\": \"white\", \"linecolor\": \"white\", \"ticks\": \"\"}}, \"title\": {\"x\": 0.05}, \"xaxis\": {\"automargin\": true, \"gridcolor\": \"white\", \"linecolor\": \"white\", \"ticks\": \"\", \"title\": {\"standoff\": 15}, \"zerolinecolor\": \"white\", \"zerolinewidth\": 2}, \"yaxis\": {\"automargin\": true, \"gridcolor\": \"white\", \"linecolor\": \"white\", \"ticks\": \"\", \"title\": {\"standoff\": 15}, \"zerolinecolor\": \"white\", \"zerolinewidth\": 2}}}, \"title\": {\"text\": \"Top 30 trigrams in the question text\"}},\n",
       "                        {\"responsive\": true}\n",
       "                    ).then(function(){\n",
       "                            \n",
       "var gd = document.getElementById('39783ec5-b290-4db4-b8f1-53753476e1c1');\n",
       "var x = new MutationObserver(function (mutations, observer) {{\n",
       "        var display = window.getComputedStyle(gd).display;\n",
       "        if (!display || display === 'none') {{\n",
       "            console.log([gd, 'removed!']);\n",
       "            Plotly.purge(gd);\n",
       "            observer.disconnect();\n",
       "        }}\n",
       "}});\n",
       "\n",
       "// Listen for the removal of the full notebook cells\n",
       "var notebookContainer = gd.closest('#notebook-container');\n",
       "if (notebookContainer) {{\n",
       "    x.observe(notebookContainer, {childList: true});\n",
       "}}\n",
       "\n",
       "// Listen for the clearing of the current output cell\n",
       "var outputEl = gd.closest('.output');\n",
       "if (outputEl) {{\n",
       "    x.observe(outputEl, {childList: true});\n",
       "}}\n",
       "\n",
       "                        })\n",
       "                };\n",
       "                });\n",
       "            </script>\n",
       "        </div>"
      ]
     },
     "metadata": {},
     "output_type": "display_data"
    }
   ],
   "source": [
    "def get_top_n_trigram(corpus, n=None):\n",
    "    vec = CountVectorizer(ngram_range=(3, 3), stop_words='english').fit(corpus)\n",
    "    bag_of_words = vec.transform(corpus)\n",
    "    sum_words = bag_of_words.sum(axis=0) \n",
    "    words_freq = [(word, sum_words[0, idx]) for word, idx in vec.vocabulary_.items()]\n",
    "    words_freq =sorted(words_freq, key = lambda x: x[1], reverse=True)\n",
    "    return words_freq[:n]\n",
    "common_words = get_top_n_trigram(songlyrics['cleaned_lyrics'], 30)\n",
    "df4 = pd.DataFrame(common_words, columns = ['trigram' , 'count'])\n",
    "\n",
    "fig = go.Figure([go.Bar(x=df4['trigram'], y=df4['count'])])\n",
    "fig.update_layout(title=go.layout.Title(text=\"Top 30 trigrams in the question text\"))\n",
    "fig.show()"
   ]
  },
  {
   "cell_type": "markdown",
   "metadata": {},
   "source": [
    "Change the lyrics lists into vectors"
   ]
  },
  {
   "cell_type": "code",
   "execution_count": 83,
   "metadata": {},
   "outputs": [],
   "source": [
    "#load files at a later date\n",
    "songlyrics = pd.read_csv('song_lyrics_cleaned.csv',index_col='song_id')\n",
    "sparse=scipy.sparse.load_npz('sparse_lyrics.npz')"
   ]
  },
  {
   "cell_type": "code",
   "execution_count": 110,
   "metadata": {},
   "outputs": [
    {
     "name": "stderr",
     "output_type": "stream",
     "text": [
      "C:\\Users\\16142\\Anaconda3\\lib\\site-packages\\pyLDAvis\\_prepare.py:257: FutureWarning:\n",
      "\n",
      "Sorting because non-concatenation axis is not aligned. A future version\n",
      "of pandas will change to not sort by default.\n",
      "\n",
      "To accept the future behavior, pass 'sort=False'.\n",
      "\n",
      "To retain the current behavior and silence the warning, pass 'sort=True'.\n",
      "\n",
      "\n"
     ]
    },
    {
     "data": {
      "text/html": [
       "\n",
       "<link rel=\"stylesheet\" type=\"text/css\" href=\"https://cdn.rawgit.com/bmabey/pyLDAvis/files/ldavis.v1.0.0.css\">\n",
       "\n",
       "\n",
       "<div id=\"ldavis_el1609627849667034084635695638\"></div>\n",
       "<script type=\"text/javascript\">\n",
       "\n",
       "var ldavis_el1609627849667034084635695638_data = {\"mdsDat\": {\"x\": [0.3532601943032524, 0.2540420468000749, 0.15246332164223453, 0.1436129695946911, 0.07148920343552112, 0.023260647007504267, 0.04361069681542068, 0.01956345948165279, -0.011569987352179815, -0.027639356977975288, -0.05583819853745778, -0.06099485917874241, -0.07495974036820169, -0.07170638607145269, -0.11492250483313826, -0.12124152024582738, -0.12266449715969019, -0.13541217654003196, -0.13342031063945345, -0.13093300117619971], \"y\": [-0.015836751275658492, -0.10233205984216771, -0.11554598044014176, 0.016838817356425242, 0.0008695850378667926, 0.15329091736759726, 0.30738530659763674, -0.119166945354198, 0.17410237366929118, -0.0041002570775036315, 0.01132545506527471, -0.06178377130477967, -0.02247554696061982, 0.008742924358471427, -0.0034779841964440133, -0.046075952690574885, -0.03706663422786678, -0.04570739887014528, -0.04504623671413088, -0.05393986049833225], \"topics\": [1, 2, 3, 4, 5, 6, 7, 8, 9, 10, 11, 12, 13, 14, 15, 16, 17, 18, 19, 20], \"cluster\": [1, 1, 1, 1, 1, 1, 1, 1, 1, 1, 1, 1, 1, 1, 1, 1, 1, 1, 1, 1], \"Freq\": [67.84902345126949, 4.924371546336042, 3.358742135890784, 2.7034578823038555, 2.245252477436, 2.194923363254094, 1.9121553387977548, 1.82999858138038, 1.6816534079216812, 1.4691833542689423, 1.4008904549859276, 1.358218810273611, 1.2572867042924138, 1.181743879416506, 0.9919827300357542, 0.8104049783572315, 0.7551468998193147, 0.705054633410958, 0.6972252086315609, 0.673284161917697]}, \"tinfo\": {\"Category\": [\"Default\", \"Default\", \"Default\", \"Default\", \"Default\", \"Default\", \"Default\", \"Default\", \"Default\", \"Default\", \"Default\", \"Default\", \"Default\", \"Default\", \"Default\", \"Default\", \"Default\", \"Default\", \"Default\", \"Default\", \"Default\", \"Default\", \"Default\", \"Default\", \"Default\", \"Default\", \"Default\", \"Default\", \"Default\", \"Default\", \"Topic1\", \"Topic1\", \"Topic1\", \"Topic1\", \"Topic1\", \"Topic1\", \"Topic1\", \"Topic1\", \"Topic1\", \"Topic1\", \"Topic1\", \"Topic1\", \"Topic1\", \"Topic1\", \"Topic1\", \"Topic1\", \"Topic1\", \"Topic1\", \"Topic1\", \"Topic1\", \"Topic1\", \"Topic1\", \"Topic1\", \"Topic1\", \"Topic1\", \"Topic1\", \"Topic1\", \"Topic1\", \"Topic1\", \"Topic1\", \"Topic1\", \"Topic1\", \"Topic1\", \"Topic1\", \"Topic1\", \"Topic1\", \"Topic1\", \"Topic1\", \"Topic1\", \"Topic1\", \"Topic1\", \"Topic1\", \"Topic1\", \"Topic1\", \"Topic1\", \"Topic1\", \"Topic1\", \"Topic1\", \"Topic1\", \"Topic1\", \"Topic1\", \"Topic1\", \"Topic1\", \"Topic1\", \"Topic1\", \"Topic1\", \"Topic2\", \"Topic2\", \"Topic2\", \"Topic2\", \"Topic2\", \"Topic2\", \"Topic2\", \"Topic2\", \"Topic2\", \"Topic2\", \"Topic2\", \"Topic2\", \"Topic2\", \"Topic2\", \"Topic2\", \"Topic2\", \"Topic2\", \"Topic2\", \"Topic2\", \"Topic2\", \"Topic2\", \"Topic2\", \"Topic2\", \"Topic2\", \"Topic2\", \"Topic2\", \"Topic2\", \"Topic2\", \"Topic2\", \"Topic2\", \"Topic2\", \"Topic2\", \"Topic2\", \"Topic2\", \"Topic2\", \"Topic2\", \"Topic2\", \"Topic2\", \"Topic2\", \"Topic2\", \"Topic2\", \"Topic2\", \"Topic2\", \"Topic2\", \"Topic2\", \"Topic2\", \"Topic2\", \"Topic2\", \"Topic2\", \"Topic2\", \"Topic2\", \"Topic2\", \"Topic2\", \"Topic2\", \"Topic2\", \"Topic2\", \"Topic2\", \"Topic2\", \"Topic2\", \"Topic2\", \"Topic2\", \"Topic2\", \"Topic2\", \"Topic2\", \"Topic2\", \"Topic2\", \"Topic2\", \"Topic2\", \"Topic2\", \"Topic3\", \"Topic3\", \"Topic3\", \"Topic3\", \"Topic3\", \"Topic3\", \"Topic3\", \"Topic3\", \"Topic3\", \"Topic3\", \"Topic3\", \"Topic3\", \"Topic3\", \"Topic3\", \"Topic3\", \"Topic3\", \"Topic3\", \"Topic3\", \"Topic3\", \"Topic3\", \"Topic3\", \"Topic3\", \"Topic3\", \"Topic3\", \"Topic3\", \"Topic3\", \"Topic3\", \"Topic3\", \"Topic3\", \"Topic3\", \"Topic3\", \"Topic3\", \"Topic3\", \"Topic3\", \"Topic3\", \"Topic3\", \"Topic3\", \"Topic3\", \"Topic3\", \"Topic3\", \"Topic3\", \"Topic3\", \"Topic3\", \"Topic3\", \"Topic3\", \"Topic3\", \"Topic3\", \"Topic3\", \"Topic3\", \"Topic3\", \"Topic3\", \"Topic3\", \"Topic3\", \"Topic3\", \"Topic4\", \"Topic4\", \"Topic4\", \"Topic4\", \"Topic4\", \"Topic4\", \"Topic4\", \"Topic4\", \"Topic4\", \"Topic4\", \"Topic4\", \"Topic4\", \"Topic4\", \"Topic4\", \"Topic4\", \"Topic4\", \"Topic4\", \"Topic4\", \"Topic4\", \"Topic4\", \"Topic4\", \"Topic4\", \"Topic4\", \"Topic4\", \"Topic4\", \"Topic4\", \"Topic4\", \"Topic4\", \"Topic4\", \"Topic4\", \"Topic4\", \"Topic4\", \"Topic4\", \"Topic4\", \"Topic4\", \"Topic4\", \"Topic4\", \"Topic4\", \"Topic4\", \"Topic4\", \"Topic4\", \"Topic4\", \"Topic4\", \"Topic4\", \"Topic4\", \"Topic4\", \"Topic4\", \"Topic4\", \"Topic4\", \"Topic4\", \"Topic4\", \"Topic4\", \"Topic4\", \"Topic4\", \"Topic4\", \"Topic4\", \"Topic4\", \"Topic4\", \"Topic5\", \"Topic5\", \"Topic5\", \"Topic5\", \"Topic5\", \"Topic5\", \"Topic5\", \"Topic5\", \"Topic5\", \"Topic5\", \"Topic5\", \"Topic5\", \"Topic5\", \"Topic5\", \"Topic5\", \"Topic5\", \"Topic5\", \"Topic5\", \"Topic5\", \"Topic5\", \"Topic5\", \"Topic5\", \"Topic5\", \"Topic5\", \"Topic5\", \"Topic5\", \"Topic5\", \"Topic5\", \"Topic5\", \"Topic5\", \"Topic5\", \"Topic5\", \"Topic5\", \"Topic5\", \"Topic5\", \"Topic5\", \"Topic5\", \"Topic5\", \"Topic5\", \"Topic5\", \"Topic5\", \"Topic5\", \"Topic5\", \"Topic5\", \"Topic5\", \"Topic5\", \"Topic5\", \"Topic5\", \"Topic5\", \"Topic5\", \"Topic5\", \"Topic6\", \"Topic6\", \"Topic6\", \"Topic6\", \"Topic6\", \"Topic6\", \"Topic6\", \"Topic6\", \"Topic6\", \"Topic6\", \"Topic6\", \"Topic6\", \"Topic6\", \"Topic6\", \"Topic6\", \"Topic6\", \"Topic6\", \"Topic6\", \"Topic6\", \"Topic6\", \"Topic6\", \"Topic6\", \"Topic6\", \"Topic6\", \"Topic6\", \"Topic6\", \"Topic6\", \"Topic6\", \"Topic6\", \"Topic6\", \"Topic6\", \"Topic6\", \"Topic6\", \"Topic6\", \"Topic6\", \"Topic6\", \"Topic6\", \"Topic6\", \"Topic6\", \"Topic6\", \"Topic6\", \"Topic6\", \"Topic6\", \"Topic6\", \"Topic6\", \"Topic6\", \"Topic6\", \"Topic6\", \"Topic6\", \"Topic6\", \"Topic6\", \"Topic6\", \"Topic6\", \"Topic7\", \"Topic7\", \"Topic7\", \"Topic7\", \"Topic7\", \"Topic7\", \"Topic7\", \"Topic7\", \"Topic7\", \"Topic7\", \"Topic7\", \"Topic7\", \"Topic7\", \"Topic7\", \"Topic7\", \"Topic7\", \"Topic7\", \"Topic7\", \"Topic7\", \"Topic7\", \"Topic7\", \"Topic7\", \"Topic7\", \"Topic7\", \"Topic7\", \"Topic7\", \"Topic7\", \"Topic7\", \"Topic7\", \"Topic7\", \"Topic7\", \"Topic7\", \"Topic7\", \"Topic7\", \"Topic7\", \"Topic7\", \"Topic7\", \"Topic7\", \"Topic7\", \"Topic7\", \"Topic7\", \"Topic7\", \"Topic7\", \"Topic7\", \"Topic7\", \"Topic7\", \"Topic7\", \"Topic7\", \"Topic7\", \"Topic7\", \"Topic7\", \"Topic7\", \"Topic7\", \"Topic8\", \"Topic8\", \"Topic8\", \"Topic8\", \"Topic8\", \"Topic8\", \"Topic8\", \"Topic8\", \"Topic8\", \"Topic8\", \"Topic8\", \"Topic8\", \"Topic8\", \"Topic8\", \"Topic8\", \"Topic8\", \"Topic8\", \"Topic8\", \"Topic8\", \"Topic8\", \"Topic8\", \"Topic8\", \"Topic8\", \"Topic8\", \"Topic8\", \"Topic8\", \"Topic8\", \"Topic8\", \"Topic8\", \"Topic8\", \"Topic8\", \"Topic8\", \"Topic8\", \"Topic8\", \"Topic8\", \"Topic8\", \"Topic8\", \"Topic8\", \"Topic8\", \"Topic8\", \"Topic8\", \"Topic8\", \"Topic8\", \"Topic8\", \"Topic8\", \"Topic8\", \"Topic9\", \"Topic9\", \"Topic9\", \"Topic9\", \"Topic9\", \"Topic9\", \"Topic9\", \"Topic9\", \"Topic9\", \"Topic9\", \"Topic9\", \"Topic9\", \"Topic9\", \"Topic9\", \"Topic9\", \"Topic9\", \"Topic9\", \"Topic9\", \"Topic9\", \"Topic9\", \"Topic9\", \"Topic9\", \"Topic9\", \"Topic9\", \"Topic9\", \"Topic9\", \"Topic9\", \"Topic9\", \"Topic9\", \"Topic9\", \"Topic9\", \"Topic9\", \"Topic9\", \"Topic9\", \"Topic9\", \"Topic9\", \"Topic9\", \"Topic9\", \"Topic9\", \"Topic9\", \"Topic9\", \"Topic9\", \"Topic9\", \"Topic9\", \"Topic9\", \"Topic9\", \"Topic10\", \"Topic10\", \"Topic10\", \"Topic10\", \"Topic10\", \"Topic10\", \"Topic10\", \"Topic10\", \"Topic10\", \"Topic10\", \"Topic10\", \"Topic10\", \"Topic10\", \"Topic10\", \"Topic10\", \"Topic10\", \"Topic10\", \"Topic10\", \"Topic10\", \"Topic10\", \"Topic10\", \"Topic10\", \"Topic10\", \"Topic10\", \"Topic10\", \"Topic10\", \"Topic10\", \"Topic10\", \"Topic10\", \"Topic10\", \"Topic10\", \"Topic10\", \"Topic10\", \"Topic10\", \"Topic10\", \"Topic10\", \"Topic10\", \"Topic10\", \"Topic10\", \"Topic10\", \"Topic10\", \"Topic10\", \"Topic10\", \"Topic10\", \"Topic10\", \"Topic10\", \"Topic10\", \"Topic11\", \"Topic11\", \"Topic11\", \"Topic11\", \"Topic11\", \"Topic11\", \"Topic11\", \"Topic11\", \"Topic11\", \"Topic11\", \"Topic11\", \"Topic11\", \"Topic11\", \"Topic11\", \"Topic11\", \"Topic11\", \"Topic11\", \"Topic11\", \"Topic11\", \"Topic11\", \"Topic11\", \"Topic11\", \"Topic11\", \"Topic11\", \"Topic11\", \"Topic11\", \"Topic11\", \"Topic11\", \"Topic11\", \"Topic11\", \"Topic11\", \"Topic11\", \"Topic11\", \"Topic11\", \"Topic11\", \"Topic11\", \"Topic11\", \"Topic11\", \"Topic11\", \"Topic11\", \"Topic11\", \"Topic11\", \"Topic11\", \"Topic11\", \"Topic11\", \"Topic11\", \"Topic11\", \"Topic12\", \"Topic12\", \"Topic12\", \"Topic12\", \"Topic12\", \"Topic12\", \"Topic12\", \"Topic12\", \"Topic12\", \"Topic12\", \"Topic12\", \"Topic12\", \"Topic12\", \"Topic12\", \"Topic12\", \"Topic12\", \"Topic12\", \"Topic12\", \"Topic12\", \"Topic12\", \"Topic12\", \"Topic12\", \"Topic12\", \"Topic12\", \"Topic12\", \"Topic12\", \"Topic12\", \"Topic12\", \"Topic12\", \"Topic12\", \"Topic12\", \"Topic12\", \"Topic12\", \"Topic12\", \"Topic12\", \"Topic12\", \"Topic12\", \"Topic12\", \"Topic12\", \"Topic12\", \"Topic12\", \"Topic12\", \"Topic13\", \"Topic13\", \"Topic13\", \"Topic13\", \"Topic13\", \"Topic13\", \"Topic13\", \"Topic13\", \"Topic13\", \"Topic13\", \"Topic13\", \"Topic13\", \"Topic13\", \"Topic13\", \"Topic13\", \"Topic13\", \"Topic13\", \"Topic13\", \"Topic13\", \"Topic13\", \"Topic13\", \"Topic13\", \"Topic13\", \"Topic13\", \"Topic13\", \"Topic13\", \"Topic13\", \"Topic13\", \"Topic13\", \"Topic13\", \"Topic13\", \"Topic13\", \"Topic13\", \"Topic13\", \"Topic13\", \"Topic13\", \"Topic13\", \"Topic13\", \"Topic13\", \"Topic13\", \"Topic13\", \"Topic13\", \"Topic13\", \"Topic14\", \"Topic14\", \"Topic14\", \"Topic14\", \"Topic14\", \"Topic14\", \"Topic14\", \"Topic14\", \"Topic14\", \"Topic14\", \"Topic14\", \"Topic14\", \"Topic14\", \"Topic14\", \"Topic14\", \"Topic14\", \"Topic14\", \"Topic14\", \"Topic14\", \"Topic14\", \"Topic14\", \"Topic14\", \"Topic14\", \"Topic14\", \"Topic14\", \"Topic14\", \"Topic14\", \"Topic14\", \"Topic14\", \"Topic14\", \"Topic14\", \"Topic14\", \"Topic14\", \"Topic14\", \"Topic14\", \"Topic14\", \"Topic14\", \"Topic14\", \"Topic14\", \"Topic14\", \"Topic14\", \"Topic14\", \"Topic14\", \"Topic14\", \"Topic14\", \"Topic14\", \"Topic14\", \"Topic14\", \"Topic15\", \"Topic15\", \"Topic15\", \"Topic15\", \"Topic15\", \"Topic15\", \"Topic15\", \"Topic15\", \"Topic15\", \"Topic15\", \"Topic15\", \"Topic15\", \"Topic15\", \"Topic15\", \"Topic15\", \"Topic15\", \"Topic15\", \"Topic15\", \"Topic15\", \"Topic15\", \"Topic15\", \"Topic15\", \"Topic15\", \"Topic15\", \"Topic15\", \"Topic15\", \"Topic15\", \"Topic15\", \"Topic15\", \"Topic15\", \"Topic15\", \"Topic15\", \"Topic15\", \"Topic15\", \"Topic15\", \"Topic15\", \"Topic15\", \"Topic15\", \"Topic15\", \"Topic16\", \"Topic16\", \"Topic16\", \"Topic16\", \"Topic16\", \"Topic16\", \"Topic16\", \"Topic16\", \"Topic16\", \"Topic16\", \"Topic16\", \"Topic16\", \"Topic16\", \"Topic16\", \"Topic16\", \"Topic16\", \"Topic16\", \"Topic16\", \"Topic16\", \"Topic16\", \"Topic16\", \"Topic16\", \"Topic16\", \"Topic16\", \"Topic16\", \"Topic16\", \"Topic16\", \"Topic16\", \"Topic16\", \"Topic16\", \"Topic16\", \"Topic16\", \"Topic16\", \"Topic16\", \"Topic16\", \"Topic16\", \"Topic16\", \"Topic17\", \"Topic17\", \"Topic17\", \"Topic17\", \"Topic17\", \"Topic17\", \"Topic17\", \"Topic17\", \"Topic17\", \"Topic17\", \"Topic17\", \"Topic17\", \"Topic17\", \"Topic17\", \"Topic17\", \"Topic17\", \"Topic17\", \"Topic17\", \"Topic17\", \"Topic17\", \"Topic17\", \"Topic17\", \"Topic17\", \"Topic17\", \"Topic17\", \"Topic17\", \"Topic17\", \"Topic17\", \"Topic17\", \"Topic17\", \"Topic17\", \"Topic17\", \"Topic17\", \"Topic17\", \"Topic18\", \"Topic18\", \"Topic18\", \"Topic18\", \"Topic18\", \"Topic18\", \"Topic18\", \"Topic18\", \"Topic18\", \"Topic18\", \"Topic18\", \"Topic18\", \"Topic18\", \"Topic18\", \"Topic18\", \"Topic18\", \"Topic18\", \"Topic18\", \"Topic18\", \"Topic18\", \"Topic18\", \"Topic18\", \"Topic18\", \"Topic18\", \"Topic18\", \"Topic18\", \"Topic18\", \"Topic18\", \"Topic18\", \"Topic18\", \"Topic18\", \"Topic18\", \"Topic18\", \"Topic18\", \"Topic19\", \"Topic19\", \"Topic19\", \"Topic19\", \"Topic19\", \"Topic19\", \"Topic19\", \"Topic19\", \"Topic19\", \"Topic19\", \"Topic19\", \"Topic19\", \"Topic19\", \"Topic19\", \"Topic19\", \"Topic19\", \"Topic19\", \"Topic19\", \"Topic19\", \"Topic19\", \"Topic19\", \"Topic19\", \"Topic19\", \"Topic19\", \"Topic19\", \"Topic19\", \"Topic19\", \"Topic19\", \"Topic19\", \"Topic19\", \"Topic20\", \"Topic20\", \"Topic20\", \"Topic20\", \"Topic20\", \"Topic20\", \"Topic20\", \"Topic20\", \"Topic20\", \"Topic20\", \"Topic20\", \"Topic20\", \"Topic20\", \"Topic20\", \"Topic20\", \"Topic20\", \"Topic20\", \"Topic20\", \"Topic20\", \"Topic20\", \"Topic20\", \"Topic20\", \"Topic20\", \"Topic20\", \"Topic20\", \"Topic20\", \"Topic20\", \"Topic20\", \"Topic20\", \"Topic20\", \"Topic20\", \"Topic20\", \"Topic20\", \"Topic20\", \"Topic20\", \"Topic20\", \"Topic20\", \"Topic20\", \"Topic20\", \"Topic20\", \"Topic20\", \"Topic20\", \"Topic20\", \"Topic20\", \"Topic20\", \"Topic20\", \"Topic20\", \"Topic20\", \"Topic20\", \"Topic20\", \"Topic20\", \"Topic20\"], \"Freq\": [8044.0, 11323.0, 12050.0, 3133.0, 3004.0, 2521.0, 3933.0, 2078.0, 3146.0, 1595.0, 1693.0, 6417.0, 1332.0, 3249.0, 1348.0, 10759.0, 1246.0, 1434.0, 1202.0, 2023.0, 1404.0, 5900.0, 1581.0, 1018.0, 986.0, 1716.0, 1684.0, 1241.0, 1190.0, 1495.0, 6843.33392741382, 3624.9993697700784, 4372.052771326458, 3299.503644900165, 2302.0498799275697, 2542.551817202656, 2255.336651902146, 2246.5765800312893, 3965.9154724132873, 3004.8338374784407, 1924.0577950437757, 4335.747191600097, 1798.5229777688076, 1638.4039734869334, 1686.3980346225114, 2812.2629820797492, 1311.978273612909, 1300.6303930616975, 1285.2235484884686, 1297.4432741784135, 1263.0095669197967, 1192.5133241185351, 1350.9069422060627, 1079.3486065051789, 1499.2261461760052, 1010.6028177284037, 1009.3920614185237, 986.578570250072, 974.7609352556739, 999.2057827591749, 10700.766960947936, 6480.620283237556, 4570.186560137645, 4501.616499048796, 4504.744784021266, 3470.035278479431, 3802.3128307972934, 5842.868501717167, 2481.5243024670085, 2864.820288010376, 2752.434007059445, 1832.4950727804712, 1481.9896345935747, 6274.818895096828, 2093.694884736402, 4419.819700460289, 10646.083248423261, 3174.6877505413654, 11012.137038662835, 2914.6457081771964, 2959.9783184700714, 3081.4896291646583, 2977.5697124008466, 2913.091407417299, 2715.8474449134787, 2864.379336746048, 224.58160205266975, 187.35658389101647, 163.5187646251492, 137.3252037251154, 128.56662803715943, 118.80069362250947, 110.19209618857367, 107.90658229717985, 107.19408373793009, 83.54823461762166, 81.69915735649901, 79.6300202539814, 78.06640593148293, 76.85434601294176, 76.8069883207319, 73.91018370344958, 66.60848431376702, 66.21857166101832, 62.19884214470354, 58.15846884149515, 56.13980716849044, 55.03567815429402, 53.07968632949156, 51.01655175109321, 48.72172344822014, 58.405600111828484, 47.83591795372804, 47.352300161767346, 46.87339708257766, 45.73032646705142, 101.23362874841197, 76.66707164147415, 362.97513007898783, 82.56773884791895, 438.719482652541, 591.5318445978173, 408.1982094849883, 111.45115999108448, 278.40866417090473, 148.6417945247352, 919.6152513756664, 104.76183534869489, 278.2012066110567, 402.7541002862041, 337.1812293208349, 545.7263251658605, 484.7876380902449, 478.92095619634966, 117.04603786700952, 151.97531083848827, 1059.6553089851845, 257.7769610837445, 300.4394223539119, 231.68651625038436, 196.84972789024428, 347.18819212810314, 275.28478252870116, 191.24647725455074, 263.92864783974875, 208.2879682286588, 245.69982781230834, 267.04618675178233, 191.93383345595308, 226.70095420063325, 203.34449361230105, 215.3207013003221, 224.64967076304114, 204.43887414936287, 192.9937879669545, 316.9295402516291, 206.4251925437148, 151.57951052407608, 139.85235444767966, 136.2210026251063, 116.90323824060619, 111.02578128768344, 91.50959992143459, 84.04827369279168, 78.7646174896601, 77.00785925643622, 179.40709543196442, 73.99044395911508, 61.58422024632407, 60.593734167721855, 56.317823981054374, 56.149931345887246, 54.947570546283785, 53.523654732722946, 52.85023249438304, 52.63669313768885, 52.328848865315685, 147.26591634412765, 51.01760448401338, 50.01727349106588, 49.9721110051132, 48.520830523107335, 47.45086811948288, 45.32301282369553, 42.93359919290062, 114.77676133549197, 6195.206446582993, 79.0802962769, 100.60949193318595, 131.47531159990606, 510.1023396867339, 123.56693769206629, 126.61869160821516, 139.21770324649088, 510.7736842936213, 146.28464095854693, 321.30058451645965, 248.06552314798088, 169.840469068075, 233.7485320950389, 92.27618940870533, 162.4173366790608, 168.64915961645698, 134.30123695397964, 122.31533471035195, 117.3673096489644, 112.52267420111546, 148.39906016305522, 108.14976821118697, 343.2679439787683, 243.5804844848106, 181.0168634071805, 136.5904359302992, 134.92819614399, 134.12449598602288, 117.66245479130801, 111.43794115522692, 146.94100428033235, 79.50948976390471, 71.41232015528611, 146.1827921868085, 68.56497620823849, 62.247419184111166, 53.83891534011383, 53.60378926585054, 47.58558949370071, 45.979570908634116, 45.69279286323392, 44.242550435321014, 42.78996444758466, 41.82470201330832, 41.34844677991051, 40.64117443245334, 38.519963002548586, 37.07068249540886, 150.97178359971264, 34.52722418663574, 33.63567069467294, 32.43585956738834, 161.1011258362891, 133.72875426977285, 380.04123897670803, 132.54232164591195, 132.98722935374943, 174.71778102067805, 151.75451625073322, 146.02706964530873, 208.68587023567508, 145.4918245177243, 503.7578202820036, 284.38446081638364, 553.6172690796177, 227.4177783008791, 311.1830139961674, 444.14342629218226, 142.34945407965333, 126.64928618409951, 255.98492018552068, 556.7455156970167, 261.51370577207604, 234.21291042843222, 256.72841399586673, 151.01006067371983, 184.94653444990712, 153.23256997463446, 148.12297465682656, 144.8494509586983, 265.07196914499013, 203.2102688751001, 187.04121413537203, 179.72094491655156, 173.47490620277884, 155.5286849817412, 138.86639265040242, 131.55553409470008, 112.03117530153945, 107.183316837033, 94.93829289198109, 90.86074209109209, 84.98922620674189, 75.62938887916914, 89.53031607244127, 68.50882974550929, 68.38403672143524, 67.72981089637342, 63.5998681457567, 54.05837543585485, 53.16927495960234, 52.96776387231867, 47.690298685807065, 46.06694955619972, 43.973394650816125, 40.483034041667075, 39.46434221064714, 37.7623634498942, 37.647273372484335, 36.79254343736628, 173.58639330635262, 184.8694552427179, 192.67853129197638, 187.89588964860715, 156.9477680559398, 92.04405689305938, 116.41905852520614, 125.97406691743043, 240.47091747274885, 452.4914312162094, 302.6199975154738, 139.51894684405215, 258.9461320685878, 190.74041939911862, 81.34272637636359, 95.89345917270782, 148.4016578180452, 144.45637049446432, 114.83666478633106, 113.11957300597567, 104.91326471558502, 495.5537997192602, 261.7295588045728, 219.10259522194636, 189.39425469333352, 165.74374731841664, 162.67115742946055, 160.985237040673, 152.30245814503803, 130.10150648884084, 99.38946656820096, 97.77296155032114, 93.32147380041744, 82.36676017036427, 67.99723649746909, 67.97825050468512, 60.642567189442495, 56.693599528627075, 54.955644442467566, 49.26507245070599, 183.93997911363675, 47.827969198986935, 47.35031416475632, 46.43539055209558, 43.018615849948816, 42.12280314680804, 41.26707839463392, 39.819436383114635, 39.54585456378101, 39.330269268370934, 38.217842395992285, 182.20685049695157, 155.46141150514845, 143.97600100814415, 241.54018844365646, 63.443933531155935, 69.82871828356346, 154.37192156465684, 258.68004122955966, 221.07277462232452, 190.37787258223682, 370.6273208911681, 776.8375426507318, 121.1665446246301, 127.51598737392536, 133.50630622015078, 185.80794653900838, 89.08108577034169, 111.56127153497445, 127.36057617783139, 135.49899852776278, 129.03909610455986, 111.83468365939821, 104.02982594775088, 259.55670933552085, 141.82374361038924, 120.10088428717229, 119.27648982221575, 118.71577536398138, 118.35072104397125, 114.52982468050966, 112.87535607819386, 93.55161207934447, 90.59578046123376, 69.05896270225193, 68.90049853421061, 974.9085315169548, 59.70697780470342, 58.82486864093947, 48.35450910105767, 46.38981196463703, 117.47370398649481, 35.904035922793724, 35.73836754453382, 35.0620158025631, 35.03490995211224, 495.17029512375126, 33.35011356926943, 32.23502087681, 32.22080650217847, 29.456763037931662, 28.96703434807113, 27.38501488326073, 27.30508460724615, 352.18936073528135, 80.49818381751884, 144.92745600374164, 127.53914216665805, 118.13111763877897, 147.6432957805675, 98.2908252344662, 97.377926508239, 134.3062998100364, 324.5689949249407, 607.0166256766535, 296.23817658071596, 128.9820230694254, 120.46495541767369, 111.47197139239006, 158.46514440908365, 290.5187392291561, 210.27808196784764, 446.9818926552353, 152.84756300755598, 127.72566685815671, 126.58620070121795, 132.2591699286972, 1347.6397381194101, 504.3383837468452, 193.97897003042897, 192.33372447082536, 186.81846051508765, 2991.8462367112497, 166.99336778510363, 166.5729002326418, 163.42729957446403, 131.59460181866928, 83.69568945436359, 73.99611378746333, 62.921201433044935, 58.50780633173587, 57.8702823421855, 50.728520901185156, 43.72748332003617, 39.38739497792346, 37.45323455839595, 36.55648099641484, 34.27741245272117, 33.33911990795967, 29.613862853363965, 28.966477728461975, 27.44505555257342, 24.679220252968708, 24.16978726999583, 23.048770146334377, 22.311115495554976, 21.722807547606013, 385.36605269560386, 41.57219178804731, 172.7376131545819, 113.08607085376592, 280.0897800782236, 56.59863652704189, 360.7867285211875, 211.1471016976154, 673.9249433972325, 97.39300745908425, 203.92962795970516, 55.32423025301202, 54.204717933868956, 52.94606486494889, 56.775416327063276, 51.02716369503949, 393.19654980844933, 203.00699152071155, 201.51708248162547, 208.07165354851557, 164.46968954196575, 149.05977575281295, 135.21102847535582, 134.44403988843536, 133.85035018772905, 131.16424407655336, 134.5725244365805, 100.83327054569362, 98.17795205281013, 90.83941850164328, 80.6326687331055, 78.15015021588029, 86.06941808951424, 62.767670009880185, 60.60066430559949, 55.720070374951185, 160.06309562674528, 46.87281621511152, 43.417859056966556, 43.27318761643295, 38.70719911573532, 37.028364251216786, 35.09386410405003, 34.78407372507976, 34.20317987698804, 29.726945938143327, 174.62460035434478, 903.9599038873931, 140.78780993984867, 186.01506214773545, 169.1350177553147, 300.10282525149563, 209.34913239689084, 282.19908341038547, 87.39359865042849, 184.53494657372136, 192.56857106796926, 179.71437536207756, 131.18549992064428, 304.0025336648066, 111.15420580714809, 95.92507384178948, 219.59769412893615, 164.87299931608464, 157.53569222488363, 156.6834072503473, 151.68735249922005, 149.21638858288952, 148.70572654018622, 131.1158802138421, 116.53716099854931, 113.40448615909628, 91.91151245860712, 85.00505232161912, 79.4705331144599, 76.57864035780626, 76.93246081597495, 71.1580390510738, 61.614099326573154, 61.53311979364848, 50.37421836755993, 49.99171193605325, 48.021849320262255, 47.19671867537863, 42.817413297792605, 41.58755917993448, 38.86337678004508, 36.312614024983326, 36.151263941110805, 35.83735000142141, 149.48433801486505, 32.22082427588395, 105.22223033759803, 54.084768292555204, 139.92687309610943, 43.71636023285338, 69.1804187879775, 127.07246308898752, 232.95335365483174, 223.7518393888208, 87.95674902325207, 78.40129814294563, 202.50613007356802, 135.94577157342135, 98.47083585553688, 141.35531785760236, 97.66810987906436, 74.5110412536865, 71.70992591895683, 182.25459104543302, 178.05647137016942, 175.9360298685407, 155.0046854575608, 104.80132128105068, 76.8602606072681, 71.394575425576, 68.01849138838512, 61.67754269169274, 54.8016693786667, 170.1134660429177, 53.62617264746979, 48.387773485271694, 43.827904450145176, 41.35205330092261, 40.85666177502609, 36.75867636602789, 36.635355209252104, 36.494933366699655, 35.72041461630261, 28.86124506185933, 27.71737762754011, 27.232115614251835, 25.86021014917299, 25.779187438386646, 24.53127979548703, 24.48175605696169, 23.986125702660893, 24.114362428840195, 23.644716713116388, 111.24744485894188, 152.22710689152294, 694.2330632764463, 534.7538387757928, 157.70609638643572, 89.93234288971298, 303.96617634801134, 140.0599663869921, 143.8504337006282, 151.6293309524833, 84.2680855186227, 111.02141894725514, 73.72877940831066, 95.59343339950513, 54.09616955893176, 54.81933983820808, 47.154302762639155, 613.5630815924102, 242.26470298712553, 166.3005657808817, 119.38945344317041, 108.4953948721004, 97.3720750355326, 79.71568715459067, 66.15329248216416, 64.7328404414307, 60.37907229229023, 57.9278788751784, 56.92944341827623, 52.938633962775874, 47.78488108693465, 46.063944656011536, 45.768556165183895, 44.66577999508258, 43.14222860948481, 41.06351878104809, 40.71371769339946, 38.555188491036105, 178.67004481103558, 37.82794019290366, 37.35940422008718, 35.435757951581756, 34.58256382321816, 33.54499032507101, 32.08649620972717, 31.815726033862212, 31.567241474531677, 100.01758285765811, 503.05566809688054, 46.86555093058722, 67.44367031961959, 110.61085147340249, 269.247393030742, 68.95015129090315, 73.29423891197202, 51.0136858156042, 68.26815514581781, 78.92110837189146, 48.61762759267439, 1332.0379223302537, 3127.0479804976153, 168.82815919994445, 167.08314658281745, 165.06229317271192, 147.4271312556665, 75.977981131039, 73.50274556128419, 54.92808492640123, 51.398570480619554, 50.55778947406112, 45.69504846312644, 40.43577294200203, 39.35620351408407, 36.73825385763398, 36.11641619257409, 31.552975384512045, 31.00105955151319, 29.40290392412481, 27.305359237656134, 24.974569737828453, 24.93577202736125, 23.58891507135038, 23.266214199896712, 22.486010750549784, 21.363628729756144, 19.79085267596279, 19.400150753355398, 18.54126581733438, 18.108470795737226, 324.4213291948658, 152.37170134814585, 47.644592533261815, 267.17161982548345, 30.03185360289843, 28.052913893979273, 62.879305390679434, 40.75389424504768, 39.02580144518063, 66.49946111508471, 50.705498262489535, 32.77647390333407, 31.940062154995918, 220.3237486522582, 203.54638881353293, 193.8638562072189, 145.96790438648608, 141.61590860326228, 135.85855240674098, 108.56747121309719, 111.46916624654106, 58.85119793324883, 149.4919835697618, 42.004185018935075, 37.239305480239835, 35.72445157132676, 34.20264725381113, 32.85001066385688, 32.710843420455426, 31.18807519655243, 30.061249627237153, 29.946381160319707, 28.786315715012908, 28.561045916069563, 27.56237457825224, 29.86507507440453, 26.47590382957772, 26.138493438102635, 25.764698253715014, 170.07308614698383, 23.726036804544687, 23.306394217289714, 22.842336228954654, 41.98916160292952, 53.376811177334396, 444.73286603098734, 265.55239490080425, 140.55906423214373, 193.7506201623003, 158.73486211428133, 49.66755848315779, 153.09702571642404, 50.77497971466554, 96.49147144394611, 36.916752517724085, 46.8903312434911, 74.10831659064652, 75.53611022733801, 47.09253567705669, 39.69459395956702, 38.74172807574978, 123.52694048801709, 123.05372824078583, 116.54639066165387, 117.1604203648528, 115.45976206659056, 115.1403251149389, 114.95799376008331, 121.52069775143553, 114.85514006850678, 135.0919285449357, 116.57306583015757, 46.70989661046608, 122.43329028121872, 36.39533830511309, 34.65783054998176, 34.19601535796344, 33.38853335406391, 30.181998951265523, 29.808824117481706, 29.3680021050286, 28.032374966022473, 25.780309180603535, 25.54222284797534, 25.09012398212413, 24.989891737331522, 22.966680718873977, 22.58687180445503, 112.42308359951534, 21.628875232620693, 21.017397214436567, 348.77310261470524, 110.98486046183633, 134.17238933039397, 87.90880949606354, 41.60694978760671, 46.39331230479109, 74.9630274340297, 42.48374969274582, 29.198328303514067, 149.1105433493331, 144.04704482456927, 117.20706009444693, 68.79101317484506, 56.655269296472014, 44.2723473434574, 43.98520554062011, 43.34044760491731, 39.2874475404061, 36.9780867874204, 36.26775573453725, 35.889633674691666, 33.53428782482952, 31.19756258140839, 29.865095390125052, 27.869605624929438, 27.678046384549837, 27.485315254018136, 26.761424311061457, 26.6051390808577, 25.71259418225175, 24.418924834614536, 20.68928220102102, 20.427748165275055, 20.26473789060066, 18.65527591611112, 18.39416823974855, 18.144344516292534, 18.115280554206787, 17.94288527089299, 101.21838166937752, 131.86370977780822, 31.279363979602483, 59.20889535477576, 28.8530539635703, 31.626880432160462, 23.024429406310023, 197.6026820296435, 162.7815611437952, 146.21559280387638, 140.4072819331, 134.6164961574124, 107.50921907272007, 76.63499248691244, 56.951238900098964, 55.526033785227796, 47.691707010392875, 36.381648947517775, 32.50304841121105, 30.599455631188395, 29.089090782312766, 27.782069798894153, 27.708998359189934, 27.15575084793123, 24.894809330600584, 23.495213098180884, 23.461991317929765, 23.457469727151864, 22.54996306958446, 20.72905433879958, 20.724150372866937, 20.671346304360814, 20.559538768971702, 19.957493747510092, 19.02580452572468, 18.658459036538883, 17.82337353540149, 47.78183331262858, 34.4162362979937, 24.883420626805773, 30.253361278121616, 141.49132101484958, 139.2920650325854, 43.20591740521448, 37.96083673933643, 26.641091747100173, 24.392202686439457, 22.91612172146657, 22.706096548201476, 21.242553872218792, 19.038980586074626, 18.99943433690136, 18.148135766739237, 17.393731983747212, 16.753664020249285, 16.147856811234636, 15.847556604684334, 15.700636418493978, 15.422583979186948, 15.210958284384873, 13.01494123674499, 12.953034804311297, 12.14323531227136, 12.029824895654762, 11.970686266434564, 11.846224162130694, 11.594831420795169, 11.566144650146908, 11.550078653870921, 11.459573465361583, 11.392498948685045, 229.13719852178224, 16.587183962452887, 15.000561099085493, 14.038824112154499, 160.94092133688972, 148.9732307861955, 55.94460065516326, 53.466780064640815, 50.2786575935642, 42.23093605946585, 38.78693963890081, 36.90613904931477, 35.90421005896531, 28.164070460917948, 27.56467824507457, 27.168063243050373, 25.005909772699248, 24.353872376484077, 23.182427778236004, 22.356107541909736, 21.716837308180473, 21.087164360743596, 21.05356300418038, 21.01793010184266, 21.01792383171306, 21.00247973432705, 20.99728111415695, 20.45900069471187, 20.053464229810228, 19.82881773501536, 19.596530825163995, 18.992173733674477, 18.809662327815488, 18.363782951976443, 154.27241712882613, 82.18803087397033, 78.76220524230196, 77.52641052411423, 77.33550445498875, 76.96532621629382, 77.47428272652523, 76.90769546766013, 61.404585946356924, 27.808668256589026, 26.076868820918666, 21.426413349433428, 20.41266550412556, 20.059176014811477, 17.722334663831347, 16.758193286970105, 16.629570375242814, 15.745270181963349, 14.524584607116799, 13.494060371339042, 13.074195880761467, 12.98359282273069, 11.892472693035037, 11.20869174674298, 11.0676270078735, 11.061240261514472, 10.730799847847607, 10.690714099672995, 10.346828547294328, 9.835834648157215, 69.87862971917392, 69.8625224391688, 69.97471574618474, 69.66869347485557, 69.57825767020657, 69.55828948719117, 69.55557291909977, 69.54225758692385, 69.51928006010684, 69.50150138748909, 69.74308337936908, 69.418272349659, 69.3707277461817, 69.30939641602743, 69.29268299854068, 69.24060190268317, 69.20635221885543, 69.17593332324896, 69.11359914853259, 69.09117259269206, 69.06189959867645, 69.0451078885367], \"Term\": [\"love\", \"dont\", \"like\", \"yeah\", \"wanna\", \"little\", \"away\", \"feeling\", \"gonna\", \"lost\", \"gone\", \"got\", \"hey\", \"right\", \"ooh\", \"know\", \"stop\", \"don\", \"aint\", \"man\", \"new\", \"want\", \"run\", \"fuck\", \"important\", \"living\", \"face\", \"people\", \"song\", \"sun\", \"youre\", \"ive\", \"ill\", \"think\", \"mind\", \"try\", \"head\", \"things\", \"make\", \"theres\", \"leave\", \"feel\", \"going\", \"youve\", \"stay\", \"wont\", \"bad\", \"maybe\", \"alright\", \"wrong\", \"shes\", \"ask\", \"wait\", \"didnt\", \"really\", \"trying\", \"used\", \"free\", \"wanted\", \"wish\", \"know\", \"time\", \"way\", \"tell\", \"say\", \"cause\", \"let\", \"want\", \"good\", \"need\", \"day\", \"better\", \"thing\", \"got\", \"look\", \"come\", \"dont\", \"right\", \"like\", \"said\", \"life\", \"night\", \"heart\", \"gonna\", \"eyes\", \"away\", \"mountain\", \"thumbing\", \"stayed\", \"electric\", \"numbers\", \"shall\", \"hills\", \"deny\", \"seeds\", \"laughed\", \"forest\", \"darlin\", \"elses\", \"favor\", \"aside\", \"cave\", \"core\", \"colder\", \"wisdom\", \"devils\", \"brighter\", \"leavin\", \"danced\", \"spiral\", \"suppose\", \"nighttime\", \"planets\", \"wishes\", \"replaced\", \"forgiven\", \"hed\", \"closing\", \"river\", \"purple\", \"wild\", \"dance\", \"heaven\", \"dive\", \"ghost\", \"amp\", \"run\", \"dreamt\", \"hot\", \"rain\", \"moon\", \"knew\", \"saw\", \"came\", \"pleasure\", \"knife\", \"away\", \"earth\", \"round\", \"chance\", \"turning\", \"sky\", \"took\", \"loved\", \"close\", \"gave\", \"walk\", \"light\", \"hair\", \"thought\", \"high\", \"sun\", \"home\", \"eyes\", \"left\", \"queen\", \"hoo\", \"wheel\", \"sex\", \"sisters\", \"spread\", \"enemy\", \"strength\", \"grandma\", \"touched\", \"shelter\", \"bang\", \"lifetime\", \"master\", \"flowing\", \"upset\", \"candy\", \"weed\", \"cookie\", \"divide\", \"sowing\", \"scare\", \"fair\", \"bust\", \"yah\", \"mall\", \"compassion\", \"lovin\", \"drew\", \"homeless\", \"brothers\", \"love\", \"passion\", \"bomb\", \"bitter\", \"sing\", \"spirit\", \"business\", \"jesus\", \"song\", \"needs\", \"die\", \"blood\", \"lay\", \"whats\", \"angels\", \"big\", \"best\", \"death\", \"beautiful\", \"kids\", \"fell\", \"baby\", \"told\", \"throw\", \"cat\", \"damned\", \"transient\", \"unsung\", \"guardians\", \"hungry\", \"steel\", \"owned\", \"owe\", \"john\", \"buckle\", \"huh\", \"limbs\", \"bloody\", \"jail\", \"horizon\", \"november\", \"sore\", \"doesn\", \"joe\", \"shoulda\", \"jimmy\", \"county\", \"catching\", \"heroes\", \"tips\", \"texas\", \"rides\", \"rejoice\", \"web\", \"siblings\", \"zed\", \"daddy\", \"pony\", \"cutting\", \"poor\", \"vain\", \"lord\", \"switch\", \"moment\", \"dog\", \"probably\", \"father\", \"screaming\", \"died\", \"order\", \"stall\", \"giving\", \"man\", \"young\", \"money\", \"living\", \"green\", \"red\", \"stone\", \"mother\", \"white\", \"beep\", \"check\", \"runnin\", \"images\", \"spelled\", \"passing\", \"cars\", \"north\", \"building\", \"uhhuh\", \"ticket\", \"hurry\", \"lucy\", \"followed\", \"callin\", \"refuse\", \"cost\", \"downtown\", \"neon\", \"pine\", \"iron\", \"helps\", \"sweep\", \"chicken\", \"french\", \"traveling\", \"hardest\", \"sir\", \"billy\", \"vague\", \"dutch\", \"rocking\", \"faces\", \"places\", \"holy\", \"cage\", \"crash\", \"south\", \"shake\", \"black\", \"slow\", \"bound\", \"people\", \"died\", \"circle\", \"west\", \"line\", \"town\", \"train\", \"old\", \"sky\", \"bit\", \"blame\", \"brick\", \"bye\", \"oooh\", \"fixing\", \"teen\", \"lecture\", \"grown\", \"race\", \"rocks\", \"jack\", \"chorus\", \"throwing\", \"explode\", \"haunting\", \"lion\", \"fought\", \"gravity\", \"grin\", \"lil\", \"suits\", \"ohio\", \"jaw\", \"cow\", \"flashing\", \"gutter\", \"stain\", \"2000\", \"tigers\", \"leaf\", \"cheese\", \"marrow\", \"hill\", \"silly\", \"hunger\", \"shoot\", \"bird\", \"kick\", \"nose\", \"sweet\", \"little\", \"bleed\", \"frame\", \"bar\", \"summer\", \"box\", \"colors\", \"okay\", \"eye\", \"red\", \"space\", \"page\", \"feeding\", \"alert\", \"ninja\", \"mystique\", \"tee\", \"godsend\", \"york\", \"america\", \"killed\", \"woah\", \"pow\", \"boogie\", \"important\", \"wolf\", \"tracks\", \"oohoohooh\", \"ladder\", \"quills\", \"cell\", \"razor\", \"involved\", \"bolt\", \"arrived\", \"bat\", \"innocence\", \"riot\", \"tire\", \"dick\", \"react\", \"farewell\", \"capital\", \"speed\", \"strip\", \"chords\", \"bursting\", \"truly\", \"bear\", \"lowkey\", \"parts\", \"boy\", \"feeling\", \"hes\", \"stage\", \"burns\", \"magic\", \"plan\", \"new\", \"dead\", \"like\", \"hell\", \"alive\", \"road\", \"face\", \"ooh\", \"hurt\", \"oclock\", \"valentine\", \"appear\", \"wanna\", \"somethings\", \"zeros\", \"cmon\", \"oohooh\", \"versus\", \"cheating\", \"photograph\", \"lala\", \"swore\", \"packed\", \"oohoohoohooh\", \"jet\", \"hated\", \"arc\", \"steiner\", \"hurricane\", \"degrees\", \"tides\", \"toys\", \"puzzle\", \"jaguars\", \"lalala\", \"link\", \"fooled\", \"rock\", \"hollywood\", \"needed\", \"bite\", \"roll\", \"possible\", \"don\", \"air\", \"dont\", \"whos\", \"gonna\", \"cried\", \"devil\", \"burn\", \"want\", \"know\", \"cultivated\", \"metal\", \"news\", \"gimme\", \"whoa\", \"funk\", \"scrawled\", \"churning\", \"festering\", \"chisel\", \"develop\", \"modern\", \"ignore\", \"sunday\", \"niggas\", \"row\", \"gon\", \"nigga\", \"palm\", \"deeper\", \"pistol\", \"pulse\", \"tale\", \"piss\", \"champagne\", \"bros\", \"film\", \"halo\", \"bold\", \"rats\", \"tone\", \"fuck\", \"curve\", \"planet\", \"pair\", \"ready\", \"king\", \"ride\", \"bitch\", \"hate\", \"cut\", \"dreams\", \"goodbye\", \"like\", \"gotta\", \"making\", \"driving\", \"gum\", \"radical\", \"flashlight\", \"curfew\", \"maneuver\", \"artfully\", \"swimming\", \"ceiling\", \"daughter\", \"mercy\", \"universe\", \"animals\", \"wood\", \"happiness\", \"invisible\", \"therell\", \"zombie\", \"wounds\", \"chemistry\", \"fully\", \"boss\", \"chosen\", \"despair\", \"starlight\", \"infinity\", \"jean\", \"oceans\", \"animated\", \"haunts\", \"fever\", \"clap\", \"exploding\", \"hows\", \"woo\", \"son\", \"lonely\", \"falling\", \"boat\", \"beginning\", \"water\", \"fun\", \"began\", \"blue\", \"sun\", \"smoke\", \"itll\", \"chop\", \"bet\", \"difficult\", \"synthesized\", \"everythings\", \"visions\", \"putting\", \"dangerous\", \"bringing\", \"sons\", \"ghetto\", \"pages\", \"emotional\", \"group\", \"skate\", \"penny\", \"elevator\", \"japanese\", \"givin\", \"childhood\", \"paralyzed\", \"tragedy\", \"scale\", \"hypnosis\", \"mars\", \"button\", \"england\", \"august\", \"mordake\", \"crimes\", \"fame\", \"hello\", \"aint\", \"stop\", \"gun\", \"letting\", \"times\", \"safe\", \"great\", \"low\", \"guy\", \"everybody\", \"backwards\", \"late\", \"fucking\", \"hes\", \"key\", \"set\", \"feelings\", \"lark\", \"pocket\", \"ohohoh\", \"killer\", \"celebrate\", \"drug\", \"butter\", \"hip\", \"ahah\", \"yea\", \"glowing\", \"sarah\", \"smash\", \"nerve\", \"hush\", \"dum\", \"shitty\", \"gap\", \"measure\", \"hoping\", \"jar\", \"crushing\", \"veil\", \"melting\", \"scent\", \"castle\", \"ahahahah\", \"cape\", \"diamonds\", \"lost\", \"mental\", \"blows\", \"war\", \"gone\", \"crown\", \"form\", \"witness\", \"waves\", \"got\", \"gold\", \"hey\", \"yeah\", \"pot\", \"disco\", \"bug\", \"font\", \"ohh\", \"tick\", \"bah\", \"pouring\", \"ivory\", \"ooooh\", \"aaa\", \"dada\", \"rocket\", \"wouldn\", \"fambly\", \"sha\", \"bom\", \"lords\", \"polaroid\", \"suffragette\", \"vibrate\", \"pacifies\", \"hay\", \"gogo\", \"berlin\", \"expectations\", \"breathin\", \"gloom\", \"higher\", \"whod\", \"neighborhood\", \"control\", \"uptight\", \"contain\", \"arm\", \"minds\", \"happened\", \"right\", \"living\", \"shell\", \"edge\", \"punk\", \"mama\", \"monkey\", \"technicolor\", \"screen\", \"goin\", \"bop\", \"toes\", \"dull\", \"squad\", \"unforgiving\", \"amber\", \"subway\", \"whore\", \"frankie\", \"groove\", \"western\", \"mexico\", \"bowl\", \"sinatra\", \"entire\", \"emotions\", \"rotting\", \"doomed\", \"wilderness\", \"fack\", \"machine\", \"shifting\", \"trophy\", \"oak\", \"jungle\", \"wing\", \"white\", \"future\", \"class\", \"slowly\", \"strange\", \"paradise\", \"teeth\", \"television\", \"colors\", \"thirty\", \"concrete\", \"cool\", \"black\", \"paint\", \"drove\", \"nose\", \"gross\", \"slippery\", \"renegades\", \"juvenile\", \"cultures\", \"urgently\", \"collateral\", \"homemade\", \"scoping\", \"claw\", \"sample\", \"medicine\", \"resolve\", \"freight\", \"gotten\", \"rebel\", \"meow\", \"loaded\", \"winner\", \"warrior\", \"fancy\", \"judy\", \"vomit\", \"value\", \"stab\", \"weapons\", \"zoo\", \"milked\", \"altered\", \"shirin\", \"drop\", \"social\", \"special\", \"germs\", \"beast\", \"dumb\", \"like\", \"shit\", \"homes\", \"upright\", \"analog\", \"pulling\", \"nana\", \"matters\", \"stolen\", \"exit\", \"shock\", \"sung\", \"seeks\", \"coal\", \"crossing\", \"aah\", \"deo\", \"fright\", \"coward\", \"weekends\", \"treehouse\", \"twisting\", \"stared\", \"peoples\", \"nonagon\", \"wig\", \"justice\", \"fuss\", \"file\", \"hats\", \"ups\", \"julia\", \"layer\", \"hung\", \"vinyl\", \"humans\", \"built\", \"spare\", \"house\", \"room\", \"doo\", \"lipstick\", \"arcade\", \"levy\", \"ahh\", \"weird\", \"pill\", \"lookout\", \"doodoo\", \"level\", \"unsure\", \"prawn\", \"heartbreak\", \"whop\", \"cha\", \"gravel\", \"blah\", \"random\", \"dahahhahh\", \"fatal\", \"sucker\", \"jukebox\", \"spider\", \"morphin\", \"imagining\", \"superorganism\", \"highest\", \"contagious\", \"jessie\", \"fairly\", \"push\", \"fly\", \"eating\", \"red\", \"belts\", \"mitts\", \"reflektor\", \"yanada\", \"mount\", \"graceland\", \"gypsy\", \"badada\", \"permission\", \"des\", \"gumada\", \"ascend\", \"magick\", \"ahwoo\", \"drying\", \"para\", \"hardcore\", \"les\", \"funded\", \"shedding\", \"golly\", \"curses\", \"ana\", \"cocaina\", \"complaint\", \"har\", \"anna\", \"inventor\", \"mes\", \"orix\", \"soul\", \"por\", \"gently\", \"bodies\", \"ohoh\", \"authority\", \"agree\", \"cherry\", \"finished\", \"teenage\", \"click\", \"major\", \"los\", \"angeles\", \"lunacy\", \"butch\", \"bass\", \"oho\", \"wristband\", \"julien\", \"ahoh\", \"las\", \"finer\", \"bitte\", \"orca\", \"yrs\", \"cowboy\", \"richard\", \"uhuh\", \"huhuh\", \"gamma\", \"vegas\", \"babababa\", \"spanish\", \"shut\", \"distress\", \"estranged\", \"oops\", \"locally\", \"evoked\", \"porcupine\", \"previously\", \"fuckin\", \"sacrilege\", \"drama\", \"belief\", \"loo\", \"safety\", \"hih\", \"portugal\", \"reeks\", \"pyramid\", \"rococo\", \"sweetness\", \"dey\", \"dadadeedah\", \"gigantic\", \"doodoodoo\", \"unhappy\", \"mayday\", \"stacked\", \"timber\", \"yami\", \"flaw\", \"pretzled\", \"blaster\", \"crushin\", \"whizlines\", \"branched\", \"trixie\", \"3year\", \"milled\", \"othmar\", \"bambaata\", \"publicize\", \"mors\", \"berserkers\", \"skivvy\", \"mugshot\", \"zulu\", \"bleeped\", \"percussionll\", \"shambala\", \"zoso\", \"telecaster\", \"vermillion\"], \"Total\": [8044.0, 11323.0, 12050.0, 3133.0, 3004.0, 2521.0, 3933.0, 2078.0, 3146.0, 1595.0, 1693.0, 6417.0, 1332.0, 3249.0, 1348.0, 10759.0, 1246.0, 1434.0, 1202.0, 2023.0, 1404.0, 5900.0, 1581.0, 1018.0, 986.0, 1716.0, 1684.0, 1241.0, 1190.0, 1495.0, 6844.62526189021, 3625.7580149777, 4373.127028013747, 3300.393001591677, 2302.822945148683, 2543.40919780005, 2256.0983532786768, 2247.3545292093713, 3967.305140457825, 3006.107965562549, 1924.897303042296, 4337.6596966739735, 1799.3253829129665, 1639.1552160892727, 1687.2247827157767, 2813.803737986096, 1312.7291515153963, 1301.3794006352437, 1285.9727624919794, 1298.2132055740083, 1263.7673495688755, 1193.262285256579, 1351.7733466357054, 1080.0976824893926, 1500.289255032976, 1011.3522662009486, 1010.1429516033564, 987.3331804819703, 975.5106836804679, 999.988649130667, 10759.917533313532, 6488.802016407422, 4574.804496354364, 4506.581163670855, 4516.17174335933, 3477.805719095002, 3818.547682841993, 5900.477609262424, 2484.6077692853796, 2875.11525624255, 2761.7308526054294, 1835.7292559855382, 1483.477165548478, 6417.1861203837325, 2108.9331186412633, 4528.705701139662, 11323.324760540247, 3249.669271155515, 12050.517377177663, 2993.6464629525776, 3043.827542498619, 3258.2802080051333, 3133.3338480343123, 3146.1363397658124, 2929.278425343375, 3933.5570725806897, 225.330996339349, 188.10472505505354, 164.26701314509677, 138.07334755755775, 129.31528743387446, 119.54884175293813, 110.94088499882888, 108.65472280752404, 107.97239440907855, 84.29637471061977, 82.44729745280321, 80.37816112820046, 78.81454856063155, 77.60248604373409, 77.55512838876295, 74.65832392671409, 67.35662443990852, 66.96671170330995, 62.947008280339695, 58.90668117305483, 56.88794748075229, 55.78382282170588, 53.828220040377154, 51.76469594229727, 49.46986355941576, 59.30712299548892, 48.584090866869154, 48.100440187917386, 47.6215376359246, 46.47846675709851, 105.62796327458948, 79.5810303471868, 411.99819322682237, 86.87727092135114, 524.3307596768402, 750.2655599137319, 503.60601750749885, 121.47579464652705, 362.686730076034, 175.09116828486515, 1581.3300497635803, 118.80932584018989, 436.19135809394487, 728.7059935484486, 577.6586248648931, 1146.9676225714247, 1023.6179438377179, 1085.0736943757813, 142.03858365916776, 211.42262211010726, 3933.5570725806897, 489.29863084734313, 621.9047327861143, 446.68636193609166, 345.8657832812136, 954.0416241707562, 885.0481419269953, 416.39079395889627, 897.3420003088836, 519.7901925723723, 1204.4532826487407, 2136.158476462267, 647.8047837603135, 1587.5632879221828, 984.2304077193952, 1495.7199508409753, 2594.052565220698, 2929.278425343375, 1751.7698121056562, 317.6787829788879, 207.17443482494502, 152.32875385776197, 140.6019746133754, 136.97024509713205, 117.65248054923858, 111.77502378015095, 92.25884234531651, 84.7978680720379, 79.51388849073459, 77.75713310231205, 181.1655170914053, 74.73969490331106, 62.333462592374495, 61.342976448398005, 57.06706861258906, 56.8991737614748, 55.69681297230509, 54.272897225697314, 53.59947521573789, 53.38595026247619, 53.07809118005343, 149.40450896335238, 51.76684697799109, 50.766516351558, 50.7213541512774, 49.27007280573032, 48.200118554079964, 46.07225526781107, 43.68284253825857, 121.22639472329774, 8044.477618577748, 87.50561152688735, 116.53247650548668, 164.80681528585427, 971.7789249984445, 161.60916190434455, 168.18463552001168, 191.5712582524146, 1190.6610621548693, 283.7462136059902, 1286.0533358479165, 850.4499400641492, 495.3388086743875, 1041.621797307386, 156.7007692869909, 823.1298245119898, 930.9013862817856, 565.0867572189971, 528.2922904930726, 485.18896913548343, 432.5232433038507, 2484.9800486112595, 956.0668578299535, 344.0285242286921, 244.341060811682, 181.77744056654035, 137.3510135120777, 135.6887737931432, 134.88512933818177, 118.42303131903402, 112.42649455254829, 148.29356362044905, 80.27052085992679, 72.17289695619809, 147.76294573583354, 69.32555874298137, 63.00799574459318, 54.59949219391016, 54.364368615722114, 48.34616577418704, 46.74017013084097, 46.4533690875026, 45.003130481191924, 43.550799693245075, 42.58528078905759, 42.10918769419495, 41.40175130148209, 39.280539857162225, 37.83131539763581, 154.07414517497364, 35.287802288331186, 34.396248544172735, 33.222239359497024, 166.34407306097057, 138.57914393149542, 406.2551436019388, 144.4037641047637, 146.04121849926418, 197.41931739725334, 180.46139023079058, 180.27127976528612, 276.27196679185266, 182.16661976914742, 794.0367483311686, 404.7613563819661, 953.3798202274035, 325.10330401213224, 482.8427971135066, 816.5709077740722, 193.5109283914503, 164.27400061532074, 514.6087009595192, 2023.8448704710686, 784.7791456196106, 630.506070327528, 1716.460744702632, 271.65006590170094, 760.9630550583042, 309.92478622637793, 425.7924736169292, 808.6580612431986, 265.82500102670184, 203.964688244433, 187.79424637304368, 180.47448072690054, 174.2279385276623, 156.28172055514884, 139.6194245922161, 132.30856626159928, 112.78420720869872, 107.93635937479466, 95.69959901766752, 91.61377563691089, 85.74225997387786, 76.38242094610976, 90.47469500556053, 69.26194412390593, 69.13706862093524, 68.48284716646073, 64.35358567375474, 54.81140745651791, 53.92230704037056, 53.72090141158649, 48.44333766854752, 46.81998149487824, 44.72642667018178, 41.236073086691256, 40.21737419648435, 38.515516898585965, 38.400305383121804, 37.54557551154724, 177.42369369365744, 202.81804634934997, 212.0078162631046, 218.7145895719475, 183.94365377995226, 107.1897054928756, 143.6294649830559, 160.1016374783394, 398.64934491050235, 1005.9519638236778, 662.107807619554, 318.54984059979006, 1241.4634807165214, 816.5709077740722, 106.01142043097968, 169.8899073688588, 863.2188211882471, 793.6982180586605, 357.5519240988751, 1711.56702181754, 954.0416241707562, 496.3630030317128, 262.48557326283867, 219.85894673059317, 190.15022544457304, 166.49975156702212, 163.4271281930585, 161.74170385787272, 153.05843312166655, 130.8594669291026, 100.14545438944167, 98.52917528708561, 94.07744521615196, 83.12273221537566, 68.75320723528834, 68.73422423978906, 61.398679250822696, 57.449571094191356, 55.711615218030516, 50.021043855893936, 186.81157648073344, 48.58394245796955, 48.106285037824016, 47.19139862403656, 43.774588588296545, 42.87877476764993, 42.02306338001192, 40.57540779742287, 40.30194503926189, 40.086243155305766, 38.9738158912694, 195.28882071822045, 172.6066901190297, 161.85267504717422, 292.1065016556074, 68.72007278583735, 76.83713464465214, 194.45342448181813, 362.521535949306, 341.2436772752822, 298.3681573208132, 741.9209934566602, 2521.793456853321, 179.4241504657571, 261.8328367095948, 286.0754651467019, 666.9318725773203, 139.4939439413912, 290.584747602933, 473.1185318526054, 700.04327647473, 760.9630550583042, 428.13186557379487, 250.19848462992775, 260.43985550857917, 142.5953695130409, 120.86581768061265, 120.04143203988797, 119.4806758890044, 119.11656986705005, 115.29472562349602, 113.64054903085231, 94.31651250176549, 91.36070953640885, 69.82388448819268, 69.66539867487042, 986.2178446873528, 60.47661067749229, 59.58976880364775, 49.11940950635705, 47.15529019834621, 119.46665523660354, 36.668936273156774, 36.50326950296895, 35.8269220481874, 35.79981022095473, 506.327375639708, 34.11501722060084, 32.999921124269626, 32.98570713633671, 30.221663523962103, 29.73193578749172, 28.14995632171972, 28.06998530009885, 366.62317899883914, 83.51505824108351, 152.30215634302752, 140.56104143261132, 133.62295919222456, 181.62134454009603, 119.324641631658, 121.92143645066317, 199.5751927768614, 780.9616861162446, 2078.418089012673, 854.506834037745, 238.84440921975903, 216.74652440769543, 191.4265165567671, 388.6159740620349, 1404.31098815439, 1121.4389214256653, 12050.517377177663, 908.3711768946317, 695.6902091716404, 693.2939726437749, 1684.529342139823, 1348.392219011414, 505.09117857848014, 194.73145034112196, 193.0862046023947, 187.57094068027752, 3004.3088438354603, 167.74584809634942, 167.32538050711634, 164.18091380954576, 132.3471938422352, 84.44820160779466, 74.75889191224536, 63.673681513684166, 59.26028759550525, 58.6227634673192, 51.48100102235701, 44.47997110730797, 40.139876336612936, 38.20571633906304, 37.308969907542426, 35.03346693940666, 34.0918840078162, 30.36634614850074, 29.71895835356259, 28.197535590414084, 25.431706529975585, 24.92278497373258, 23.801251429017643, 23.063596683065278, 22.475287701329407, 463.35396679826647, 45.12037246987442, 215.27567365804384, 150.2945538307103, 446.08557570243835, 78.77741750263714, 1434.2685042762275, 717.6363726040327, 11323.324760540247, 347.5625428920005, 3146.1363397658124, 124.2218231897371, 168.46649253729734, 541.4661855486471, 5900.477609262424, 10759.917533313532, 393.9576735931733, 203.76811512768077, 202.27889235112397, 209.01043969807333, 165.23081914853017, 149.82119233795947, 135.9722058802215, 135.2051634437855, 134.61269002496638, 131.92589987859338, 135.4468215230017, 101.59439410043713, 98.93907556908259, 91.60054425280318, 81.3938015296608, 78.9112742940813, 87.09673680259722, 63.52882832285361, 61.36178796532781, 56.481194126613346, 162.39460870299916, 47.63393971799819, 44.17898332874642, 44.03431175246279, 39.46832261809505, 37.78948968100849, 35.854987581706006, 35.54519829220428, 34.964303362314965, 30.488072352955733, 184.0788331454024, 1018.0008941861656, 149.7562858558936, 233.86316424701917, 216.3747707876448, 442.39779785897355, 318.22108858408524, 490.5744319455844, 128.4469419754581, 715.4839601325447, 837.6391125310404, 758.7224974606931, 443.62599636750826, 12050.517377177663, 954.2214479157874, 700.5029592366975, 220.35413160273856, 165.62943689822288, 158.2921293392646, 157.43984433625982, 152.45040085749355, 149.97282878965748, 149.4621638560591, 131.87231811280358, 117.29359800943412, 114.1609283964496, 92.66795408340671, 85.76148983578581, 80.22698512751373, 77.33507753282677, 77.69700464900971, 71.91447942221878, 62.37053673578793, 62.28957702996637, 51.13065562306346, 50.74985487797764, 48.77828670502682, 47.953155799821914, 43.573857753316695, 42.34399763136428, 39.61985501354695, 37.069054435051214, 36.90770776654944, 36.59378725958198, 152.64508142820918, 32.97726302234072, 110.95540100700613, 55.998023719638, 179.6902214333688, 46.92461009217407, 91.18115180822336, 240.39154255215277, 623.1333515111644, 620.5947001740623, 141.64282153244486, 127.2370334120277, 910.1983021917029, 423.51794548310284, 243.92464722986944, 827.0610460856017, 1495.7199508409753, 453.2854355296338, 197.58052492857806, 183.00955730851783, 178.81145969420822, 176.6909958407582, 155.7596517971424, 105.55628886529412, 77.61522652801378, 72.14954227918831, 68.77355639722734, 62.43250864257552, 55.55663530904904, 172.4757813801407, 54.38113902248023, 49.14273951660078, 44.58287510557527, 42.10701946910436, 41.61163096641302, 37.51444097907207, 37.39032129292925, 37.24989977378268, 36.475380535601886, 29.616260970579845, 28.472343560228445, 27.98708157578304, 26.615176121412013, 26.534153364836843, 25.286250031273873, 25.236721982518656, 24.741091895476607, 24.87833609236005, 24.399682961038252, 118.82576522112234, 196.62051146911764, 1202.9195094263584, 1246.3028461918066, 290.8557268347055, 142.57769870338842, 795.284975670515, 345.8739695830857, 414.6528666312025, 488.1874071615548, 211.47525276390562, 671.0301330867347, 242.4526517424451, 610.3036391704869, 399.0129726882187, 854.506834037745, 323.9868652067861, 614.3161105668778, 243.01879033130385, 167.05358974808868, 120.14247623022663, 109.24842205466489, 98.1251094034533, 80.46871721188494, 66.9063157309306, 65.49243622351038, 61.132144610954256, 58.68090800112791, 57.6824662823461, 53.69165926145025, 48.53790384970541, 46.8169674332386, 46.5215791595557, 45.41880361349189, 43.89525310562385, 41.81654157961182, 41.4667717375494, 39.30821125309585, 182.2240981343742, 38.58096295480005, 38.11242744958607, 36.18879555637526, 35.33558668058283, 34.298013176364904, 32.83951942490183, 32.568749053373736, 32.32032182072934, 117.68011480983506, 1595.7283831521, 61.07264831368352, 116.48829073021797, 302.82509282297406, 1693.6565984360773, 137.91860646440395, 165.53496901375206, 76.89281279772048, 239.05201428147427, 6417.1861203837325, 354.6114829443303, 1332.7959522955562, 3133.584182731876, 169.58530301555942, 167.84029207488405, 165.8194422708938, 148.18427513587784, 76.73512775949243, 74.25998959511112, 55.685228622785964, 52.15571439536817, 51.31493647696286, 46.45219302439453, 41.19291769701291, 40.11335221655241, 37.49539758911016, 36.8735602015225, 32.3109582301157, 31.758203671390376, 30.160048216110553, 28.062509464813306, 25.731719657971233, 25.704882344254173, 24.346058883812116, 24.02389836306598, 23.243154704213723, 22.120774251297355, 20.547996369998454, 20.157294417564472, 19.2984617458646, 18.865614461826087, 338.64939758956183, 174.14538929527959, 57.14011426807997, 513.5034433178291, 35.730404110934515, 33.10876146889194, 351.91694219567773, 208.0928204432512, 205.6551836488645, 3249.669271155515, 1716.460744702632, 213.18039177806313, 308.9272539544085, 221.0818331597866, 204.30443613734496, 194.62189851592413, 146.72594707118807, 142.37874776819567, 136.6165951267992, 109.32553437375766, 112.38714915896627, 59.609240717331694, 151.6100177616466, 42.762227504155774, 37.99741494747538, 36.48249447098678, 34.96069321336125, 33.60808415800056, 33.46888572326088, 31.946117606396363, 30.819291937886227, 30.70442586638643, 29.54437557684617, 29.319088471367426, 28.320416909248976, 30.698313735041946, 27.23394666765686, 26.8965358599875, 26.523400602728632, 175.2502043595346, 24.48408278603864, 24.064436766701323, 23.600378626576067, 43.62007077376866, 59.529229029708226, 808.6580612431986, 443.6464206954604, 231.24881550501425, 410.8257989580893, 332.0929498231039, 69.5160669771489, 495.011362144956, 79.98019138877174, 290.584747602933, 47.36134352792024, 101.32136413157419, 405.4056681813168, 1005.9519638236778, 164.39993490885632, 105.39505059785932, 298.3681573208132, 124.29263123557593, 123.81941948524688, 117.31208322399056, 117.93075417531166, 116.22545316247367, 115.90601584510584, 115.72465401217342, 122.34362902987425, 115.63973678708118, 136.1036106714175, 117.47057180073577, 47.475587868045494, 124.84857860507404, 37.16102988532689, 35.423531510770516, 34.96170632107319, 34.15422578414783, 30.947697338336436, 30.57451570669682, 30.133693476022188, 28.79806576457226, 26.54601077859147, 26.307913739772108, 25.855815170013916, 25.755582524614493, 23.732379742213915, 23.352562593495705, 116.3249532679756, 22.394568797485576, 21.783124744012653, 447.32705781781567, 150.2961043111084, 201.70519802057947, 122.65004234048268, 82.88707901716252, 175.23121177457296, 12050.517377177663, 737.774187715119, 68.98642511175643, 149.8686971647703, 144.8052039577264, 117.96521493308381, 69.54916726830626, 57.41342310284195, 45.03050101872348, 44.74335990055369, 44.09860133609484, 40.04560120266362, 37.73624341307381, 37.02590938249123, 36.6477873210808, 34.292442785163345, 31.95572628142933, 30.623249042007163, 28.62775935957014, 28.436200039700857, 28.24482787147389, 27.51957807797055, 27.36329303011299, 26.470748207868418, 25.177170028512702, 21.447435849493832, 21.18590322987069, 21.022892001848795, 19.41342964317455, 19.152321882861568, 18.90249948748388, 18.873435879721246, 18.701039213376315, 110.34850817049781, 149.84091033138967, 33.50565900369852, 241.60776684365914, 62.934444647591135, 762.3892543799376, 1015.9823445114553, 198.36144734319467, 163.54032906565232, 146.9743581469297, 141.1696097703729, 135.37526701672917, 108.26798587973589, 77.39916155286706, 57.71002462314686, 56.284799420306896, 48.4504723695563, 37.14042454350626, 33.26189744913806, 31.358220895912982, 29.84786459653388, 28.54083519134824, 28.46776630046505, 27.91451615214696, 25.65357463625807, 24.253999364173193, 24.22075666194641, 24.216235177393298, 23.308729592214547, 21.4878195782775, 21.48346312112732, 21.430112746657052, 21.31830569480502, 20.716267052957193, 19.784569866315152, 19.417228371176673, 18.582138824892183, 213.1911686224584, 394.40985048568825, 93.30865400907814, 760.9630550583042, 142.25064623328416, 140.0513901070185, 43.96532920999714, 38.7202147516452, 27.400418621625384, 25.151536179484356, 23.675446704416448, 23.465437561903776, 22.001878797469253, 19.798305542283643, 19.758785753379684, 18.90746761461758, 18.153057875675547, 17.513904754383514, 16.90718217572169, 16.606881593919557, 16.45998290499809, 16.181909086039663, 15.970478182883696, 13.774271459146593, 13.714486744222533, 12.902560261680408, 12.789149990739718, 12.730011296065689, 12.605551770293308, 12.354156738590381, 12.32546947038371, 12.3094564523962, 12.21889901922267, 12.151851138993946, 567.1445356816383, 19.6296858124281, 55.09710351901234, 189.5766629020421, 161.69849198385833, 149.73080262295093, 56.70217012397182, 54.22434950231719, 51.03624062848243, 42.988505549070815, 39.54450993385684, 37.66371021413557, 36.6617796428554, 28.92164119157268, 28.322259992210636, 27.925698911532493, 25.763479143077845, 25.11144193208928, 23.940119823565215, 23.113682214712252, 22.474435530650386, 21.844733706327716, 21.81113263696935, 21.775573481844958, 21.775573378317045, 21.760090246670625, 21.754850917296586, 21.21657006546823, 20.81103631535209, 20.586404170871255, 20.354100854355263, 19.749745603751222, 19.567232836895098, 19.12135259317535, 155.05561680658877, 82.9842832883061, 79.53844776790574, 78.30267118756548, 78.1117423693784, 77.7415644094247, 78.25938597054844, 77.71339946463785, 62.180823580177524, 28.585365133329756, 26.853106469428358, 22.202651000743877, 21.188924485315745, 20.83541364156702, 18.49858465176344, 17.534653308036663, 17.405809138346463, 16.521508368614118, 15.300830067854328, 14.270298106431188, 13.850514891610672, 13.759864334300124, 12.668710420852445, 11.984929948968238, 11.843864613740838, 11.837501616926263, 11.507037642092746, 11.466952276174354, 11.123072742454665, 10.612073041621796, 80.06707368255606, 80.0808217416683, 80.50192147262347, 80.17286854685311, 80.21498379775618, 80.23024004954051, 80.23210779975523, 80.24026815497997, 80.24813898441171, 80.25863032845866, 80.63363305978395, 80.30214701452746, 80.3248530056379, 80.35163723575472, 80.36147583483951, 80.39140272279653, 80.40932675436441, 80.42447941698097, 80.4539560498075, 80.46468905700692, 80.48374480313838, 80.48678821143282], \"loglift\": [30.0, 29.0, 28.0, 27.0, 26.0, 25.0, 24.0, 23.0, 22.0, 21.0, 20.0, 19.0, 18.0, 17.0, 16.0, 15.0, 14.0, 13.0, 12.0, 11.0, 10.0, 9.0, 8.0, 7.0, 6.0, 5.0, 4.0, 3.0, 2.0, 1.0, 0.3877, 0.3877, 0.3876, 0.3876, 0.3875, 0.3875, 0.3875, 0.3875, 0.3875, 0.3875, 0.3874, 0.3874, 0.3874, 0.3874, 0.3874, 0.3873, 0.3873, 0.3873, 0.3873, 0.3873, 0.3873, 0.3873, 0.3872, 0.3872, 0.3872, 0.3871, 0.3871, 0.3871, 0.3871, 0.3871, 0.3824, 0.3866, 0.3869, 0.3868, 0.3854, 0.3856, 0.3836, 0.3781, 0.3866, 0.3843, 0.3845, 0.3861, 0.3869, 0.3655, 0.3806, 0.3635, 0.3262, 0.3645, 0.2978, 0.3611, 0.36, 0.3321, 0.3369, 0.3109, 0.3122, 0.0707, 3.0076, 3.007, 3.0064, 3.0055, 3.0052, 3.0047, 3.0042, 3.0041, 3.0037, 3.0021, 3.0019, 3.0016, 3.0014, 3.0013, 3.0013, 3.0009, 2.9998, 2.9997, 2.999, 2.9982, 2.9977, 2.9975, 2.997, 2.9964, 2.9957, 2.9957, 2.9955, 2.9953, 2.9951, 2.9947, 2.9685, 2.9737, 2.8843, 2.9601, 2.8327, 2.7733, 2.8009, 2.9248, 2.7465, 2.8472, 2.4689, 2.8851, 2.5612, 2.418, 2.4726, 2.2682, 2.2636, 2.1931, 2.8174, 2.6808, 1.6994, 2.3701, 2.2834, 2.3545, 2.4474, 2.0001, 1.8431, 2.2329, 1.7872, 2.0965, 1.4213, 0.9316, 1.7945, 1.0646, 1.434, 1.0727, 0.5645, 0.3487, 0.8052, 3.3912, 3.39, 3.3887, 3.3883, 3.3881, 3.3872, 3.3869, 3.3854, 3.3847, 3.3841, 3.3839, 3.3839, 3.3835, 3.3815, 3.3813, 3.3804, 3.3803, 3.3801, 3.3797, 3.3795, 3.3795, 3.3794, 3.3792, 3.379, 3.3787, 3.3787, 3.3783, 3.3779, 3.3772, 3.3763, 3.3389, 3.1324, 3.2924, 3.2467, 3.1676, 2.7491, 3.1252, 3.1097, 3.0744, 2.5473, 2.7311, 2.0066, 2.1615, 2.3232, 1.8993, 2.8641, 1.7707, 1.6853, 1.9567, 1.9306, 1.9744, 2.0471, 0.5755, 1.2143, 3.6084, 3.6075, 3.6064, 3.6051, 3.605, 3.605, 3.6042, 3.6018, 3.6015, 3.6011, 3.6, 3.5999, 3.5996, 3.5985, 3.5966, 3.5965, 3.5948, 3.5942, 3.5941, 3.5936, 3.593, 3.5926, 3.5924, 3.5921, 3.5911, 3.5903, 3.5903, 3.5888, 3.5883, 3.5867, 3.5786, 3.575, 3.5439, 3.5249, 3.517, 3.4885, 3.4374, 3.4, 3.3301, 3.3858, 3.1556, 3.2577, 3.0671, 3.2533, 3.1713, 3.0017, 3.3036, 3.3505, 2.9124, 2.32, 2.5117, 2.6203, 1.7106, 3.0235, 2.1961, 2.9063, 2.5547, 1.891, 3.7935, 3.7926, 3.7923, 3.7922, 3.792, 3.7915, 3.7909, 3.7906, 3.7897, 3.7894, 3.7884, 3.7881, 3.7875, 3.7864, 3.7859, 3.7854, 3.7854, 3.7853, 3.7846, 3.7825, 3.7823, 3.7822, 3.7807, 3.7801, 3.7794, 3.7779, 3.7775, 3.7766, 3.7765, 3.7761, 3.7745, 3.7037, 3.7008, 3.6445, 3.6376, 3.644, 3.5863, 3.5566, 3.2909, 2.9974, 3.0134, 2.9708, 2.2289, 2.3422, 3.5315, 3.2244, 2.0356, 2.0926, 2.6606, 1.0796, 1.5888, 3.8174, 3.8161, 3.8156, 3.815, 3.8145, 3.8144, 3.8143, 3.8141, 3.8132, 3.8114, 3.8113, 3.811, 3.8099, 3.808, 3.808, 3.8066, 3.8058, 3.8054, 3.8038, 3.8035, 3.8033, 3.8032, 3.8029, 3.8016, 3.8012, 3.8009, 3.8002, 3.8001, 3.8, 3.7994, 3.7497, 3.7144, 3.702, 3.6289, 3.7391, 3.7234, 3.5882, 3.4815, 3.3849, 3.3697, 3.125, 2.6415, 3.4264, 3.0996, 3.0569, 2.541, 3.3705, 2.8617, 2.5067, 2.1768, 2.0446, 2.4766, 2.9414, 3.9535, 3.9515, 3.9506, 3.9505, 3.9505, 3.9505, 3.9503, 3.9502, 3.9488, 3.9485, 3.9459, 3.9459, 3.9454, 3.9441, 3.944, 3.9412, 3.9406, 3.9401, 3.9359, 3.9358, 3.9354, 3.9353, 3.9347, 3.9343, 3.9335, 3.9335, 3.9313, 3.9309, 3.9294, 3.9293, 3.9168, 3.9201, 3.9073, 3.8597, 3.8337, 3.7498, 3.763, 3.7322, 3.5609, 3.0789, 2.7261, 2.8976, 3.3408, 3.3696, 3.4162, 3.0599, 2.3813, 2.283, 0.6626, 2.1747, 2.2619, 2.2564, 1.4125, 4.0003, 3.9994, 3.997, 3.997, 3.9968, 3.9967, 3.9964, 3.9963, 3.9963, 3.9952, 3.9919, 3.9906, 3.989, 3.9881, 3.9879, 3.9861, 3.9838, 3.9819, 3.981, 3.9805, 3.979, 3.9785, 3.9758, 3.9752, 3.9738, 3.9708, 3.9702, 3.9687, 3.9677, 3.9668, 3.8166, 3.919, 3.7807, 3.7164, 3.5355, 3.6702, 2.6207, 2.7774, 1.1794, 2.7287, 1.2647, 3.192, 2.8669, 1.6758, -0.6428, -1.3504, 4.0835, 4.0817, 4.0816, 4.0809, 4.0808, 4.0803, 4.0798, 4.0797, 4.0797, 4.0796, 4.0789, 4.0779, 4.0777, 4.077, 4.076, 4.0757, 4.0735, 4.0733, 4.0729, 4.0718, 4.0709, 4.0693, 4.068, 4.068, 4.0659, 4.065, 4.0639, 4.0637, 4.0634, 4.0601, 4.0327, 3.9666, 4.0236, 3.8565, 3.8391, 3.6973, 3.6666, 3.5324, 3.7003, 2.7303, 2.6153, 2.6451, 2.867, 0.4056, 1.9354, 2.0972, 4.217, 4.2159, 4.2157, 4.2156, 4.2154, 4.2154, 4.2154, 4.2147, 4.214, 4.2138, 4.2123, 4.2116, 4.211, 4.2106, 4.2106, 4.2099, 4.2083, 4.2082, 4.2056, 4.2054, 4.2048, 4.2046, 4.203, 4.2024, 4.2012, 4.1998, 4.1998, 4.1996, 4.1995, 4.1973, 4.1674, 4.1857, 3.9703, 4.1496, 3.9443, 3.583, 3.2365, 3.2003, 3.744, 3.7363, 2.7176, 3.0841, 3.3134, 2.4539, 1.4917, 2.4149, 3.2069, 4.2639, 4.2638, 4.2638, 4.2632, 4.2609, 4.2583, 4.2575, 4.257, 4.2559, 4.2544, 4.2543, 4.2541, 4.2526, 4.251, 4.25, 4.2498, 4.2477, 4.2477, 4.2476, 4.2471, 4.2422, 4.2412, 4.2407, 4.2393, 4.2392, 4.2378, 4.2377, 4.2371, 4.2369, 4.2366, 4.2022, 4.0122, 3.7184, 3.4219, 3.656, 3.8072, 3.3063, 3.3641, 3.2094, 3.0988, 3.348, 2.469, 3.0776, 2.4142, 2.2698, 1.5216, 2.3408, 4.2978, 4.2959, 4.2945, 4.2927, 4.2921, 4.2913, 4.2896, 4.2877, 4.2873, 4.2866, 4.2861, 4.2859, 4.2849, 4.2834, 4.2828, 4.2827, 4.2823, 4.2817, 4.2808, 4.2807, 4.2797, 4.2793, 4.2793, 4.279, 4.278, 4.2775, 4.2768, 4.2758, 4.2756, 4.2754, 4.1364, 3.1446, 4.0342, 3.7525, 3.2919, 2.46, 3.6057, 3.4843, 3.8887, 3.0458, -0.0993, 2.312, 4.3756, 4.3741, 4.3717, 4.3717, 4.3716, 4.3711, 4.3663, 4.366, 4.3625, 4.3616, 4.3613, 4.3598, 4.3577, 4.3572, 4.3558, 4.3555, 4.3525, 4.3521, 4.3508, 4.3489, 4.3463, 4.3458, 4.3446, 4.3442, 4.3431, 4.3414, 4.3387, 4.3379, 4.3362, 4.3353, 4.3333, 4.2426, 4.1945, 3.7228, 4.2025, 4.2105, 2.654, 2.7458, 2.7142, 0.4871, 0.8542, 2.5038, 2.107, 4.4347, 4.4345, 4.4343, 4.433, 4.4328, 4.4326, 4.4312, 4.43, 4.4254, 4.4241, 4.4203, 4.418, 4.4172, 4.4163, 4.4154, 4.4153, 4.4142, 4.4133, 4.4132, 4.4122, 4.412, 4.411, 4.4107, 4.4099, 4.4096, 4.4092, 4.4082, 4.4067, 4.4062, 4.4055, 4.4001, 4.3291, 3.8403, 3.925, 3.9403, 3.6866, 3.7, 4.102, 3.2647, 3.9838, 3.3357, 4.189, 3.6677, 2.7388, 1.8491, 3.188, 3.4617, 2.3968, 4.607, 4.607, 4.6067, 4.6067, 4.6066, 4.6066, 4.6066, 4.6065, 4.6064, 4.6058, 4.6056, 4.597, 4.5937, 4.5924, 4.5914, 4.5911, 4.5905, 4.5882, 4.5879, 4.5875, 4.5863, 4.584, 4.5837, 4.5832, 4.583, 4.5804, 4.5799, 4.5791, 4.5784, 4.5774, 4.3644, 4.31, 4.2055, 4.2802, 3.924, 3.2843, -0.4666, 1.7587, 3.7534, 4.8103, 4.8101, 4.8089, 4.8044, 4.8021, 4.7984, 4.7983, 4.798, 4.7963, 4.7951, 4.7947, 4.7945, 4.793, 4.7914, 4.7903, 4.7886, 4.7884, 4.7881, 4.7875, 4.7873, 4.7863, 4.7848, 4.7794, 4.7789, 4.7787, 4.7756, 4.775, 4.7745, 4.7744, 4.774, 4.729, 4.6876, 4.7466, 3.4091, 4.0355, 1.6329, 1.0283, 4.8822, 4.8814, 4.8808, 4.8806, 4.8804, 4.879, 4.8761, 4.8728, 4.8724, 4.8702, 4.8654, 4.8629, 4.8615, 4.8603, 4.8591, 4.859, 4.8585, 4.856, 4.8542, 4.8542, 4.8542, 4.8529, 4.8501, 4.85, 4.85, 4.8498, 4.8487, 4.8469, 4.8462, 4.8443, 3.3905, 2.4472, 3.5643, 1.661, 4.9493, 4.9492, 4.9372, 4.9348, 4.9265, 4.924, 4.9221, 4.9218, 4.9195, 4.9155, 4.9155, 4.9137, 4.9119, 4.9103, 4.9087, 4.9078, 4.9074, 4.9066, 4.9059, 4.8979, 4.8975, 4.894, 4.8934, 4.8931, 4.8925, 4.8912, 4.8911, 4.891, 4.8905, 4.8901, 4.0484, 4.7862, 3.6536, 2.3517, 4.9611, 4.9607, 4.9524, 4.9517, 4.9509, 4.948, 4.9465, 4.9455, 4.9449, 4.9393, 4.9387, 4.9383, 4.936, 4.9352, 4.9337, 4.9325, 4.9315, 4.9305, 4.9305, 4.9304, 4.9304, 4.9304, 4.9304, 4.9295, 4.9287, 4.9283, 4.9279, 4.9267, 4.9263, 4.9254, 4.9957, 4.9911, 4.991, 4.9908, 4.9908, 4.9907, 4.9907, 4.9903, 4.9882, 4.9732, 4.9714, 4.9652, 4.9634, 4.9628, 4.9579, 4.9555, 4.9551, 4.9526, 4.9487, 4.9448, 4.9431, 4.9427, 4.9375, 4.9338, 4.933, 4.9329, 4.9309, 4.9307, 4.9284, 4.9248, 4.8647, 4.8643, 4.8606, 4.8603, 4.8585, 4.858, 4.858, 4.8577, 4.8572, 4.8569, 4.8557, 4.8551, 4.8541, 4.8529, 4.8526, 4.8514, 4.8507, 4.8501, 4.8488, 4.8484, 4.8477, 4.8474], \"logprob\": [30.0, 29.0, 28.0, 27.0, 26.0, 25.0, 24.0, 23.0, 22.0, 21.0, 20.0, 19.0, 18.0, 17.0, 16.0, 15.0, 14.0, 13.0, 12.0, 11.0, 10.0, 9.0, 8.0, 7.0, 6.0, 5.0, 4.0, 3.0, 2.0, 1.0, -4.4819, -5.1173, -4.9299, -5.2114, -5.5713, -5.472, -5.5918, -5.5957, -5.0274, -5.3049, -5.7507, -4.9382, -5.8182, -5.9114, -5.8825, -5.3712, -6.1336, -6.1423, -6.1542, -6.1447, -6.1716, -6.2291, -6.1044, -6.3288, -6.0002, -6.3946, -6.3958, -6.4187, -6.4307, -6.4059, -4.0348, -4.5363, -4.8856, -4.9007, -4.9, -5.161, -5.0695, -4.6399, -5.4963, -5.3526, -5.3927, -5.7995, -6.0118, -4.5686, -5.6662, -4.919, -4.0399, -5.2499, -4.0061, -5.3354, -5.32, -5.2797, -5.314, -5.3359, -5.406, -5.3528, -5.2756, -5.4568, -5.5929, -5.7675, -5.8334, -5.9124, -5.9876, -6.0085, -6.0152, -6.2644, -6.2868, -6.3124, -6.3322, -6.3479, -6.3485, -6.387, -6.491, -6.4968, -6.5595, -6.6266, -6.662, -6.6818, -6.718, -6.7577, -6.8037, -6.6224, -6.822, -6.8322, -6.8424, -6.867, -6.0724, -6.3503, -4.7955, -6.2762, -4.6059, -4.3071, -4.6781, -5.9762, -5.0607, -5.6883, -3.8659, -6.0381, -5.0615, -4.6915, -4.8692, -4.3877, -4.5061, -4.5183, -5.9272, -5.6661, -3.7241, -5.1377, -4.9846, -5.2444, -5.4074, -4.8399, -5.072, -5.4362, -5.1141, -5.3509, -5.1857, -5.1024, -5.4327, -5.2662, -5.3749, -5.3177, -5.2753, -5.3695, -5.4271, -4.5485, -4.9772, -5.2861, -5.3666, -5.3929, -5.5458, -5.5974, -5.7907, -5.8758, -5.9407, -5.9633, -5.1175, -6.0032, -6.1868, -6.203, -6.2762, -6.2792, -6.3008, -6.3271, -6.3397, -6.3438, -6.3496, -5.3149, -6.375, -6.3948, -6.3957, -6.4252, -6.4475, -6.4934, -6.5475, -5.5642, -1.5756, -5.9367, -5.6959, -5.4284, -4.0726, -5.4904, -5.466, -5.3711, -4.0713, -5.3216, -4.5348, -4.7935, -5.1723, -4.8529, -5.7824, -5.217, -5.1794, -5.4071, -5.5006, -5.5419, -5.584, -5.3073, -5.6237, -4.2516, -4.5947, -4.8916, -5.1732, -5.1854, -5.1914, -5.3223, -5.3767, -5.1001, -5.7143, -5.8217, -5.1053, -5.8624, -5.959, -6.1041, -6.1085, -6.2276, -6.2619, -6.2682, -6.3005, -6.3338, -6.3567, -6.3681, -6.3854, -6.439, -6.4773, -5.073, -6.5484, -6.5746, -6.6109, -5.0081, -5.1943, -4.1499, -5.2032, -5.1999, -4.927, -5.0679, -5.1064, -4.7493, -5.11, -3.868, -4.4398, -3.7737, -4.6634, -4.3498, -3.994, -5.1319, -5.2487, -4.545, -3.768, -4.5237, -4.6339, -4.5421, -5.0728, -4.8701, -5.0582, -5.0921, -5.1144, -4.3244, -4.5902, -4.6731, -4.713, -4.7484, -4.8576, -4.9709, -5.025, -5.1857, -5.2299, -5.3512, -5.3951, -5.4619, -5.5786, -5.4099, -5.6775, -5.6793, -5.6889, -5.7518, -5.9144, -5.9309, -5.9347, -6.0397, -6.0743, -6.1208, -6.2035, -6.229, -6.2731, -6.2762, -6.2991, -4.7478, -4.6848, -4.6434, -4.6685, -4.8485, -5.3822, -5.1472, -5.0684, -4.4218, -3.7897, -4.192, -4.9662, -4.3478, -4.6535, -5.5058, -5.3412, -4.9045, -4.9315, -5.1609, -5.176, -5.2513, -3.6761, -4.3144, -4.4922, -4.6379, -4.7713, -4.79, -4.8004, -4.8559, -5.0134, -5.2827, -5.2991, -5.3457, -5.4706, -5.6623, -5.6626, -5.7768, -5.8441, -5.8752, -5.9845, -4.6671, -6.0141, -6.0242, -6.0437, -6.1201, -6.1412, -6.1617, -6.1974, -6.2043, -6.2098, -6.2385, -4.6766, -4.8354, -4.9121, -4.3947, -5.7316, -5.6357, -4.8424, -4.3262, -4.4833, -4.6327, -3.9666, -3.2265, -5.0846, -5.0335, -4.9876, -4.657, -5.3922, -5.1672, -5.0347, -4.9728, -5.0216, -5.1647, -5.2371, -4.1849, -4.7893, -4.9555, -4.9624, -4.9671, -4.9702, -5.003, -5.0176, -5.2053, -5.2374, -5.5089, -5.5112, -2.8615, -5.6544, -5.6693, -5.8653, -5.9068, -4.9776, -6.163, -6.1676, -6.1867, -6.1875, -3.5389, -6.2368, -6.2708, -6.2712, -6.3609, -6.3777, -6.4338, -6.4368, -3.8797, -5.3556, -4.7676, -4.8954, -4.972, -4.749, -5.1559, -5.1652, -4.8437, -3.9613, -3.3353, -4.0527, -4.8842, -4.9525, -5.0301, -4.6783, -4.0722, -4.3954, -3.6413, -4.7144, -4.894, -4.9029, -4.8591, -2.4938, -3.4767, -4.4322, -4.4407, -4.4698, -1.6963, -4.582, -4.5845, -4.6036, -4.8202, -5.2727, -5.3959, -5.558, -5.6308, -5.6417, -5.7734, -5.9219, -6.0265, -6.0768, -6.1011, -6.1654, -6.1932, -6.3117, -6.3338, -6.3877, -6.494, -6.5148, -6.5623, -6.5948, -6.6216, -3.7457, -5.9725, -4.5482, -4.9718, -4.0648, -5.6639, -3.8116, -4.3474, -3.1868, -5.1212, -4.3822, -5.6867, -5.7072, -5.7307, -5.6608, -5.7676, -3.6411, -4.3021, -4.3095, -4.2775, -4.5127, -4.611, -4.7086, -4.7142, -4.7187, -4.7389, -4.7133, -5.0019, -5.0286, -5.1063, -5.2255, -5.2568, -5.1602, -5.4759, -5.5111, -5.595, -4.5398, -5.768, -5.8445, -5.8479, -5.9594, -6.0037, -6.0574, -6.0662, -6.0831, -6.2233, -4.4527, -2.8086, -4.6681, -4.3896, -4.4847, -3.9113, -4.2714, -3.9728, -5.145, -4.3975, -4.3549, -4.424, -4.7388, -3.8984, -4.9045, -5.0518, -4.0885, -4.3751, -4.4207, -4.4261, -4.4585, -4.4749, -4.4783, -4.6042, -4.7221, -4.7494, -4.9595, -5.0376, -5.1049, -5.142, -5.1374, -5.2154, -5.3594, -5.3607, -5.5608, -5.5685, -5.6087, -5.626, -5.7234, -5.7525, -5.8203, -5.8882, -5.8926, -5.9013, -4.4731, -6.0077, -4.8242, -5.4898, -4.5392, -5.7026, -5.2436, -4.6356, -4.0295, -4.0698, -5.0035, -5.1185, -4.1695, -4.5681, -4.8906, -4.529, -4.8987, -5.1694, -5.2077, -4.2273, -4.2506, -4.2626, -4.3893, -4.7807, -5.0907, -5.1645, -5.2129, -5.3108, -5.429, -4.2963, -5.4507, -5.5535, -5.6524, -5.7106, -5.7226, -5.8283, -5.8317, -5.8355, -5.857, -6.0702, -6.1107, -6.1283, -6.18, -6.1832, -6.2328, -6.2348, -6.2552, -6.2499, -6.2696, -4.721, -4.4073, -2.8899, -3.1509, -4.372, -4.9337, -3.7158, -4.4906, -4.4639, -4.4113, -4.9987, -4.723, -5.1323, -4.8726, -5.442, -5.4287, -5.5793, -2.9825, -3.9118, -4.288, -4.6194, -4.7151, -4.8232, -5.0233, -5.2098, -5.2315, -5.3011, -5.3426, -5.36, -5.4327, -5.5351, -5.5718, -5.5782, -5.6026, -5.6373, -5.6867, -5.6952, -5.7497, -4.2162, -5.7687, -5.7812, -5.8341, -5.8584, -5.8889, -5.9333, -5.9418, -5.9497, -4.7964, -3.1811, -5.5545, -5.1905, -4.6958, -3.8062, -5.1684, -5.1073, -5.4697, -5.1783, -5.0333, -5.5178, -2.1301, -1.2767, -4.1957, -4.2061, -4.2182, -4.3312, -4.9941, -5.0272, -5.3185, -5.385, -5.4014, -5.5026, -5.6249, -5.6519, -5.7207, -5.7378, -5.8729, -5.8905, -5.9435, -6.0175, -6.1067, -6.1083, -6.1638, -6.1776, -6.2117, -6.2629, -6.3393, -6.3593, -6.4046, -6.4282, -3.5425, -4.2982, -5.4608, -3.7367, -5.9223, -5.9905, -5.1833, -5.617, -5.6603, -5.1274, -5.3985, -5.8349, -5.8607, -3.8675, -3.9467, -3.9954, -4.2792, -4.3095, -4.351, -4.5752, -4.5489, -5.1876, -4.2554, -5.5248, -5.6452, -5.6868, -5.7303, -5.7706, -5.7749, -5.8226, -5.8594, -5.8632, -5.9027, -5.9106, -5.9462, -5.8659, -5.9864, -5.9992, -6.0136, -4.1264, -6.096, -6.1139, -6.134, -5.5252, -5.2852, -3.1651, -3.6808, -4.317, -3.996, -4.1954, -5.3572, -4.2315, -5.3352, -4.6931, -5.6539, -5.4148, -4.9571, -4.938, -5.4105, -5.5814, -5.6057, -4.2711, -4.2749, -4.3293, -4.324, -4.3386, -4.3414, -4.343, -4.2875, -4.3439, -4.1816, -4.329, -5.2436, -4.28, -5.4931, -5.542, -5.5555, -5.5793, -5.6803, -5.6928, -5.7077, -5.7542, -5.8379, -5.8472, -5.8651, -5.8691, -5.9535, -5.9702, -4.3653, -6.0135, -6.0422, -3.2331, -4.3782, -4.1884, -4.6113, -5.3593, -5.2504, -4.7706, -5.3384, -5.7134, -3.8807, -3.9152, -4.1214, -4.6543, -4.8484, -5.095, -5.1015, -5.1163, -5.2145, -5.2751, -5.2945, -5.3049, -5.3728, -5.445, -5.4887, -5.5579, -5.5647, -5.5717, -5.5984, -5.6043, -5.6384, -5.69, -5.8558, -5.8685, -5.8765, -5.9593, -5.9734, -5.987, -5.9886, -5.9982, -4.2681, -4.0036, -5.4424, -4.8043, -5.5232, -5.4314, -5.7488, -3.5285, -3.7224, -3.8297, -3.8702, -3.9123, -4.1372, -4.4757, -4.7726, -4.7979, -4.95, -5.2207, -5.3334, -5.3938, -5.4444, -5.4904, -5.493, -5.5132, -5.6001, -5.658, -5.6594, -5.6596, -5.699, -5.7832, -5.7835, -5.786, -5.7914, -5.8212, -5.869, -5.8885, -5.9343, -4.9481, -5.2762, -5.6006, -5.4052, -3.7939, -3.8096, -4.9802, -5.1096, -5.4637, -5.5519, -5.6143, -5.6235, -5.6901, -5.7996, -5.8017, -5.8476, -5.89, -5.9275, -5.9643, -5.9831, -5.9924, -6.0103, -6.0241, -6.18, -6.1848, -6.2494, -6.2587, -6.2637, -6.2741, -6.2956, -6.298, -6.2994, -6.3073, -6.3132, -3.3118, -5.9375, -6.038, -6.1043, -3.6539, -3.7312, -4.7106, -4.7559, -4.8174, -4.9918, -5.0769, -5.1266, -5.1541, -5.3969, -5.4184, -5.4329, -5.5159, -5.5423, -5.5916, -5.6279, -5.6569, -5.6863, -5.6879, -5.6896, -5.6896, -5.6903, -5.6906, -5.7165, -5.7366, -5.7478, -5.7596, -5.7909, -5.8006, -5.8246, -3.6613, -4.291, -4.3336, -4.3494, -4.3519, -4.3567, -4.3501, -4.3574, -4.5825, -5.3747, -5.439, -5.6354, -5.6839, -5.7013, -5.8252, -5.8811, -5.8888, -5.9435, -6.0242, -6.0978, -6.1294, -6.1363, -6.2241, -6.2833, -6.296, -6.2966, -6.3269, -6.3306, -6.3633, -6.414, -4.4533, -4.4535, -4.4519, -4.4563, -4.4576, -4.4579, -4.4579, -4.4581, -4.4584, -4.4587, -4.4552, -4.4599, -4.4606, -4.4614, -4.4617, -4.4624, -4.4629, -4.4634, -4.4643, -4.4646, -4.465, -4.4653]}, \"token.table\": {\"Topic\": [6, 15, 20, 13, 16, 19, 12, 12, 17, 19, 18, 1, 7, 9, 11, 1, 2, 3, 4, 5, 8, 7, 1, 3, 7, 1, 15, 14, 7, 1, 2, 18, 16, 19, 1, 3, 10, 10, 10, 11, 18, 8, 8, 17, 1, 3, 10, 13, 1, 7, 10, 18, 2, 1, 11, 19, 1, 2, 3, 19, 1, 3, 8, 1, 11, 1, 18, 13, 15, 20, 3, 5, 1, 2, 4, 6, 7, 19, 7, 6, 7, 1, 15, 1, 3, 5, 1, 4, 10, 1, 10, 20, 18, 13, 15, 20, 1, 3, 11, 1, 12, 1, 2, 3, 4, 5, 6, 7, 5, 1, 2, 6, 6, 1, 9, 3, 8, 14, 19, 1, 3, 1, 2, 4, 5, 7, 14, 17, 6, 15, 20, 2, 6, 15, 20, 1, 2, 3, 10, 15, 4, 1, 12, 14, 1, 5, 10, 1, 7, 10, 12, 1, 4, 10, 18, 9, 7, 13, 1, 3, 7, 14, 10, 1, 2, 3, 5, 12, 14, 3, 6, 1, 4, 5, 7, 9, 15, 20, 13, 6, 2, 11, 9, 3, 4, 1, 4, 13, 5, 1, 4, 16, 1, 4, 8, 1, 3, 5, 7, 13, 1, 7, 1, 3, 6, 3, 19, 12, 11, 6, 4, 5, 7, 5, 1, 2, 3, 5, 3, 12, 6, 7, 5, 12, 4, 4, 1, 3, 2, 10, 12, 7, 17, 9, 1, 2, 6, 8, 5, 6, 14, 10, 19, 5, 11, 9, 11, 1, 7, 6, 10, 9, 1, 5, 1, 10, 1, 5, 14, 15, 19, 1, 2, 2, 6, 8, 16, 18, 2, 15, 1, 2, 6, 14, 1, 2, 4, 3, 18, 1, 14, 17, 5, 13, 1, 13, 3, 1, 8, 14, 2, 5, 4, 6, 16, 19, 5, 6, 4, 8, 12, 11, 16, 1, 12, 15, 20, 12, 9, 15, 10, 18, 1, 2, 9, 1, 7, 9, 1, 4, 13, 20, 4, 13, 17, 4, 1, 2, 2, 11, 2, 10, 1, 2, 8, 1, 2, 4, 5, 7, 8, 15, 1, 2, 3, 4, 8, 9, 9, 8, 2, 16, 18, 10, 9, 1, 3, 4, 8, 2, 20, 1, 12, 7, 1, 1, 3, 8, 1, 2, 4, 5, 11, 13, 20, 1, 2, 3, 4, 1, 4, 9, 1, 8, 12, 1, 3, 8, 17, 17, 20, 14, 5, 20, 1, 2, 9, 1, 2, 3, 10, 1, 7, 15, 1, 4, 14, 12, 18, 14, 12, 1, 15, 1, 5, 1, 2, 3, 5, 10, 1, 7, 17, 1, 2, 4, 13, 2, 11, 2, 11, 14, 3, 11, 14, 20, 1, 4, 11, 11, 20, 16, 13, 6, 1, 10, 1, 2, 6, 1, 2, 3, 4, 1, 3, 4, 6, 7, 10, 4, 5, 14, 1, 3, 17, 1, 10, 13, 2, 11, 15, 7, 17, 1, 4, 2, 7, 1, 3, 1, 7, 12, 1, 3, 4, 9, 3, 10, 16, 9, 19, 19, 6, 6, 10, 20, 3, 1, 6, 17, 5, 13, 8, 2, 2, 1, 12, 6, 1, 6, 14, 1, 15, 5, 16, 1, 4, 6, 9, 20, 1, 11, 10, 1, 10, 18, 9, 16, 1, 14, 19, 12, 1, 2, 1, 18, 4, 15, 1, 11, 1, 2, 20, 9, 11, 1, 4, 13, 12, 7, 13, 14, 1, 1, 4, 12, 18, 9, 1, 4, 12, 1, 5, 7, 8, 12, 1, 2, 3, 1, 9, 1, 3, 4, 5, 7, 8, 9, 11, 12, 13, 1, 9, 15, 18, 3, 17, 6, 1, 2, 4, 11, 1, 4, 5, 7, 14, 2, 6, 14, 15, 11, 6, 4, 10, 18, 1, 4, 6, 11, 6, 1, 11, 18, 1, 2, 3, 9, 1, 2, 13, 10, 18, 18, 5, 1, 3, 9, 8, 16, 6, 10, 13, 1, 1, 2, 3, 4, 6, 17, 1, 2, 2, 8, 1, 7, 1, 11, 5, 4, 1, 5, 6, 7, 10, 11, 13, 13, 1, 2, 4, 5, 7, 9, 1, 13, 17, 20, 1, 2, 3, 6, 2, 12, 3, 8, 4, 5, 1, 2, 4, 8, 3, 15, 1, 15, 3, 4, 12, 4, 1, 2, 7, 1, 2, 6, 16, 3, 10, 4, 19, 4, 16, 7, 16, 3, 6, 4, 8, 5, 8, 12, 11, 9, 1, 5, 17, 1, 7, 10, 7, 18, 10, 7, 5, 1, 2, 10, 1, 13, 6, 8, 4, 11, 12, 6, 10, 17, 1, 3, 8, 4, 4, 4, 15, 17, 16, 19, 1, 14, 16, 15, 1, 3, 11, 1, 4, 5, 6, 7, 1, 3, 4, 7, 7, 12, 1, 2, 3, 7, 9, 1, 2, 6, 1, 2, 1, 8, 11, 7, 8, 8, 12, 19, 1, 2, 11, 16, 2, 1, 3, 4, 16, 1, 6, 1, 2, 6, 1, 2, 3, 18, 1, 2, 1, 11, 17, 17, 1, 2, 3, 1, 2, 5, 1, 2, 3, 4, 5, 6, 7, 9, 10, 11, 13, 14, 15, 6, 4, 1, 2, 5, 8, 6, 17, 1, 2, 3, 6, 7, 9, 1, 4, 5, 13, 14, 15, 20, 1, 10, 20, 1, 2, 5, 17, 1, 2, 4, 13, 19, 1, 2, 12, 1, 2, 3, 1, 2, 7, 8, 3, 1, 2, 5, 11, 6, 7, 9, 15, 5, 19, 14, 19, 1, 7, 18, 19, 1, 9, 1, 9, 3, 14, 1, 2, 3, 4, 5, 6, 8, 9, 13, 10, 5, 6, 11, 3, 16, 1, 20, 12, 15, 12, 1, 12, 15, 15, 10, 18, 9, 14, 10, 14, 15, 15, 20, 1, 1, 3, 13, 18, 9, 1, 4, 11, 1, 4, 14, 1, 2, 5, 10, 11, 17, 15, 20, 1, 2, 3, 4, 18, 2, 15, 20, 7, 16, 1, 3, 8, 4, 8, 1, 3, 6, 13, 5, 12, 1, 2, 7, 9, 9, 9, 1, 2, 3, 4, 2, 7, 16, 5, 1, 6, 14, 4, 2, 14, 10, 8, 13, 6, 19, 19, 12, 1, 6, 1, 2, 3, 4, 5, 8, 8, 7, 8, 6, 13, 20, 19, 1, 4, 18, 15, 20, 4, 1, 4, 13, 8, 1, 4, 6, 10, 11, 1, 7, 14, 1, 8, 9, 9, 18, 1, 14, 11, 1, 7, 9, 5, 2, 3, 11, 1, 3, 5, 16, 15, 20, 18, 8, 17, 5, 9, 1, 9, 4, 5, 1, 7, 9, 10, 2, 1, 2, 12, 13, 2, 4, 1, 3, 4, 7, 18, 20, 20, 1, 8, 13, 13, 7, 17, 15, 20, 20, 1, 4, 15, 20, 16, 9, 14, 1, 2, 1, 17, 11, 8, 20, 3, 7, 16, 6, 10, 1, 2, 17, 9, 7, 7, 1, 9, 1, 15, 1, 2, 4, 5, 6, 7, 17, 20, 18, 5, 4, 15, 2, 11, 15, 19, 1, 4, 9, 4, 1, 2, 3, 13, 7, 1, 2, 4, 1, 3, 7, 1, 3, 5, 7, 8, 13, 1, 5, 6, 20, 1, 8, 10, 1, 2, 16, 14, 1, 2, 4, 9, 1, 2, 5, 20, 1, 11, 20, 1, 2, 3, 4, 5, 15, 12, 1, 2, 4, 1, 3, 11, 3, 12, 15, 9, 1, 2, 4, 14, 2, 16, 12, 3, 13, 1, 5, 10, 2, 15, 20, 18, 1, 13, 3, 1, 14, 15, 1, 7, 11, 15, 12, 16, 1, 6, 4, 20, 1, 4, 3, 6, 14, 1, 3, 4, 7, 5, 3, 11, 15, 20, 1, 2, 5, 15, 1, 5, 1, 14, 12, 1, 10, 11, 1, 4, 6, 9, 15, 8, 1, 10, 1, 2, 3, 11, 4, 1, 2, 4, 18, 1, 5, 3, 1, 6, 19, 1, 6, 16, 1, 5, 10, 15, 4, 7, 5, 17, 2, 2, 3, 3, 11, 14, 15, 20, 1, 7, 6, 1, 4, 16, 10, 1, 2, 4, 8, 16, 1, 2, 3, 4, 12, 1, 11, 1, 5, 14, 3, 1, 7, 14, 14, 17, 13, 6, 1, 6, 1, 2, 10, 9, 16, 17, 2, 5, 1, 2, 4, 6, 20, 10, 1, 4, 8, 11, 9, 14, 7, 6, 19, 1, 7, 14, 15, 20, 1, 14, 1, 3, 8, 4, 10, 1, 7, 1, 3, 1, 1, 1, 5, 14, 1, 2, 4, 6, 8, 4, 6, 2, 13, 5, 8, 6, 20, 1, 2, 3, 1, 11, 1, 4, 7, 14, 1, 3, 4, 2, 9, 1, 2, 4, 6, 3, 1, 2, 5, 8, 7, 11, 1, 5, 12, 4, 5, 16, 15, 20, 14, 1, 7, 1, 1, 1, 2, 3, 5, 16, 5, 19, 14, 20, 10, 4, 17, 16, 16, 3, 1, 13, 15, 1, 5, 1, 4, 8, 15, 19, 12, 15, 20, 8, 13, 1, 16, 11, 15, 1, 1, 2, 1, 8, 1, 8, 1, 1, 2, 3, 12, 15, 15, 1, 3, 4, 10, 1, 4, 12, 1, 2, 8, 15, 1, 4, 3, 16, 17, 1, 5, 14, 1, 3, 3, 1, 2, 4, 5, 14, 15, 20, 9, 1, 13, 17, 14, 1, 8, 16, 1, 2, 3, 14, 4, 14, 15, 2, 1, 2, 1, 12, 7, 7, 1, 2, 1, 10, 10, 13, 10, 19, 1, 3, 20, 18, 12, 1, 13, 7, 1, 4, 1, 8, 1, 19, 4, 5, 8, 10, 15, 15, 20, 15, 20], \"Freq\": [0.9729023457973514, 0.1246383807459999, 0.8724686652219993, 0.9710407088473995, 0.9914720923500419, 0.98761652115895, 0.9883964303838852, 0.9825369696440699, 0.997227949942416, 0.9788899912523562, 0.970657328471831, 0.395703948826129, 0.0016626216337232312, 0.025770635322710084, 0.5769297069019612, 0.4250063286135702, 0.1936914087779877, 0.048771218037622806, 0.0013934633725035089, 0.03623004768509123, 0.29402077159824036, 0.995824762647805, 0.8135805169285583, 0.0014374214080009862, 0.18398994022412624, 0.9992435590236807, 0.9823810495726143, 0.9737504525280437, 0.9943633761336509, 0.1484940688595967, 0.8509852407723042, 0.938295352598795, 0.9944393990290469, 0.9681331641773763, 0.38289537615550895, 0.5871062434384471, 0.025526358410367263, 0.9847060795620882, 0.9761205445068762, 0.01310228918801176, 0.9735937465777051, 0.9969561346858589, 0.9917186159706874, 0.9933705568834285, 0.7672264890556786, 0.0028415795890951055, 0.0483068530146168, 0.17901951411299166, 0.01975006780418642, 0.9776283563072278, 0.9969078203865415, 0.9520048039687765, 0.9928421446744277, 0.9997801947988975, 0.9700461120063945, 0.9951192232316337, 0.7280941771415598, 0.2694761968470857, 0.0022880054449280858, 0.9710110856438756, 0.9287800927374988, 0.059557822237933204, 0.011267696099068443, 0.6929187979286967, 0.30521423242097356, 0.9994445529646732, 0.9801649740953726, 0.9876946069948328, 0.12459719234025017, 0.8721803463817512, 0.9880467479343064, 0.005519814234269868, 0.20623928713965142, 0.006991162275920388, 0.07340720389716407, 0.468407872486666, 0.24469067965721356, 0.9703658368950151, 0.9673159414403718, 0.1676099733174795, 0.8212888692556496, 0.49464887032043414, 0.5067134769136155, 0.7666210680871381, 0.230932766189212, 0.9968964505839728, 0.22547946927302168, 0.3689664042649446, 0.4017634179773841, 0.3772486571937205, 0.6130290679397958, 0.9458329998204456, 0.9912081507789204, 0.9733309097329524, 0.1244944699655798, 0.8590118427625005, 0.8185614622872, 0.18154447129466772, 0.9954619256752564, 0.9979685152517025, 0.0016342279179885958, 0.6876193562000567, 0.004859500750530436, 0.19680978039648264, 0.009719001501060871, 0.026727254127917394, 0.05223963306820218, 0.019438003002121743, 0.9895754635509292, 0.2455026561854949, 0.04137685216609465, 0.7144403140679009, 0.9992686742777047, 0.31141262987516405, 0.6773224699784818, 0.21956883439150257, 0.7518569177648422, 0.02661440416866698, 0.9643833269194227, 0.20023443777347516, 0.7948700408583408, 0.3737753029188428, 0.030816580825755658, 0.02186983155376208, 0.4493256301045664, 0.047715996117299084, 0.07555032718572355, 0.967238688746657, 0.9981500954250447, 0.1123864591329118, 0.8741169043670919, 0.32325637239714416, 0.6743796734492146, 0.12436368271740599, 0.8581094107501013, 0.63143046369019, 0.07172673796108303, 0.2916103444975179, 0.0023516963265928863, 0.0023516963265928863, 0.9890201873713209, 0.3605512600169424, 0.5751651052651224, 0.0600918766694904, 0.7967972897756241, 0.031436615378097464, 0.17048318339660548, 0.32476054559152645, 0.014120023721370714, 0.6212810437403115, 0.035300059303426785, 0.828161006722251, 0.03164946522505418, 0.06329893045010836, 0.07384875219179309, 0.9724203467656014, 0.9776588139429137, 0.9615369243511059, 0.12871948189733834, 0.8667111781087449, 0.9904486490061466, 0.99702233905718, 0.9801231893099838, 0.5179723200907128, 0.012556904729471826, 0.02511380945894365, 0.4394916655315139, 0.006278452364735913, 0.9770578394967614, 0.3584384998176527, 0.6380205296754218, 0.5326765799085299, 0.005121890191428172, 0.04225559407928242, 0.416153578053539, 0.002560945095714086, 0.12466498809265765, 0.8726549166486035, 0.9845344281945914, 0.9960931918242759, 0.9843912898940023, 0.9930723808480671, 0.9791082206276721, 0.948638291706112, 0.049494171741188454, 0.0067675965379559505, 0.9880690945415688, 0.9950582256237775, 0.9930468349416368, 0.6001462696926767, 0.15314077226640715, 0.24419744766805465, 0.8754009255808168, 0.024008886144621558, 0.09788238197422636, 0.26759367956878183, 0.07381894608793982, 0.004613684130496239, 0.5536420956595486, 0.096887366740421, 0.11225615785399282, 0.8830817751180768, 0.20215877565079043, 0.755122485519129, 0.041620924398692145, 0.9851865233685738, 0.9668513610182123, 0.9924810214445251, 0.9886796171468747, 0.9939509646024147, 0.08396328694641472, 0.8582913776744615, 0.04664627052578595, 0.9947532842688073, 0.4690925626879346, 0.44144467097744733, 0.0875516570832098, 0.0009215963903495769, 0.9841970682167689, 0.990089151261981, 0.03818634718686002, 0.9601138721267664, 0.9955634784054924, 0.9744356970015453, 0.9986041608784498, 0.9928580447676543, 0.9977555620625543, 0.0020127633816823865, 0.9911821764528184, 0.9974968965534632, 0.9941751623720962, 0.9817574126455786, 0.9810504777550383, 0.9881342153142242, 0.47908335296482013, 0.5193800835880293, 0.002238707256844954, 0.9898488073748314, 0.9952703173635776, 0.8979953204195729, 0.09269629114008494, 0.9852244921728233, 0.9774206696151354, 0.982486505361649, 0.9869670849591853, 0.992981667137041, 0.9944835814950587, 0.08537216199947635, 0.910636394661081, 0.9864930785423823, 0.9868302284235319, 0.9910864096230573, 0.22639070302454403, 0.764068622707836, 0.017857773070825516, 0.9643197458245779, 0.38054248973263116, 0.00864869294846889, 0.6097328528670567, 0.9918913931381156, 0.9862304543723617, 0.705416663637842, 0.29420221042715683, 0.9675672665215996, 0.025131617312249343, 0.9928072406094922, 0.972292121932963, 0.9426543088542817, 0.9855642948754467, 0.9937381190001467, 0.27874828485726905, 0.0034413368500897414, 0.38542972721005103, 0.33036833760861517, 0.9759962982111411, 0.02318543242356783, 0.0008832545685168697, 0.9945185222925241, 0.9519615022548736, 0.5329576882707237, 0.4638705805319262, 0.9603443556460155, 0.12081394236864726, 0.8456975965805308, 0.4790620261678365, 0.519957564987042, 0.9949717586558452, 0.7917994867709482, 0.02219998561040042, 0.1825332150188479, 0.9947054288590921, 0.9835534157924809, 0.9902962727698016, 0.9795055998588624, 0.9780716558468526, 0.9653019494288316, 0.8076337262252187, 0.1810213524297904, 0.4105558805243288, 0.44275634174192324, 0.14490207547917489, 0.9836193379366251, 0.9823239718293122, 0.4930444248474221, 0.5002950781540019, 0.11179857369069951, 0.869544462038774, 0.9708119496965247, 0.9975690952166545, 0.9894562410459214, 0.9970455908612889, 0.930047971613747, 0.0267100641361331, 0.0267100641361331, 0.9415297607986918, 0.7497262133598473, 0.019101304798977002, 0.2304094891376601, 0.11143792963142969, 0.8864380766136453, 0.9722448472882056, 0.9447767568168561, 0.9210286229347154, 0.07617529964121707, 0.9482972129526177, 0.9957231185337557, 0.21059210024003686, 0.7890539452031761, 0.9846136461551971, 0.9887521245410172, 0.9952952254332206, 0.9898307729907555, 0.9964765384011808, 0.0018104588270370292, 0.0010862752962222174, 0.7312034425892305, 0.014267384245643522, 0.058852960013279526, 0.0008917115153527201, 0.18725941822407122, 0.0026751345460581605, 0.0044585575767636006, 0.46010634062556527, 0.18050325670695253, 0.23713172939932978, 0.033623155661099, 0.060167752235650844, 0.02477495680291505, 0.9914804540864582, 0.9879357843479359, 0.9939742811853302, 0.9700921746227141, 0.959678087572763, 0.99187611820785, 0.9967011295061966, 0.5757821542970918, 0.035615390987448974, 0.059358984979081625, 0.32053851888704077, 0.9846081776294408, 0.9385932654297326, 0.14445941038952176, 0.8497612375854221, 0.9753821684291526, 0.9989837192439274, 0.7153669092529732, 0.24960084551109174, 0.034213200007750896, 0.20206450955959354, 0.019594134260324223, 0.5437372257239972, 0.23390497773262042, 0.996089241347754, 0.9949935020697585, 0.9881389192109248, 0.07408883412690075, 0.9137622875651091, 0.9888156513972385, 0.9777097621772965, 0.2421179750853467, 0.7016480094310047, 0.05435301481507783, 0.7474193268581614, 0.25169624719757117, 0.0006972195213229118, 0.9401832257871291, 0.00026493985321824037, 0.05952315368969801, 0.9981778347151837, 0.9949400295774325, 0.9178192986390354, 0.9546908612726962, 0.9929493707338558, 0.968230622762413, 0.7486268061128979, 0.01318004940339609, 0.23724088926112963, 0.1094190199975233, 0.8837690076723037, 0.9767266598611634, 0.9983928978314915, 0.19001756883353615, 0.029061510527482, 0.7801897826224015, 0.6072391410882809, 0.00948811157950439, 0.3795244631801756, 0.986453958478667, 0.9463433843503276, 0.9897794249683413, 0.9796047854315902, 0.7304634756773024, 0.26251031157153054, 0.01690867740122606, 0.9807032892711114, 0.30247376687668415, 0.5272853503661116, 0.11444953341279941, 0.014306191676599926, 0.040874833361714075, 0.7073298902541104, 0.021434239098609406, 0.2679279887326176, 0.2978047382429307, 0.14566536109708567, 0.45318112341315536, 0.1035842567801498, 0.9922262509271725, 0.9862868547245831, 0.9896649974464432, 0.976746523945521, 0.9886860101574164, 0.9930662168171368, 0.9509951417868245, 0.989116698778714, 0.9932303460399814, 0.8330475375652703, 0.0014902460421561186, 0.16541731067932916, 0.9947299315723004, 0.9904611591616647, 0.9833861403746639, 0.9425868177747089, 0.9893179235248569, 0.21704019110723644, 0.7791186347439257, 0.778523297508841, 0.0271411791792073, 0.19284522048384134, 0.9271907977411282, 0.06964172413077693, 0.0017069050032053172, 0.0010241430019231903, 0.8934246274916348, 0.000593637626240289, 0.000593637626240289, 0.023151867423371268, 0.07836016666371813, 0.0029681881312014443, 0.08961933731924648, 0.910343794874451, 0.9802664593968096, 0.00669323842324793, 0.9839060482174458, 0.9686721302441049, 0.6380976181216683, 0.3609441072203376, 0.9903760752652061, 0.05890978262983395, 0.9341408388445098, 0.9722875219781583, 0.9618815154814107, 0.9495987396684283, 0.2983667000701418, 0.6982395970713628, 0.9922362533154602, 0.9983111052349486, 0.9996173750847154, 0.00023053906251953768, 0.7072686711932464, 0.2920490363362589, 0.9958077713665064, 0.6543000968879503, 0.26125763585985295, 0.08323252115889121, 0.995448497278728, 0.04506315109152984, 0.9463261729221267, 0.9787039358437161, 0.9761542915122291, 0.9628110721955585, 0.979695984349127, 0.9973864302837535, 0.9756547167739672, 0.9972062705084972, 0.9423229524315208, 0.9944088717526363, 0.8899372050869621, 0.020283469061811103, 0.08620474351269718, 0.9949933382397035, 0.9920080917169388, 0.9788528757609054, 0.9945747469398949, 0.989705625196308, 0.555773807480865, 0.44099443419677337, 0.9872268069190676, 0.5117769095883977, 0.48886152557697693, 0.9819066104708084, 0.9996625450369169, 0.9687567893325442, 0.9837584460851626, 0.979647847256435, 0.07956771007038745, 0.0009823174082763883, 0.030451839656568037, 0.888014937081855, 0.9810098433537964, 0.86212735812175, 0.13533394575167007, 0.9840444025897569, 0.6776572352149609, 0.321119804840539, 0.9392329915378612, 0.9945188506035444, 0.9513438968454558, 0.3989663654279791, 0.5995765717731212, 0.9826029723990733, 0.9887434753661635, 0.5983183300571765, 0.40016145547232385, 0.7078412023336631, 0.2722466162821781, 0.2772114819627562, 0.7174885415506631, 0.01159583092765907, 0.985645628851021, 0.22884763383154327, 0.7665017133152895, 0.9472155887507097, 0.9951656017779161, 0.966445553374015, 0.5013518028726357, 0.4974653547883517, 0.9541168158833295, 0.9871179384104665, 0.9906262422743008, 0.9493338597209533, 0.9954866747613866, 0.9998191639399653, 0.857276243498647, 0.005639975286175309, 0.13817939451129507, 0.9479027718974956, 0.9874078313050585, 0.8401939338316861, 0.0005904384636905734, 0.15882794673276426, 0.9258975725816236, 0.007628404305512862, 0.0006357003587927385, 0.06484143659685933, 0.0009535505381891077, 0.9989504301976285, 0.0004024780137782548, 0.0008049560275565096, 0.7032951237184334, 0.29529378592023964, 0.9778429177966198, 0.0009349892441083218, 0.0006233261627388812, 0.0024933046509555247, 0.0010908207847930421, 0.0001558315406847203, 0.0015583154068472028, 0.002804967732324965, 0.012310691714092903, 0.0004674946220541609, 0.8823947542146514, 0.11632519918981747, 0.9880437807099571, 0.9542160696958286, 0.9905909418458482, 0.9835685632821354, 0.9795877139462449, 0.48956613190510206, 0.15434597262032776, 0.007234967466577863, 0.34727843839573747, 0.3276273823257803, 0.5558621879909307, 0.0883489570316711, 0.014724826171945184, 0.011043619628958888, 0.010705974638602053, 0.984949666751389, 0.9859903993476841, 0.9976456268350994, 0.9869260314819316, 0.9934321379318453, 0.9934379027360193, 0.9961997280796792, 0.9615975514462018, 0.39194689834932034, 0.0171906534363737, 0.04813382962184636, 0.5432246485894089, 0.9858188043285812, 0.5958143960261318, 0.39720959735075456, 0.9714705824625286, 0.7008284152590931, 0.2963855853078103, 0.003087349846956357, 0.9846618300530383, 0.7196512014630037, 0.08752514612387882, 0.18963781660173745, 0.9910291953704216, 0.9713329896904974, 0.972054472495326, 0.9697301422381084, 0.730973759220421, 0.009783587599508503, 0.25856624370129616, 0.9684414675447331, 0.9398338285086614, 0.993506712918139, 0.9703655509046136, 0.9465152334081246, 0.9995131625015015, 0.9504253757920623, 0.03989361046810201, 0.0012765955349792644, 0.004148935488682609, 0.0038297866049377934, 0.9885764917243863, 0.1886395251394815, 0.8101571184937733, 0.9561861922627566, 0.03786876008961412, 0.8311580323156573, 0.16843334959509348, 0.22378133222845825, 0.7730627840619466, 0.9865806158749413, 0.9780257337367718, 0.49970343476637274, 0.004681062620762274, 0.06202407972510013, 0.3463986339364083, 0.004681062620762274, 0.06436461103548127, 0.016383719172667958, 0.9994027950833845, 0.6807349120136283, 0.206252518117562, 0.014224311594314622, 0.09449006987651855, 0.0020320445134735174, 0.0010160222567367587, 0.04134069069559603, 0.9567416989552224, 0.9654248976842116, 0.9730474162672812, 0.08558522271262184, 0.0787384048956121, 0.0034234089085048735, 0.8284649558581794, 0.9915190418857862, 0.9814803714451826, 0.06648881283067896, 0.9308433796295055, 0.14134763263484604, 0.8535222432181088, 0.890884028714115, 0.08673686995269402, 0.020431351588856814, 0.0015419887991590048, 0.9843681752701757, 0.9971912797372526, 0.5653286126483709, 0.4203725581231476, 0.9943311788158737, 0.016463245150966612, 0.9823069606743411, 0.9928398505105059, 0.34388576760315753, 0.637334955957852, 0.01604800248814735, 0.7738828906761752, 0.12067326430882733, 0.061648298070813956, 0.041973309324809506, 0.04262155819880863, 0.9376742803737899, 0.9953039146184404, 0.9715149782349563, 0.02984570456858094, 0.9252168416260091, 0.07249758182176166, 0.9152819704997409, 0.07808724294246701, 0.9110178343287818, 0.9964277952158278, 0.9679723183510227, 0.9933004001565939, 0.997839640396114, 0.9907790698967799, 0.9768862652418406, 0.9905085471672221, 0.9997422832662927, 0.9973709262107892, 0.9799295154560422, 0.01115372233351464, 0.9886253886524341, 0.9711604611624419, 0.9696992874466528, 0.974860266690658, 0.9872837927832342, 0.9769189759847305, 0.9828956309365612, 0.6275922186400904, 0.005061227569678149, 0.3644083850168267, 0.9997909361367834, 0.9938626743286675, 0.9885472525994257, 0.9629742432595254, 0.9932976575466612, 0.9895609002695822, 0.9849417196900792, 0.9823050629765682, 0.9754060107907291, 0.9785124651571789, 0.2714394657860665, 0.7255785720050624, 0.9716023954071523, 0.9736592474248118, 0.9873527077085911, 0.9837487892870654, 0.9794315317979223, 0.9867547653769313, 0.9537214164242496, 0.9518171875702534, 0.022925226444184484, 0.9628595106557483, 0.944023947574789, 0.9921076212747013, 0.8426267522473682, 0.009259634640080968, 0.1450676093612685, 0.26960206481945553, 0.01465228613149215, 0.00879137167889529, 0.647631047011953, 0.05567868729967017, 0.7419789461443304, 0.24114315749690735, 0.002061052628178695, 0.012366315769072172, 0.9966441454060384, 0.9885339296914588, 0.0722767937924472, 0.12884124110827544, 0.043994570134533076, 0.09427407885971373, 0.6567760827226723, 0.5222466512673497, 0.47603784906840224, 0.0017437283848659422, 0.27906190648450696, 0.7189391489092383, 0.994524350848311, 0.0047398132785033045, 0.0006505626068533947, 0.9755003056181653, 0.9956077230457958, 0.9663357436726715, 0.9936931032150973, 0.9613300982431741, 0.8241799126147569, 0.0032770573066193114, 0.15729875071772695, 0.014746757879786902, 0.996484134559319, 0.6500601090831704, 0.34319943647248125, 0.006056460643632022, 0.9625133552538149, 0.06144744976116495, 0.9319529880443351, 0.999533843680451, 0.9859489224284412, 0.9930847774926247, 0.887673705331675, 0.11017429268746835, 0.0017125537723440675, 0.9269610847672286, 0.9956664983086772, 0.004190074690410004, 0.3647134192295965, 0.6312347640512247, 0.9907024153217677, 0.9917148614898392, 0.9724598252272181, 0.027268299153330778, 0.9901030516077436, 0.8716581754195006, 0.12499072655048693, 0.0028087803719210546, 0.9138196855228391, 0.004730087366037217, 0.0019916157330683018, 0.004315167421647987, 0.0006638719110227672, 0.0029874235996024527, 0.03709384302839712, 0.025227132618865156, 0.0017426637664347642, 0.0007468558999006132, 0.0003319359555113836, 0.0001659679777556918, 0.006223799165838443, 0.9879807519022417, 0.9840020979451695, 0.8062845513979117, 0.020852186674083922, 0.17145131265357894, 0.9538841795717735, 0.9921745091281141, 0.9966960500279084, 0.6899851354881227, 0.00039654318131501304, 0.0011896295439450392, 0.30811405188176516, 0.00039654318131501304, 0.00039654318131501304, 0.7742676342011203, 0.1497266982616162, 0.030877490302979215, 0.029712301989659243, 0.0157300422298196, 0.9693774522874606, 0.9857672824129162, 0.6242644516725574, 0.37391675382957806, 0.9438893424656977, 0.9929191122709077, 0.0042675606544594884, 0.0028450404363063258, 0.9876966847998524, 0.10858865033744969, 0.1339260020828546, 0.7565009306842329, 0.962137760126351, 0.9819490584117248, 0.6511133166332642, 0.03321367255203369, 0.3152165527108103, 0.2293498829233107, 0.00037292663889969225, 0.7700935093278645, 0.528349817507534, 0.45870370519972264, 0.004803180159159399, 0.007204770238739099, 0.9751013360530754, 0.6309052537647171, 0.030725905215814146, 0.026629117853705593, 0.31135583952025, 0.05741402171580078, 0.7955943009189537, 0.008202003102257254, 0.13123204963611607, 0.991343125617356, 0.9886216710001509, 0.9700416648373, 0.02282450976087765, 0.41269099715646096, 0.579856970688192, 0.9364813419550321, 0.9823779916964613, 0.9996710259454168, 0.0002520602687709069, 0.8622376137541918, 0.1370443889410636, 0.9857780975419949, 0.9985098897356282, 0.664576628191339, 0.009882180344852625, 0.006423417224154206, 0.2752187226041456, 0.013340943465551043, 0.008893962310367362, 0.010870398379337887, 0.0009882180344852624, 0.009882180344852625, 0.9935132997256328, 0.10503379073002725, 0.8896979920661132, 0.9798692139337407, 0.9946503438361005, 0.9927991908425072, 0.9997084627011473, 0.9292501370619682, 0.9921591127331806, 0.9899824754278482, 0.9905028694268933, 0.1964873037495471, 0.7695752730190595, 0.032747883958257853, 0.9662054765509119, 0.9927919625504463, 0.9002447751384877, 0.996230444948664, 0.9734162634385811, 0.01719321558971649, 0.008596607794858244, 0.9628200730241233, 0.12462570514701561, 0.8723799360291092, 0.9996426363779217, 0.7784987471212581, 0.024027739108680807, 0.19702746069118263, 0.9924928263388525, 0.9941493415488112, 0.33247831483221685, 0.6347313283160503, 0.03148468890456599, 0.6280669110676294, 0.3711304474490537, 0.9968045809815526, 0.3600742567440216, 0.5833895409746889, 0.029429145983886382, 0.025966893515193868, 0.9646947412761345, 0.9774960341169636, 0.12452967164365979, 0.8592547343412525, 0.6106261056974742, 0.032879867229863996, 0.007045685834970856, 0.3475871678585622, 0.9853864049613694, 0.9985310660995323, 0.12443773457511155, 0.8586203685682697, 0.9913243950676803, 0.9921038987255205, 0.99648179104452, 0.00208687286082622, 0.0013912485738841465, 0.19509868108328485, 0.8036207577954352, 0.4828258261456067, 0.5145443110748801, 0.15750756041150668, 0.8400403221947023, 0.9945055792920807, 0.9887884468030023, 0.7918473966093802, 0.0007120929825623923, 0.20721905792565615, 0.9986212483770187, 0.9916757740255163, 0.9951617749477237, 0.945590864907941, 0.04849183922604826, 0.005217476372422914, 0.0003069103748484067, 0.9779601010895717, 0.9928365380946615, 0.9532445454679943, 0.9976678285441535, 0.22790635773804988, 0.6367971760327864, 0.13071099929094035, 0.9841641541147798, 0.9975618703702323, 0.9745606358238682, 0.9837735499916997, 0.9962437996541358, 0.9904199317710591, 0.9747539030676295, 0.9557396212015608, 0.995680281397256, 0.9885726307878369, 0.7292041566181575, 0.268431675044945, 0.8863222886761827, 0.009932418528342191, 0.030965775411890363, 0.005842599134318937, 0.06602137021780398, 0.9997091209769057, 0.9973766437190268, 0.9772104445552796, 0.9892092756501564, 0.9969984846084233, 0.9902654106307304, 0.9961345994590598, 0.9643833315044039, 0.25838333997786295, 0.7338086855371309, 0.9052118787648918, 0.12461348171504029, 0.872294372005282, 0.9966298853298977, 0.00674338100444775, 0.9912770076538192, 0.9573800077076537, 0.990656727476062, 0.23181595238591732, 0.11990480295823311, 0.4156699835885414, 0.22781912562064288, 0.9929913380019004, 0.6569345666704517, 0.054744547222537646, 0.2858881910510299, 0.20335087977138802, 0.009243221807790365, 0.7810522427582859, 0.9941040185215556, 0.9634560172849211, 0.27331810941268614, 0.7192581826649636, 0.9791918037461912, 0.14530864080098355, 0.6714261333562688, 0.17537249751842843, 0.9981973544049291, 0.09142270833158953, 0.9027992447744465, 0.9853014421158667, 0.7797249093797833, 0.011277013152186948, 0.20862474331545855, 0.982216286288104, 0.12434025153153284, 0.8579477355675766, 0.954463943434481, 0.9894197807057947, 0.9948428181280179, 0.9851963761893616, 0.9765112315533138, 0.012315679787484615, 0.9852543829987692, 0.13716506090752267, 0.8595677150204754, 0.5892706818156802, 0.4065710381086352, 0.7953368825692299, 0.20097222301480538, 0.9879777339362038, 0.16896817316617155, 0.8237198441850863, 0.9904906552114231, 0.9715635150818783, 0.08216858311176349, 0.9107017961553787, 0.0886616244036341, 0.06649621830272558, 0.842285431834524, 0.10188650083913948, 0.8660352571326856, 0.9839075408664415, 0.9695087608152699, 0.2665738566423177, 0.7235576108862909, 0.9965486218136148, 0.9778410782257292, 0.9882005348996017, 0.9921262023749987, 0.11240575664951272, 0.8742669961628766, 0.9908201227902472, 0.41851106089578144, 0.5810905457049196, 0.1116159555073893, 0.8681240983908056, 0.9918178004114914, 0.986691427966042, 0.9951066392732291, 0.04604196192605023, 0.9553707099655423, 0.773953260194373, 0.22515003932927213, 0.9840672269999986, 0.9830248697834435, 0.9684345789150326, 0.997863304018849, 0.9793527722717411, 0.008370536515143086, 0.9885620930433121, 0.9981544923270412, 0.4459960572265996, 0.5530351109609835, 0.9745230578769196, 0.9839913672696196, 0.9862130294129403, 0.9591489127522217, 0.3209780895999541, 0.6781227245069453, 0.9991406623565083, 0.9724925805325034, 0.35744179456801567, 0.05256496978941407, 0.24311298527604008, 0.10775818806829884, 0.16952202757086038, 0.030224857628913093, 0.03942372734206055, 0.9766854194986873, 0.9780433985746743, 0.9962180656748917, 0.9632102054809971, 0.9973397179948235, 0.9869483921187853, 0.00800970272287392, 0.977183732190618, 0.9426594373306221, 0.3587630918757753, 0.06522965306832279, 0.5748363176645945, 0.9884798906583123, 0.977022501391668, 0.0006154472449711294, 0.0018463417349133882, 0.020309759084047273, 0.9701171440023226, 0.06553426797465435, 0.8810718249925752, 0.050971097313620053, 0.8149501110552791, 0.0014423895770889897, 0.18318347629030168, 0.12517428177161122, 0.010790886359621657, 0.023739949991167648, 0.006474531815772995, 0.8308982496908677, 0.9867877760748418, 0.0838189712700311, 0.912147628526809, 0.9946292528528353, 0.9803389707277159, 0.3609172965220358, 0.6276822548209319, 0.00896688935458474, 0.9252129282345039, 0.05216626084726458, 0.022638188669567648, 0.9772523748024367, 0.4920367764836413, 0.4823889965525895, 0.024119449827629477, 0.9884519125786105, 0.4180025543047285, 0.5817887291382, 0.99577065651167, 0.979522208983532, 0.59270144049032, 0.4047717154568039, 0.959904148967777, 0.973728874158704, 0.0026723262412588792, 0.012025468085664955, 0.011023345745192877, 0.0003340407801573599, 0.9959941303296455, 0.9889178599188998, 0.4669711027220729, 0.4738095916740698, 0.058615619588544714, 0.9975262802226781, 0.0024356912502662507, 0.9647308143541071, 0.97968858419576, 0.9913110658966605, 0.994467846392118, 0.9928499661094126, 0.32929972436271493, 0.024852809385865277, 0.6441019765836751, 0.9973398574286361, 0.9909940460763109, 0.9804897534443311, 0.9994854268650286, 0.9957185906170187, 0.9761257381168127, 0.3787789994585337, 0.6020328468215106, 0.015050821170537765, 0.995409058382411, 0.12429469588554715, 0.8576334016102753, 0.9437885726702119, 0.8443553297687603, 0.15479847712427272, 0.990262846994168, 0.9993928078857732, 0.9802286738584842, 0.9640490171536155, 0.7319312724566522, 0.14638625449133044, 0.06234970098704815, 0.056927987857739615, 0.9804732398049403, 0.9750876149626172, 0.2005621659990184, 0.7919634247140728, 0.9862562655872407, 0.9931920118191815, 0.028864372275075833, 0.9669564712150405, 0.07275894505499506, 0.9167627076929377, 0.9815743075892659, 0.4414584315055883, 0.5248107227688812, 0.03292930025216509, 0.001029040632880159, 0.9866153451881912, 0.9929163805142934, 0.9737093842532212, 0.12445297126503625, 0.8587255017287502, 0.525134320460561, 0.3637157868259774, 0.11005809111448883, 0.9933821407929916, 0.5422077732185281, 0.4576294019086742, 0.5257702913200819, 0.4722196135004439, 0.9825497575338769, 0.8317055225026162, 0.16545865832280163, 0.0022061154443040218, 0.006653532402476848, 0.05988179162229163, 0.10645651843962957, 0.08649592123219903, 0.7385420966749301, 0.9955537015979017, 0.47006645408702236, 0.5283047758323172, 0.5585132672403655, 0.01175817404716559, 0.42917335272154405, 0.9899807591667025, 0.990240340013905, 0.5924415715231552, 0.0017632189628665335, 0.0017632189628665335, 0.40377714249643615, 0.20611906611176706, 0.7870000706085651, 0.9927705649037127, 0.73809035348604, 0.26160164427353316, 0.9413560004340084, 0.5084655974830283, 0.03177909984268927, 0.46079694771899443, 0.2677174437244325, 0.029746382636048056, 0.029746382636048056, 0.66433587887174, 0.023947777108968612, 0.9579110843587444, 0.9929521146950416, 0.9772978558154571, 0.9852274619143965, 0.22894741587670672, 0.7672832315868009, 0.9944541709091674, 0.006595870212034063, 0.9827846615930754, 0.9706633494353162, 0.9559367355992647, 0.45636404199735686, 0.5401005634647618, 0.9925079288613059, 0.22523345058505415, 0.7730986006568075, 0.986723343944269, 0.9843549398821624, 0.9992740844442759, 0.9983745175614722, 0.9873117581560675, 0.9705005804537095, 0.9771154884931216, 0.0032265893030884317, 0.3000728051872242, 0.1935953581853059, 0.49366816337253006, 0.009679767909265296, 0.5704873435638266, 0.42926966076884276, 0.5179272853928978, 0.0030112051476331265, 0.4787816184736671, 0.997194389841272, 0.006565895217843911, 0.9520548065873671, 0.03939537130706346, 0.9867746304636463, 0.9497760420443597, 0.9725778809327351, 0.9770033159502093, 0.7197136915125488, 0.27888905546111264, 0.7902548865082766, 0.14374348612460192, 0.06552028669865576, 0.993443878988909, 0.9738897364189385, 0.9850689027842121, 0.9905020243516252, 0.9908483252830169, 0.477139753588438, 0.005391409645067097, 0.017522081346468064, 0.5000532445799732, 0.9109830714847713, 0.9933851309714795, 0.19762127685973085, 0.7959745873516937, 0.9893767637264937, 0.9951229231166249, 0.9733134798514189, 0.9950523606377824, 0.995976957064999, 0.9954142695409931, 0.9770053520948188, 0.5353412472225214, 0.15353182939211937, 0.309083814434135, 0.12424869176328461, 0.8573159731666639, 0.35008668413777844, 0.6376578889652393, 0.9989834503131142, 0.0006656931032739544, 0.00022189770109131812, 0.9918441424609105, 0.9940591061873079, 0.9996314285530521, 0.0003326560494352919, 0.9990042546101935, 0.0006740919396829916, 0.9998422459808796, 0.9998809227896533, 0.084457063546813, 0.1266855953202195, 0.7812278378080202, 0.8434309423673404, 0.14298642562911595, 0.0006298961481458853, 0.01070823451848005, 0.001889688444437656, 0.9970103518857977, 0.9890447694649254, 0.9941270744010805, 0.9964989276657771, 0.9926896348067418, 0.9758080904112036, 0.975013586198842, 0.9592784320604028, 0.9987976183604163, 0.0007705582613488785, 0.0004623349568093271, 0.6173887537433127, 0.3822529147412771, 0.012980763240508059, 0.9800476246583585, 0.9595765625875137, 0.9876574041663411, 0.8838294028076142, 0.11296281124641697, 0.0020919039119706847, 0.04889209609934333, 0.9506796463761202, 0.6767993418932114, 0.31071756096933745, 0.010168938358996498, 0.0011298820398884999, 0.9935371228789236, 0.7622544516728218, 0.054176762680878246, 0.1814291587452667, 0.9575304874933399, 0.9901028512865845, 0.9834104432173179, 0.6712311802121137, 0.32163160718497114, 0.00839038975265142, 0.997444405373486, 0.9700244714356617, 0.9559272275569037, 0.12464128231232023, 0.8724889761862417, 0.9557672270903005, 0.18169670576750235, 0.814882195563344, 0.9998391144451297, 0.9996516879303866, 0.4018900010325192, 0.5695851093770236, 0.005782589942913945, 0.020239064800198808, 0.9811196931690435, 0.991324893852096, 0.9610285473984879, 0.9821752151690017, 0.9287509067976161, 0.9911208417992283, 0.994923870458191, 0.9692942512767895, 0.9942036116867338, 0.9522550185449569, 0.9813014994719097, 0.13993684438821835, 0.83962106632931, 0.9921831853290806, 0.9988685248938853, 0.9854689799233615, 0.18860464098478763, 0.8098905171699704, 0.9943745095376885, 0.966900476183538, 0.9620377082928695, 0.9671501762327696, 0.1242439936071339, 0.8572835558892239, 0.9946925855227059, 0.9857858355858076, 0.11345366203664026, 0.8809343169903832, 0.9920733784395808, 0.9882957750729353, 0.9994279021423007, 0.7953816173701983, 0.20424204370884008, 0.003994263114667053, 0.9959029365903187, 0.9902588208838896, 0.009660234946154665, 0.9994764960661003, 0.4689175480019107, 0.04623130754948415, 0.09906708760603747, 0.3665482241423386, 0.01651118126767291, 0.9623778785390419, 0.7317086819392126, 0.03295985053780237, 0.012085278530527535, 0.2230283219724627, 0.5940129826005174, 0.12131251053109157, 0.2844569212453182, 0.9989497919838557, 0.00021858857592644545, 0.0004371771518528909, 0.9691400630628206, 0.030058179458953945, 0.967873378578317, 0.9874891769363612, 0.9846603962874132, 0.9975247911230789, 0.4296900335668855, 0.5650718249646713, 0.9703839565717078, 0.7747533721799138, 0.2246496766915735, 0.9978418135155958, 0.17807279355951777, 0.01112954959746986, 0.17930941018145888, 0.08161669704811232, 0.5502943967637876, 0.12473047529983275, 0.8731133270988293, 0.992550910569391, 0.12058889462983462, 0.8728339039873744, 0.9715937937941349, 0.9725207618882655, 0.7164178220360551, 0.279086460793162, 0.9791380259797168, 0.14876106076262546, 0.8372577650614433, 0.013350351606902285, 0.9666672368272812, 0.08399235268954577, 0.8903189385091852, 0.9812093276567916, 0.984955468000606, 0.9990113396471785, 0.977122034983085, 0.3251279162561879, 0.6632609491626233, 0.9960518089423868, 0.9921190907996822, 0.9993589680894421, 0.0003553908136875683, 0.23031075593526415, 0.7567353409301536, 0.9956671985919385, 0.9763093068109427, 0.9778869328138743, 0.9607303626509079, 0.9990654804859485, 0.984901143378642, 0.899032149797231, 0.9813995155692002, 0.9881685661808297, 0.0019147403261300505, 0.9978988333014447, 0.9974437198067632, 0.6664295336072841, 0.3338518887286968, 0.9997625491786586, 0.00014610003641365754, 0.9992952369135433, 0.9650695269158214, 0.9353727724671853, 0.061537682399156926, 0.9980554025568016, 0.9953511158082345, 0.9849026164865563, 0.12427811649051781, 0.8575190037845729, 0.12439141078905827, 0.8583007344445021], \"Term\": [\"2000\", \"3year\", \"3year\", \"aaa\", \"aah\", \"agree\", \"ahah\", \"ahahahah\", \"ahh\", \"ahoh\", \"ahwoo\", \"aint\", \"aint\", \"aint\", \"aint\", \"air\", \"air\", \"air\", \"air\", \"air\", \"air\", \"alert\", \"alive\", \"alive\", \"alive\", \"alright\", \"altered\", \"amber\", \"america\", \"amp\", \"amp\", \"ana\", \"analog\", \"angeles\", \"angels\", \"angels\", \"angels\", \"animals\", \"animated\", \"animated\", \"anna\", \"appear\", \"arc\", \"arcade\", \"arm\", \"arm\", \"arm\", \"arm\", \"arrived\", \"arrived\", \"artfully\", \"ascend\", \"aside\", \"ask\", \"august\", \"authority\", \"away\", \"away\", \"away\", \"babababa\", \"baby\", \"baby\", \"baby\", \"backwards\", \"backwards\", \"bad\", \"badada\", \"bah\", \"bambaata\", \"bambaata\", \"bang\", \"bang\", \"bar\", \"bar\", \"bar\", \"bar\", \"bar\", \"bass\", \"bat\", \"bear\", \"bear\", \"beast\", \"beast\", \"beautiful\", \"beautiful\", \"beep\", \"began\", \"began\", \"began\", \"beginning\", \"beginning\", \"belief\", \"belts\", \"berlin\", \"berserkers\", \"berserkers\", \"best\", \"best\", \"bet\", \"better\", \"better\", \"big\", \"big\", \"big\", \"big\", \"big\", \"big\", \"big\", \"billy\", \"bird\", \"bird\", \"bird\", \"bit\", \"bitch\", \"bitch\", \"bite\", \"bite\", \"bite\", \"bitte\", \"bitter\", \"bitter\", \"black\", \"black\", \"black\", \"black\", \"black\", \"black\", \"blah\", \"blame\", \"blaster\", \"blaster\", \"bleed\", \"bleed\", \"bleeped\", \"bleeped\", \"blood\", \"blood\", \"blood\", \"blood\", \"blood\", \"bloody\", \"blows\", \"blows\", \"blows\", \"blue\", \"blue\", \"blue\", \"boat\", \"boat\", \"boat\", \"boat\", \"bodies\", \"bodies\", \"bodies\", \"bodies\", \"bold\", \"bolt\", \"bom\", \"bomb\", \"bomb\", \"boogie\", \"bop\", \"boss\", \"bound\", \"bound\", \"bound\", \"bound\", \"bound\", \"bowl\", \"box\", \"box\", \"boy\", \"boy\", \"boy\", \"boy\", \"boy\", \"branched\", \"branched\", \"breathin\", \"brick\", \"brighter\", \"bringing\", \"bros\", \"brothers\", \"brothers\", \"buckle\", \"buckle\", \"bug\", \"building\", \"built\", \"built\", \"built\", \"burn\", \"burn\", \"burn\", \"burns\", \"burns\", \"burns\", \"burns\", \"burns\", \"bursting\", \"bursting\", \"business\", \"business\", \"business\", \"bust\", \"butch\", \"butter\", \"button\", \"bye\", \"cage\", \"cage\", \"cage\", \"callin\", \"came\", \"came\", \"came\", \"came\", \"candy\", \"cape\", \"capital\", \"capital\", \"cars\", \"castle\", \"cat\", \"catching\", \"cause\", \"cause\", \"cave\", \"ceiling\", \"celebrate\", \"cell\", \"cha\", \"champagne\", \"chance\", \"chance\", \"chance\", \"cheating\", \"check\", \"cheese\", \"cheese\", \"chemistry\", \"cherry\", \"chicken\", \"childhood\", \"chisel\", \"chop\", \"chords\", \"chords\", \"chorus\", \"chosen\", \"churning\", \"circle\", \"circle\", \"clap\", \"clap\", \"class\", \"class\", \"class\", \"claw\", \"click\", \"close\", \"close\", \"closing\", \"closing\", \"cmon\", \"coal\", \"cocaina\", \"colder\", \"collateral\", \"colors\", \"colors\", \"colors\", \"colors\", \"come\", \"come\", \"come\", \"compassion\", \"complaint\", \"concrete\", \"concrete\", \"contagious\", \"contain\", \"contain\", \"control\", \"control\", \"cookie\", \"cool\", \"cool\", \"cool\", \"core\", \"cost\", \"county\", \"cow\", \"coward\", \"cowboy\", \"crash\", \"crash\", \"cried\", \"cried\", \"cried\", \"crimes\", \"crossing\", \"crown\", \"crown\", \"crushin\", \"crushin\", \"crushing\", \"cultivated\", \"cultures\", \"curfew\", \"curses\", \"curve\", \"curve\", \"curve\", \"cut\", \"cut\", \"cut\", \"cutting\", \"cutting\", \"dada\", \"dadadeedah\", \"daddy\", \"daddy\", \"dahahhahh\", \"damned\", \"dance\", \"dance\", \"danced\", \"dangerous\", \"darlin\", \"daughter\", \"day\", \"day\", \"day\", \"dead\", \"dead\", \"dead\", \"dead\", \"dead\", \"dead\", \"dead\", \"death\", \"death\", \"death\", \"death\", \"death\", \"death\", \"deeper\", \"degrees\", \"deny\", \"deo\", \"des\", \"despair\", \"develop\", \"devil\", \"devil\", \"devil\", \"devil\", \"devils\", \"dey\", \"diamonds\", \"diamonds\", \"dick\", \"didnt\", \"die\", \"die\", \"die\", \"died\", \"died\", \"died\", \"died\", \"difficult\", \"disco\", \"distress\", \"dive\", \"dive\", \"divide\", \"doesn\", \"dog\", \"dog\", \"dog\", \"don\", \"don\", \"don\", \"dont\", \"dont\", \"dont\", \"doo\", \"doodoo\", \"doodoodoo\", \"doomed\", \"downtown\", \"drama\", \"dreams\", \"dreams\", \"dreams\", \"dreamt\", \"dreamt\", \"drew\", \"driving\", \"drop\", \"drop\", \"drop\", \"drove\", \"drove\", \"drove\", \"drug\", \"drying\", \"dull\", \"dum\", \"dumb\", \"dumb\", \"dutch\", \"dutch\", \"earth\", \"earth\", \"earth\", \"earth\", \"earth\", \"eating\", \"eating\", \"eating\", \"edge\", \"edge\", \"edge\", \"edge\", \"electric\", \"elevator\", \"elses\", \"emotional\", \"emotions\", \"enemy\", \"england\", \"entire\", \"estranged\", \"everybody\", \"everybody\", \"everybody\", \"everythings\", \"evoked\", \"exit\", \"expectations\", \"explode\", \"exploding\", \"exploding\", \"eye\", \"eye\", \"eye\", \"eyes\", \"eyes\", \"eyes\", \"eyes\", \"face\", \"face\", \"face\", \"face\", \"face\", \"face\", \"faces\", \"faces\", \"fack\", \"fair\", \"fair\", \"fairly\", \"falling\", \"falling\", \"fambly\", \"fame\", \"fame\", \"fancy\", \"farewell\", \"fatal\", \"father\", \"father\", \"favor\", \"feeding\", \"feel\", \"feel\", \"feeling\", \"feeling\", \"feelings\", \"fell\", \"fell\", \"fell\", \"festering\", \"fever\", \"fever\", \"file\", \"film\", \"finer\", \"finished\", \"fixing\", \"flashing\", \"flashlight\", \"flaw\", \"flowing\", \"fly\", \"fly\", \"fly\", \"followed\", \"font\", \"fooled\", \"forest\", \"forgiven\", \"form\", \"form\", \"fought\", \"frame\", \"frame\", \"frankie\", \"free\", \"freight\", \"french\", \"fright\", \"fuck\", \"fuck\", \"fuck\", \"fuck\", \"fuckin\", \"fucking\", \"fucking\", \"fully\", \"fun\", \"fun\", \"funded\", \"funk\", \"fuss\", \"future\", \"future\", \"gamma\", \"gap\", \"gave\", \"gave\", \"gently\", \"gently\", \"germs\", \"germs\", \"ghetto\", \"ghetto\", \"ghost\", \"ghost\", \"gigantic\", \"gimme\", \"givin\", \"giving\", \"giving\", \"gloom\", \"glowing\", \"godsend\", \"gogo\", \"goin\", \"going\", \"gold\", \"gold\", \"gold\", \"golly\", \"gon\", \"gone\", \"gone\", \"gone\", \"gonna\", \"gonna\", \"gonna\", \"gonna\", \"gonna\", \"good\", \"good\", \"good\", \"goodbye\", \"goodbye\", \"got\", \"got\", \"got\", \"got\", \"got\", \"got\", \"got\", \"got\", \"got\", \"got\", \"gotta\", \"gotta\", \"gotten\", \"graceland\", \"grandma\", \"gravel\", \"gravity\", \"great\", \"great\", \"great\", \"great\", \"green\", \"green\", \"green\", \"green\", \"green\", \"grin\", \"grin\", \"groove\", \"gross\", \"group\", \"grown\", \"guardians\", \"gum\", \"gumada\", \"gun\", \"gun\", \"gun\", \"gun\", \"gutter\", \"guy\", \"guy\", \"gypsy\", \"hair\", \"hair\", \"hair\", \"halo\", \"happened\", \"happened\", \"happened\", \"happiness\", \"har\", \"hardcore\", \"hardest\", \"hate\", \"hate\", \"hate\", \"hated\", \"hats\", \"haunting\", \"haunts\", \"hay\", \"head\", \"heart\", \"heart\", \"heart\", \"heart\", \"heart\", \"heartbreak\", \"heaven\", \"heaven\", \"hed\", \"hed\", \"hell\", \"hell\", \"hello\", \"hello\", \"helps\", \"heroes\", \"hes\", \"hes\", \"hes\", \"hes\", \"hes\", \"hes\", \"hes\", \"hey\", \"high\", \"high\", \"high\", \"high\", \"high\", \"high\", \"higher\", \"higher\", \"highest\", \"hih\", \"hill\", \"hill\", \"hill\", \"hill\", \"hills\", \"hip\", \"hollywood\", \"hollywood\", \"holy\", \"holy\", \"home\", \"home\", \"home\", \"home\", \"homeless\", \"homemade\", \"homes\", \"homes\", \"hoo\", \"hoping\", \"hoping\", \"horizon\", \"hot\", \"hot\", \"hot\", \"house\", \"house\", \"house\", \"house\", \"hows\", \"hows\", \"huh\", \"huhuh\", \"humans\", \"humans\", \"hung\", \"hung\", \"hunger\", \"hunger\", \"hungry\", \"hurricane\", \"hurry\", \"hurt\", \"hush\", \"hypnosis\", \"ignore\", \"ill\", \"images\", \"imagining\", \"important\", \"important\", \"infinity\", \"innocence\", \"inventor\", \"invisible\", \"involved\", \"iron\", \"itll\", \"itll\", \"itll\", \"ive\", \"ivory\", \"jack\", \"jaguars\", \"jail\", \"japanese\", \"jar\", \"jaw\", \"jean\", \"jessie\", \"jesus\", \"jesus\", \"jet\", \"jimmy\", \"joe\", \"john\", \"judy\", \"jukebox\", \"julia\", \"julien\", \"jungle\", \"jungle\", \"justice\", \"juvenile\", \"key\", \"key\", \"key\", \"kick\", \"kick\", \"kick\", \"kick\", \"kick\", \"kids\", \"kids\", \"kids\", \"kids\", \"killed\", \"killer\", \"king\", \"king\", \"king\", \"king\", \"king\", \"knew\", \"knew\", \"knew\", \"knife\", \"knife\", \"know\", \"know\", \"know\", \"ladder\", \"lala\", \"lalala\", \"lark\", \"las\", \"late\", \"late\", \"late\", \"late\", \"laughed\", \"lay\", \"lay\", \"lay\", \"layer\", \"leaf\", \"leaf\", \"leave\", \"leavin\", \"lecture\", \"left\", \"left\", \"left\", \"les\", \"let\", \"let\", \"letting\", \"letting\", \"level\", \"levy\", \"life\", \"life\", \"lifetime\", \"light\", \"light\", \"light\", \"like\", \"like\", \"like\", \"like\", \"like\", \"like\", \"like\", \"like\", \"like\", \"like\", \"like\", \"like\", \"like\", \"lil\", \"limbs\", \"line\", \"line\", \"line\", \"link\", \"lion\", \"lipstick\", \"little\", \"little\", \"little\", \"little\", \"little\", \"little\", \"living\", \"living\", \"living\", \"living\", \"living\", \"loaded\", \"locally\", \"lonely\", \"lonely\", \"loo\", \"look\", \"look\", \"look\", \"lookout\", \"lord\", \"lord\", \"lord\", \"lords\", \"los\", \"lost\", \"lost\", \"lost\", \"love\", \"love\", \"love\", \"loved\", \"loved\", \"loved\", \"loved\", \"lovin\", \"low\", \"low\", \"low\", \"low\", \"lowkey\", \"lowkey\", \"lowkey\", \"lowkey\", \"lucy\", \"lunacy\", \"machine\", \"machine\", \"magic\", \"magic\", \"magick\", \"major\", \"make\", \"make\", \"making\", \"making\", \"mall\", \"mama\", \"man\", \"man\", \"man\", \"man\", \"man\", \"man\", \"man\", \"man\", \"man\", \"maneuver\", \"marrow\", \"marrow\", \"mars\", \"master\", \"matters\", \"maybe\", \"mayday\", \"measure\", \"medicine\", \"melting\", \"mental\", \"mental\", \"mental\", \"meow\", \"mercy\", \"mes\", \"metal\", \"mexico\", \"milked\", \"milked\", \"milked\", \"milled\", \"milled\", \"mind\", \"minds\", \"minds\", \"minds\", \"mitts\", \"modern\", \"moment\", \"moment\", \"moment\", \"money\", \"money\", \"monkey\", \"moon\", \"moon\", \"moon\", \"moon\", \"mordake\", \"morphin\", \"mors\", \"mors\", \"mother\", \"mother\", \"mother\", \"mother\", \"mount\", \"mountain\", \"mugshot\", \"mugshot\", \"mystique\", \"nana\", \"need\", \"need\", \"need\", \"needed\", \"needed\", \"needs\", \"needs\", \"neighborhood\", \"neighborhood\", \"neon\", \"nerve\", \"new\", \"new\", \"new\", \"news\", \"nigga\", \"niggas\", \"night\", \"night\", \"night\", \"night\", \"nighttime\", \"ninja\", \"nonagon\", \"north\", \"nose\", \"nose\", \"nose\", \"november\", \"numbers\", \"oak\", \"oceans\", \"oclock\", \"ohh\", \"ohio\", \"oho\", \"ohoh\", \"ohohoh\", \"okay\", \"okay\", \"old\", \"old\", \"old\", \"old\", \"old\", \"ooh\", \"oohooh\", \"oohoohooh\", \"oohoohoohooh\", \"oooh\", \"ooooh\", \"oops\", \"orca\", \"order\", \"order\", \"orix\", \"othmar\", \"othmar\", \"owe\", \"owned\", \"owned\", \"pacifies\", \"packed\", \"page\", \"page\", \"page\", \"page\", \"pages\", \"paint\", \"paint\", \"paint\", \"pair\", \"pair\", \"pair\", \"palm\", \"para\", \"paradise\", \"paradise\", \"paralyzed\", \"parts\", \"parts\", \"parts\", \"passing\", \"passion\", \"passion\", \"penny\", \"people\", \"people\", \"people\", \"peoples\", \"percussionll\", \"percussionll\", \"permission\", \"photograph\", \"pill\", \"pine\", \"piss\", \"pistol\", \"pistol\", \"places\", \"places\", \"plan\", \"plan\", \"planet\", \"planet\", \"planets\", \"pleasure\", \"pleasure\", \"pocket\", \"polaroid\", \"pony\", \"pony\", \"poor\", \"poor\", \"poor\", \"por\", \"por\", \"porcupine\", \"portugal\", \"possible\", \"possible\", \"pot\", \"pouring\", \"pow\", \"prawn\", \"pretzled\", \"pretzled\", \"previously\", \"probably\", \"probably\", \"publicize\", \"publicize\", \"pulling\", \"pulse\", \"punk\", \"purple\", \"purple\", \"push\", \"push\", \"putting\", \"puzzle\", \"pyramid\", \"queen\", \"quills\", \"quills\", \"race\", \"radical\", \"rain\", \"rain\", \"random\", \"rats\", \"razor\", \"react\", \"ready\", \"ready\", \"really\", \"rebel\", \"red\", \"red\", \"red\", \"red\", \"red\", \"red\", \"red\", \"reeks\", \"reflektor\", \"refuse\", \"rejoice\", \"renegades\", \"replaced\", \"resolve\", \"resolve\", \"richard\", \"ride\", \"ride\", \"ride\", \"rides\", \"right\", \"right\", \"right\", \"right\", \"riot\", \"river\", \"river\", \"river\", \"road\", \"road\", \"road\", \"rock\", \"rock\", \"rock\", \"rock\", \"rock\", \"rocket\", \"rocking\", \"rocking\", \"rocks\", \"rococo\", \"roll\", \"roll\", \"roll\", \"room\", \"room\", \"room\", \"rotting\", \"round\", \"round\", \"round\", \"row\", \"run\", \"run\", \"runnin\", \"sacrilege\", \"safe\", \"safe\", \"safety\", \"said\", \"said\", \"said\", \"said\", \"said\", \"sample\", \"sarah\", \"saw\", \"saw\", \"saw\", \"say\", \"say\", \"scale\", \"scare\", \"scent\", \"scoping\", \"scrawled\", \"screaming\", \"screaming\", \"screaming\", \"screen\", \"seeds\", \"seeks\", \"set\", \"sex\", \"sha\", \"shake\", \"shake\", \"shake\", \"shall\", \"shambala\", \"shambala\", \"shedding\", \"shell\", \"shell\", \"shelter\", \"shes\", \"shifting\", \"shirin\", \"shit\", \"shit\", \"shit\", \"shit\", \"shitty\", \"shock\", \"shoot\", \"shoot\", \"shoulda\", \"shut\", \"siblings\", \"siblings\", \"silly\", \"silly\", \"sinatra\", \"sing\", \"sing\", \"sing\", \"sing\", \"sir\", \"sisters\", \"skate\", \"skivvy\", \"skivvy\", \"sky\", \"sky\", \"sky\", \"slippery\", \"slow\", \"slow\", \"slowly\", \"slowly\", \"smash\", \"smoke\", \"smoke\", \"smoke\", \"social\", \"social\", \"social\", \"social\", \"social\", \"somethings\", \"son\", \"son\", \"song\", \"song\", \"song\", \"sons\", \"sore\", \"soul\", \"soul\", \"soul\", \"soul\", \"south\", \"south\", \"sowing\", \"space\", \"space\", \"spanish\", \"spare\", \"spare\", \"spare\", \"special\", \"special\", \"special\", \"special\", \"speed\", \"speed\", \"spelled\", \"spider\", \"spiral\", \"spirit\", \"spirit\", \"spread\", \"squad\", \"squad\", \"stab\", \"stacked\", \"stage\", \"stage\", \"stain\", \"stall\", \"stall\", \"stared\", \"starlight\", \"stay\", \"stayed\", \"steel\", \"steiner\", \"stolen\", \"stone\", \"stone\", \"stone\", \"stone\", \"stone\", \"stop\", \"stop\", \"strange\", \"strange\", \"strange\", \"strength\", \"strip\", \"strip\", \"strip\", \"subway\", \"sucker\", \"suffragette\", \"suits\", \"summer\", \"summer\", \"sun\", \"sun\", \"sun\", \"sunday\", \"sung\", \"superorganism\", \"suppose\", \"sweep\", \"sweet\", \"sweet\", \"sweet\", \"sweet\", \"sweetness\", \"swimming\", \"switch\", \"switch\", \"swore\", \"synthesized\", \"tale\", \"technicolor\", \"tee\", \"teen\", \"teenage\", \"teeth\", \"teeth\", \"teeth\", \"telecaster\", \"telecaster\", \"television\", \"television\", \"tell\", \"tell\", \"tell\", \"texas\", \"therell\", \"theres\", \"theres\", \"thing\", \"thing\", \"things\", \"think\", \"thirty\", \"thirty\", \"thirty\", \"thought\", \"thought\", \"thought\", \"thought\", \"thought\", \"throw\", \"throwing\", \"thumbing\", \"tick\", \"ticket\", \"tides\", \"tigers\", \"timber\", \"time\", \"time\", \"time\", \"times\", \"times\", \"tips\", \"tips\", \"tire\", \"toes\", \"told\", \"told\", \"told\", \"tone\", \"tone\", \"took\", \"took\", \"took\", \"took\", \"touched\", \"town\", \"town\", \"town\", \"toys\", \"tracks\", \"tragedy\", \"train\", \"train\", \"train\", \"transient\", \"traveling\", \"treehouse\", \"trixie\", \"trixie\", \"trophy\", \"truly\", \"truly\", \"try\", \"trying\", \"turning\", \"turning\", \"turning\", \"turning\", \"twisting\", \"uhhuh\", \"uhuh\", \"unforgiving\", \"unhappy\", \"universe\", \"unsung\", \"unsure\", \"upright\", \"ups\", \"upset\", \"uptight\", \"uptight\", \"urgently\", \"used\", \"vague\", \"vain\", \"vain\", \"valentine\", \"value\", \"vegas\", \"veil\", \"vermillion\", \"vermillion\", \"versus\", \"vibrate\", \"vinyl\", \"vinyl\", \"visions\", \"vomit\", \"wait\", \"walk\", \"walk\", \"wanna\", \"wanna\", \"want\", \"want\", \"wanted\", \"war\", \"war\", \"war\", \"war\", \"war\", \"warrior\", \"water\", \"water\", \"water\", \"water\", \"waves\", \"waves\", \"waves\", \"way\", \"way\", \"way\", \"weapons\", \"web\", \"web\", \"weed\", \"weekends\", \"weird\", \"west\", \"west\", \"western\", \"whats\", \"whats\", \"wheel\", \"white\", \"white\", \"white\", \"white\", \"white\", \"whizlines\", \"whizlines\", \"whoa\", \"whod\", \"whod\", \"whop\", \"whore\", \"whos\", \"whos\", \"wig\", \"wild\", \"wild\", \"wild\", \"wilderness\", \"wing\", \"wing\", \"winner\", \"wisdom\", \"wish\", \"wishes\", \"witness\", \"witness\", \"woah\", \"wolf\", \"wont\", \"wont\", \"woo\", \"woo\", \"wood\", \"wouldn\", \"wounds\", \"wristband\", \"wrong\", \"yah\", \"yami\", \"yanada\", \"yea\", \"yeah\", \"yeah\", \"york\", \"young\", \"young\", \"youre\", \"youre\", \"youve\", \"yrs\", \"zed\", \"zed\", \"zeros\", \"zombie\", \"zoo\", \"zoso\", \"zoso\", \"zulu\", \"zulu\"]}, \"R\": 30, \"lambda.step\": 0.01, \"plot.opts\": {\"xlab\": \"PC1\", \"ylab\": \"PC2\"}, \"topic.order\": [15, 2, 16, 19, 5, 10, 17, 18, 11, 13, 12, 8, 14, 3, 6, 7, 1, 9, 4, 20]};\n",
       "\n",
       "function LDAvis_load_lib(url, callback){\n",
       "  var s = document.createElement('script');\n",
       "  s.src = url;\n",
       "  s.async = true;\n",
       "  s.onreadystatechange = s.onload = callback;\n",
       "  s.onerror = function(){console.warn(\"failed to load library \" + url);};\n",
       "  document.getElementsByTagName(\"head\")[0].appendChild(s);\n",
       "}\n",
       "\n",
       "if(typeof(LDAvis) !== \"undefined\"){\n",
       "   // already loaded: just create the visualization\n",
       "   !function(LDAvis){\n",
       "       new LDAvis(\"#\" + \"ldavis_el1609627849667034084635695638\", ldavis_el1609627849667034084635695638_data);\n",
       "   }(LDAvis);\n",
       "}else if(typeof define === \"function\" && define.amd){\n",
       "   // require.js is available: use it to load d3/LDAvis\n",
       "   require.config({paths: {d3: \"https://cdnjs.cloudflare.com/ajax/libs/d3/3.5.5/d3.min\"}});\n",
       "   require([\"d3\"], function(d3){\n",
       "      window.d3 = d3;\n",
       "      LDAvis_load_lib(\"https://cdn.rawgit.com/bmabey/pyLDAvis/files/ldavis.v1.0.0.js\", function(){\n",
       "        new LDAvis(\"#\" + \"ldavis_el1609627849667034084635695638\", ldavis_el1609627849667034084635695638_data);\n",
       "      });\n",
       "    });\n",
       "}else{\n",
       "    // require.js not available: dynamically load d3 & LDAvis\n",
       "    LDAvis_load_lib(\"https://cdnjs.cloudflare.com/ajax/libs/d3/3.5.5/d3.min.js\", function(){\n",
       "         LDAvis_load_lib(\"https://cdn.rawgit.com/bmabey/pyLDAvis/files/ldavis.v1.0.0.js\", function(){\n",
       "                 new LDAvis(\"#\" + \"ldavis_el1609627849667034084635695638\", ldavis_el1609627849667034084635695638_data);\n",
       "            })\n",
       "         });\n",
       "}\n",
       "</script>"
      ],
      "text/plain": [
       "PreparedData(topic_coordinates=              x         y  topics  cluster       Freq\n",
       "topic                                                \n",
       "14     0.353260 -0.015837       1        1  67.849023\n",
       "1      0.254042 -0.102332       2        1   4.924372\n",
       "15     0.152463 -0.115546       3        1   3.358742\n",
       "18     0.143613  0.016839       4        1   2.703458\n",
       "4      0.071489  0.000870       5        1   2.245252\n",
       "9      0.023261  0.153291       6        1   2.194923\n",
       "16     0.043611  0.307385       7        1   1.912155\n",
       "17     0.019563 -0.119167       8        1   1.829999\n",
       "10    -0.011570  0.174102       9        1   1.681653\n",
       "12    -0.027639 -0.004100      10        1   1.469183\n",
       "11    -0.055838  0.011325      11        1   1.400890\n",
       "7     -0.060995 -0.061784      12        1   1.358219\n",
       "13    -0.074960 -0.022476      13        1   1.257287\n",
       "2     -0.071706  0.008743      14        1   1.181744\n",
       "5     -0.114923 -0.003478      15        1   0.991983\n",
       "6     -0.121242 -0.046076      16        1   0.810405\n",
       "0     -0.122664 -0.037067      17        1   0.755147\n",
       "8     -0.135412 -0.045707      18        1   0.705055\n",
       "3     -0.133420 -0.045046      19        1   0.697225\n",
       "19    -0.130933 -0.053940      20        1   0.673284, topic_info=      Category          Freq          Term         Total  loglift  logprob\n",
       "20471  Default   8044.000000          love   8044.000000  30.0000  30.0000\n",
       "10345  Default  11323.000000          dont  11323.000000  29.0000  29.0000\n",
       "20003  Default  12050.000000          like  12050.000000  28.0000  28.0000\n",
       "39464  Default   3133.000000          yeah   3133.000000  27.0000  27.0000\n",
       "38206  Default   3004.000000         wanna   3004.000000  26.0000  26.0000\n",
       "20164  Default   2521.000000        little   2521.000000  25.0000  25.0000\n",
       "2436   Default   3933.000000          away   3933.000000  24.0000  24.0000\n",
       "12642  Default   2078.000000       feeling   2078.000000  23.0000  23.0000\n",
       "14726  Default   3146.000000         gonna   3146.000000  22.0000  22.0000\n",
       "20434  Default   1595.000000          lost   1595.000000  21.0000  21.0000\n",
       "14718  Default   1693.000000          gone   1693.000000  20.0000  20.0000\n",
       "14794  Default   6417.000000           got   6417.000000  19.0000  19.0000\n",
       "16162  Default   1332.000000           hey   1332.000000  18.0000  18.0000\n",
       "29030  Default   3249.000000         right   3249.000000  17.0000  17.0000\n",
       "24240  Default   1348.000000           ooh   1348.000000  16.0000  16.0000\n",
       "19130  Default  10759.000000          know  10759.000000  15.0000  15.0000\n",
       "33471  Default   1246.000000          stop   1246.000000  14.0000  14.0000\n",
       "10330  Default   1434.000000           don   1434.000000  13.0000  13.0000\n",
       "1017   Default   1202.000000          aint   1202.000000  12.0000  12.0000\n",
       "20931  Default   2023.000000           man   2023.000000  11.0000  11.0000\n",
       "23341  Default   1404.000000           new   1404.000000  10.0000  10.0000\n",
       "38209  Default   5900.000000          want   5900.000000   9.0000   9.0000\n",
       "29530  Default   1581.000000           run   1581.000000   8.0000   8.0000\n",
       "13883  Default   1018.000000          fuck   1018.000000   7.0000   7.0000\n",
       "17299  Default    986.000000     important    986.000000   6.0000   6.0000\n",
       "20182  Default   1716.000000        living   1716.000000   5.0000   5.0000\n",
       "12264  Default   1684.000000          face   1684.000000   4.0000   4.0000\n",
       "25489  Default   1241.000000        people   1241.000000   3.0000   3.0000\n",
       "32410  Default   1190.000000          song   1190.000000   2.0000   2.0000\n",
       "34005  Default   1495.000000           sun   1495.000000   1.0000   1.0000\n",
       "...        ...           ...           ...           ...      ...      ...\n",
       "14421  Topic20     11.892473      gigantic     12.668710   4.9375  -6.2241\n",
       "10358  Topic20     11.208692     doodoodoo     11.984930   4.9338  -6.2833\n",
       "37034  Topic20     11.067627       unhappy     11.843865   4.9330  -6.2960\n",
       "21380  Topic20     11.061240        mayday     11.837502   4.9329  -6.2966\n",
       "33040  Topic20     10.730800       stacked     11.507038   4.9309  -6.3269\n",
       "35490  Topic20     10.690714        timber     11.466952   4.9307  -6.3306\n",
       "39424  Topic20     10.346829          yami     11.123073   4.9284  -6.3633\n",
       "13142  Topic20      9.835835          flaw     10.612073   4.9248  -6.4140\n",
       "26823  Topic20     69.878630      pretzled     80.067074   4.8647  -4.4533\n",
       "3725   Topic20     69.862522       blaster     80.080822   4.8643  -4.4535\n",
       "8345   Topic20     69.974716       crushin     80.501921   4.8606  -4.4519\n",
       "38759  Topic20     69.668693     whizlines     80.172869   4.8603  -4.4563\n",
       "4358   Topic20     69.578258      branched     80.214984   4.8585  -4.4576\n",
       "36227  Topic20     69.558289        trixie     80.230240   4.8580  -4.4579\n",
       "220    Topic20     69.555573         3year     80.232108   4.8580  -4.4579\n",
       "21921  Topic20     69.542258        milled     80.240268   4.8577  -4.4581\n",
       "24503  Topic20     69.519280        othmar     80.248139   4.8572  -4.4584\n",
       "2730   Topic20     69.501501      bambaata     80.258630   4.8569  -4.4587\n",
       "27229  Topic20     69.743083     publicize     80.633633   4.8557  -4.4552\n",
       "22514  Topic20     69.418272          mors     80.302147   4.8551  -4.4599\n",
       "3364   Topic20     69.370728    berserkers     80.324853   4.8541  -4.4606\n",
       "31748  Topic20     69.309396        skivvy     80.351637   4.8529  -4.4614\n",
       "22732  Topic20     69.292683       mugshot     80.361476   4.8526  -4.4617\n",
       "39741  Topic20     69.240602          zulu     80.391403   4.8514  -4.4624\n",
       "3762   Topic20     69.206352       bleeped     80.409327   4.8507  -4.4629\n",
       "25521  Topic20     69.175933  percussionll     80.424479   4.8501  -4.4634\n",
       "30882  Topic20     69.113599      shambala     80.453956   4.8488  -4.4643\n",
       "39736  Topic20     69.091173          zoso     80.464689   4.8484  -4.4646\n",
       "34881  Topic20     69.061900    telecaster     80.483745   4.8477  -4.4650\n",
       "37725  Topic20     69.045108    vermillion     80.486788   4.8474  -4.4653\n",
       "\n",
       "[969 rows x 6 columns], token_table=       Topic      Freq       Term\n",
       "term                             \n",
       "133        6  0.972902       2000\n",
       "220       15  0.124638      3year\n",
       "220       20  0.872469      3year\n",
       "327       13  0.971041        aaa\n",
       "342       16  0.991472        aah\n",
       "919       19  0.987617      agree\n",
       "930       12  0.988396       ahah\n",
       "933       12  0.982537   ahahahah\n",
       "950       17  0.997228        ahh\n",
       "979       19  0.978890       ahoh\n",
       "993       18  0.970657      ahwoo\n",
       "1017       1  0.395704       aint\n",
       "1017       7  0.001663       aint\n",
       "1017       9  0.025771       aint\n",
       "1017      11  0.576930       aint\n",
       "1018       1  0.425006        air\n",
       "1018       2  0.193691        air\n",
       "1018       3  0.048771        air\n",
       "1018       4  0.001393        air\n",
       "1018       5  0.036230        air\n",
       "1018       8  0.294021        air\n",
       "1108       7  0.995825      alert\n",
       "1150       1  0.813581      alive\n",
       "1150       3  0.001437      alive\n",
       "1150       7  0.183990      alive\n",
       "1250       1  0.999244    alright\n",
       "1261      15  0.982381    altered\n",
       "1309      14  0.973750      amber\n",
       "1337       7  0.994363    america\n",
       "1379       1  0.148494        amp\n",
       "...      ...       ...        ...\n",
       "39122      2  0.000355       wont\n",
       "39125      1  0.230311        woo\n",
       "39125     10  0.756735        woo\n",
       "39128     10  0.995667       wood\n",
       "39237     13  0.976309     wouldn\n",
       "39244     10  0.977887     wounds\n",
       "39308     19  0.960730  wristband\n",
       "39325      1  0.999065      wrong\n",
       "39413      3  0.984901        yah\n",
       "39424     20  0.899032       yami\n",
       "39426     18  0.981400     yanada\n",
       "39462     12  0.988169        yea\n",
       "39464      1  0.001915       yeah\n",
       "39464     13  0.997899       yeah\n",
       "39573      7  0.997444       york\n",
       "39590      1  0.666430      young\n",
       "39590      4  0.333852      young\n",
       "39599      1  0.999763      youre\n",
       "39599      8  0.000146      youre\n",
       "39609      1  0.999295      youve\n",
       "39615     19  0.965070        yrs\n",
       "39665      4  0.935373        zed\n",
       "39665      5  0.061538        zed\n",
       "39683      8  0.998055      zeros\n",
       "39718     10  0.995351     zombie\n",
       "39725     15  0.984903        zoo\n",
       "39736     15  0.124278       zoso\n",
       "39736     20  0.857519       zoso\n",
       "39741     15  0.124391       zulu\n",
       "39741     20  0.858301       zulu\n",
       "\n",
       "[1546 rows x 3 columns], R=30, lambda_step=0.01, plot_opts={'xlab': 'PC1', 'ylab': 'PC2'}, topic_order=[15, 2, 16, 19, 5, 10, 17, 18, 11, 13, 12, 8, 14, 3, 6, 7, 1, 9, 4, 20])"
      ]
     },
     "execution_count": 110,
     "metadata": {},
     "output_type": "execute_result"
    }
   ],
   "source": [
    "vectorizer = CountVectorizer(analyzer='word',stop_words='english',lowercase=True, token_pattern='[a-zA-Z0-9]{3,}')\n",
    "\n",
    "bag_lyrics= vectorizer.fit_transform(songlyrics['cleaned_lyrics'])\n",
    "scipy.sparse.save_npz('sparse_lyrics.npz',bag_lyrics)\n",
    "LDA_model=LatentDirichletAllocation(n_components=20=,learning_method='online',n_jobs= -1)\n",
    "\n",
    "LDA_result = LDA_model.fit_transform(bag_lyrics)\n",
    "\n",
    "pyLDAvis.enable_notebook()\n",
    "pyLDAvis.sklearn.prepare(LDA_model,bag_lyrics,vectorizer)"
   ]
  },
  {
   "cell_type": "code",
   "execution_count": 111,
   "metadata": {},
   "outputs": [
    {
     "name": "stderr",
     "output_type": "stream",
     "text": [
      "C:\\Users\\16142\\Anaconda3\\lib\\site-packages\\pyLDAvis\\_prepare.py:257: FutureWarning:\n",
      "\n",
      "Sorting because non-concatenation axis is not aligned. A future version\n",
      "of pandas will change to not sort by default.\n",
      "\n",
      "To accept the future behavior, pass 'sort=False'.\n",
      "\n",
      "To retain the current behavior and silence the warning, pass 'sort=True'.\n",
      "\n",
      "\n"
     ]
    },
    {
     "data": {
      "text/html": [
       "\n",
       "<link rel=\"stylesheet\" type=\"text/css\" href=\"https://cdn.rawgit.com/bmabey/pyLDAvis/files/ldavis.v1.0.0.css\">\n",
       "\n",
       "\n",
       "<div id=\"ldavis_el1609627849667044889315089414\"></div>\n",
       "<script type=\"text/javascript\">\n",
       "\n",
       "var ldavis_el1609627849667044889315089414_data = {\"mdsDat\": {\"x\": [0.32823263072256953, 0.12816404267544046, 0.00980372775849245, 0.04551948866347904, -0.15622499884683835, -0.15553148640901435, -0.19996340456412878], \"y\": [-0.037845238551473294, -0.11882400596368137, -0.12624174427729654, 0.34937379012304165, 0.05782182724812931, -0.06377919506955004, -0.06050543350916983], \"topics\": [1, 2, 3, 4, 5, 6, 7], \"cluster\": [1, 1, 1, 1, 1, 1, 1], \"Freq\": [76.56598312190587, 6.275809236793862, 4.952699814573531, 3.492422505552507, 3.110203562954615, 3.0820917750995913, 2.5207899831199985]}, \"tinfo\": {\"Category\": [\"Default\", \"Default\", \"Default\", \"Default\", \"Default\", \"Default\", \"Default\", \"Default\", \"Default\", \"Default\", \"Default\", \"Default\", \"Default\", \"Default\", \"Default\", \"Default\", \"Default\", \"Default\", \"Default\", \"Default\", \"Default\", \"Default\", \"Default\", \"Default\", \"Default\", \"Default\", \"Default\", \"Default\", \"Default\", \"Default\", \"Topic1\", \"Topic1\", \"Topic1\", \"Topic1\", \"Topic1\", \"Topic1\", \"Topic1\", \"Topic1\", \"Topic1\", \"Topic1\", \"Topic1\", \"Topic1\", \"Topic1\", \"Topic1\", \"Topic1\", \"Topic1\", \"Topic1\", \"Topic1\", \"Topic1\", \"Topic1\", \"Topic1\", \"Topic1\", \"Topic1\", \"Topic1\", \"Topic1\", \"Topic1\", \"Topic1\", \"Topic1\", \"Topic1\", \"Topic1\", \"Topic1\", \"Topic1\", \"Topic1\", \"Topic1\", \"Topic1\", \"Topic1\", \"Topic1\", \"Topic1\", \"Topic1\", \"Topic1\", \"Topic1\", \"Topic1\", \"Topic2\", \"Topic2\", \"Topic2\", \"Topic2\", \"Topic2\", \"Topic2\", \"Topic2\", \"Topic2\", \"Topic2\", \"Topic2\", \"Topic2\", \"Topic2\", \"Topic2\", \"Topic2\", \"Topic2\", \"Topic2\", \"Topic2\", \"Topic2\", \"Topic2\", \"Topic2\", \"Topic2\", \"Topic2\", \"Topic2\", \"Topic2\", \"Topic2\", \"Topic2\", \"Topic2\", \"Topic2\", \"Topic2\", \"Topic2\", \"Topic2\", \"Topic2\", \"Topic2\", \"Topic2\", \"Topic2\", \"Topic2\", \"Topic2\", \"Topic2\", \"Topic2\", \"Topic2\", \"Topic2\", \"Topic2\", \"Topic2\", \"Topic2\", \"Topic2\", \"Topic2\", \"Topic2\", \"Topic2\", \"Topic2\", \"Topic2\", \"Topic2\", \"Topic2\", \"Topic2\", \"Topic2\", \"Topic2\", \"Topic2\", \"Topic2\", \"Topic2\", \"Topic2\", \"Topic2\", \"Topic2\", \"Topic3\", \"Topic3\", \"Topic3\", \"Topic3\", \"Topic3\", \"Topic3\", \"Topic3\", \"Topic3\", \"Topic3\", \"Topic3\", \"Topic3\", \"Topic3\", \"Topic3\", \"Topic3\", \"Topic3\", \"Topic3\", \"Topic3\", \"Topic3\", \"Topic3\", \"Topic3\", \"Topic3\", \"Topic3\", \"Topic3\", \"Topic3\", \"Topic3\", \"Topic3\", \"Topic3\", \"Topic3\", \"Topic3\", \"Topic3\", \"Topic3\", \"Topic3\", \"Topic3\", \"Topic3\", \"Topic3\", \"Topic3\", \"Topic3\", \"Topic3\", \"Topic3\", \"Topic3\", \"Topic3\", \"Topic3\", \"Topic3\", \"Topic3\", \"Topic3\", \"Topic3\", \"Topic3\", \"Topic3\", \"Topic3\", \"Topic3\", \"Topic3\", \"Topic3\", \"Topic3\", \"Topic3\", \"Topic3\", \"Topic3\", \"Topic4\", \"Topic4\", \"Topic4\", \"Topic4\", \"Topic4\", \"Topic4\", \"Topic4\", \"Topic4\", \"Topic4\", \"Topic4\", \"Topic4\", \"Topic4\", \"Topic4\", \"Topic4\", \"Topic4\", \"Topic4\", \"Topic4\", \"Topic4\", \"Topic4\", \"Topic4\", \"Topic4\", \"Topic4\", \"Topic4\", \"Topic4\", \"Topic4\", \"Topic4\", \"Topic4\", \"Topic4\", \"Topic4\", \"Topic4\", \"Topic4\", \"Topic4\", \"Topic4\", \"Topic4\", \"Topic4\", \"Topic4\", \"Topic4\", \"Topic4\", \"Topic4\", \"Topic4\", \"Topic4\", \"Topic4\", \"Topic4\", \"Topic4\", \"Topic4\", \"Topic4\", \"Topic4\", \"Topic4\", \"Topic4\", \"Topic4\", \"Topic4\", \"Topic4\", \"Topic4\", \"Topic4\", \"Topic4\", \"Topic4\", \"Topic4\", \"Topic4\", \"Topic4\", \"Topic4\", \"Topic4\", \"Topic4\", \"Topic4\", \"Topic4\", \"Topic4\", \"Topic4\", \"Topic4\", \"Topic4\", \"Topic4\", \"Topic4\", \"Topic5\", \"Topic5\", \"Topic5\", \"Topic5\", \"Topic5\", \"Topic5\", \"Topic5\", \"Topic5\", \"Topic5\", \"Topic5\", \"Topic5\", \"Topic5\", \"Topic5\", \"Topic5\", \"Topic5\", \"Topic5\", \"Topic5\", \"Topic5\", \"Topic5\", \"Topic5\", \"Topic5\", \"Topic5\", \"Topic5\", \"Topic5\", \"Topic5\", \"Topic5\", \"Topic5\", \"Topic5\", \"Topic5\", \"Topic5\", \"Topic5\", \"Topic5\", \"Topic5\", \"Topic5\", \"Topic5\", \"Topic5\", \"Topic5\", \"Topic5\", \"Topic5\", \"Topic5\", \"Topic5\", \"Topic5\", \"Topic5\", \"Topic5\", \"Topic5\", \"Topic5\", \"Topic5\", \"Topic5\", \"Topic5\", \"Topic5\", \"Topic5\", \"Topic6\", \"Topic6\", \"Topic6\", \"Topic6\", \"Topic6\", \"Topic6\", \"Topic6\", \"Topic6\", \"Topic6\", \"Topic6\", \"Topic6\", \"Topic6\", \"Topic6\", \"Topic6\", \"Topic6\", \"Topic6\", \"Topic6\", \"Topic6\", \"Topic6\", \"Topic6\", \"Topic6\", \"Topic6\", \"Topic6\", \"Topic6\", \"Topic6\", \"Topic6\", \"Topic6\", \"Topic6\", \"Topic6\", \"Topic6\", \"Topic6\", \"Topic6\", \"Topic6\", \"Topic6\", \"Topic6\", \"Topic6\", \"Topic6\", \"Topic6\", \"Topic6\", \"Topic6\", \"Topic6\", \"Topic6\", \"Topic6\", \"Topic6\", \"Topic6\", \"Topic6\", \"Topic6\", \"Topic6\", \"Topic6\", \"Topic7\", \"Topic7\", \"Topic7\", \"Topic7\", \"Topic7\", \"Topic7\", \"Topic7\", \"Topic7\", \"Topic7\", \"Topic7\", \"Topic7\", \"Topic7\", \"Topic7\", \"Topic7\", \"Topic7\", \"Topic7\", \"Topic7\", \"Topic7\", \"Topic7\", \"Topic7\", \"Topic7\", \"Topic7\", \"Topic7\", \"Topic7\", \"Topic7\", \"Topic7\", \"Topic7\", \"Topic7\", \"Topic7\", \"Topic7\", \"Topic7\", \"Topic7\", \"Topic7\", \"Topic7\", \"Topic7\", \"Topic7\", \"Topic7\", \"Topic7\", \"Topic7\"], \"Freq\": [11192.0, 3518.0, 2592.0, 2050.0, 2902.0, 1624.0, 1474.0, 11746.0, 1201.0, 1071.0, 11115.0, 1154.0, 1580.0, 4586.0, 1043.0, 690.0, 725.0, 1336.0, 953.0, 1645.0, 922.0, 977.0, 607.0, 8343.0, 737.0, 2248.0, 2180.0, 1361.0, 830.0, 7067.0, 11745.818903159194, 6096.455355626881, 7066.569264410106, 6699.145466671523, 4514.781953425354, 4478.172791635376, 4662.549887377277, 4042.7492652538303, 3743.084923281963, 3892.072083985458, 3343.848574700436, 3407.123183816028, 11112.806570348368, 3590.238188444703, 2968.351841288219, 3267.563842141247, 2564.7956536833185, 4674.116317293544, 3941.444990025755, 2377.0967663589454, 2319.809130862231, 2568.254082142186, 2904.4671632618597, 2177.282442732852, 8340.633594512119, 1741.4677351998846, 1738.0479157298803, 1691.8226784652184, 1638.2465865311021, 1986.6892436375992, 4089.8343771115833, 3365.400997090856, 2850.4369592904086, 3353.4180617388934, 3130.0253517643814, 3093.4123430929544, 6325.608801511067, 4485.725999212426, 9380.079729382946, 2674.796144264662, 2994.2531481687915, 2909.7885674080876, 228.8681586742585, 192.15411215699513, 181.16392889382143, 170.12579428336753, 158.75257104438776, 163.8317230815503, 155.94110818126336, 170.93282503193683, 124.5550427336577, 100.31518414106836, 96.19008989356433, 90.34408941930182, 86.8334840536331, 88.73241708544225, 70.06555693867007, 68.64928238958079, 66.6491515911174, 64.37090318533885, 60.19770005785122, 60.125142188616024, 75.31726664375674, 52.51685503479457, 51.449521256249696, 48.90606563828108, 48.346166010256205, 45.97725439835694, 45.01166123188533, 44.45532722765317, 45.32129555419908, 43.81201542847535, 48.168798615964285, 53.310878915353236, 151.37927622184398, 223.29839414187788, 72.72789475042242, 874.1350635013133, 228.27055150564757, 284.3135704490948, 245.51441409966165, 220.42276423924164, 202.0155226237452, 340.134682340955, 654.2521138566752, 484.75816860147046, 233.76922451778537, 133.7735642033027, 354.18485083693224, 350.4861347676086, 96.28813704382594, 282.89508395076166, 293.010653394883, 248.57770963126032, 205.58818620443495, 169.3894915893332, 154.0301094939256, 192.99237389336756, 306.9741837449449, 214.87967125481003, 176.13034302897398, 174.58362809752185, 173.74371354909218, 212.3980313592511, 197.5183993407235, 177.50958829789852, 173.84829867834148, 164.14891384788092, 151.86389846233652, 135.7070332605641, 125.51986121370484, 124.43343072291728, 115.47875207040224, 107.94277683468427, 184.55864764079917, 96.9849973743537, 94.83436605880982, 88.07629325950374, 85.94183088455017, 80.54231235510454, 78.93881747283447, 76.32135712800873, 75.44538655245377, 71.57967842496502, 71.6948420960647, 70.94332677489456, 65.6392570522037, 54.013462639386354, 53.974806935130474, 53.39486876120035, 52.86864619540098, 50.59898598953537, 49.7045015843438, 183.53418377146366, 110.29923851311655, 184.01258109638917, 75.5633607570565, 207.48411554907068, 1149.2967235530343, 423.22365815142507, 409.7414555207321, 245.87047346013426, 313.8221630896458, 82.89919253126843, 387.2074618704528, 686.9706762763407, 162.33021415942682, 129.18553001594435, 298.6798612930831, 218.83580132146005, 141.1897400584375, 252.7024724230252, 229.9616585115654, 172.99531050520605, 137.63732209640384, 156.78761119870728, 157.63519346388267, 136.7421068409072, 144.82810940413552, 605.6539851879867, 160.29920262316378, 136.96952574372327, 106.07072430529267, 97.17041492699151, 91.38027242215264, 83.18540309978584, 82.09674892540805, 78.18886081216245, 77.87897548866272, 83.08816464676056, 76.94306929860304, 77.95991322122708, 74.55180497503916, 74.75196703804129, 74.3062358568614, 73.83747955663985, 73.5690085307185, 74.54758760674852, 84.19954230871743, 74.05393205102173, 73.47979260911355, 73.68823788618931, 73.53780973849136, 58.77105695335903, 55.38948061437087, 72.96210248265383, 308.42695242874163, 77.32028375750203, 48.48152979997428, 73.79221227638514, 79.98291168385296, 73.44186858274834, 91.88960914588188, 145.76514324603346, 427.99341976244125, 97.43530637110365, 80.10171679840546, 82.45991621324538, 83.68290775296364, 406.3690169703234, 530.9876248818213, 90.22136434580372, 289.54290672943193, 198.42753298593027, 273.04746025045523, 190.62291289849662, 553.5258951877075, 192.86709115096636, 742.7236931758966, 136.7103519358831, 91.93426360780657, 926.904756456935, 385.0834301353514, 90.9353313975244, 96.33288619545473, 109.46465039802717, 190.13042685850348, 225.26794140022915, 95.2213926646832, 148.62031605905233, 111.49909598979876, 97.27940195493095, 101.88370400360434, 113.4220799975331, 101.71485330434847, 107.58243894770122, 108.45761595105131, 110.80374820558484, 104.98276158982257, 362.63788603639495, 360.8233074063934, 219.04156860419718, 145.29583236564673, 134.85348575135276, 132.3708646946336, 132.89321710661548, 127.82706520511725, 124.7617859237704, 124.11679187552636, 124.13317575964882, 123.51738016601817, 123.49002509454944, 122.7852942035114, 130.6983039736395, 121.68234843897451, 94.39613837650776, 86.6748924689589, 148.3743112840825, 75.7227190241831, 138.70696133012956, 70.63501662309517, 122.41547443917926, 127.0329996445279, 63.80513902647725, 50.51154460654979, 49.664660175110114, 48.60582235957246, 43.837167532937464, 41.857514198337135, 276.9967688602929, 135.52907690832131, 118.80925074042149, 252.67962245572645, 627.3415524347961, 121.71010725833314, 333.0277587593586, 129.21872718393828, 150.46354049291654, 114.53077814125794, 140.95350825822473, 215.8999149004851, 293.3295140453808, 161.2330446044024, 207.8247764231295, 207.0551698026863, 211.70129460242637, 380.50951921094855, 151.4771265371861, 155.3876016474515, 125.92714794859135, 413.372938695001, 153.22320890139335, 147.19390470923165, 147.42215093168335, 145.82638614912156, 143.51368335769527, 138.5007573387823, 131.74460436270422, 140.85605962288517, 117.00430738319494, 148.0381027189771, 105.75314564212644, 80.6306655733122, 57.092704784476126, 53.28269798862963, 53.304816887949535, 51.63366534378825, 50.9483112082025, 50.20970738330922, 48.069361851149615, 47.916816303148956, 45.77520094056159, 45.66894602588901, 42.63443380583629, 41.92202107605462, 41.951279217732576, 140.47288906690412, 39.417631939907096, 36.35468890009049, 36.05108736337168, 157.26802878144832, 164.07418637826555, 136.39952741707913, 139.7292832433451, 165.25564757702725, 143.27317624621222, 188.30142757489526, 136.16428923786162, 180.8037411270078, 126.45721750449313, 324.1888011089187, 191.28565920685435, 234.96209799934766, 145.66507686463441, 68.54893485209669, 242.81321154115412, 118.66105527147057, 133.7849742785889, 126.891642329369, 118.44404891111203, 96.727640389935, 95.46327442562881, 91.27800548491668, 75.2911347504051, 74.32807312035347, 63.33301810132678, 58.6261066009819, 49.34241203115646, 48.77296856267708, 48.718135029857685, 48.32562825434773, 47.759304049972556, 46.342976713081384, 44.39198185106029, 43.56059201217803, 42.861581774506696, 41.50781495408972, 40.78671749042426, 40.5079886107537, 39.82933378454659, 37.94624224851638, 36.7419535286941, 36.178668938515074, 36.04779246856333, 34.648942884185324, 34.08697210369849, 33.82993182430033, 33.691136541276784, 31.41948484972072, 66.89614291532598, 46.29110789752175, 73.58570645417603, 97.1613803920745, 69.4523890599854, 87.26997193732228, 48.51158108896567, 42.85230644721543, 39.01298590907418], \"Term\": [\"like\", \"tell\", \"little\", \"try\", \"heart\", \"feeling\", \"hey\", \"dont\", \"shes\", \"living\", \"know\", \"ask\", \"new\", \"way\", \"alright\", \"died\", \"hate\", \"waiting\", \"knew\", \"face\", \"water\", \"hes\", \"important\", \"love\", \"fuck\", \"man\", \"light\", \"hand\", \"big\", \"youre\", \"dont\", \"want\", \"youre\", \"time\", \"ill\", \"feel\", \"say\", \"away\", \"ive\", \"yeah\", \"wanna\", \"think\", \"know\", \"cause\", \"need\", \"gonna\", \"good\", \"come\", \"let\", \"mind\", \"things\", \"baby\", \"wont\", \"look\", \"love\", \"stay\", \"hard\", \"youve\", \"thought\", \"leave\", \"make\", \"right\", \"day\", \"night\", \"life\", \"theres\", \"got\", \"way\", \"like\", \"home\", \"said\", \"eyes\", \"doo\", \"chop\", \"curve\", \"thumbing\", \"amp\", \"font\", \"ahh\", \"flashlight\", \"weird\", \"completely\", \"beast\", \"cities\", \"john\", \"waters\", \"setting\", \"wandering\", \"oohoohooh\", \"doodoo\", \"colder\", \"dime\", \"apple\", \"fully\", \"thirty\", \"shades\", \"involved\", \"shark\", \"aaa\", \"innocence\", \"science\", \"dada\", \"rebel\", \"blessed\", \"form\", \"tryin\", \"fresh\", \"shes\", \"began\", \"father\", \"silent\", \"cat\", \"golden\", \"beautiful\", \"ask\", \"water\", \"hang\", \"jesus\", \"sweet\", \"white\", \"pool\", \"pull\", \"blood\", \"money\", \"earth\", \"dog\", \"gold\", \"blue\", \"like\", \"man\", \"dead\", \"hand\", \"light\", \"damned\", \"bye\", \"funk\", \"gum\", \"upright\", \"bear\", \"grown\", \"fuckin\", \"killed\", \"fever\", \"poison\", \"valentine\", \"mercy\", \"killer\", \"mouths\", \"chorus\", \"versus\", \"tick\", \"cream\", \"grandma\", \"natural\", \"forest\", \"explode\", \"boom\", \"november\", \"clever\", \"level\", \"tip\", \"pit\", \"feelin\", \"oclock\", \"covered\", \"whoa\", \"tracks\", \"grip\", \"hey\", \"bit\", \"breathing\", \"faster\", \"clean\", \"callin\", \"hes\", \"little\", \"desire\", \"pistol\", \"cut\", \"finally\", \"magic\", \"big\", \"making\", \"kid\", \"dirty\", \"hot\", \"mouth\", \"shut\", \"like\", \"important\", \"feeding\", \"bound\", \"brick\", \"damage\", \"loser\", \"difficult\", \"bleed\", \"gross\", \"scissor\", \"prime\", \"homemade\", \"teen\", \"vinyl\", \"estranged\", \"curfew\", \"sample\", \"oops\", \"belts\", \"stall\", \"lowkey\", \"porcupine\", \"lecture\", \"analog\", \"oohooh\", \"fame\", \"maneuver\", \"arrived\", \"pony\", \"uhhuh\", \"snatch\", \"owned\", \"renegades\", \"strip\", \"hissing\", \"probably\", \"monkey\", \"ghetto\", \"pot\", \"desk\", \"fuck\", \"living\", \"leaf\", \"moment\", \"giving\", \"somebody\", \"screaming\", \"feeling\", \"drop\", \"tell\", \"higher\", \"tattoo\", \"like\", \"try\", \"order\", \"class\", \"nose\", \"alright\", \"heart\", \"metal\", \"knew\", \"fingers\", \"page\", \"bar\", \"taking\", \"favorite\", \"sign\", \"watch\", \"face\", \"waiting\", \"zed\", \"cultivated\", \"queen\", \"alert\", \"images\", \"dutch\", \"drawer\", \"badge\", \"lark\", \"scrawled\", \"locker\", \"transient\", \"technicolor\", \"mischief\", \"fixing\", \"locally\", \"toes\", \"diamonds\", \"web\", \"drowning\", \"chords\", \"boogie\", \"festering\", \"squad\", \"lucy\", \"southern\", \"drug\", \"butter\", \"sacrilege\", \"ivory\", \"willing\", \"disco\", \"quills\", \"dip\", \"died\", \"bang\", \"capital\", \"rate\", \"tone\", \"tee\", \"finds\", \"king\", \"set\", \"parts\", \"future\", \"stars\", \"black\", \"like\", \"birds\", \"ready\", \"sucked\", \"composed\", \"ohoh\", \"slippery\", \"distress\", \"radical\", \"arcade\", \"synthesized\", \"america\", \"somethings\", \"hollow\", \"spelled\", \"woah\", \"pow\", \"mission\", \"towns\", \"agree\", \"hip\", \"cherry\", \"san\", \"johnny\", \"wisdom\", \"gently\", \"kings\", \"jimmy\", \"london\", \"cell\", \"authority\", \"chicken\", \"paul\", \"2000\", \"lipstick\", \"cancer\", \"ninja\", \"resolve\", \"bands\", \"appear\", \"gimme\", \"tips\", \"motion\", \"american\", \"beat\", \"key\", \"heaven\", \"planet\", \"hed\", \"hate\", \"backwards\", \"low\", \"eye\", \"bop\", \"jack\", \"niggas\", \"yall\", \"nana\", \"nigga\", \"lookout\", \"bah\", \"freight\", \"reflektor\", \"fashion\", \"trap\", \"cookie\", \"bolt\", \"group\", \"belief\", \"yanada\", \"loo\", \"safety\", \"seeks\", \"warrior\", \"jean\", \"aah\", \"prawn\", \"hih\", \"vomit\", \"portugal\", \"reeks\", \"bandages\", \"bom\", \"ima\", \"chemistry\", \"york\", \"shit\", \"yes\", \"new\", \"bitch\", \"woo\", \"ass\"], \"Total\": [11192.0, 3518.0, 2592.0, 2050.0, 2902.0, 1624.0, 1474.0, 11746.0, 1201.0, 1071.0, 11115.0, 1154.0, 1580.0, 4586.0, 1043.0, 690.0, 725.0, 1336.0, 953.0, 1645.0, 922.0, 977.0, 607.0, 8343.0, 737.0, 2248.0, 2180.0, 1361.0, 830.0, 7067.0, 11746.489607004321, 6097.092669625252, 7067.334172992506, 6699.886199501743, 4515.42227071315, 4478.811488977858, 4663.256693244101, 4043.403902875955, 3743.729711114387, 3892.7617785274683, 3344.4883005406296, 3407.775296677086, 11115.07018394775, 3590.997709102204, 2968.9882829366393, 3268.3002691010247, 2565.437082902553, 4675.340304700658, 3942.4888570586304, 2377.7341426121743, 2320.4580860356564, 2568.9874824522403, 2905.318592259177, 2177.9404094660117, 8343.661209771128, 1742.104053663812, 1738.6834737699623, 1692.4617500294917, 1638.8954348016657, 1987.487898956551, 4095.800050891112, 3369.020354143054, 2851.660524316644, 3361.16063963565, 3139.876708136003, 3103.0586915517147, 6513.232290132095, 4586.7630181951, 11192.581000407568, 2690.474851312176, 3087.269347363039, 3010.0426305902956, 229.51751435396918, 192.82099114813423, 181.83776431198964, 170.80117878497256, 159.40398286699943, 164.5124726686311, 156.59165211321388, 171.79078181883452, 125.2065178341229, 100.96687382534, 96.84306047087155, 90.99483799116983, 87.48431159047352, 89.39923799236284, 70.71742958059671, 69.30074623514521, 67.29897248411746, 65.02021709382021, 60.848370360387534, 60.77688717097414, 76.18356700580236, 53.16815724462544, 52.10000106365641, 49.55650022363613, 48.99975438130724, 46.627912477431245, 45.66087667986615, 45.107969164574605, 45.989946432445336, 44.4612699554142, 48.89321076768291, 54.23009643518358, 158.81983577730392, 262.9896658431235, 77.17237419175994, 1201.0366900161275, 272.73746091313274, 376.12992891374887, 332.11919607199434, 294.0315246992461, 265.621627338021, 505.9075718452769, 1154.5401293475056, 922.5163685210875, 394.5456703045393, 182.77799290691112, 786.6577961502489, 826.5808505818916, 114.6587272225291, 698.6738138053526, 845.2114129817221, 697.8153366165641, 480.42969606913704, 411.07626729795686, 347.84110832442025, 860.1873651092143, 11192.581000407568, 2248.349089336374, 1108.9980265155564, 1361.440367771897, 2180.7574470515497, 213.06160145719082, 198.1725254569022, 178.2128915547539, 174.5567128897419, 164.82003629714552, 152.51943530787256, 136.3629114555915, 126.17614755998754, 125.08968194232516, 116.13819802294279, 108.59875413023931, 185.69569439543952, 97.64075921628017, 95.49222056583592, 88.73165166790571, 86.59870903653172, 81.19750358381586, 79.59346150228372, 76.97666666836459, 76.09932154988493, 72.2355202838768, 72.3518196913015, 71.59888768489125, 66.299285385554, 54.66790552442098, 54.63036596998786, 54.050897136668446, 53.52576512954683, 51.26058635351462, 50.360383503374784, 187.68708380387673, 114.34761048359105, 198.4568858468365, 78.30674918503219, 232.04231353090572, 1474.1681734486872, 514.7000050854913, 497.7669092087896, 299.0901175044668, 469.960737528049, 88.760718619549, 977.2688211338664, 2592.5182422842167, 257.5247494680382, 185.03225434640595, 793.7749218663281, 517.3128498685752, 231.51836979636767, 830.1774544752142, 709.2553846270878, 427.6951268551395, 230.52114889873732, 415.0807099714824, 633.3285301473828, 344.16119263444443, 11192.581000407568, 607.6108121429706, 161.02217519180337, 137.69274286987516, 106.8479312248318, 97.93913950798175, 92.11093781330602, 83.90600518905413, 82.81991942288143, 78.90942067584481, 78.59982716662547, 83.85898575176185, 77.66379961700495, 78.69609896378789, 75.27201599049448, 75.47508872566617, 75.02651391337375, 74.57250112997316, 74.31212271657616, 75.32577282082897, 85.08383438257943, 74.86473510682296, 74.30620009741003, 74.53397315158408, 74.44719466788067, 59.524675255471436, 56.11249765723331, 73.92945124196463, 312.6279667778639, 78.39329744813587, 49.20329281894236, 74.9857503948309, 81.4578169154719, 74.75882616346833, 94.8252266615203, 157.76116008385839, 525.3998694550569, 101.6289817060456, 82.97238702969474, 86.3692799013087, 88.23070134441924, 737.9244702218191, 1071.0483682493893, 98.72561208090174, 555.2131898031843, 318.3414376586711, 529.2490730041985, 313.92377813180764, 1624.5490088220772, 358.53243110245654, 3518.9283603873446, 213.58451199732772, 106.96619432301794, 11192.581000407568, 2050.7585917159754, 109.25794583147766, 128.52333789369186, 184.55730391334762, 1043.7340012829873, 2902.222053148345, 133.14481810508687, 953.2103989753913, 310.0602073103608, 150.20358864164902, 206.67508642335423, 482.63995163656415, 209.5367169443957, 387.1792677903075, 955.3613333995087, 1645.2189668363508, 1336.083808841743, 363.3231920005653, 361.5080160956652, 219.7260112090143, 146.020558253646, 135.53826335085208, 133.05524740936877, 133.58657014989498, 128.51175158213456, 125.44626197786003, 124.80128447242267, 124.81940678087064, 124.20202869250984, 124.17453274695974, 123.47026673282285, 131.42906643438192, 122.51253744979421, 95.12998341074704, 87.35916576812467, 149.6272323217383, 76.40776484695311, 140.00079487926027, 71.3169499564812, 123.68857365448586, 128.36908077528275, 64.48752507207118, 51.19687234230852, 50.35062823441743, 49.28952525482686, 44.51892325791147, 42.540332820333056, 284.74053776788975, 139.70366443073323, 122.47372240867598, 267.2685696303745, 690.1398588690447, 127.00597065394662, 378.19801386362434, 137.90368963597035, 172.20174332436508, 123.33726111206941, 164.4223123136377, 302.52903094939035, 539.4079464268225, 203.8807974531434, 416.85372520759256, 696.5336632063949, 941.6430098872061, 11192.581000407568, 297.2384076760542, 482.61117761218776, 147.80891167478458, 414.07725872883316, 153.89257087291466, 147.86819949531156, 148.10005583161592, 146.50054765727276, 144.18820586540383, 139.18181550009686, 132.4137626924405, 141.66363723915006, 117.67627294322233, 148.95516430094628, 106.42339923881389, 81.29952456380269, 57.76390033023911, 53.954324962476974, 53.97680457098614, 52.304129915937594, 51.61873405442885, 50.882219917589, 48.739405133498934, 48.58832524747387, 46.446144024580896, 46.340128977105984, 43.30341852444735, 42.59303915063947, 42.62279919215814, 142.74307249537856, 40.089201300406614, 37.02466431981133, 36.72030200935141, 160.9817635461301, 168.94948647919455, 141.51416931691207, 149.70123956077464, 183.8897583814521, 160.9483235082507, 227.6761774411644, 161.02711339917187, 225.34636106669427, 161.61134412708577, 546.5106411328461, 279.47089436669285, 437.81856925480855, 236.5811488785123, 80.17290758574866, 725.0888229079998, 208.9637324771489, 479.8498870194999, 648.1356503554854, 119.09847252032765, 97.3836884588871, 96.1183095798881, 91.93373999493231, 75.9455163847141, 74.98477842381963, 63.987429927543964, 59.28033290468081, 49.99738550798722, 49.42721771690452, 49.375273418697866, 48.98379246326372, 48.41455202480406, 47.000668528354325, 45.04888233326107, 44.21928828987204, 43.515917383666086, 42.16220812140584, 41.4446417705442, 41.16326165046198, 40.48522733561441, 38.60105429679469, 37.39798983131419, 36.83362423467612, 36.702044403894206, 35.30638443686839, 34.744984222671626, 34.48424230561943, 34.34633336622896, 32.07361264099716, 69.14584047702627, 54.12112232938828, 164.51732679861993, 677.3296650255556, 609.8737648339178, 1580.8650573006794, 145.45858229923277, 100.05988834125988, 125.83979194835553], \"loglift\": [30.0, 29.0, 28.0, 27.0, 26.0, 25.0, 24.0, 23.0, 22.0, 21.0, 20.0, 19.0, 18.0, 17.0, 16.0, 15.0, 14.0, 13.0, 12.0, 11.0, 10.0, 9.0, 8.0, 7.0, 6.0, 5.0, 4.0, 3.0, 2.0, 1.0, 0.267, 0.2669, 0.2669, 0.2669, 0.2669, 0.2669, 0.2669, 0.2669, 0.2668, 0.2668, 0.2668, 0.2668, 0.2668, 0.2668, 0.2668, 0.2668, 0.2668, 0.2668, 0.2668, 0.2667, 0.2667, 0.2667, 0.2667, 0.2667, 0.2667, 0.2667, 0.2667, 0.2666, 0.2666, 0.2666, 0.2656, 0.2659, 0.2666, 0.2647, 0.2639, 0.2639, 0.2378, 0.2447, 0.0904, 0.2612, 0.2364, 0.2331, 2.7656, 2.765, 2.7648, 2.7645, 2.7644, 2.7643, 2.7643, 2.7635, 2.7633, 2.762, 2.7617, 2.7613, 2.761, 2.761, 2.7592, 2.759, 2.7588, 2.7584, 2.7577, 2.7577, 2.757, 2.7561, 2.7559, 2.7553, 2.755, 2.7544, 2.7541, 2.7539, 2.7538, 2.7538, 2.7535, 2.7514, 2.7205, 2.6049, 2.7092, 2.4508, 2.5905, 2.4886, 2.4663, 2.4803, 2.4947, 2.3715, 2.2005, 2.125, 2.2451, 2.4563, 1.9705, 1.9105, 2.5939, 1.8644, 1.7091, 1.7363, 1.9197, 1.8819, 1.9539, 1.274, -0.8278, 0.4206, 0.9285, 0.7146, 0.2386, 3.0021, 3.0019, 3.0013, 3.0012, 3.0012, 3.0009, 3.0004, 3.0, 3.0, 2.9995, 2.9992, 2.9991, 2.9985, 2.9983, 2.9978, 2.9976, 2.9971, 2.997, 2.9967, 2.9966, 2.9961, 2.9961, 2.996, 2.9952, 2.9932, 2.9932, 2.993, 2.9929, 2.9922, 2.9921, 2.9829, 2.9692, 2.9297, 2.9696, 2.8934, 2.7563, 2.8096, 2.8106, 2.8093, 2.6014, 2.9369, 2.0794, 1.6771, 2.5438, 2.646, 2.0278, 2.1449, 2.5107, 1.8158, 1.8789, 2.1001, 2.4895, 2.0317, 1.6145, 2.0822, -1.3422, 3.3513, 3.3501, 3.3493, 3.3473, 3.3467, 3.3466, 3.3459, 3.3458, 3.3454, 3.3454, 3.3453, 3.3453, 3.3452, 3.345, 3.3449, 3.3449, 3.3447, 3.3445, 3.3442, 3.3441, 3.3437, 3.3434, 3.3432, 3.3423, 3.3418, 3.3416, 3.3414, 3.341, 3.3408, 3.3398, 3.3385, 3.3363, 3.3368, 3.3231, 3.2755, 3.1495, 3.3124, 3.3194, 3.3083, 3.3017, 2.758, 2.6529, 3.2645, 2.7035, 2.8819, 2.6928, 2.8557, 2.2779, 2.7346, 1.799, 2.9084, 3.2031, 0.8634, 1.6821, 3.171, 3.0663, 2.8322, 1.6517, 0.7986, 3.0193, 1.4961, 2.3318, 2.9202, 2.6473, 1.9064, 2.6318, 2.0739, 1.1788, 0.6567, 0.8109, 3.4686, 3.4686, 3.4674, 3.4655, 3.4654, 3.4653, 3.4653, 3.4651, 3.465, 3.465, 3.465, 3.465, 3.465, 3.4649, 3.4649, 3.4637, 3.4627, 3.4626, 3.4621, 3.4615, 3.4612, 3.4609, 3.4601, 3.46, 3.4598, 3.457, 3.4568, 3.4565, 3.455, 3.4543, 3.4429, 3.4401, 3.4401, 3.4144, 3.3751, 3.4279, 3.3433, 3.4054, 3.3355, 3.3964, 3.3165, 3.1331, 2.8613, 3.2358, 2.7744, 2.2574, 1.978, 0.089, 2.7964, 2.3372, 3.3103, 3.4779, 3.4752, 3.475, 3.475, 3.4749, 3.4749, 3.4747, 3.4745, 3.4738, 3.4738, 3.4734, 3.4732, 3.4713, 3.4679, 3.467, 3.467, 3.4667, 3.4665, 3.4663, 3.4657, 3.4656, 3.465, 3.465, 3.464, 3.4637, 3.4637, 3.4635, 3.4627, 3.4613, 3.4612, 3.4562, 3.4503, 3.4428, 3.4106, 3.3727, 3.3632, 3.2897, 3.3119, 3.2593, 3.2343, 2.9573, 3.1004, 2.8572, 2.9946, 3.3229, 2.3856, 2.9137, 2.2023, 1.8488, 3.6751, 3.6738, 3.6738, 3.6734, 3.6719, 3.6718, 3.6703, 3.6695, 3.6674, 3.6673, 3.6672, 3.6671, 3.667, 3.6665, 3.6659, 3.6656, 3.6654, 3.665, 3.6646, 3.6646, 3.6643, 3.6635, 3.6629, 3.6627, 3.6626, 3.6618, 3.6615, 3.6614, 3.6613, 3.66, 3.6475, 3.5243, 2.876, 1.7388, 1.508, 0.7839, 2.5825, 2.8326, 2.5095], \"logprob\": [30.0, 29.0, 28.0, 27.0, 26.0, 25.0, 24.0, 23.0, 22.0, 21.0, 20.0, 19.0, 18.0, 17.0, 16.0, 15.0, 14.0, 13.0, 12.0, 11.0, 10.0, 9.0, 8.0, 7.0, 6.0, 5.0, 4.0, 3.0, 2.0, 1.0, -4.0625, -4.7183, -4.5706, -4.624, -5.0187, -5.0268, -4.9864, -5.1291, -5.2061, -5.1671, -5.3189, -5.3001, -4.1179, -5.2478, -5.438, -5.342, -5.5841, -4.984, -5.1545, -5.6601, -5.6845, -5.5828, -5.4598, -5.7479, -4.4049, -5.9713, -5.9732, -6.0002, -6.0324, -5.8395, -5.1175, -5.3125, -5.4785, -5.316, -5.385, -5.3967, -4.6814, -5.0251, -4.2874, -5.5421, -5.4293, -5.4579, -5.4992, -5.674, -5.7329, -5.7958, -5.865, -5.8335, -5.8828, -5.791, -6.1076, -6.324, -6.366, -6.4287, -6.4683, -6.4467, -6.6829, -6.7033, -6.7329, -6.7677, -6.8347, -6.8359, -6.6106, -6.9712, -6.9917, -7.0424, -7.0539, -7.1042, -7.1254, -7.1378, -7.1185, -7.1524, -7.0576, -6.9562, -5.9125, -5.5238, -6.6456, -4.1591, -5.5018, -5.2822, -5.429, -5.5368, -5.624, -5.103, -4.4488, -4.7487, -5.478, -6.0362, -5.0625, -5.073, -6.365, -5.2872, -5.2521, -5.4166, -5.6064, -5.8001, -5.8952, -5.6697, -5.2055, -5.5622, -5.7611, -5.7699, -5.7747, -5.3371, -5.4097, -5.5165, -5.5374, -5.5948, -5.6726, -5.785, -5.8631, -5.8718, -5.9465, -6.0139, -5.4776, -6.121, -6.1434, -6.2173, -6.2419, -6.3068, -6.3269, -6.3606, -6.3721, -6.4247, -6.4231, -6.4337, -6.5114, -6.7063, -6.707, -6.7178, -6.7277, -6.7716, -6.7894, -5.4831, -5.9923, -5.4805, -6.3706, -5.3605, -3.6486, -4.6476, -4.68, -5.1907, -4.9467, -6.2779, -4.7366, -4.1633, -5.6059, -5.8343, -4.9962, -5.3072, -5.7454, -5.1633, -5.2576, -5.5423, -5.7709, -5.6407, -5.6353, -5.7774, -5.72, -3.9399, -5.2692, -5.4264, -5.6821, -5.7697, -5.8312, -5.9251, -5.9383, -5.9871, -5.9911, -5.9263, -6.0031, -5.99, -6.0347, -6.032, -6.038, -6.0443, -6.048, -6.0348, -5.913, -6.0414, -6.0492, -6.0464, -6.0484, -6.2726, -6.3318, -6.0563, -4.6147, -5.9982, -6.465, -6.045, -5.9644, -6.0497, -5.8256, -5.3642, -4.2871, -5.767, -5.9629, -5.9339, -5.9192, -4.3389, -4.0715, -5.8439, -4.6779, -5.0558, -4.7366, -5.0959, -4.0299, -5.0842, -3.7359, -5.4283, -5.8251, -3.5144, -4.3927, -5.8361, -5.7784, -5.6506, -5.0985, -4.9289, -5.79, -5.3448, -5.6322, -5.7686, -5.7224, -5.6151, -5.724, -5.6679, -5.6598, -5.6384, -5.6924, -4.3369, -4.3419, -4.841, -5.2515, -5.3261, -5.3447, -5.3408, -5.3796, -5.4039, -5.4091, -5.4089, -5.4139, -5.4141, -5.4199, -5.3574, -5.4289, -5.6828, -5.7681, -5.2306, -5.9032, -5.2979, -5.9728, -5.4229, -5.3859, -6.0745, -6.3081, -6.325, -6.3466, -6.4498, -6.496, -4.6063, -5.3211, -5.4528, -4.6982, -3.7888, -5.4287, -4.4221, -5.3688, -5.2166, -5.4895, -5.2819, -4.8555, -4.549, -5.1474, -4.8936, -4.8973, -4.8751, -4.2888, -5.2099, -5.1844, -5.3946, -4.1969, -5.1893, -5.2295, -5.2279, -5.2388, -5.2548, -5.2903, -5.3404, -5.2735, -5.459, -5.2237, -5.5601, -5.8313, -6.1765, -6.2456, -6.2452, -6.277, -6.2904, -6.305, -6.3486, -6.3518, -6.3975, -6.3998, -6.4686, -6.4854, -6.4847, -5.2762, -6.547, -6.6279, -6.6363, -5.1633, -5.1209, -5.3056, -5.2815, -5.1137, -5.2565, -4.9832, -5.3074, -5.0238, -5.3813, -4.4399, -4.9675, -4.7618, -5.2399, -5.9937, -4.7289, -5.4449, -5.325, -5.3779, -5.2457, -5.4483, -5.4614, -5.5063, -5.6988, -5.7117, -5.8718, -5.949, -6.1214, -6.133, -6.1341, -6.1422, -6.154, -6.1841, -6.2271, -6.246, -6.2622, -6.2943, -6.3118, -6.3187, -6.3356, -6.384, -6.4163, -6.4317, -6.4353, -6.4749, -6.4913, -6.4988, -6.5029, -6.5728, -5.817, -6.1852, -5.7217, -5.4438, -5.7795, -5.5512, -6.1384, -6.2624, -6.3563]}, \"token.table\": {\"Topic\": [6, 2, 7, 6, 2, 5, 1, 4, 6, 1, 6, 2, 4, 2, 6, 2, 6, 2, 4, 1, 2, 1, 7, 2, 6, 1, 1, 3, 6, 5, 7, 7, 1, 6, 1, 5, 1, 3, 4, 3, 2, 1, 5, 6, 1, 2, 1, 2, 7, 4, 1, 2, 3, 6, 1, 2, 5, 1, 3, 4, 1, 3, 7, 1, 2, 3, 4, 5, 6, 4, 2, 1, 2, 1, 2, 7, 7, 5, 3, 7, 4, 1, 2, 3, 4, 5, 3, 1, 3, 1, 6, 2, 5, 6, 2, 3, 1, 6, 1, 7, 6, 6, 2, 1, 5, 3, 2, 1, 4, 1, 3, 3, 2, 1, 2, 2, 6, 7, 1, 3, 3, 5, 4, 2, 1, 3, 4, 5, 2, 4, 3, 1, 2, 1, 2, 3, 4, 5, 1, 3, 2, 4, 5, 1, 5, 4, 2, 3, 5, 1, 3, 4, 3, 5, 6, 1, 2, 3, 4, 1, 2, 2, 5, 1, 2, 4, 5, 5, 5, 5, 1, 2, 3, 4, 3, 1, 2, 3, 5, 6, 1, 2, 3, 1, 2, 4, 5, 4, 7, 1, 3, 1, 2, 1, 4, 4, 1, 3, 1, 2, 4, 3, 5, 3, 1, 3, 1, 2, 5, 1, 2, 3, 4, 5, 2, 2, 3, 2, 3, 7, 2, 7, 1, 2, 3, 4, 6, 3, 2, 3, 1, 5, 6, 3, 4, 1, 6, 1, 4, 1, 2, 3, 1, 2, 4, 1, 1, 1, 2, 3, 4, 6, 3, 1, 2, 3, 4, 7, 3, 3, 1, 2, 3, 4, 6, 1, 2, 1, 1, 6, 1, 2, 4, 5, 1, 6, 5, 6, 1, 2, 3, 6, 1, 3, 1, 4, 7, 6, 1, 4, 6, 1, 2, 4, 1, 2, 3, 1, 2, 7, 5, 1, 3, 4, 2, 2, 1, 5, 7, 7, 1, 2, 6, 2, 6, 1, 2, 6, 1, 3, 3, 3, 1, 2, 3, 5, 7, 6, 1, 4, 1, 3, 5, 1, 4, 1, 4, 1, 2, 3, 1, 2, 3, 6, 1, 2, 1, 2, 3, 4, 5, 6, 1, 2, 6, 1, 2, 3, 4, 6, 1, 2, 4, 6, 5, 5, 6, 7, 1, 7, 4, 1, 2, 1, 2, 6, 4, 5, 1, 2, 3, 1, 2, 3, 1, 2, 3, 6, 1, 2, 3, 6, 4, 3, 1, 4, 5, 7, 1, 5, 6, 1, 4, 1, 2, 3, 1, 4, 1, 6, 1, 2, 3, 4, 5, 3, 7, 3, 1, 1, 2, 3, 7, 7, 7, 1, 2, 3, 2, 6, 1, 2, 4, 7, 3, 1, 3, 6, 4, 2, 4, 1, 3, 4, 2, 4, 1, 2, 4, 6, 1, 2, 5, 6, 3, 6, 3, 1, 2, 5, 6, 3, 4, 1, 2, 4, 7, 4, 6, 6, 7, 4, 1, 4, 1, 2, 5, 5, 6, 6, 5, 6, 1, 5, 2, 7, 7, 4, 3, 6, 1, 2, 5, 7, 1, 2, 3, 6, 4, 6, 1, 2, 4, 5, 1, 2, 4, 7, 1, 3, 5, 2, 2, 2, 1, 2, 3, 1, 2, 3, 4, 5, 6, 7, 1, 3, 1, 2, 4, 1, 2, 6, 4, 1, 2, 3, 4, 6, 5, 6, 5, 7, 4, 1, 5, 6, 1, 1, 4, 1, 2, 5, 1, 2, 3, 6, 1, 3, 4, 1, 4, 6, 5, 5, 6, 4, 1, 2, 3, 4, 5, 1, 2, 3, 1, 1, 2, 1, 2, 3, 1, 3, 1, 3, 6, 5, 1, 3, 5, 6, 3, 5, 5, 7, 1, 4, 1, 2, 4, 3, 1, 3, 3, 4, 7, 1, 4, 5, 2, 1, 1, 7, 1, 2, 4, 5, 1, 2, 3, 2, 1, 2, 4, 1, 5, 2, 1, 2, 3, 4, 5, 6, 1, 3, 1, 5, 6, 6, 1, 1, 7, 7, 7, 1, 1, 3, 5, 7, 1, 3, 7, 1, 1, 5], \"Freq\": [0.9803840935412794, 0.9855264128085048, 0.9893579886750773, 0.9819032530964014, 0.9962216880323472, 0.9930108591156512, 0.8172580360048329, 0.18203871845359704, 0.9968752289488098, 0.21656895553369798, 0.7796482399213127, 0.9974656664172783, 0.9939931293600026, 0.10562396444675318, 0.8884839362285708, 0.9844642742218644, 0.9986947208041446, 0.00959607046970188, 0.9851965682227263, 0.4330728636366911, 0.5664593056367919, 0.683408631470833, 0.30991786776002894, 0.014011187828850693, 0.9807831480195485, 0.9999001082044592, 0.9996156141440994, 0.4306967478667232, 0.5694768110682229, 0.9960178615898213, 0.9952710639271953, 0.9899164384583335, 0.0978847335405252, 0.897276724121481, 0.03936822792074483, 0.9605847612661739, 0.4354661297474606, 0.06773917573849386, 0.4935282803804553, 0.9965943008717281, 0.9912945701346858, 0.3934049656459254, 0.012808533765216177, 0.5928521342757201, 0.32614653186187614, 0.6720595202002296, 0.16132730668052256, 0.8359687709808896, 0.9950408905626311, 0.9956751479788484, 0.6902138776609086, 0.002409123482237028, 0.30475412050298406, 0.0036136852233555426, 0.3263373692464253, 0.16485083601108083, 0.5080097191361879, 0.1534874669116783, 0.8218379557422775, 0.023314551935951135, 0.25436794044840044, 0.4056137428771791, 0.3368656508640979, 0.5023135041980059, 0.09770156952688487, 0.11044525250865246, 0.03292118103623295, 0.22513839934456079, 0.03185920745441898, 0.9900999731876713, 0.977317089290929, 0.6530910391432885, 0.3466588305597527, 0.7754124590231732, 0.22436972202619557, 0.9787094830842534, 0.9665266069957817, 0.9955557555858094, 0.9954858429647688, 0.9907767707084559, 0.9949689224323912, 0.12857423588428019, 0.04821533845660507, 0.8236786986336699, 0.9920641306283454, 0.9941260287387631, 0.9991294178821992, 0.0563312248679652, 0.9350983328082223, 0.02367571564351919, 0.9707043413842867, 0.005288235069159265, 0.8804911390150175, 0.11105293645234456, 0.7482190905380972, 0.248272698224005, 0.9997221638154558, 0.9853881208188522, 0.1293395202966612, 0.8499454190923451, 0.9880133818513172, 0.9728305562327187, 0.9957422107248505, 0.007142816588023102, 0.9928515057352112, 0.9930863976704416, 0.9890670942096037, 0.24898201777539278, 0.7469460533261784, 0.33194262316581147, 0.6681409209875949, 0.9884612530266746, 0.9860576321869776, 0.999713324675145, 0.00021388817387144737, 0.9904238510245195, 0.9973984112719926, 0.9914374499511702, 0.034981054550099255, 0.9619790001277295, 0.9873121724980335, 0.9985947307582503, 0.9863179846719392, 0.9953927924974251, 0.5316368511716032, 0.37668108649362403, 0.07936758678628199, 0.012598029648616189, 0.9896253535745433, 0.9904109887762981, 0.9950173966123872, 0.9994176991607225, 0.00035067287689849913, 0.7222736027012795, 0.1587018153251251, 0.020739441775442482, 0.0919749156997884, 0.005410289158811083, 0.3688965825468771, 0.6290657512904642, 0.04533569312098648, 0.952049555540716, 0.9958886309757353, 0.0898368630694675, 0.9085115023315504, 0.989202141288782, 0.9872173912298495, 0.052381767221494235, 0.9466133647884315, 0.3860817127850411, 0.598643554655457, 0.013013990318596892, 0.02147402512471272, 0.9734891389869766, 0.9925722119047231, 0.2067742819567596, 0.41111592530226315, 0.26515760862690346, 0.11433401472903176, 0.9999583188662569, 0.9977452075697759, 0.9843092327368256, 0.9956090634766893, 0.21476439317701773, 0.2370775768837209, 0.5383055569242133, 0.01115659185335157, 0.9946633061735299, 0.9930362689262782, 0.9920691033994163, 0.564078370294998, 0.42878282022424197, 0.00624441000326566, 0.9937053571756238, 0.9916355169157519, 0.5245815437146821, 0.12651672524883512, 0.009257321359670861, 0.14348848107489837, 0.19594663544636656, 0.9667637163761111, 0.031228793587407027, 0.001993327250260023, 0.9159874949034068, 0.015195545701781797, 0.06746822291591119, 0.001215643656142544, 0.9801737989987708, 0.9923995677853653, 0.17720411641219963, 0.8224945780641719, 0.24193767367251276, 0.7550582343186113, 0.510650360282176, 0.48678819391385003, 0.9936519601068251, 0.9998188160006611, 0.9928439086777281, 0.6475643358785346, 0.011079998142408386, 0.3410177206052359, 0.00808482117995329, 0.9863481839543016, 0.990199623876393, 0.5760537362945995, 0.4233415041896554, 0.0729827955290511, 0.06690089590163018, 0.8575478474663504, 0.4515252092954459, 0.15158346312061396, 0.03547698073035646, 0.35799498736996066, 0.996735376381935, 0.9953968320624534, 0.9968849008204785, 0.995137376049385, 0.9507628518879163, 0.04407509909414182, 0.9800512467231335, 0.9459343549364917, 0.051832019448574886, 0.3035541021327913, 0.0054206089666569875, 0.07182306880820509, 0.5501918101156843, 0.06911276432487659, 0.9986039551579763, 0.9968372564832038, 0.9988054087844229, 0.49897598947068617, 0.49897598947068617, 0.9903943796853237, 0.0241044047495491, 0.964176189981964, 0.1712959187839417, 0.8257341725995139, 0.3738124727814825, 0.6219736942078448, 0.46572988678758404, 0.4427308800326416, 0.08912115117540188, 0.22964997470772017, 0.7604802441140898, 0.011294261051199352, 0.9999081268315939, 0.9998296263410762, 0.9712535524925524, 0.006909011992122171, 0.008904948789846354, 0.011975620786345098, 0.00107473519877456, 0.985554121541487, 0.060333823546951236, 0.04309558824782231, 0.8920786767299218, 0.9884751317642965, 0.9767167956465227, 0.9973386351778674, 0.9968107047816972, 0.8042952346066047, 0.1285403342978592, 0.0014690323919755337, 0.06463742524692348, 0.0014690323919755337, 0.4055297321511607, 0.5930872332710726, 0.9996069015549562, 0.6647461452610983, 0.33513135539096867, 0.9206738668054021, 0.0013782542916248536, 0.077526803903898, 0.0003445635729062134, 0.461378329255918, 0.5367520167086175, 0.1372034560207884, 0.8606398604940364, 0.5361881896447226, 0.027628017405357842, 0.3960015828101291, 0.03888387634828141, 0.2197849647249068, 0.779422606385549, 0.35583104453262454, 0.6414322776443363, 0.9808717902422973, 0.9941853556033455, 0.06972565360290783, 0.9254495841840494, 0.9942531070511672, 0.9942482824901231, 0.005575224013963307, 0.9914529083011847, 0.43605977259804574, 0.185506091105246, 0.37823969225355347, 0.9999064825640142, 0.02892437182341432, 0.9689664560843797, 0.9960286981879151, 0.001645790331599136, 0.001645790331599136, 0.9973489409490764, 0.9754373964269545, 0.9795967470871929, 0.9998050844556912, 0.9872983405509514, 0.996060033615906, 0.9844290704556067, 0.2626136726670722, 0.7331298361955765, 0.9929931969625896, 0.9944640178145236, 0.9848294181787062, 0.2898334017342077, 0.02504733101406733, 0.6834343176695514, 0.5938809774796192, 0.4044937366298194, 0.9912887943641301, 0.9948454380585215, 0.18841167018293675, 0.03305467897946259, 0.009916403693838777, 0.7139810659563919, 0.05288748636714014, 0.9926601633484011, 0.8434654100125449, 0.1563138632983448, 0.9998137498087291, 0.0001799358858649742, 0.9964426044202195, 0.08103267056419276, 0.9116175438471686, 0.9997545147536209, 0.9928358421132588, 0.9996223560515676, 0.0002536468805002709, 0.9805572674582766, 0.996854428038397, 0.000636967685647538, 0.0022293868997663832, 0.000318483842823769, 0.9198638769809879, 0.07978879092457224, 0.8380551366711964, 0.027428883471008237, 0.01295501010845666, 0.08282271979682292, 0.03404040587118612, 0.004735279556884158, 0.006211883743672898, 0.012423767487345796, 0.975265747756645, 0.714363343637744, 0.0038572534753657886, 0.2649933137576297, 0.007714506950731577, 0.008871682993341313, 0.46403133110817224, 0.0009336646501170469, 0.49577592921215186, 0.03921391530491596, 0.9958164489899309, 0.9934352613747863, 0.9860766180938144, 0.9961527602885797, 0.9995682115718482, 0.9845683764973514, 0.987939132532146, 0.9996810501164631, 0.00023970292533664143, 0.6376994311714091, 0.08127541769831685, 0.2792539992711399, 0.9884493666398594, 0.9924400095750873, 0.3757801166124355, 0.008638623370400816, 0.6090229476132575, 0.9985839028226365, 0.00024415254347741723, 0.000976610173909669, 0.6048597011717571, 0.03524823433401848, 0.32428375587297004, 0.03524823433401848, 0.885983413095322, 0.0956257197868947, 0.009784957373542714, 0.008450645004423253, 0.9874278622882968, 0.993437584658054, 0.18025485588975443, 0.7135088045636113, 0.06759557095865791, 0.030042475981625738, 0.9996912427680549, 0.9961912552287551, 0.9867754717761118, 0.47729413649906083, 0.5223218852253874, 0.6420036598395475, 0.35682792700903426, 0.0014330438835704188, 0.03935885150920539, 0.9544521490982308, 0.19525498344735912, 0.8032080000902727, 0.5605305668408581, 0.014210634088923164, 0.2494755762277622, 0.12631674745709479, 0.04894773963962423, 0.9917543328208963, 0.9875500697114964, 0.9967395502524072, 0.9996671314122999, 0.9342985937850834, 0.00948847590167654, 0.0006325650601117694, 0.05503316022972394, 0.9868669556072621, 0.9883652804052008, 0.9975720768774281, 0.0014875813851437938, 0.0008925488310862762, 0.03533215100745717, 0.9610345074028351, 0.3034287931855183, 0.0596020843757268, 0.5906024724503838, 0.04334697045507404, 0.9877824928902276, 0.021312068571430268, 0.9803551542857923, 0.9942000392361257, 0.9911855839075207, 0.9955575475660046, 0.9957998411945979, 0.10067917638655491, 0.06406856679144403, 0.8328913682887724, 0.01227629266123952, 0.9821034128991616, 0.27962048297129755, 0.05326104437548525, 0.6457901630527586, 0.013315261093871312, 0.14714480409512185, 0.05885792163804873, 0.7896771153104871, 0.9723248181006993, 0.6971757462268939, 0.2972454731975129, 0.9949164382998371, 0.0042268794649970775, 0.1479407812748977, 0.23247837057483928, 0.6171244018895733, 0.9944865469679215, 0.9822268294166646, 0.1569876139045717, 0.8372672741577156, 0.9824213848144879, 0.9785585102615901, 0.9494116437429914, 0.03473457233206066, 0.9963157894783551, 0.9773678465804805, 0.9897567834375602, 0.1846212868317004, 0.8146176367419358, 0.5939824733657718, 0.4050531083434058, 0.9966958340297559, 0.9716369982037069, 0.024495050374883368, 0.9965833052143686, 0.9354354502082304, 0.05801150078810731, 0.6775640829909821, 0.3211695194605573, 0.9817313947343933, 0.985957577338432, 0.9913566302810848, 0.9764733309265389, 0.060119742671511045, 0.935195997112394, 0.9988066696782909, 0.0008904665702926813, 0.9883437599129433, 0.9892714292717033, 0.9697890475793102, 0.0009717325126045193, 0.028504153703065898, 0.0006478216750696794, 0.9923228922015724, 0.9826615285453764, 0.9999449540823105, 0.9784747209066775, 0.9923685943309534, 0.9935795174239594, 0.3631454765179803, 0.028669379725103705, 0.6084279474994231, 0.996033801892369, 0.3930235017936661, 0.06303207104238041, 0.5431881416299252, 0.9898549822179402, 0.9887703889272894, 0.9865335494541995, 0.27059956011471714, 0.7277046632008086, 0.0016652280622444131, 0.6466570454779569, 0.005905543794319241, 0.031004104920176013, 0.13878027916650215, 0.0147638594857981, 0.01919301733153753, 0.1432094370122416, 0.6014623508696052, 0.3980692853581445, 0.7154308689638322, 0.005165565840894095, 0.27894055540828117, 0.25894317768177894, 0.7406979268571815, 0.9941285584170578, 0.9868541637625746, 0.478035792417898, 0.0018894695352486088, 0.0037789390704972177, 0.5158251831228702, 0.9953154016649329, 0.9961546021602218, 0.9935875717674583, 0.9893348089196073, 0.007790037865508719, 0.9872615710088245, 0.6446206748042752, 0.2971859235734632, 0.05599155081818871, 0.9993662527439219, 0.021091433898059873, 0.970205959310754, 0.013530983871936521, 0.13530983871936522, 0.8524519839320008, 0.4983107037372186, 0.45000507429330455, 0.05084803099359374, 0.9986936835143041, 0.7210343835399058, 0.04351069555844259, 0.23412898086209585, 0.11218497653344793, 0.8600848200897675, 0.01869749608890799, 0.9905412750829256, 0.9324027383379803, 0.06486279918872906, 0.9911545937733431, 0.7729625958343174, 0.0014208871246954363, 0.0014208871246954363, 0.21114382672974183, 0.013072161547198013, 0.9967584591361097, 0.002578101413866433, 0.00032226267673330413, 0.9998025881017144, 0.9997724918430385, 0.9788867362533753, 0.999453635184618, 0.9953092900723993, 0.9925438410256012, 0.9998677291710105, 0.9901773449053117, 0.0062101342990673195, 0.14904322317761567, 0.8445782646731554, 0.9881216902365255, 0.029035710693020276, 0.09291427421766488, 0.8710713207906082, 0.98231235469741, 0.9705421408877345, 0.025540582654940382, 0.9983733865329204, 0.9799159596717316, 0.8118946845941573, 0.18773540754879914, 0.14829480038681053, 0.8479420637502243, 0.9755444656240748, 0.995024656494632, 0.005385154476821079, 0.9962535782118995, 0.997567615073141, 0.9963862268478523, 0.9913221236964594, 0.9206009322620956, 0.0785878844613984, 0.0007484560424895086, 0.9956602742180475, 0.9998539984306267, 0.9998207884176182, 0.9880147064115024, 0.8687812359398832, 0.005233621903252309, 0.11304623311024986, 0.01256069256780554, 0.4606964326078351, 0.5257359289760001, 0.013007899273632991, 0.9955342125802353, 0.9780317801910877, 0.002180186759231136, 0.01983969950900334, 0.006683275393677899, 0.9891247582643291, 0.9983505824002189, 0.38713696279647447, 0.423431053058644, 0.007258818052433897, 0.0629097564544271, 0.11372148282146438, 0.004839212034955931, 0.07054428945743313, 0.9271535185834069, 0.02458378443362409, 0.9728154697305532, 0.9878916335461787, 0.9960215587752109, 0.9995461453822344, 0.569658840769423, 0.42974263426465237, 0.9898433372232678, 0.9881441685092514, 0.9998043089788669, 0.8149227408320214, 0.04263177316223855, 0.02787462091377136, 0.11313816723824846, 0.5348980664372076, 0.012156774237209263, 0.44980064677674275, 0.9999527158353736, 0.9997271725464498, 0.9991104559035009], \"Term\": [\"2000\", \"aaa\", \"aah\", \"agree\", \"ahh\", \"alert\", \"alright\", \"alright\", \"america\", \"american\", \"american\", \"amp\", \"analog\", \"appear\", \"appear\", \"apple\", \"arcade\", \"arrived\", \"arrived\", \"ask\", \"ask\", \"ass\", \"ass\", \"authority\", \"authority\", \"away\", \"baby\", \"backwards\", \"backwards\", \"badge\", \"bah\", \"bandages\", \"bands\", \"bands\", \"bang\", \"bang\", \"bar\", \"bar\", \"bar\", \"bear\", \"beast\", \"beat\", \"beat\", \"beat\", \"beautiful\", \"beautiful\", \"began\", \"began\", \"belief\", \"belts\", \"big\", \"big\", \"big\", \"big\", \"birds\", \"birds\", \"birds\", \"bit\", \"bit\", \"bit\", \"bitch\", \"bitch\", \"bitch\", \"black\", \"black\", \"black\", \"black\", \"black\", \"black\", \"bleed\", \"blessed\", \"blood\", \"blood\", \"blue\", \"blue\", \"bolt\", \"bom\", \"boogie\", \"boom\", \"bop\", \"bound\", \"breathing\", \"breathing\", \"breathing\", \"brick\", \"butter\", \"bye\", \"callin\", \"callin\", \"cancer\", \"cancer\", \"capital\", \"capital\", \"capital\", \"cat\", \"cat\", \"cause\", \"cell\", \"chemistry\", \"chemistry\", \"cherry\", \"chicken\", \"chop\", \"chords\", \"chords\", \"chorus\", \"cities\", \"class\", \"class\", \"clean\", \"clean\", \"clever\", \"colder\", \"come\", \"come\", \"completely\", \"composed\", \"cookie\", \"covered\", \"covered\", \"cream\", \"cultivated\", \"curfew\", \"curve\", \"cut\", \"cut\", \"cut\", \"cut\", \"dada\", \"damage\", \"damned\", \"day\", \"day\", \"dead\", \"dead\", \"dead\", \"dead\", \"dead\", \"desire\", \"desire\", \"desk\", \"desk\", \"diamonds\", \"died\", \"died\", \"difficult\", \"dime\", \"dip\", \"dip\", \"dirty\", \"dirty\", \"dirty\", \"disco\", \"disco\", \"distress\", \"dog\", \"dog\", \"dog\", \"dog\", \"dont\", \"doo\", \"doodoo\", \"drawer\", \"drop\", \"drop\", \"drop\", \"drop\", \"drowning\", \"drug\", \"dutch\", \"earth\", \"earth\", \"earth\", \"estranged\", \"explode\", \"eye\", \"eye\", \"eye\", \"eye\", \"eye\", \"eyes\", \"eyes\", \"eyes\", \"face\", \"face\", \"face\", \"face\", \"fame\", \"fashion\", \"faster\", \"faster\", \"father\", \"father\", \"favorite\", \"favorite\", \"feeding\", \"feel\", \"feelin\", \"feeling\", \"feeling\", \"feeling\", \"festering\", \"festering\", \"fever\", \"finally\", \"finally\", \"finds\", \"finds\", \"finds\", \"fingers\", \"fingers\", \"fingers\", \"fingers\", \"fixing\", \"flashlight\", \"font\", \"forest\", \"form\", \"form\", \"freight\", \"fresh\", \"fresh\", \"fuck\", \"fuck\", \"fuck\", \"fuck\", \"fuck\", \"fuckin\", \"fully\", \"funk\", \"future\", \"future\", \"gently\", \"ghetto\", \"ghetto\", \"gimme\", \"gimme\", \"giving\", \"giving\", \"gold\", \"gold\", \"gold\", \"golden\", \"golden\", \"golden\", \"gonna\", \"good\", \"got\", \"got\", \"got\", \"got\", \"got\", \"grandma\", \"grip\", \"grip\", \"grip\", \"gross\", \"group\", \"grown\", \"gum\", \"hand\", \"hand\", \"hand\", \"hand\", \"hand\", \"hang\", \"hang\", \"hard\", \"hate\", \"hate\", \"heart\", \"heart\", \"heart\", \"heart\", \"heaven\", \"heaven\", \"hed\", \"hed\", \"hes\", \"hes\", \"hes\", \"hes\", \"hey\", \"hey\", \"higher\", \"higher\", \"hih\", \"hip\", \"hissing\", \"hissing\", \"hollow\", \"home\", \"home\", \"homemade\", \"hot\", \"hot\", \"hot\", \"ill\", \"ima\", \"ima\", \"images\", \"important\", \"important\", \"important\", \"innocence\", \"involved\", \"ive\", \"ivory\", \"jack\", \"jean\", \"jesus\", \"jesus\", \"jimmy\", \"john\", \"johnny\", \"key\", \"key\", \"key\", \"kid\", \"kid\", \"killed\", \"killer\", \"king\", \"king\", \"king\", \"king\", \"king\", \"kings\", \"knew\", \"knew\", \"know\", \"know\", \"lark\", \"leaf\", \"leaf\", \"leave\", \"lecture\", \"let\", \"let\", \"level\", \"life\", \"life\", \"life\", \"life\", \"light\", \"light\", \"like\", \"like\", \"like\", \"like\", \"like\", \"like\", \"lipstick\", \"lipstick\", \"lipstick\", \"little\", \"little\", \"little\", \"little\", \"little\", \"living\", \"living\", \"living\", \"living\", \"locally\", \"locker\", \"london\", \"loo\", \"look\", \"lookout\", \"loser\", \"love\", \"love\", \"low\", \"low\", \"low\", \"lowkey\", \"lucy\", \"magic\", \"magic\", \"magic\", \"make\", \"make\", \"make\", \"making\", \"making\", \"making\", \"making\", \"man\", \"man\", \"man\", \"man\", \"maneuver\", \"mercy\", \"metal\", \"metal\", \"metal\", \"metal\", \"mind\", \"mischief\", \"mission\", \"moment\", \"moment\", \"money\", \"money\", \"money\", \"monkey\", \"monkey\", \"motion\", \"motion\", \"mouth\", \"mouth\", \"mouth\", \"mouth\", \"mouth\", \"mouths\", \"nana\", \"natural\", \"need\", \"new\", \"new\", \"new\", \"new\", \"nigga\", \"niggas\", \"night\", \"night\", \"night\", \"ninja\", \"ninja\", \"nose\", \"nose\", \"nose\", \"nose\", \"november\", \"oclock\", \"oclock\", \"ohoh\", \"oohooh\", \"oohoohooh\", \"oops\", \"order\", \"order\", \"order\", \"owned\", \"owned\", \"page\", \"page\", \"page\", \"page\", \"parts\", \"parts\", \"parts\", \"paul\", \"pistol\", \"pistol\", \"pit\", \"planet\", \"planet\", \"planet\", \"planet\", \"poison\", \"pony\", \"pool\", \"pool\", \"porcupine\", \"portugal\", \"pot\", \"pot\", \"pow\", \"prawn\", \"prime\", \"probably\", \"probably\", \"pull\", \"pull\", \"queen\", \"quills\", \"quills\", \"radical\", \"rate\", \"rate\", \"ready\", \"ready\", \"rebel\", \"reeks\", \"reflektor\", \"renegades\", \"resolve\", \"resolve\", \"right\", \"right\", \"sacrilege\", \"safety\", \"said\", \"said\", \"said\", \"said\", \"sample\", \"san\", \"say\", \"science\", \"scissor\", \"scrawled\", \"screaming\", \"screaming\", \"screaming\", \"seeks\", \"set\", \"set\", \"set\", \"setting\", \"shades\", \"shark\", \"shes\", \"shes\", \"shes\", \"shit\", \"shit\", \"shit\", \"shit\", \"shit\", \"shit\", \"shit\", \"shut\", \"shut\", \"sign\", \"sign\", \"sign\", \"silent\", \"silent\", \"slippery\", \"snatch\", \"somebody\", \"somebody\", \"somebody\", \"somebody\", \"somethings\", \"southern\", \"spelled\", \"squad\", \"squad\", \"stall\", \"stars\", \"stars\", \"stars\", \"stay\", \"strip\", \"strip\", \"sucked\", \"sucked\", \"sucked\", \"sweet\", \"sweet\", \"sweet\", \"synthesized\", \"taking\", \"taking\", \"taking\", \"tattoo\", \"tattoo\", \"tattoo\", \"technicolor\", \"tee\", \"tee\", \"teen\", \"tell\", \"tell\", \"tell\", \"tell\", \"tell\", \"theres\", \"theres\", \"theres\", \"things\", \"think\", \"thirty\", \"thought\", \"thumbing\", \"tick\", \"time\", \"tip\", \"tips\", \"tips\", \"tips\", \"toes\", \"tone\", \"tone\", \"tone\", \"towns\", \"tracks\", \"tracks\", \"transient\", \"trap\", \"try\", \"try\", \"tryin\", \"tryin\", \"uhhuh\", \"upright\", \"valentine\", \"valentine\", \"versus\", \"vinyl\", \"vomit\", \"waiting\", \"waiting\", \"waiting\", \"wandering\", \"wanna\", \"want\", \"warrior\", \"watch\", \"watch\", \"watch\", \"watch\", \"water\", \"water\", \"water\", \"waters\", \"way\", \"way\", \"way\", \"web\", \"web\", \"weird\", \"white\", \"white\", \"white\", \"white\", \"white\", \"white\", \"whoa\", \"whoa\", \"willing\", \"willing\", \"wisdom\", \"woah\", \"wont\", \"woo\", \"woo\", \"yall\", \"yanada\", \"yeah\", \"yes\", \"yes\", \"yes\", \"yes\", \"york\", \"york\", \"york\", \"youre\", \"youve\", \"zed\"]}, \"R\": 30, \"lambda.step\": 0.01, \"plot.opts\": {\"xlab\": \"PC1\", \"ylab\": \"PC2\"}, \"topic.order\": [2, 7, 3, 6, 4, 5, 1]};\n",
       "\n",
       "function LDAvis_load_lib(url, callback){\n",
       "  var s = document.createElement('script');\n",
       "  s.src = url;\n",
       "  s.async = true;\n",
       "  s.onreadystatechange = s.onload = callback;\n",
       "  s.onerror = function(){console.warn(\"failed to load library \" + url);};\n",
       "  document.getElementsByTagName(\"head\")[0].appendChild(s);\n",
       "}\n",
       "\n",
       "if(typeof(LDAvis) !== \"undefined\"){\n",
       "   // already loaded: just create the visualization\n",
       "   !function(LDAvis){\n",
       "       new LDAvis(\"#\" + \"ldavis_el1609627849667044889315089414\", ldavis_el1609627849667044889315089414_data);\n",
       "   }(LDAvis);\n",
       "}else if(typeof define === \"function\" && define.amd){\n",
       "   // require.js is available: use it to load d3/LDAvis\n",
       "   require.config({paths: {d3: \"https://cdnjs.cloudflare.com/ajax/libs/d3/3.5.5/d3.min\"}});\n",
       "   require([\"d3\"], function(d3){\n",
       "      window.d3 = d3;\n",
       "      LDAvis_load_lib(\"https://cdn.rawgit.com/bmabey/pyLDAvis/files/ldavis.v1.0.0.js\", function(){\n",
       "        new LDAvis(\"#\" + \"ldavis_el1609627849667044889315089414\", ldavis_el1609627849667044889315089414_data);\n",
       "      });\n",
       "    });\n",
       "}else{\n",
       "    // require.js not available: dynamically load d3 & LDAvis\n",
       "    LDAvis_load_lib(\"https://cdnjs.cloudflare.com/ajax/libs/d3/3.5.5/d3.min.js\", function(){\n",
       "         LDAvis_load_lib(\"https://cdn.rawgit.com/bmabey/pyLDAvis/files/ldavis.v1.0.0.js\", function(){\n",
       "                 new LDAvis(\"#\" + \"ldavis_el1609627849667044889315089414\", ldavis_el1609627849667044889315089414_data);\n",
       "            })\n",
       "         });\n",
       "}\n",
       "</script>"
      ],
      "text/plain": [
       "PreparedData(topic_coordinates=              x         y  topics  cluster       Freq\n",
       "topic                                                \n",
       "1      0.328233 -0.037845       1        1  76.565983\n",
       "6      0.128164 -0.118824       2        1   6.275809\n",
       "2      0.009804 -0.126242       3        1   4.952700\n",
       "5      0.045519  0.349374       4        1   3.492423\n",
       "3     -0.156225  0.057822       5        1   3.110204\n",
       "4     -0.155531 -0.063779       6        1   3.082092\n",
       "0     -0.199963 -0.060505       7        1   2.520790, topic_info=      Category          Freq       Term         Total  loglift  logprob\n",
       "20003  Default  11192.000000       like  11192.000000  30.0000  30.0000\n",
       "34909  Default   3518.000000       tell   3518.000000  29.0000  29.0000\n",
       "20164  Default   2592.000000     little   2592.000000  28.0000  28.0000\n",
       "36323  Default   2050.000000        try   2050.000000  27.0000  27.0000\n",
       "15917  Default   2902.000000      heart   2902.000000  26.0000  26.0000\n",
       "12642  Default   1624.000000    feeling   1624.000000  25.0000  25.0000\n",
       "16162  Default   1474.000000        hey   1474.000000  24.0000  24.0000\n",
       "10345  Default  11746.000000       dont  11746.000000  23.0000  23.0000\n",
       "31010  Default   1201.000000       shes   1201.000000  22.0000  22.0000\n",
       "20182  Default   1071.000000     living   1071.000000  21.0000  21.0000\n",
       "19130  Default  11115.000000       know  11115.000000  20.0000  20.0000\n",
       "2055   Default   1154.000000        ask   1154.000000  19.0000  19.0000\n",
       "23341  Default   1580.000000        new   1580.000000  18.0000  18.0000\n",
       "38377  Default   4586.000000        way   4586.000000  17.0000  17.0000\n",
       "1250   Default   1043.000000    alright   1043.000000  16.0000  16.0000\n",
       "9694   Default    690.000000       died    690.000000  15.0000  15.0000\n",
       "15769  Default    725.000000       hate    725.000000  14.0000  14.0000\n",
       "38122  Default   1336.000000    waiting   1336.000000  13.0000  13.0000\n",
       "19090  Default    953.000000       knew    953.000000  12.0000  12.0000\n",
       "12264  Default   1645.000000       face   1645.000000  11.0000  11.0000\n",
       "38320  Default    922.000000      water    922.000000  10.0000  10.0000\n",
       "16144  Default    977.000000        hes    977.000000   9.0000   9.0000\n",
       "17299  Default    607.000000  important    607.000000   8.0000   8.0000\n",
       "20471  Default   8343.000000       love   8343.000000   7.0000   7.0000\n",
       "13883  Default    737.000000       fuck    737.000000   6.0000   6.0000\n",
       "20931  Default   2248.000000        man   2248.000000   5.0000   5.0000\n",
       "19970  Default   2180.000000      light   2180.000000   4.0000   4.0000\n",
       "15539  Default   1361.000000       hand   1361.000000   3.0000   3.0000\n",
       "3470   Default    830.000000        big    830.000000   2.0000   2.0000\n",
       "39599  Default   7067.000000      youre   7067.000000   1.0000   1.0000\n",
       "...        ...           ...        ...           ...      ...      ...\n",
       "28244   Topic7     48.772969  reflektor     49.427218   3.6673  -6.1330\n",
       "12493   Topic7     48.718135    fashion     49.375273   3.6672  -6.1341\n",
       "36033   Topic7     48.325628       trap     48.983792   3.6671  -6.1422\n",
       "7706    Topic7     47.759304     cookie     48.414552   3.6670  -6.1540\n",
       "4045    Topic7     46.342977       bolt     47.000669   3.6665  -6.1841\n",
       "15137   Topic7     44.391982      group     45.048882   3.6659  -6.2271\n",
       "3239    Topic7     43.560592     belief     44.219288   3.6656  -6.2460\n",
       "39426   Topic7     42.861582     yanada     43.515917   3.6654  -6.2622\n",
       "20356   Topic7     41.507815        loo     42.162208   3.6650  -6.2943\n",
       "29660   Topic7     40.786717     safety     41.444642   3.6646  -6.3118\n",
       "30452   Topic7     40.507989      seeks     41.163262   3.6646  -6.3187\n",
       "38270   Topic7     39.829334    warrior     40.485227   3.6643  -6.3356\n",
       "18344   Topic7     37.946242       jean     38.601054   3.6635  -6.3840\n",
       "342     Topic7     36.741954        aah     37.397990   3.6629  -6.4163\n",
       "26644   Topic7     36.178669      prawn     36.833624   3.6627  -6.4317\n",
       "16247   Topic7     36.047792        hih     36.702044   3.6626  -6.4353\n",
       "38016   Topic7     34.648943      vomit     35.306384   3.6618  -6.4749\n",
       "26476   Topic7     34.086972   portugal     34.744984   3.6615  -6.4913\n",
       "28207   Topic7     33.829932      reeks     34.484242   3.6614  -6.4988\n",
       "2742    Topic7     33.691137   bandages     34.346333   3.6613  -6.5029\n",
       "4048    Topic7     31.419485        bom     32.073613   3.6600  -6.5728\n",
       "17180   Topic7     66.896143        ima     69.145840   3.6475  -5.8170\n",
       "6053    Topic7     46.291108  chemistry     54.121122   3.5243  -6.1852\n",
       "39573   Topic7     73.585706       york    164.517327   2.8760  -5.7217\n",
       "31104   Topic7     97.161380       shit    677.329665   1.7388  -5.4438\n",
       "39517   Topic7     69.452389        yes    609.873765   1.5080  -5.7795\n",
       "23341   Topic7     87.269972        new   1580.865057   0.7839  -5.5512\n",
       "3596    Topic7     48.511581      bitch    145.458582   2.5825  -6.1384\n",
       "39125   Topic7     42.852306        woo    100.059888   2.8326  -6.2624\n",
       "2082    Topic7     39.012986        ass    125.839792   2.5095  -6.3563\n",
       "\n",
       "[398 rows x 6 columns], token_table=       Topic      Freq       Term\n",
       "term                             \n",
       "133        6  0.980384       2000\n",
       "327        2  0.985526        aaa\n",
       "342        7  0.989358        aah\n",
       "919        6  0.981903      agree\n",
       "950        2  0.996222        ahh\n",
       "1108       5  0.993011      alert\n",
       "1250       1  0.817258    alright\n",
       "1250       4  0.182039    alright\n",
       "1337       6  0.996875    america\n",
       "1338       1  0.216569   american\n",
       "1338       6  0.779648   american\n",
       "1379       2  0.997466        amp\n",
       "1421       4  0.993993     analog\n",
       "1736       2  0.105624     appear\n",
       "1736       6  0.888484     appear\n",
       "1753       2  0.984464      apple\n",
       "1835       6  0.998695     arcade\n",
       "1962       2  0.009596    arrived\n",
       "1962       4  0.985197    arrived\n",
       "2055       1  0.433073        ask\n",
       "2055       2  0.566459        ask\n",
       "2082       1  0.683409        ass\n",
       "2082       7  0.309918        ass\n",
       "2328       2  0.014011  authority\n",
       "2328       6  0.980783  authority\n",
       "2436       1  0.999900       away\n",
       "2519       1  0.999616       baby\n",
       "2589       3  0.430697  backwards\n",
       "2589       6  0.569477  backwards\n",
       "2611       5  0.996018      badge\n",
       "...      ...       ...        ...\n",
       "38440      5  0.989125        web\n",
       "38504      2  0.998351      weird\n",
       "38732      1  0.387137      white\n",
       "38732      2  0.423431      white\n",
       "38732      3  0.007259      white\n",
       "38732      4  0.062910      white\n",
       "38732      5  0.113721      white\n",
       "38732      6  0.004839      white\n",
       "38762      1  0.070544       whoa\n",
       "38762      3  0.927154       whoa\n",
       "38900      1  0.024584    willing\n",
       "38900      5  0.972815    willing\n",
       "39003      6  0.987892     wisdom\n",
       "39063      6  0.996022       woah\n",
       "39122      1  0.999546       wont\n",
       "39125      1  0.569659        woo\n",
       "39125      7  0.429743        woo\n",
       "39419      7  0.989843       yall\n",
       "39426      7  0.988144     yanada\n",
       "39464      1  0.999804       yeah\n",
       "39517      1  0.814923        yes\n",
       "39517      3  0.042632        yes\n",
       "39517      5  0.027875        yes\n",
       "39517      7  0.113138        yes\n",
       "39573      1  0.534898       york\n",
       "39573      3  0.012157       york\n",
       "39573      7  0.449801       york\n",
       "39599      1  0.999953      youre\n",
       "39609      1  0.999727      youve\n",
       "39665      5  0.999110        zed\n",
       "\n",
       "[654 rows x 3 columns], R=30, lambda_step=0.01, plot_opts={'xlab': 'PC1', 'ylab': 'PC2'}, topic_order=[2, 7, 3, 6, 4, 5, 1])"
      ]
     },
     "execution_count": 111,
     "metadata": {},
     "output_type": "execute_result"
    }
   ],
   "source": [
    "LDA_model=LatentDirichletAllocation(n_components=7,learning_method='online',n_jobs= -1)\n",
    "\n",
    "LDA_result = LDA_model.fit_transform(bag_lyrics)\n",
    "\n",
    "pyLDAvis.enable_notebook()\n",
    "pyLDAvis.sklearn.prepare(LDA_model,bag_lyrics,vectorizer)"
   ]
  },
  {
   "cell_type": "code",
   "execution_count": 113,
   "metadata": {},
   "outputs": [
    {
     "name": "stderr",
     "output_type": "stream",
     "text": [
      "C:\\Users\\16142\\Anaconda3\\lib\\site-packages\\pyLDAvis\\_prepare.py:257: FutureWarning:\n",
      "\n",
      "Sorting because non-concatenation axis is not aligned. A future version\n",
      "of pandas will change to not sort by default.\n",
      "\n",
      "To accept the future behavior, pass 'sort=False'.\n",
      "\n",
      "To retain the current behavior and silence the warning, pass 'sort=True'.\n",
      "\n",
      "\n"
     ]
    },
    {
     "data": {
      "text/html": [
       "\n",
       "<link rel=\"stylesheet\" type=\"text/css\" href=\"https://cdn.rawgit.com/bmabey/pyLDAvis/files/ldavis.v1.0.0.css\">\n",
       "\n",
       "\n",
       "<div id=\"ldavis_el1609627849860467765896270903\"></div>\n",
       "<script type=\"text/javascript\">\n",
       "\n",
       "var ldavis_el1609627849860467765896270903_data = {\"mdsDat\": {\"x\": [-0.2487126593095512, -0.12172360343916087, 0.12859073667348792, 0.24184552607522408], \"y\": [0.07462438413427595, -0.018767627514574198, -0.26298466162161416, 0.20712790500191255], \"topics\": [1, 2, 3, 4], \"cluster\": [1, 1, 1, 1], \"Freq\": [73.14527723460374, 15.837858050069284, 6.6562156354504465, 4.3606490798765245]}, \"tinfo\": {\"Category\": [\"Default\", \"Default\", \"Default\", \"Default\", \"Default\", \"Default\", \"Default\", \"Default\", \"Default\", \"Default\", \"Default\", \"Default\", \"Default\", \"Default\", \"Default\", \"Default\", \"Default\", \"Default\", \"Default\", \"Default\", \"Default\", \"Default\", \"Default\", \"Default\", \"Default\", \"Default\", \"Default\", \"Default\", \"Default\", \"Default\", \"Topic1\", \"Topic1\", \"Topic1\", \"Topic1\", \"Topic1\", \"Topic1\", \"Topic1\", \"Topic1\", \"Topic1\", \"Topic1\", \"Topic1\", \"Topic1\", \"Topic1\", \"Topic1\", \"Topic1\", \"Topic1\", \"Topic1\", \"Topic1\", \"Topic1\", \"Topic1\", \"Topic1\", \"Topic1\", \"Topic1\", \"Topic1\", \"Topic1\", \"Topic1\", \"Topic1\", \"Topic1\", \"Topic1\", \"Topic1\", \"Topic1\", \"Topic1\", \"Topic1\", \"Topic1\", \"Topic1\", \"Topic1\", \"Topic1\", \"Topic1\", \"Topic1\", \"Topic1\", \"Topic1\", \"Topic1\", \"Topic1\", \"Topic1\", \"Topic1\", \"Topic1\", \"Topic1\", \"Topic1\", \"Topic1\", \"Topic1\", \"Topic1\", \"Topic1\", \"Topic1\", \"Topic1\", \"Topic1\", \"Topic1\", \"Topic1\", \"Topic1\", \"Topic1\", \"Topic1\", \"Topic1\", \"Topic1\", \"Topic2\", \"Topic2\", \"Topic2\", \"Topic2\", \"Topic2\", \"Topic2\", \"Topic2\", \"Topic2\", \"Topic2\", \"Topic2\", \"Topic2\", \"Topic2\", \"Topic2\", \"Topic2\", \"Topic2\", \"Topic2\", \"Topic2\", \"Topic2\", \"Topic2\", \"Topic2\", \"Topic2\", \"Topic2\", \"Topic2\", \"Topic2\", \"Topic2\", \"Topic2\", \"Topic2\", \"Topic2\", \"Topic2\", \"Topic2\", \"Topic2\", \"Topic2\", \"Topic2\", \"Topic2\", \"Topic2\", \"Topic2\", \"Topic2\", \"Topic2\", \"Topic2\", \"Topic2\", \"Topic2\", \"Topic2\", \"Topic2\", \"Topic2\", \"Topic2\", \"Topic2\", \"Topic2\", \"Topic2\", \"Topic2\", \"Topic2\", \"Topic2\", \"Topic2\", \"Topic2\", \"Topic2\", \"Topic2\", \"Topic2\", \"Topic2\", \"Topic2\", \"Topic2\", \"Topic2\", \"Topic2\", \"Topic2\", \"Topic2\", \"Topic2\", \"Topic2\", \"Topic2\", \"Topic2\", \"Topic2\", \"Topic2\", \"Topic2\", \"Topic2\", \"Topic2\", \"Topic2\", \"Topic2\", \"Topic2\", \"Topic2\", \"Topic2\", \"Topic2\", \"Topic3\", \"Topic3\", \"Topic3\", \"Topic3\", \"Topic3\", \"Topic3\", \"Topic3\", \"Topic3\", \"Topic3\", \"Topic3\", \"Topic3\", \"Topic3\", \"Topic3\", \"Topic3\", \"Topic3\", \"Topic3\", \"Topic3\", \"Topic3\", \"Topic3\", \"Topic3\", \"Topic3\", \"Topic3\", \"Topic3\", \"Topic3\", \"Topic3\", \"Topic3\", \"Topic3\", \"Topic3\", \"Topic3\", \"Topic3\", \"Topic3\", \"Topic3\", \"Topic3\", \"Topic3\", \"Topic3\", \"Topic3\", \"Topic3\", \"Topic3\", \"Topic3\", \"Topic3\", \"Topic3\", \"Topic3\", \"Topic3\", \"Topic3\", \"Topic3\", \"Topic3\", \"Topic3\", \"Topic3\", \"Topic3\", \"Topic3\", \"Topic3\", \"Topic3\", \"Topic3\", \"Topic3\", \"Topic3\", \"Topic3\", \"Topic4\", \"Topic4\", \"Topic4\", \"Topic4\", \"Topic4\", \"Topic4\", \"Topic4\", \"Topic4\", \"Topic4\", \"Topic4\", \"Topic4\", \"Topic4\", \"Topic4\", \"Topic4\", \"Topic4\", \"Topic4\", \"Topic4\", \"Topic4\", \"Topic4\", \"Topic4\", \"Topic4\", \"Topic4\", \"Topic4\", \"Topic4\", \"Topic4\", \"Topic4\", \"Topic4\", \"Topic4\", \"Topic4\", \"Topic4\", \"Topic4\", \"Topic4\", \"Topic4\", \"Topic4\", \"Topic4\", \"Topic4\", \"Topic4\", \"Topic4\", \"Topic4\", \"Topic4\", \"Topic4\", \"Topic4\", \"Topic4\", \"Topic4\", \"Topic4\", \"Topic4\", \"Topic4\", \"Topic4\", \"Topic4\", \"Topic4\", \"Topic4\", \"Topic4\", \"Topic4\", \"Topic4\", \"Topic4\", \"Topic4\", \"Topic4\", \"Topic4\", \"Topic4\", \"Topic4\", \"Topic4\", \"Topic4\", \"Topic4\", \"Topic4\", \"Topic4\", \"Topic4\", \"Topic4\", \"Topic4\", \"Topic4\", \"Topic4\"], \"Freq\": [10831.0, 3413.0, 3827.0, 2000.0, 1610.0, 11679.0, 11046.0, 990.0, 2912.0, 6285.0, 8301.0, 1260.0, 998.0, 779.0, 4533.0, 6664.0, 6064.0, 2547.0, 528.0, 579.0, 1334.0, 860.0, 427.0, 4455.0, 664.0, 548.0, 455.0, 2158.0, 462.0, 4491.0, 3326.1971971536846, 6062.820838348357, 1493.1913048455513, 1732.5024990980996, 1776.8852095512418, 1388.0842774355476, 2363.9232969880763, 11673.890591332844, 1332.7513861373063, 1179.3088682706975, 4452.976134184729, 2888.561210894721, 949.263137506948, 1500.7880001766803, 1001.3564517655788, 771.6421623402787, 1674.1969132201766, 11037.118128652284, 662.4864738964046, 814.4906506472903, 651.1962209093497, 626.3915266671185, 8292.25217277916, 558.8427143701932, 1052.4278867858957, 594.563378451886, 1036.9079168358633, 489.75571947881934, 469.1588447315345, 720.8762592641823, 6653.123150086274, 4016.705805859322, 4477.853208894017, 3719.348681526878, 4619.406449139792, 3329.214596476813, 2934.1291432234075, 3374.900213842553, 2550.3962285456737, 4610.214392634352, 2543.595680150111, 2301.1937937095145, 3887.1029126386725, 1970.5025298762923, 1516.6757656882, 1877.3994935586345, 6897.037293955693, 3512.357545934528, 3988.5590970104395, 3045.5389230196974, 4428.293170388483, 2801.5714581424427, 2650.8627765491547, 3119.4491591630335, 2608.101233800617, 3198.255727438903, 2998.09225761041, 5392.618326831704, 8300.341533841236, 2885.750291330729, 2678.3366533210583, 2727.4987360939876, 172.99976013440545, 169.42393412163014, 128.26207651554734, 117.84691040254813, 135.62755277637265, 110.5856340538944, 94.66974633020602, 89.13978722491218, 85.65547418832595, 80.78358148045609, 91.21905186744593, 76.14567888000136, 85.78745247830514, 85.2334488870251, 68.77006264461987, 65.98924922178789, 89.40369166948096, 61.47292628223621, 56.115335550328275, 59.287018864347594, 59.595393014714936, 61.59467488583528, 55.07182597642378, 55.570794934025734, 49.91605336063661, 52.56577180641064, 49.093025264654585, 57.724404517332296, 46.275727792163075, 49.07971848290523, 48.445679724540014, 119.51741627544408, 93.63360419527682, 117.93702003676486, 172.36692456257862, 179.12371561243347, 679.0675695537808, 200.684959168425, 108.65150503840917, 118.23618407523135, 143.50670460177454, 2099.244477991169, 96.4639997146246, 203.48267741895182, 301.6503812443168, 558.2663624360998, 546.476275797631, 445.31163645703054, 397.7207389755187, 218.8685437837343, 385.4416287560917, 269.5617540552917, 293.15137432499426, 291.50989723776445, 230.59584181377357, 164.56142569336652, 399.63711182619346, 164.04143676380514, 749.4832617490398, 319.33599614540236, 492.80363450939836, 297.7616850806551, 373.0522157393301, 357.8521185839192, 312.6045002042495, 247.63512939948987, 1424.6013365702759, 573.5950959743841, 352.8699680997468, 725.8907169784377, 315.06902699288685, 329.13015924532493, 317.4367549011565, 387.26610830906645, 285.5007322384143, 274.96043459442274, 263.18580161011215, 263.6569555919678, 230.9545579521847, 155.85253805867035, 124.6392200673651, 95.85277959541767, 99.14147110202545, 86.57711496907207, 79.26258900616934, 66.68689950496473, 65.01188669187418, 61.74004730205141, 59.52715746174023, 67.33296446837039, 56.83293487568074, 61.489710660748635, 55.80320787041682, 51.38066502648012, 49.47873360634698, 50.816020203116615, 53.9278704422308, 48.737395736582314, 47.692796904326165, 47.02161796372168, 45.164366483763665, 53.550748307502275, 45.474719856422034, 46.43891463596707, 43.7410890410895, 44.08035194908164, 44.26283566220501, 49.025978811109326, 154.9824694193308, 48.614342490105976, 50.526080993551496, 96.85245085633454, 173.40213388802178, 164.1915967536059, 77.29569972639287, 73.0428105062001, 71.4228884935427, 233.68089034819482, 79.73653411069354, 335.2025088476879, 63.46768225797255, 156.86199541592222, 69.50936377261091, 82.01622519846124, 91.04495669833877, 107.12805482471144, 85.61014793356276, 104.04914244217677, 94.42688509418618, 78.6592133243, 87.82248284924837, 70.60656681922597, 69.67091691802882, 81.5926678608581, 189.4119227888386, 130.29099383590216, 188.29961751482233, 103.90472470998958, 524.1058812032246, 83.30849777011314, 79.23525244097597, 74.71676556118962, 72.23565262535902, 72.1221614964459, 70.43838211059406, 66.91094515938754, 64.64830960749, 72.03511880852732, 64.59461590444104, 63.558277438799614, 64.81777507847328, 66.14073202483877, 64.24675116857034, 63.762689738863315, 63.63643673781565, 64.83722336020077, 64.18117332932007, 63.625423383444584, 63.199800436333994, 64.04745774716393, 66.58298526575474, 62.847366766043955, 63.00334866083358, 62.87216893942204, 188.81304266513794, 138.25925972079554, 99.51744601364321, 192.3941956866782, 145.86453696035144, 69.25511229842661, 392.50923498335595, 74.22247727727444, 134.74306622064358, 76.51399959193645, 72.96837873091256, 84.54631029474481, 77.33333407730427, 246.47673933650063, 72.77170926844562, 419.6900742449043, 73.33491503450851, 93.49209982407224, 286.587114870973, 470.1640128212488, 192.46751227501562, 255.50419634296708, 92.63484797393693, 79.83802773815853, 445.1669027931003, 231.4953359006761, 652.1042751072328, 93.18359907409754, 1024.6721868363918, 158.81592333513268, 121.1653372596622, 239.69465593565013, 145.4085887685038, 328.1627326504098, 142.13660342104515, 111.22461563837844, 150.12649043932336, 172.86033945489584, 165.2452254191527, 166.8518546359532], \"Term\": [\"like\", \"tell\", \"yeah\", \"try\", \"feeling\", \"dont\", \"know\", \"living\", \"heart\", \"got\", \"love\", \"shes\", \"alright\", \"ask\", \"way\", \"time\", \"want\", \"little\", \"important\", \"fuck\", \"waiting\", \"blood\", \"probably\", \"feel\", \"set\", \"moment\", \"somebody\", \"head\", \"died\", \"ill\", \"wanna\", \"want\", \"ooh\", \"stay\", \"hold\", \"wait\", \"mind\", \"dont\", \"wrong\", \"change\", \"feel\", \"wont\", \"help\", \"don\", \"wanted\", \"fine\", \"hear\", \"know\", \"feels\", \"forever\", \"anymore\", \"wake\", \"love\", \"hurt\", \"far\", \"touch\", \"trying\", \"understand\", \"takes\", \"lose\", \"time\", \"away\", \"ill\", \"ive\", \"say\", \"right\", \"need\", \"think\", \"baby\", \"come\", \"good\", \"things\", \"let\", \"leave\", \"fall\", \"better\", \"youre\", \"cause\", \"make\", \"theres\", \"way\", \"day\", \"long\", \"gonna\", \"home\", \"night\", \"life\", \"got\", \"like\", \"eyes\", \"heart\", \"tell\", \"amp\", \"america\", \"christmas\", \"uhhuh\", \"weird\", \"drugs\", \"john\", \"mans\", \"christ\", \"natural\", \"laying\", \"favor\", \"cream\", \"purple\", \"screams\", \"core\", \"wolf\", \"freeze\", \"freight\", \"police\", \"buzz\", \"wisdom\", \"grand\", \"burst\", \"bros\", \"washing\", \"tokyo\", \"success\", \"amber\", \"mix\", \"riot\", \"sunday\", \"pop\", \"pool\", \"bang\", \"american\", \"blood\", \"poor\", \"shall\", \"brown\", \"yellow\", \"yeah\", \"rich\", \"son\", \"hot\", \"black\", \"hes\", \"white\", \"money\", \"war\", \"red\", \"great\", \"heaven\", \"low\", \"dog\", \"shoot\", \"blue\", \"ice\", \"little\", \"street\", \"bad\", \"death\", \"young\", \"sweet\", \"hair\", \"bit\", \"like\", \"man\", \"water\", \"got\", \"big\", \"came\", \"dead\", \"said\", \"cold\", \"high\", \"hands\", \"thats\", \"doo\", \"goin\", \"bop\", \"boogie\", \"killer\", \"lucy\", \"nana\", \"lookout\", \"doodoo\", \"bah\", \"sacrilege\", \"drug\", \"ivory\", \"hip\", \"drama\", \"reflektor\", \"sowing\", \"jimmy\", \"glowing\", \"sarah\", \"meow\", \"yah\", \"yanada\", \"bliss\", \"aaa\", \"shark\", \"loo\", \"oohoohoohooh\", \"dada\", \"jungle\", \"ahh\", \"involved\", \"exit\", \"mercy\", \"runnin\", \"ohoh\", \"huh\", \"tick\", \"passion\", \"set\", \"bomb\", \"shes\", \"yall\", \"earth\", \"seeds\", \"planet\", \"mama\", \"yes\", \"green\", \"white\", \"stars\", \"sand\", \"dance\", \"youth\", \"bear\", \"like\", \"zed\", \"hissing\", \"cultivated\", \"beep\", \"important\", \"venom\", \"loser\", \"chop\", \"carve\", \"difficult\", \"curve\", \"radical\", \"vinyl\", \"prime\", \"develop\", \"synthesized\", \"estranged\", \"seething\", \"lowkey\", \"porcupine\", \"technically\", \"scrawled\", \"festering\", \"mitts\", \"levy\", \"vandal\", \"squad\", \"publicize\", \"scoping\", \"chisel\", \"composed\", \"feeding\", \"gimme\", \"capital\", \"willing\", \"buckle\", \"probably\", \"valentine\", \"dip\", \"runaway\", \"sucks\", \"damned\", \"grin\", \"arrived\", \"lipstick\", \"fuck\", \"desk\", \"metal\", \"died\", \"living\", \"drop\", \"somebody\", \"punk\", \"switch\", \"feeling\", \"moment\", \"tell\", \"tryin\", \"like\", \"giving\", \"higher\", \"ask\", \"breathing\", \"try\", \"screaming\", \"kick\", \"shit\", \"alright\", \"heart\", \"got\"], \"Total\": [10831.0, 3413.0, 3827.0, 2000.0, 1610.0, 11679.0, 11046.0, 990.0, 2912.0, 6285.0, 8301.0, 1260.0, 998.0, 779.0, 4533.0, 6664.0, 6064.0, 2547.0, 528.0, 579.0, 1334.0, 860.0, 427.0, 4455.0, 664.0, 548.0, 455.0, 2158.0, 462.0, 4491.0, 3326.9941560205484, 6064.30500167151, 1493.7715675754255, 1733.1838352592918, 1777.603454053747, 1388.6638126487117, 2364.9248783954276, 11679.081941904253, 1333.4254581681564, 1179.9080379079787, 4455.5853885109755, 2890.3792491954023, 949.8654677317164, 1501.759977862026, 1002.0565384349727, 772.2291285812711, 1675.5353169738892, 11046.600434201218, 663.0671636038003, 815.2513882542382, 651.8083939331943, 626.9943556257722, 8301.024740970504, 559.4455462005785, 1053.5713643628044, 595.2285386191528, 1038.1213069954902, 490.37259556670807, 469.7636910997414, 721.835176668347, 6664.547454783922, 4022.6017271356086, 4491.854951580984, 3724.4142316078965, 4637.125576829841, 3338.917618005633, 2941.52302892942, 3388.791329627826, 2555.232363021959, 4650.364299209928, 2551.956489453323, 2308.4506443586897, 3921.4078985856577, 1977.0254967688447, 1518.9489011952382, 1884.4356703521673, 7022.95335057465, 3559.84780315201, 4065.2634329033135, 3087.0802153293184, 4533.617533005422, 2835.9451071175595, 2696.0544747228805, 3200.1011695617335, 2676.463269935344, 3341.6422506502086, 3122.4528794702733, 6285.677694937657, 10831.207725108761, 3003.4906905220796, 2912.587175629689, 3413.6995751728437, 173.5768539186193, 170.00068486113284, 128.8702177317515, 118.43477510223232, 136.3071905741895, 111.19952037068701, 95.24326016644342, 89.7367738737247, 86.26212936078153, 81.39615274466736, 91.93877335668856, 76.74703250976481, 86.50437679030138, 85.98028670427249, 69.41123248555215, 66.60799975929757, 90.2887862461753, 62.09474942828175, 56.68944690858794, 59.895994072755784, 60.21058662959007, 62.25168991103316, 55.66409733286842, 56.188099448264815, 50.48918044041698, 53.17705627055525, 49.67947081839182, 58.442607751756505, 46.85238838281938, 49.694511903455776, 49.05367884386678, 122.81993379940168, 96.33744387916776, 122.8891024886725, 183.19136407325945, 196.31615302800776, 860.7554692701988, 230.3300584284619, 118.40474906389693, 133.02804639867006, 166.5559249429779, 3827.371837191515, 105.90349349670902, 266.37973631175925, 435.54245263063257, 970.3522446300095, 1010.7536627766715, 831.110669075098, 714.0593621451452, 318.44449240712726, 730.0243368976015, 440.95071859450184, 504.0176169122183, 514.9682231327051, 367.3768074725377, 223.0448544345296, 869.8673420078271, 223.0919450980686, 2547.184795726759, 650.6060182003466, 1337.8394773942196, 585.9604044399115, 882.9411461956215, 822.3899502111381, 655.3046750074138, 440.8852145625597, 10831.207725108761, 2243.085997567444, 964.698776694629, 6285.677694937657, 852.1786089750927, 1099.6933575365563, 1119.488559249192, 3077.498573488742, 1082.5152122480158, 1006.5103923853592, 1295.9489028061407, 2227.5270023059243, 231.5403789610442, 156.51009678565936, 125.2233029444842, 96.43714575250553, 99.75231607845552, 87.17951243592543, 79.84620487281421, 67.27217424181457, 65.60274029520825, 62.32284860573257, 60.10757186033925, 68.01804169918414, 57.42479988329759, 62.139347504668486, 56.41143060790637, 51.96243709818738, 50.06656376976493, 51.42788389266972, 54.57757698577073, 49.34010104959036, 48.28289130896436, 47.60646950446363, 45.74648635959834, 54.246172133772234, 46.074430191987865, 47.05196302339524, 44.32231304025136, 44.67685028201263, 44.87181903807832, 49.71448156992997, 158.21893821635314, 49.32717773344643, 51.34155106624769, 102.35812706435051, 192.5531574465537, 184.9586399415681, 85.46626987297176, 84.11521820886297, 82.65042285978629, 664.7212640713466, 111.64232431673499, 1260.2457713224478, 76.63312835106824, 484.90875977938447, 101.63006651786014, 167.5980459720865, 248.78108583926843, 616.9665727126242, 321.91854435740095, 831.110669075098, 661.7924489015453, 259.53774726968913, 751.0146289175256, 202.21679422846015, 168.41815286046435, 10831.207725108761, 190.2135382434114, 131.03039237133902, 189.5519808980281, 104.62671184430121, 528.207230876093, 84.05926066376014, 79.96383076405024, 75.44710427166876, 72.97328640987521, 72.87074148889246, 71.20069628165082, 67.64288959389478, 65.37193505709077, 72.84165550144182, 65.32326736297341, 64.27986485256314, 65.55583756510278, 66.89806276288205, 64.98857767479356, 64.49967164071948, 64.37825058839667, 65.62729479705688, 64.9815909800612, 64.44643529728258, 64.03762658332816, 64.90425321610068, 67.47661410514063, 63.695466154500245, 63.85859087960405, 63.728987767931166, 191.63639320554853, 140.8238715907027, 101.16807087919085, 197.86021094979907, 150.3036720897409, 70.30419991243993, 427.6720451845817, 75.69401971003063, 142.91207897812316, 78.67390868418207, 74.68794119815091, 88.0042208871374, 79.89341999627935, 305.7092165710851, 74.99629112780055, 579.9973313726166, 76.03621494858355, 104.23445090365821, 462.5705015102601, 990.2520180154859, 295.86849289324425, 455.5521279736371, 106.642268624478, 85.60226101110717, 1610.6614388798182, 548.1752322201312, 3413.6995751728437, 114.39800461032061, 10831.207725108761, 314.99725186895785, 190.0767113452427, 779.1442777314567, 290.29733906293046, 2000.5798444782354, 329.741016775792, 192.94056773534533, 560.006020267932, 998.8410638266714, 2912.587175629689, 6285.677694937657], \"loglift\": [30.0, 29.0, 28.0, 27.0, 26.0, 25.0, 24.0, 23.0, 22.0, 21.0, 20.0, 19.0, 18.0, 17.0, 16.0, 15.0, 14.0, 13.0, 12.0, 11.0, 10.0, 9.0, 8.0, 7.0, 6.0, 5.0, 4.0, 3.0, 2.0, 1.0, 0.3125, 0.3125, 0.3123, 0.3123, 0.3123, 0.3123, 0.3123, 0.3123, 0.3122, 0.3122, 0.3121, 0.3121, 0.3121, 0.3121, 0.312, 0.312, 0.3119, 0.3119, 0.3118, 0.3118, 0.3118, 0.3118, 0.3117, 0.3116, 0.3116, 0.3116, 0.3116, 0.3115, 0.3114, 0.3114, 0.311, 0.3113, 0.3096, 0.3114, 0.3089, 0.3098, 0.3102, 0.3086, 0.3108, 0.3041, 0.3094, 0.3096, 0.3039, 0.3094, 0.3112, 0.309, 0.2946, 0.2993, 0.2937, 0.2992, 0.2892, 0.3005, 0.2958, 0.2872, 0.2868, 0.2689, 0.2721, 0.1595, 0.0466, 0.2727, 0.2289, 0.0883, 1.8394, 1.8394, 1.838, 1.8378, 1.8378, 1.8372, 1.8367, 1.8361, 1.8357, 1.8352, 1.8349, 1.8349, 1.8344, 1.834, 1.8335, 1.8334, 1.8329, 1.8327, 1.8326, 1.8325, 1.8325, 1.8322, 1.8321, 1.8317, 1.8314, 1.8312, 1.8309, 1.8304, 1.8304, 1.8303, 1.8303, 1.8155, 1.8143, 1.8016, 1.7819, 1.7511, 1.6057, 1.705, 1.7568, 1.7249, 1.6938, 1.2422, 1.7494, 1.5734, 1.4754, 1.2899, 1.2278, 1.2188, 1.2576, 1.4678, 1.2041, 1.3506, 1.3008, 1.2737, 1.377, 1.5387, 1.065, 1.5353, 0.6194, 1.1311, 0.8441, 1.1658, 0.9812, 1.0107, 1.1026, 1.2659, -0.1858, 0.4791, 0.8371, -0.3159, 0.8478, 0.6364, 0.5824, -0.23, 0.51, 0.5451, 0.2486, -0.2912, 2.7071, 2.7054, 2.7049, 2.7035, 2.7035, 2.7027, 2.7023, 2.7009, 2.7006, 2.7002, 2.6999, 2.6995, 2.6993, 2.6991, 2.6988, 2.6984, 2.6978, 2.6977, 2.6976, 2.6973, 2.6973, 2.6973, 2.6968, 2.6967, 2.6965, 2.6965, 2.6964, 2.6962, 2.696, 2.6957, 2.689, 2.6951, 2.6936, 2.6543, 2.6049, 2.5905, 2.6091, 2.5685, 2.5636, 1.6642, 2.373, 1.3853, 2.5211, 1.581, 2.3297, 1.995, 1.7044, 0.9588, 1.3851, 0.6317, 0.7625, 1.5158, 0.5635, 1.6574, 1.827, -2.1788, 3.1283, 3.1269, 3.1259, 3.1256, 3.1248, 3.1236, 3.1234, 3.1228, 3.1224, 3.1222, 3.1218, 3.1217, 3.1214, 3.1214, 3.1213, 3.1213, 3.1212, 3.1212, 3.1211, 3.1211, 3.121, 3.1204, 3.1202, 3.1197, 3.1194, 3.1193, 3.1192, 3.1191, 3.1191, 3.119, 3.1177, 3.1142, 3.1161, 3.1045, 3.1026, 3.1175, 3.0468, 3.1129, 3.0737, 3.1047, 3.1093, 3.0925, 3.1, 2.9172, 3.1024, 2.809, 3.0964, 3.0238, 2.6538, 2.3877, 2.7026, 2.5543, 2.9917, 3.0628, 1.8466, 2.2705, 1.4772, 2.9274, 0.7745, 2.4477, 2.6823, 1.9537, 2.4412, 1.3249, 2.291, 2.5817, 1.8161, 1.3784, 0.2632, -0.4964], \"logprob\": [30.0, 29.0, 28.0, 27.0, 26.0, 25.0, 24.0, 23.0, 22.0, 21.0, 20.0, 19.0, 18.0, 17.0, 16.0, 15.0, 14.0, 13.0, 12.0, 11.0, 10.0, 9.0, 8.0, 7.0, 6.0, 5.0, 4.0, 3.0, 2.0, 1.0, -5.2785, -4.6781, -6.0794, -5.9307, -5.9054, -6.1524, -5.62, -4.0229, -6.1931, -6.3154, -4.9867, -5.4195, -6.5324, -6.0743, -6.4789, -6.7395, -5.965, -4.079, -6.8921, -6.6855, -6.9092, -6.9481, -4.365, -7.0622, -6.4292, -7.0002, -6.4441, -7.1942, -7.2371, -6.8076, -4.5852, -5.0898, -4.9812, -5.1668, -4.95, -5.2776, -5.4039, -5.2639, -5.5441, -4.952, -5.5467, -5.6469, -5.1226, -5.802, -6.0638, -5.8504, -4.5492, -5.224, -5.0969, -5.3666, -4.9923, -5.4501, -5.5054, -5.3426, -5.5217, -5.3177, -5.3823, -4.7953, -4.364, -5.4205, -5.4951, -5.4769, -6.7047, -6.7256, -7.0039, -7.0886, -6.9481, -7.1522, -7.3076, -7.3678, -7.4077, -7.4662, -7.3447, -7.5254, -7.4061, -7.4126, -7.6272, -7.6685, -7.3649, -7.7394, -7.8306, -7.7756, -7.7704, -7.7374, -7.8494, -7.8404, -7.9477, -7.8959, -7.9643, -7.8023, -8.0234, -7.9646, -7.9776, -7.0746, -7.3186, -7.0879, -6.7084, -6.6699, -5.3373, -6.5563, -7.1699, -7.0853, -6.8916, -4.2087, -7.2888, -6.5424, -6.1487, -5.5332, -5.5545, -5.7592, -5.8723, -6.4695, -5.9036, -6.2612, -6.1773, -6.1829, -6.4173, -6.7547, -5.8675, -6.7579, -5.2386, -6.0918, -5.6579, -6.1617, -5.9363, -5.9779, -6.1131, -6.3461, -4.5964, -5.5061, -5.9919, -5.2706, -6.1052, -6.0616, -6.0977, -5.8989, -6.2038, -6.2414, -6.2852, -6.2834, -5.5489, -5.9423, -6.1657, -6.4283, -6.3946, -6.5301, -6.6184, -6.7912, -6.8166, -6.8682, -6.9047, -6.7815, -6.951, -6.8723, -6.9693, -7.0519, -7.0896, -7.0629, -7.0035, -7.1047, -7.1264, -7.1406, -7.1809, -7.0105, -7.174, -7.153, -7.2129, -7.2051, -7.201, -7.0988, -5.9478, -7.1072, -7.0687, -6.418, -5.8355, -5.8901, -6.6435, -6.7001, -6.7225, -5.5372, -6.6124, -5.1764, -6.8406, -5.9358, -6.7497, -6.5842, -6.4798, -6.3171, -6.5414, -6.3463, -6.4433, -6.626, -6.5158, -6.734, -6.7474, -6.5894, -5.3243, -5.6985, -5.3302, -5.9248, -4.3065, -6.1457, -6.1958, -6.2545, -6.2883, -6.2899, -6.3135, -6.3649, -6.3993, -6.2911, -6.4001, -6.4163, -6.3967, -6.3764, -6.4055, -6.4131, -6.415, -6.3964, -6.4065, -6.4152, -6.4219, -6.4086, -6.3698, -6.4275, -6.425, -6.4271, -5.3275, -5.6391, -5.9679, -5.3087, -5.5856, -6.3304, -4.5957, -6.2612, -5.6649, -6.2308, -6.2782, -6.1309, -6.2201, -5.061, -6.2809, -4.5287, -6.2732, -6.0304, -4.9102, -4.4151, -5.3083, -5.025, -6.0396, -6.1882, -4.4698, -5.1237, -4.088, -6.0337, -3.6361, -5.5005, -5.7711, -5.0889, -5.5887, -4.7747, -5.6114, -5.8567, -5.5568, -5.4157, -5.4608, -5.4511]}, \"token.table\": {\"Topic\": [3, 1, 3, 1, 2, 3, 4, 2, 2, 1, 2, 3, 2, 1, 2, 3, 4, 1, 2, 4, 1, 2, 1, 2, 1, 2, 3, 1, 2, 3, 1, 2, 3, 4, 1, 2, 4, 1, 2, 3, 4, 1, 2, 4, 1, 2, 3, 4, 3, 1, 2, 1, 2, 3, 1, 3, 3, 3, 1, 3, 4, 2, 1, 2, 2, 4, 2, 2, 1, 2, 3, 3, 4, 4, 1, 2, 3, 4, 1, 4, 4, 2, 2, 1, 2, 1, 2, 3, 3, 4, 2, 2, 2, 4, 4, 3, 2, 4, 1, 2, 3, 1, 2, 3, 1, 2, 3, 4, 1, 2, 4, 2, 4, 4, 1, 2, 3, 4, 4, 2, 3, 4, 1, 2, 3, 4, 1, 1, 2, 4, 3, 3, 3, 1, 2, 4, 3, 2, 1, 2, 3, 4, 3, 1, 2, 3, 1, 2, 1, 2, 2, 3, 4, 1, 2, 1, 2, 3, 4, 1, 4, 1, 1, 2, 2, 1, 2, 3, 4, 1, 4, 1, 2, 3, 4, 3, 3, 1, 2, 4, 1, 2, 3, 1, 2, 4, 2, 1, 2, 1, 2, 3, 1, 2, 4, 1, 2, 1, 2, 3, 4, 1, 2, 3, 4, 1, 2, 1, 2, 3, 4, 1, 2, 1, 1, 2, 4, 1, 2, 3, 4, 1, 4, 3, 4, 1, 1, 2, 3, 1, 2, 3, 4, 1, 3, 1, 1, 2, 3, 1, 2, 3, 4, 3, 1, 2, 3, 3, 2, 3, 1, 2, 4, 3, 1, 2, 4, 2, 1, 2, 1, 2, 4, 1, 2, 3, 1, 2, 3, 4, 2, 4, 1, 2, 3, 4, 1, 2, 3, 4, 1, 2, 3, 3, 1, 2, 4, 1, 2, 1, 2, 4, 4, 3, 1, 2, 4, 1, 3, 1, 2, 3, 4, 2, 3, 2, 3, 3, 4, 1, 4, 2, 1, 2, 3, 4, 1, 2, 4, 3, 2, 1, 4, 1, 2, 3, 1, 3, 1, 3, 2, 3, 1, 2, 3, 4, 2, 1, 2, 1, 2, 2, 3, 4, 4, 1, 2, 4, 4, 2, 4, 2, 4, 1, 2, 3, 4, 3, 2, 3, 1, 2, 3, 4, 2, 1, 4, 1, 3, 3, 1, 2, 3, 1, 2, 3, 3, 1, 2, 3, 4, 4, 4, 1, 2, 3, 4, 2, 1, 3, 4, 1, 3, 1, 2, 3, 1, 2, 3, 4, 1, 2, 3, 4, 1, 2, 1, 2, 3, 4, 1, 2, 3, 4, 1, 2, 3, 4, 1, 1, 2, 2, 2, 4, 1, 2, 1, 2, 3, 1, 2, 4, 4, 1, 4, 1, 2, 3, 4, 1, 2, 3, 4, 1, 2, 3, 1, 2, 1, 2, 4, 1, 3, 1, 2, 4, 2, 1, 1, 2, 3, 4, 1, 2, 3, 4, 1, 4, 2, 1, 1, 4, 4, 4, 4, 1, 1, 2, 3, 4, 1, 1, 1, 4, 1, 1, 2, 3, 2, 1, 2, 3, 1, 2, 3, 4, 2, 1, 2, 3, 4, 1, 4, 2, 1, 2, 1, 2, 1, 3, 3, 4, 3, 1, 2, 3, 1, 2, 3, 1, 2, 3, 4, 1, 2, 1, 2, 4, 1, 3, 4], \"Freq\": [0.9766805538883321, 0.018961067706684476, 0.9796551648453646, 0.8189491097474015, 0.007008121966053558, 0.001001160280864794, 0.17320072858960936, 0.981806938509629, 0.9941136421776756, 0.04584441912284212, 0.9117945581098601, 0.04075059477585967, 0.9966766656636734, 0.9987597675318106, 0.03598190503832004, 0.1570119492581238, 0.8046862399478846, 0.6828003685645516, 0.008984215375849364, 0.3080302414576925, 0.9986074367994673, 0.0012429766452569917, 0.9979522946336783, 0.00156541536413126, 0.6316153875544553, 0.36850459889271775, 0.9948197392616795, 0.038211408247392345, 0.9389088883644976, 0.02183509042708134, 0.5581346096218005, 0.02375040892007662, 0.41563215610134085, 0.9940100206414415, 0.9960541659929534, 0.0031839770889492383, 0.0005306628481582063, 0.6231088112369175, 0.36964082022529005, 0.0011734629213501272, 0.004693851685400509, 0.25403437516298855, 0.5625046878609032, 0.18372128918037564, 0.2916466690999478, 0.5750489093914165, 0.056680448058293746, 0.0752304128773717, 0.9954619446112222, 0.2102803949110691, 0.7888419234509166, 0.540312272116282, 0.4598402315883251, 0.0011496005789708127, 0.27767247045172055, 0.7165741172947627, 0.9954670397065939, 0.9982167620623839, 0.44781671240816534, 0.04822641518241781, 0.49948787153218444, 0.9903111827890677, 0.10524096518747317, 0.8870309922944166, 0.01422390129246113, 0.981449189179818, 0.9966523258463652, 0.9965024982917775, 0.6983765017189985, 0.2991743086791022, 0.001818688806559892, 0.025270366265143607, 0.9703820645815144, 0.9866624287083842, 0.9865590312289071, 0.011236435435408965, 0.0002809108858852241, 0.0016854653153113447, 0.9992304163724584, 0.9885611274639138, 0.994073937283811, 0.9969612463461781, 0.9932473324941308, 0.7362483140951914, 0.2641995204908717, 0.9913201855569067, 0.008386439747661466, 0.0002150369166067043, 0.010436431027246515, 0.9862427320747957, 0.9908719709119819, 0.9941693494709053, 0.005275597729247487, 0.9918123730985275, 0.9831364530916779, 0.9805709004723322, 0.03408927401161138, 0.9658627636623224, 0.878811110445732, 0.0026630639710476726, 0.1171748147260976, 0.9880304075588892, 0.011283716289037992, 0.0007052322680648745, 0.6234990024981837, 0.2831650197592038, 0.01875856597773905, 0.0741409988643972, 0.48979418715899087, 0.5085667866668268, 0.001706599955257808, 0.026303255644069344, 0.960068831008531, 0.9950512677025607, 0.04323665243395636, 0.31346573014618356, 0.023780158838675996, 0.6204459624272737, 0.9880508765095359, 0.0069973091648402866, 0.048981164153882005, 0.9446367372534387, 0.14971004941326185, 0.6287822075356998, 0.013610004492114714, 0.2095940691785666, 0.9994939418593989, 0.9995648680324761, 8.562316841121091e-05, 0.00034249267364484364, 0.9976661567046362, 0.9908122695409375, 0.9927066092195735, 0.20955255963118363, 0.1385750797561053, 0.6489369588578591, 0.9850327696335845, 0.9982057443231598, 0.4970007143398401, 0.1794151956330543, 0.32377224959068424, 0.9915211583628875, 0.993347472774888, 0.9608819528248124, 0.03862172783356834, 0.0003329459295997271, 0.9987169409097931, 0.001316699988015548, 0.9985085354291546, 0.0009491526002178276, 0.9902663010498841, 0.014202137587957363, 0.9799474935690581, 0.9994197421246506, 0.0004488747999661579, 0.7015751248045596, 0.01738416238453776, 0.00434604059613444, 0.2762840093256894, 0.9983905648441401, 0.9848943221417527, 0.9997032893829166, 0.9984650277543005, 0.9823696940826508, 0.9878381789524305, 0.18103531571689807, 0.09310387665440473, 0.003448291727940916, 0.7241412628675923, 0.009884541548628945, 0.9884541548628945, 0.39047959710826075, 0.09523892612396603, 0.009523892612396605, 0.50476630845702, 0.9894173208546558, 0.9967408058896166, 0.9746566857532067, 0.016561976385033653, 0.008437233252752993, 0.9968822001918116, 0.0027429934753705506, 0.00039185621076722154, 0.8579822672650557, 0.11550067235943452, 0.02656833647937406, 0.9880695571348772, 0.387798438213345, 0.6123133234947553, 0.41625436728873344, 0.31685033927948364, 0.26714832527485877, 0.012516675341305582, 0.012516675341305582, 0.9637840012805298, 0.5218946438862667, 0.4776404196970804, 0.794012786902237, 0.20294010005373014, 0.0023149060842630816, 0.0007716353614210271, 0.9240625196792454, 0.035202381702066486, 0.00185275693168771, 0.038907895565441906, 0.9990836856983343, 0.0005968241850049787, 0.9194574577569605, 0.018196880231933873, 0.0054933978058668296, 0.056650664873001674, 0.41863616056251585, 0.5813288864683277, 0.9990888523047552, 0.4452123366674642, 0.5401909684898565, 0.013851050474098885, 0.7123622422822284, 0.27322122263265386, 0.009935317186641958, 0.004967658593320979, 0.35775029733384495, 0.6365850879028712, 0.9816646368135281, 0.992136233795142, 0.999660523806718, 0.9744202467844821, 0.025033035481043058, 0.00037362739523944867, 0.29618237951513793, 0.693388206306757, 0.006887962314305533, 0.004591974876203689, 0.09360417872325975, 0.9009402202113752, 0.9992035932655029, 0.2286052953529138, 0.7351229105466247, 0.03137719740138032, 0.9969155389632278, 0.0031167524666112527, 0.005679589041263505, 0.9920348858740256, 0.9933671913034549, 0.9985462864033899, 0.0013424929905934255, 0.99260250128584, 0.9916799241912673, 0.9974459067652839, 0.9856283009021233, 0.2902448181701976, 0.1295735795402668, 0.5753066931587846, 0.9924581592886141, 0.9991309150486248, 0.0002715767640795392, 0.0005431535281590784, 0.9897891463806412, 0.9969522412438825, 0.0030348622260087748, 0.9912256262353968, 0.008670355361976715, 0.9837966108569317, 0.9601425916501303, 0.0390718466248552, 0.0009607831137259476, 0.7663042026937634, 0.1315642757636883, 0.007570716219384169, 0.0946339527423021, 0.026667985441997617, 0.973381468632913, 0.6709367937760442, 0.29405012202355596, 0.0003925902830755086, 0.03415535462756925, 0.44130180201578345, 0.07674813948100583, 0.007068907583776852, 0.4746266520535886, 0.9832887372472281, 0.01669105740329131, 0.9927279733808421, 0.9959541334157535, 0.9988429814792321, 0.0013853578106508074, 0.9879466659508319, 0.9989128160375235, 0.0009637364361191736, 0.42915269345279433, 0.5670252782272215, 0.0038837347823782293, 0.9847884395971788, 0.9979408873609225, 0.9812402236258406, 0.017465042837160865, 0.001229932594166258, 0.6310769143496463, 0.3657834344319606, 0.7320272168702837, 0.255897455836506, 0.008916287659808573, 0.0035665150639234288, 0.9917896104136587, 0.9941409617093118, 0.04884809973961911, 0.9476531349486107, 0.09593757067174266, 0.8922194072472067, 0.9996089184887533, 0.9930727697315882, 0.9860243741843155, 0.4651797181117432, 0.06384819660357259, 0.04743008890551107, 0.42139809758357916, 0.4411397941113622, 0.5573766287502291, 0.0014004437908297213, 0.9894020652057024, 0.9951330286345343, 0.9974424715171589, 0.0023797195980300315, 0.9570144737599428, 0.04249407607064161, 0.0002992540568355043, 0.1081322830137504, 0.8866847207127533, 0.9994834768634151, 0.9848500895264513, 0.13309066813440432, 0.8590397670493368, 0.0059666566766927, 0.0656332234436197, 0.48926584748880136, 0.4415325940752598, 0.9850408347565378, 0.040687090219906866, 0.9602153291898021, 0.12590627640120663, 0.8726607433325012, 0.975736911993435, 0.020760359829647555, 0.9922531134188901, 0.9884454094892837, 0.07248544848569775, 0.009352961094928744, 0.918928427576749, 0.9890813868476397, 0.13128002789680457, 0.8720744710287732, 0.9885987039372854, 0.990495828937018, 0.30135981621508434, 0.5273796783763975, 0.06301159793588126, 0.10821557036814392, 0.9814782148041137, 0.9064856770091653, 0.08498303221960923, 0.9970296907140953, 0.0005989965098913159, 0.00029949825494565794, 0.0020964877846196056, 0.9785198813075664, 0.025421388532105738, 0.9787234584860709, 0.09867405059443786, 0.8984531975177763, 0.9982103442709482, 0.8734366355701686, 0.12575147989793722, 0.0006498784490849469, 0.6203336574109305, 0.0770600816659541, 0.3043873225805187, 0.9931070054102943, 0.9960912042321199, 0.0015095558410099241, 0.0023721591787298807, 0.00021565083442998917, 0.9865548101237812, 0.9904415563829547, 0.2699087934835711, 0.2911375749935149, 0.00909804921854734, 0.43064099634457415, 0.9940754187639912, 0.3148674511039154, 0.688772549289815, 0.9865756536767708, 0.6483920754395175, 0.35202725209477287, 0.07601046470816103, 0.920571183687728, 0.9776425263517236, 0.7141464153103871, 0.01825040839126545, 0.2658211656988663, 0.0015869920340230825, 0.5160658806163003, 0.21249771554788835, 0.0035713901772754346, 0.2678542632956576, 0.2600373819294932, 0.7397615175580411, 0.37756381638492464, 0.03951249241237583, 0.019756246206187916, 0.5619554476426786, 0.23650447617482262, 0.7620699787855396, 0.9786970846517525, 0.9929366031259663, 0.743435499780377, 0.0015110477637812543, 0.1420384897954379, 0.11181753451981281, 0.9998939320483194, 0.5087564374451765, 0.4903120953021489, 0.9924266255599589, 0.013389042246417652, 0.9774000839884887, 0.024426002418303002, 0.97704009673212, 0.558129388475817, 0.4353166036478049, 0.006079840833069901, 0.011681934427762915, 0.058409672138814574, 0.9345547542210332, 0.9956461505759999, 0.998374307946292, 0.9941245593824066, 0.7988400677765927, 0.00937399419466482, 0.0005858746371665513, 0.1909951317162957, 0.879899546883615, 0.11851708182513998, 0.00044892834024674237, 0.0013467850207402271, 0.9866928578255502, 0.01328115796810491, 0.00032393068214890024, 0.996772448058659, 0.0030323368693657596, 0.9959303101647924, 0.0038361760095236446, 0.0002950904622710496, 0.1307730067665801, 0.867857226723668, 0.9982673309985012, 0.0016505246717245623, 0.00015004769742950566, 0.9863229054738588, 0.9996160489554433, 0.8217617529925512, 0.012996232103288522, 0.0014995652426871371, 0.16395246653379367, 0.16608681300622863, 0.008741411210854139, 0.008741411210854139, 0.8129512426094349, 0.9989198690095906, 0.0009632785622078983, 0.9963289911948832, 0.9992401786517505, 0.013211083303949368, 0.9776201644922532, 0.9860678896791255, 0.9873986440590142, 0.9943104780856502, 0.9995219774270308, 0.9333638842968239, 0.005992705517154568, 0.000749088189644321, 0.06067614336119, 0.9984140915833608, 0.9997011849213052, 0.9997848060625002, 0.0001648993577539997, 0.9989456299176264, 0.2763432940378605, 0.6877179703896755, 0.03768317645970825, 0.996670438663351, 0.5887848245709943, 0.36591732935486093, 0.045610092044231956, 0.976703475263074, 0.003529190515855733, 0.0002205744072409833, 0.019631122244447515, 0.9977463362505274, 0.2502675127868024, 0.5354280922602263, 0.1251337563934012, 0.08903748051068931, 0.026612789590474837, 0.9713668200523315, 0.9959568983365293, 0.01107557252207896, 0.9857259544650275, 0.9995228137637003, 0.0003459753595582209, 0.9996809284196951, 0.9872607754623188, 0.8220987627098718, 0.16963942722584657, 0.9836821050314016, 0.45122346964523163, 0.548418102365571, 0.0005225517888190291, 0.10807180835003308, 0.8645744668002646, 0.030019946763898075, 0.747204176675433, 0.07617916768708319, 0.1734291689897426, 0.0016208333550443233, 0.5776149431901162, 0.42245171335277126, 0.9820654724177622, 0.017513999290616897, 0.00042717071440529023, 0.647819586398937, 0.35110832545285897, 0.9936201268604843], \"Term\": [\"aaa\", \"ahh\", \"ahh\", \"alright\", \"alright\", \"alright\", \"alright\", \"amber\", \"america\", \"american\", \"american\", \"american\", \"amp\", \"anymore\", \"arrived\", \"arrived\", \"arrived\", \"ask\", \"ask\", \"ask\", \"away\", \"away\", \"baby\", \"baby\", \"bad\", \"bad\", \"bah\", \"bang\", \"bang\", \"bang\", \"bear\", \"bear\", \"bear\", \"beep\", \"better\", \"better\", \"better\", \"big\", \"big\", \"big\", \"big\", \"bit\", \"bit\", \"bit\", \"black\", \"black\", \"black\", \"black\", \"bliss\", \"blood\", \"blood\", \"blue\", \"blue\", \"blue\", \"bomb\", \"bomb\", \"boogie\", \"bop\", \"breathing\", \"breathing\", \"breathing\", \"bros\", \"brown\", \"brown\", \"buckle\", \"buckle\", \"burst\", \"buzz\", \"came\", \"came\", \"came\", \"capital\", \"capital\", \"carve\", \"cause\", \"cause\", \"cause\", \"cause\", \"change\", \"chisel\", \"chop\", \"christ\", \"christmas\", \"cold\", \"cold\", \"come\", \"come\", \"come\", \"composed\", \"composed\", \"core\", \"cream\", \"cultivated\", \"cultivated\", \"curve\", \"dada\", \"damned\", \"damned\", \"dance\", \"dance\", \"dance\", \"day\", \"day\", \"day\", \"dead\", \"dead\", \"dead\", \"dead\", \"death\", \"death\", \"death\", \"desk\", \"desk\", \"develop\", \"died\", \"died\", \"died\", \"died\", \"difficult\", \"dip\", \"dip\", \"dip\", \"dog\", \"dog\", \"dog\", \"dog\", \"don\", \"dont\", \"dont\", \"dont\", \"doo\", \"doodoo\", \"drama\", \"drop\", \"drop\", \"drop\", \"drug\", \"drugs\", \"earth\", \"earth\", \"earth\", \"estranged\", \"exit\", \"eyes\", \"eyes\", \"eyes\", \"fall\", \"fall\", \"far\", \"far\", \"favor\", \"feeding\", \"feeding\", \"feel\", \"feel\", \"feeling\", \"feeling\", \"feeling\", \"feeling\", \"feels\", \"festering\", \"fine\", \"forever\", \"freeze\", \"freight\", \"fuck\", \"fuck\", \"fuck\", \"fuck\", \"gimme\", \"gimme\", \"giving\", \"giving\", \"giving\", \"giving\", \"glowing\", \"goin\", \"gonna\", \"gonna\", \"gonna\", \"good\", \"good\", \"good\", \"got\", \"got\", \"got\", \"grand\", \"great\", \"great\", \"green\", \"green\", \"green\", \"grin\", \"grin\", \"grin\", \"hair\", \"hair\", \"hands\", \"hands\", \"hands\", \"hands\", \"head\", \"head\", \"head\", \"head\", \"hear\", \"hear\", \"heart\", \"heart\", \"heart\", \"heart\", \"heaven\", \"heaven\", \"help\", \"hes\", \"hes\", \"hes\", \"high\", \"high\", \"high\", \"high\", \"higher\", \"higher\", \"hip\", \"hissing\", \"hold\", \"home\", \"home\", \"home\", \"hot\", \"hot\", \"hot\", \"hot\", \"huh\", \"huh\", \"hurt\", \"ice\", \"ice\", \"ice\", \"ill\", \"ill\", \"important\", \"important\", \"involved\", \"ive\", \"ive\", \"ivory\", \"jimmy\", \"john\", \"jungle\", \"kick\", \"kick\", \"kick\", \"killer\", \"know\", \"know\", \"know\", \"laying\", \"leave\", \"leave\", \"let\", \"let\", \"levy\", \"life\", \"life\", \"life\", \"like\", \"like\", \"like\", \"like\", \"lipstick\", \"lipstick\", \"little\", \"little\", \"little\", \"little\", \"living\", \"living\", \"living\", \"living\", \"long\", \"long\", \"loo\", \"lookout\", \"lose\", \"lose\", \"loser\", \"love\", \"love\", \"low\", \"low\", \"low\", \"lowkey\", \"lucy\", \"make\", \"make\", \"make\", \"mama\", \"mama\", \"man\", \"man\", \"man\", \"man\", \"mans\", \"meow\", \"mercy\", \"mercy\", \"metal\", \"metal\", \"mind\", \"mitts\", \"mix\", \"moment\", \"moment\", \"moment\", \"moment\", \"money\", \"money\", \"money\", \"nana\", \"natural\", \"need\", \"need\", \"night\", \"night\", \"night\", \"ohoh\", \"ohoh\", \"ooh\", \"oohoohoohooh\", \"passion\", \"passion\", \"planet\", \"planet\", \"planet\", \"planet\", \"police\", \"pool\", \"pool\", \"poor\", \"poor\", \"pop\", \"pop\", \"porcupine\", \"prime\", \"probably\", \"probably\", \"probably\", \"publicize\", \"punk\", \"punk\", \"purple\", \"radical\", \"red\", \"red\", \"red\", \"red\", \"reflektor\", \"rich\", \"rich\", \"right\", \"right\", \"right\", \"right\", \"riot\", \"runaway\", \"runaway\", \"runnin\", \"runnin\", \"sacrilege\", \"said\", \"said\", \"said\", \"sand\", \"sand\", \"sand\", \"sarah\", \"say\", \"say\", \"say\", \"say\", \"scoping\", \"scrawled\", \"screaming\", \"screaming\", \"screaming\", \"screaming\", \"screams\", \"seeds\", \"seeds\", \"seething\", \"set\", \"set\", \"shall\", \"shall\", \"shark\", \"shes\", \"shes\", \"shes\", \"shes\", \"shit\", \"shit\", \"shit\", \"shit\", \"shoot\", \"shoot\", \"somebody\", \"somebody\", \"somebody\", \"somebody\", \"son\", \"son\", \"sowing\", \"squad\", \"stars\", \"stars\", \"stars\", \"stars\", \"stay\", \"street\", \"street\", \"success\", \"sucks\", \"sucks\", \"sunday\", \"sunday\", \"sweet\", \"sweet\", \"sweet\", \"switch\", \"switch\", \"switch\", \"synthesized\", \"takes\", \"technically\", \"tell\", \"tell\", \"tell\", \"tell\", \"thats\", \"thats\", \"thats\", \"thats\", \"theres\", \"theres\", \"theres\", \"things\", \"things\", \"think\", \"think\", \"think\", \"tick\", \"tick\", \"time\", \"time\", \"time\", \"tokyo\", \"touch\", \"try\", \"try\", \"try\", \"try\", \"tryin\", \"tryin\", \"tryin\", \"tryin\", \"trying\", \"trying\", \"uhhuh\", \"understand\", \"valentine\", \"valentine\", \"vandal\", \"venom\", \"vinyl\", \"wait\", \"waiting\", \"waiting\", \"waiting\", \"waiting\", \"wake\", \"wanna\", \"want\", \"want\", \"wanted\", \"war\", \"war\", \"war\", \"washing\", \"water\", \"water\", \"water\", \"way\", \"way\", \"way\", \"way\", \"weird\", \"white\", \"white\", \"white\", \"white\", \"willing\", \"willing\", \"wisdom\", \"wolf\", \"wolf\", \"wont\", \"wont\", \"wrong\", \"yah\", \"yall\", \"yall\", \"yanada\", \"yeah\", \"yeah\", \"yeah\", \"yellow\", \"yellow\", \"yellow\", \"yes\", \"yes\", \"yes\", \"yes\", \"young\", \"young\", \"youre\", \"youre\", \"youre\", \"youth\", \"youth\", \"zed\"]}, \"R\": 30, \"lambda.step\": 0.01, \"plot.opts\": {\"xlab\": \"PC1\", \"ylab\": \"PC2\"}, \"topic.order\": [2, 1, 4, 3]};\n",
       "\n",
       "function LDAvis_load_lib(url, callback){\n",
       "  var s = document.createElement('script');\n",
       "  s.src = url;\n",
       "  s.async = true;\n",
       "  s.onreadystatechange = s.onload = callback;\n",
       "  s.onerror = function(){console.warn(\"failed to load library \" + url);};\n",
       "  document.getElementsByTagName(\"head\")[0].appendChild(s);\n",
       "}\n",
       "\n",
       "if(typeof(LDAvis) !== \"undefined\"){\n",
       "   // already loaded: just create the visualization\n",
       "   !function(LDAvis){\n",
       "       new LDAvis(\"#\" + \"ldavis_el1609627849860467765896270903\", ldavis_el1609627849860467765896270903_data);\n",
       "   }(LDAvis);\n",
       "}else if(typeof define === \"function\" && define.amd){\n",
       "   // require.js is available: use it to load d3/LDAvis\n",
       "   require.config({paths: {d3: \"https://cdnjs.cloudflare.com/ajax/libs/d3/3.5.5/d3.min\"}});\n",
       "   require([\"d3\"], function(d3){\n",
       "      window.d3 = d3;\n",
       "      LDAvis_load_lib(\"https://cdn.rawgit.com/bmabey/pyLDAvis/files/ldavis.v1.0.0.js\", function(){\n",
       "        new LDAvis(\"#\" + \"ldavis_el1609627849860467765896270903\", ldavis_el1609627849860467765896270903_data);\n",
       "      });\n",
       "    });\n",
       "}else{\n",
       "    // require.js not available: dynamically load d3 & LDAvis\n",
       "    LDAvis_load_lib(\"https://cdnjs.cloudflare.com/ajax/libs/d3/3.5.5/d3.min.js\", function(){\n",
       "         LDAvis_load_lib(\"https://cdn.rawgit.com/bmabey/pyLDAvis/files/ldavis.v1.0.0.js\", function(){\n",
       "                 new LDAvis(\"#\" + \"ldavis_el1609627849860467765896270903\", ldavis_el1609627849860467765896270903_data);\n",
       "            })\n",
       "         });\n",
       "}\n",
       "</script>"
      ],
      "text/plain": [
       "PreparedData(topic_coordinates=              x         y  topics  cluster       Freq\n",
       "topic                                                \n",
       "1     -0.248713  0.074624       1        1  73.145277\n",
       "0     -0.121724 -0.018768       2        1  15.837858\n",
       "3      0.128591 -0.262985       3        1   6.656216\n",
       "2      0.241846  0.207128       4        1   4.360649, topic_info=      Category          Freq       Term         Total  loglift  logprob\n",
       "20003  Default  10831.000000       like  10831.000000  30.0000  30.0000\n",
       "34909  Default   3413.000000       tell   3413.000000  29.0000  29.0000\n",
       "39464  Default   3827.000000       yeah   3827.000000  28.0000  28.0000\n",
       "36323  Default   2000.000000        try   2000.000000  27.0000  27.0000\n",
       "12642  Default   1610.000000    feeling   1610.000000  26.0000  26.0000\n",
       "10345  Default  11679.000000       dont  11679.000000  25.0000  25.0000\n",
       "19130  Default  11046.000000       know  11046.000000  24.0000  24.0000\n",
       "20182  Default    990.000000     living    990.000000  23.0000  23.0000\n",
       "15917  Default   2912.000000      heart   2912.000000  22.0000  22.0000\n",
       "14794  Default   6285.000000        got   6285.000000  21.0000  21.0000\n",
       "20471  Default   8301.000000       love   8301.000000  20.0000  20.0000\n",
       "31010  Default   1260.000000       shes   1260.000000  19.0000  19.0000\n",
       "1250   Default    998.000000    alright    998.000000  18.0000  18.0000\n",
       "2055   Default    779.000000        ask    779.000000  17.0000  17.0000\n",
       "38377  Default   4533.000000        way   4533.000000  16.0000  16.0000\n",
       "35496  Default   6664.000000       time   6664.000000  15.0000  15.0000\n",
       "38209  Default   6064.000000       want   6064.000000  14.0000  14.0000\n",
       "20164  Default   2547.000000     little   2547.000000  13.0000  13.0000\n",
       "17299  Default    528.000000  important    528.000000  12.0000  12.0000\n",
       "13883  Default    579.000000       fuck    579.000000  11.0000  11.0000\n",
       "38122  Default   1334.000000    waiting   1334.000000  10.0000  10.0000\n",
       "3846   Default    860.000000      blood    860.000000   9.0000   9.0000\n",
       "26914  Default    427.000000   probably    427.000000   8.0000   8.0000\n",
       "12634  Default   4455.000000       feel   4455.000000   7.0000   7.0000\n",
       "30756  Default    664.000000        set    664.000000   6.0000   6.0000\n",
       "22328  Default    548.000000     moment    548.000000   5.0000   5.0000\n",
       "32386  Default    455.000000   somebody    455.000000   4.0000   4.0000\n",
       "15839  Default   2158.000000       head   2158.000000   3.0000   3.0000\n",
       "9694   Default    462.000000       died    462.000000   2.0000   2.0000\n",
       "17139  Default   4491.000000        ill   4491.000000   1.0000   1.0000\n",
       "...        ...           ...        ...           ...      ...      ...\n",
       "33886   Topic4     72.968379      sucks     74.687941   3.1093  -6.2782\n",
       "8690    Topic4     84.546310     damned     88.004221   3.0925  -6.1309\n",
       "15074   Topic4     77.333334       grin     79.893420   3.1000  -6.2201\n",
       "1962    Topic4    246.476739    arrived    305.709217   2.9172  -5.0610\n",
       "20114   Topic4     72.771709   lipstick     74.996291   3.1024  -6.2809\n",
       "13883   Topic4    419.690074       fuck    579.997331   2.8090  -4.5287\n",
       "9465    Topic4     73.334915       desk     76.036215   3.0964  -6.2732\n",
       "21711   Topic4     93.492100      metal    104.234451   3.0238  -6.0304\n",
       "9694    Topic4    286.587115       died    462.570502   2.6538  -4.9102\n",
       "20182   Topic4    470.164013     living    990.252018   2.3877  -4.4151\n",
       "10696   Topic4    192.467512       drop    295.868493   2.7026  -5.3083\n",
       "32386   Topic4    255.504196   somebody    455.552128   2.5543  -5.0250\n",
       "27326   Topic4     92.634848       punk    106.642269   2.9917  -6.0396\n",
       "34397   Topic4     79.838028     switch     85.602261   3.0628  -6.1882\n",
       "12642   Topic4    445.166903    feeling   1610.661439   1.8466  -4.4698\n",
       "22328   Topic4    231.495336     moment    548.175232   2.2705  -5.1237\n",
       "34909   Topic4    652.104275       tell   3413.699575   1.4772  -4.0880\n",
       "36326   Topic4     93.183599      tryin    114.398005   2.9274  -6.0337\n",
       "20003   Topic4   1024.672187       like  10831.207725   0.7745  -3.6361\n",
       "14483   Topic4    158.815923     giving    314.997252   2.4477  -5.5005\n",
       "16218   Topic4    121.165337     higher    190.076711   2.6823  -5.7711\n",
       "2055    Topic4    239.694656        ask    779.144278   1.9537  -5.0889\n",
       "4451    Topic4    145.408589  breathing    290.297339   2.4412  -5.5887\n",
       "36323   Topic4    328.162733        try   2000.579844   1.3249  -4.7747\n",
       "30231   Topic4    142.136603  screaming    329.741017   2.2910  -5.6114\n",
       "18914   Topic4    111.224616       kick    192.940568   2.5817  -5.8567\n",
       "31104   Topic4    150.126490       shit    560.006020   1.8161  -5.5568\n",
       "1250    Topic4    172.860339    alright    998.841064   1.3784  -5.4157\n",
       "15917   Topic4    165.245225      heart   2912.587176   0.2632  -5.4608\n",
       "14794   Topic4    166.851855        got   6285.677695  -0.4964  -5.4511\n",
       "\n",
       "[296 rows x 6 columns], token_table=       Topic      Freq      Term\n",
       "term                            \n",
       "327        3  0.976681       aaa\n",
       "950        1  0.018961       ahh\n",
       "950        3  0.979655       ahh\n",
       "1250       1  0.818949   alright\n",
       "1250       2  0.007008   alright\n",
       "1250       3  0.001001   alright\n",
       "1250       4  0.173201   alright\n",
       "1309       2  0.981807     amber\n",
       "1337       2  0.994114   america\n",
       "1338       1  0.045844  american\n",
       "1338       2  0.911795  american\n",
       "1338       3  0.040751  american\n",
       "1379       2  0.996677       amp\n",
       "1661       1  0.998760   anymore\n",
       "1962       2  0.035982   arrived\n",
       "1962       3  0.157012   arrived\n",
       "1962       4  0.804686   arrived\n",
       "2055       1  0.682800       ask\n",
       "2055       2  0.008984       ask\n",
       "2055       4  0.308030       ask\n",
       "2436       1  0.998607      away\n",
       "2436       2  0.001243      away\n",
       "2519       1  0.997952      baby\n",
       "2519       2  0.001565      baby\n",
       "2598       1  0.631615       bad\n",
       "2598       2  0.368505       bad\n",
       "2644       3  0.994820       bah\n",
       "2759       1  0.038211      bang\n",
       "2759       2  0.938909      bang\n",
       "2759       3  0.021835      bang\n",
       "...      ...       ...       ...\n",
       "38900      1  0.026613   willing\n",
       "38900      4  0.971367   willing\n",
       "39003      2  0.995957    wisdom\n",
       "39083      1  0.011076      wolf\n",
       "39083      2  0.985726      wolf\n",
       "39122      1  0.999523      wont\n",
       "39122      2  0.000346      wont\n",
       "39325      1  0.999681     wrong\n",
       "39413      3  0.987261       yah\n",
       "39419      3  0.822099      yall\n",
       "39419      4  0.169639      yall\n",
       "39426      3  0.983682    yanada\n",
       "39464      1  0.451223      yeah\n",
       "39464      2  0.548418      yeah\n",
       "39464      3  0.000523      yeah\n",
       "39503      1  0.108072    yellow\n",
       "39503      2  0.864574    yellow\n",
       "39503      3  0.030020    yellow\n",
       "39517      1  0.747204       yes\n",
       "39517      2  0.076179       yes\n",
       "39517      3  0.173429       yes\n",
       "39517      4  0.001621       yes\n",
       "39590      1  0.577615     young\n",
       "39590      2  0.422452     young\n",
       "39599      1  0.982065     youre\n",
       "39599      2  0.017514     youre\n",
       "39599      4  0.000427     youre\n",
       "39604      1  0.647820     youth\n",
       "39604      3  0.351108     youth\n",
       "39665      4  0.993620       zed\n",
       "\n",
       "[531 rows x 3 columns], R=30, lambda_step=0.01, plot_opts={'xlab': 'PC1', 'ylab': 'PC2'}, topic_order=[2, 1, 4, 3])"
      ]
     },
     "execution_count": 113,
     "metadata": {},
     "output_type": "execute_result"
    }
   ],
   "source": [
    "LDA_model=LatentDirichletAllocation(n_components=4,learning_method='online',n_jobs= -1)\n",
    "\n",
    "LDA_result = LDA_model.fit_transform(bag_lyrics)\n",
    "\n",
    "pyLDAvis.enable_notebook()\n",
    "pyLDAvis.sklearn.prepare(LDA_model,bag_lyrics,vectorizer)"
   ]
  },
  {
   "cell_type": "code",
   "execution_count": 125,
   "metadata": {},
   "outputs": [
    {
     "name": "stderr",
     "output_type": "stream",
     "text": [
      "C:\\Users\\16142\\Anaconda3\\lib\\site-packages\\pyLDAvis\\_prepare.py:257: FutureWarning:\n",
      "\n",
      "Sorting because non-concatenation axis is not aligned. A future version\n",
      "of pandas will change to not sort by default.\n",
      "\n",
      "To accept the future behavior, pass 'sort=False'.\n",
      "\n",
      "To retain the current behavior and silence the warning, pass 'sort=True'.\n",
      "\n",
      "\n"
     ]
    },
    {
     "data": {
      "text/html": [
       "\n",
       "<link rel=\"stylesheet\" type=\"text/css\" href=\"https://cdn.rawgit.com/bmabey/pyLDAvis/files/ldavis.v1.0.0.css\">\n",
       "\n",
       "\n",
       "<div id=\"ldavis_el1609627832364108483480941308\"></div>\n",
       "<script type=\"text/javascript\">\n",
       "\n",
       "var ldavis_el1609627832364108483480941308_data = {\"mdsDat\": {\"x\": [-0.08026744790286806, -0.06925086190755476, 0.0976255277293476, -0.12322719235611752, -0.14295350515537214, 0.318073479592565], \"y\": [-0.10658658938721204, 0.12830869775774967, 0.1811874318832549, 0.08957710985628858, -0.18808469112260612, -0.10440195898747512], \"topics\": [1, 2, 3, 4, 5, 6], \"cluster\": [1, 1, 1, 1, 1, 1], \"Freq\": [29.650591810181187, 17.747043669354067, 15.767775511608729, 15.60340283727371, 14.26355383987748, 6.9676323317048245]}, \"tinfo\": {\"Category\": [\"Default\", \"Default\", \"Default\", \"Default\", \"Default\", \"Default\", \"Default\", \"Default\", \"Default\", \"Default\", \"Default\", \"Default\", \"Default\", \"Default\", \"Default\", \"Default\", \"Default\", \"Default\", \"Default\", \"Default\", \"Default\", \"Default\", \"Default\", \"Default\", \"Default\", \"Default\", \"Default\", \"Default\", \"Default\", \"Default\", \"Topic1\", \"Topic1\", \"Topic1\", \"Topic1\", \"Topic1\", \"Topic1\", \"Topic1\", \"Topic1\", \"Topic1\", \"Topic1\", \"Topic1\", \"Topic1\", \"Topic1\", \"Topic1\", \"Topic1\", \"Topic1\", \"Topic1\", \"Topic1\", \"Topic1\", \"Topic1\", \"Topic1\", \"Topic1\", \"Topic1\", \"Topic1\", \"Topic1\", \"Topic1\", \"Topic1\", \"Topic1\", \"Topic1\", \"Topic1\", \"Topic1\", \"Topic1\", \"Topic1\", \"Topic1\", \"Topic1\", \"Topic1\", \"Topic1\", \"Topic1\", \"Topic1\", \"Topic1\", \"Topic1\", \"Topic1\", \"Topic1\", \"Topic1\", \"Topic1\", \"Topic1\", \"Topic1\", \"Topic1\", \"Topic1\", \"Topic1\", \"Topic1\", \"Topic1\", \"Topic1\", \"Topic1\", \"Topic1\", \"Topic1\", \"Topic1\", \"Topic1\", \"Topic1\", \"Topic1\", \"Topic1\", \"Topic1\", \"Topic1\", \"Topic1\", \"Topic1\", \"Topic1\", \"Topic1\", \"Topic1\", \"Topic1\", \"Topic1\", \"Topic1\", \"Topic1\", \"Topic1\", \"Topic1\", \"Topic1\", \"Topic1\", \"Topic1\", \"Topic1\", \"Topic1\", \"Topic2\", \"Topic2\", \"Topic2\", \"Topic2\", \"Topic2\", \"Topic2\", \"Topic2\", \"Topic2\", \"Topic2\", \"Topic2\", \"Topic2\", \"Topic2\", \"Topic2\", \"Topic2\", \"Topic2\", \"Topic2\", \"Topic2\", \"Topic2\", \"Topic2\", \"Topic2\", \"Topic2\", \"Topic2\", \"Topic2\", \"Topic2\", \"Topic2\", \"Topic2\", \"Topic2\", \"Topic2\", \"Topic2\", \"Topic2\", \"Topic2\", \"Topic2\", \"Topic2\", \"Topic2\", \"Topic2\", \"Topic2\", \"Topic2\", \"Topic2\", \"Topic2\", \"Topic2\", \"Topic2\", \"Topic2\", \"Topic2\", \"Topic2\", \"Topic2\", \"Topic2\", \"Topic2\", \"Topic2\", \"Topic2\", \"Topic2\", \"Topic2\", \"Topic2\", \"Topic2\", \"Topic2\", \"Topic2\", \"Topic2\", \"Topic2\", \"Topic2\", \"Topic2\", \"Topic2\", \"Topic2\", \"Topic2\", \"Topic2\", \"Topic2\", \"Topic2\", \"Topic2\", \"Topic2\", \"Topic2\", \"Topic2\", \"Topic2\", \"Topic2\", \"Topic2\", \"Topic2\", \"Topic2\", \"Topic2\", \"Topic2\", \"Topic2\", \"Topic2\", \"Topic2\", \"Topic3\", \"Topic3\", \"Topic3\", \"Topic3\", \"Topic3\", \"Topic3\", \"Topic3\", \"Topic3\", \"Topic3\", \"Topic3\", \"Topic3\", \"Topic3\", \"Topic3\", \"Topic3\", \"Topic3\", \"Topic3\", \"Topic3\", \"Topic3\", \"Topic3\", \"Topic3\", \"Topic3\", \"Topic3\", \"Topic3\", \"Topic3\", \"Topic3\", \"Topic3\", \"Topic3\", \"Topic3\", \"Topic3\", \"Topic3\", \"Topic3\", \"Topic3\", \"Topic3\", \"Topic3\", \"Topic3\", \"Topic3\", \"Topic3\", \"Topic3\", \"Topic3\", \"Topic3\", \"Topic3\", \"Topic3\", \"Topic3\", \"Topic3\", \"Topic3\", \"Topic3\", \"Topic3\", \"Topic3\", \"Topic3\", \"Topic3\", \"Topic3\", \"Topic3\", \"Topic3\", \"Topic3\", \"Topic3\", \"Topic3\", \"Topic3\", \"Topic3\", \"Topic3\", \"Topic3\", \"Topic3\", \"Topic3\", \"Topic3\", \"Topic3\", \"Topic3\", \"Topic3\", \"Topic3\", \"Topic3\", \"Topic3\", \"Topic3\", \"Topic3\", \"Topic3\", \"Topic3\", \"Topic4\", \"Topic4\", \"Topic4\", \"Topic4\", \"Topic4\", \"Topic4\", \"Topic4\", \"Topic4\", \"Topic4\", \"Topic4\", \"Topic4\", \"Topic4\", \"Topic4\", \"Topic4\", \"Topic4\", \"Topic4\", \"Topic4\", \"Topic4\", \"Topic4\", \"Topic4\", \"Topic4\", \"Topic4\", \"Topic4\", \"Topic4\", \"Topic4\", \"Topic4\", \"Topic4\", \"Topic4\", \"Topic4\", \"Topic4\", \"Topic4\", \"Topic4\", \"Topic4\", \"Topic4\", \"Topic4\", \"Topic4\", \"Topic4\", \"Topic4\", \"Topic4\", \"Topic4\", \"Topic4\", \"Topic4\", \"Topic4\", \"Topic4\", \"Topic4\", \"Topic4\", \"Topic4\", \"Topic4\", \"Topic4\", \"Topic4\", \"Topic4\", \"Topic4\", \"Topic4\", \"Topic4\", \"Topic4\", \"Topic4\", \"Topic4\", \"Topic4\", \"Topic4\", \"Topic4\", \"Topic4\", \"Topic4\", \"Topic4\", \"Topic4\", \"Topic4\", \"Topic4\", \"Topic4\", \"Topic4\", \"Topic4\", \"Topic4\", \"Topic4\", \"Topic4\", \"Topic4\", \"Topic4\", \"Topic4\", \"Topic4\", \"Topic4\", \"Topic5\", \"Topic5\", \"Topic5\", \"Topic5\", \"Topic5\", \"Topic5\", \"Topic5\", \"Topic5\", \"Topic5\", \"Topic5\", \"Topic5\", \"Topic5\", \"Topic5\", \"Topic5\", \"Topic5\", \"Topic5\", \"Topic5\", \"Topic5\", \"Topic5\", \"Topic5\", \"Topic5\", \"Topic5\", \"Topic5\", \"Topic5\", \"Topic5\", \"Topic5\", \"Topic5\", \"Topic5\", \"Topic5\", \"Topic5\", \"Topic5\", \"Topic5\", \"Topic5\", \"Topic5\", \"Topic5\", \"Topic5\", \"Topic5\", \"Topic5\", \"Topic5\", \"Topic5\", \"Topic5\", \"Topic5\", \"Topic5\", \"Topic5\", \"Topic5\", \"Topic5\", \"Topic5\", \"Topic5\", \"Topic5\", \"Topic5\", \"Topic5\", \"Topic5\", \"Topic5\", \"Topic5\", \"Topic5\", \"Topic5\", \"Topic5\", \"Topic5\", \"Topic5\", \"Topic6\", \"Topic6\", \"Topic6\", \"Topic6\", \"Topic6\", \"Topic6\", \"Topic6\", \"Topic6\", \"Topic6\", \"Topic6\", \"Topic6\", \"Topic6\", \"Topic6\", \"Topic6\", \"Topic6\", \"Topic6\", \"Topic6\", \"Topic6\", \"Topic6\", \"Topic6\", \"Topic6\", \"Topic6\", \"Topic6\", \"Topic6\", \"Topic6\", \"Topic6\", \"Topic6\", \"Topic6\", \"Topic6\", \"Topic6\", \"Topic6\", \"Topic6\", \"Topic6\", \"Topic6\", \"Topic6\", \"Topic6\", \"Topic6\", \"Topic6\", \"Topic6\", \"Topic6\", \"Topic6\", \"Topic6\", \"Topic6\", \"Topic6\", \"Topic6\", \"Topic6\", \"Topic6\", \"Topic6\", \"Topic6\", \"Topic6\", \"Topic6\", \"Topic6\", \"Topic6\", \"Topic6\", \"Topic6\", \"Topic6\"], \"Freq\": [6440.0, 12044.0, 11379.0, 3849.0, 3442.0, 3362.0, 11832.0, 7235.0, 2641.0, 6700.0, 6216.0, 2809.0, 4791.0, 2213.0, 3978.0, 4108.0, 2777.0, 2056.0, 1700.0, 1546.0, 4533.0, 1268.0, 1052.0, 3480.0, 3212.0, 1393.0, 1735.0, 1570.0, 2171.0, 1815.0, 668.8036882494182, 478.97550327492223, 439.11048462158845, 521.0393057755357, 297.0052802635746, 280.9295629815132, 274.145023558058, 229.4256876513963, 225.7331606067488, 204.50452136068728, 189.46782265326468, 183.78750513649146, 159.95089179720821, 159.1401068536579, 147.2925334136221, 145.79080383912742, 142.3658974562134, 126.35594548305193, 126.35187915588372, 123.82128359463863, 121.04276831551363, 108.86960459276789, 106.7378243424534, 107.12555815651615, 99.9710910981781, 96.12466461247492, 137.50991816186442, 92.99833797927744, 89.83338224987509, 80.06523471486284, 3851.760220506539, 215.7643707536264, 665.8163932809438, 734.2833169206662, 3078.37828135514, 5314.203998008905, 990.6090074315413, 893.0516592913405, 943.2749643371773, 201.71100504440224, 991.526532933692, 266.25475170751474, 3573.214284803395, 648.3472446035655, 918.2479596152418, 870.8818379046514, 1883.191066906262, 875.7792713427606, 912.8807487831261, 849.8327531981605, 651.919539562472, 362.257235201388, 1169.040221320098, 835.8197773278065, 1788.0458682438718, 1155.269362072146, 2847.215060068229, 2396.2266680589255, 1541.5588527664288, 1909.4586311492176, 3644.038138788296, 1857.6487495592062, 5085.738845811172, 2276.91712694575, 2054.2946589190174, 4343.322623540023, 2202.994798433591, 3878.9128693682187, 2627.3679493627337, 2006.1021617300255, 1158.8440350428357, 2259.4133617258294, 1192.614160023472, 1494.0764053161822, 1278.5357945407602, 1425.6382403020152, 1376.1647870608647, 1203.3323886420328, 1162.358465548581, 280.020316559436, 513.3944223673817, 231.60404630796074, 219.81663212579647, 191.00363845145966, 190.21227767651376, 153.6176045874959, 148.6383554416045, 145.60082516680689, 141.55705929694324, 128.18888478050823, 125.59031649440831, 118.35098499258997, 113.7790731374916, 110.78198263406738, 110.2942879827239, 109.33790571859352, 110.28988113693758, 108.20988615841314, 130.03070418019286, 104.93122237934973, 101.47912321511085, 282.33357931280494, 88.00047217546275, 86.8311096443481, 86.02457516768591, 85.21099280818171, 84.7750378904189, 78.6688542659516, 76.96218495285042, 408.0949874399408, 419.57186004115476, 1049.5489840421135, 501.2725523178898, 1121.441278145616, 186.2154932045635, 280.29468818256964, 157.5154623409748, 344.0945819398454, 893.5750468056095, 838.6984209301526, 263.6487755310657, 1391.2919298917113, 3096.9945033800655, 408.56359462208525, 637.8583646525698, 513.4601267809146, 417.2924700845786, 431.96674439232095, 749.1355957583794, 437.56650816730445, 2023.9194812417818, 1060.8515164575622, 391.798057455704, 334.785578362332, 501.10138786958703, 607.7674871516992, 1520.8654620811997, 921.6001504823442, 1441.0413869003305, 373.90486554057344, 950.6916767993393, 1366.9030548094067, 1568.300404144696, 627.4784473505018, 706.002157854836, 500.2534567113805, 660.7244573747064, 961.5797673252455, 700.9109540973805, 572.7788199321978, 592.4750075977771, 525.2376784058354, 791.8691179105049, 750.1217505861068, 601.4803621143493, 560.892481228098, 528.430686320182, 556.4114619138147, 363.15234712552336, 303.54688191370184, 312.58116837187674, 270.0711520619414, 259.4908732400067, 197.89428878976406, 175.5376530032508, 154.0321614661552, 152.19212596229838, 153.1679999595986, 296.64139892428204, 216.26332339049063, 136.1149225053706, 142.18575788208906, 132.77408701404764, 131.98686161419656, 866.6898811047307, 121.04490454060299, 124.3391025417034, 446.654709308498, 104.28021843885975, 106.47203696843394, 94.62039813574323, 856.3326673872199, 85.10744789713573, 93.24711397544851, 82.6795134276357, 82.15751167935102, 113.39132778621416, 255.63622494587253, 962.5044815772782, 239.32132631267876, 421.3879419308055, 213.03047660318614, 742.2379797933634, 283.4620661759915, 278.68075797034265, 273.1182400657499, 1021.1945484398003, 485.9692497098969, 259.3139629543714, 689.1011371195902, 310.7499711118208, 380.2415684479657, 571.3397244430602, 232.60245865083343, 379.88212464229986, 480.62081469730185, 842.7993933798177, 5321.666597092992, 535.0349371753667, 579.0838787955994, 750.8040042581733, 421.2446476341833, 881.099111054717, 1209.752932440783, 580.6109835117652, 963.8964805483783, 369.63551620824603, 433.45776645181076, 518.5780715469947, 1037.731873557853, 733.1275902350002, 805.3038665875225, 537.7382976811916, 786.6074115474008, 464.03098314759603, 639.8660501555374, 567.0095340179943, 482.8420049822369, 481.4395647628433, 553.0745503594931, 490.722233472396, 421.38717912173934, 215.86270965111996, 177.70676148659155, 135.62468597799804, 134.00778008124774, 134.21326378230128, 128.6114301841252, 128.59793587125912, 127.80921669005133, 123.52932886824091, 118.39806924961825, 109.86174221118598, 105.46047063861899, 103.28424312511699, 97.6378025506056, 95.35586812095048, 93.2744037850473, 98.4265871758961, 89.07871859159339, 89.32956580036469, 155.4452262716839, 86.06266479905445, 85.69660259569137, 84.52209201578405, 705.234432127088, 77.28686141760284, 75.94185348118297, 75.0302038205677, 84.09900856155903, 73.18849823481126, 205.99560618440478, 166.96320240273087, 338.6039403942419, 168.09777373780108, 281.2465715426905, 106.73665287207939, 669.4119581161852, 659.3030226046419, 166.71791930676306, 2296.670737485966, 400.0960334886898, 1412.1726843499448, 476.2823098657941, 577.862526468781, 1439.6777743601026, 1427.8268148205732, 244.36131998364948, 317.7054988939599, 1592.066403426361, 3208.503575192508, 662.3458658526961, 784.3343705696958, 269.8878655924172, 1158.5183464012296, 438.86055397913987, 1745.3856556004482, 824.8429168044152, 999.1992905605324, 529.7980085021679, 278.9495389596421, 310.4663419312171, 1734.0946343892838, 614.6029819437283, 437.8175265411582, 706.8374792113956, 647.3015583443301, 698.2900532928433, 725.634451556619, 1412.1608523772252, 973.2654991172052, 544.9177015055817, 580.5736988668865, 630.4358091130171, 842.0050563457498, 700.2556329814754, 659.3360169177804, 738.8650588168027, 1545.3881329043534, 443.3511756618533, 236.0245379239543, 3430.1172653905355, 217.25667130284606, 196.1839267972912, 143.31534761884296, 140.24353691161093, 138.65367821544308, 140.03795634948398, 139.2152141521802, 78.11949407947633, 104.09932063213344, 68.2657226396047, 2606.10794488457, 1670.428450684642, 3295.178888760167, 113.43857850534246, 1325.01407889169, 967.1096984503106, 127.67617942261644, 95.33690645365465, 93.29532764191393, 250.94466979825998, 626.6046340528678, 105.79642292301416, 173.73409070741386, 82.72860180719508, 84.46370171677374, 231.38495704806144, 164.45618623593592, 219.20285497892823, 408.678715874575, 441.01530525492353, 392.35509300750203, 6842.596685238409, 466.17017453000153, 6011.4079847948315, 912.0231641914813, 3518.2348741805577, 880.0499558896015, 3531.8664116625214, 347.34358341107094, 521.5088108579146, 1206.594536953921, 774.7468410928421, 979.2991292302166, 1028.4860244115985, 411.23102570200433, 826.0763461583753, 996.1745800911239, 598.4163337280053, 522.5753271402803, 711.2363629845983, 828.1882032424054, 720.0509376040407, 649.0746333495106, 522.7613695272249, 551.5949830041798, 320.9651072593997, 235.63805303242754, 157.59423940574425, 117.76384628977318, 110.8172642348027, 108.97994006698954, 100.40956957900971, 183.32181226792926, 121.20670016053582, 6366.433393185175, 64.19831551885478, 190.46640166798122, 55.26935599696164, 467.7978118968355, 135.89055380572978, 197.0312276971229, 127.63936243376185, 245.84305661126646, 248.71092871823768, 76.49845929355465, 205.71795632575945, 929.538024114183, 65.57016969011059, 95.435625653404, 168.03519913418305, 182.61974227518982, 720.6382412928212, 178.94871962615653, 175.70447052954268, 256.7004987546165, 2500.534944167248, 561.71707591923, 839.9230728402785, 1364.2033167667132, 1525.0791496949373, 485.56888323364063, 1071.4257991789768, 426.72846839357123, 308.8691568677075, 275.1242857662739, 464.0892744845728, 211.8931150843052, 585.3278645148825, 456.15127030143015, 501.810772902462, 868.2262794718575, 652.6939104442413, 1079.4485601451152, 290.55581748388624, 315.4134387705468, 258.43341720260327, 238.37157882339628, 280.90567161053, 294.9612967840805, 286.2199482436611, 254.80952612862268], \"Term\": [\"love\", \"dont\", \"know\", \"tell\", \"wanna\", \"gonna\", \"like\", \"youre\", \"baby\", \"got\", \"want\", \"heart\", \"come\", \"try\", \"yeah\", \"away\", \"long\", \"feeling\", \"hey\", \"ooh\", \"way\", \"don\", \"alright\", \"think\", \"right\", \"aint\", \"lost\", \"living\", \"light\", \"gone\", \"anymore\", \"wasnt\", \"tomorrow\", \"okay\", \"worry\", \"older\", \"driving\", \"hiding\", \"funny\", \"insane\", \"everybodys\", \"fucked\", \"common\", \"pushing\", \"killed\", \"didn\", \"weird\", \"everythings\", \"crime\", \"happening\", \"fix\", \"shouldve\", \"easier\", \"thinks\", \"busy\", \"happiness\", \"mistakes\", \"weeks\", \"christ\", \"showing\", \"yeah\", \"itll\", \"lonely\", \"fine\", \"think\", \"want\", \"whats\", \"help\", \"wish\", \"worst\", \"didnt\", \"feelings\", \"feel\", \"everybody\", \"trying\", \"getting\", \"things\", \"wanted\", \"real\", \"talk\", \"guess\", \"party\", \"thing\", \"used\", \"good\", \"really\", \"say\", \"ive\", \"thats\", \"said\", \"time\", \"wont\", \"dont\", \"make\", \"cause\", \"know\", \"way\", \"like\", \"youre\", \"ill\", \"stay\", \"got\", \"going\", \"life\", \"mind\", \"right\", \"need\", \"head\", \"let\", \"fade\", \"goodbye\", \"float\", \"knife\", \"disappear\", \"somethings\", \"letter\", \"fuckin\", \"ceiling\", \"company\", \"sunday\", \"dive\", \"steady\", \"coat\", \"finger\", \"row\", \"hed\", \"begun\", \"undone\", \"moonlight\", \"melody\", \"waters\", \"news\", \"relief\", \"laughed\", \"laughter\", \"softly\", \"natural\", \"lifetime\", \"wing\", \"father\", \"word\", \"sound\", \"follow\", \"song\", \"swim\", \"darkness\", \"box\", \"ghost\", \"sing\", \"goes\", \"silence\", \"hear\", \"away\", \"chance\", \"rain\", \"death\", \"lies\", \"lay\", \"close\", \"earth\", \"eyes\", \"coming\", \"voice\", \"lives\", \"wind\", \"sweet\", \"day\", \"fall\", \"theres\", \"breath\", \"left\", \"life\", \"ill\", \"cold\", \"turn\", \"air\", \"youll\", \"say\", \"leave\", \"remember\", \"end\", \"water\", \"youre\", \"time\", \"make\", \"look\", \"words\", \"like\", \"bird\", \"nose\", \"bar\", \"stage\", \"began\", \"mountain\", \"dad\", \"amp\", \"passing\", \"south\", \"hill\", \"tone\", \"veins\", \"plane\", \"forgot\", \"shore\", \"died\", \"electric\", \"sat\", \"dog\", \"dreamt\", \"pink\", \"hotel\", \"white\", \"valley\", \"beast\", \"direction\", \"swing\", \"stairs\", \"page\", \"black\", \"metal\", \"kids\", \"purpose\", \"red\", \"faster\", \"green\", \"cat\", \"shes\", \"screaming\", \"tree\", \"blue\", \"birds\", \"drunk\", \"eye\", \"pair\", \"smoke\", \"drop\", \"fuck\", \"like\", \"dance\", \"blood\", \"dead\", \"bit\", \"living\", \"little\", \"hell\", \"world\", \"clean\", \"lights\", \"cut\", \"night\", \"old\", \"man\", \"saw\", \"said\", \"went\", \"head\", \"feeling\", \"hands\", \"hand\", \"got\", \"tell\", \"bones\", \"youth\", \"goin\", \"desert\", \"diamonds\", \"grace\", \"wheels\", \"poison\", \"unknown\", \"race\", \"concrete\", \"rivers\", \"hurry\", \"washed\", \"believed\", \"harm\", \"sharp\", \"wrap\", \"trail\", \"worried\", \"steel\", \"palm\", \"visit\", \"explode\", \"set\", \"cave\", \"rent\", \"familiar\", \"touched\", \"trace\", \"storm\", \"trip\", \"shine\", \"endless\", \"desire\", \"lied\", \"deep\", \"slow\", \"joy\", \"long\", \"dancing\", \"lost\", \"wild\", \"soul\", \"gone\", \"hold\", \"shadow\", \"turning\", \"light\", \"come\", \"forever\", \"free\", \"carry\", \"run\", \"low\", \"home\", \"dark\", \"sun\", \"arms\", \"held\", \"stone\", \"let\", \"high\", \"bring\", \"live\", \"days\", \"place\", \"face\", \"time\", \"ive\", \"came\", \"tonight\", \"inside\", \"way\", \"heart\", \"night\", \"know\", \"ooh\", \"honey\", \"check\", \"wanna\", \"runnin\", \"simple\", \"modern\", \"kinda\", \"sell\", \"nothin\", \"treat\", \"rhyme\", \"gettin\", \"birthday\", \"baby\", \"hey\", \"gonna\", \"lookin\", \"aint\", \"gotta\", \"fame\", \"rich\", \"yall\", \"evil\", \"money\", \"outta\", \"bet\", \"brand\", \"comin\", \"bout\", \"number\", \"mama\", \"rock\", \"ready\", \"save\", \"dont\", \"ride\", \"know\", \"bad\", \"got\", \"die\", \"youre\", \"roll\", \"hes\", \"cause\", \"better\", \"need\", \"make\", \"work\", \"right\", \"time\", \"man\", \"youve\", \"let\", \"want\", \"ill\", \"say\", \"mind\", \"like\", \"higher\", \"tight\", \"bleed\", \"survive\", \"ain\", \"sisters\", \"brave\", \"loving\", \"cruel\", \"love\", \"games\", \"needed\", \"neon\", \"giving\", \"knock\", \"truly\", \"bitter\", \"queen\", \"won\", \"daylight\", \"tryin\", \"alright\", \"beg\", \"pleasure\", \"answers\", \"win\", \"probably\", \"motion\", \"terrible\", \"king\", \"tell\", \"moment\", \"don\", \"try\", \"heart\", \"somebody\", \"feeling\", \"hate\", \"control\", \"future\", \"ask\", \"silent\", \"living\", \"knew\", \"hard\", \"way\", \"right\", \"like\", \"fight\", \"play\", \"hurt\", \"slowly\", \"thinking\", \"wrong\", \"girl\", \"hand\"], \"Total\": [6440.0, 12044.0, 11379.0, 3849.0, 3442.0, 3362.0, 11832.0, 7235.0, 2641.0, 6700.0, 6216.0, 2809.0, 4791.0, 2213.0, 3978.0, 4108.0, 2777.0, 2056.0, 1700.0, 1546.0, 4533.0, 1268.0, 1052.0, 3480.0, 3212.0, 1393.0, 1735.0, 1570.0, 2171.0, 1815.0, 669.5971477747485, 479.7885426672014, 439.90544745491604, 522.0562437933428, 297.8357186357031, 281.72310363492926, 274.9442782937925, 230.2233163421783, 226.52600358210452, 205.2999541964264, 190.29352528732753, 184.6021575101103, 160.74722344956345, 159.93847038437625, 148.090238257381, 146.58616330314405, 143.1610789667211, 127.14938436891869, 127.14725857346058, 124.61671582154187, 121.90115090365207, 109.66132592265004, 107.52977424900173, 107.9205786139657, 100.77167206650974, 96.91826525513761, 138.65255144395073, 93.79436411524068, 90.63011965699361, 80.86885163210603, 3978.1489144314455, 221.04408803669716, 702.5034524552831, 782.2232950527502, 3480.053496596104, 6216.499109197115, 1085.3472349994865, 975.6725617872859, 1051.6854479121882, 208.00827542800747, 1129.1299466738437, 280.0322216490964, 4531.270865042907, 725.3710713497783, 1065.3180710501522, 1006.8408393778943, 2344.6678340785224, 1020.9450375028464, 1103.9509735747986, 1020.1636463884207, 766.4521105280743, 396.54254100371503, 1543.567601275311, 1062.9171414430602, 2617.138972235947, 1565.3291789455504, 4707.596781850489, 3830.1071354470905, 2271.4408847122977, 3030.3994083456637, 6850.903663529087, 2946.7286829894515, 12044.022872795844, 4161.365683868992, 3648.6571319940817, 11379.052129232909, 4533.449436925973, 11832.197337883015, 7235.058936410925, 4619.710167114402, 1747.8166142477933, 6700.009462443636, 1883.8163803080658, 3195.0623283733707, 2397.9321044719163, 3212.5760021462133, 2966.991113971715, 2243.7641879399284, 4009.1312325873064, 280.8145461724743, 514.8518287255838, 232.4148580876995, 220.6102715801482, 191.79680984227105, 191.00389628378704, 154.41101050329996, 149.43859749068778, 146.3946516453797, 142.3539448424014, 128.9809362710811, 126.38046135407475, 119.14457060541294, 114.57310302860228, 111.57718022513095, 111.08980458257918, 110.13343946343643, 111.09441360630899, 109.00765038227347, 131.00454460248693, 105.72337946641001, 102.28499753293093, 284.74072970142754, 88.79489380498018, 87.6256708901029, 86.82008631334945, 86.0028518686874, 85.5689816486978, 79.46450738607881, 77.75584312908852, 418.69158107861887, 438.2505806125137, 1128.082318967228, 528.044669268233, 1245.0234450097616, 192.54112132363827, 295.44560817164876, 162.30205862241723, 373.43040814922784, 1036.3028768267152, 972.4944107525826, 282.1772142982223, 1710.79672507443, 4108.976100486726, 458.82369997562716, 753.7952399761645, 596.1335281801315, 474.06251142020557, 502.2182309916408, 942.1397016084112, 513.1493618082409, 2981.55369958709, 1423.6335158769652, 476.01415304990775, 394.91106493369705, 656.0540540120741, 848.9336855475066, 2896.445581052387, 1515.871363560483, 3141.729924275123, 463.2570393077742, 1819.8848549081454, 3195.0623283733707, 4619.710167114402, 1095.2926770569484, 1401.1924658303417, 753.719300624099, 1574.2928859159033, 4707.596781850489, 2020.2931089462984, 1166.2790912427663, 1346.8573723745103, 938.8301654985037, 7235.058936410925, 6850.903663529087, 4161.365683868992, 2173.7315169648805, 1087.7899333711894, 11832.197337883015, 363.97024976082383, 304.368054304107, 313.48407109311813, 270.8911915652427, 260.31089059286194, 198.71789689447166, 176.35537753764618, 154.8507719687223, 153.01589922772334, 154.00708314574078, 298.3734545488027, 217.5590914216515, 136.93521524060736, 143.05802675409706, 133.5990150674628, 132.81040174641916, 872.1584187026777, 121.86422370821367, 125.20927141568636, 450.0119900452867, 105.0980080652332, 107.3095110883381, 95.43987167064688, 863.8335627119043, 85.92771022764835, 94.17314151447485, 83.50101168472627, 82.98384494889149, 114.5557343922363, 258.2620925872022, 984.1619507670506, 243.5968414169958, 436.51330199640444, 217.89646845302462, 782.7440533227923, 295.18931748623714, 292.50796927798575, 287.0155393290684, 1151.096371824122, 526.5753261415833, 271.9639173538026, 776.8556392473972, 332.30870725538983, 416.20538475499615, 661.198376080927, 243.96212254936572, 425.30031421942914, 565.649586665302, 1170.7510669654398, 11832.197337883015, 687.2753359266646, 796.3434271366684, 1155.5198206903651, 537.4581176734963, 1570.8239637267227, 2546.5785050452237, 935.6702825927747, 2175.765748112824, 465.4541372260729, 616.4841308422502, 868.1667972999376, 3176.270447188702, 1691.010278494394, 2191.909523060943, 996.0303317289028, 3030.3994083456637, 740.8147253223848, 2243.7641879399284, 2056.5878276492626, 1250.8951501307388, 1382.2482918580786, 6700.009462443636, 3849.6420846627652, 422.18135927597785, 216.65466064503866, 178.49964478567566, 136.416050704821, 134.80014431630812, 135.00704790501146, 129.40024438537802, 129.3909595146799, 128.599257595322, 124.3232204043708, 119.19223626405271, 110.65689523825664, 106.25200663454007, 104.08047207843441, 98.43615212106052, 96.14767143057534, 94.07223653854903, 99.29317002477092, 89.86878662497733, 90.12468686165346, 156.84651917061768, 86.85782086518938, 86.49157636095917, 85.31777433109059, 712.1127283563239, 78.08104030696472, 76.73658581696499, 75.82209581212201, 84.9984033826806, 73.98512633350789, 208.47532264078956, 169.26393779534249, 346.94002927141526, 172.30822394188166, 291.3415449019286, 108.5190999480353, 725.1125570642198, 721.3345679237557, 172.35139776865154, 2777.258848616411, 444.55265658158515, 1735.8589055561122, 539.6031454048734, 667.3343765564991, 1815.953279662275, 1816.4095555286153, 266.645213145452, 358.7402438802027, 2171.3542968385973, 4791.538618816467, 840.051339039745, 1027.90957378277, 302.6197391741469, 1661.0710184515308, 536.6350315396702, 2742.7445067191125, 1159.095389018799, 1558.640261889986, 719.3152946778389, 326.35825944068773, 378.94819464357283, 4009.1312325873064, 1039.6712631425873, 638.5176827819411, 1346.2474990192836, 1335.1431437798055, 1526.3488002955366, 1723.0253241243015, 6850.903663529087, 3830.1071354470905, 1074.665834198518, 1269.3455937309514, 1656.2642450930186, 4533.449436925973, 2809.255151286535, 3176.270447188702, 11379.052129232909, 1546.1763703696556, 444.14524029062915, 236.8176775607387, 3442.3109154092963, 218.0454459821876, 197.16582079714155, 144.10581841804108, 141.03597517978574, 139.44681338172063, 140.8801233761318, 140.1100306186673, 78.9154556972232, 105.28042595615491, 69.0675332721468, 2641.6603128260817, 1700.0750653730056, 3362.7410073343867, 116.34987079853367, 1393.5819762530577, 1053.631336483139, 143.06168733955292, 110.29991926814469, 108.58133802080805, 293.9970700865058, 738.9677406575476, 125.488067243307, 206.30842282967765, 98.54013725856343, 101.83266616933508, 279.51950289680855, 198.97144501305357, 267.25889815874933, 508.83022937259886, 565.192680710915, 519.5929333690983, 12044.022872795844, 628.8898978319011, 11379.052129232909, 1387.0274389554809, 6700.009462443636, 1364.7929293964532, 7235.058936410925, 497.6312322334516, 1007.4448944602075, 3648.6571319940817, 1938.4545839454026, 2966.991113971715, 4161.365683868992, 817.3671799203588, 3212.5760021462133, 6850.903663529087, 2191.909523060943, 1734.142565148243, 4009.1312325873064, 6216.499109197115, 4619.710167114402, 4707.596781850489, 2397.9321044719163, 11832.197337883015, 321.9732740312652, 236.47906492697064, 158.47944805974484, 118.61630658975237, 111.65210254539514, 109.81653535001415, 101.25030705507977, 185.40663512261747, 122.60780019612722, 6440.9595658000735, 65.06458815773313, 193.11609596409008, 56.11039209965566, 475.0298200007361, 138.1751653622153, 203.73829103856028, 133.07890879973502, 256.5880601669561, 273.8476267581382, 84.84280752245643, 228.72113747358986, 1052.3181069521586, 74.27599581784652, 114.68549809209846, 205.75278108099212, 229.25865852874387, 920.8881735594642, 231.2355765762655, 229.06636521979127, 340.891555260164, 3849.6420846627652, 799.8734896833836, 1268.2230687768497, 2213.824991666645, 2809.255151286535, 756.292966682119, 2056.5878276492626, 678.491874547741, 498.311549751119, 432.37421800115135, 1036.1443316406467, 300.0749672717864, 1570.8239637267227, 1051.3430968002413, 1607.605035563443, 4533.449436925973, 3212.5760021462133, 11832.197337883015, 631.5604964950539, 866.7721404976844, 491.0120812886262, 402.8121449449395, 764.3161119301836, 1273.25665322815, 1338.666945243827, 1382.2482918580786], \"loglift\": [30.0, 29.0, 28.0, 27.0, 26.0, 25.0, 24.0, 23.0, 22.0, 21.0, 20.0, 19.0, 18.0, 17.0, 16.0, 15.0, 14.0, 13.0, 12.0, 11.0, 10.0, 9.0, 8.0, 7.0, 6.0, 5.0, 4.0, 3.0, 2.0, 1.0, 1.2145, 1.214, 1.2139, 1.2137, 1.2129, 1.2129, 1.2128, 1.2122, 1.2122, 1.2118, 1.2113, 1.2113, 1.2107, 1.2107, 1.2103, 1.2102, 1.2101, 1.2094, 1.2094, 1.2093, 1.2086, 1.2084, 1.2083, 1.2083, 1.2077, 1.2075, 1.2074, 1.2072, 1.2069, 1.2057, 1.1834, 1.1915, 1.1621, 1.1524, 1.093, 1.0589, 1.1244, 1.1272, 1.1069, 1.1849, 1.0857, 1.1652, 0.9782, 1.1034, 1.0671, 1.0706, 0.9965, 1.0623, 1.0256, 1.033, 1.0538, 1.1253, 0.9378, 0.9753, 0.8347, 0.9119, 0.7129, 0.7467, 0.8281, 0.7538, 0.5844, 0.7543, 0.3536, 0.6127, 0.6413, 0.2526, 0.494, 0.1004, 0.2027, 0.3815, 0.8047, 0.1287, 0.7585, 0.4556, 0.5868, 0.4032, 0.4474, 0.5926, -0.0224, 1.7261, 1.7261, 1.7255, 1.7253, 1.7248, 1.7248, 1.7238, 1.7236, 1.7235, 1.7233, 1.7228, 1.7227, 1.7223, 1.722, 1.7218, 1.7218, 1.7217, 1.7217, 1.7216, 1.7215, 1.7214, 1.721, 1.7205, 1.72, 1.7198, 1.7197, 1.7197, 1.7196, 1.7189, 1.7187, 1.7033, 1.6854, 1.6568, 1.6769, 1.6244, 1.6955, 1.6763, 1.699, 1.6471, 1.5808, 1.5809, 1.661, 1.5222, 1.4462, 1.6129, 1.5619, 1.5797, 1.6014, 1.5783, 1.4997, 1.5696, 1.3415, 1.4348, 1.5343, 1.5638, 1.4595, 1.3948, 1.0847, 1.2313, 0.9495, 1.5147, 1.0796, 0.8799, 0.6486, 1.1719, 1.0435, 1.319, 0.8607, 0.1406, 0.6703, 1.0179, 0.9077, 1.1482, -0.4833, -0.4829, -0.2053, 0.3743, 1.007, -1.3281, 1.845, 1.8445, 1.8443, 1.8442, 1.844, 1.843, 1.8426, 1.8419, 1.8418, 1.8417, 1.8414, 1.8412, 1.8412, 1.8411, 1.841, 1.841, 1.8409, 1.8405, 1.8402, 1.8397, 1.8394, 1.8394, 1.8386, 1.8385, 1.8376, 1.8373, 1.8373, 1.8372, 1.837, 1.837, 1.825, 1.8295, 1.8119, 1.8246, 1.7941, 1.8067, 1.7988, 1.7976, 1.7275, 1.767, 1.7996, 1.7273, 1.7801, 1.7568, 1.7011, 1.7995, 1.7343, 1.6843, 1.5185, 1.0482, 1.5968, 1.5286, 1.416, 1.6036, 1.269, 1.1029, 1.37, 1.033, 1.6167, 1.495, 1.3319, 0.7285, 1.0114, 0.8459, 1.2308, 0.4985, 1.3794, 0.5926, 0.5588, 0.8953, 0.7925, -0.6472, -0.2127, 1.8558, 1.854, 1.8532, 1.8519, 1.8518, 1.8518, 1.8516, 1.8515, 1.8515, 1.8513, 1.851, 1.8505, 1.8502, 1.85, 1.8495, 1.8494, 1.8492, 1.8489, 1.8489, 1.8488, 1.8487, 1.8485, 1.8484, 1.8483, 1.848, 1.8475, 1.8473, 1.8472, 1.847, 1.8469, 1.8457, 1.844, 1.8334, 1.8329, 1.8224, 1.8411, 1.7778, 1.7678, 1.8244, 1.6677, 1.7523, 1.6513, 1.7329, 1.7137, 1.6255, 1.617, 1.7704, 1.7362, 1.5474, 1.4566, 1.62, 1.5872, 1.7432, 1.4974, 1.6565, 1.4057, 1.5175, 1.4131, 1.5519, 1.7007, 1.6584, 1.0196, 1.332, 1.4803, 1.2134, 1.1337, 1.0757, 0.9929, 0.2784, 0.4877, 1.1786, 1.0754, 0.8918, 0.1742, 0.4685, 0.2855, -0.8767, 1.947, 1.9457, 1.9441, 1.9439, 1.9438, 1.9425, 1.942, 1.9418, 1.9418, 1.9415, 1.9411, 1.9373, 1.9362, 1.9358, 1.9339, 1.9299, 1.9272, 1.9221, 1.897, 1.8618, 1.8337, 1.8017, 1.7957, 1.7891, 1.7825, 1.7768, 1.7756, 1.7726, 1.7605, 1.7585, 1.7569, 1.7492, 1.7283, 1.6994, 1.6666, 1.3821, 1.6481, 1.3093, 1.5282, 1.3033, 1.5087, 1.2304, 1.5879, 1.289, 0.8409, 1.0304, 0.839, 0.5497, 1.2605, 0.5893, 0.0192, 0.6492, 0.748, 0.2181, -0.0683, 0.0887, -0.0339, 0.4242, -1.1183, 2.6608, 2.6603, 2.6583, 2.6567, 2.6564, 2.6562, 2.6556, 2.6526, 2.6524, 2.6523, 2.6505, 2.6501, 2.6488, 2.6486, 2.6472, 2.6304, 2.6222, 2.6211, 2.5676, 2.5604, 2.5579, 2.5398, 2.5392, 2.4802, 2.4614, 2.4364, 2.4187, 2.4076, 2.3987, 2.3802, 2.2324, 2.3104, 2.2518, 2.1797, 2.053, 2.2208, 2.0118, 2.2002, 2.1856, 2.2118, 1.8607, 2.3159, 1.6767, 1.8289, 1.4996, 1.0111, 1.0702, 0.2695, 1.8875, 1.653, 2.0221, 2.1393, 1.6629, 1.2014, 1.1212, 0.9729], \"logprob\": [30.0, 29.0, 28.0, 27.0, 26.0, 25.0, 24.0, 23.0, 22.0, 21.0, 20.0, 19.0, 18.0, 17.0, 16.0, 15.0, 14.0, 13.0, 12.0, 11.0, 10.0, 9.0, 8.0, 7.0, 6.0, 5.0, 4.0, 3.0, 2.0, 1.0, -5.6929, -6.0268, -6.1137, -5.9426, -6.5047, -6.5603, -6.5848, -6.7629, -6.7791, -6.8778, -6.9542, -6.9847, -7.1236, -7.1286, -7.206, -7.2163, -7.24, -7.3593, -7.3594, -7.3796, -7.4023, -7.5083, -7.5281, -7.5244, -7.5935, -7.6328, -7.2747, -7.6658, -7.7005, -7.8156, -3.9421, -6.8242, -5.6974, -5.5995, -4.1663, -3.6203, -5.3001, -5.4038, -5.3491, -6.8916, -5.2992, -6.614, -4.0172, -5.724, -5.376, -5.4289, -4.6577, -5.4233, -5.3818, -5.4534, -5.7185, -6.3061, -5.1345, -5.47, -4.7096, -5.1463, -4.2443, -4.4168, -4.8579, -4.6439, -3.9976, -4.6714, -3.6642, -4.4679, -4.5707, -3.822, -4.5009, -3.9351, -4.3247, -4.5945, -5.1433, -4.4756, -5.1145, -4.8892, -5.045, -4.9361, -4.9714, -5.1056, -5.1402, -6.0503, -5.4441, -6.2401, -6.2924, -6.4329, -6.437, -6.6507, -6.6837, -6.7043, -6.7325, -6.8317, -6.8521, -6.9115, -6.9509, -6.9776, -6.982, -6.9907, -6.9821, -7.0011, -6.8174, -7.0319, -7.0653, -6.0421, -7.2078, -7.2212, -7.2305, -7.24, -7.2452, -7.3199, -7.3419, -5.6737, -5.6459, -4.7291, -5.468, -4.6628, -6.4583, -6.0493, -6.6256, -5.8443, -4.8899, -4.9533, -6.1106, -4.4472, -3.647, -5.6725, -5.2271, -5.444, -5.6514, -5.6168, -5.0662, -5.6039, -4.0724, -4.7183, -5.7144, -5.8717, -5.4684, -5.2754, -4.3581, -4.8591, -4.412, -5.7612, -4.828, -4.4649, -4.3274, -5.2435, -5.1255, -5.4701, -5.1918, -4.8166, -5.1328, -5.3347, -5.3009, -5.4213, -5.0108, -5.0649, -5.2858, -5.3556, -5.4153, -5.3637, -5.6721, -5.8514, -5.8221, -5.9682, -6.0082, -6.2792, -6.3991, -6.5298, -6.5418, -6.5354, -5.8744, -6.1904, -6.6534, -6.6098, -6.6783, -6.6842, -4.8022, -6.7708, -6.7439, -5.4651, -6.9198, -6.899, -7.017, -4.8143, -7.123, -7.0317, -7.1519, -7.1583, -6.8361, -6.0232, -4.6974, -6.0891, -5.5234, -6.2055, -4.9572, -5.9198, -5.9369, -5.957, -4.6382, -5.3808, -6.0089, -5.0315, -5.8279, -5.6261, -5.2189, -6.1176, -5.6271, -5.3918, -4.8302, -2.9874, -5.2846, -5.2055, -4.9458, -5.5237, -4.7857, -4.4687, -5.2028, -4.6959, -5.6544, -5.4951, -5.3158, -4.6221, -4.9696, -4.8757, -5.2795, -4.8992, -5.427, -5.1057, -5.2265, -5.3872, -5.3901, -5.2514, -5.371, -5.5129, -6.1818, -6.3763, -6.6465, -6.6585, -6.657, -6.6996, -6.6997, -6.7059, -6.74, -6.7824, -6.8572, -6.8981, -6.919, -6.9752, -6.9988, -7.0209, -6.9671, -7.0669, -7.0641, -6.5101, -7.1014, -7.1056, -7.1194, -4.9979, -7.2089, -7.2265, -7.2385, -7.1244, -7.2634, -6.2286, -6.4387, -5.7316, -6.4319, -5.9172, -6.8861, -5.05, -5.0653, -6.4401, -3.8172, -5.5647, -4.3036, -5.3904, -5.1971, -4.2843, -4.2925, -6.0578, -5.7953, -4.1836, -3.4829, -5.0607, -4.8916, -5.9584, -4.5015, -5.4723, -4.0917, -4.8412, -4.6495, -5.2839, -5.9254, -5.8184, -4.0982, -5.1355, -5.4746, -4.9956, -5.0836, -5.0078, -4.9694, -4.3036, -4.6758, -5.2558, -5.1924, -5.11, -4.8207, -5.005, -5.0652, -4.9513, -4.1236, -5.3723, -6.0027, -3.3263, -6.0856, -6.1876, -6.5016, -6.5233, -6.5347, -6.5247, -6.5306, -7.1084, -6.8213, -7.2432, -3.601, -4.0458, -3.3664, -6.7354, -4.2775, -4.5923, -6.6172, -6.9092, -6.9309, -5.9414, -5.0263, -6.8051, -6.3091, -7.0511, -7.0303, -6.0226, -6.364, -6.0767, -5.4537, -5.3776, -5.4945, -2.6357, -5.3221, -2.7652, -4.651, -3.3009, -4.6867, -3.2971, -5.6163, -5.2099, -4.3711, -4.8141, -4.5798, -4.5308, -5.4475, -4.75, -4.5627, -5.0724, -5.2079, -4.8997, -4.7474, -4.8873, -4.9911, -5.2075, -5.1538, -4.9789, -5.2879, -5.6902, -5.9815, -6.0423, -6.0591, -6.141, -5.539, -5.9527, -1.9914, -6.5882, -5.5007, -6.738, -4.6022, -5.8384, -5.4669, -5.901, -5.2455, -5.2339, -6.413, -5.4237, -3.9155, -6.5671, -6.1918, -5.6261, -5.5428, -4.1701, -5.5631, -5.5814, -5.2023, -2.926, -4.4192, -4.0169, -3.5319, -3.4204, -4.5649, -3.7735, -4.6941, -5.0173, -5.133, -4.6101, -5.3941, -4.3781, -4.6274, -4.532, -3.9838, -4.2691, -3.766, -5.0784, -4.9963, -5.1956, -5.2764, -5.1122, -5.0634, -5.0935, -5.2097]}, \"token.table\": {\"Topic\": [6, 1, 3, 4, 5, 1, 2, 3, 4, 1, 3, 5, 6, 3, 2, 3, 4, 6, 1, 1, 2, 3, 4, 5, 1, 2, 3, 5, 6, 1, 2, 3, 4, 5, 6, 1, 2, 3, 4, 5, 6, 1, 2, 3, 5, 3, 3, 3, 4, 6, 3, 2, 4, 5, 6, 1, 3, 4, 5, 6, 3, 2, 3, 5, 1, 2, 3, 4, 5, 5, 6, 1, 2, 3, 4, 6, 2, 3, 5, 1, 2, 3, 5, 6, 4, 2, 3, 4, 5, 6, 2, 6, 3, 5, 6, 2, 3, 4, 5, 1, 2, 3, 4, 5, 6, 1, 1, 3, 4, 5, 6, 1, 3, 4, 5, 3, 5, 6, 1, 2, 3, 4, 5, 6, 4, 2, 2, 3, 5, 1, 1, 2, 3, 5, 1, 2, 3, 4, 5, 2, 1, 2, 3, 4, 5, 6, 1, 2, 3, 4, 5, 6, 4, 5, 1, 2, 3, 4, 6, 1, 2, 4, 1, 5, 6, 1, 1, 6, 1, 2, 3, 5, 3, 3, 5, 4, 5, 1, 2, 3, 4, 5, 6, 2, 3, 1, 2, 3, 4, 5, 6, 3, 6, 1, 2, 3, 4, 5, 1, 2, 3, 5, 6, 1, 2, 3, 5, 6, 1, 3, 4, 5, 4, 2, 4, 4, 1, 1, 2, 3, 4, 5, 1, 2, 3, 4, 5, 3, 6, 3, 2, 2, 3, 5, 6, 1, 5, 6, 1, 2, 3, 4, 5, 6, 3, 1, 1, 3, 6, 1, 3, 4, 6, 1, 2, 3, 4, 1, 3, 1, 2, 3, 4, 5, 6, 4, 5, 1, 5, 1, 1, 3, 4, 5, 4, 1, 2, 3, 5, 1, 2, 3, 4, 5, 6, 1, 3, 4, 5, 6, 2, 1, 2, 3, 4, 5, 6, 4, 5, 4, 3, 5, 2, 5, 6, 1, 2, 3, 4, 5, 6, 1, 2, 3, 4, 5, 6, 1, 4, 1, 2, 3, 4, 5, 6, 1, 3, 6, 2, 1, 2, 1, 2, 3, 5, 1, 2, 4, 5, 6, 3, 1, 3, 4, 5, 6, 1, 3, 5, 6, 1, 2, 1, 1, 2, 3, 4, 6, 6, 2, 5, 1, 2, 3, 5, 1, 2, 3, 6, 1, 2, 3, 5, 6, 1, 3, 6, 1, 2, 3, 5, 4, 1, 2, 3, 4, 5, 6, 1, 2, 3, 4, 5, 6, 1, 2, 3, 5, 6, 1, 2, 3, 4, 5, 6, 1, 2, 1, 2, 3, 4, 5, 6, 1, 2, 5, 4, 1, 3, 4, 1, 3, 4, 5, 1, 2, 3, 4, 5, 6, 1, 2, 3, 4, 5, 6, 1, 1, 1, 2, 3, 5, 6, 4, 1, 2, 3, 5, 6, 1, 2, 3, 4, 5, 6, 1, 2, 3, 4, 5, 6, 1, 2, 3, 4, 5, 6, 2, 1, 4, 6, 1, 2, 3, 4, 5, 1, 2, 3, 1, 3, 5, 3, 5, 1, 1, 2, 3, 4, 5, 6, 6, 2, 3, 1, 2, 3, 4, 5, 6, 1, 2, 3, 4, 5, 6, 5, 3, 4, 2, 5, 6, 1, 2, 3, 4, 5, 6, 1, 1, 2, 3, 4, 5, 6, 1, 3, 6, 1, 2, 3, 4, 5, 6, 1, 4, 3, 6, 1, 5, 2, 4, 6, 1, 2, 3, 4, 6, 2, 5, 6, 1, 2, 3, 4, 5, 6, 2, 2, 2, 6, 1, 2, 3, 4, 5, 6, 1, 2, 3, 4, 5, 6, 1, 2, 3, 4, 5, 6, 2, 4, 5, 1, 2, 4, 5, 1, 2, 3, 4, 5, 6, 2, 1, 2, 3, 4, 5, 6, 2, 3, 6, 1, 2, 3, 4, 5, 6, 1, 2, 3, 5, 6, 1, 2, 3, 4, 5, 6, 1, 2, 3, 5, 1, 2, 3, 4, 5, 6, 1, 2, 1, 2, 3, 4, 5, 6, 1, 2, 3, 4, 5, 6, 4, 5, 1, 2, 3, 4, 6, 1, 2, 4, 5, 6, 3, 6, 1, 3, 4, 5, 1, 2, 3, 4, 5, 6, 1, 4, 5, 1, 2, 3, 4, 5, 6, 2, 3, 4, 6, 1, 2, 3, 4, 5, 6, 1, 5, 3, 4, 5, 6, 1, 3, 5, 2, 4, 6, 3, 2, 1, 2, 3, 4, 5, 6, 1, 6, 6, 2, 3, 1, 2, 3, 4, 5, 6, 3, 5, 2, 3, 5, 1, 1, 2, 3, 4, 5, 6, 1, 5, 2, 3, 5, 3, 4, 1, 3, 6, 4, 1, 2, 3, 3, 3, 1, 2, 3, 4, 5, 6, 3, 1, 2, 3, 4, 5, 6, 2, 3, 6, 4, 2, 3, 5, 6, 2, 3, 1, 2, 3, 6, 4, 1, 2, 3, 4, 6, 1, 2, 3, 5, 6, 1, 2, 3, 4, 5, 6, 1, 2, 3, 5, 6, 1, 2, 3, 4, 5, 2, 1, 2, 3, 4, 5, 6, 4, 5, 3, 4, 5, 6, 1, 2, 3, 4, 5, 1, 2, 3, 4, 5, 6, 4, 3, 5, 1, 2, 4, 5, 2, 1, 2, 3, 4, 5, 5, 1, 2, 3, 4, 5, 6, 3, 1, 5, 1, 2, 3, 4, 5, 6, 1, 2, 3, 4, 5, 6, 2, 3, 5, 2, 4, 3, 4, 5, 4, 1, 3, 4, 5, 6, 4, 6, 3, 1, 1, 2, 4, 2, 4, 6, 5, 1, 2, 3, 5, 6, 6, 3, 4, 1, 2, 6, 1, 2, 3, 5, 2, 1, 3, 4, 5, 6, 2, 1, 2, 3, 4, 5, 6, 1, 2, 3, 4, 5, 1, 2, 3, 4, 6, 3, 3, 3, 1, 2, 3, 4, 5, 6, 2, 1, 4, 2, 3, 4, 5, 2, 4, 1, 2, 3, 4, 6, 2, 6, 1, 2, 3, 4, 5, 6, 1, 2, 3, 1, 2, 3, 5, 1, 2, 3, 5, 6, 2, 3, 6, 1, 2, 3, 4, 5, 1, 2, 3, 4, 5, 6, 1, 2, 3, 4, 5, 6, 1, 2, 3, 4, 5, 6, 1, 2, 3, 4, 5, 6, 1, 2, 3, 6, 1, 6, 1, 2, 3, 4, 5, 6, 1, 3, 5, 1, 2, 3, 4, 5, 4, 4, 4, 5, 2, 3, 5, 4, 5, 2, 4, 6, 1, 2, 3, 4, 5, 6, 1, 2, 4, 5, 6, 1, 2, 3, 4, 5, 6, 1, 2, 3, 4, 5, 6, 1, 3, 4, 2, 4, 1, 2, 3, 4, 5, 3, 3, 4, 1, 2, 4, 5, 1, 5, 6, 1, 2, 3, 4, 5, 6, 1, 2, 3, 6, 4, 1, 1, 2, 3, 4, 5, 2, 1, 2, 3, 4, 5, 6, 1, 1, 1, 3, 4, 6, 1, 3, 4, 5, 4, 1, 2, 3, 1, 3, 4, 5, 1, 3, 4, 5, 6, 1, 2, 3, 4, 5, 2, 1, 4, 5, 6, 1, 3, 6, 1, 2, 3, 4, 5, 6, 2, 4, 1, 2, 4, 5, 6, 1, 2, 3, 4, 5, 6, 1, 2, 3, 4, 5, 6, 4, 1, 1, 3, 6, 4, 1, 2, 3, 4, 5, 6, 2, 3, 4, 5, 1, 3, 4, 5, 6, 1, 2, 3, 4, 5, 6, 1, 2, 3, 4, 5, 6, 4, 1, 2, 3, 4, 5, 6], \"Freq\": [0.9941595139676837, 0.01435150593277208, 0.00717575296638604, 0.027985436568905557, 0.9507872680461504, 0.042456123882595516, 0.663376935665555, 0.16849774165905096, 0.12604161777645545, 0.11118311015180428, 0.0009502829927504639, 0.0038011319710018554, 0.8837631832579315, 0.9945058590415412, 0.009720403240686811, 0.1506662502306456, 0.019440806481373623, 0.8165138722176922, 0.9991081984492721, 0.0027804219023255215, 0.19462953316278653, 0.015292320462790368, 0.7368118041162632, 0.04865738329069663, 0.07334885467129898, 0.05308140798580847, 0.38701172004198536, 0.03860466035331525, 0.4478140600984569, 0.17084548141247283, 0.7537157491943424, 0.00024336963164169918, 0.0031638052113420892, 0.05281121006624872, 0.019226200899694235, 0.002649848644813576, 0.0003785498064019394, 0.004164047870421334, 0.004542597676823273, 0.9865007954834542, 0.0018927490320096972, 0.29199133962698715, 0.029559617098040673, 0.020187055579149727, 0.657521238863734, 0.9984558351196915, 0.9875427165791795, 0.026926599609714743, 0.08077979882914423, 0.8885777871205865, 0.9949641346550029, 0.9901487971286538, 0.9955691876240335, 0.8433974610122895, 0.1551075790367429, 0.5772639757813985, 0.011865121932950999, 0.009801622466350825, 0.3998030216537837, 0.0010317497333000869, 0.9973342608043888, 0.06319425143398615, 0.9358767712366519, 0.9845436311162236, 0.2102489408647225, 0.0018606100961479869, 0.7833168504783025, 0.0018606100961479869, 0.0018606100961479869, 0.03757169370485518, 0.9618353588442925, 0.004064371719392749, 0.013209208088026437, 0.9784974914438045, 0.004064371719392749, 0.9969746988293139, 0.2674725410440852, 0.7270732453733583, 0.005022958517259816, 0.012872404465889966, 0.07852166724192879, 0.8869086676998186, 0.009010683126122975, 0.011585164019300969, 0.997201773005791, 0.003577567896466868, 0.06081865423993676, 0.08943919741167171, 0.8264181840838465, 0.01788783948233434, 0.9734935055110692, 0.024645405202811877, 0.15222223570321294, 0.8422963708911116, 0.9876513257940086, 0.8073271818143394, 0.05612434953789525, 0.10793144141902933, 0.028062174768947627, 0.1722740073865204, 0.10023214975215732, 0.02505803743803933, 0.6859637748663266, 0.003132254679754916, 0.014095146058897123, 0.9923423711179424, 0.14423088095621692, 0.3275436780425055, 0.5071343878783111, 0.01116626175144905, 0.010235739938828297, 0.08591640476247296, 0.01321790842499584, 0.8922088186872192, 0.00660895421249792, 0.9511680121507311, 0.010452395737920122, 0.03832545103904045, 0.5629468392601302, 0.058377642045962866, 0.010140717162913739, 0.01754069995747241, 0.33080663826045625, 0.020281434325827477, 0.9861548936500492, 0.9973041935552694, 0.8914099250359696, 0.10897431846405496, 0.9965472275162863, 0.9930473482835682, 0.13750012059494263, 0.010742196921479893, 0.7949225721895121, 0.058007863375991425, 0.16027347084749147, 0.7949988719521265, 0.005307068571108989, 0.010614137142217978, 0.029719583998210338, 0.994997926970179, 0.03743291711779449, 0.5724497325087109, 0.12781971698759095, 0.2574654299321475, 0.00365199191393117, 0.0009129979784827925, 0.2164231747872553, 0.03610531266942639, 0.0012522073758182563, 0.6697222448334641, 0.07158452165094366, 0.005217530732576068, 0.16694053725089658, 0.824882654651489, 0.2107283908774784, 0.745276075736682, 0.012643703452648704, 0.030204402692438573, 0.0007024279695915947, 0.9953515623254426, 0.9975136281415085, 0.9899973664273612, 0.3311181530558724, 0.048162640444490534, 0.6200939957228156, 0.9909769303221135, 0.00815608793568084, 0.9868866402173815, 0.0702629957626973, 0.3167594071269141, 0.5978113901777032, 0.014974081064181391, 0.9979848783597749, 0.7784361987596291, 0.22116318170367033, 0.8997809237623827, 0.0989759016138621, 0.031058703486410058, 0.08713691811465045, 0.1665091603576984, 0.7117619548968972, 0.0017254835270227812, 0.0008627417635113906, 0.9477209755554222, 0.05077076654761191, 0.24478277949982882, 0.525126385922764, 0.014155280619877267, 0.0876936896938738, 0.1122064927185393, 0.01588153435400864, 0.09429202349159106, 0.8957742231701151, 0.3542691300207194, 0.1535415891210306, 0.0022469500846980088, 0.4845922349332039, 0.005242883530962021, 0.07615620123887136, 0.15231240247774272, 0.64992394466355, 0.04673221439658015, 0.07442537848344247, 0.01174233568336528, 0.8605454579380555, 0.10400354462409248, 0.00670990610478016, 0.01509728873575536, 0.013790962385877351, 0.015170058624465087, 0.9226153836151948, 0.046889272111982995, 0.9969501337806557, 0.030891577797562582, 0.9645037067905651, 0.9940642176581757, 0.9960012371567987, 0.8785525553743421, 0.05136698408438693, 0.053138259397641656, 0.000885637656627361, 0.015941477819292497, 0.07546932416007553, 0.17292000487162937, 0.021981356551478308, 0.08352915489561757, 0.6447864588433637, 0.9940854567334787, 0.005732903441369543, 0.9939999327598816, 0.9958455521605061, 0.9969895555847923, 0.9933068671237324, 0.00444432602739925, 0.002222163013699625, 0.33196052836827644, 0.005519533725838325, 0.662344047100599, 0.42228415320331913, 0.0035702356641255845, 0.0001660574727500272, 0.0029890345095004893, 0.568165643014218, 0.002822977036750462, 0.9895525321036373, 0.9965655648495312, 0.03005394222988975, 0.8503497772104099, 0.1184478899648596, 0.07688511771378727, 0.9130107728512238, 0.007207979785667557, 0.002402659928555852, 0.013641252471470158, 0.8535526546434185, 0.044821258120544806, 0.08964251624108961, 0.9950732320168835, 0.9929083066225989, 0.4009333215795372, 0.43954171550941856, 0.06162493646500294, 0.013364444052651239, 0.08241407165801598, 0.00222740734210854, 0.9749969917667145, 0.023214214089683678, 0.8933358740019707, 0.10477396053109532, 0.9932024734663231, 0.9909603622964953, 0.006802788882935192, 0.13945717210017142, 0.8537500048083665, 0.9962754029440875, 0.04688456765992688, 0.03781013520961845, 0.8635834881876854, 0.05142178388508109, 0.05131552721025575, 0.6788406998271741, 0.15159881241199738, 0.047961571183441645, 0.04058286792445062, 0.02951481303596409, 0.12710202046003186, 0.22402456574233925, 0.42135190344284534, 0.10562816312203561, 0.12187864975619493, 0.997099344803976, 0.022429343819874468, 0.6082310294683606, 0.0006596865829374843, 0.231549990611057, 0.041560254725061516, 0.09565455452593523, 0.10484987475646027, 0.8947189312551276, 0.9891575693956143, 0.9587067798047758, 0.03726422112315383, 0.9744643036502535, 0.021495536109932063, 0.0023883929011035625, 0.7885205070313464, 0.10725467853826877, 0.0006620659169028937, 0.019641288868119177, 0.05186183015739333, 0.031999852650306526, 0.1025971257649516, 0.04376180719832059, 0.2756993853494197, 0.015073511368310425, 0.04181683798950634, 0.520765505660015, 0.9498906891269108, 0.04642322916785654, 0.1852554120299009, 0.07916897949995765, 0.014250416309992377, 0.09816953457994748, 0.16308809776991276, 0.4607634606897535, 0.9383509857636007, 0.03707381278902509, 0.02301133207594661, 0.9948270764329555, 0.9926075275174037, 0.9982150104725965, 0.026512908499580674, 0.9487833684492799, 0.003787558357082954, 0.018937791785414767, 0.13332518477742822, 0.016665648097178527, 0.7880470743094418, 0.05356815459807383, 0.0071424206130765115, 0.9955163212306594, 0.10020336674261503, 0.004864241104010438, 0.7627130051088368, 0.07685500944336493, 0.055452348585719, 0.023916271178445615, 0.7200505929796305, 0.04783254235689123, 0.20841322026931178, 0.9967380797806911, 0.9970650320730218, 0.9976779549641688, 0.092512454107274, 0.0508818497590007, 0.138768681160911, 0.08094839734386475, 0.6360231219875088, 0.983637979000923, 0.00949844181307226, 0.9878379485595151, 0.8650821122216025, 0.009932056397492565, 0.03476219739122398, 0.09038171321718234, 0.013389375612930621, 0.9211890421696268, 0.058913252696894736, 0.005355750245172249, 0.44073696007526086, 0.0007470117967377303, 0.3316732377515522, 0.012699200544541414, 0.21364537386699084, 0.012630785999899337, 0.002105130999983223, 0.9852013079921483, 0.008226268358508152, 0.8627298940985425, 0.02262223798589742, 0.10694148866060597, 0.9972008639777654, 0.6332888982549909, 0.06582382513295798, 0.04512117045404378, 0.133240162164294, 0.11731504318051382, 0.004777535695134047, 0.1354660402087824, 0.025881723129320213, 0.0022026998407932096, 0.7929719426855555, 0.033040497611898145, 0.010462824243767746, 0.01605832857250142, 0.00029737645504632264, 0.003271141005509549, 0.9798554193776331, 0.00029737645504632264, 0.6831887870564344, 0.12074253730975014, 0.0019104831852808568, 0.01413757557107834, 0.17117929340116475, 0.008788222652291941, 0.0019423063961437348, 0.9964031812217359, 0.3371637029264873, 0.013731323890764422, 0.08253719686513833, 0.03179099987753067, 0.5250738853011874, 0.00970147883586617, 0.07592788599760883, 0.005694591449820662, 0.9177783219960967, 0.9925407753103379, 0.03418710274692199, 0.9538201666391235, 0.010256130824076597, 0.8506728483672406, 0.028703685067606274, 0.03392253689808014, 0.08611105520281882, 0.04268408240945599, 0.03979024631389965, 0.3479837904906497, 0.3610060529206532, 0.02387414778833979, 0.18448205109171656, 0.10952156940226468, 0.25901451449878654, 0.3861234892065244, 0.1375015323882447, 0.09753015669398753, 0.010392557680506866, 0.9950510987432453, 0.990525364308572, 0.49141423578778237, 0.14431405405413356, 0.018661300093206927, 0.033590340167772466, 0.3122657548929959, 0.9880634505911666, 0.21518312226998815, 0.05158499506472319, 0.02210785502773851, 0.0825359921035571, 0.6293369397896229, 0.5361525985957164, 0.0775482561559889, 0.2852349651714534, 0.04724204110652198, 0.02094694275477861, 0.03253461321486891, 0.09819986064837187, 0.8130714652493172, 0.007014275760597991, 0.010521413640896987, 0.052607068204484936, 0.01812021238154481, 0.029189231872529284, 0.139182800758036, 0.013526717209220888, 0.24917636964354267, 0.025985535691398023, 0.5428485195805751, 0.9897084893656415, 0.04289764268259421, 0.8548887363174131, 0.10111587203754349, 0.13466282123532838, 0.05557513257331012, 0.6209452312517919, 0.06733141061766419, 0.12183779064148757, 0.9152660789846933, 0.08301965554060488, 0.0010249340190198132, 0.07047531869030121, 0.4119332007954226, 0.5181424838920737, 0.017058070311523125, 0.9823095662152971, 0.9946863924922352, 0.1279250516148579, 0.025007904826964703, 0.07117634450751492, 0.5915331334070497, 0.1769790187754425, 0.00769473994675837, 0.9969771589452773, 0.003351504581773837, 0.9953968607868295, 0.12001698589201551, 0.02036985540369071, 0.0011010732650643625, 0.7861663112559548, 0.041290247439913594, 0.03193112468686651, 0.21073782066978128, 0.06052331873907213, 0.026251078007308394, 0.6362240433715715, 0.05687733568250152, 0.008750359335769464, 0.9974214734579172, 0.9953911120902925, 0.9882166306858898, 0.2586494402881036, 0.2138440254350463, 0.5254453196403995, 0.4342263751262566, 0.33941523240177984, 0.0015152465732222314, 0.06796963199882582, 0.15585393324571525, 0.000865855184698418, 0.998538946598403, 0.37856278178895697, 0.153960939962016, 0.06460321794484593, 0.3803740869649807, 0.015094209800197647, 0.006641452312086965, 0.977180624546449, 0.004523984372900227, 0.01809593749160091, 0.6255699684808722, 0.01070466139721025, 0.005221786047419634, 0.2540398912069652, 0.10339136373890875, 0.0010443572094839268, 0.02901049869471633, 0.9689506564035253, 0.964460872267915, 0.03207233304453874, 0.9926380140230029, 0.9926545324448948, 0.14374072705498334, 0.10267194789641666, 0.7539054459822595, 0.15884443480749896, 0.19593984173859155, 0.00951164280284425, 0.2016468274202981, 0.4337309118096978, 0.9972337118495115, 0.007237190542733051, 0.9842579138116949, 0.38166623640318736, 0.016257944677547702, 0.0018454964228567662, 0.06494389792815, 0.5282513808472391, 0.007030462563263871, 0.9928597306731313, 0.9905541868457766, 0.8601838271522056, 0.1393816386589222, 0.5266562536338791, 0.3469793550726967, 0.0004949776819867286, 0.05791238879244724, 0.04900279051668613, 0.018809151915495686, 0.2500158176342234, 0.522560533121201, 0.05000316352684468, 0.1362723577434888, 0.022528897852754196, 0.01868250065838153, 0.2898383546427587, 0.07208544276399076, 0.0012471529889963799, 0.43251265658394455, 0.17734515503528522, 0.026938504562321806, 0.9973382046917492, 0.9860015430577407, 0.009214967692128418, 0.06750164636333252, 0.8796308291721769, 0.008437705795416564, 0.04218852897708283, 0.4675965118842004, 0.4278476785446466, 0.015962129923757847, 0.04663445801254743, 0.033802157485604854, 0.008137556431719687, 0.9941545300995576, 0.018421682752666552, 0.034080113092433126, 0.18744062200838219, 0.7331829735561288, 0.004144878619349974, 0.023027103440833193, 0.27251309741010815, 0.7023700665391478, 0.022709424784175678, 0.3278342888670939, 0.04699042655584022, 0.44978965850752095, 0.0375247291201314, 0.04665236593313633, 0.09119185297437338, 0.430381391277995, 0.03651958885844301, 0.47514733891092514, 0.011387828783815562, 0.046336682637594356, 0.2161563904200291, 0.05422479897134751, 0.005942443722887398, 0.5251634640101738, 0.18867258820167487, 0.010399276515052945, 0.010128862812875535, 0.8482922605783261, 0.022789941328969957, 0.11901413805128755, 0.02100808286735625, 0.03755990573254602, 0.5608521517012381, 0.0006366085717380682, 0.008275911432594887, 0.3724160144667699, 0.9480380454676746, 0.05124529975500943, 0.0669725114361099, 0.05148961900733181, 0.007921479847281816, 0.8270745095093788, 0.041407735565336765, 0.005401008986783057, 0.4706192977449146, 0.2580815503762435, 0.13617137060849924, 0.013341114012319183, 0.11914994928243684, 0.0023001920710895144, 0.01718953348442571, 0.9712086418700527, 0.16591210211738625, 0.008065171630706275, 0.009217339006521458, 0.8134301673255186, 0.0034565021274455465, 0.0018630764371999908, 0.0003105127395333318, 0.005589229311599972, 0.0037261528743999816, 0.9883620499345951, 0.005393550232647588, 0.9870196925745087, 0.029815422139128866, 0.055903916510866625, 0.8180606449423483, 0.09503665806847326, 0.5471761371096279, 0.14442374106406955, 0.029317298518829426, 0.02306934965416086, 0.24703428587997253, 0.008651006120310322, 0.0037416901996131452, 0.1758594393818178, 0.8194301537152787, 0.23495495346943715, 0.03239184795403891, 0.3672596845493144, 0.0866824100178506, 0.27282147995091927, 0.005474678527443196, 0.993157809842431, 0.9811293061508676, 0.004105143540380199, 0.012315430621140596, 0.533376235972147, 0.03711531274552079, 0.02627263711199786, 0.1509634068975115, 0.21810459062817272, 0.03461315683009242, 0.9952936210898757, 0.9923263444170368, 0.18502926013785417, 0.10626680480890274, 0.006250988518170749, 0.7026111094423922, 0.08119434272815598, 0.07036843036440185, 0.84848088150923, 0.9923319866075252, 0.22487889091257332, 0.7741023360259736, 0.9963873566211658, 0.9933506086231837, 0.46376950491032637, 0.055948937365635304, 0.0016852089567962441, 0.0711158179768015, 0.3299639137407046, 0.07718257022126798, 0.01035646454023128, 0.9838641313219717, 0.9802105802846016, 0.990374648178006, 0.007023933675021319, 0.22636611458460115, 0.13978658536239624, 0.3267983684823588, 0.20747603548157462, 0.022982929575348934, 0.0765048203672574, 0.9987907590862369, 0.9937526788375818, 0.00502584679894341, 0.16585294436513254, 0.8242388750267192, 0.9979767624544283, 0.13187382882057347, 0.2856280687010627, 0.43346868397076393, 0.08338210701211148, 0.06386714579651093, 0.0017740873832364145, 0.9974332824479092, 0.9992391745261413, 0.0717199666686238, 0.07968885185402644, 0.8447018296526803, 0.9912410971175014, 0.00774407107123048, 0.004098996965390191, 0.9550662929359145, 0.04098996965390191, 0.9901238500270368, 0.9128907054555052, 0.010087190115530444, 0.07565392586647833, 0.9933608256864116, 0.9877968776946519, 0.17623756768303245, 0.2273399107286701, 0.010482531906797469, 0.45730045443403955, 0.11072174326554826, 0.01768927259272073, 0.9926042125835015, 0.2111281517365392, 0.1776706850679073, 0.09575757701711887, 0.019612997702301457, 0.1315224551801392, 0.3634173103661741, 0.06103648775522284, 0.09591448075820733, 0.8283523338208815, 0.99697846344021, 0.003257724538262063, 0.20523664591050997, 0.0086872654353655, 0.7829397973623158, 0.01835734203678635, 0.9775284634588732, 0.994132303615754, 0.035075677309941475, 0.003897297478882386, 0.958735179805067, 0.9974001606190742, 0.03316550526478586, 0.8463836943573351, 0.05969790947661454, 0.05704466905543167, 0.0026532404211828684, 0.02830892993850302, 0.09731194666360413, 0.07077232484625755, 0.7802648814299894, 0.023001005575033703, 0.8270294803432585, 0.006340861295074271, 0.037139330442577875, 0.0887720581310398, 0.008152535950809777, 0.03261014380323911, 0.7378639685091927, 0.015971081569463044, 0.017248768095020087, 0.19868025472412026, 0.03002563335059052, 0.010220454522828442, 0.025551136307071107, 0.947947156992338, 0.0012775568153535553, 0.015330681784242664, 0.9910479784262596, 0.2623728765247192, 0.49130607270805254, 0.09002990861142324, 0.01114656011379526, 0.14490528147933837, 0.0008574277010611738, 0.9904011129877224, 0.9883995386057765, 0.09066189772713698, 0.018132379545427398, 0.8612880284078014, 0.018132379545427398, 0.012720827648178184, 0.004770310368066819, 0.03498227603249, 0.20830355273891776, 0.7409882105063792, 0.4438805491441565, 0.053539589377836545, 0.04046596871580669, 0.0018676600945756934, 0.25711453968658715, 0.2032636736263213, 0.9940636755003629, 0.19456391205779897, 0.8038044447640381, 0.032152322771602064, 0.2290852997476647, 0.040190403464502575, 0.6973035001091197, 0.9901898775799082, 0.07344658876399504, 0.057794037060192816, 0.0030101060968850428, 0.6977425932579528, 0.1679639202061854, 0.9952053757533051, 0.6299499645963003, 0.04949842571474334, 0.2597017402500201, 0.031019013447905825, 0.028709086914551138, 0.0009899685142948668, 0.9903419978248124, 0.24442210785377294, 0.754436742351803, 0.22288477863385334, 0.1415619539971771, 0.5401441932658247, 0.09236666501943472, 0.0010039854893416817, 0.0020079709786833635, 0.6047671735557787, 0.2043505517951033, 0.002549071332163451, 0.010833553161694667, 0.13786227454783997, 0.039723028259547113, 0.07596254137673927, 0.9229448777273821, 0.9967958150431339, 0.008425632292585207, 0.9900117943787617, 0.07500603428830438, 0.9150736183173134, 0.007500603428830438, 0.9886019873875365, 0.029537057740978548, 0.8869804692217381, 0.001737473984763444, 0.07731759232197326, 0.003474947969526888, 0.9771141159811119, 0.023058740200144232, 0.9938980551540948, 0.9939693787478322, 0.9892560409283581, 0.93558227462331, 0.06378970054249841, 0.19328503316128917, 0.09664251658064459, 0.7064901212102294, 0.9940871049940191, 0.05982806898100245, 0.862682155951874, 0.012544595108919868, 0.05982806898100245, 0.0057898131271937854, 0.9925645500706097, 0.08456547448651822, 0.9135843883051722, 0.002482546796439542, 0.4046551278196453, 0.590846137552611, 0.06113327249174234, 0.03056663624587117, 0.8934862902639265, 0.014107678267325155, 0.9883393184423861, 0.0013222389259905873, 0.31998182008972215, 0.0026444778519811745, 0.03437821207575527, 0.6426081180314255, 0.9947441057312492, 0.02329273405752823, 0.9003846509823843, 0.03614389767547484, 0.009638372713459957, 0.01285116361794661, 0.016867152248554926, 0.005993996623762037, 0.02097898818316713, 0.013486492403464584, 0.8661325121336144, 0.09290694766831158, 0.007978141177001692, 0.9307831373168641, 0.048755307192788123, 0.0008864601307779659, 0.010637521569335591, 0.9934607998205657, 0.9967101493404297, 0.9864194105996519, 0.663113046616048, 0.02631855059908387, 0.002860712021639551, 0.16992629408538934, 0.07781136698859578, 0.06064709485875848, 0.9903934304383574, 0.00637565950005049, 0.988227222507826, 0.17152740379496206, 0.005277766270614217, 0.8180537719452037, 0.0026388831353071087, 0.009593461588957805, 0.9881265436626538, 0.027588149139596063, 0.19375862884088396, 0.12446746356003804, 0.6409432788478248, 0.012831697274230726, 0.9923947189449807, 0.9948042001351135, 0.04240613915182593, 0.716192572341949, 0.030626656054096504, 0.04476203577137181, 0.16137891843889313, 0.0047117932390917695, 0.03116217439034609, 0.9660274061007288, 0.9881441387839112, 0.8331996567503328, 0.06175479808855407, 0.028426811818540766, 0.07645832144297171, 0.1841729657997828, 0.001558586452466427, 0.1275443246935026, 0.03740607485919425, 0.6496707862697557, 0.056752111937195066, 0.1746218828836771, 0.7683362846881793, 0.6788642444442532, 0.10565980458276314, 0.07440211239369571, 0.005282990229138157, 0.13603699840030756, 0.2581380384525313, 0.4586645048213288, 0.05029076458138095, 0.16296754092194332, 0.06238601175918143, 0.0073208075023529235, 0.757336445150935, 0.0900511256424123, 0.04534948773358893, 0.03951883931069892, 0.047293037207885594, 0.020731194392497796, 0.8030988324365518, 0.06525444575825406, 0.037958468447611846, 0.06823994327660557, 0.009382992200533265, 0.015780486882715036, 0.884469162043239, 0.012643483797889056, 0.006609093803442006, 0.0034482228539697425, 0.09195260943919313, 0.000574703808994957, 0.5390439813698892, 0.07719319150685305, 0.015700310136987063, 0.3676489290411137, 0.9914698510164718, 0.9979741761617732, 0.5319006336928808, 0.10947460902021422, 0.0033572213432865694, 0.2061041972487233, 0.1453822807788445, 0.0036491536340071407, 0.9979417225675323, 0.9928337105497935, 0.004596452363656451, 0.2387056775526362, 0.04648064348384665, 0.04884406603387275, 0.4577161671883882, 0.20798118440229688, 0.9882538572144045, 0.9866848056855756, 0.9903327210970058, 0.9920774364707089, 0.04044654197891226, 0.9523322156852977, 0.003676958361719296, 0.9866248072399224, 0.011815865954969132, 0.024541287622039006, 0.004908257524407801, 0.9669267323083368, 0.30128849503043104, 0.00225853444550548, 0.059173602472243576, 0.01671315489674055, 0.00451706889101096, 0.616128196733895, 0.008744272707330941, 0.013116409060996412, 0.017488545414661882, 0.06120990895131659, 0.900660088855087, 0.8617144728382095, 0.048811713058373514, 0.002816060368752318, 0.029099290477107288, 0.051627773427125837, 0.005632120737504636, 0.29688997774726106, 0.5038565487729959, 0.03425653589391474, 0.1234662647843177, 0.016414590115834144, 0.025692401920436054, 0.02508779027034795, 0.08641349982008739, 0.8864352562189609, 0.9907561498781068, 0.9953401162142961, 0.7865147408056773, 0.14676590857139432, 0.01787533501831085, 0.045158741098890565, 0.003763228424907547, 0.9892035965442281, 0.9931703817826254, 0.994316482810908, 0.12604667238477948, 0.8235049262472259, 0.012604667238477947, 0.037814001715433844, 0.002033517649049342, 0.9964236480341775, 0.0014525126064638156, 0.8548219675827032, 0.0014477602010245256, 0.00048258673367484187, 0.00032172448911656123, 0.13319393849425637, 0.009651734673496839, 0.8580285596398305, 0.1018664043408018, 0.032322993685062106, 0.007835877256984753, 0.9896188780002826, 0.9983564787462039, 0.0053257768910153, 0.5592065735566064, 0.3898468684223199, 0.040475904371716276, 0.00426062151281224, 0.9874370869245295, 0.48594343681349256, 0.05514564648360106, 0.020955345663768405, 0.1857305373567684, 0.06088079371789558, 0.1914656845910629, 0.9915307905465974, 0.9918897023192246, 0.3415158896712001, 0.6263374419266279, 0.006749325882830042, 0.02564743835475416, 0.9130718428563268, 0.07923731431447438, 0.007370912959485988, 0.0009213641199357485, 0.9969069271292409, 0.003472891225228447, 0.00463052163363793, 0.990931629598517, 0.003706427616353804, 0.0963671180251989, 0.8821297726922053, 0.01853213808176902, 0.08287582297624685, 0.034895083358419725, 0.052342625037629584, 0.03053319793861726, 0.7982250318238512, 0.001524264645397033, 0.7636565873439135, 0.04420367471651396, 0.184436022093041, 0.006097058581588132, 0.9902792755030168, 0.8966559363087593, 0.0855769186296801, 0.00475427325720445, 0.012361110468731569, 0.04016832327605009, 0.051123320533154666, 0.9092647723396794, 0.6305297161308594, 0.10180781207710324, 0.006108468724626195, 0.15271171811565487, 0.083821765276815, 0.024773234272095122, 0.9583558324395005, 0.041072392818835735, 0.31807611872974884, 0.48538783436216004, 0.12318554887221486, 0.02482096880261046, 0.04780334732354607, 0.3229882560561377, 0.020798486185433108, 0.09909866947176951, 0.012234403638490063, 0.5028339895419416, 0.041596972370866216, 0.17005507156316063, 0.14385739837640346, 0.4430624026672617, 0.13328640744139617, 0.08135066936940387, 0.028955322995889512, 0.9875207681622249, 0.99719402817254, 0.9711152096442098, 0.009615002075685245, 0.01923000415137049, 0.986976243940562, 0.6793602827889593, 0.0015707752203212933, 0.0031415504406425866, 0.058118683151887854, 0.02591779113530134, 0.23168934499739077, 0.00920968573631285, 0.0920968573631285, 0.04604842868156425, 0.8565007734770951, 0.9682895444225786, 0.0007541195828836282, 0.0005027463885890855, 0.03041615650963967, 0.00025137319429454274, 0.2921946761719487, 0.419871045542735, 0.001270411635530212, 0.04001796651920168, 0.24201341656850536, 0.005081646542120848, 0.36309310305399783, 0.10946697282785166, 0.004422907993044511, 0.030683924201746298, 0.48817846973228796, 0.0041464762434792295, 0.9969783218921321, 0.4019277388191074, 0.15915646472607411, 0.0005766538577031671, 0.13493700270254108, 0.3015899675787564, 0.0017299615731095012], \"Term\": [\"ain\", \"aint\", \"aint\", \"aint\", \"aint\", \"air\", \"air\", \"air\", \"air\", \"alright\", \"alright\", \"alright\", \"alright\", \"amp\", \"answers\", \"answers\", \"answers\", \"answers\", \"anymore\", \"arms\", \"arms\", \"arms\", \"arms\", \"arms\", \"ask\", \"ask\", \"ask\", \"ask\", \"ask\", \"away\", \"away\", \"away\", \"away\", \"away\", \"away\", \"baby\", \"baby\", \"baby\", \"baby\", \"baby\", \"baby\", \"bad\", \"bad\", \"bad\", \"bad\", \"bar\", \"beast\", \"beg\", \"beg\", \"beg\", \"began\", \"begun\", \"believed\", \"bet\", \"bet\", \"better\", \"better\", \"better\", \"better\", \"better\", \"bird\", \"birds\", \"birds\", \"birthday\", \"bit\", \"bit\", \"bit\", \"bit\", \"bit\", \"bitter\", \"bitter\", \"black\", \"black\", \"black\", \"black\", \"bleed\", \"blood\", \"blood\", \"blood\", \"blue\", \"blue\", \"blue\", \"blue\", \"blue\", \"bones\", \"bout\", \"bout\", \"bout\", \"bout\", \"bout\", \"box\", \"box\", \"brand\", \"brand\", \"brave\", \"breath\", \"breath\", \"breath\", \"breath\", \"bring\", \"bring\", \"bring\", \"bring\", \"bring\", \"bring\", \"busy\", \"came\", \"came\", \"came\", \"came\", \"came\", \"carry\", \"carry\", \"carry\", \"carry\", \"cat\", \"cat\", \"cat\", \"cause\", \"cause\", \"cause\", \"cause\", \"cause\", \"cause\", \"cave\", \"ceiling\", \"chance\", \"chance\", \"check\", \"christ\", \"clean\", \"clean\", \"clean\", \"clean\", \"close\", \"close\", \"close\", \"close\", \"close\", \"coat\", \"cold\", \"cold\", \"cold\", \"cold\", \"cold\", \"cold\", \"come\", \"come\", \"come\", \"come\", \"come\", \"come\", \"comin\", \"comin\", \"coming\", \"coming\", \"coming\", \"coming\", \"coming\", \"common\", \"company\", \"concrete\", \"control\", \"control\", \"control\", \"crime\", \"cruel\", \"cruel\", \"cut\", \"cut\", \"cut\", \"cut\", \"dad\", \"dance\", \"dance\", \"dancing\", \"dancing\", \"dark\", \"dark\", \"dark\", \"dark\", \"dark\", \"dark\", \"darkness\", \"darkness\", \"day\", \"day\", \"day\", \"day\", \"day\", \"day\", \"daylight\", \"daylight\", \"days\", \"days\", \"days\", \"days\", \"days\", \"dead\", \"dead\", \"dead\", \"dead\", \"dead\", \"death\", \"death\", \"death\", \"death\", \"death\", \"deep\", \"deep\", \"deep\", \"deep\", \"desert\", \"desire\", \"desire\", \"diamonds\", \"didn\", \"didnt\", \"didnt\", \"didnt\", \"didnt\", \"didnt\", \"die\", \"die\", \"die\", \"die\", \"die\", \"died\", \"died\", \"direction\", \"disappear\", \"dive\", \"dog\", \"dog\", \"dog\", \"don\", \"don\", \"don\", \"dont\", \"dont\", \"dont\", \"dont\", \"dont\", \"dont\", \"dreamt\", \"driving\", \"drop\", \"drop\", \"drop\", \"drunk\", \"drunk\", \"drunk\", \"drunk\", \"earth\", \"earth\", \"earth\", \"earth\", \"easier\", \"electric\", \"end\", \"end\", \"end\", \"end\", \"end\", \"end\", \"endless\", \"endless\", \"everybody\", \"everybody\", \"everybodys\", \"everythings\", \"evil\", \"evil\", \"evil\", \"explode\", \"eye\", \"eye\", \"eye\", \"eye\", \"eyes\", \"eyes\", \"eyes\", \"eyes\", \"eyes\", \"eyes\", \"face\", \"face\", \"face\", \"face\", \"face\", \"fade\", \"fall\", \"fall\", \"fall\", \"fall\", \"fall\", \"fall\", \"fame\", \"fame\", \"familiar\", \"faster\", \"faster\", \"father\", \"father\", \"father\", \"feel\", \"feel\", \"feel\", \"feel\", \"feel\", \"feel\", \"feeling\", \"feeling\", \"feeling\", \"feeling\", \"feeling\", \"feeling\", \"feelings\", \"feelings\", \"fight\", \"fight\", \"fight\", \"fight\", \"fight\", \"fight\", \"fine\", \"fine\", \"fine\", \"finger\", \"fix\", \"float\", \"follow\", \"follow\", \"follow\", \"follow\", \"forever\", \"forever\", \"forever\", \"forever\", \"forever\", \"forgot\", \"free\", \"free\", \"free\", \"free\", \"free\", \"fuck\", \"fuck\", \"fuck\", \"fuck\", \"fucked\", \"fuckin\", \"funny\", \"future\", \"future\", \"future\", \"future\", \"future\", \"games\", \"gettin\", \"gettin\", \"getting\", \"getting\", \"getting\", \"getting\", \"ghost\", \"ghost\", \"ghost\", \"ghost\", \"girl\", \"girl\", \"girl\", \"girl\", \"girl\", \"giving\", \"giving\", \"giving\", \"goes\", \"goes\", \"goes\", \"goes\", \"goin\", \"going\", \"going\", \"going\", \"going\", \"going\", \"going\", \"gone\", \"gone\", \"gone\", \"gone\", \"gone\", \"gone\", \"gonna\", \"gonna\", \"gonna\", \"gonna\", \"gonna\", \"good\", \"good\", \"good\", \"good\", \"good\", \"good\", \"goodbye\", \"goodbye\", \"got\", \"got\", \"got\", \"got\", \"got\", \"got\", \"gotta\", \"gotta\", \"gotta\", \"grace\", \"green\", \"green\", \"green\", \"guess\", \"guess\", \"guess\", \"guess\", \"hand\", \"hand\", \"hand\", \"hand\", \"hand\", \"hand\", \"hands\", \"hands\", \"hands\", \"hands\", \"hands\", \"hands\", \"happening\", \"happiness\", \"hard\", \"hard\", \"hard\", \"hard\", \"hard\", \"harm\", \"hate\", \"hate\", \"hate\", \"hate\", \"hate\", \"head\", \"head\", \"head\", \"head\", \"head\", \"head\", \"hear\", \"hear\", \"hear\", \"hear\", \"hear\", \"hear\", \"heart\", \"heart\", \"heart\", \"heart\", \"heart\", \"heart\", \"hed\", \"held\", \"held\", \"held\", \"hell\", \"hell\", \"hell\", \"hell\", \"hell\", \"help\", \"help\", \"help\", \"hes\", \"hes\", \"hes\", \"hey\", \"hey\", \"hiding\", \"high\", \"high\", \"high\", \"high\", \"high\", \"high\", \"higher\", \"hill\", \"hill\", \"hold\", \"hold\", \"hold\", \"hold\", \"hold\", \"hold\", \"home\", \"home\", \"home\", \"home\", \"home\", \"home\", \"honey\", \"hotel\", \"hurry\", \"hurt\", \"hurt\", \"hurt\", \"ill\", \"ill\", \"ill\", \"ill\", \"ill\", \"ill\", \"insane\", \"inside\", \"inside\", \"inside\", \"inside\", \"inside\", \"inside\", \"itll\", \"itll\", \"itll\", \"ive\", \"ive\", \"ive\", \"ive\", \"ive\", \"ive\", \"joy\", \"joy\", \"kids\", \"kids\", \"killed\", \"kinda\", \"king\", \"king\", \"king\", \"knew\", \"knew\", \"knew\", \"knew\", \"knew\", \"knife\", \"knock\", \"knock\", \"know\", \"know\", \"know\", \"know\", \"know\", \"know\", \"laughed\", \"laughter\", \"lay\", \"lay\", \"leave\", \"leave\", \"leave\", \"leave\", \"leave\", \"leave\", \"left\", \"left\", \"left\", \"left\", \"left\", \"left\", \"let\", \"let\", \"let\", \"let\", \"let\", \"let\", \"letter\", \"lied\", \"lied\", \"lies\", \"lies\", \"lies\", \"lies\", \"life\", \"life\", \"life\", \"life\", \"life\", \"life\", \"lifetime\", \"light\", \"light\", \"light\", \"light\", \"light\", \"light\", \"lights\", \"lights\", \"lights\", \"like\", \"like\", \"like\", \"like\", \"like\", \"like\", \"little\", \"little\", \"little\", \"little\", \"little\", \"live\", \"live\", \"live\", \"live\", \"live\", \"live\", \"lives\", \"lives\", \"lives\", \"lives\", \"living\", \"living\", \"living\", \"living\", \"living\", \"living\", \"lonely\", \"lonely\", \"long\", \"long\", \"long\", \"long\", \"long\", \"long\", \"look\", \"look\", \"look\", \"look\", \"look\", \"look\", \"lookin\", \"lookin\", \"lost\", \"lost\", \"lost\", \"lost\", \"lost\", \"love\", \"love\", \"love\", \"love\", \"love\", \"loving\", \"loving\", \"low\", \"low\", \"low\", \"low\", \"make\", \"make\", \"make\", \"make\", \"make\", \"make\", \"mama\", \"mama\", \"mama\", \"man\", \"man\", \"man\", \"man\", \"man\", \"man\", \"melody\", \"metal\", \"metal\", \"metal\", \"mind\", \"mind\", \"mind\", \"mind\", \"mind\", \"mind\", \"mistakes\", \"modern\", \"moment\", \"moment\", \"moment\", \"moment\", \"money\", \"money\", \"money\", \"moonlight\", \"motion\", \"motion\", \"mountain\", \"natural\", \"need\", \"need\", \"need\", \"need\", \"need\", \"need\", \"needed\", \"needed\", \"neon\", \"news\", \"news\", \"night\", \"night\", \"night\", \"night\", \"night\", \"night\", \"nose\", \"nothin\", \"number\", \"number\", \"number\", \"okay\", \"old\", \"old\", \"old\", \"old\", \"old\", \"old\", \"older\", \"ooh\", \"outta\", \"outta\", \"outta\", \"page\", \"page\", \"pair\", \"pair\", \"pair\", \"palm\", \"party\", \"party\", \"party\", \"passing\", \"pink\", \"place\", \"place\", \"place\", \"place\", \"place\", \"place\", \"plane\", \"play\", \"play\", \"play\", \"play\", \"play\", \"play\", \"pleasure\", \"pleasure\", \"pleasure\", \"poison\", \"probably\", \"probably\", \"probably\", \"probably\", \"purpose\", \"purpose\", \"pushing\", \"queen\", \"queen\", \"queen\", \"race\", \"rain\", \"rain\", \"rain\", \"rain\", \"rain\", \"ready\", \"ready\", \"ready\", \"ready\", \"ready\", \"real\", \"real\", \"real\", \"real\", \"real\", \"real\", \"really\", \"really\", \"really\", \"really\", \"really\", \"red\", \"red\", \"red\", \"red\", \"red\", \"relief\", \"remember\", \"remember\", \"remember\", \"remember\", \"remember\", \"remember\", \"rent\", \"rhyme\", \"rich\", \"rich\", \"rich\", \"rich\", \"ride\", \"ride\", \"ride\", \"ride\", \"ride\", \"right\", \"right\", \"right\", \"right\", \"right\", \"right\", \"rivers\", \"rock\", \"rock\", \"roll\", \"roll\", \"roll\", \"roll\", \"row\", \"run\", \"run\", \"run\", \"run\", \"run\", \"runnin\", \"said\", \"said\", \"said\", \"said\", \"said\", \"said\", \"sat\", \"save\", \"save\", \"saw\", \"saw\", \"saw\", \"saw\", \"saw\", \"saw\", \"say\", \"say\", \"say\", \"say\", \"say\", \"say\", \"screaming\", \"screaming\", \"sell\", \"set\", \"set\", \"shadow\", \"shadow\", \"shadow\", \"sharp\", \"shes\", \"shes\", \"shes\", \"shes\", \"shes\", \"shine\", \"shine\", \"shore\", \"shouldve\", \"showing\", \"silence\", \"silence\", \"silent\", \"silent\", \"silent\", \"simple\", \"sing\", \"sing\", \"sing\", \"sing\", \"sing\", \"sisters\", \"slow\", \"slow\", \"slowly\", \"slowly\", \"slowly\", \"smoke\", \"smoke\", \"smoke\", \"smoke\", \"softly\", \"somebody\", \"somebody\", \"somebody\", \"somebody\", \"somebody\", \"somethings\", \"song\", \"song\", \"song\", \"song\", \"song\", \"song\", \"soul\", \"soul\", \"soul\", \"soul\", \"soul\", \"sound\", \"sound\", \"sound\", \"sound\", \"sound\", \"south\", \"stage\", \"stairs\", \"stay\", \"stay\", \"stay\", \"stay\", \"stay\", \"stay\", \"steady\", \"steel\", \"steel\", \"stone\", \"stone\", \"stone\", \"stone\", \"storm\", \"storm\", \"sun\", \"sun\", \"sun\", \"sun\", \"sun\", \"sunday\", \"survive\", \"sweet\", \"sweet\", \"sweet\", \"sweet\", \"sweet\", \"sweet\", \"swim\", \"swim\", \"swing\", \"talk\", \"talk\", \"talk\", \"talk\", \"tell\", \"tell\", \"tell\", \"tell\", \"tell\", \"terrible\", \"terrible\", \"terrible\", \"thats\", \"thats\", \"thats\", \"thats\", \"thats\", \"theres\", \"theres\", \"theres\", \"theres\", \"theres\", \"theres\", \"thing\", \"thing\", \"thing\", \"thing\", \"thing\", \"thing\", \"things\", \"things\", \"things\", \"things\", \"things\", \"things\", \"think\", \"think\", \"think\", \"think\", \"think\", \"think\", \"thinking\", \"thinking\", \"thinking\", \"thinking\", \"thinks\", \"tight\", \"time\", \"time\", \"time\", \"time\", \"time\", \"time\", \"tomorrow\", \"tone\", \"tone\", \"tonight\", \"tonight\", \"tonight\", \"tonight\", \"tonight\", \"touched\", \"trace\", \"trail\", \"treat\", \"tree\", \"tree\", \"tree\", \"trip\", \"trip\", \"truly\", \"truly\", \"truly\", \"try\", \"try\", \"try\", \"try\", \"try\", \"try\", \"tryin\", \"tryin\", \"tryin\", \"tryin\", \"tryin\", \"trying\", \"trying\", \"trying\", \"trying\", \"trying\", \"trying\", \"turn\", \"turn\", \"turn\", \"turn\", \"turn\", \"turn\", \"turning\", \"turning\", \"turning\", \"undone\", \"unknown\", \"used\", \"used\", \"used\", \"used\", \"used\", \"valley\", \"veins\", \"visit\", \"voice\", \"voice\", \"voice\", \"voice\", \"wanna\", \"wanna\", \"wanna\", \"want\", \"want\", \"want\", \"want\", \"want\", \"want\", \"wanted\", \"wanted\", \"wanted\", \"wanted\", \"washed\", \"wasnt\", \"water\", \"water\", \"water\", \"water\", \"water\", \"waters\", \"way\", \"way\", \"way\", \"way\", \"way\", \"way\", \"weeks\", \"weird\", \"went\", \"went\", \"went\", \"went\", \"whats\", \"whats\", \"whats\", \"whats\", \"wheels\", \"white\", \"white\", \"white\", \"wild\", \"wild\", \"wild\", \"wild\", \"win\", \"win\", \"win\", \"win\", \"win\", \"wind\", \"wind\", \"wind\", \"wind\", \"wind\", \"wing\", \"wish\", \"wish\", \"wish\", \"wish\", \"won\", \"won\", \"won\", \"wont\", \"wont\", \"wont\", \"wont\", \"wont\", \"wont\", \"word\", \"word\", \"words\", \"words\", \"words\", \"words\", \"words\", \"work\", \"work\", \"work\", \"work\", \"work\", \"work\", \"world\", \"world\", \"world\", \"world\", \"world\", \"world\", \"worried\", \"worry\", \"worst\", \"worst\", \"worst\", \"wrap\", \"wrong\", \"wrong\", \"wrong\", \"wrong\", \"wrong\", \"wrong\", \"yall\", \"yall\", \"yall\", \"yall\", \"yeah\", \"yeah\", \"yeah\", \"yeah\", \"yeah\", \"youll\", \"youll\", \"youll\", \"youll\", \"youll\", \"youll\", \"youre\", \"youre\", \"youre\", \"youre\", \"youre\", \"youre\", \"youth\", \"youve\", \"youve\", \"youve\", \"youve\", \"youve\", \"youve\"]}, \"R\": 30, \"lambda.step\": 0.01, \"plot.opts\": {\"xlab\": \"PC1\", \"ylab\": \"PC2\"}, \"topic.order\": [5, 6, 3, 2, 1, 4]};\n",
       "\n",
       "function LDAvis_load_lib(url, callback){\n",
       "  var s = document.createElement('script');\n",
       "  s.src = url;\n",
       "  s.async = true;\n",
       "  s.onreadystatechange = s.onload = callback;\n",
       "  s.onerror = function(){console.warn(\"failed to load library \" + url);};\n",
       "  document.getElementsByTagName(\"head\")[0].appendChild(s);\n",
       "}\n",
       "\n",
       "if(typeof(LDAvis) !== \"undefined\"){\n",
       "   // already loaded: just create the visualization\n",
       "   !function(LDAvis){\n",
       "       new LDAvis(\"#\" + \"ldavis_el1609627832364108483480941308\", ldavis_el1609627832364108483480941308_data);\n",
       "   }(LDAvis);\n",
       "}else if(typeof define === \"function\" && define.amd){\n",
       "   // require.js is available: use it to load d3/LDAvis\n",
       "   require.config({paths: {d3: \"https://cdnjs.cloudflare.com/ajax/libs/d3/3.5.5/d3.min\"}});\n",
       "   require([\"d3\"], function(d3){\n",
       "      window.d3 = d3;\n",
       "      LDAvis_load_lib(\"https://cdn.rawgit.com/bmabey/pyLDAvis/files/ldavis.v1.0.0.js\", function(){\n",
       "        new LDAvis(\"#\" + \"ldavis_el1609627832364108483480941308\", ldavis_el1609627832364108483480941308_data);\n",
       "      });\n",
       "    });\n",
       "}else{\n",
       "    // require.js not available: dynamically load d3 & LDAvis\n",
       "    LDAvis_load_lib(\"https://cdnjs.cloudflare.com/ajax/libs/d3/3.5.5/d3.min.js\", function(){\n",
       "         LDAvis_load_lib(\"https://cdn.rawgit.com/bmabey/pyLDAvis/files/ldavis.v1.0.0.js\", function(){\n",
       "                 new LDAvis(\"#\" + \"ldavis_el1609627832364108483480941308\", ldavis_el1609627832364108483480941308_data);\n",
       "            })\n",
       "         });\n",
       "}\n",
       "</script>"
      ],
      "text/plain": [
       "PreparedData(topic_coordinates=              x         y  topics  cluster       Freq\n",
       "topic                                                \n",
       "4     -0.080267 -0.106587       1        1  29.650592\n",
       "5     -0.069251  0.128309       2        1  17.747044\n",
       "2      0.097626  0.181187       3        1  15.767776\n",
       "1     -0.123227  0.089577       4        1  15.603403\n",
       "0     -0.142954 -0.188085       5        1  14.263554\n",
       "3      0.318073 -0.104402       6        1   6.967632, topic_info=     Category          Freq      Term         Total  loglift  logprob\n",
       "865   Default   6440.000000      love   6440.000000  30.0000  30.0000\n",
       "382   Default  12044.000000      dont  12044.000000  29.0000  29.0000\n",
       "776   Default  11379.000000      know  11379.000000  28.0000  28.0000\n",
       "1461  Default   3849.000000      tell   3849.000000  27.0000  27.0000\n",
       "1583  Default   3442.000000     wanna   3442.000000  26.0000  26.0000\n",
       "609   Default   3362.000000     gonna   3362.000000  25.0000  25.0000\n",
       "827   Default  11832.000000      like  11832.000000  24.0000  24.0000\n",
       "1697  Default   7235.000000     youre   7235.000000  23.0000  23.0000\n",
       "57    Default   2641.000000      baby   2641.000000  22.0000  22.0000\n",
       "612   Default   6700.000000       got   6700.000000  21.0000  21.0000\n",
       "1584  Default   6216.000000      want   6216.000000  20.0000  20.0000\n",
       "672   Default   2809.000000     heart   2809.000000  19.0000  19.0000\n",
       "264   Default   4791.000000      come   4791.000000  18.0000  18.0000\n",
       "1538  Default   2213.000000       try   2213.000000  17.0000  17.0000\n",
       "1686  Default   3978.000000      yeah   3978.000000  16.0000  16.0000\n",
       "53    Default   4108.000000      away   4108.000000  15.0000  15.0000\n",
       "848   Default   2777.000000      long   2777.000000  14.0000  14.0000\n",
       "495   Default   2056.000000   feeling   2056.000000  13.0000  13.0000\n",
       "686   Default   1700.000000       hey   1700.000000  12.0000  12.0000\n",
       "990   Default   1546.000000       ooh   1546.000000  11.0000  11.0000\n",
       "1604  Default   4533.000000       way   4533.000000  10.0000  10.0000\n",
       "381   Default   1268.000000       don   1268.000000   9.0000   9.0000\n",
       "17    Default   1052.000000   alright   1052.000000   8.0000   8.0000\n",
       "1477  Default   3480.000000     think   3480.000000   7.0000   7.0000\n",
       "1142  Default   3212.000000     right   3212.000000   6.0000   6.0000\n",
       "14    Default   1393.000000      aint   1393.000000   5.0000   5.0000\n",
       "861   Default   1735.000000      lost   1735.000000   4.0000   4.0000\n",
       "842   Default   1570.000000    living   1570.000000   3.0000   3.0000\n",
       "824   Default   2171.000000     light   2171.000000   2.0000   2.0000\n",
       "608   Default   1815.000000      gone   1815.000000   1.0000   1.0000\n",
       "...       ...           ...       ...           ...      ...      ...\n",
       "1074   Topic6    720.638241  probably    920.888174   2.4187  -4.1701\n",
       "940    Topic6    178.948720    motion    231.235577   2.4076  -5.5631\n",
       "1465   Topic6    175.704471  terrible    229.066365   2.3987  -5.5814\n",
       "766    Topic6    256.700499      king    340.891555   2.3802  -5.2023\n",
       "1461   Topic6   2500.534944      tell   3849.642085   2.2324  -2.9260\n",
       "930    Topic6    561.717076    moment    799.873490   2.3104  -4.4192\n",
       "381    Topic6    839.923073       don   1268.223069   2.2518  -4.0169\n",
       "1538   Topic6   1364.203317       try   2213.824992   2.1797  -3.5319\n",
       "672    Topic6   1525.079150     heart   2809.255151   2.0530  -3.4204\n",
       "1319   Topic6    485.568883  somebody    756.292967   2.2208  -4.5649\n",
       "495    Topic6   1071.425799   feeling   2056.587828   2.0118  -3.7735\n",
       "660    Topic6    426.728468      hate    678.491875   2.2002  -4.6941\n",
       "276    Topic6    308.869157   control    498.311550   2.1856  -5.0173\n",
       "576    Topic6    275.124286    future    432.374218   2.2118  -5.1330\n",
       "42     Topic6    464.089274       ask   1036.144332   1.8607  -4.6101\n",
       "1276   Topic6    211.893115    silent    300.074967   2.3159  -5.3941\n",
       "842    Topic6    585.327865    living   1570.823964   1.6767  -4.3781\n",
       "773    Topic6    456.151270      knew   1051.343097   1.8289  -4.6274\n",
       "655    Topic6    501.810773      hard   1607.605036   1.4996  -4.5320\n",
       "1604   Topic6    868.226279       way   4533.449437   1.0111  -3.9838\n",
       "1142   Topic6    652.693910     right   3212.576002   1.0702  -4.2691\n",
       "827    Topic6   1079.448560      like  11832.197338   0.2695  -3.7660\n",
       "505    Topic6    290.555817     fight    631.560496   1.8875  -5.0784\n",
       "1046   Topic6    315.413439      play    866.772140   1.6530  -4.9963\n",
       "726    Topic6    258.433417      hurt    491.012081   2.0221  -5.1956\n",
       "1305   Topic6    238.371579    slowly    402.812145   2.1393  -5.2764\n",
       "1478   Topic6    280.905672  thinking    764.316112   1.6629  -5.1122\n",
       "1682   Topic6    294.961297     wrong   1273.256653   1.2014  -5.0634\n",
       "591    Topic6    286.219948      girl   1338.666945   1.1212  -5.0935\n",
       "644    Topic6    254.809526      hand   1382.248292   0.9729  -5.2097\n",
       "\n",
       "[453 rows x 6 columns], token_table=      Topic      Freq     Term\n",
       "term                          \n",
       "13        6  0.994160      ain\n",
       "14        1  0.014352     aint\n",
       "14        3  0.007176     aint\n",
       "14        4  0.027985     aint\n",
       "14        5  0.950787     aint\n",
       "15        1  0.042456      air\n",
       "15        2  0.663377      air\n",
       "15        3  0.168498      air\n",
       "15        4  0.126042      air\n",
       "17        1  0.111183  alright\n",
       "17        3  0.000950  alright\n",
       "17        5  0.003801  alright\n",
       "17        6  0.883763  alright\n",
       "19        3  0.994506      amp\n",
       "28        2  0.009720  answers\n",
       "28        3  0.150666  answers\n",
       "28        4  0.019441  answers\n",
       "28        6  0.816514  answers\n",
       "30        1  0.999108  anymore\n",
       "36        1  0.002780     arms\n",
       "36        2  0.194630     arms\n",
       "36        3  0.015292     arms\n",
       "36        4  0.736812     arms\n",
       "36        5  0.048657     arms\n",
       "42        1  0.073349      ask\n",
       "42        2  0.053081      ask\n",
       "42        3  0.387012      ask\n",
       "42        5  0.038605      ask\n",
       "42        6  0.447814      ask\n",
       "53        1  0.170845     away\n",
       "...     ...       ...      ...\n",
       "1682      5  0.025918    wrong\n",
       "1682      6  0.231689    wrong\n",
       "1684      2  0.009210     yall\n",
       "1684      3  0.092097     yall\n",
       "1684      4  0.046048     yall\n",
       "1684      5  0.856501     yall\n",
       "1686      1  0.968290     yeah\n",
       "1686      3  0.000754     yeah\n",
       "1686      4  0.000503     yeah\n",
       "1686      5  0.030416     yeah\n",
       "1686      6  0.000251     yeah\n",
       "1694      1  0.292195    youll\n",
       "1694      2  0.419871    youll\n",
       "1694      3  0.001270    youll\n",
       "1694      4  0.040018    youll\n",
       "1694      5  0.242013    youll\n",
       "1694      6  0.005082    youll\n",
       "1697      1  0.363093    youre\n",
       "1697      2  0.109467    youre\n",
       "1697      3  0.004423    youre\n",
       "1697      4  0.030684    youre\n",
       "1697      5  0.488178    youre\n",
       "1697      6  0.004146    youre\n",
       "1698      4  0.996978    youth\n",
       "1699      1  0.401928    youve\n",
       "1699      2  0.159156    youve\n",
       "1699      3  0.000577    youve\n",
       "1699      4  0.134937    youve\n",
       "1699      5  0.301590    youve\n",
       "1699      6  0.001730    youve\n",
       "\n",
       "[1196 rows x 3 columns], R=30, lambda_step=0.01, plot_opts={'xlab': 'PC1', 'ylab': 'PC2'}, topic_order=[5, 6, 3, 2, 1, 4])"
      ]
     },
     "execution_count": 125,
     "metadata": {},
     "output_type": "execute_result"
    }
   ],
   "source": [
    "vectorizer = CountVectorizer(analyzer='word',stop_words='english',max_df=.5, min_df=50, max_features=25000, lowercase=True, token_pattern='[a-zA-Z0-9]{3,}')\n",
    "\n",
    "bag_lyrics= vectorizer.fit_transform(songlyrics['cleaned_lyrics'])\n",
    "scipy.sparse.save_npz('sparse_lyrics_2.npz',bag_lyrics)\n",
    "LDA_model=LatentDirichletAllocation(n_components=6,learning_method='online',n_jobs= -1)\n",
    "\n",
    "LDA_result = LDA_model.fit_transform(bag_lyrics)\n",
    "\n",
    "pyLDAvis.enable_notebook()\n",
    "pyLDAvis.sklearn.prepare(LDA_model,bag_lyrics,vectorizer)"
   ]
  },
  {
   "cell_type": "code",
   "execution_count": 131,
   "metadata": {},
   "outputs": [
    {
     "name": "stderr",
     "output_type": "stream",
     "text": [
      "C:\\Users\\16142\\Anaconda3\\lib\\site-packages\\pyLDAvis\\_prepare.py:257: FutureWarning:\n",
      "\n",
      "Sorting because non-concatenation axis is not aligned. A future version\n",
      "of pandas will change to not sort by default.\n",
      "\n",
      "To accept the future behavior, pass 'sort=False'.\n",
      "\n",
      "To retain the current behavior and silence the warning, pass 'sort=True'.\n",
      "\n",
      "\n"
     ]
    },
    {
     "data": {
      "text/html": [
       "\n",
       "<link rel=\"stylesheet\" type=\"text/css\" href=\"https://cdn.rawgit.com/bmabey/pyLDAvis/files/ldavis.v1.0.0.css\">\n",
       "\n",
       "\n",
       "<div id=\"ldavis_el1609627849535598242675330836\"></div>\n",
       "<script type=\"text/javascript\">\n",
       "\n",
       "var ldavis_el1609627849535598242675330836_data = {\"mdsDat\": {\"x\": [-0.07939218910846867, 0.18126391329065258, -0.21779670917949584, -0.07628679160714417, 0.192211776604456], \"y\": [0.03218193611376961, 0.20608690759186446, -0.008107001328992667, -0.02857748359650196, -0.20158435878013933], \"topics\": [1, 2, 3, 4, 5], \"cluster\": [1, 1, 1, 1, 1], \"Freq\": [37.10159704490371, 21.689493000106193, 14.957529541436687, 14.56275405936181, 11.688626354191598]}, \"tinfo\": {\"Category\": [\"Default\", \"Default\", \"Default\", \"Default\", \"Default\", \"Default\", \"Default\", \"Default\", \"Default\", \"Default\", \"Default\", \"Default\", \"Default\", \"Default\", \"Default\", \"Default\", \"Default\", \"Default\", \"Default\", \"Default\", \"Default\", \"Default\", \"Default\", \"Default\", \"Default\", \"Default\", \"Default\", \"Default\", \"Default\", \"Default\", \"Topic1\", \"Topic1\", \"Topic1\", \"Topic1\", \"Topic1\", \"Topic1\", \"Topic1\", \"Topic1\", \"Topic1\", \"Topic1\", \"Topic1\", \"Topic1\", \"Topic1\", \"Topic1\", \"Topic1\", \"Topic1\", \"Topic1\", \"Topic1\", \"Topic1\", \"Topic1\", \"Topic1\", \"Topic1\", \"Topic1\", \"Topic1\", \"Topic1\", \"Topic1\", \"Topic1\", \"Topic1\", \"Topic1\", \"Topic1\", \"Topic1\", \"Topic1\", \"Topic1\", \"Topic1\", \"Topic1\", \"Topic1\", \"Topic1\", \"Topic1\", \"Topic1\", \"Topic1\", \"Topic1\", \"Topic1\", \"Topic1\", \"Topic1\", \"Topic1\", \"Topic1\", \"Topic1\", \"Topic1\", \"Topic1\", \"Topic1\", \"Topic1\", \"Topic1\", \"Topic1\", \"Topic1\", \"Topic1\", \"Topic1\", \"Topic1\", \"Topic1\", \"Topic1\", \"Topic1\", \"Topic1\", \"Topic1\", \"Topic1\", \"Topic1\", \"Topic1\", \"Topic1\", \"Topic1\", \"Topic1\", \"Topic1\", \"Topic1\", \"Topic1\", \"Topic1\", \"Topic1\", \"Topic1\", \"Topic1\", \"Topic1\", \"Topic1\", \"Topic1\", \"Topic1\", \"Topic1\", \"Topic1\", \"Topic1\", \"Topic1\", \"Topic1\", \"Topic1\", \"Topic1\", \"Topic1\", \"Topic1\", \"Topic1\", \"Topic2\", \"Topic2\", \"Topic2\", \"Topic2\", \"Topic2\", \"Topic2\", \"Topic2\", \"Topic2\", \"Topic2\", \"Topic2\", \"Topic2\", \"Topic2\", \"Topic2\", \"Topic2\", \"Topic2\", \"Topic2\", \"Topic2\", \"Topic2\", \"Topic2\", \"Topic2\", \"Topic2\", \"Topic2\", \"Topic2\", \"Topic2\", \"Topic2\", \"Topic2\", \"Topic2\", \"Topic2\", \"Topic2\", \"Topic2\", \"Topic2\", \"Topic2\", \"Topic2\", \"Topic2\", \"Topic2\", \"Topic2\", \"Topic2\", \"Topic2\", \"Topic2\", \"Topic2\", \"Topic2\", \"Topic2\", \"Topic2\", \"Topic2\", \"Topic2\", \"Topic2\", \"Topic2\", \"Topic2\", \"Topic2\", \"Topic2\", \"Topic2\", \"Topic2\", \"Topic2\", \"Topic2\", \"Topic2\", \"Topic2\", \"Topic2\", \"Topic2\", \"Topic2\", \"Topic2\", \"Topic2\", \"Topic2\", \"Topic2\", \"Topic2\", \"Topic2\", \"Topic2\", \"Topic2\", \"Topic2\", \"Topic2\", \"Topic2\", \"Topic2\", \"Topic2\", \"Topic2\", \"Topic2\", \"Topic2\", \"Topic2\", \"Topic2\", \"Topic3\", \"Topic3\", \"Topic3\", \"Topic3\", \"Topic3\", \"Topic3\", \"Topic3\", \"Topic3\", \"Topic3\", \"Topic3\", \"Topic3\", \"Topic3\", \"Topic3\", \"Topic3\", \"Topic3\", \"Topic3\", \"Topic3\", \"Topic3\", \"Topic3\", \"Topic3\", \"Topic3\", \"Topic3\", \"Topic3\", \"Topic3\", \"Topic3\", \"Topic3\", \"Topic3\", \"Topic3\", \"Topic3\", \"Topic3\", \"Topic3\", \"Topic3\", \"Topic3\", \"Topic3\", \"Topic3\", \"Topic3\", \"Topic3\", \"Topic3\", \"Topic3\", \"Topic3\", \"Topic3\", \"Topic3\", \"Topic3\", \"Topic3\", \"Topic3\", \"Topic3\", \"Topic3\", \"Topic3\", \"Topic3\", \"Topic3\", \"Topic3\", \"Topic3\", \"Topic3\", \"Topic3\", \"Topic3\", \"Topic3\", \"Topic3\", \"Topic3\", \"Topic3\", \"Topic3\", \"Topic3\", \"Topic3\", \"Topic3\", \"Topic3\", \"Topic3\", \"Topic3\", \"Topic3\", \"Topic4\", \"Topic4\", \"Topic4\", \"Topic4\", \"Topic4\", \"Topic4\", \"Topic4\", \"Topic4\", \"Topic4\", \"Topic4\", \"Topic4\", \"Topic4\", \"Topic4\", \"Topic4\", \"Topic4\", \"Topic4\", \"Topic4\", \"Topic4\", \"Topic4\", \"Topic4\", \"Topic4\", \"Topic4\", \"Topic4\", \"Topic4\", \"Topic4\", \"Topic4\", \"Topic4\", \"Topic4\", \"Topic4\", \"Topic4\", \"Topic4\", \"Topic4\", \"Topic4\", \"Topic4\", \"Topic4\", \"Topic4\", \"Topic4\", \"Topic4\", \"Topic4\", \"Topic4\", \"Topic4\", \"Topic4\", \"Topic4\", \"Topic4\", \"Topic4\", \"Topic4\", \"Topic4\", \"Topic4\", \"Topic4\", \"Topic4\", \"Topic4\", \"Topic4\", \"Topic4\", \"Topic4\", \"Topic4\", \"Topic4\", \"Topic4\", \"Topic4\", \"Topic4\", \"Topic4\", \"Topic4\", \"Topic4\", \"Topic4\", \"Topic4\", \"Topic4\", \"Topic4\", \"Topic4\", \"Topic4\", \"Topic4\", \"Topic5\", \"Topic5\", \"Topic5\", \"Topic5\", \"Topic5\", \"Topic5\", \"Topic5\", \"Topic5\", \"Topic5\", \"Topic5\", \"Topic5\", \"Topic5\", \"Topic5\", \"Topic5\", \"Topic5\", \"Topic5\", \"Topic5\", \"Topic5\", \"Topic5\", \"Topic5\", \"Topic5\", \"Topic5\", \"Topic5\", \"Topic5\", \"Topic5\", \"Topic5\", \"Topic5\", \"Topic5\", \"Topic5\", \"Topic5\", \"Topic5\", \"Topic5\", \"Topic5\", \"Topic5\", \"Topic5\", \"Topic5\", \"Topic5\", \"Topic5\", \"Topic5\", \"Topic5\", \"Topic5\", \"Topic5\", \"Topic5\", \"Topic5\", \"Topic5\", \"Topic5\", \"Topic5\", \"Topic5\", \"Topic5\", \"Topic5\", \"Topic5\", \"Topic5\", \"Topic5\", \"Topic5\", \"Topic5\", \"Topic5\", \"Topic5\", \"Topic5\", \"Topic5\", \"Topic5\", \"Topic5\", \"Topic5\", \"Topic5\", \"Topic5\", \"Topic5\", \"Topic5\", \"Topic5\", \"Topic5\", \"Topic5\", \"Topic5\", \"Topic5\", \"Topic5\", \"Topic5\", \"Topic5\", \"Topic5\"], \"Freq\": [12119.0, 8577.0, 11428.0, 6250.0, 6498.0, 4002.0, 3452.0, 11100.0, 3358.0, 3768.0, 2562.0, 3023.0, 4758.0, 1549.0, 3449.0, 7242.0, 1807.0, 2157.0, 1398.0, 3661.0, 6828.0, 1236.0, 1419.0, 1009.0, 3789.0, 1360.0, 4809.0, 4644.0, 958.0, 1394.0, 709.0009045402142, 389.18901306814183, 287.08618931990316, 276.99966645851333, 216.84805962695674, 213.7404883942142, 206.64184588856386, 205.53056722111836, 192.13371081082693, 188.03237116040947, 181.16968835768313, 179.02637135974817, 166.4830196607568, 162.3167602755383, 150.2417687765993, 146.2083800459938, 144.08862666197018, 157.3488951217708, 127.00257638931383, 126.72085767476429, 121.89503839713241, 126.08683777416711, 185.52394115235867, 110.6944214706868, 112.13505949981445, 108.25320234544664, 105.9226091450248, 109.26575351649565, 192.26935241239482, 103.63441861007028, 148.40016194234818, 509.3433308828625, 946.1888437471539, 411.87573077189955, 162.48409983356365, 1651.3436365866205, 492.18646604467756, 365.26801949393825, 294.3048410054838, 286.54375671114286, 406.89815754144985, 552.578488379166, 1254.3097105214304, 1082.692250685172, 928.867386017605, 958.4074010973122, 1382.21594954678, 3724.355833468831, 1063.550965646919, 5233.948255201962, 1132.7007284209706, 3510.9994695821993, 299.7422901173565, 5367.712940826325, 2554.1520013396766, 2476.3358628519254, 2712.434147265877, 3584.0774926431404, 1870.8649176681547, 436.14808887483315, 676.5576352140492, 802.377578040833, 2198.1427175981316, 909.4344464003838, 1792.8699018902105, 1913.7354451498172, 1378.8039810424016, 1322.9071011629137, 2748.536295682394, 955.8035238255912, 1374.3830966431365, 1102.5363909134073, 2489.633110967552, 1128.7396329613734, 2208.896300343027, 2488.1191285195123, 1523.1278025589238, 1744.632906828368, 3591.56790752424, 1186.0731586396344, 1399.6862718683356, 2901.9552889840543, 1681.1075966495378, 1657.4292594459696, 1473.0810581343355, 1544.8894508355404, 1746.019239042905, 1611.0794781091706, 1438.094921430983, 997.5957980521589, 367.87956489924346, 396.6895872366408, 284.4975859787315, 247.602984883491, 258.0897343768363, 236.9277516646322, 212.94448685334575, 215.54489365795212, 211.14573304026052, 208.35791219908538, 198.77983589546025, 188.65133924240496, 214.3678655291972, 211.80333911299007, 182.85219030722163, 259.4454121546105, 211.18123892587298, 166.0062606529185, 161.77393067806346, 200.87351122698053, 150.64463744558978, 129.3618355077784, 130.8067600309888, 129.33916361456758, 111.19074596421457, 113.00601835407753, 110.38138196902196, 106.03876138186881, 289.1396421094451, 411.70293789005626, 240.60747308955166, 775.4526811866793, 410.8041100237886, 358.1802929236271, 162.08701376773175, 884.8762558104778, 894.590839702859, 259.5171276028822, 640.1779706976125, 577.1503149671131, 547.8358390753776, 253.49292439693582, 336.5939643159013, 834.0381938338475, 1105.2950076114753, 564.0066572890495, 667.249781252913, 337.2396257802732, 575.5174862734137, 415.38186764501626, 461.66153968419206, 556.8317432953968, 609.2340333017312, 974.9437979329323, 1145.9734246863077, 926.224808894801, 690.8273894213543, 678.4838375220785, 529.7566328762747, 576.5987499038081, 602.3704381430886, 805.1064313249923, 1001.0254201055205, 1058.436767269615, 1053.8873988719322, 1216.542732053027, 655.3226217595784, 668.7194439027235, 1470.6370776831197, 837.0648227464746, 829.43932387863, 800.2838237214696, 707.3058285038205, 678.1708230839678, 626.5144214792757, 593.7121496406664, 1549.1136274383011, 3449.720486330924, 264.26399117641546, 237.50862450296387, 208.79196662632097, 200.23014894461102, 180.07370470034303, 151.3987956125923, 233.80884541791403, 148.79403459474148, 144.1232463588658, 140.60348903085978, 139.88923655775724, 135.35849550915313, 124.8712318426728, 113.425808304303, 126.71028276086078, 104.53912228234299, 190.78216893597306, 96.29610011553955, 96.17192864241325, 122.66155850691402, 128.71932721408987, 82.44120436134966, 139.81956689193282, 99.34587656247973, 69.50113384216235, 61.156318556717956, 62.86047490866884, 58.40025889750666, 1209.8096731349615, 509.430812181402, 1341.0457301492206, 96.38827710916006, 10271.457275824525, 679.1987530237351, 4512.208422716774, 4573.151471522279, 610.529071011892, 845.620534428515, 2119.760688579617, 990.5045491827772, 512.9015090597536, 5046.658356640535, 2456.197652863034, 729.2869688102933, 1656.3194226948158, 597.4166394120757, 360.7164769689419, 280.4527358225238, 1384.1901551821527, 1335.408622839669, 728.2518996129481, 821.5207514144381, 681.6463803390087, 489.09042921476396, 619.2984241378443, 455.09840941549254, 703.5138556431391, 852.9386950322314, 554.5352129282547, 748.5369814989256, 643.3949650692009, 690.5664473968212, 807.4056142179073, 617.1080909235196, 631.5743484748357, 235.18681475622188, 192.81927584915456, 199.33793307653434, 161.29332585535371, 158.33565284771362, 143.07063178291375, 128.93165092172023, 128.54031656302038, 124.91711425413435, 114.4379355816281, 111.15714517749961, 109.51284698693519, 107.37487372702425, 105.41949375389994, 92.4939132922883, 81.57800133284424, 79.03303294793457, 77.99777106874558, 80.55352627937924, 75.91765329179452, 74.34823978672691, 73.53847106526138, 71.7966285200111, 64.71775377635275, 61.26168952435047, 66.72459276247905, 60.79189821350138, 58.767243000173806, 57.73568023681142, 56.25283829325144, 940.0829782020015, 146.07548547401964, 122.31741843059895, 273.3927642341335, 3665.196772519288, 569.6035355345721, 2199.8004616925505, 1233.5623734646344, 2736.175218297258, 6388.8594052703975, 1040.6799938898614, 816.2441000926581, 551.116292473163, 277.8477124772233, 138.99977793902875, 656.9010347025657, 196.00899069730622, 545.1839234823852, 1636.8737510092533, 595.9811557969616, 1144.4880009988328, 662.1959605397673, 548.0314756490941, 485.7693487885108, 555.1758199088796, 535.6658595779512, 845.3481854750358, 2718.8768456283133, 934.0602578122864, 521.4524445398092, 343.9333428844769, 653.2364338367513, 2113.118743082305, 1312.4663380668817, 499.68626500967866, 1135.3893855245901, 603.2256150263278, 773.349169396971, 741.8533869561106, 1005.6775329640055, 281.95602130483206, 188.2676698521879, 164.25885432561498, 187.61691459596608, 151.31242467648258, 140.6952380892059, 138.26806057844541, 139.85879025296114, 140.46213013798197, 147.00067688562186, 123.83220418246216, 118.31447262394417, 159.51017907916827, 115.1236621887011, 138.2423406681966, 136.27050959590778, 104.29262428758837, 102.90252695199173, 101.37736950556288, 99.66718311515164, 96.84417490035126, 94.88945680897531, 92.82155210853966, 91.30450554380609, 91.18770983177009, 89.72771428505855, 87.05328836083534, 85.02486703953058, 83.5480901500953, 172.41998225820902, 156.58581757054324, 260.58475571912055, 754.0922219433382, 184.84655002150234, 164.22127219290064, 364.2968980239034, 223.4153951862551, 149.34505763490378, 160.67448038858657, 329.2915822105011, 137.8767892053744, 353.94819361873266, 475.8079965927407, 360.90366416043787, 1043.2106962643222, 222.02510179287273, 1319.567959558228, 396.25101258207224, 768.3834766451927, 563.4880358788728, 354.00684480149033, 521.2947492093587, 223.7559296963041, 754.9852047433423, 633.846732645785, 1878.759655219552, 245.50721199095688, 233.1471783473755, 362.59639956404055, 3807.0662902142335, 475.2886662161537, 1007.6948781914117, 409.94107685335916, 355.4639707850272, 391.3187467526967, 524.56976067633, 648.4215502950354, 408.7348367897167, 470.1640845902519, 500.7798081871337, 542.2644917715322, 655.2137075903553, 512.7437853646782, 382.596003248756], \"Term\": [\"dont\", \"love\", \"know\", \"want\", \"got\", \"yeah\", \"wanna\", \"like\", \"gonna\", \"tell\", \"baby\", \"need\", \"come\", \"ooh\", \"right\", \"youre\", \"feeling\", \"try\", \"aint\", \"cause\", \"time\", \"care\", \"wait\", \"important\", \"ive\", \"living\", \"say\", \"ill\", \"mean\", \"bad\", \"lonely\", \"safe\", \"news\", \"driving\", \"bet\", \"seeing\", \"insane\", \"moves\", \"somethings\", \"cmon\", \"passing\", \"changing\", \"stuff\", \"voices\", \"beginning\", \"sisters\", \"electric\", \"glad\", \"realize\", \"saturday\", \"remind\", \"mystery\", \"notice\", \"staying\", \"ladies\", \"thinks\", \"circles\", \"undone\", \"disappear\", \"slave\", \"lately\", \"goodbye\", \"start\", \"worth\", \"person\", \"hard\", \"save\", \"shut\", \"needs\", \"evil\", \"leaving\", \"happy\", \"maybe\", \"remember\", \"wanted\", \"trying\", \"youll\", \"ill\", \"change\", \"time\", \"believe\", \"feel\", \"losing\", \"youre\", \"life\", \"theres\", \"think\", \"say\", \"things\", \"ways\", \"forget\", \"close\", \"wont\", \"words\", \"mind\", \"good\", \"stay\", \"hear\", \"make\", \"friends\", \"going\", \"turn\", \"away\", \"place\", \"ive\", \"way\", \"thats\", \"night\", \"know\", \"new\", \"look\", \"like\", \"right\", \"let\", \"eyes\", \"cause\", \"love\", \"want\", \"day\", \"died\", \"gold\", \"feeding\", \"terrible\", \"purpose\", \"cutting\", \"lifted\", \"hoo\", \"falls\", \"holy\", \"youth\", \"oooh\", \"lake\", \"oclock\", \"claw\", \"highway\", \"waves\", \"desk\", \"thank\", \"stood\", \"curve\", \"steel\", \"diamonds\", \"pale\", \"sang\", \"hills\", \"drowning\", \"foot\", \"rivers\", \"golden\", \"higher\", \"order\", \"stars\", \"river\", \"edge\", \"tide\", \"water\", \"sky\", \"clouds\", \"sea\", \"wind\", \"giving\", \"grip\", \"stone\", \"black\", \"sun\", \"set\", \"blood\", \"trees\", \"rain\", \"earth\", \"moon\", \"air\", \"blue\", \"hey\", \"light\", \"run\", \"came\", \"saw\", \"ground\", \"took\", \"cold\", \"old\", \"home\", \"heart\", \"eyes\", \"away\", \"hands\", \"hand\", \"like\", \"long\", \"said\", \"come\", \"day\", \"man\", \"night\", \"dream\", \"ooh\", \"wanna\", \"doo\", \"guy\", \"ohoh\", \"shout\", \"ahh\", \"oohooh\", \"whoa\", \"killed\", \"woah\", \"kinda\", \"ignore\", \"covered\", \"uhhuh\", \"killer\", \"dive\", \"callin\", \"everybodys\", \"huh\", \"beg\", \"gon\", \"poison\", \"boyfriend\", \"nothin\", \"shy\", \"colder\", \"makin\", \"scratch\", \"packed\", \"care\", \"girls\", \"aint\", \"ohh\", \"dont\", \"dance\", \"want\", \"got\", \"everybody\", \"hes\", \"need\", \"bad\", \"kiss\", \"know\", \"come\", \"lets\", \"cause\", \"help\", \"wants\", \"pick\", \"let\", \"ive\", \"really\", \"leave\", \"girl\", \"gotta\", \"hey\", \"boy\", \"wont\", \"say\", \"youve\", \"way\", \"said\", \"ill\", \"like\", \"day\", \"feel\", \"bye\", \"bang\", \"daddy\", \"veins\", \"stronger\", \"modern\", \"pool\", \"wheels\", \"spread\", \"niggas\", \"owe\", \"woo\", \"easier\", \"hurry\", \"celebrate\", \"date\", \"kills\", \"rhyme\", \"setting\", \"rent\", \"matters\", \"ladder\", \"charm\", \"ivory\", \"trigger\", \"waitin\", \"harmony\", \"emotional\", \"exit\", \"shades\", \"mean\", \"ain\", \"lean\", \"bout\", \"yeah\", \"ride\", \"baby\", \"wait\", \"gonna\", \"love\", \"shes\", \"comes\", \"money\", \"loves\", \"pushing\", \"goes\", \"hello\", \"sweet\", \"right\", \"getting\", \"world\", \"alright\", \"play\", \"forever\", \"gotta\", \"boy\", \"better\", \"know\", \"man\", \"free\", \"grow\", \"girl\", \"like\", \"youre\", \"hope\", \"time\", \"hold\", \"way\", \"make\", \"important\", \"willing\", \"desire\", \"monkey\", \"heavy\", \"shoot\", \"whod\", \"difficult\", \"pot\", \"lipstick\", \"cancer\", \"waited\", \"amp\", \"venom\", \"goin\", \"disco\", \"rate\", \"common\", \"hollow\", \"wearing\", \"dare\", \"sex\", \"ceiling\", \"weird\", \"hardly\", \"mark\", \"pocket\", \"numbers\", \"blows\", \"sunday\", \"answers\", \"bands\", \"dip\", \"probably\", \"metal\", \"blade\", \"capital\", \"key\", \"rocking\", \"tattoo\", \"heaven\", \"chords\", \"breathing\", \"arrived\", \"teeth\", \"living\", \"nose\", \"feeling\", \"drop\", \"fuck\", \"moment\", \"screaming\", \"somebody\", \"silent\", \"don\", \"ask\", \"tell\", \"kick\", \"arm\", \"beat\", \"like\", \"cut\", \"try\", \"mouth\", \"pull\", \"miss\", \"waiting\", \"head\", \"hell\", \"stop\", \"face\", \"heart\", \"got\", \"night\", \"alright\"], \"Total\": [12119.0, 8577.0, 11428.0, 6250.0, 6498.0, 4002.0, 3452.0, 11100.0, 3358.0, 3768.0, 2562.0, 3023.0, 4758.0, 1549.0, 3449.0, 7242.0, 1807.0, 2157.0, 1398.0, 3661.0, 6828.0, 1236.0, 1419.0, 1009.0, 3789.0, 1360.0, 4809.0, 4644.0, 958.0, 1394.0, 709.7709925453864, 389.9653837809513, 287.8516945400027, 277.78370727469854, 217.61421664084887, 214.50120613816483, 207.41527805809685, 206.30048849253376, 192.89098035264965, 188.79185003403677, 181.93464091460237, 179.78858770868942, 167.2592069079661, 163.0924073453122, 151.00584301174985, 146.97235116416766, 144.85723482064648, 158.27364004845975, 127.75965678185825, 127.4888170390791, 122.65277725800289, 126.88288347405518, 186.75104165309293, 111.4522041464413, 112.90321732365044, 109.02422395342703, 106.69079449775862, 110.06068807643271, 193.6873197455427, 104.39962123773599, 149.5610537890008, 519.8852396576129, 976.7004808277293, 423.0792348319, 164.806753473499, 1772.5479297653505, 511.8339066734152, 377.34679056232306, 303.03611544999853, 295.11723569835164, 423.71245719510586, 587.1082391015645, 1382.3026045889671, 1186.0077640635934, 1032.4431016065987, 1074.7733669872487, 1588.673915454746, 4644.30432166507, 1219.5208064914113, 6828.004805701483, 1309.1567432006914, 4495.648712154778, 312.9135009212486, 7242.82381330285, 3212.455532978315, 3170.452379662227, 3505.4987710921096, 4809.706125777843, 2344.3290716056604, 472.4876379359306, 774.5345129864334, 941.227691797141, 2994.3228531179266, 1099.0119735220894, 2430.405755945281, 2641.5771330840685, 1793.7420866078933, 1708.5462875397614, 4176.954913769594, 1174.9031295183718, 1862.7163739659281, 1417.058627300618, 4124.825476770801, 1483.5200967915157, 3789.0736192892778, 4737.735976282567, 2311.3324168955155, 3163.3749500506847, 11428.874601889816, 1610.1889193405545, 2226.307581961807, 11100.18301418162, 3449.327804506273, 3926.8680152714305, 3013.864997179247, 3661.411802242441, 8577.35052026956, 6250.115915896264, 2888.4248390817215, 998.4298045340253, 368.65341828247387, 397.60705799435425, 285.3051978685812, 248.44782625972115, 258.9745953358677, 237.7663809072449, 213.70502796957416, 216.32329231000236, 211.92031283736114, 209.1327191341729, 199.5450245188745, 189.41801972370246, 215.24372806471118, 212.69492562813255, 183.65335359873276, 260.59110385509376, 212.1532980778155, 166.78638389402417, 162.55862838168278, 201.89202165107665, 151.41252482960917, 130.13057844204542, 131.60834037048068, 130.1923254021257, 111.95375020058255, 113.7895735477057, 111.1616153977108, 106.82008340638077, 291.2933149399976, 414.94078852559744, 244.60165422265231, 808.516173800746, 423.2505129393975, 368.20625003041687, 164.11297107731167, 952.5258824310628, 973.6420685682883, 268.2137573338674, 701.1242953303213, 642.8241720859841, 612.8261884427206, 264.625183040327, 367.4834775924927, 1059.0411127161015, 1555.7963005521235, 692.2896820718078, 852.3679407241316, 377.6540101970012, 746.3807031591181, 504.3404386240444, 583.4606604181937, 758.0738677616267, 856.4961699499348, 1670.4325812156526, 2090.9040504389836, 1630.5595349270536, 1075.094978628081, 1052.650051463989, 788.6470927227485, 914.2291737432043, 1058.6198508279163, 1785.5370197167233, 2704.0948811135327, 3003.8210729662533, 3013.864997179247, 4124.825476770801, 1269.5783458964831, 1448.2748207835011, 11100.18301418162, 2758.4773118240105, 3110.1367851213136, 4758.362539054952, 2888.4248390817215, 2322.461689628027, 3163.3749500506847, 1386.8063811376794, 1549.8674579979431, 3452.1537884220456, 265.01151838817003, 238.27544426841663, 209.54357048785914, 201.00359279028936, 180.82440521942078, 152.15202847232075, 235.01572144858585, 149.56967083951886, 144.87511022502244, 141.36397925948262, 140.66005565376926, 136.17089848266295, 125.62691094917207, 114.18540782508735, 127.58727606458356, 105.28862172581576, 192.19771223127526, 97.05257102155288, 96.94027762261658, 123.70698041643249, 129.85427664007403, 83.19750230656942, 141.14047613488884, 100.31731396763188, 70.29418732993365, 61.91218657947217, 63.64169037276435, 59.20005747235804, 1236.697702590456, 524.0733774768626, 1398.1101182529237, 98.30783846984741, 12119.273136879397, 787.3541854216244, 6250.115915896264, 6498.077693349522, 731.6407138274126, 1065.5182854988504, 3023.912358096403, 1394.4422895749567, 661.1768613157477, 11428.874601889816, 4758.362539054952, 1156.866480574408, 3661.411802242441, 983.5566705134589, 508.5793959175465, 362.79227168720627, 3926.8680152714305, 3789.0736192892778, 1590.596429309539, 2036.825977737568, 1511.2072326596335, 1051.545496253757, 1670.4325812156526, 1004.1349744816506, 2994.3228531179266, 4809.706125777843, 1722.2849041092786, 4737.735976282567, 3110.1367851213136, 4644.30432166507, 11100.18301418162, 2888.4248390817215, 4495.648712154778, 235.93688768393483, 193.57632974058615, 200.13567149729857, 162.0580639796306, 159.10069593161546, 143.8272884775602, 129.69536755338638, 129.31225903370412, 125.68503751401843, 115.19316037750177, 111.92495796929413, 110.27328223658996, 108.13989863226996, 106.17981653540281, 93.24695164997337, 82.3446011866036, 79.79600987123723, 78.76009070690533, 81.34193541640252, 76.6819522638769, 75.12058236735379, 74.30604459192763, 72.55727325317032, 65.46995576866848, 62.0167918351224, 67.55478409198716, 61.563790038218414, 59.523611157491914, 58.52089687912782, 57.0191284856741, 958.944101938761, 148.49165900654606, 124.14987042601263, 282.1321217764378, 4002.17477753304, 610.2979033327978, 2562.3201460219507, 1419.5015067774634, 3358.395318118937, 8577.35052026956, 1335.1285178094986, 1026.7210791975588, 709.116196648262, 327.9334624942348, 153.43720569318245, 970.3677787543813, 231.72261708510715, 830.306163235882, 3449.327804506273, 966.375113600486, 2365.032431689264, 1157.7035328716415, 989.8538055390396, 841.1923103222256, 1051.545496253757, 1004.1349744816506, 1947.5695909993287, 11428.874601889816, 2322.461689628027, 1034.9993570732881, 538.2987214865396, 1511.2072326596335, 11100.18301418162, 7242.82381330285, 1125.8861800668785, 6828.004805701483, 1738.9355215043702, 4737.735976282567, 4176.954913769594, 1009.0153015932844, 283.04718320728904, 189.10505949067874, 165.0854547528267, 188.6203231206496, 152.15688851612822, 141.52320891489094, 139.09048813191717, 140.69277837701048, 141.37877307049644, 147.9898472318098, 124.68615745658482, 119.14714168254152, 160.65511159060193, 115.97464250614084, 139.33624032871552, 137.37011929482347, 105.1365331534017, 103.74781580440751, 102.22417792726252, 100.52601235941488, 97.69761371907121, 95.74211053546756, 93.67415053145415, 92.1563881431066, 92.04142068671645, 90.58333525883933, 87.89072626186619, 85.87247630866547, 84.39025193318075, 174.2982129083789, 158.53013791191466, 266.19447258336686, 787.445828259679, 188.40897220954935, 167.03444525116495, 377.1082040216705, 229.83172036994318, 152.37695092616377, 164.6477517502559, 348.7615686592726, 140.89031812376464, 388.0470707267881, 535.2766878988957, 405.42282622182205, 1360.0329907302805, 239.52728394599728, 1807.2880287999717, 461.9274039379077, 990.9465076212648, 705.2586114033403, 422.1351819383904, 678.9743384153232, 249.361036692727, 1143.5884975150323, 921.5858305371562, 3768.700765115022, 280.87006080319964, 264.0493409279731, 473.6208948342699, 11100.18301418162, 705.7270849543481, 2157.2113850592073, 593.087989040699, 557.4293949469406, 677.5658352771081, 1248.351511025377, 2044.4761478988098, 820.574567674728, 1150.2541187923257, 1592.0412336862667, 3003.8210729662533, 6498.077693349522, 3163.3749500506847, 1157.7035328716415], \"loglift\": [30.0, 29.0, 28.0, 27.0, 26.0, 25.0, 24.0, 23.0, 22.0, 21.0, 20.0, 19.0, 18.0, 17.0, 16.0, 15.0, 14.0, 13.0, 12.0, 11.0, 10.0, 9.0, 8.0, 7.0, 6.0, 5.0, 4.0, 3.0, 2.0, 1.0, 0.9904, 0.9895, 0.9888, 0.9887, 0.988, 0.988, 0.9878, 0.9878, 0.9876, 0.9875, 0.9873, 0.9873, 0.9869, 0.9867, 0.9864, 0.9863, 0.9862, 0.9857, 0.9856, 0.9855, 0.9853, 0.9852, 0.9849, 0.9847, 0.9847, 0.9844, 0.9843, 0.9843, 0.9842, 0.9842, 0.9837, 0.971, 0.9598, 0.9647, 0.9773, 0.9207, 0.9524, 0.959, 0.9623, 0.962, 0.951, 0.9309, 0.8943, 0.9004, 0.8858, 0.8769, 0.8523, 0.7708, 0.8547, 0.7256, 0.8467, 0.7443, 0.9485, 0.6919, 0.7622, 0.7444, 0.735, 0.6974, 0.7659, 0.9115, 0.8563, 0.8319, 0.6824, 0.8022, 0.6873, 0.6692, 0.7284, 0.7357, 0.573, 0.7851, 0.6875, 0.7405, 0.4866, 0.7182, 0.4519, 0.3475, 0.5745, 0.3964, -0.166, 0.6858, 0.5274, -0.3501, 0.2728, 0.1289, 0.2756, 0.1286, -0.6003, -0.3642, 0.2941, 1.5275, 1.5262, 1.526, 1.5255, 1.5249, 1.5249, 1.5248, 1.5248, 1.5247, 1.5247, 1.5246, 1.5245, 1.5243, 1.5243, 1.5241, 1.524, 1.5239, 1.5237, 1.5237, 1.5235, 1.5233, 1.5233, 1.5224, 1.5222, 1.5218, 1.5215, 1.5214, 1.5213, 1.521, 1.5209, 1.5205, 1.5119, 1.4866, 1.4985, 1.5007, 1.5159, 1.4547, 1.4437, 1.4954, 1.4374, 1.4206, 1.4162, 1.4854, 1.4405, 1.2895, 1.1865, 1.3234, 1.2835, 1.4152, 1.2684, 1.3343, 1.2942, 1.2198, 1.1877, 0.9899, 0.927, 0.9628, 1.0861, 1.0891, 1.1304, 1.0674, 0.9645, 0.7318, 0.5346, 0.4853, 0.4776, 0.3073, 0.867, 0.7556, -0.4929, 0.3358, 0.2067, -0.2544, 0.1213, 0.2974, -0.0909, 0.68, 1.8995, 1.8993, 1.8971, 1.8967, 1.8964, 1.8961, 1.8958, 1.895, 1.8948, 1.8948, 1.8948, 1.8946, 1.8945, 1.894, 1.8939, 1.8933, 1.8931, 1.8928, 1.8926, 1.8921, 1.892, 1.8915, 1.8912, 1.8908, 1.8906, 1.8902, 1.8886, 1.8877, 1.8876, 1.8864, 1.878, 1.8716, 1.8583, 1.8802, 1.7345, 1.7522, 1.5741, 1.5487, 1.719, 1.6688, 1.5447, 1.5579, 1.646, 1.0825, 1.2387, 1.4386, 1.1067, 1.4014, 1.5564, 1.6425, 0.8572, 0.8571, 1.1187, 0.992, 1.1038, 1.1345, 0.9077, 1.1086, 0.4516, 0.1703, 0.7667, 0.0548, 0.3243, -0.0059, -0.7209, 0.3565, -0.0627, 1.9235, 1.9228, 1.9227, 1.922, 1.9219, 1.9214, 1.9208, 1.9207, 1.9206, 1.9201, 1.9198, 1.9198, 1.9196, 1.9195, 1.9186, 1.9173, 1.9171, 1.917, 1.917, 1.9167, 1.9164, 1.9163, 1.9162, 1.9151, 1.9145, 1.9143, 1.9141, 1.9139, 1.9132, 1.9132, 1.9068, 1.9103, 1.9118, 1.8952, 1.8387, 1.8577, 1.7742, 1.7863, 1.7218, 1.6321, 1.6775, 1.6973, 1.6746, 1.761, 1.8279, 1.5366, 1.7593, 1.506, 1.1813, 1.4434, 1.2009, 1.3681, 1.3355, 1.3776, 1.288, 1.2983, 1.0921, 0.4908, 1.0159, 1.2412, 1.4787, 1.088, 0.2679, 0.2186, 1.1144, 0.1326, 0.868, 0.1141, 0.1985, 2.1432, 2.1427, 2.1421, 2.1415, 2.1412, 2.141, 2.1407, 2.1406, 2.1406, 2.14, 2.1398, 2.1397, 2.1395, 2.1394, 2.1392, 2.1387, 2.1385, 2.1385, 2.1384, 2.1382, 2.138, 2.1378, 2.1376, 2.1374, 2.1373, 2.1372, 2.1371, 2.137, 2.1366, 2.1365, 2.1357, 2.1342, 2.1253, 2.1033, 2.1275, 2.1296, 2.112, 2.1182, 2.1265, 2.1221, 2.0891, 2.1249, 2.0546, 2.0288, 2.0302, 1.8813, 2.0707, 1.832, 1.9932, 1.8922, 1.9221, 1.9705, 1.8823, 2.0382, 1.7313, 1.7723, 1.4504, 2.012, 2.0221, 1.8794, 1.0765, 1.7512, 1.3854, 1.7772, 1.6966, 1.5976, 1.2796, 0.9982, 1.4496, 1.2519, 0.9899, 0.4347, -0.1477, 0.3269, 1.0393], \"logprob\": [30.0, 29.0, 28.0, 27.0, 26.0, 25.0, 24.0, 23.0, 22.0, 21.0, 20.0, 19.0, 18.0, 17.0, 16.0, 15.0, 14.0, 13.0, 12.0, 11.0, 10.0, 9.0, 8.0, 7.0, 6.0, 5.0, 4.0, 3.0, 2.0, 1.0, -5.9709, -6.5707, -6.8749, -6.9107, -7.1555, -7.17, -7.2037, -7.2091, -7.2765, -7.2981, -7.3353, -7.3472, -7.4198, -7.4452, -7.5225, -7.5497, -7.5643, -7.4763, -7.6905, -7.6927, -7.7316, -7.6978, -7.3115, -7.8279, -7.815, -7.8502, -7.872, -7.8409, -7.2758, -7.8939, -7.5348, -6.3016, -5.6823, -6.514, -7.4441, -5.1254, -6.3359, -6.6341, -6.8501, -6.8768, -6.5262, -6.2201, -5.4004, -5.5475, -5.7008, -5.6694, -5.3033, -4.3121, -5.5654, -3.9718, -5.5024, -4.3711, -6.8318, -3.9466, -4.6892, -4.7202, -4.6291, -4.3505, -5.0006, -6.4567, -6.0177, -5.8471, -4.8394, -5.7219, -5.0431, -4.9779, -5.3057, -5.3471, -4.6159, -5.6722, -5.309, -5.5294, -4.7148, -5.5059, -4.8345, -4.7154, -5.2062, -5.0704, -4.3484, -5.4563, -5.2907, -4.5616, -5.1075, -5.1217, -5.2396, -5.192, -5.0696, -5.1501, -5.2636, -5.0925, -6.0901, -6.0147, -6.3472, -6.4861, -6.4446, -6.5301, -6.6369, -6.6247, -6.6453, -6.6586, -6.7057, -6.758, -6.6302, -6.6422, -6.7892, -6.4393, -6.6452, -6.8859, -6.9117, -6.6952, -6.983, -7.1353, -7.1242, -7.1355, -7.2866, -7.2704, -7.2939, -7.3341, -6.331, -5.9776, -6.5147, -5.3444, -5.9798, -6.1169, -6.9098, -5.2124, -5.2015, -6.4391, -5.5361, -5.6398, -5.6919, -6.4626, -6.179, -5.2716, -4.99, -5.6628, -5.4947, -6.1771, -5.6426, -5.9687, -5.8631, -5.6756, -5.5857, -5.1155, -4.9539, -5.1668, -5.46, -5.478, -5.7255, -5.6407, -5.597, -5.3069, -5.0891, -5.0333, -5.0376, -4.8941, -5.5128, -5.4925, -4.7044, -5.268, -5.2771, -5.3129, -5.4364, -5.4785, -5.5577, -5.6115, -4.2808, -3.4802, -6.0493, -6.1561, -6.2849, -6.3268, -6.4329, -6.6064, -6.1718, -6.6237, -6.6556, -6.6803, -6.6854, -6.7183, -6.799, -6.8951, -6.7844, -6.9767, -6.3751, -7.0588, -7.0601, -6.8168, -6.7686, -7.2142, -6.6859, -7.0277, -7.3849, -7.5128, -7.4854, -7.559, -4.5281, -5.393, -4.4251, -7.0579, -2.3892, -5.1054, -3.2117, -3.1983, -5.2119, -4.8862, -3.9672, -4.7281, -5.3862, -3.0998, -3.8199, -5.0342, -4.2139, -5.2337, -5.7382, -5.9899, -4.3934, -4.4293, -5.0356, -4.9151, -5.1018, -5.4337, -5.1977, -5.5058, -5.0702, -4.8776, -5.3081, -5.0082, -5.1595, -5.0888, -4.9324, -5.2012, -5.1781, -6.1391, -6.3378, -6.3045, -6.5163, -6.5348, -6.6362, -6.7402, -6.7433, -6.7719, -6.8595, -6.8886, -6.9035, -6.9232, -6.9416, -7.0724, -7.198, -7.2297, -7.2428, -7.2106, -7.2699, -7.2908, -7.3017, -7.3257, -7.4295, -7.4844, -7.399, -7.4921, -7.5259, -7.5437, -7.5697, -4.7536, -6.6154, -6.7929, -5.9886, -3.3929, -5.2546, -3.9034, -4.4819, -3.6852, -2.8372, -4.6519, -4.8948, -5.2876, -5.9725, -6.6651, -5.112, -6.3214, -5.2984, -4.199, -5.2093, -4.5568, -5.104, -5.2932, -5.4138, -5.2802, -5.316, -4.8598, -3.6916, -4.76, -5.3429, -5.7591, -5.1176, -3.9436, -4.4199, -5.3855, -4.5648, -5.1972, -4.9488, -4.9904, -4.4663, -5.7379, -6.1418, -6.2782, -6.1453, -6.3603, -6.4331, -6.4505, -6.439, -6.4347, -6.3892, -6.5607, -6.6063, -6.3076, -6.6337, -6.4507, -6.465, -6.7325, -6.7459, -6.7608, -6.7778, -6.8066, -6.827, -6.849, -6.8655, -6.8668, -6.8829, -6.9132, -6.9367, -6.9543, -6.2297, -6.3261, -5.8167, -4.7542, -6.1602, -6.2785, -5.4817, -5.9706, -6.3734, -6.3003, -5.5827, -6.4533, -5.5105, -5.2147, -5.4911, -4.4296, -5.9769, -4.1946, -5.3976, -4.7354, -5.0455, -5.5104, -5.1234, -5.9691, -4.753, -4.9279, -3.8413, -5.8764, -5.928, -5.4864, -3.1351, -5.2158, -4.4643, -5.3637, -5.5063, -5.4102, -5.1171, -4.9051, -5.3666, -5.2266, -5.1635, -5.0839, -4.8947, -5.1399, -5.4327]}, \"token.table\": {\"Topic\": [3, 2, 4, 5, 1, 3, 4, 5, 1, 2, 4, 5, 1, 3, 4, 5, 5, 2, 3, 5, 1, 4, 5, 2, 4, 5, 1, 2, 3, 4, 5, 1, 2, 3, 4, 5, 1, 2, 3, 4, 5, 1, 2, 3, 4, 5, 4, 5, 4, 1, 2, 4, 5, 3, 1, 1, 2, 3, 4, 5, 1, 1, 2, 3, 4, 5, 1, 2, 3, 4, 5, 2, 5, 1, 2, 3, 4, 5, 5, 1, 2, 4, 5, 2, 4, 5, 1, 3, 4, 5, 3, 2, 5, 4, 3, 1, 2, 3, 4, 5, 5, 2, 5, 1, 2, 3, 4, 5, 1, 2, 3, 4, 5, 5, 4, 1, 3, 4, 5, 1, 4, 2, 5, 1, 2, 1, 2, 3, 4, 5, 2, 4, 5, 1, 1, 2, 3, 4, 5, 3, 1, 2, 3, 4, 5, 2, 3, 4, 5, 5, 3, 2, 1, 2, 3, 4, 5, 2, 4, 1, 3, 4, 5, 5, 4, 1, 2, 3, 4, 5, 5, 2, 2, 2, 5, 2, 5, 1, 4, 5, 3, 1, 3, 4, 5, 1, 2, 3, 4, 5, 3, 1, 2, 3, 4, 5, 1, 1, 2, 4, 5, 2, 1, 2, 4, 5, 4, 1, 2, 4, 1, 4, 1, 2, 3, 4, 5, 3, 4, 1, 4, 4, 1, 2, 3, 4, 5, 1, 2, 3, 4, 5, 2, 2, 1, 3, 4, 5, 1, 2, 3, 4, 5, 2, 1, 2, 4, 5, 1, 2, 3, 4, 5, 1, 2, 3, 4, 5, 1, 2, 4, 5, 1, 2, 3, 4, 5, 1, 2, 3, 4, 5, 1, 2, 3, 4, 5, 1, 3, 4, 5, 1, 2, 3, 1, 1, 2, 4, 5, 5, 1, 2, 3, 4, 5, 2, 1, 2, 3, 4, 1, 2, 3, 4, 5, 1, 2, 3, 4, 5, 1, 4, 1, 2, 3, 4, 5, 1, 3, 4, 5, 1, 2, 4, 1, 2, 3, 4, 5, 1, 3, 4, 5, 3, 1, 2, 4, 5, 1, 2, 3, 4, 5, 1, 2, 4, 5, 1, 2, 3, 5, 5, 4, 1, 2, 3, 4, 5, 1, 2, 3, 4, 5, 1, 2, 3, 4, 5, 3, 5, 5, 1, 2, 3, 4, 5, 1, 4, 1, 3, 4, 5, 1, 2, 3, 4, 5, 1, 2, 3, 4, 2, 4, 2, 2, 1, 2, 3, 4, 5, 5, 2, 1, 2, 3, 4, 5, 2, 1, 2, 3, 4, 5, 3, 4, 3, 1, 2, 3, 4, 5, 2, 4, 5, 1, 1, 2, 3, 4, 5, 4, 4, 5, 2, 3, 4, 5, 3, 3, 4, 3, 1, 2, 3, 4, 5, 1, 2, 3, 4, 5, 4, 1, 2, 1, 4, 4, 5, 1, 2, 3, 4, 5, 1, 2, 5, 1, 2, 3, 4, 5, 1, 2, 3, 4, 5, 1, 2, 3, 4, 5, 2, 1, 2, 3, 4, 5, 1, 2, 3, 4, 5, 5, 1, 2, 4, 5, 1, 1, 2, 3, 4, 5, 1, 2, 3, 4, 5, 1, 3, 5, 1, 2, 3, 4, 5, 1, 2, 3, 4, 5, 1, 2, 3, 4, 5, 3, 1, 2, 3, 4, 5, 5, 4, 1, 3, 4, 5, 1, 3, 4, 4, 5, 1, 2, 3, 4, 5, 1, 2, 4, 5, 4, 1, 2, 3, 5, 1, 3, 4, 5, 5, 1, 2, 4, 5, 1, 2, 3, 4, 5, 1, 1, 1, 2, 3, 4, 5, 1, 3, 5, 1, 2, 3, 4, 5, 1, 4, 1, 2, 3, 4, 5, 2, 4, 5, 3, 4, 1, 5, 5, 2, 2, 3, 3, 1, 2, 3, 4, 5, 3, 3, 2, 1, 2, 4, 3, 2, 1, 1, 2, 2, 3, 4, 5, 1, 2, 3, 4, 5, 1, 2, 3, 4, 5, 5, 1, 3, 4, 5, 1, 2, 4, 5, 1, 2, 3, 4, 5, 2, 4, 5, 1, 2, 4, 5, 5, 1, 1, 2, 3, 4, 5, 1, 2, 3, 4, 5, 1, 4, 4, 4, 5, 1, 2, 3, 4, 5, 1, 2, 4, 5, 2, 4, 5, 1, 2, 3, 4, 5, 1, 1, 2, 3, 4, 5, 2, 1, 1, 3, 5, 1, 2, 3, 5, 1, 2, 3, 4, 5, 3, 2, 5, 1, 2, 3, 4, 5, 1, 1, 2, 4, 5, 4, 1, 2, 3, 4, 5, 5, 3, 1, 2, 3, 1, 2, 3, 4, 5, 1, 1, 2, 4, 5, 1, 1, 2, 3, 4, 5, 1, 4, 2, 4, 1, 2, 4, 5, 1, 2, 3, 4, 5, 1, 2, 1, 2, 2, 1, 2, 3, 4, 5, 4, 1, 1, 2, 3, 4, 5, 5, 1, 2, 3, 4, 5, 2, 5, 1, 2, 3, 4, 5, 1, 2, 3, 4, 5, 2, 2, 1, 2, 3, 4, 5, 1, 2, 3, 4, 5, 1, 2, 3, 4, 5, 1, 2, 3, 4, 5, 1, 2, 5, 1, 2, 3, 4, 5, 1, 2, 3, 4, 5, 2, 3, 4, 5, 4, 1, 3, 4, 5, 1, 2, 3, 4, 5, 1, 2, 3, 4, 5, 3, 1, 4, 3, 5, 1, 1, 3, 4, 5, 5, 4, 1, 2, 4, 5, 1, 3, 1, 2, 3, 4, 5, 1, 3, 4, 5, 1, 2, 3, 5, 1, 2, 4, 5, 2, 5, 1, 2, 3, 4, 5, 1, 2, 3, 4, 5, 5, 5, 4, 2, 3, 5, 5, 1, 2, 4, 5, 3, 1, 2, 3, 4, 5, 4, 1, 2, 3, 4, 5, 1, 2, 3, 4, 5, 1, 2, 4, 5, 1, 3, 4, 1, 2, 3, 4, 5, 1, 2, 3, 4, 5, 2, 1, 2, 3, 4, 5], \"Freq\": [0.9954408520331068, 0.00673438499300433, 0.9832202089786322, 0.00673438499300433, 0.006437261187442364, 0.9591519169289123, 0.03290155718026097, 0.0007152512430491516, 0.24799694066108588, 0.7347568933416214, 0.010553061304727059, 0.007914795978545294, 0.08810545800701904, 0.008637790000688142, 0.5718216980455549, 0.3308273570263558, 0.990372058730557, 0.005737293477160647, 0.005737293477160647, 0.9868144780716314, 0.007574341950527937, 0.10982795828265508, 0.8824108372365046, 0.10835517651191859, 0.0018681926984813549, 0.889259724477125, 0.16927343588721816, 0.050999047991661876, 0.01953155029467902, 0.07270077054130523, 0.6879446048236942, 0.6036619037635852, 0.29504278589569605, 0.10036788279442742, 0.0007273034985103437, 0.00048486899900689577, 0.029270347078384752, 0.0007805425887569267, 0.054637981212984875, 0.8585968476326195, 0.05697960897925566, 0.2567334644656559, 0.01577691681073863, 0.7106783890655447, 0.012191253899207125, 0.00501992807614411, 0.006307948842860641, 0.9903479683291206, 0.9970227261702994, 0.059119013340401295, 0.09501270001135922, 0.0802329466762589, 0.766435780091631, 0.990300444297498, 0.9933390457502258, 0.8654425880509811, 0.006874654274014854, 0.0893705055621931, 0.03742867326963643, 0.0007638504748905394, 0.9971774976362754, 0.436954861039568, 0.008728828011366223, 0.11552860603278825, 0.433874098212027, 0.00462114424131153, 0.003777001621534107, 0.7875048380898613, 0.00566550243230116, 0.07459578202529861, 0.12841805513215962, 0.011973578246047735, 0.9818334161759142, 0.015251629465270377, 0.7825259117950263, 0.13257185612119635, 0.007039213599355559, 0.06335292239420003, 0.9898398608475039, 0.03736152142031238, 0.7110364545303199, 0.18680760710156188, 0.0642151149411619, 0.017722193306163175, 0.9676317545165093, 0.010633315983697905, 0.0109547025843596, 0.45312633417123804, 0.5337927804742496, 0.0029876461593708005, 0.9856065113330348, 0.08504122950391829, 0.9122604619511235, 0.9960290750075932, 0.9972587567290285, 0.05301857150587494, 0.6427339107115716, 0.15626526338573665, 0.07069142867449991, 0.07720248131557228, 0.9933113841907053, 0.03182110564561046, 0.9652402045835173, 0.01374628574500531, 0.0016172100876476834, 0.9784121030268484, 0.0032344201752953668, 0.0032344201752953668, 0.4219683781687055, 0.003004305605084635, 0.45228455291092323, 0.10078079711602093, 0.021849495309706434, 0.992248859657291, 0.9866274271929647, 0.8724738391804497, 0.00901993630731668, 0.11233920673658046, 0.006559953678048494, 0.9956138055327117, 0.9923195397486085, 0.01419543959183275, 0.9794853318364598, 0.9935252661580551, 0.9967327587807735, 0.8520786277215182, 0.04143524498895163, 0.06693385728984495, 0.021248843584077762, 0.018061517046466097, 0.9693760774409379, 0.014913478114475968, 0.014913478114475968, 0.9958056980007663, 0.09918574634500053, 0.5686649457113364, 0.07462546629766706, 0.1775897172653343, 0.07934859707600042, 0.9958149124257907, 0.20217038783914532, 0.1681250626520959, 0.5161439423419344, 0.1004547249346273, 0.013029692355537432, 0.011687692249757535, 0.09934538412293904, 0.7947630729835123, 0.09447551235220675, 0.9891899312321492, 0.9914012575689068, 0.9955816894408126, 0.0495942422307117, 0.10910733290756576, 0.12611107310095263, 0.04250935048346718, 0.6730647159882303, 0.9962367145140095, 0.994325491858587, 0.08890535072537316, 0.8623819020361195, 0.04445267536268658, 0.0038102293168017064, 0.9947674005258041, 0.9958151332128905, 0.4978492015936147, 0.24477008729254907, 0.21361123601061213, 0.026658128318990493, 0.016964263475721223, 0.9941563726869338, 0.9945638456330174, 0.9913119694419177, 0.9995695195274886, 0.9921598655194673, 0.018783260040961588, 0.9804861741381949, 0.9912884346390903, 0.005162960597078595, 0.9904099584891689, 0.995397064012196, 0.12854274095920393, 0.07257855441914235, 0.138161585520777, 0.6602025130897888, 0.11048517389424728, 0.000495079195941362, 0.8474930702522881, 0.04109157326313304, 0.000495079195941362, 0.9961831153818438, 0.4881719677729034, 0.42832222874018405, 0.01658486744280174, 0.010816217897479396, 0.05624433306689286, 0.9971787140347884, 0.002164842335559767, 0.004329684671119534, 0.13422022480470555, 0.8572775648816677, 0.9930611081218731, 0.11103610916622264, 0.822856880428257, 0.06146641757415896, 0.003965575327365094, 0.9894590373517346, 0.016295214976672315, 0.9722811602747815, 0.010863476651114876, 0.9940822091371007, 0.9912033032386677, 0.09430858438569135, 0.001366791078053498, 0.8351093486906872, 0.06970634498072839, 0.001366791078053498, 0.9937683325291925, 0.005202975562980066, 0.9724948775724895, 0.0271078711518464, 0.9910989593990039, 0.4887412015397565, 0.3497170579924666, 0.05275617857761119, 0.07067337130208291, 0.03815698450581941, 0.47172145049353337, 0.09107804303803241, 0.044596834866898624, 0.07851555434313139, 0.31469034180727057, 0.9985055131763663, 0.998473221281794, 0.7809773905392993, 0.14058037904324613, 0.026692477033527746, 0.05182789290676637, 0.2008534302310572, 0.006086467582759309, 0.005533152347963008, 0.056991469184018984, 0.7303761099311171, 0.9895502112527349, 0.3613917962273696, 0.058250651365595756, 0.5777513584424395, 0.0023775776067590107, 0.8740733803967471, 0.011619882457268424, 0.0916679616073398, 0.015493176609691232, 0.006455490254038014, 0.1323672319830234, 0.27149775319145675, 0.08502420740515372, 0.5033819552055123, 0.006763289225409955, 0.8136841038051309, 0.02042721599510789, 0.10128494597574328, 0.06468618398450832, 0.014127906897423303, 0.020182724139176145, 0.05045681034794037, 0.1392607965603154, 0.775016606944364, 0.0041391794384035225, 0.08381838362767134, 0.19971540790296996, 0.6167377363221249, 0.09520112708328102, 0.06087848047026982, 0.043673692511280525, 0.4512948226165654, 0.4321048668161543, 0.011911007048531052, 0.02098942719235083, 0.9712380400824157, 0.003816259489518333, 0.003816259489518333, 0.057112441765812955, 0.8942176596475857, 0.04732173746310216, 0.9919529237586892, 0.20404634648335493, 0.10408424744858004, 0.6770628769674959, 0.015458056551769314, 0.9915960723389233, 0.7376324271389759, 0.01181070844036206, 0.031137322251863615, 0.16696046931602732, 0.05207448721432363, 0.9982275539841239, 0.003432965841341008, 0.9921271281475513, 0.9942850402293177, 0.008083618213246485, 0.028585080345386597, 0.0008932837607933311, 0.15394256811005075, 0.814674789843518, 0.0017865675215866623, 0.724567144388241, 0.0359633640109106, 0.14498914122293433, 0.0927476229755063, 0.0015142469057225518, 0.979062225992833, 0.019235014263120492, 0.13757914912512775, 0.0029239416480731847, 0.7037465871915092, 0.05493932465063826, 0.10079904102568085, 0.0019019624040283692, 0.46502980778493624, 0.5277945671178724, 0.004754906010070923, 0.01133678951312363, 0.9560692489400928, 0.026452508863955136, 0.23457894121095474, 0.6720369667124649, 0.01648392559860763, 0.020287908429055545, 0.05705974245671872, 0.23778618616540906, 0.057588841961935006, 0.6390503753195369, 0.0668773648590213, 0.9988440090028482, 0.16157154473859353, 0.4619289035475174, 0.2672144778369047, 0.1090953165328965, 0.24102490483478217, 0.5159193224404651, 0.12838908329434476, 0.03308184968320539, 0.08112929803262275, 0.9419046832765293, 0.0017032634417297095, 0.056207693577080414, 0.0017032634417297095, 0.9314275638338079, 0.01523231025046203, 0.031028780139830063, 0.022002225917334042, 0.9874518938251912, 0.990842181128413, 0.4250477565576425, 0.04255368794075362, 0.13401966087087921, 0.08119439308235749, 0.31695160673113043, 0.7743424978582625, 0.16563788880868352, 0.025752887305943727, 0.013461736546288766, 0.021070544159408504, 0.30194874393911336, 0.3522180497106747, 0.13982191009308448, 0.02530110754065338, 0.18043684588202805, 0.05447847959005572, 0.943337883427807, 0.9967112604284278, 0.029247798975794593, 0.06702620598619595, 0.12552180393778514, 0.28029140685136483, 0.4984312408791662, 0.1510426579859712, 0.8458388847214386, 0.34568419918549825, 0.606980785040419, 0.042702165781738015, 0.004066872931594097, 0.030970843437520344, 0.09197401990536344, 0.793979804489158, 0.05255658280306483, 0.03190935384471793, 0.02155130377892959, 0.5836811440126763, 0.37056269553215043, 0.02394589308769954, 0.9929127513926821, 0.007229947218878753, 0.9964424630101758, 0.9914808552739524, 0.1328398880483847, 0.16734375507393917, 0.2576288737908067, 0.3467638636068224, 0.0954606987707007, 0.9927919850783429, 0.9956572693526201, 0.41418664996650917, 0.37017931840756757, 0.15679923177303562, 0.03513190334537355, 0.02366780856951481, 0.9967009294246716, 0.500938736068772, 0.004440946241744433, 0.039968516175699895, 0.4440946241744433, 0.009770081731837752, 0.9891546302125357, 0.9888885046716065, 0.9953074406895305, 0.8018423733836796, 0.03272826013810937, 0.14878439312785247, 0.012273097551791014, 0.0045216675190809, 0.0019821304957832672, 0.0009910652478916336, 0.9970116393789835, 0.9979978424830377, 0.5829921035987539, 0.002903084264185737, 0.35232886297163263, 0.025599924875092408, 0.0361565949266769, 0.9928218102005594, 0.026106057033129466, 0.9702751197313119, 0.0035603652348716553, 0.103250591811278, 0.017801826174358278, 0.8758498477784272, 0.9961912676793272, 0.9896185699410629, 0.9900244401628389, 0.9974252333487691, 0.006049818488868417, 0.09528464119967757, 0.7758892211973746, 0.012099636977736835, 0.11040918742184862, 0.3142916625759501, 0.0010499721466902564, 0.44160078536214364, 0.23790618890423393, 0.005249860733451282, 0.9958812961501536, 0.9920000745323204, 0.9977931364486219, 0.9895624311981439, 0.0066862326432307025, 0.9826832648424402, 0.008054780859364265, 0.5400559556991903, 0.02896663762386566, 0.4035690868952131, 0.016692638630702243, 0.011292079073710342, 0.9605570784825656, 0.03540136652884148, 0.0023600911019227657, 0.42196478047033775, 0.07945263217063692, 0.3524437273210304, 0.08607368485152332, 0.059844130000319476, 0.14954189001491508, 0.0008644039885255207, 0.6301505076351046, 0.13052500226735364, 0.08816920682960311, 0.7950304599647325, 0.0759543587436941, 0.05914478754631918, 0.05821092247979835, 0.011517669153756892, 0.9967767482336207, 0.12195681573550109, 0.5480882777760167, 0.0023913101124608056, 0.2104352898965509, 0.11669593348808732, 0.2614371309276971, 0.13252033755845707, 0.07270150401745402, 0.19035722179539077, 0.34296731820873294, 0.9902476656109547, 0.09926229798845591, 0.09999757426985188, 0.03382270894421461, 0.7668931614959964, 0.9989137446394907, 0.4933881435842062, 0.303428270521661, 0.10585550178294505, 0.09352986116438296, 0.0036251884172241455, 0.6288439258542746, 0.14283740601547096, 0.11498860358478165, 0.10645429316247364, 0.007186787724048853, 0.9587314037801822, 0.03834925615120729, 0.0031957713459339404, 0.203559362051713, 0.010959095093276644, 0.03963928012461765, 0.744868707988771, 0.0009326889441086505, 0.039642188086336405, 0.033543389919207724, 0.06098798167128677, 0.8477329452308862, 0.01829639450138603, 0.6581349468096361, 0.007900492267994904, 0.1355054128389429, 0.1776413716015824, 0.02082857052471384, 0.9852664454307188, 0.04865526975306036, 0.29193161851836213, 0.25447136658459, 0.4021594862775077, 0.0025834656506049745, 0.9886853040843301, 0.9850828849825214, 0.9071819700237646, 0.07017276801619231, 0.01591547315831166, 0.006510875382945678, 0.0010428136509502833, 0.017727832066154817, 0.9802448318932663, 0.015922808583995595, 0.9819065293463951, 0.7377368966535514, 0.0016458157203648664, 0.04814010982067234, 0.1958520707234191, 0.01686961113373988, 0.37191957870328285, 0.0014758713440606462, 0.04870375435400132, 0.5770656955277127, 0.9942480423129908, 0.021268793826072743, 0.17865786813901105, 0.0014179195884048495, 0.7982887282719303, 0.06910009985895885, 0.052177626424111785, 0.7770235718833943, 0.10153484060908238, 0.9934248916450459, 0.09083731534189882, 0.7918271639237218, 0.07883993407032727, 0.039419967035163636, 0.12139851308818059, 0.1112819703308322, 0.07418798022055481, 0.0033721809191161276, 0.6912970884188061, 0.998543442651399, 0.9930417448762054, 0.24107841553282192, 0.005621856054949208, 0.701078519793666, 0.028439977689743053, 0.024140911294781894, 0.9701813909652973, 0.023099556927745173, 0.0032999367039635965, 0.7365595339494205, 0.14780874290047394, 0.0341574826030507, 0.04844152078250827, 0.03291539232657613, 0.9970412036609207, 0.9896420900894494, 0.5516260410331824, 0.19820603308183685, 0.024341091781979966, 0.06385585116831108, 0.16216857252150288, 0.05844845634853178, 0.012524669217542524, 0.9268255220981468, 0.9919195671849733, 0.007085139765606953, 0.9959783803803994, 0.005354722475163437, 0.9898655262079379, 0.994221768616007, 0.01017212885121786, 0.9765243697169147, 0.9974059309641732, 0.29290907677902656, 0.4508447548893239, 0.03192316897974094, 0.20442029258956923, 0.02016200146088902, 0.9994403018184125, 0.9924284382936747, 0.9972686639509624, 0.012264839375408332, 0.9852754298244694, 0.9917359096123326, 0.9797287785925144, 0.995377645757342, 0.9948627654969727, 0.9829694268326794, 0.012135425022625672, 0.10749953359983694, 0.7717915232808805, 0.002756398297431716, 0.11576872849213209, 0.7610277760589463, 0.08695534376581407, 0.03909620107300167, 0.04044434593758794, 0.07279982268765829, 0.34146456588701707, 0.02222550428850407, 0.08082001559456026, 0.5536171068227378, 0.0020205003898640063, 0.9935602364698488, 0.0077009400527621305, 0.9934212668063148, 0.9946384549694873, 0.9950759492775524, 0.01142935764850104, 0.02793842980744699, 0.0012699286276112267, 0.957526185218865, 0.10943089932637358, 0.14530988271206985, 0.10046115347994952, 0.007175796677139251, 0.6368519550961086, 0.9981975038121162, 0.9059080512581055, 0.0912425375367876, 0.20766882013957444, 0.7717241316154508, 0.020096982594152366, 0.0013397988396101578, 0.990026074798094, 0.99405401672959, 0.4897533941643234, 0.0037721699165416435, 0.4576899498737194, 0.03960778412368726, 0.009430424791354109, 0.9131474791440993, 0.0455308992371019, 0.0016863296013741446, 0.027824438422673386, 0.011804307209619011, 0.9946778436445043, 0.9911067435851115, 0.9903492911183419, 0.9339701101499227, 0.06554176211578405, 0.4873413300423076, 0.010436816110364708, 0.01681487040003203, 0.474585221462973, 0.011016639227607192, 0.002362666953561811, 0.9710561179139042, 0.025989336489179917, 0.002362666953561811, 0.9923227601006368, 0.013125344665605797, 0.9778381775876319, 0.11775099031179473, 0.56790321369126, 0.2698460194645296, 0.042316762143301226, 0.0018398592236217926, 0.9975244372421179, 0.36397112995653835, 0.2665477621324826, 0.20674331851771569, 0.1289332359651695, 0.033439043741590097, 0.9908418149960609, 0.9961658045746141, 0.9612493302713715, 0.001953758801364576, 0.03712141722592695, 0.2906948986269709, 0.6440886969577982, 0.024699566550004066, 0.039899299811545025, 0.7451598717833062, 0.007069038962230025, 0.1773497127877121, 0.06965082506903113, 0.0008316516426152971, 0.9899171381368751, 0.15871692971039425, 0.8385939271265607, 0.0356570156910933, 0.9128196016919885, 0.00713140313821866, 0.018541648159368516, 0.025673051297587176, 0.9976633877860714, 0.18489369885874335, 0.8146878605963379, 0.99579632062291, 0.992859459995848, 0.9821265509884082, 0.0014979831329506273, 0.10111386147416734, 0.11459570967072298, 0.7797002207008015, 0.0029959662659012547, 0.992396739132809, 0.9950070902894933, 0.9672799905256281, 0.03180098598988366, 0.9868685283174855, 0.00802049921882737, 0.07619474257886001, 0.004010249609413685, 0.01604099843765474, 0.8982959125086655, 0.9933841218673739, 0.007189500357449932, 0.9192289742739556, 0.05238064546142093, 0.021568501072349797, 0.9961721964792767, 0.005891238849078905, 0.08689577302391385, 0.04712991079263124, 0.09278701187299275, 0.7673338600925274, 0.995380912311085, 0.9945495698806469, 0.9585460688520427, 0.03957867639131015, 0.9685671488543638, 0.006143132022332117, 0.001023855337055353, 0.023548672752273115, 0.7687838794081021, 0.005017443737978911, 0.21073263699511427, 0.010592381224622145, 0.004459949989314588, 0.9959426181841399, 0.9972754907160197, 0.08163632334313381, 0.917048032221203, 0.9965635267272855, 0.32340679674381, 0.00869373109526371, 0.1834377261100643, 0.07563546052879429, 0.4086053614773944, 0.9930817654494197, 0.9924715241017555, 0.07263161633685489, 0.710247221701103, 0.028924095001402386, 0.17804387367529914, 0.009641365000467462, 0.9953756278214485, 0.10718937657062286, 0.14332062710004628, 0.038540000564718326, 0.6563843846178591, 0.05419687579413515, 0.018220716457461966, 0.9778451165504588, 0.012332803376157988, 0.08632962363310591, 0.004933121350463195, 0.004933121350463195, 0.8904284037586067, 0.341496998624331, 0.013797858530276002, 0.10640271674308993, 0.03953617155790624, 0.49858031112285783, 0.9954252573092537, 0.9952850833763275, 0.6589272875104782, 0.05624461416701391, 0.10599946516091081, 0.1752236056741587, 0.003461207025662394, 0.7809611069647378, 0.17284599621028932, 0.023971342540113114, 0.0148243828866489, 0.007254485242402653, 0.7980961472778771, 0.0046921740353055305, 0.08787162284299449, 0.07080917180551982, 0.03924363738619171, 0.7736416918369361, 0.0008557983316780267, 0.13464560418400953, 0.08472403483612463, 0.005990588321746187, 0.99060553777604, 0.9871248990043799, 0.0060933635741011105, 0.7665489625358105, 0.006151138025698135, 0.03895720749608819, 0.16622718236112818, 0.021968350091779054, 0.2887678577561498, 0.6311327800200699, 0.027345441075392975, 0.044846523363644475, 0.008750541144125752, 0.8923511756811632, 0.047662674071990915, 0.042366821397325255, 0.01588755802399697, 0.9836045721644932, 0.4955471714102139, 0.0027813685953800597, 0.0343035460096874, 0.46726992402385, 0.8913507065079386, 0.0009304287124299984, 0.09397329995542984, 0.007443429699439987, 0.005582572274579991, 0.7783728765697759, 0.014819429200331182, 0.058572029696547054, 0.12772936596475926, 0.020464926038552586, 0.9950097399957106, 0.990362698117096, 0.9934710809592074, 0.0062245140543570375, 0.9959222486971261, 0.9933019117008968, 0.10355748077627461, 0.006340253925078037, 0.8693192603940331, 0.020429707091918117, 0.9944969235512472, 0.9917876416978593, 0.4077377209099664, 0.09372360185946182, 0.07850352976262615, 0.42055462372835434, 0.0005793484655022236, 0.9993761029913357, 0.25775521953163383, 0.0001599970326080905, 0.7219066111277044, 0.007359863499972164, 0.012639765576039151, 0.8998074553012854, 0.08523472127719388, 0.0019371527562998608, 0.013560069294099026, 0.27920910901986634, 0.005898783993377458, 0.7098203405364207, 0.005898783993377458, 0.01679744382290627, 0.9291086114545031, 0.004199360955726567, 0.04934249122978717, 0.9938942510640021, 0.0038374295407876528, 0.525145346312057, 0.10954599466879324, 0.1580923892233644, 0.16315809995949357, 0.04411389766045816, 0.9227754654167728, 0.002116457489488011, 0.048678522258224256, 0.012698744936928066, 0.014815202426416077, 0.9880245754763264, 0.992803238378684, 0.9975852325522924, 0.004255034488059851, 0.9956780702060051, 0.9963030168768602, 0.9963003228104124, 0.08400430840173348, 0.89760159162593, 0.01400071806695558, 0.0031112706815456847, 0.9939595543798848, 0.734055780829134, 0.011688786318935255, 0.2351115876722977, 0.01703223149330566, 0.002337757263787051, 0.9975217728986824, 0.8271065483361904, 0.07097283913115825, 0.02638733762568704, 0.054594491639352496, 0.02092788846175179, 0.3247312762858999, 0.08371978216745857, 0.09936438792602406, 0.48371429696753837, 0.008456543653278643, 0.9738128607604624, 0.0023636234484477243, 0.0023636234484477243, 0.021272611036029516, 0.00024986415026492293, 0.08370449033874917, 0.9157521107209425, 0.8699079065601784, 0.0018883673803766535, 0.030213878086026456, 0.0975656479861271, 0.0006294557934588845, 0.7411473947689612, 0.0008284061789518941, 0.0648918173512317, 0.18114481779748082, 0.012011889594802464, 0.9945837306622204, 0.6404283039166758, 0.0005806240289362428, 0.3222463360596148, 0.010451232520852371, 0.02670870533106717], \"Term\": [\"ahh\", \"ain\", \"ain\", \"ain\", \"aint\", \"aint\", \"aint\", \"aint\", \"air\", \"air\", \"air\", \"air\", \"alright\", \"alright\", \"alright\", \"alright\", \"amp\", \"answers\", \"answers\", \"answers\", \"arm\", \"arm\", \"arm\", \"arrived\", \"arrived\", \"arrived\", \"ask\", \"ask\", \"ask\", \"ask\", \"ask\", \"away\", \"away\", \"away\", \"away\", \"away\", \"baby\", \"baby\", \"baby\", \"baby\", \"baby\", \"bad\", \"bad\", \"bad\", \"bad\", \"bad\", \"bands\", \"bands\", \"bang\", \"beat\", \"beat\", \"beat\", \"beat\", \"beg\", \"beginning\", \"believe\", \"believe\", \"believe\", \"believe\", \"believe\", \"bet\", \"better\", \"better\", \"better\", \"better\", \"better\", \"black\", \"black\", \"black\", \"black\", \"black\", \"blade\", \"blade\", \"blood\", \"blood\", \"blood\", \"blood\", \"blood\", \"blows\", \"blue\", \"blue\", \"blue\", \"blue\", \"bout\", \"bout\", \"bout\", \"boy\", \"boy\", \"boy\", \"boy\", \"boyfriend\", \"breathing\", \"breathing\", \"bye\", \"callin\", \"came\", \"came\", \"came\", \"came\", \"came\", \"cancer\", \"capital\", \"capital\", \"care\", \"care\", \"care\", \"care\", \"care\", \"cause\", \"cause\", \"cause\", \"cause\", \"cause\", \"ceiling\", \"celebrate\", \"change\", \"change\", \"change\", \"change\", \"changing\", \"charm\", \"chords\", \"chords\", \"circles\", \"claw\", \"close\", \"close\", \"close\", \"close\", \"close\", \"clouds\", \"clouds\", \"clouds\", \"cmon\", \"cold\", \"cold\", \"cold\", \"cold\", \"cold\", \"colder\", \"come\", \"come\", \"come\", \"come\", \"come\", \"comes\", \"comes\", \"comes\", \"comes\", \"common\", \"covered\", \"curve\", \"cut\", \"cut\", \"cut\", \"cut\", \"cut\", \"cutting\", \"daddy\", \"dance\", \"dance\", \"dance\", \"dance\", \"dare\", \"date\", \"day\", \"day\", \"day\", \"day\", \"day\", \"desire\", \"desk\", \"diamonds\", \"died\", \"difficult\", \"dip\", \"dip\", \"disappear\", \"disappear\", \"disco\", \"dive\", \"don\", \"don\", \"don\", \"don\", \"dont\", \"dont\", \"dont\", \"dont\", \"dont\", \"doo\", \"dream\", \"dream\", \"dream\", \"dream\", \"dream\", \"driving\", \"drop\", \"drop\", \"drop\", \"drop\", \"drowning\", \"earth\", \"earth\", \"earth\", \"earth\", \"easier\", \"edge\", \"edge\", \"edge\", \"electric\", \"emotional\", \"everybody\", \"everybody\", \"everybody\", \"everybody\", \"everybody\", \"everybodys\", \"everybodys\", \"evil\", \"evil\", \"exit\", \"eyes\", \"eyes\", \"eyes\", \"eyes\", \"eyes\", \"face\", \"face\", \"face\", \"face\", \"face\", \"falls\", \"feeding\", \"feel\", \"feel\", \"feel\", \"feel\", \"feeling\", \"feeling\", \"feeling\", \"feeling\", \"feeling\", \"foot\", \"forever\", \"forever\", \"forever\", \"forever\", \"forget\", \"forget\", \"forget\", \"forget\", \"forget\", \"free\", \"free\", \"free\", \"free\", \"free\", \"friends\", \"friends\", \"friends\", \"friends\", \"fuck\", \"fuck\", \"fuck\", \"fuck\", \"fuck\", \"getting\", \"getting\", \"getting\", \"getting\", \"getting\", \"girl\", \"girl\", \"girl\", \"girl\", \"girl\", \"girls\", \"girls\", \"girls\", \"girls\", \"giving\", \"giving\", \"giving\", \"glad\", \"goes\", \"goes\", \"goes\", \"goes\", \"goin\", \"going\", \"going\", \"going\", \"going\", \"going\", \"gold\", \"golden\", \"golden\", \"gon\", \"gon\", \"gonna\", \"gonna\", \"gonna\", \"gonna\", \"gonna\", \"good\", \"good\", \"good\", \"good\", \"good\", \"goodbye\", \"goodbye\", \"got\", \"got\", \"got\", \"got\", \"got\", \"gotta\", \"gotta\", \"gotta\", \"gotta\", \"grip\", \"grip\", \"grip\", \"ground\", \"ground\", \"ground\", \"ground\", \"ground\", \"grow\", \"grow\", \"grow\", \"grow\", \"guy\", \"hand\", \"hand\", \"hand\", \"hand\", \"hands\", \"hands\", \"hands\", \"hands\", \"hands\", \"happy\", \"happy\", \"happy\", \"happy\", \"hard\", \"hard\", \"hard\", \"hard\", \"hardly\", \"harmony\", \"head\", \"head\", \"head\", \"head\", \"head\", \"hear\", \"hear\", \"hear\", \"hear\", \"hear\", \"heart\", \"heart\", \"heart\", \"heart\", \"heart\", \"heaven\", \"heaven\", \"heavy\", \"hell\", \"hell\", \"hell\", \"hell\", \"hell\", \"hello\", \"hello\", \"help\", \"help\", \"help\", \"help\", \"hes\", \"hes\", \"hes\", \"hes\", \"hes\", \"hey\", \"hey\", \"hey\", \"hey\", \"higher\", \"higher\", \"highway\", \"hills\", \"hold\", \"hold\", \"hold\", \"hold\", \"hold\", \"hollow\", \"holy\", \"home\", \"home\", \"home\", \"home\", \"home\", \"hoo\", \"hope\", \"hope\", \"hope\", \"hope\", \"hope\", \"huh\", \"hurry\", \"ignore\", \"ill\", \"ill\", \"ill\", \"ill\", \"ill\", \"important\", \"important\", \"important\", \"insane\", \"ive\", \"ive\", \"ive\", \"ive\", \"ive\", \"ivory\", \"key\", \"key\", \"kick\", \"kick\", \"kick\", \"kick\", \"killed\", \"killer\", \"kills\", \"kinda\", \"kiss\", \"kiss\", \"kiss\", \"kiss\", \"kiss\", \"know\", \"know\", \"know\", \"know\", \"know\", \"ladder\", \"ladies\", \"lake\", \"lately\", \"lately\", \"lean\", \"lean\", \"leave\", \"leave\", \"leave\", \"leave\", \"leave\", \"leaving\", \"leaving\", \"leaving\", \"let\", \"let\", \"let\", \"let\", \"let\", \"lets\", \"lets\", \"lets\", \"lets\", \"lets\", \"life\", \"life\", \"life\", \"life\", \"life\", \"lifted\", \"light\", \"light\", \"light\", \"light\", \"light\", \"like\", \"like\", \"like\", \"like\", \"like\", \"lipstick\", \"living\", \"living\", \"living\", \"living\", \"lonely\", \"long\", \"long\", \"long\", \"long\", \"long\", \"look\", \"look\", \"look\", \"look\", \"look\", \"losing\", \"losing\", \"losing\", \"love\", \"love\", \"love\", \"love\", \"love\", \"loves\", \"loves\", \"loves\", \"loves\", \"loves\", \"make\", \"make\", \"make\", \"make\", \"make\", \"makin\", \"man\", \"man\", \"man\", \"man\", \"man\", \"mark\", \"matters\", \"maybe\", \"maybe\", \"maybe\", \"maybe\", \"mean\", \"mean\", \"mean\", \"metal\", \"metal\", \"mind\", \"mind\", \"mind\", \"mind\", \"mind\", \"miss\", \"miss\", \"miss\", \"miss\", \"modern\", \"moment\", \"moment\", \"moment\", \"moment\", \"money\", \"money\", \"money\", \"money\", \"monkey\", \"moon\", \"moon\", \"moon\", \"moon\", \"mouth\", \"mouth\", \"mouth\", \"mouth\", \"mouth\", \"moves\", \"mystery\", \"need\", \"need\", \"need\", \"need\", \"need\", \"needs\", \"needs\", \"needs\", \"new\", \"new\", \"new\", \"new\", \"new\", \"news\", \"niggas\", \"night\", \"night\", \"night\", \"night\", \"night\", \"nose\", \"nose\", \"nose\", \"nothin\", \"nothin\", \"notice\", \"notice\", \"numbers\", \"oclock\", \"ohh\", \"ohh\", \"ohoh\", \"old\", \"old\", \"old\", \"old\", \"old\", \"ooh\", \"oohooh\", \"oooh\", \"order\", \"order\", \"owe\", \"packed\", \"pale\", \"passing\", \"person\", \"person\", \"pick\", \"pick\", \"pick\", \"pick\", \"place\", \"place\", \"place\", \"place\", \"place\", \"play\", \"play\", \"play\", \"play\", \"play\", \"pocket\", \"poison\", \"poison\", \"pool\", \"pot\", \"probably\", \"probably\", \"probably\", \"probably\", \"pull\", \"pull\", \"pull\", \"pull\", \"pull\", \"purpose\", \"pushing\", \"pushing\", \"rain\", \"rain\", \"rain\", \"rain\", \"rate\", \"realize\", \"really\", \"really\", \"really\", \"really\", \"really\", \"remember\", \"remember\", \"remember\", \"remember\", \"remember\", \"remind\", \"rent\", \"rhyme\", \"ride\", \"ride\", \"right\", \"right\", \"right\", \"right\", \"right\", \"river\", \"river\", \"river\", \"river\", \"rivers\", \"rocking\", \"rocking\", \"run\", \"run\", \"run\", \"run\", \"run\", \"safe\", \"said\", \"said\", \"said\", \"said\", \"said\", \"sang\", \"saturday\", \"save\", \"save\", \"save\", \"saw\", \"saw\", \"saw\", \"saw\", \"say\", \"say\", \"say\", \"say\", \"say\", \"scratch\", \"screaming\", \"screaming\", \"sea\", \"sea\", \"sea\", \"sea\", \"sea\", \"seeing\", \"set\", \"set\", \"setting\", \"sex\", \"shades\", \"shes\", \"shes\", \"shes\", \"shes\", \"shes\", \"shoot\", \"shout\", \"shut\", \"shut\", \"shy\", \"silent\", \"silent\", \"silent\", \"silent\", \"silent\", \"sisters\", \"sky\", \"sky\", \"sky\", \"sky\", \"slave\", \"somebody\", \"somebody\", \"somebody\", \"somebody\", \"somebody\", \"somethings\", \"spread\", \"stars\", \"stars\", \"start\", \"start\", \"start\", \"start\", \"stay\", \"stay\", \"stay\", \"stay\", \"stay\", \"staying\", \"steel\", \"stone\", \"stone\", \"stood\", \"stop\", \"stop\", \"stop\", \"stop\", \"stop\", \"stronger\", \"stuff\", \"sun\", \"sun\", \"sun\", \"sun\", \"sun\", \"sunday\", \"sweet\", \"sweet\", \"sweet\", \"sweet\", \"sweet\", \"tattoo\", \"tattoo\", \"teeth\", \"teeth\", \"teeth\", \"teeth\", \"teeth\", \"tell\", \"tell\", \"tell\", \"tell\", \"tell\", \"terrible\", \"thank\", \"thats\", \"thats\", \"thats\", \"thats\", \"thats\", \"theres\", \"theres\", \"theres\", \"theres\", \"theres\", \"things\", \"things\", \"things\", \"things\", \"things\", \"think\", \"think\", \"think\", \"think\", \"think\", \"thinks\", \"tide\", \"tide\", \"time\", \"time\", \"time\", \"time\", \"time\", \"took\", \"took\", \"took\", \"took\", \"took\", \"trees\", \"trees\", \"trees\", \"trees\", \"trigger\", \"try\", \"try\", \"try\", \"try\", \"trying\", \"trying\", \"trying\", \"trying\", \"trying\", \"turn\", \"turn\", \"turn\", \"turn\", \"turn\", \"uhhuh\", \"undone\", \"veins\", \"venom\", \"venom\", \"voices\", \"wait\", \"wait\", \"wait\", \"wait\", \"waited\", \"waitin\", \"waiting\", \"waiting\", \"waiting\", \"waiting\", \"wanna\", \"wanna\", \"want\", \"want\", \"want\", \"want\", \"want\", \"wanted\", \"wanted\", \"wanted\", \"wanted\", \"wants\", \"wants\", \"wants\", \"wants\", \"water\", \"water\", \"water\", \"water\", \"waves\", \"waves\", \"way\", \"way\", \"way\", \"way\", \"way\", \"ways\", \"ways\", \"ways\", \"ways\", \"ways\", \"wearing\", \"weird\", \"wheels\", \"whoa\", \"whoa\", \"whod\", \"willing\", \"wind\", \"wind\", \"wind\", \"wind\", \"woah\", \"wont\", \"wont\", \"wont\", \"wont\", \"wont\", \"woo\", \"words\", \"words\", \"words\", \"words\", \"words\", \"world\", \"world\", \"world\", \"world\", \"world\", \"worth\", \"worth\", \"worth\", \"worth\", \"yeah\", \"yeah\", \"yeah\", \"youll\", \"youll\", \"youll\", \"youll\", \"youll\", \"youre\", \"youre\", \"youre\", \"youre\", \"youre\", \"youth\", \"youve\", \"youve\", \"youve\", \"youve\", \"youve\"]}, \"R\": 30, \"lambda.step\": 0.01, \"plot.opts\": {\"xlab\": \"PC1\", \"ylab\": \"PC2\"}, \"topic.order\": [2, 3, 5, 1, 4]};\n",
       "\n",
       "function LDAvis_load_lib(url, callback){\n",
       "  var s = document.createElement('script');\n",
       "  s.src = url;\n",
       "  s.async = true;\n",
       "  s.onreadystatechange = s.onload = callback;\n",
       "  s.onerror = function(){console.warn(\"failed to load library \" + url);};\n",
       "  document.getElementsByTagName(\"head\")[0].appendChild(s);\n",
       "}\n",
       "\n",
       "if(typeof(LDAvis) !== \"undefined\"){\n",
       "   // already loaded: just create the visualization\n",
       "   !function(LDAvis){\n",
       "       new LDAvis(\"#\" + \"ldavis_el1609627849535598242675330836\", ldavis_el1609627849535598242675330836_data);\n",
       "   }(LDAvis);\n",
       "}else if(typeof define === \"function\" && define.amd){\n",
       "   // require.js is available: use it to load d3/LDAvis\n",
       "   require.config({paths: {d3: \"https://cdnjs.cloudflare.com/ajax/libs/d3/3.5.5/d3.min\"}});\n",
       "   require([\"d3\"], function(d3){\n",
       "      window.d3 = d3;\n",
       "      LDAvis_load_lib(\"https://cdn.rawgit.com/bmabey/pyLDAvis/files/ldavis.v1.0.0.js\", function(){\n",
       "        new LDAvis(\"#\" + \"ldavis_el1609627849535598242675330836\", ldavis_el1609627849535598242675330836_data);\n",
       "      });\n",
       "    });\n",
       "}else{\n",
       "    // require.js not available: dynamically load d3 & LDAvis\n",
       "    LDAvis_load_lib(\"https://cdnjs.cloudflare.com/ajax/libs/d3/3.5.5/d3.min.js\", function(){\n",
       "         LDAvis_load_lib(\"https://cdn.rawgit.com/bmabey/pyLDAvis/files/ldavis.v1.0.0.js\", function(){\n",
       "                 new LDAvis(\"#\" + \"ldavis_el1609627849535598242675330836\", ldavis_el1609627849535598242675330836_data);\n",
       "            })\n",
       "         });\n",
       "}\n",
       "</script>"
      ],
      "text/plain": [
       "PreparedData(topic_coordinates=              x         y  topics  cluster       Freq\n",
       "topic                                                \n",
       "1     -0.079392  0.032182       1        1  37.101597\n",
       "2      0.181264  0.206087       2        1  21.689493\n",
       "4     -0.217797 -0.008107       3        1  14.957530\n",
       "0     -0.076287 -0.028577       4        1  14.562754\n",
       "3      0.192212 -0.201584       5        1  11.688626, topic_info=     Category          Freq       Term         Total  loglift  logprob\n",
       "849   Default  12119.000000       dont  12119.000000  30.0000  30.0000\n",
       "1780  Default   8577.000000       love   8577.000000  29.0000  29.0000\n",
       "1634  Default  11428.000000       know  11428.000000  28.0000  28.0000\n",
       "3326  Default   6250.000000       want   6250.000000  27.0000  27.0000\n",
       "1292  Default   6498.000000        got   6498.000000  26.0000  26.0000\n",
       "3492  Default   4002.000000       yeah   4002.000000  25.0000  25.0000\n",
       "3325  Default   3452.000000      wanna   3452.000000  24.0000  24.0000\n",
       "1719  Default  11100.000000       like  11100.000000  23.0000  23.0000\n",
       "1287  Default   3358.000000      gonna   3358.000000  22.0000  22.0000\n",
       "3064  Default   3768.000000       tell   3768.000000  21.0000  21.0000\n",
       "123   Default   2562.000000       baby   2562.000000  20.0000  20.0000\n",
       "1972  Default   3023.000000       need   3023.000000  19.0000  19.0000\n",
       "568   Default   4758.000000       come   4758.000000  18.0000  18.0000\n",
       "2036  Default   1549.000000        ooh   1549.000000  17.0000  17.0000\n",
       "2412  Default   3449.000000      right   3449.000000  16.0000  16.0000\n",
       "3505  Default   7242.000000      youre   7242.000000  15.0000  15.0000\n",
       "1067  Default   1807.000000    feeling   1807.000000  14.0000  14.0000\n",
       "3221  Default   2157.000000        try   2157.000000  13.0000  13.0000\n",
       "33    Default   1398.000000       aint   1398.000000  12.0000  12.0000\n",
       "431   Default   3661.000000      cause   3661.000000  11.0000  11.0000\n",
       "3134  Default   6828.000000       time   6828.000000  10.0000  10.0000\n",
       "408   Default   1236.000000       care   1236.000000   9.0000   9.0000\n",
       "3307  Default   1419.000000       wait   1419.000000   8.0000   8.0000\n",
       "1527  Default   1009.000000  important   1009.000000   7.0000   7.0000\n",
       "1556  Default   3789.000000        ive   3789.000000   6.0000   6.0000\n",
       "1748  Default   1360.000000     living   1360.000000   5.0000   5.0000\n",
       "2516  Default   4809.000000        say   4809.000000   4.0000   4.0000\n",
       "1519  Default   4644.000000        ill   4644.000000   3.0000   3.0000\n",
       "1844  Default    958.000000       mean    958.000000   2.0000   2.0000\n",
       "130   Default   1394.000000        bad   1394.000000   1.0000   1.0000\n",
       "...       ...           ...        ...           ...      ...      ...\n",
       "1748   Topic5   1043.210696     living   1360.032991   1.8813  -4.4296\n",
       "2004   Topic5    222.025102       nose    239.527284   2.0707  -5.9769\n",
       "1067   Topic5   1319.567960    feeling   1807.288029   1.8320  -4.1946\n",
       "896    Topic5    396.251013       drop    461.927404   1.9932  -5.3976\n",
       "1208   Topic5    768.383477       fuck    990.946508   1.8922  -4.7354\n",
       "1907   Topic5    563.488036     moment    705.258611   1.9221  -5.0455\n",
       "2539   Topic5    354.006845  screaming    422.135182   1.9705  -5.5104\n",
       "2779   Topic5    521.294749   somebody    678.974338   1.8823  -5.1234\n",
       "2678   Topic5    223.755930     silent    249.361037   2.0382  -5.9691\n",
       "848    Topic5    754.985205        don   1143.588498   1.7313  -4.7530\n",
       "94     Topic5    633.846733        ask    921.585831   1.7723  -4.9279\n",
       "3064   Topic5   1878.759655       tell   3768.700765   1.4504  -3.8413\n",
       "1598   Topic5    245.507212       kick    280.870061   2.0120  -5.8764\n",
       "81     Topic5    233.147178        arm    264.049341   2.0221  -5.9280\n",
       "171    Topic5    362.596400       beat    473.620895   1.8794  -5.4864\n",
       "1719   Topic5   3807.066290       like  11100.183014   1.0765  -3.1351\n",
       "704    Topic5    475.288666        cut    705.727085   1.7512  -5.2158\n",
       "3221   Topic5   1007.694878        try   2157.211385   1.3854  -4.4643\n",
       "1934   Topic5    409.941077      mouth    593.087989   1.7772  -5.3637\n",
       "2271   Topic5    355.463971       pull    557.429395   1.6966  -5.5063\n",
       "1892   Topic5    391.318747       miss    677.565835   1.5976  -5.4102\n",
       "3310   Topic5    524.569761    waiting   1248.351511   1.2796  -5.1171\n",
       "1393   Topic5    648.421550       head   2044.476148   0.9982  -4.9051\n",
       "1420   Topic5    408.734837       hell    820.574568   1.4496  -5.3666\n",
       "2905   Topic5    470.164085       stop   1150.254119   1.2519  -5.2266\n",
       "1006   Topic5    500.779808       face   1592.041234   0.9899  -5.1635\n",
       "1407   Topic5    542.264492      heart   3003.821073   0.4347  -5.0839\n",
       "1292   Topic5    655.213708        got   6498.077693  -0.1477  -4.8947\n",
       "1992   Topic5    512.743785      night   3163.374950   0.3269  -5.1399\n",
       "44     Topic5    382.596003    alright   1157.703533   1.0393  -5.4327\n",
       "\n",
       "[407 rows x 6 columns], token_table=      Topic      Freq     Term\n",
       "term                          \n",
       "30        3  0.995441      ahh\n",
       "32        2  0.006734      ain\n",
       "32        4  0.983220      ain\n",
       "32        5  0.006734      ain\n",
       "33        1  0.006437     aint\n",
       "33        3  0.959152     aint\n",
       "33        4  0.032902     aint\n",
       "33        5  0.000715     aint\n",
       "34        1  0.247997      air\n",
       "34        2  0.734757      air\n",
       "34        4  0.010553      air\n",
       "34        5  0.007915      air\n",
       "44        1  0.088105  alright\n",
       "44        3  0.008638  alright\n",
       "44        4  0.571822  alright\n",
       "44        5  0.330827  alright\n",
       "52        5  0.990372      amp\n",
       "62        2  0.005737  answers\n",
       "62        3  0.005737  answers\n",
       "62        5  0.986814  answers\n",
       "81        1  0.007574      arm\n",
       "81        4  0.109828      arm\n",
       "81        5  0.882411      arm\n",
       "85        2  0.108355  arrived\n",
       "85        4  0.001868  arrived\n",
       "85        5  0.889260  arrived\n",
       "94        1  0.169273      ask\n",
       "94        2  0.050999      ask\n",
       "94        3  0.019532      ask\n",
       "94        4  0.072701      ask\n",
       "...     ...       ...      ...\n",
       "3455      4  0.054594    words\n",
       "3455      5  0.020928    words\n",
       "3462      1  0.324731    world\n",
       "3462      2  0.083720    world\n",
       "3462      3  0.099364    world\n",
       "3462      4  0.483714    world\n",
       "3462      5  0.008457    world\n",
       "3471      1  0.973813    worth\n",
       "3471      2  0.002364    worth\n",
       "3471      4  0.002364    worth\n",
       "3471      5  0.021273    worth\n",
       "3492      1  0.000250     yeah\n",
       "3492      3  0.083704     yeah\n",
       "3492      4  0.915752     yeah\n",
       "3502      1  0.869908    youll\n",
       "3502      2  0.001888    youll\n",
       "3502      3  0.030214    youll\n",
       "3502      4  0.097566    youll\n",
       "3502      5  0.000629    youll\n",
       "3505      1  0.741147    youre\n",
       "3505      2  0.000828    youre\n",
       "3505      3  0.064892    youre\n",
       "3505      4  0.181145    youre\n",
       "3505      5  0.012012    youre\n",
       "3506      2  0.994584    youth\n",
       "3507      1  0.640428    youve\n",
       "3507      2  0.000581    youve\n",
       "3507      3  0.322246    youve\n",
       "3507      4  0.010451    youve\n",
       "3507      5  0.026709    youve\n",
       "\n",
       "[950 rows x 3 columns], R=30, lambda_step=0.01, plot_opts={'xlab': 'PC1', 'ylab': 'PC2'}, topic_order=[2, 3, 5, 1, 4])"
      ]
     },
     "execution_count": 131,
     "metadata": {},
     "output_type": "execute_result"
    }
   ],
   "source": [
    "vectorizer = CountVectorizer(analyzer='word',stop_words='english',max_df=.5, min_df=20, max_features=20000, lowercase=True, token_pattern='[a-zA-Z0-9]{3,}')\n",
    "\n",
    "bag_lyrics= vectorizer.fit_transform(songlyrics['cleaned_lyrics'])\n",
    "scipy.sparse.save_npz('sparse_lyrics_2.npz',bag_lyrics)\n",
    "LDA_model=LatentDirichletAllocation(n_components=5,learning_method='online',n_jobs= -1)\n",
    "\n",
    "LDA_result = LDA_model.fit_transform(bag_lyrics)\n",
    "\n",
    "pyLDAvis.enable_notebook()\n",
    "pyLDAvis.sklearn.prepare(LDA_model,bag_lyrics,vectorizer)"
   ]
  },
  {
   "cell_type": "code",
   "execution_count": 132,
   "metadata": {},
   "outputs": [
    {
     "name": "stderr",
     "output_type": "stream",
     "text": [
      "C:\\Users\\16142\\Anaconda3\\lib\\site-packages\\pyLDAvis\\_prepare.py:257: FutureWarning:\n",
      "\n",
      "Sorting because non-concatenation axis is not aligned. A future version\n",
      "of pandas will change to not sort by default.\n",
      "\n",
      "To accept the future behavior, pass 'sort=False'.\n",
      "\n",
      "To retain the current behavior and silence the warning, pass 'sort=True'.\n",
      "\n",
      "\n"
     ]
    },
    {
     "data": {
      "text/html": [
       "\n",
       "<link rel=\"stylesheet\" type=\"text/css\" href=\"https://cdn.rawgit.com/bmabey/pyLDAvis/files/ldavis.v1.0.0.css\">\n",
       "\n",
       "\n",
       "<div id=\"ldavis_el1609627849535576643819326179\"></div>\n",
       "<script type=\"text/javascript\">\n",
       "\n",
       "var ldavis_el1609627849535576643819326179_data = {\"mdsDat\": {\"x\": [-0.09542685058359497, 0.024720908166572433, -0.1816466108892082, 0.2523525533062309], \"y\": [-0.0030743282998160425, -0.22072137258236293, 0.11823146553059107, 0.10556423535158782], \"topics\": [1, 2, 3, 4], \"cluster\": [1, 1, 1, 1], \"Freq\": [48.15126662411649, 24.455792619805482, 17.904100035812196, 9.488840720265829]}, \"tinfo\": {\"Category\": [\"Default\", \"Default\", \"Default\", \"Default\", \"Default\", \"Default\", \"Default\", \"Default\", \"Default\", \"Default\", \"Default\", \"Default\", \"Default\", \"Default\", \"Default\", \"Default\", \"Default\", \"Default\", \"Default\", \"Default\", \"Default\", \"Default\", \"Default\", \"Default\", \"Default\", \"Default\", \"Default\", \"Default\", \"Default\", \"Default\", \"Topic1\", \"Topic1\", \"Topic1\", \"Topic1\", \"Topic1\", \"Topic1\", \"Topic1\", \"Topic1\", \"Topic1\", \"Topic1\", \"Topic1\", \"Topic1\", \"Topic1\", \"Topic1\", \"Topic1\", \"Topic1\", \"Topic1\", \"Topic1\", \"Topic1\", \"Topic1\", \"Topic1\", \"Topic1\", \"Topic1\", \"Topic1\", \"Topic1\", \"Topic1\", \"Topic1\", \"Topic1\", \"Topic1\", \"Topic1\", \"Topic1\", \"Topic1\", \"Topic1\", \"Topic1\", \"Topic1\", \"Topic1\", \"Topic1\", \"Topic1\", \"Topic1\", \"Topic1\", \"Topic1\", \"Topic1\", \"Topic1\", \"Topic1\", \"Topic1\", \"Topic1\", \"Topic1\", \"Topic1\", \"Topic1\", \"Topic1\", \"Topic1\", \"Topic1\", \"Topic1\", \"Topic1\", \"Topic1\", \"Topic1\", \"Topic1\", \"Topic1\", \"Topic1\", \"Topic1\", \"Topic1\", \"Topic1\", \"Topic1\", \"Topic1\", \"Topic1\", \"Topic1\", \"Topic1\", \"Topic1\", \"Topic1\", \"Topic1\", \"Topic1\", \"Topic1\", \"Topic1\", \"Topic1\", \"Topic1\", \"Topic1\", \"Topic1\", \"Topic1\", \"Topic1\", \"Topic1\", \"Topic1\", \"Topic1\", \"Topic1\", \"Topic2\", \"Topic2\", \"Topic2\", \"Topic2\", \"Topic2\", \"Topic2\", \"Topic2\", \"Topic2\", \"Topic2\", \"Topic2\", \"Topic2\", \"Topic2\", \"Topic2\", \"Topic2\", \"Topic2\", \"Topic2\", \"Topic2\", \"Topic2\", \"Topic2\", \"Topic2\", \"Topic2\", \"Topic2\", \"Topic2\", \"Topic2\", \"Topic2\", \"Topic2\", \"Topic2\", \"Topic2\", \"Topic2\", \"Topic2\", \"Topic2\", \"Topic2\", \"Topic2\", \"Topic2\", \"Topic2\", \"Topic2\", \"Topic2\", \"Topic2\", \"Topic2\", \"Topic2\", \"Topic2\", \"Topic2\", \"Topic2\", \"Topic2\", \"Topic2\", \"Topic2\", \"Topic2\", \"Topic2\", \"Topic2\", \"Topic2\", \"Topic2\", \"Topic2\", \"Topic2\", \"Topic2\", \"Topic2\", \"Topic2\", \"Topic2\", \"Topic2\", \"Topic2\", \"Topic2\", \"Topic2\", \"Topic2\", \"Topic2\", \"Topic2\", \"Topic2\", \"Topic2\", \"Topic2\", \"Topic2\", \"Topic2\", \"Topic2\", \"Topic2\", \"Topic2\", \"Topic2\", \"Topic2\", \"Topic2\", \"Topic2\", \"Topic2\", \"Topic2\", \"Topic2\", \"Topic2\", \"Topic2\", \"Topic2\", \"Topic2\", \"Topic3\", \"Topic3\", \"Topic3\", \"Topic3\", \"Topic3\", \"Topic3\", \"Topic3\", \"Topic3\", \"Topic3\", \"Topic3\", \"Topic3\", \"Topic3\", \"Topic3\", \"Topic3\", \"Topic3\", \"Topic3\", \"Topic3\", \"Topic3\", \"Topic3\", \"Topic3\", \"Topic3\", \"Topic3\", \"Topic3\", \"Topic3\", \"Topic3\", \"Topic3\", \"Topic3\", \"Topic3\", \"Topic3\", \"Topic3\", \"Topic3\", \"Topic3\", \"Topic3\", \"Topic3\", \"Topic3\", \"Topic3\", \"Topic3\", \"Topic3\", \"Topic3\", \"Topic3\", \"Topic3\", \"Topic3\", \"Topic3\", \"Topic3\", \"Topic3\", \"Topic3\", \"Topic3\", \"Topic3\", \"Topic3\", \"Topic3\", \"Topic3\", \"Topic3\", \"Topic3\", \"Topic3\", \"Topic3\", \"Topic3\", \"Topic3\", \"Topic3\", \"Topic3\", \"Topic3\", \"Topic3\", \"Topic3\", \"Topic3\", \"Topic3\", \"Topic3\", \"Topic3\", \"Topic3\", \"Topic3\", \"Topic3\", \"Topic3\", \"Topic3\", \"Topic3\", \"Topic4\", \"Topic4\", \"Topic4\", \"Topic4\", \"Topic4\", \"Topic4\", \"Topic4\", \"Topic4\", \"Topic4\", \"Topic4\", \"Topic4\", \"Topic4\", \"Topic4\", \"Topic4\", \"Topic4\", \"Topic4\", \"Topic4\", \"Topic4\", \"Topic4\", \"Topic4\", \"Topic4\", \"Topic4\", \"Topic4\", \"Topic4\", \"Topic4\", \"Topic4\", \"Topic4\", \"Topic4\", \"Topic4\", \"Topic4\", \"Topic4\", \"Topic4\", \"Topic4\", \"Topic4\", \"Topic4\", \"Topic4\", \"Topic4\", \"Topic4\", \"Topic4\", \"Topic4\", \"Topic4\", \"Topic4\", \"Topic4\", \"Topic4\", \"Topic4\", \"Topic4\", \"Topic4\", \"Topic4\", \"Topic4\", \"Topic4\", \"Topic4\", \"Topic4\", \"Topic4\", \"Topic4\", \"Topic4\", \"Topic4\", \"Topic4\", \"Topic4\", \"Topic4\", \"Topic4\", \"Topic4\", \"Topic4\", \"Topic4\", \"Topic4\", \"Topic4\", \"Topic4\", \"Topic4\", \"Topic4\", \"Topic4\", \"Topic4\", \"Topic4\", \"Topic4\", \"Topic4\", \"Topic4\", \"Topic4\", \"Topic4\", \"Topic4\"], \"Freq\": [6214.0, 4041.0, 3471.0, 6732.0, 3863.0, 11862.0, 11997.0, 3381.0, 11383.0, 2136.0, 1719.0, 2350.0, 1558.0, 2070.0, 1110.0, 6222.0, 2579.0, 1406.0, 2318.0, 1520.0, 1352.0, 1522.0, 1558.0, 7177.0, 863.0, 1091.0, 952.0, 6788.0, 1136.0, 4586.0, 424.0006694396877, 234.0824246022167, 222.16037074882883, 201.2807169598423, 181.66675830669246, 186.2541927394045, 184.44307038204585, 157.59336988372658, 147.45466264167544, 207.71135244109837, 135.02225006029084, 133.99037265174297, 133.47657885921842, 144.2962765099314, 125.84337042592219, 123.9771357677388, 152.79699741995134, 100.88079482326927, 97.1658935611493, 132.99034700992829, 119.33605514924612, 203.89676795665903, 436.28388010724973, 201.513730379613, 78.97007579561064, 71.46774802884995, 73.14924664938643, 77.0502710166687, 160.17238810334894, 209.59716346052218, 1529.8386332276298, 1029.8514422245942, 951.7570682685852, 242.30651300392302, 327.712603608029, 229.91738708658613, 4338.4869046477925, 1712.1735113882655, 1650.6080013518538, 1317.9017765812819, 2780.0182868573206, 2225.750686729151, 2274.321276206064, 797.7135349631983, 6260.803056110743, 1223.2835754275022, 3486.9717265419536, 4127.618043140386, 599.533657806539, 733.4838577673661, 9747.19381301506, 1050.8591289910141, 3547.4263148432665, 997.9935163165733, 427.203405534324, 910.3516477489555, 6195.774401499838, 1757.0385982442028, 3025.4073078085385, 4087.177361294953, 3030.338435974384, 1385.8681247248176, 9380.460892939996, 2355.7804266121257, 3405.93394614009, 1534.9230199999527, 3745.5402424165345, 1573.3174260048827, 4626.693093240935, 3633.4015774021027, 1722.2041614596994, 1556.4163324236936, 3019.757177574726, 2252.1062795348366, 2182.0213805834037, 2284.2289851065348, 2375.227311522825, 2210.538447500396, 2421.937622051583, 1933.1061928484835, 3237.152033621903, 1873.647107098448, 2144.368989967657, 709.6889174842398, 303.908012111812, 257.1795656353574, 229.05228394235468, 229.24878804044434, 209.43994695991867, 203.66576372303192, 213.7052672569082, 202.61286197641982, 197.3408508755616, 205.15872392791806, 186.032458881632, 274.9318743616512, 173.08309855881058, 144.06649583807564, 150.37167074284585, 346.4646051124988, 139.26284120985156, 273.8029562528204, 174.1939433611615, 120.43297279215128, 118.88331955676723, 112.82140692918786, 114.82340057239543, 242.10621016512766, 105.97826187288469, 100.90441254284192, 102.20595758765519, 123.5261913156632, 105.6642046551636, 205.24741746076677, 285.4019418164366, 189.571215668603, 194.80369730738155, 187.29731042149012, 254.59351824499515, 168.09336412564906, 375.1375175593479, 379.514682345622, 764.6561982201468, 524.5929829732343, 193.15227242834192, 845.7820548640489, 829.4390571471828, 938.6036648870041, 598.8826017747225, 293.64957493129333, 249.71312631969354, 512.2380516546813, 657.2488197904264, 704.3819385166078, 395.4571052247899, 327.72927115858664, 579.463578792244, 674.3596017172646, 742.255394821327, 509.45483769704515, 1043.2039405180183, 386.33066059297107, 396.26429349065563, 861.3808036340037, 4460.08327091558, 447.0231439512721, 531.0074250651533, 1107.025594993218, 672.5498310605667, 487.8111347583008, 494.45947026705255, 717.5361545751025, 790.9575814846174, 1097.860870222452, 989.6738535327489, 578.5621748450186, 596.9935239878022, 590.505949588903, 750.7329526587558, 826.4506756920777, 741.5716301270515, 606.8356207050322, 571.9900498025933, 604.2773988084145, 582.8945284500526, 580.984580890831, 1558.1336078518102, 1718.56247885542, 265.84396828709566, 222.7798418566679, 219.10908817502354, 3459.7936600725425, 201.43621567948688, 194.8125196459535, 1401.8329750849612, 181.1572740903649, 4025.761324576137, 153.67232596348651, 149.53352538962093, 145.00064372923686, 267.9058998038789, 144.6834016463043, 141.45268801838242, 140.5050960652756, 152.18524818617374, 179.1206840716429, 125.64121685749001, 123.70900954317665, 130.2169861036486, 115.6466844454346, 117.1634306958216, 110.65773380371684, 111.25480733539509, 108.77369577797758, 112.95247381832326, 110.49343910667228, 1327.772839824474, 1068.675292374617, 167.75023077040794, 116.41266685996986, 509.8868347473142, 947.5877996580497, 232.74695130888705, 149.37177045138634, 493.8169411744235, 367.61777273739006, 671.3192227752237, 1285.5583939113926, 2614.876998489398, 271.817540115438, 1705.2256284110856, 431.15782641298995, 843.988782836189, 528.8969175125591, 4224.900260202114, 1166.4983650813817, 332.09552051273494, 1691.1799643902402, 382.523968489733, 573.9294256409995, 438.9842716268319, 336.8653590610932, 541.7992464553364, 505.70467545548365, 2481.1420248114005, 452.53039358830557, 2191.462210679589, 1504.1647666266817, 1127.389590870157, 994.6289960614421, 1607.9650361345327, 762.0504533557003, 579.4141214174001, 665.5409427575318, 804.6408419432776, 706.9947128805358, 608.9429171569609, 552.8435348816204, 205.76617517174537, 190.57068838557117, 189.1689883238788, 151.12404202666625, 147.2935179236225, 135.48888779038296, 151.10446088588776, 126.6425086368459, 170.8042708067715, 171.48907962251423, 103.11835781281944, 97.4262463790842, 100.59685387177745, 98.66684857943775, 89.16383446506588, 94.99911817272451, 89.74940308079836, 88.92079358272002, 84.06501607181666, 84.30582812834889, 81.82879199625425, 78.75910825393171, 80.47173576447015, 80.9960846576579, 78.50801663980457, 69.2875014569628, 66.61368539760511, 66.20599520473225, 62.632334913791254, 66.97820842794881, 147.45094478450312, 88.05462818154884, 1065.4182283299021, 5729.390992618775, 171.05636527199218, 795.4278127311662, 290.82913404286376, 171.88589066905513, 159.2444564499531, 281.38290985833817, 598.4663088654547, 425.3977662615681, 170.966673065957, 381.97636632766296, 194.07370354962057, 156.87772548784318, 727.1689518896314, 143.97425993585645, 1345.9162634936006, 2166.379843989585, 232.33706704283156, 227.22875749054066, 820.694603344044, 242.55723137405403, 485.31801403216735, 1048.541190692562, 622.3331965011239, 917.6766508791213, 212.7718870972442, 487.7453149727202, 1973.7317768896758, 503.2176156992925, 336.1482976733965, 208.83213198308525, 371.3858900432031, 267.41699628230185, 239.40918037050494, 417.1324618319068, 326.67358578970425, 300.57761335724086, 294.652161858338, 346.62831347138984, 284.46941441825044, 267.679504479527, 315.08605203517993, 297.95536297206525, 280.94624667718836], \"Term\": [\"love\", \"yeah\", \"wanna\", \"got\", \"tell\", \"like\", \"dont\", \"gonna\", \"know\", \"try\", \"hey\", \"little\", \"ooh\", \"feeling\", \"important\", \"want\", \"baby\", \"aint\", \"man\", \"living\", \"shes\", \"girl\", \"don\", \"youre\", \"probably\", \"hes\", \"ask\", \"time\", \"bad\", \"ill\", \"awake\", \"bye\", \"falls\", \"calm\", \"amp\", \"cmon\", \"notice\", \"stronger\", \"lately\", \"supposed\", \"changes\", \"cares\", \"brave\", \"nothings\", \"realize\", \"happening\", \"dare\", \"reasons\", \"believed\", \"diamonds\", \"everyones\", \"oooh\", \"tomorrow\", \"wondering\", \"cost\", \"charm\", \"month\", \"mission\", \"fault\", \"seeing\", \"youll\", \"wish\", \"help\", \"someday\", \"pretend\", \"belong\", \"ill\", \"stay\", \"youve\", \"wrong\", \"wont\", \"things\", \"mind\", \"forever\", \"time\", \"believe\", \"ive\", \"feel\", \"youd\", \"forget\", \"know\", \"hope\", \"let\", \"trying\", \"isnt\", \"start\", \"youre\", \"better\", \"right\", \"say\", \"think\", \"fall\", \"dont\", \"long\", \"away\", \"hard\", \"way\", \"hold\", \"want\", \"come\", \"leave\", \"gone\", \"make\", \"need\", \"day\", \"life\", \"night\", \"theres\", \"cause\", \"good\", \"like\", \"home\", \"got\", \"arrived\", \"cat\", \"punk\", \"purpose\", \"tone\", \"mountain\", \"machine\", \"leaf\", \"cancer\", \"knife\", \"web\", \"images\", \"beneath\", \"lit\", \"veins\", \"trip\", \"birds\", \"steel\", \"began\", \"lake\", \"covered\", \"flight\", \"dive\", \"poison\", \"brick\", \"tower\", \"killer\", \"coat\", \"pocket\", \"concrete\", \"grin\", \"planet\", \"disco\", \"claw\", \"bug\", \"pair\", \"highway\", \"bird\", \"river\", \"blood\", \"screaming\", \"sucked\", \"white\", \"water\", \"black\", \"sea\", \"green\", \"metal\", \"giving\", \"stars\", \"red\", \"slowly\", \"trees\", \"rain\", \"blue\", \"sky\", \"wind\", \"sun\", \"smoke\", \"earth\", \"fuck\", \"like\", \"moon\", \"air\", \"light\", \"cold\", \"lights\", \"deep\", \"dead\", \"hand\", \"heart\", \"eyes\", \"saw\", \"dark\", \"knew\", \"head\", \"night\", \"theres\", \"living\", \"hands\", \"feeling\", \"old\", \"away\", \"ooh\", \"hey\", \"doo\", \"hoo\", \"runnin\", \"wanna\", \"daddy\", \"bang\", \"aint\", \"ahh\", \"yeah\", \"guys\", \"ain\", \"woah\", \"mama\", \"weird\", \"kinda\", \"treat\", \"oohooh\", \"goin\", \"uhhuh\", \"gon\", \"pool\", \"niggas\", \"jack\", \"woo\", \"ticket\", \"lied\", \"rich\", \"yall\", \"shes\", \"hes\", \"bitch\", \"lookin\", \"girls\", \"boy\", \"guy\", \"fuckin\", \"rock\", \"boys\", \"money\", \"girl\", \"gonna\", \"evil\", \"man\", \"roll\", \"gotta\", \"ride\", \"got\", \"don\", \"woman\", \"baby\", \"kid\", \"dance\", \"ready\", \"party\", \"big\", \"shit\", \"dont\", \"kiss\", \"like\", \"want\", \"cause\", \"said\", \"know\", \"world\", \"alright\", \"little\", \"youre\", \"make\", \"need\", \"say\", \"desire\", \"truly\", \"answers\", \"difficult\", \"ohoh\", \"somethings\", \"distance\", \"america\", \"switch\", \"finds\", \"sisters\", \"fever\", \"fame\", \"ignore\", \"ohohoh\", \"grace\", \"rush\", \"mystery\", \"enemy\", \"steady\", \"mercy\", \"owe\", \"wanting\", \"teach\", \"row\", \"strength\", \"tick\", \"hunger\", \"divine\", \"wolf\", \"rate\", \"spread\", \"important\", \"love\", \"venom\", \"probably\", \"willing\", \"damned\", \"rocking\", \"higher\", \"somebody\", \"drop\", \"monkey\", \"bit\", \"choose\", \"whoa\", \"ask\", \"appear\", \"try\", \"tell\", \"favorite\", \"silent\", \"living\", \"dip\", \"moment\", \"little\", \"bad\", \"feeling\", \"lover\", \"song\", \"like\", \"die\", \"mouth\", \"key\", \"sing\", \"capital\", \"learned\", \"lost\", \"died\", \"kind\", \"hate\", \"alright\", \"young\", \"miss\", \"heart\", \"got\", \"make\"], \"Total\": [6214.0, 4041.0, 3471.0, 6732.0, 3863.0, 11862.0, 11997.0, 3381.0, 11383.0, 2136.0, 1719.0, 2350.0, 1558.0, 2070.0, 1110.0, 6222.0, 2579.0, 1406.0, 2318.0, 1520.0, 1352.0, 1522.0, 1558.0, 7177.0, 863.0, 1091.0, 952.0, 6788.0, 1136.0, 4586.0, 424.71141877214154, 234.80718407563967, 222.8825539483885, 202.0127074516304, 182.40153639318748, 187.03272687700084, 185.26587448813854, 158.32377652352463, 148.16405565515515, 208.7523125054744, 135.73649966384122, 134.72503556351342, 134.2102196382305, 145.0984765709548, 126.56199221532424, 124.71150660751155, 153.76799286886396, 101.62337588729187, 97.88180203552426, 133.97143459720402, 120.25176012560321, 205.61086896960265, 439.99574103292485, 203.24418678774697, 79.72833055220288, 72.191454327979, 73.90082062348246, 77.85064267133866, 161.8566516967952, 211.87187116660994, 1568.0435661864155, 1053.4406199311659, 973.2460011939563, 245.25671581142154, 333.6387626373483, 233.40996563855919, 4586.847152045288, 1781.4954897919908, 1717.5416365018975, 1371.4892999984831, 2938.514915341996, 2344.317611597682, 2403.8867873762783, 826.8418571123578, 6788.271963676029, 1286.758845329781, 3788.8139702290614, 4518.92368722038, 621.039167714338, 764.7133856918645, 11383.39036672192, 1119.1754144757274, 3974.65732801341, 1064.5218060246605, 441.1668732690773, 973.4278944718491, 7177.518670706473, 1941.333954365221, 3444.537947747727, 4745.036198011179, 3486.4570254444366, 1542.119440671326, 11997.586445349258, 2723.2834790536817, 4070.997278519792, 1736.9100984833108, 4710.632811526053, 1794.8033459540898, 6222.9216965976175, 4707.518428359108, 2003.5038019629833, 1775.5405150174265, 4079.0944713046897, 2997.67717070385, 2884.486289686992, 3111.703342941926, 3335.4553891944533, 3086.531462124071, 3654.544357347116, 2563.7153732304027, 11862.429292106748, 2713.36795318324, 6732.455248894828, 710.5456979803192, 304.6667379700047, 257.9475729004624, 229.83536352624049, 230.04573350414842, 210.20367981400673, 204.42284478809998, 214.50536746337457, 203.42374916152426, 198.14951095683998, 206.03428665232343, 186.84826754280567, 276.14849182552456, 173.87057157891675, 144.81867715970836, 151.1619418337801, 348.3688168439188, 140.09142257879725, 275.4637086661384, 175.26815347172646, 121.19028317136791, 119.65242042688345, 113.5537340802924, 115.5696805171767, 243.83409923342833, 106.73693419836118, 101.63480374217382, 102.95254714550973, 124.43060441408109, 106.45180963815511, 206.7944114307887, 289.54179862480805, 191.5620336431274, 196.93475451070972, 189.27174055753864, 259.6818576166016, 170.018706955964, 386.27941006427955, 392.7587933016793, 812.5198871751913, 553.8890722539575, 196.439107047381, 916.8191860956746, 909.3736375711727, 1045.987065391775, 661.2792061145964, 308.83984306106254, 258.84382384940886, 570.5388417378393, 756.9548322286664, 829.281988137449, 436.0581200514087, 354.0023775316492, 689.5122082571405, 825.7645897201049, 926.7680480740305, 602.6244098166816, 1475.2942443367776, 449.8332570708486, 470.61063048469134, 1309.7238444525542, 11862.429292106748, 556.3940222691922, 713.9523550996904, 2112.963450874534, 1037.9678992455688, 643.3183135198309, 666.6202549616323, 1215.849282260259, 1425.3864040911171, 3061.7133383831547, 2907.036993109811, 1027.0887757498867, 1118.0741982906768, 1135.0299168249342, 2272.8388508518406, 3335.4553891944533, 3086.531462124071, 1520.0315912856486, 1217.177118693879, 2070.2855062243807, 1706.552924261071, 4070.997278519792, 1558.822986980206, 1719.3633298248694, 266.5188661269624, 223.45431743240798, 219.79488109031533, 3471.9410873458046, 202.14443459381283, 195.50132688130427, 1406.8734947902744, 181.84236292802964, 4041.0255366794113, 154.37707281475443, 150.2282125605335, 145.68435516695513, 269.21187622249033, 145.39680897643447, 142.15258320303602, 141.21691132464002, 152.96317495827756, 180.04991798244876, 126.32535389220158, 124.39459814437294, 130.96620978243175, 116.3254186657202, 117.85568762935821, 111.35431810511469, 111.98743056673389, 109.50274860817066, 113.71413623468676, 111.24897155676503, 1352.044403409478, 1091.516612242362, 169.14581068965893, 117.22016424244805, 525.7822205810353, 1005.3221454992286, 238.1018497981056, 151.2212397248438, 527.0103495524686, 386.9532992488396, 753.4642296934182, 1522.423086902483, 3381.0880889179025, 289.5190592016781, 2318.16451766189, 495.1669950823058, 1059.6639986322978, 629.9745498187024, 6732.455248894828, 1558.5800747442743, 371.65505290351666, 2579.9470326720625, 461.09559355826735, 790.18247316711, 578.2333527306101, 404.85472478742264, 878.7692281251876, 791.7172826166814, 11997.586445349258, 674.677032464451, 11862.429292106748, 6222.9216965976175, 3654.544357347116, 3122.1480112509994, 11383.39036672192, 2329.531669318261, 1226.4744057874764, 2350.3616314103424, 7177.518670706473, 4079.0944713046897, 2997.67717070385, 4745.036198011179, 206.54608507046623, 191.36865207483336, 189.9844260442209, 151.89104262200925, 148.06067262081143, 136.28579510537946, 152.03331651099515, 127.42547465955272, 171.90595572494402, 172.7537328176483, 103.90442124385342, 98.21886697371386, 101.43713952801954, 99.49228003901446, 89.92981621727934, 95.85473248766098, 90.5656500250309, 89.75154027959044, 84.85346515427936, 85.11323929866525, 82.62105799155135, 79.5505816181952, 81.30220464850241, 81.90882306429032, 79.39505710517173, 70.10332804768748, 67.40093922789659, 67.02072824781547, 63.43382050040771, 67.85238228024073, 150.36594370393905, 89.41770234120546, 1110.881239761426, 6214.778098216646, 176.4372997008699, 863.68903741755, 313.67353411893856, 181.99344956353463, 167.80571859689525, 311.36536859287196, 709.7790905056378, 494.67362338085286, 183.94516205599587, 455.38192642199806, 214.96253136718488, 169.614640058968, 952.2844901319257, 154.3344278276324, 2136.156360132088, 3863.8020513302276, 273.46790354775976, 274.1362655276096, 1520.0315912856486, 301.0793915536426, 784.1314713448523, 2350.3616314103424, 1136.0537253254543, 2070.2855062243807, 262.790476663565, 1034.5599033559502, 11862.429292106748, 1161.820300847276, 655.712569178806, 260.0145144355283, 889.2936088564584, 444.0980272057694, 352.4176686285992, 1537.1364936864957, 838.4765591661073, 671.1889449783756, 701.8184372124713, 1226.4744057874764, 793.049051511101, 773.5426639537932, 3061.7133383831547, 6732.455248894828, 4079.0944713046897], \"loglift\": [30.0, 29.0, 28.0, 27.0, 26.0, 25.0, 24.0, 23.0, 22.0, 21.0, 20.0, 19.0, 18.0, 17.0, 16.0, 15.0, 14.0, 13.0, 12.0, 11.0, 10.0, 9.0, 8.0, 7.0, 6.0, 5.0, 4.0, 3.0, 2.0, 1.0, 0.7291, 0.7277, 0.7276, 0.7272, 0.7268, 0.7267, 0.7264, 0.7262, 0.726, 0.7258, 0.7255, 0.7254, 0.7253, 0.7253, 0.7251, 0.7249, 0.7245, 0.7235, 0.7235, 0.7235, 0.7232, 0.7225, 0.7224, 0.7223, 0.7213, 0.7207, 0.7206, 0.7205, 0.7204, 0.72, 0.7062, 0.7082, 0.7085, 0.7187, 0.7129, 0.7157, 0.6752, 0.6911, 0.6911, 0.691, 0.6754, 0.6789, 0.6754, 0.695, 0.6499, 0.6802, 0.6478, 0.6402, 0.6956, 0.6891, 0.5756, 0.6678, 0.6171, 0.6663, 0.6987, 0.6638, 0.5837, 0.6311, 0.6011, 0.5816, 0.5906, 0.624, 0.4847, 0.5859, 0.5525, 0.6072, 0.5016, 0.5991, 0.4344, 0.4718, 0.5795, 0.5991, 0.4301, 0.4449, 0.4517, 0.4217, 0.3913, 0.397, 0.3194, 0.4485, -0.5679, 0.3605, -0.4133, 1.4071, 1.4058, 1.4053, 1.4049, 1.4048, 1.4047, 1.4046, 1.4046, 1.4043, 1.4042, 1.404, 1.4039, 1.4039, 1.4038, 1.4031, 1.4031, 1.4028, 1.4024, 1.4023, 1.4022, 1.402, 1.4019, 1.4018, 1.4018, 1.4012, 1.4012, 1.4011, 1.401, 1.401, 1.4009, 1.4008, 1.3939, 1.3979, 1.3974, 1.3978, 1.3885, 1.3969, 1.379, 1.374, 1.3476, 1.354, 1.3914, 1.3277, 1.3163, 1.3, 1.3092, 1.3579, 1.3724, 1.3005, 1.2671, 1.2451, 1.3106, 1.3312, 1.2344, 1.2058, 1.1863, 1.2404, 1.0617, 1.2561, 1.2364, 0.9893, 0.4301, 1.1894, 1.1123, 0.7619, 0.9744, 1.1316, 1.1095, 0.8809, 0.8193, 0.3827, 0.3308, 0.8344, 0.7808, 0.7549, 0.3006, 0.0131, -0.0177, 0.4901, 0.6531, 0.1769, 0.3341, -0.5386, 1.7197, 1.7197, 1.7176, 1.7171, 1.717, 1.7166, 1.7166, 1.7166, 1.7166, 1.7164, 1.7164, 1.7156, 1.7155, 1.7154, 1.7153, 1.7152, 1.7152, 1.7151, 1.715, 1.715, 1.7147, 1.7146, 1.7144, 1.7143, 1.7142, 1.7139, 1.7136, 1.7135, 1.7134, 1.7133, 1.702, 1.699, 1.7119, 1.7132, 1.6894, 1.661, 1.6974, 1.7078, 1.6551, 1.6689, 1.6047, 1.551, 1.4632, 1.6571, 1.4131, 1.5817, 1.4926, 1.5453, 1.2542, 1.4304, 1.6076, 1.2978, 1.5333, 1.4004, 1.4446, 1.5363, 1.2365, 1.2719, 0.1442, 1.3208, 0.0313, 0.3001, 0.5441, 0.5762, -0.237, 0.6027, 0.9703, 0.4584, -0.4682, -0.0325, 0.1263, -0.4296, 2.3513, 2.3509, 2.3508, 2.35, 2.3499, 2.3492, 2.3489, 2.3489, 2.3486, 2.3477, 2.3475, 2.347, 2.3467, 2.3467, 2.3465, 2.3461, 2.346, 2.3458, 2.3457, 2.3455, 2.3454, 2.3451, 2.3448, 2.3438, 2.3438, 2.3433, 2.3433, 2.3428, 2.3423, 2.3421, 2.3355, 2.3397, 2.3133, 2.2737, 2.3241, 2.2727, 2.2794, 2.2979, 2.3027, 2.2538, 2.1845, 2.2042, 2.2819, 2.1793, 2.2528, 2.277, 2.0853, 2.2856, 1.8931, 1.7765, 2.1921, 2.1674, 1.7387, 2.1389, 1.8753, 1.5479, 1.7532, 1.5415, 2.1439, 1.6031, 0.5616, 1.5183, 1.6869, 2.1358, 1.4819, 1.8478, 1.9684, 1.0508, 1.4124, 1.5517, 1.4872, 1.0914, 1.3298, 1.2939, 0.0812, -0.7627, -0.3204], \"logprob\": [30.0, 29.0, 28.0, 27.0, 26.0, 25.0, 24.0, 23.0, 22.0, 21.0, 20.0, 19.0, 18.0, 17.0, 16.0, 15.0, 14.0, 13.0, 12.0, 11.0, 10.0, 9.0, 8.0, 7.0, 6.0, 5.0, 4.0, 3.0, 2.0, 1.0, -6.7457, -7.3397, -7.392, -7.4907, -7.5932, -7.5683, -7.5781, -7.7354, -7.8019, -7.4593, -7.89, -7.8976, -7.9015, -7.8235, -7.9604, -7.9753, -7.7663, -8.1815, -8.219, -7.9051, -8.0135, -7.4778, -6.7171, -7.4896, -8.4263, -8.5262, -8.5029, -8.451, -7.7192, -7.4502, -5.4625, -5.8582, -5.9371, -7.3052, -7.0033, -7.3577, -4.4201, -5.3499, -5.3865, -5.6116, -4.8652, -5.0876, -5.066, -6.1137, -4.0533, -5.6861, -4.6386, -4.47, -6.3993, -6.1976, -3.6107, -5.838, -4.6214, -5.8897, -6.7381, -5.9816, -4.0638, -5.324, -4.7806, -4.4798, -4.779, -5.5613, -3.649, -5.0308, -4.6621, -5.4592, -4.5671, -5.4345, -4.3558, -4.5975, -5.344, -5.4453, -4.7825, -5.0758, -5.1074, -5.0616, -5.0226, -5.0944, -5.0031, -5.2285, -4.713, -5.2598, -5.1248, -5.5531, -6.4012, -6.5682, -6.684, -6.6831, -6.7735, -6.8014, -6.7533, -6.8066, -6.833, -6.7941, -6.892, -6.5014, -6.9642, -7.1477, -7.1048, -6.2701, -7.1816, -6.5055, -6.9578, -7.3268, -7.3398, -7.3921, -7.3745, -6.6286, -7.4547, -7.5038, -7.4909, -7.3015, -7.4577, -6.7937, -6.464, -6.8732, -6.8459, -6.8852, -6.5783, -6.9934, -6.1906, -6.179, -5.4785, -5.8553, -6.8544, -5.3777, -5.3972, -5.2735, -5.7229, -6.4355, -6.5976, -5.8791, -5.6299, -5.5606, -6.1379, -6.3257, -5.7558, -5.6042, -5.5082, -5.8846, -5.1679, -6.1612, -6.1358, -5.3594, -3.715, -6.0153, -5.8432, -5.1085, -5.6069, -5.928, -5.9145, -5.5421, -5.4447, -5.1168, -5.2206, -5.7574, -5.726, -5.7369, -5.4969, -5.4008, -5.5092, -5.7097, -5.7688, -5.7139, -5.7499, -5.7532, -4.4548, -4.3568, -6.2232, -6.3999, -6.4165, -3.6571, -6.5006, -6.5341, -4.5606, -6.6067, -3.5056, -6.7713, -6.7986, -6.8294, -6.2155, -6.8315, -6.8541, -6.8608, -6.781, -6.618, -6.9727, -6.9882, -6.9369, -7.0556, -7.0425, -7.0996, -7.0943, -7.1168, -7.0791, -7.1011, -4.6148, -4.8319, -6.6836, -7.0489, -5.5719, -4.9522, -6.3561, -6.7997, -5.6039, -5.899, -5.2968, -4.6471, -3.9371, -6.201, -4.3646, -5.7396, -5.068, -5.5353, -3.4573, -4.7443, -6.0007, -4.3729, -5.8593, -5.4536, -5.7216, -5.9864, -5.5112, -5.5801, -3.9896, -5.6912, -4.1138, -4.4901, -4.7784, -4.9037, -4.4234, -5.1701, -5.4441, -5.3055, -5.1157, -5.2451, -5.3944, -5.491, -5.8444, -5.9212, -5.9285, -6.1531, -6.1788, -6.2623, -6.1532, -6.3298, -6.0307, -6.0267, -6.5353, -6.5921, -6.5601, -6.5794, -6.6807, -6.6173, -6.6742, -6.6834, -6.7396, -6.7367, -6.7665, -6.8048, -6.7833, -6.7768, -6.808, -6.9329, -6.9723, -6.9784, -7.0339, -6.9668, -6.1777, -6.6932, -4.2001, -2.5178, -6.0292, -4.4923, -5.4984, -6.0243, -6.1007, -5.5315, -4.7768, -5.1182, -6.0297, -5.2258, -5.9029, -6.1157, -4.582, -6.2015, -3.9663, -3.4904, -5.723, -5.7452, -4.461, -5.6799, -4.9864, -4.216, -4.7377, -4.3493, -5.811, -4.9814, -3.5835, -4.9502, -5.3536, -5.8296, -5.2539, -5.5824, -5.693, -5.1378, -5.3822, -5.4655, -5.4854, -5.3229, -5.5206, -5.5814, -5.4183, -5.4742, -5.533]}, \"token.table\": {\"Topic\": [3, 3, 1, 3, 1, 2, 3, 4, 1, 3, 4, 4, 1, 4, 2, 4, 2, 1, 2, 3, 4, 1, 1, 2, 3, 1, 2, 3, 4, 1, 2, 3, 4, 3, 1, 2, 1, 2, 3, 4, 1, 1, 2, 1, 2, 1, 2, 3, 4, 1, 2, 3, 4, 2, 3, 1, 2, 3, 2, 3, 4, 1, 2, 3, 1, 2, 3, 4, 1, 2, 3, 4, 1, 2, 3, 4, 2, 3, 4, 1, 2, 3, 4, 1, 2, 3, 2, 3, 1, 1, 2, 2, 4, 1, 2, 1, 2, 3, 4, 1, 1, 3, 4, 2, 3, 1, 2, 1, 2, 3, 4, 1, 2, 3, 4, 2, 1, 2, 3, 2, 3, 4, 1, 3, 4, 1, 1, 2, 3, 4, 1, 2, 3, 4, 1, 2, 3, 4, 1, 2, 3, 4, 4, 1, 1, 2, 3, 4, 1, 2, 3, 4, 4, 2, 3, 4, 2, 3, 4, 2, 4, 1, 2, 3, 4, 1, 2, 3, 4, 3, 1, 2, 3, 4, 1, 2, 3, 4, 4, 1, 3, 4, 1, 2, 3, 4, 1, 2, 3, 4, 1, 4, 1, 2, 1, 2, 3, 4, 1, 2, 3, 4, 1, 2, 3, 4, 4, 2, 4, 2, 1, 4, 1, 2, 3, 4, 2, 3, 3, 4, 1, 2, 3, 4, 2, 3, 4, 1, 2, 3, 3, 3, 1, 2, 3, 4, 1, 3, 4, 1, 2, 3, 4, 1, 2, 3, 4, 1, 3, 4, 1, 2, 2, 3, 1, 3, 4, 3, 1, 2, 3, 4, 1, 2, 3, 4, 1, 1, 2, 3, 4, 1, 2, 3, 4, 1, 2, 3, 4, 1, 2, 3, 4, 1, 3, 4, 1, 2, 3, 3, 1, 2, 3, 4, 1, 2, 1, 2, 3, 4, 1, 2, 3, 3, 1, 2, 3, 4, 4, 4, 1, 2, 3, 4, 2, 2, 4, 1, 2, 3, 1, 2, 3, 4, 3, 1, 2, 3, 4, 1, 2, 3, 4, 2, 1, 2, 3, 4, 3, 1, 2, 3, 4, 1, 2, 3, 2, 1, 2, 3, 4, 2, 3, 1, 2, 1, 2, 3, 4, 1, 2, 3, 4, 1, 2, 3, 4, 3, 1, 2, 3, 4, 1, 2, 3, 4, 1, 2, 3, 1, 2, 3, 4, 2, 1, 2, 3, 4, 1, 2, 3, 4, 1, 2, 3, 4, 3, 1, 2, 3, 4, 1, 2, 3, 4, 2, 3, 4, 2, 1, 2, 3, 4, 3, 4, 1, 2, 3, 4, 4, 2, 3, 1, 2, 3, 4, 1, 2, 3, 4, 1, 1, 2, 3, 4, 1, 2, 3, 3, 4, 1, 1, 2, 3, 4, 2, 1, 2, 3, 4, 4, 1, 2, 3, 4, 3, 1, 2, 3, 4, 1, 1, 4, 4, 1, 2, 3, 4, 3, 3, 1, 3, 4, 2, 3, 1, 2, 3, 2, 3, 2, 2, 3, 1, 2, 4, 1, 2, 3, 4, 2, 2, 1, 2, 4, 2, 4, 1, 2, 3, 4, 1, 1, 1, 2, 3, 4, 3, 1, 2, 3, 4, 1, 2, 3, 4, 1, 2, 3, 2, 3, 4, 2, 3, 4, 1, 2, 3, 4, 4, 3, 4, 1, 2, 3, 4, 1, 2, 3, 4, 1, 2, 3, 4, 1, 2, 3, 1, 2, 3, 1, 4, 1, 2, 3, 4, 1, 2, 3, 4, 1, 2, 3, 4, 1, 2, 3, 4, 4, 1, 2, 3, 4, 1, 2, 1, 2, 3, 1, 2, 3, 4, 1, 2, 4, 1, 2, 3, 4, 2, 4, 1, 2, 3, 1, 2, 1, 2, 3, 4, 4, 2, 4, 1, 2, 3, 1, 2, 3, 4, 1, 2, 3, 4, 4, 1, 2, 3, 4, 1, 2, 3, 4, 1, 2, 3, 4, 1, 2, 3, 4, 4, 3, 1, 2, 3, 4, 1, 2, 2, 2, 3, 1, 2, 3, 2, 4, 1, 2, 3, 4, 1, 2, 3, 4, 3, 2, 2, 3, 4, 1, 3, 1, 2, 3, 4, 4, 1, 2, 3, 4, 1, 2, 3, 4, 2, 3, 1, 2, 3, 4, 3, 4, 2, 4, 1, 2, 1, 2, 3, 4, 3, 4, 1, 2, 3, 1, 4, 1, 2, 3, 4, 3, 1, 2, 3, 4, 1, 2, 3, 4, 3, 1, 3, 1, 2, 3, 4, 1, 2, 3, 4, 1, 2, 3, 4, 1, 2, 3, 4, 1, 2, 3, 4], \"Freq\": [0.9953676199843321, 0.9984808941233888, 0.003553979813050185, 0.9965359395792719, 0.179283672202646, 0.7437471089031642, 0.06863203076507542, 0.008403922134499031, 0.24460355518579327, 0.47208486150858103, 0.2829247788315676, 0.9966609921549088, 0.9977986128783372, 0.9948183855660265, 0.06479435690893576, 0.9330387394886749, 0.9992320015702434, 0.06720680706574743, 0.13021318868988566, 0.03885393533488524, 0.7634273240124748, 0.9983249360843692, 0.836650031178212, 0.1427168726114331, 0.02063376471490599, 0.274036633716374, 0.0007752097134833776, 0.6554398127501958, 0.06976887421350399, 0.32480858235317145, 0.004401200302888502, 0.12323360848087805, 0.5475093176793296, 0.9974356855306223, 0.003630242273445895, 0.9946863829241752, 0.9504500430976712, 0.022537245502724828, 0.010880049553039572, 0.01632007432955936, 0.9909911544619476, 0.9853906596094547, 0.012852921647079844, 0.0036212401284154666, 0.9958410353142534, 0.9050477873985907, 0.0015453291759793808, 0.09323486028408931, 0.0005151097253264603, 0.19914215746192454, 0.17638305375199032, 0.6167717105392178, 0.007965686298476982, 0.9707998672194239, 0.028476796105103102, 0.0028705209870952208, 0.9932002615349464, 0.0028705209870952208, 0.07027068520577584, 0.09003431541990028, 0.8388563046439491, 0.005912058926689912, 0.005912058926689912, 0.9932258996839052, 0.013384486733357731, 0.8977166459016365, 0.07839485086680957, 0.010516382433352503, 0.0012307391065547978, 0.9415154165144202, 0.054152520688411095, 0.0024614782131095955, 0.07387093217532627, 0.8162132505929494, 0.10414590437832885, 0.006054994440600515, 0.05371412560814959, 0.9429813162319595, 0.002984118089341644, 0.00516858236867972, 0.04134865894943776, 0.9510191558370685, 0.00258429118433986, 0.9909826566002745, 0.9924780855540943, 0.004101149113859894, 0.9879974657027681, 0.005283408907501434, 0.9965623535803758, 0.9949869121383224, 0.9979169140119043, 0.39630889852715273, 0.6012186131065329, 0.994618405105771, 0.9978115826675167, 0.6627365173802852, 0.00656716615075427, 0.30838317716250263, 0.022164185758795665, 0.994574048500844, 0.983495909050869, 0.09303947005460832, 0.9024828595297008, 0.9901756573362752, 0.010155647767551542, 0.9944783627216215, 0.9907477068618474, 0.34008758869765887, 0.648382286667208, 0.0009634209311548409, 0.01156105117385809, 0.7717441907638689, 0.09537933984392435, 0.11598467606855833, 0.01678166558501119, 0.9957557354854664, 0.9908648463205184, 0.9901783943380609, 0.9943385302884423, 0.043957626052948506, 0.005494703256618563, 0.9450889601383929, 0.2720890519606997, 0.7264144922113565, 0.0012655304742358127, 0.9950055089194088, 0.45703585753183645, 0.5339538296409126, 0.0008943950245241417, 0.008049555220717276, 0.7564605204751305, 0.10677811196440888, 0.13381932213721373, 0.0027734574536210097, 0.19657041665205405, 0.5905337203187231, 0.1661390132373009, 0.04770328102853195, 0.11850825025493245, 0.7410515902017295, 0.1350093990246066, 0.006000417734426959, 0.9973561102827007, 0.9927489423389044, 0.315883617916092, 0.01893580270886655, 0.23239394233608948, 0.4329413073890852, 0.0011926391848026533, 0.6082459842493532, 0.0023852783696053067, 0.38999301343046766, 0.9941336723573182, 0.1893188361576865, 0.0033213830904857277, 0.8070960909880318, 0.9918458077865397, 0.0052202410936133675, 0.993203354799404, 0.9951235942633039, 0.9931610535675536, 0.24573649195588565, 0.000641609639571503, 0.7481168397403725, 0.005774486756143527, 0.7818239145620878, 8.335009750128867e-05, 0.2067915919006972, 0.01125226316267397, 0.9980531729910812, 0.0020215349125863795, 0.12331362966776915, 0.014150744388104656, 0.8591523378492113, 0.14661802248057065, 0.8414599551058837, 0.0042497977530600185, 0.006374696629590028, 0.9899418939140835, 0.9895905047518992, 0.9394890987488518, 0.058718068671803236, 0.5569244573898835, 0.3405529418258089, 0.040591158722672174, 0.061918716695601624, 0.8987630681814355, 0.09532335571621285, 0.0006484582021511078, 0.005187665617208862, 0.9960402735308171, 0.9956905377058785, 0.9885290367906951, 0.006178306479941845, 0.03656736264207895, 0.08044819781257369, 0.03291062637787105, 0.8483628132962316, 0.9134918590623866, 0.0035406661203968475, 0.04802028425788225, 0.03496407793891887, 0.23813140676383981, 0.2917472001731425, 0.02656638412172655, 0.4434171022499086, 0.9875902969432536, 0.005788586930596508, 0.9898483651320028, 0.9945473695847037, 0.9651180490389245, 0.03507321230843209, 0.958529056395198, 0.009153756336652642, 0.014384474243311294, 0.01699983319664062, 0.657390490099755, 0.3420568403771083, 0.9853113244615275, 0.006612827680949849, 0.115605183285869, 0.03481292451222191, 0.8447060551456109, 0.005254781058448591, 0.02852892207618525, 0.9699833505902985, 0.00190192813841235, 0.08763645231883237, 0.8973972717448434, 0.014021832371013178, 0.9941687394572926, 0.9968278514480592, 0.876352855279525, 0.09180303046951321, 0.0022528351035463368, 0.029286856346102376, 0.22596276107213573, 0.7734196599524017, 0.0005915255525448579, 0.7539838549098875, 0.0046807068075109416, 0.17786685868541577, 0.06357960080202361, 0.318457371157714, 0.009654724405434426, 0.6275570863532377, 0.04426319804337629, 0.20289450267018533, 0.7964788849006345, 0.991083043419155, 0.048568862913954604, 0.9519497131135102, 0.9913227276386564, 0.004835720622627592, 0.004199883372800055, 0.9785728258624129, 0.01679953349120022, 0.9975574558587019, 0.3627086651844836, 0.5549372420907669, 0.022450052777376158, 0.05963295268990542, 0.3524548674233613, 0.46993982323114836, 0.05833169134512506, 0.11912810204286103, 0.9942947797932489, 0.8837532819576437, 0.014969110964754877, 0.04433159785715867, 0.05699776867348972, 0.2593263305006343, 0.038471488590753444, 0.28212424966552524, 0.4203366346026765, 0.5900110337771658, 0.3304237780511943, 0.05147747274565876, 0.028158617570274876, 0.5202969135057038, 0.3586227313429145, 0.01829041252750748, 0.10288357046722957, 0.9781699578853731, 0.01232987341872319, 0.009247405064042393, 0.0009161564641198135, 0.020155442210635897, 0.9793712601440807, 0.9997886835094323, 0.0128466438579116, 0.064233219289558, 0.0160583048223895, 0.90247673101829, 0.00588170571288374, 0.9881265597644684, 0.8764191372530663, 0.05125909766515073, 0.03955865145897502, 0.03287268219830319, 0.6906545784921948, 0.15147226881552406, 0.15773754514122698, 0.9979668442407903, 0.9390842457813784, 0.02233787454284915, 0.03216653934170278, 0.006254604871997763, 0.9847699618535741, 0.9950520780223208, 0.945747668540835, 0.03248418686320526, 0.01308088061605581, 0.00872058707737054, 0.9954601262620145, 0.04050838054449839, 0.9586983395531286, 0.9678877220220553, 0.024933875742956926, 0.004533431953264896, 0.9203407787765271, 0.01002952382951191, 0.04434105271994739, 0.025601679249017243, 0.9927395304667073, 0.015383756590218414, 0.16537538334484797, 0.019229695737773018, 0.8038012818389122, 0.00216874768262914, 0.1583185808319272, 0.8306303624469605, 0.010843738413145699, 0.9937540712551167, 0.10429254016133305, 0.00446968029262856, 0.4424983489702274, 0.44845792269373214, 0.991891929242047, 0.02816162265165165, 0.2697587011895053, 0.6714323716420104, 0.03260819464928086, 0.46166184012647593, 0.5206911212113498, 0.01762068092085786, 0.9941987696498007, 0.8562475401436003, 0.00026354187138922754, 0.14125844306462595, 0.002196182261576896, 0.9927644957363516, 0.005705543078944549, 0.9921434679281159, 0.9976440334834006, 0.0794511810629683, 0.19011532611495988, 0.05107575925476534, 0.678172581216051, 0.8594942511777752, 0.04442217674496051, 0.06937845581516304, 0.026453655814414685, 0.89240397530643, 0.0578666237159512, 0.02868171784181929, 0.02088230334097369, 0.9954088037555145, 0.7340031321368241, 0.15393498261538474, 0.0719862966719127, 0.04017092448209414, 0.4481856984360266, 0.5239087309067386, 0.012778261729432649, 0.015617875447084349, 0.21295833978427048, 0.7585669329541898, 0.027979927854867654, 0.2728783388537369, 0.3759769512782412, 0.1847007848095575, 0.166407735834809, 0.9949929906423434, 0.12934179827364856, 0.1416803250826479, 0.2833606501652958, 0.4463142973324254, 0.03749922062592737, 0.3993338056129459, 0.023683718290059393, 0.5401203532260768, 0.8651321164767946, 0.11346596943604818, 0.008078483260818965, 0.013586540029559167, 0.9895908331955211, 0.5503740256475523, 0.15743559598901616, 0.020167369734130167, 0.271283650939751, 0.057121910772947565, 0.0020917882818262488, 0.018987001327345952, 0.9218350051217369, 0.003805312934837591, 0.18646033380704194, 0.8105316551204068, 0.9979315189134644, 0.7403603964666352, 0.017405823890440764, 0.1733227815569242, 0.06888783821427964, 0.9954984295659796, 0.0037145463789775355, 0.15486390084258939, 0.08929478405129807, 0.7354956850602087, 0.020274661113096663, 0.992483054482129, 0.9658333595992846, 0.034770000945574246, 0.9459680097838371, 0.007487873428368104, 0.01871968357092026, 0.027871528872259053, 0.623107195582934, 0.02973333090955909, 0.001292753517806917, 0.3464579427722538, 0.9890734020664439, 0.026781223260919765, 0.3366782352801342, 0.017854148840613177, 0.6185187276926708, 0.10352183544497913, 0.005308812074101494, 0.8905532254305256, 0.06523683398831119, 0.9296248843334344, 0.9878104110903984, 0.18871518348052874, 0.8033874953885366, 0.0017972874617193213, 0.007189149846877285, 0.9942737452785233, 0.08540327367848485, 0.3019615747917857, 0.09912879980538421, 0.5124196420709091, 0.9916264358555934, 0.7512483405513722, 0.008006199011204678, 0.2031572999093187, 0.03769585367775535, 0.9972025145539742, 0.7120466991386105, 0.24764234673199675, 0.0320795776032974, 0.008094846684944203, 0.9924294410464218, 0.9931672549430058, 0.9928362298911889, 0.9896606458637388, 0.4582336644136613, 0.34162433037489076, 0.124227029227233, 0.07559097533166537, 0.9994720459044549, 0.9937032232853412, 0.9921654483652769, 0.0048635561194376314, 0.9930788486143606, 0.9819707943420755, 0.015403463440660008, 0.11609102505763845, 0.051870458004476754, 0.832397349881365, 0.9843138412264497, 0.013814931104932628, 0.9965394010893966, 0.9950706749847592, 0.9926224498362068, 0.9830991980884506, 0.0029972536527086906, 0.014986268263543453, 0.0011578241203454693, 0.06252250249865535, 0.01620953768483657, 0.9204701756746481, 0.9963264903413996, 0.9963653829705579, 0.13342765929053768, 0.8397240731437099, 0.024655110955860222, 0.013300884167879612, 0.9776149863391514, 0.21271688915755743, 0.025941084043604564, 0.7592090596761603, 0.001729405602906971, 0.995559549865744, 0.9938658218953162, 0.012058624379940775, 0.8489271563478306, 0.11696865648542552, 0.021705523883893397, 0.993719899228598, 0.10317877129910417, 0.04285887423193558, 0.8397164618034786, 0.014286291410645193, 0.878201966675371, 0.013935105586914978, 0.1062551801002267, 0.0014515734986369768, 0.0025460919451188373, 0.9675149391451582, 0.030553103341426045, 0.058822374221540165, 0.937362995659382, 0.0018974959426303279, 0.005959272475106829, 0.041714907325747806, 0.9475243235419858, 0.03635137272630231, 0.08481986969470538, 0.8704134247242387, 0.00807808282806718, 0.9950241599467784, 0.9963835322898684, 0.9937542542357443, 0.527841727573854, 0.14156920120609434, 0.31869084886892274, 0.01217110779599906, 0.38360851496243553, 0.5637292643737314, 0.05257578631464852, 0.0009736256724934911, 0.8613211426528239, 0.006533142995409234, 0.11654284117617118, 0.01559524456968656, 0.0234704034638176, 0.9478432168080184, 0.028886650417006277, 0.07409880659623909, 0.9058201051254533, 0.019658867056145064, 0.991165079364698, 0.009439667422520934, 0.004437724075385155, 0.012573551546924607, 0.982216262018581, 0.0007396206792308592, 0.04673385413251609, 0.08210001401658232, 0.6391170321906254, 0.23240619352386377, 0.05471731356349595, 0.11308244803122496, 0.003647820904233063, 0.8280553452609053, 0.4003177313483451, 0.029236688244542057, 0.15293036927914308, 0.4171850514894271, 0.9912956423506674, 0.19314433678630819, 0.8006318318181043, 0.0043160745650571665, 0.0010790186412642916, 0.09173089127496177, 0.9058425513402475, 0.0400148270877291, 0.8580957364368573, 0.10003706771932275, 0.014088890661566439, 0.09298667836633849, 0.04790222824932589, 0.842515661561673, 0.9867211961937644, 0.008154720629700532, 0.9905654503142807, 0.26774669992666006, 0.24358183531234054, 0.017398702522310037, 0.4716981572715166, 0.011183467857227418, 0.9841451714360128, 0.12814503041668612, 0.8679513915851833, 0.003963248363402664, 0.9348406853429416, 0.06471973975451134, 0.9609903644493059, 0.0033679568847522403, 0.03424089499498111, 0.0011226522949174134, 0.9869204919488629, 0.9922092119652554, 0.9842614027263163, 0.9979549722054759, 0.9824927576841842, 0.01527190815053136, 0.2880781251817734, 0.7069776107402109, 0.0033891544139032165, 0.0006778308827806432, 0.9963961476812159, 0.00479036609462123, 0.005817134117214865, 0.994729934043742, 0.9889044546083029, 0.33852665913609176, 0.049174361801114244, 0.05150367367590387, 0.5605877245327023, 0.7163380730544853, 0.24039929905311086, 0.03887859283877804, 0.004859824104847255, 0.9495300419139678, 0.024314111585398097, 0.0021328168057366753, 0.024314111585398097, 0.8690771112010911, 0.003728713678420523, 0.12390802377520507, 0.003155065420201981, 0.9940514296612258, 0.9911826661105018, 0.9223260401914573, 0.021802308568652878, 0.03682822393353527, 0.019003363549704198, 0.99091868247737, 0.006818247815211262, 0.9954542364762894, 0.9930957900946297, 0.9984639847833708, 0.005649679569796653, 0.926547449446651, 0.06779615483755984, 0.9923132647035072, 0.9980736025945921, 0.33096828172085824, 0.023406526288603836, 0.01591643787625061, 0.6301036876892152, 0.9375101518370217, 0.009393889296964145, 0.0450906686254279, 0.0075151114375713165, 0.9974244767010175, 0.9943468813846055, 0.017003207400510954, 0.011335471600340636, 0.9691828218291244, 0.0034562798440723663, 0.996560688374199, 0.7435414144018255, 0.0006427848838572081, 0.24168711633031026, 0.014141267444858578, 0.9839831569865505, 0.06817879630378831, 0.9116164860619437, 0.018694186083296795, 0.0010996580048998113, 0.7952222450525599, 0.07387542479399115, 0.08491428137240362, 0.045853711941097955, 0.9949800265328229, 0.9972708549848657, 0.013088731324551208, 0.9227555583808602, 0.05235492529820483, 0.011998003714171942, 0.07074860988313329, 0.9256276459709939, 0.07013661532457517, 0.9277161390659716, 0.15432498001249337, 0.8446388691006358, 0.9777485133118395, 0.0009492704012736305, 0.01423905601910446, 0.007594163210189044, 0.9953024800352045, 0.9874376956033722, 0.09955468037079364, 0.005381334074096953, 0.8933014563000943, 0.9938783647030146, 0.00492018992427235, 0.9460561134080384, 0.010889854542826342, 0.017355705677629483, 0.025863404539212563, 0.9968181017930511, 0.5623447911242059, 0.08199072908757506, 0.32710437468446174, 0.028331874972669913, 0.9609991124257825, 0.0007291343796857226, 0.03791498774365758, 0.0007291343796857226, 0.988773185591853, 0.0037119290298585415, 0.9962817516140325, 0.9661226395884657, 0.020932657191083424, 0.011271430795198765, 0.003220408798628219, 0.9757381956682875, 0.01658117195253299, 0.0006377373827897303, 0.007015111210687034, 0.09709361590343213, 0.13996612162702554, 0.4035059362220556, 0.35811151839707434, 0.8632509763140939, 0.00376174570052946, 0.11215575144171168, 0.020898587225163665, 0.9612576282939945, 0.002328910062493021, 0.016884597953074402, 0.01979573553119068], \"Term\": [\"ahh\", \"ain\", \"aint\", \"aint\", \"air\", \"air\", \"air\", \"air\", \"alright\", \"alright\", \"alright\", \"america\", \"amp\", \"answers\", \"appear\", \"appear\", \"arrived\", \"ask\", \"ask\", \"ask\", \"ask\", \"awake\", \"away\", \"away\", \"away\", \"baby\", \"baby\", \"baby\", \"baby\", \"bad\", \"bad\", \"bad\", \"bad\", \"bang\", \"began\", \"began\", \"believe\", \"believe\", \"believe\", \"believe\", \"believed\", \"belong\", \"belong\", \"beneath\", \"beneath\", \"better\", \"better\", \"better\", \"better\", \"big\", \"big\", \"big\", \"big\", \"bird\", \"bird\", \"birds\", \"birds\", \"birds\", \"bit\", \"bit\", \"bit\", \"bitch\", \"bitch\", \"bitch\", \"black\", \"black\", \"black\", \"black\", \"blood\", \"blood\", \"blood\", \"blood\", \"blue\", \"blue\", \"blue\", \"blue\", \"boy\", \"boy\", \"boy\", \"boys\", \"boys\", \"boys\", \"boys\", \"brave\", \"brick\", \"brick\", \"bug\", \"bug\", \"bye\", \"calm\", \"cancer\", \"capital\", \"capital\", \"cares\", \"cat\", \"cause\", \"cause\", \"cause\", \"cause\", \"changes\", \"charm\", \"choose\", \"choose\", \"claw\", \"claw\", \"cmon\", \"coat\", \"cold\", \"cold\", \"cold\", \"cold\", \"come\", \"come\", \"come\", \"come\", \"concrete\", \"cost\", \"covered\", \"daddy\", \"damned\", \"damned\", \"damned\", \"dance\", \"dance\", \"dance\", \"dare\", \"dark\", \"dark\", \"dark\", \"dark\", \"day\", \"day\", \"day\", \"day\", \"dead\", \"dead\", \"dead\", \"dead\", \"deep\", \"deep\", \"deep\", \"deep\", \"desire\", \"diamonds\", \"die\", \"die\", \"die\", \"die\", \"died\", \"died\", \"died\", \"died\", \"difficult\", \"dip\", \"dip\", \"dip\", \"disco\", \"disco\", \"distance\", \"dive\", \"divine\", \"don\", \"don\", \"don\", \"don\", \"dont\", \"dont\", \"dont\", \"dont\", \"doo\", \"drop\", \"drop\", \"drop\", \"drop\", \"earth\", \"earth\", \"earth\", \"earth\", \"enemy\", \"everyones\", \"evil\", \"evil\", \"eyes\", \"eyes\", \"eyes\", \"eyes\", \"fall\", \"fall\", \"fall\", \"fall\", \"falls\", \"fame\", \"fault\", \"fault\", \"favorite\", \"favorite\", \"favorite\", \"favorite\", \"feel\", \"feel\", \"feel\", \"feel\", \"feeling\", \"feeling\", \"feeling\", \"feeling\", \"fever\", \"finds\", \"finds\", \"flight\", \"forever\", \"forever\", \"forget\", \"forget\", \"forget\", \"forget\", \"fuck\", \"fuck\", \"fuckin\", \"fuckin\", \"girl\", \"girl\", \"girl\", \"girl\", \"girls\", \"girls\", \"girls\", \"giving\", \"giving\", \"giving\", \"goin\", \"gon\", \"gone\", \"gone\", \"gone\", \"gone\", \"gonna\", \"gonna\", \"gonna\", \"good\", \"good\", \"good\", \"good\", \"got\", \"got\", \"got\", \"got\", \"gotta\", \"gotta\", \"grace\", \"green\", \"green\", \"grin\", \"grin\", \"guy\", \"guy\", \"guy\", \"guys\", \"hand\", \"hand\", \"hand\", \"hand\", \"hands\", \"hands\", \"hands\", \"hands\", \"happening\", \"hard\", \"hard\", \"hard\", \"hard\", \"hate\", \"hate\", \"hate\", \"hate\", \"head\", \"head\", \"head\", \"head\", \"heart\", \"heart\", \"heart\", \"heart\", \"help\", \"help\", \"help\", \"hes\", \"hes\", \"hes\", \"hey\", \"higher\", \"higher\", \"higher\", \"higher\", \"highway\", \"highway\", \"hold\", \"hold\", \"hold\", \"hold\", \"home\", \"home\", \"home\", \"hoo\", \"hope\", \"hope\", \"hope\", \"hope\", \"hunger\", \"ignore\", \"ill\", \"ill\", \"ill\", \"ill\", \"images\", \"important\", \"important\", \"isnt\", \"isnt\", \"isnt\", \"ive\", \"ive\", \"ive\", \"ive\", \"jack\", \"key\", \"key\", \"key\", \"key\", \"kid\", \"kid\", \"kid\", \"kid\", \"killer\", \"kind\", \"kind\", \"kind\", \"kind\", \"kinda\", \"kiss\", \"kiss\", \"kiss\", \"kiss\", \"knew\", \"knew\", \"knew\", \"knife\", \"know\", \"know\", \"know\", \"know\", \"lake\", \"lake\", \"lately\", \"leaf\", \"learned\", \"learned\", \"learned\", \"learned\", \"leave\", \"leave\", \"leave\", \"leave\", \"let\", \"let\", \"let\", \"let\", \"lied\", \"life\", \"life\", \"life\", \"life\", \"light\", \"light\", \"light\", \"light\", \"lights\", \"lights\", \"lights\", \"like\", \"like\", \"like\", \"like\", \"lit\", \"little\", \"little\", \"little\", \"little\", \"living\", \"living\", \"living\", \"living\", \"long\", \"long\", \"long\", \"long\", \"lookin\", \"lost\", \"lost\", \"lost\", \"lost\", \"love\", \"love\", \"love\", \"love\", \"lover\", \"lover\", \"lover\", \"machine\", \"make\", \"make\", \"make\", \"make\", \"mama\", \"mama\", \"man\", \"man\", \"man\", \"man\", \"mercy\", \"metal\", \"metal\", \"mind\", \"mind\", \"mind\", \"mind\", \"miss\", \"miss\", \"miss\", \"miss\", \"mission\", \"moment\", \"moment\", \"moment\", \"moment\", \"money\", \"money\", \"money\", \"monkey\", \"monkey\", \"month\", \"moon\", \"moon\", \"moon\", \"moon\", \"mountain\", \"mouth\", \"mouth\", \"mouth\", \"mouth\", \"mystery\", \"need\", \"need\", \"need\", \"need\", \"niggas\", \"night\", \"night\", \"night\", \"night\", \"nothings\", \"notice\", \"ohoh\", \"ohohoh\", \"old\", \"old\", \"old\", \"old\", \"ooh\", \"oohooh\", \"oooh\", \"oooh\", \"owe\", \"pair\", \"pair\", \"party\", \"party\", \"party\", \"planet\", \"planet\", \"pocket\", \"poison\", \"pool\", \"pretend\", \"pretend\", \"pretend\", \"probably\", \"probably\", \"probably\", \"probably\", \"punk\", \"purpose\", \"rain\", \"rain\", \"rain\", \"rate\", \"rate\", \"ready\", \"ready\", \"ready\", \"ready\", \"realize\", \"reasons\", \"red\", \"red\", \"red\", \"red\", \"rich\", \"ride\", \"ride\", \"ride\", \"ride\", \"right\", \"right\", \"right\", \"right\", \"river\", \"river\", \"river\", \"rock\", \"rock\", \"rock\", \"rocking\", \"rocking\", \"rocking\", \"roll\", \"roll\", \"roll\", \"roll\", \"row\", \"runnin\", \"rush\", \"said\", \"said\", \"said\", \"said\", \"saw\", \"saw\", \"saw\", \"saw\", \"say\", \"say\", \"say\", \"say\", \"screaming\", \"screaming\", \"screaming\", \"sea\", \"sea\", \"sea\", \"seeing\", \"seeing\", \"shes\", \"shes\", \"shes\", \"shes\", \"shit\", \"shit\", \"shit\", \"shit\", \"silent\", \"silent\", \"silent\", \"silent\", \"sing\", \"sing\", \"sing\", \"sing\", \"sisters\", \"sky\", \"sky\", \"sky\", \"sky\", \"slowly\", \"slowly\", \"smoke\", \"smoke\", \"smoke\", \"somebody\", \"somebody\", \"somebody\", \"somebody\", \"someday\", \"someday\", \"somethings\", \"song\", \"song\", \"song\", \"song\", \"spread\", \"spread\", \"stars\", \"stars\", \"stars\", \"start\", \"start\", \"stay\", \"stay\", \"stay\", \"stay\", \"steady\", \"steel\", \"strength\", \"stronger\", \"sucked\", \"sucked\", \"sun\", \"sun\", \"sun\", \"sun\", \"supposed\", \"supposed\", \"switch\", \"switch\", \"teach\", \"tell\", \"tell\", \"tell\", \"tell\", \"theres\", \"theres\", \"theres\", \"theres\", \"things\", \"things\", \"things\", \"things\", \"think\", \"think\", \"think\", \"think\", \"tick\", \"ticket\", \"time\", \"time\", \"time\", \"time\", \"tomorrow\", \"tomorrow\", \"tone\", \"tower\", \"treat\", \"trees\", \"trees\", \"trees\", \"trip\", \"truly\", \"try\", \"try\", \"try\", \"try\", \"trying\", \"trying\", \"trying\", \"trying\", \"uhhuh\", \"veins\", \"venom\", \"venom\", \"venom\", \"wanna\", \"wanna\", \"want\", \"want\", \"want\", \"want\", \"wanting\", \"water\", \"water\", \"water\", \"water\", \"way\", \"way\", \"way\", \"way\", \"web\", \"weird\", \"white\", \"white\", \"white\", \"white\", \"whoa\", \"whoa\", \"willing\", \"willing\", \"wind\", \"wind\", \"wish\", \"wish\", \"wish\", \"wish\", \"woah\", \"wolf\", \"woman\", \"woman\", \"woman\", \"wondering\", \"wondering\", \"wont\", \"wont\", \"wont\", \"wont\", \"woo\", \"world\", \"world\", \"world\", \"world\", \"wrong\", \"wrong\", \"wrong\", \"wrong\", \"yall\", \"yeah\", \"yeah\", \"youd\", \"youd\", \"youd\", \"youd\", \"youll\", \"youll\", \"youll\", \"youll\", \"young\", \"young\", \"young\", \"young\", \"youre\", \"youre\", \"youre\", \"youre\", \"youve\", \"youve\", \"youve\", \"youve\"]}, \"R\": 30, \"lambda.step\": 0.01, \"plot.opts\": {\"xlab\": \"PC1\", \"ylab\": \"PC2\"}, \"topic.order\": [3, 2, 1, 4]};\n",
       "\n",
       "function LDAvis_load_lib(url, callback){\n",
       "  var s = document.createElement('script');\n",
       "  s.src = url;\n",
       "  s.async = true;\n",
       "  s.onreadystatechange = s.onload = callback;\n",
       "  s.onerror = function(){console.warn(\"failed to load library \" + url);};\n",
       "  document.getElementsByTagName(\"head\")[0].appendChild(s);\n",
       "}\n",
       "\n",
       "if(typeof(LDAvis) !== \"undefined\"){\n",
       "   // already loaded: just create the visualization\n",
       "   !function(LDAvis){\n",
       "       new LDAvis(\"#\" + \"ldavis_el1609627849535576643819326179\", ldavis_el1609627849535576643819326179_data);\n",
       "   }(LDAvis);\n",
       "}else if(typeof define === \"function\" && define.amd){\n",
       "   // require.js is available: use it to load d3/LDAvis\n",
       "   require.config({paths: {d3: \"https://cdnjs.cloudflare.com/ajax/libs/d3/3.5.5/d3.min\"}});\n",
       "   require([\"d3\"], function(d3){\n",
       "      window.d3 = d3;\n",
       "      LDAvis_load_lib(\"https://cdn.rawgit.com/bmabey/pyLDAvis/files/ldavis.v1.0.0.js\", function(){\n",
       "        new LDAvis(\"#\" + \"ldavis_el1609627849535576643819326179\", ldavis_el1609627849535576643819326179_data);\n",
       "      });\n",
       "    });\n",
       "}else{\n",
       "    // require.js not available: dynamically load d3 & LDAvis\n",
       "    LDAvis_load_lib(\"https://cdnjs.cloudflare.com/ajax/libs/d3/3.5.5/d3.min.js\", function(){\n",
       "         LDAvis_load_lib(\"https://cdn.rawgit.com/bmabey/pyLDAvis/files/ldavis.v1.0.0.js\", function(){\n",
       "                 new LDAvis(\"#\" + \"ldavis_el1609627849535576643819326179\", ldavis_el1609627849535576643819326179_data);\n",
       "            })\n",
       "         });\n",
       "}\n",
       "</script>"
      ],
      "text/plain": [
       "PreparedData(topic_coordinates=              x         y  topics  cluster       Freq\n",
       "topic                                                \n",
       "2     -0.095427 -0.003074       1        1  48.151267\n",
       "1      0.024721 -0.220721       2        1  24.455793\n",
       "0     -0.181647  0.118231       3        1  17.904100\n",
       "3      0.252353  0.105564       4        1   9.488841, topic_info=     Category          Freq       Term         Total  loglift  logprob\n",
       "1780  Default   6214.000000       love   6214.000000  30.0000  30.0000\n",
       "3492  Default   4041.000000       yeah   4041.000000  29.0000  29.0000\n",
       "3325  Default   3471.000000      wanna   3471.000000  28.0000  28.0000\n",
       "1292  Default   6732.000000        got   6732.000000  27.0000  27.0000\n",
       "3064  Default   3863.000000       tell   3863.000000  26.0000  26.0000\n",
       "1719  Default  11862.000000       like  11862.000000  25.0000  25.0000\n",
       "849   Default  11997.000000       dont  11997.000000  24.0000  24.0000\n",
       "1287  Default   3381.000000      gonna   3381.000000  23.0000  23.0000\n",
       "1634  Default  11383.000000       know  11383.000000  22.0000  22.0000\n",
       "3221  Default   2136.000000        try   2136.000000  21.0000  21.0000\n",
       "1431  Default   1719.000000        hey   1719.000000  20.0000  20.0000\n",
       "1743  Default   2350.000000     little   2350.000000  19.0000  19.0000\n",
       "2036  Default   1558.000000        ooh   1558.000000  18.0000  18.0000\n",
       "1067  Default   2070.000000    feeling   2070.000000  17.0000  17.0000\n",
       "1527  Default   1110.000000  important   1110.000000  16.0000  16.0000\n",
       "3326  Default   6222.000000       want   6222.000000  15.0000  15.0000\n",
       "123   Default   2579.000000       baby   2579.000000  14.0000  14.0000\n",
       "33    Default   1406.000000       aint   1406.000000  13.0000  13.0000\n",
       "1819  Default   2318.000000        man   2318.000000  12.0000  12.0000\n",
       "1748  Default   1520.000000     living   1520.000000  11.0000  11.0000\n",
       "2618  Default   1352.000000       shes   1352.000000  10.0000  10.0000\n",
       "1253  Default   1522.000000       girl   1522.000000   9.0000   9.0000\n",
       "848   Default   1558.000000        don   1558.000000   8.0000   8.0000\n",
       "3505  Default   7177.000000      youre   7177.000000   7.0000   7.0000\n",
       "2257  Default    863.000000   probably    863.000000   6.0000   6.0000\n",
       "1430  Default   1091.000000        hes   1091.000000   5.0000   5.0000\n",
       "94    Default    952.000000        ask    952.000000   4.0000   4.0000\n",
       "3134  Default   6788.000000       time   6788.000000   3.0000   3.0000\n",
       "130   Default   1136.000000        bad   1136.000000   2.0000   2.0000\n",
       "1519  Default   4586.000000        ill   4586.000000   1.0000   1.0000\n",
       "...       ...           ...        ...           ...      ...      ...\n",
       "73     Topic4    143.974260     appear    154.334428   2.2856  -6.2015\n",
       "3221   Topic4   1345.916263        try   2136.156360   1.8931  -3.9663\n",
       "3064   Topic4   2166.379844       tell   3863.802051   1.7765  -3.4904\n",
       "1055   Topic4    232.337067   favorite    273.467904   2.1921  -5.7230\n",
       "2678   Topic4    227.228757     silent    274.136266   2.1674  -5.7452\n",
       "1748   Topic4    820.694603     living   1520.031591   1.7387  -4.4610\n",
       "813    Topic4    242.557231        dip    301.079392   2.1389  -5.6799\n",
       "1907   Topic4    485.318014     moment    784.131471   1.8753  -4.9864\n",
       "1743   Topic4   1048.541191     little   2350.361631   1.5479  -4.2160\n",
       "130    Topic4    622.333197        bad   1136.053725   1.7532  -4.7377\n",
       "1067   Topic4    917.676651    feeling   2070.285506   1.5415  -4.3493\n",
       "1783   Topic4    212.771887      lover    262.790477   2.1439  -5.8110\n",
       "2786   Topic4    487.745315       song   1034.559903   1.6031  -4.9814\n",
       "1719   Topic4   1973.731777       like  11862.429292   0.5616  -3.5835\n",
       "801    Topic4    503.217616        die   1161.820301   1.5183  -4.9502\n",
       "1934   Topic4    336.148298      mouth    655.712569   1.6869  -5.3536\n",
       "1596   Topic4    208.832132        key    260.014514   2.1358  -5.8296\n",
       "2687   Topic4    371.385890       sing    889.293609   1.4819  -5.2539\n",
       "403    Topic4    267.416996    capital    444.098027   1.8478  -5.5824\n",
       "1681   Topic4    239.409180    learned    352.417669   1.9684  -5.6930\n",
       "1775   Topic4    417.132462       lost   1537.136494   1.0508  -5.1378\n",
       "802    Topic4    326.673586       died    838.476559   1.4124  -5.3822\n",
       "1611   Topic4    300.577613       kind    671.188945   1.5517  -5.4655\n",
       "1382   Topic4    294.652162       hate    701.818437   1.4872  -5.4854\n",
       "44     Topic4    346.628313    alright   1226.474406   1.0914  -5.3229\n",
       "3503   Topic4    284.469414      young    793.049052   1.3298  -5.5206\n",
       "1892   Topic4    267.679504       miss    773.542664   1.2939  -5.5814\n",
       "1407   Topic4    315.086052      heart   3061.713338   0.0812  -5.4183\n",
       "1292   Topic4    297.955363        got   6732.455249  -0.7627  -5.4742\n",
       "1810   Topic4    280.946247       make   4079.094471  -0.3204  -5.5330\n",
       "\n",
       "[345 rows x 6 columns], token_table=      Topic      Freq     Term\n",
       "term                          \n",
       "30        3  0.995368      ahh\n",
       "32        3  0.998481      ain\n",
       "33        1  0.003554     aint\n",
       "33        3  0.996536     aint\n",
       "34        1  0.179284      air\n",
       "34        2  0.743747      air\n",
       "34        3  0.068632      air\n",
       "34        4  0.008404      air\n",
       "44        1  0.244604  alright\n",
       "44        3  0.472085  alright\n",
       "44        4  0.282925  alright\n",
       "50        4  0.996661  america\n",
       "52        1  0.997799      amp\n",
       "62        4  0.994818  answers\n",
       "73        2  0.064794   appear\n",
       "73        4  0.933039   appear\n",
       "85        2  0.999232  arrived\n",
       "94        1  0.067207      ask\n",
       "94        2  0.130213      ask\n",
       "94        3  0.038854      ask\n",
       "94        4  0.763427      ask\n",
       "114       1  0.998325    awake\n",
       "116       1  0.836650     away\n",
       "116       2  0.142717     away\n",
       "116       3  0.020634     away\n",
       "123       1  0.274037     baby\n",
       "123       2  0.000775     baby\n",
       "123       3  0.655440     baby\n",
       "123       4  0.069769     baby\n",
       "130       1  0.324809      bad\n",
       "...     ...       ...      ...\n",
       "3462      2  0.081991    world\n",
       "3462      3  0.327104    world\n",
       "3462      4  0.028332    world\n",
       "3487      1  0.960999    wrong\n",
       "3487      2  0.000729    wrong\n",
       "3487      3  0.037915    wrong\n",
       "3487      4  0.000729    wrong\n",
       "3489      3  0.988773     yall\n",
       "3492      1  0.003712     yeah\n",
       "3492      3  0.996282     yeah\n",
       "3501      1  0.966123     youd\n",
       "3501      2  0.020933     youd\n",
       "3501      3  0.011271     youd\n",
       "3501      4  0.003220     youd\n",
       "3502      1  0.975738    youll\n",
       "3502      2  0.016581    youll\n",
       "3502      3  0.000638    youll\n",
       "3502      4  0.007015    youll\n",
       "3503      1  0.097094    young\n",
       "3503      2  0.139966    young\n",
       "3503      3  0.403506    young\n",
       "3503      4  0.358112    young\n",
       "3505      1  0.863251    youre\n",
       "3505      2  0.003762    youre\n",
       "3505      3  0.112156    youre\n",
       "3505      4  0.020899    youre\n",
       "3507      1  0.961258    youve\n",
       "3507      2  0.002329    youve\n",
       "3507      3  0.016885    youve\n",
       "3507      4  0.019796    youve\n",
       "\n",
       "[734 rows x 3 columns], R=30, lambda_step=0.01, plot_opts={'xlab': 'PC1', 'ylab': 'PC2'}, topic_order=[3, 2, 1, 4])"
      ]
     },
     "execution_count": 132,
     "metadata": {},
     "output_type": "execute_result"
    }
   ],
   "source": [
    "LDA_model=LatentDirichletAllocation(n_components=4,learning_method='online',n_jobs= -1)\n",
    "\n",
    "LDA_result = LDA_model.fit_transform(bag_lyrics)\n",
    "\n",
    "pyLDAvis.enable_notebook()\n",
    "pyLDAvis.sklearn.prepare(LDA_model,bag_lyrics,vectorizer)"
   ]
  },
  {
   "cell_type": "code",
   "execution_count": 133,
   "metadata": {},
   "outputs": [
    {
     "data": {
      "text/html": [
       "<div>\n",
       "<style scoped>\n",
       "    .dataframe tbody tr th:only-of-type {\n",
       "        vertical-align: middle;\n",
       "    }\n",
       "\n",
       "    .dataframe tbody tr th {\n",
       "        vertical-align: top;\n",
       "    }\n",
       "\n",
       "    .dataframe thead th {\n",
       "        text-align: right;\n",
       "    }\n",
       "</style>\n",
       "<table border=\"1\" class=\"dataframe\">\n",
       "  <thead>\n",
       "    <tr style=\"text-align: right;\">\n",
       "      <th></th>\n",
       "      <th>Word 0</th>\n",
       "      <th>Word 1</th>\n",
       "      <th>Word 2</th>\n",
       "      <th>Word 3</th>\n",
       "      <th>Word 4</th>\n",
       "      <th>Word 5</th>\n",
       "      <th>Word 6</th>\n",
       "      <th>Word 7</th>\n",
       "      <th>Word 8</th>\n",
       "      <th>Word 9</th>\n",
       "      <th>Word 10</th>\n",
       "      <th>Word 11</th>\n",
       "      <th>Word 12</th>\n",
       "      <th>Word 13</th>\n",
       "      <th>Word 14</th>\n",
       "      <th>Word 15</th>\n",
       "      <th>Word 16</th>\n",
       "      <th>Word 17</th>\n",
       "      <th>Word 18</th>\n",
       "      <th>Word 19</th>\n",
       "    </tr>\n",
       "  </thead>\n",
       "  <tbody>\n",
       "    <tr>\n",
       "      <th>Topic 0</th>\n",
       "      <td>got</td>\n",
       "      <td>yeah</td>\n",
       "      <td>wanna</td>\n",
       "      <td>gonna</td>\n",
       "      <td>dont</td>\n",
       "      <td>like</td>\n",
       "      <td>hey</td>\n",
       "      <td>man</td>\n",
       "      <td>baby</td>\n",
       "      <td>know</td>\n",
       "      <td>ooh</td>\n",
       "      <td>want</td>\n",
       "      <td>aint</td>\n",
       "      <td>shes</td>\n",
       "      <td>girl</td>\n",
       "      <td>don</td>\n",
       "      <td>cause</td>\n",
       "      <td>hes</td>\n",
       "      <td>said</td>\n",
       "      <td>boy</td>\n",
       "    </tr>\n",
       "    <tr>\n",
       "      <th>Topic 1</th>\n",
       "      <td>like</td>\n",
       "      <td>light</td>\n",
       "      <td>heart</td>\n",
       "      <td>sun</td>\n",
       "      <td>eyes</td>\n",
       "      <td>black</td>\n",
       "      <td>fuck</td>\n",
       "      <td>white</td>\n",
       "      <td>water</td>\n",
       "      <td>night</td>\n",
       "      <td>hand</td>\n",
       "      <td>blood</td>\n",
       "      <td>head</td>\n",
       "      <td>sky</td>\n",
       "      <td>theres</td>\n",
       "      <td>dead</td>\n",
       "      <td>arrived</td>\n",
       "      <td>red</td>\n",
       "      <td>blue</td>\n",
       "      <td>cold</td>\n",
       "    </tr>\n",
       "    <tr>\n",
       "      <th>Topic 2</th>\n",
       "      <td>know</td>\n",
       "      <td>dont</td>\n",
       "      <td>time</td>\n",
       "      <td>youre</td>\n",
       "      <td>want</td>\n",
       "      <td>ill</td>\n",
       "      <td>feel</td>\n",
       "      <td>say</td>\n",
       "      <td>way</td>\n",
       "      <td>come</td>\n",
       "      <td>let</td>\n",
       "      <td>ive</td>\n",
       "      <td>away</td>\n",
       "      <td>like</td>\n",
       "      <td>think</td>\n",
       "      <td>right</td>\n",
       "      <td>make</td>\n",
       "      <td>wont</td>\n",
       "      <td>cause</td>\n",
       "      <td>night</td>\n",
       "    </tr>\n",
       "    <tr>\n",
       "      <th>Topic 3</th>\n",
       "      <td>love</td>\n",
       "      <td>tell</td>\n",
       "      <td>like</td>\n",
       "      <td>try</td>\n",
       "      <td>important</td>\n",
       "      <td>little</td>\n",
       "      <td>feeling</td>\n",
       "      <td>living</td>\n",
       "      <td>probably</td>\n",
       "      <td>ask</td>\n",
       "      <td>bad</td>\n",
       "      <td>somebody</td>\n",
       "      <td>die</td>\n",
       "      <td>song</td>\n",
       "      <td>moment</td>\n",
       "      <td>drop</td>\n",
       "      <td>lost</td>\n",
       "      <td>bit</td>\n",
       "      <td>sing</td>\n",
       "      <td>alright</td>\n",
       "    </tr>\n",
       "  </tbody>\n",
       "</table>\n",
       "</div>"
      ],
      "text/plain": [
       "        Word 0 Word 1 Word 2 Word 3     Word 4  Word 5   Word 6  Word 7  \\\n",
       "Topic 0    got   yeah  wanna  gonna       dont    like      hey     man   \n",
       "Topic 1   like  light  heart    sun       eyes   black     fuck   white   \n",
       "Topic 2   know   dont   time  youre       want     ill     feel     say   \n",
       "Topic 3   love   tell   like    try  important  little  feeling  living   \n",
       "\n",
       "           Word 8 Word 9 Word 10   Word 11 Word 12 Word 13 Word 14 Word 15  \\\n",
       "Topic 0      baby   know     ooh      want    aint    shes    girl     don   \n",
       "Topic 1     water  night    hand     blood    head     sky  theres    dead   \n",
       "Topic 2       way   come     let       ive    away    like   think   right   \n",
       "Topic 3  probably    ask     bad  somebody     die    song  moment    drop   \n",
       "\n",
       "         Word 16 Word 17 Word 18  Word 19  \n",
       "Topic 0    cause     hes    said      boy  \n",
       "Topic 1  arrived     red    blue     cold  \n",
       "Topic 2     make    wont   cause    night  \n",
       "Topic 3     lost     bit    sing  alright  "
      ]
     },
     "execution_count": 133,
     "metadata": {},
     "output_type": "execute_result"
    }
   ],
   "source": [
    "def show_topics(vectorizer=vectorizer, lda_model=LDA_model, n_words=20):\n",
    "    keywords = np.array(vectorizer.get_feature_names())\n",
    "    topic_keywords = []\n",
    "    for topic_weights in LDA_model.components_:\n",
    "        top_keyword_locs = (-topic_weights).argsort()[:n_words]\n",
    "        topic_keywords.append(keywords.take(top_keyword_locs))\n",
    "    return topic_keywords\n",
    "\n",
    "topic_keywords = show_topics(vectorizer=vectorizer, lda_model=LDA_model, n_words=20)\n",
    "\n",
    "df_topic_keywords = pd.DataFrame(topic_keywords)\n",
    "df_topic_keywords.columns = ['Word '+str(i) for i in range(df_topic_keywords.shape[1])]\n",
    "df_topic_keywords.index = ['Topic '+str(i) for i in range(df_topic_keywords.shape[0])]\n",
    "df_topic_keywords\n",
    "\n",
    "#topic 0 gender/biological\n",
    "#topic 1 elemental\n",
    "#topic 2 internal\n",
    "#topic 3 musical"
   ]
  },
  {
   "cell_type": "code",
   "execution_count": 134,
   "metadata": {},
   "outputs": [
    {
     "name": "stderr",
     "output_type": "stream",
     "text": [
      "C:\\Users\\16142\\Anaconda3\\lib\\site-packages\\pyLDAvis\\_prepare.py:257: FutureWarning:\n",
      "\n",
      "Sorting because non-concatenation axis is not aligned. A future version\n",
      "of pandas will change to not sort by default.\n",
      "\n",
      "To accept the future behavior, pass 'sort=False'.\n",
      "\n",
      "To retain the current behavior and silence the warning, pass 'sort=True'.\n",
      "\n",
      "\n"
     ]
    },
    {
     "data": {
      "text/html": [
       "\n",
       "<link rel=\"stylesheet\" type=\"text/css\" href=\"https://cdn.rawgit.com/bmabey/pyLDAvis/files/ldavis.v1.0.0.css\">\n",
       "\n",
       "\n",
       "<div id=\"ldavis_el160962783236314240761670764\"></div>\n",
       "<script type=\"text/javascript\">\n",
       "\n",
       "var ldavis_el160962783236314240761670764_data = {\"mdsDat\": {\"x\": [-0.038347152583783836, -0.09837331002746348, 0.12212153058840809, -0.22417276439559639, 0.23877169641843551], \"y\": [0.018518557424887214, 0.02400790532836071, -0.25226640494669755, 0.03499541008966984, 0.17474453210377974], \"topics\": [1, 2, 3, 4, 5], \"cluster\": [1, 1, 1, 1, 1], \"Freq\": [28.43091249637828, 26.33927731874851, 19.05118302927773, 16.162185984502063, 10.016441171093424]}, \"tinfo\": {\"Category\": [\"Default\", \"Default\", \"Default\", \"Default\", \"Default\", \"Default\", \"Default\", \"Default\", \"Default\", \"Default\", \"Default\", \"Default\", \"Default\", \"Default\", \"Default\", \"Default\", \"Default\", \"Default\", \"Default\", \"Default\", \"Default\", \"Default\", \"Default\", \"Default\", \"Default\", \"Default\", \"Default\", \"Default\", \"Default\", \"Default\", \"Topic1\", \"Topic1\", \"Topic1\", \"Topic1\", \"Topic1\", \"Topic1\", \"Topic1\", \"Topic1\", \"Topic1\", \"Topic1\", \"Topic1\", \"Topic1\", \"Topic1\", \"Topic1\", \"Topic1\", \"Topic1\", \"Topic1\", \"Topic1\", \"Topic1\", \"Topic1\", \"Topic1\", \"Topic1\", \"Topic1\", \"Topic1\", \"Topic1\", \"Topic1\", \"Topic1\", \"Topic1\", \"Topic1\", \"Topic1\", \"Topic1\", \"Topic1\", \"Topic1\", \"Topic1\", \"Topic1\", \"Topic1\", \"Topic1\", \"Topic1\", \"Topic1\", \"Topic1\", \"Topic1\", \"Topic1\", \"Topic1\", \"Topic1\", \"Topic1\", \"Topic1\", \"Topic1\", \"Topic1\", \"Topic1\", \"Topic1\", \"Topic1\", \"Topic1\", \"Topic1\", \"Topic1\", \"Topic1\", \"Topic1\", \"Topic1\", \"Topic1\", \"Topic1\", \"Topic1\", \"Topic1\", \"Topic1\", \"Topic1\", \"Topic1\", \"Topic1\", \"Topic1\", \"Topic1\", \"Topic1\", \"Topic1\", \"Topic1\", \"Topic1\", \"Topic1\", \"Topic1\", \"Topic1\", \"Topic1\", \"Topic1\", \"Topic1\", \"Topic1\", \"Topic1\", \"Topic1\", \"Topic1\", \"Topic1\", \"Topic1\", \"Topic2\", \"Topic2\", \"Topic2\", \"Topic2\", \"Topic2\", \"Topic2\", \"Topic2\", \"Topic2\", \"Topic2\", \"Topic2\", \"Topic2\", \"Topic2\", \"Topic2\", \"Topic2\", \"Topic2\", \"Topic2\", \"Topic2\", \"Topic2\", \"Topic2\", \"Topic2\", \"Topic2\", \"Topic2\", \"Topic2\", \"Topic2\", \"Topic2\", \"Topic2\", \"Topic2\", \"Topic2\", \"Topic2\", \"Topic2\", \"Topic2\", \"Topic2\", \"Topic2\", \"Topic2\", \"Topic2\", \"Topic2\", \"Topic2\", \"Topic2\", \"Topic2\", \"Topic2\", \"Topic2\", \"Topic2\", \"Topic2\", \"Topic2\", \"Topic2\", \"Topic2\", \"Topic2\", \"Topic2\", \"Topic2\", \"Topic2\", \"Topic2\", \"Topic2\", \"Topic2\", \"Topic2\", \"Topic2\", \"Topic2\", \"Topic2\", \"Topic2\", \"Topic2\", \"Topic2\", \"Topic2\", \"Topic2\", \"Topic2\", \"Topic2\", \"Topic2\", \"Topic2\", \"Topic2\", \"Topic2\", \"Topic2\", \"Topic2\", \"Topic2\", \"Topic2\", \"Topic2\", \"Topic2\", \"Topic2\", \"Topic2\", \"Topic2\", \"Topic2\", \"Topic2\", \"Topic3\", \"Topic3\", \"Topic3\", \"Topic3\", \"Topic3\", \"Topic3\", \"Topic3\", \"Topic3\", \"Topic3\", \"Topic3\", \"Topic3\", \"Topic3\", \"Topic3\", \"Topic3\", \"Topic3\", \"Topic3\", \"Topic3\", \"Topic3\", \"Topic3\", \"Topic3\", \"Topic3\", \"Topic3\", \"Topic3\", \"Topic3\", \"Topic3\", \"Topic3\", \"Topic3\", \"Topic3\", \"Topic3\", \"Topic3\", \"Topic3\", \"Topic3\", \"Topic3\", \"Topic3\", \"Topic3\", \"Topic3\", \"Topic3\", \"Topic3\", \"Topic3\", \"Topic3\", \"Topic3\", \"Topic3\", \"Topic3\", \"Topic3\", \"Topic3\", \"Topic3\", \"Topic3\", \"Topic3\", \"Topic3\", \"Topic3\", \"Topic3\", \"Topic3\", \"Topic3\", \"Topic3\", \"Topic3\", \"Topic3\", \"Topic3\", \"Topic3\", \"Topic3\", \"Topic3\", \"Topic3\", \"Topic3\", \"Topic3\", \"Topic3\", \"Topic3\", \"Topic3\", \"Topic3\", \"Topic3\", \"Topic3\", \"Topic3\", \"Topic3\", \"Topic3\", \"Topic3\", \"Topic3\", \"Topic3\", \"Topic3\", \"Topic3\", \"Topic3\", \"Topic3\", \"Topic3\", \"Topic4\", \"Topic4\", \"Topic4\", \"Topic4\", \"Topic4\", \"Topic4\", \"Topic4\", \"Topic4\", \"Topic4\", \"Topic4\", \"Topic4\", \"Topic4\", \"Topic4\", \"Topic4\", \"Topic4\", \"Topic4\", \"Topic4\", \"Topic4\", \"Topic4\", \"Topic4\", \"Topic4\", \"Topic4\", \"Topic4\", \"Topic4\", \"Topic4\", \"Topic4\", \"Topic4\", \"Topic4\", \"Topic4\", \"Topic4\", \"Topic4\", \"Topic4\", \"Topic4\", \"Topic4\", \"Topic4\", \"Topic4\", \"Topic4\", \"Topic4\", \"Topic4\", \"Topic4\", \"Topic4\", \"Topic4\", \"Topic4\", \"Topic4\", \"Topic4\", \"Topic4\", \"Topic4\", \"Topic4\", \"Topic4\", \"Topic4\", \"Topic4\", \"Topic4\", \"Topic4\", \"Topic4\", \"Topic4\", \"Topic4\", \"Topic4\", \"Topic4\", \"Topic4\", \"Topic4\", \"Topic4\", \"Topic4\", \"Topic4\", \"Topic4\", \"Topic4\", \"Topic4\", \"Topic5\", \"Topic5\", \"Topic5\", \"Topic5\", \"Topic5\", \"Topic5\", \"Topic5\", \"Topic5\", \"Topic5\", \"Topic5\", \"Topic5\", \"Topic5\", \"Topic5\", \"Topic5\", \"Topic5\", \"Topic5\", \"Topic5\", \"Topic5\", \"Topic5\", \"Topic5\", \"Topic5\", \"Topic5\", \"Topic5\", \"Topic5\", \"Topic5\", \"Topic5\", \"Topic5\", \"Topic5\", \"Topic5\", \"Topic5\", \"Topic5\", \"Topic5\", \"Topic5\", \"Topic5\", \"Topic5\", \"Topic5\", \"Topic5\", \"Topic5\", \"Topic5\", \"Topic5\", \"Topic5\", \"Topic5\", \"Topic5\", \"Topic5\", \"Topic5\", \"Topic5\", \"Topic5\", \"Topic5\", \"Topic5\", \"Topic5\", \"Topic5\", \"Topic5\", \"Topic5\", \"Topic5\", \"Topic5\", \"Topic5\", \"Topic5\", \"Topic5\", \"Topic5\", \"Topic5\", \"Topic5\", \"Topic5\", \"Topic5\", \"Topic5\", \"Topic5\", \"Topic5\"], \"Freq\": [12103.0, 11431.0, 6267.0, 10511.0, 3444.0, 8610.0, 3355.0, 3611.0, 2819.0, 4672.0, 6682.0, 1889.0, 4568.0, 6836.0, 1546.0, 1682.0, 2997.0, 7231.0, 1542.0, 2260.0, 3858.0, 1250.0, 912.0, 1687.0, 2449.0, 3107.0, 3005.0, 2378.0, 1343.0, 3681.0, 399.92833940533336, 372.1211229687923, 314.4120477424891, 239.68191667479178, 221.27965476082284, 215.01114193712567, 197.69453184746217, 188.99749361747106, 180.96888085479983, 183.31186171795383, 183.27249428365042, 206.04664195959063, 177.23467311507562, 775.7268087342381, 169.21596329865918, 164.3271602291085, 205.043481391612, 1678.9840821330824, 148.16418767518712, 141.43616393323296, 129.52998607055028, 128.03907636317237, 133.4331344049624, 125.07798906564051, 736.3054005108063, 140.14226662575095, 116.01029820293512, 113.43541738559472, 110.91191301948727, 111.76673202252162, 711.5983561043982, 502.8296532166589, 420.90873233099984, 183.5565670758083, 165.94998595760416, 302.512607467247, 635.1964450730205, 149.84124921520458, 448.0661645222622, 176.99089374933274, 437.93149267675057, 279.1898206303616, 731.1863029264028, 406.9717217907091, 731.8774355516979, 577.9783646705646, 402.11282175683215, 909.699683940967, 399.37644634834624, 4132.4422032579305, 667.6402458994273, 473.61844144863176, 555.5208878560778, 1781.254094768933, 688.6823679958216, 1973.859203463034, 765.240581195265, 645.6618376577192, 1132.1202070374695, 619.6477292927759, 1208.9967038342904, 956.0575876562344, 957.5855372604802, 999.29926844161, 701.2195979059377, 800.2460448220414, 776.92340193833, 2383.4048601630484, 1814.8069542129028, 990.5698831702911, 1254.2284006306445, 1158.8647746364331, 1300.1121255129517, 1042.4673075456017, 1232.622011053481, 845.8620897064434, 864.9466143545665, 800.3367982881368, 921.1453081269068, 871.7075428620062, 824.414928944637, 804.0663975804919, 745.5025637942749, 238.23974014877948, 208.512931121299, 163.39802989693362, 155.74913919115093, 145.07492878960397, 137.40281059851245, 149.96514108653662, 114.40658965080851, 110.95176038936793, 106.78471524847569, 96.55742811197537, 92.54457950950658, 90.46125834693738, 87.73312625839975, 84.77650238323925, 85.11198235355951, 82.62484243388214, 135.63849126782327, 75.28745388286781, 73.04823826537852, 70.19840956533719, 67.19257365734587, 65.09093596809593, 65.87596792138692, 65.12987592849532, 63.2929641687258, 840.6795925950886, 63.774593428975976, 423.86191806891367, 62.9167217162407, 1107.1867626745086, 233.08054336377285, 241.32139509952617, 274.8154584796458, 999.0590041821719, 4081.2191970106505, 215.17015563338884, 377.35258414546996, 292.46944820086753, 833.9858243100161, 3615.31136326528, 3073.3327950066223, 2393.5302111233195, 693.3192483053681, 1104.6664140702096, 302.0557856406193, 1019.413177883469, 2684.7343373879585, 4373.0278290814595, 622.9458572557653, 1701.5139055444397, 930.7303996009155, 1162.5668329496452, 2657.9048099876495, 1305.5832209948765, 1095.867523347155, 976.0050169039181, 2805.9089013017024, 1467.3115392678594, 1166.0934180735298, 1152.2909333853836, 823.4272459199256, 1546.1340177792374, 620.3004926838763, 1145.244824359793, 3202.818890338382, 1648.212570914762, 1410.1912797352165, 2066.0034565286555, 3603.220792740257, 3460.817013630603, 1589.6927572311558, 2683.2376866048044, 1658.6272143295996, 1466.1543189740057, 1340.284879552967, 1419.7049488621733, 1149.2363573210037, 1125.3087014438313, 294.9172383811494, 221.31047283059192, 219.43572919354335, 193.5290056506158, 178.26799570150118, 171.586995423142, 156.56427089753825, 212.6135278376069, 146.08252970794322, 148.70412834780242, 135.32964503024917, 133.59836276668292, 126.29656603400059, 124.571962208813, 125.37682155904149, 142.75146016057562, 119.08472280797811, 120.18853053555564, 116.20132296042945, 159.94304314747865, 110.23342907564948, 135.79677740101036, 101.23583070076965, 101.24081159498756, 109.32936118511114, 93.61145187165343, 93.55536441356715, 89.37705469340793, 88.71946981713889, 85.5982434248489, 235.63361061140589, 151.15271030374427, 692.3034635944476, 851.5746813615553, 293.00195922678813, 947.4274772137923, 181.44368352550484, 185.22589469239836, 503.68893791689965, 470.5171037463669, 351.4534410851911, 256.34092898493543, 1841.1470212512916, 777.697997928334, 590.458059025025, 534.822712900286, 315.62842305721364, 764.6642253360686, 285.77303337020936, 653.7602202459248, 592.9504014412315, 928.7512738306108, 773.7931039190581, 760.9962552291395, 483.090180277387, 343.6383598361844, 4629.978355352319, 778.3749572352132, 1071.4844919420593, 1808.6707521065298, 663.8110962434608, 528.1981859664761, 1338.0243463347, 686.7898528875434, 366.1106822671552, 537.728501560166, 1466.025146354155, 1353.351022069489, 540.7234182712828, 494.5497670926558, 517.7749203357135, 639.4054918989419, 617.8792060673339, 566.3639105086072, 564.6108673145277, 833.9277687298841, 578.0425122933894, 595.2400682280796, 635.0758564261973, 626.5863979934271, 3443.14295480592, 1545.4554424544672, 707.1388181137132, 497.84264465625097, 672.7554010364428, 299.1573710643822, 276.2770113313241, 263.6407459769214, 233.72084224679398, 208.27496410094687, 206.0976279966757, 196.38548632107424, 187.54067426735259, 179.64438840475378, 158.6363145896124, 149.84139016267483, 111.37788269188155, 113.82461855709121, 107.97166840137143, 104.28908417989592, 103.36232607685997, 96.06256241233939, 96.88046003680658, 87.80952642704021, 81.7046226899369, 79.21691996505551, 78.12743965440048, 73.82682396563816, 68.41236057350665, 150.0179898087464, 1416.394609022065, 118.93597424157656, 5284.2536968282, 163.7931056237476, 1100.227056026837, 452.5027444297564, 8157.7599750335785, 2490.2002603432925, 7258.553403752881, 1128.1948814156037, 2034.6184923649503, 414.2910944517934, 946.4528515374881, 936.8802096237978, 807.0498282595802, 824.0122361601726, 638.3998321220078, 1398.40887469306, 1156.0189126937591, 643.8868238791899, 1381.1824182958524, 2373.6785508083763, 1102.617661492637, 1452.8689539594134, 1300.8178636300433, 2069.5990893989892, 1956.95714200326, 733.3284325238883, 1555.9860142509663, 1285.017155769855, 964.2237898261211, 1131.3221346562812, 991.1187014229199, 769.1106945094884, 772.0399314417647, 774.7783114786404, 352.77667417681624, 251.28970699380037, 238.42333070854937, 909.0467222180431, 593.5501271890673, 228.3043777221071, 168.72322317870723, 152.42627810236772, 128.31933692842935, 125.01108218388974, 125.38710157495294, 123.37040347431454, 125.94368230664159, 116.84179372094025, 150.28733286504286, 111.95894949447947, 112.07002329751583, 254.3828389651374, 96.88007704855222, 132.77317871102937, 697.9386055921009, 89.8678650036008, 85.79058766631391, 83.83939799121256, 84.08400331325632, 335.02578622941473, 72.45340386312216, 74.16922586757309, 72.64139777003169, 69.73889575683242, 311.70697026974494, 147.14047366202584, 127.70807823977837, 126.51038637390897, 144.86880807479017, 124.2402533259999, 142.28270888302166, 329.2086947608219, 354.20797659885534, 168.80566988898235, 549.5569942135412, 133.25935271649874, 335.97604901286326, 964.601139762384, 505.89923729909367, 422.6515051047455, 286.39956924807296, 1195.2652035981625, 675.9445060995092, 446.2797563374186, 1671.0863663902273, 1158.4979047767847, 3835.723341316981, 1683.0087876821704, 329.5422146008833, 507.8126806313469, 255.90814966504678, 243.24475563867225, 324.10711282001796, 389.1362924316673, 626.2512837630106, 391.8183941864507, 346.30382678850543, 318.07465125751014, 364.143952591401, 352.2655953749616], \"Term\": [\"dont\", \"know\", \"want\", \"like\", \"wanna\", \"love\", \"gonna\", \"tell\", \"yeah\", \"ill\", \"got\", \"try\", \"feel\", \"time\", \"ooh\", \"feeling\", \"need\", \"youre\", \"don\", \"light\", \"ive\", \"living\", \"important\", \"hey\", \"mind\", \"eyes\", \"wont\", \"world\", \"shes\", \"cause\", \"party\", \"shut\", \"picture\", \"poor\", \"falls\", \"runnin\", \"daddy\", \"everybodys\", \"amp\", \"fucked\", \"minute\", \"dad\", \"america\", \"dance\", \"country\", \"stuff\", \"american\", \"hey\", \"fuckin\", \"hall\", \"plastic\", \"sweat\", \"cares\", \"saturday\", \"money\", \"paid\", \"drowning\", \"coat\", \"rich\", \"beer\", \"everybody\", \"kids\", \"fucking\", \"devil\", \"arent\", \"working\", \"weve\", \"bus\", \"kid\", \"job\", \"phone\", \"broke\", \"went\", \"dancing\", \"sweet\", \"street\", \"nice\", \"didnt\", \"hot\", \"got\", \"house\", \"car\", \"pretty\", \"home\", \"took\", \"said\", \"room\", \"town\", \"old\", \"work\", \"man\", \"new\", \"run\", \"going\", \"hes\", \"people\", \"tonight\", \"like\", \"youre\", \"thats\", \"make\", \"right\", \"come\", \"day\", \"say\", \"left\", \"leave\", \"thing\", \"cause\", \"think\", \"gonna\", \"little\", \"away\", \"bye\", \"oooh\", \"veins\", \"dare\", \"weird\", \"changes\", \"lately\", \"killer\", \"shouldve\", \"hurry\", \"harm\", \"autumn\", \"worried\", \"putting\", \"silly\", \"sides\", \"date\", \"bored\", \"touching\", \"false\", \"haze\", \"spending\", \"satisfied\", \"wisdom\", \"clever\", \"infinite\", \"forever\", \"tip\", \"awake\", \"gently\", \"whats\", \"belong\", \"wasted\", \"feelings\", \"wish\", \"ill\", \"itll\", \"bones\", \"losing\", \"true\", \"feel\", \"ive\", \"wont\", \"fine\", \"wrong\", \"pretend\", \"believe\", \"let\", \"time\", \"lie\", \"things\", \"change\", \"youll\", \"away\", \"hold\", \"fall\", \"days\", \"come\", \"head\", \"stay\", \"youve\", \"alright\", \"long\", \"times\", \"gone\", \"youre\", \"theres\", \"good\", \"say\", \"dont\", \"know\", \"think\", \"like\", \"way\", \"tell\", \"cause\", \"love\", \"mind\", \"better\", \"choose\", \"hoo\", \"holy\", \"bang\", \"goin\", \"spirit\", \"steel\", \"wings\", \"sisters\", \"killed\", \"covered\", \"flight\", \"ohohoh\", \"shall\", \"spread\", \"daughter\", \"enemy\", \"circle\", \"reflection\", \"skies\", \"rivers\", \"pale\", \"valley\", \"east\", \"violence\", \"visions\", \"tracks\", \"trail\", \"divine\", \"paradise\", \"dawn\", \"crown\", \"sea\", \"blue\", \"golden\", \"sky\", \"angel\", \"glow\", \"wild\", \"earth\", \"gold\", \"waves\", \"light\", \"close\", \"wind\", \"moon\", \"green\", \"white\", \"beneath\", \"air\", \"arms\", \"dark\", \"water\", \"goes\", \"burn\", \"trees\", \"love\", \"black\", \"sun\", \"eyes\", \"blood\", \"lights\", \"world\", \"open\", \"river\", \"rain\", \"night\", \"heart\", \"ground\", \"falling\", \"red\", \"hand\", \"hands\", \"comes\", \"cold\", \"like\", \"dream\", \"lost\", \"theres\", \"life\", \"wanna\", \"ooh\", \"lonely\", \"roll\", \"anymore\", \"spend\", \"driving\", \"doo\", \"whoa\", \"ohoh\", \"insane\", \"simple\", \"cmon\", \"ahh\", \"stronger\", \"beginning\", \"owe\", \"wanting\", \"thinks\", \"callin\", \"slave\", \"huh\", \"happiness\", \"possible\", \"complain\", \"babys\", \"rhyme\", \"suffer\", \"fought\", \"oohooh\", \"don\", \"gon\", \"want\", \"decide\", \"shes\", \"rock\", \"dont\", \"gonna\", \"know\", \"girl\", \"need\", \"girls\", \"bad\", \"aint\", \"care\", \"die\", \"wanted\", \"life\", \"mind\", \"real\", \"cause\", \"love\", \"baby\", \"make\", \"right\", \"youre\", \"got\", \"coming\", \"time\", \"say\", \"little\", \"way\", \"think\", \"world\", \"yeah\", \"like\", \"control\", \"higher\", \"dip\", \"important\", \"moment\", \"arm\", \"metal\", \"heat\", \"desk\", \"difficult\", \"appear\", \"rate\", \"chords\", \"shout\", \"tone\", \"waited\", \"somethings\", \"willing\", \"deserve\", \"cancer\", \"probably\", \"bedroom\", \"ceiling\", \"modern\", \"woah\", \"capital\", \"bomb\", \"mountains\", \"lean\", \"steady\", \"future\", \"order\", \"sucked\", \"sucks\", \"damage\", \"tips\", \"lifted\", \"breathing\", \"giving\", \"parts\", \"died\", \"web\", \"screaming\", \"living\", \"somebody\", \"arrived\", \"heaven\", \"feeling\", \"fuck\", \"miss\", \"yeah\", \"try\", \"like\", \"tell\", \"drop\", \"ask\", \"goodbye\", \"slowly\", \"pull\", \"dead\", \"way\", \"waiting\", \"song\", \"alright\", \"heart\", \"long\"], \"Total\": [12103.0, 11431.0, 6267.0, 10511.0, 3444.0, 8610.0, 3355.0, 3611.0, 2819.0, 4672.0, 6682.0, 1889.0, 4568.0, 6836.0, 1546.0, 1682.0, 2997.0, 7231.0, 1542.0, 2260.0, 3858.0, 1250.0, 912.0, 1687.0, 2449.0, 3107.0, 3005.0, 2378.0, 1343.0, 3681.0, 400.73083622520136, 372.88225896099124, 315.2320939582683, 240.4705818685478, 222.0515298631542, 215.7734209907557, 198.45250961379634, 189.7538120339152, 181.72451385701973, 184.07798190674393, 184.04040337199697, 206.91117575953345, 177.98716390064752, 779.1787663502606, 169.97379836473257, 165.08546352536447, 206.004753077674, 1687.7512310871987, 148.9383807270893, 142.19267672428555, 130.29179827832957, 128.79876264249222, 134.23430258137373, 125.8343058538584, 740.900863627428, 141.08098870262396, 116.78848558706919, 114.19643670617666, 111.6616747503053, 112.5391913831708, 721.9319209392429, 510.1780552725331, 428.0585146935708, 185.2305305674392, 167.365852190359, 307.43778578286907, 657.4272682234289, 150.97981529964085, 461.6836702722398, 179.1482914159685, 459.5987156350564, 289.6056531885656, 798.9263350595553, 440.7842156167338, 852.3651755223909, 659.1620317342828, 441.80318367075455, 1130.9065330896292, 444.6518533035307, 6682.322792702745, 818.755554836851, 556.2428213213087, 677.2323902177076, 2725.381809710255, 883.0535102651311, 3140.5338178884563, 1038.3129048163983, 846.9685473863292, 1824.1621997233863, 828.8773918669223, 2181.9100231696457, 1617.2334591225, 1657.1136751281113, 1869.2074991103905, 1060.1702902216061, 1321.52456720939, 1264.681883448575, 10511.071968293358, 7231.885562619337, 2310.212061109293, 4075.3486314040974, 3431.4925267655767, 4800.672612245676, 2911.324966013758, 4729.902229369836, 1843.9158358962934, 2025.6386776453166, 1570.1345433858548, 3681.9414081884206, 3491.969062432533, 3355.7205212217837, 2629.664108756837, 4139.842593250266, 238.99083685657715, 209.25827150588418, 164.1508797768457, 156.52569634345068, 145.83347129125704, 138.15806399671038, 150.8045651647045, 115.16307617901981, 111.70205709759963, 107.54342526194877, 97.31231187479246, 93.31686760484783, 91.21743223052928, 88.51534398103573, 85.53732535917435, 85.87653404255838, 83.39756868915859, 137.01370598930117, 76.05480861118156, 73.81230666019354, 70.9578181564282, 67.94624142441745, 65.84029510653245, 66.64158846368548, 65.88722097000388, 64.0469332756789, 850.9420988352163, 64.5535701052262, 429.05069926955144, 63.68780542878523, 1121.176740467578, 237.80251259246302, 247.76905113523944, 285.11656172142943, 1071.5384424318906, 4672.279414934783, 226.3195010432648, 406.6221655237689, 314.3942278736843, 952.3624306438372, 4568.972219350744, 3858.5138412047054, 3005.1157494019085, 804.971312432416, 1361.459257283575, 337.4273051739113, 1287.6287451161647, 3945.0133673938144, 6836.875519453512, 765.8780123514086, 2401.3188547253944, 1224.49403199928, 1590.8954869583918, 4139.842593250266, 1838.3216881775534, 1539.0587964899007, 1344.933464466679, 4800.672612245676, 2219.6879586632863, 1771.8248854464352, 1748.3046079132619, 1150.6958318296777, 2557.309413272286, 807.0707031538603, 1819.9874433808773, 7231.885562619337, 3185.296721002698, 2632.086522056037, 4729.902229369836, 12103.208690479807, 11431.52114780337, 3491.969062432533, 10511.071968293358, 4432.41928770461, 3611.611927593145, 3681.9414081884206, 8610.530032835108, 2449.288068244779, 1957.433490115614, 295.68978343826706, 222.05587227282203, 220.19769812379107, 194.2817591202063, 179.0305655746427, 172.34118227807784, 157.31485977052657, 213.65613207986829, 146.83820383358113, 149.47523274368825, 136.08693148384705, 134.35878027063654, 127.04572992223349, 125.32324682969609, 126.1399257418973, 143.65179101485091, 119.84426968744816, 120.9651228338214, 116.96214617084455, 161.0058227873313, 110.98141152624932, 136.73853146116167, 101.99045630445299, 101.99935079428933, 110.1693052250587, 94.35846468401142, 94.32046241231221, 90.1288437908747, 89.48748193071576, 86.35214307941636, 239.15171554377727, 152.96481671653947, 730.332159525875, 908.9483983893238, 302.75792525974657, 1018.9939436977976, 186.4876927784597, 191.28331763250677, 549.9775226211794, 516.72749946649, 379.22822629954874, 270.95385332406664, 2260.9338928112757, 895.9803494797407, 666.4391464715496, 608.339333277949, 344.059487030218, 923.4424749304566, 309.70740969246265, 779.4888155503381, 709.5433355389364, 1197.2059162081546, 979.565471623614, 968.2386057904492, 578.2820831754823, 394.62483314830973, 8610.530032835108, 1057.3245529213875, 1611.0370044869117, 3107.839226322729, 906.1654823133422, 694.737459358646, 2378.7908273425032, 1026.899087823725, 438.25396171305954, 768.0728454345971, 3374.4465343336215, 3088.407131450036, 774.650567437694, 701.0999088220367, 820.0873949272602, 1396.932156303686, 1315.3289953678018, 1057.760207120469, 1104.8733002572208, 10511.071968293358, 1272.0570591071087, 1714.9710076601534, 3185.296721002698, 3146.6600460869804, 3444.025238461603, 1546.2042211011087, 707.8986532411508, 498.60551966849033, 674.435664492126, 299.9245840127402, 277.0485441489006, 264.3825377979223, 234.4753596858608, 209.045850517588, 206.8667577081143, 197.1588049492262, 188.29159137714691, 180.3937538754441, 159.39981608808847, 150.6053212170112, 112.13126188701308, 114.59565422499779, 108.73442772677502, 105.03649376422418, 104.12097043556119, 96.81814956018852, 97.64699374397613, 88.57325618707246, 82.45519822979539, 79.97867026183468, 78.9031074408591, 74.59870204591446, 69.21950125199878, 151.80097649974718, 1542.084928556997, 121.86847398589335, 6267.422460538569, 172.00712647646566, 1343.1905663415077, 516.9293165918839, 12103.208690479807, 3355.7205212217837, 11431.52114780337, 1520.911626854835, 2997.064383260506, 522.4630005752704, 1392.8215236546205, 1382.8687513833854, 1236.4666009720047, 1374.4089461174353, 1000.9789882697645, 3146.6600460869804, 2449.288068244779, 1093.354074080135, 3681.9414081884206, 8610.530032835108, 2654.47324843889, 4075.3486314040974, 3431.4925267655767, 7231.885562619337, 6682.322792702745, 1425.3963955445104, 6836.875519453512, 4729.902229369836, 2629.664108756837, 4432.41928770461, 3491.969062432533, 2378.7908273425032, 2819.8962284781164, 10511.071968293358, 353.6303308875432, 252.12762351693644, 239.38922869656312, 912.8103666528519, 596.1981789449679, 229.32423505687424, 169.5613237181188, 153.28374294877872, 129.15014180942475, 125.83904821890918, 126.22025922750763, 124.20308589800774, 126.84443467809204, 117.69798333778223, 151.42441536242336, 112.8194694993109, 112.93748144844346, 256.40170098583917, 97.74154405110524, 133.99910349398266, 704.4311602580759, 90.73947393254826, 86.65135500918132, 84.68850401328825, 84.94700183427535, 338.6161591903228, 73.29963813788561, 75.03727456196289, 73.50132043283395, 70.59302577583205, 315.922131474415, 149.29678401619466, 129.43191017978094, 128.29911046656784, 147.69741715512964, 126.51706725307683, 145.75984921862724, 349.02541396036963, 381.97782100609794, 175.25753780974898, 645.4738629525172, 136.5492570247775, 378.98116531961284, 1250.2594443854807, 606.7646329606832, 497.9971963628531, 325.60235033893554, 1682.616467898095, 928.8422963805111, 573.2448172297999, 2819.8962284781164, 1889.681826442421, 10511.071968293358, 3611.611927593145, 444.2887340343106, 910.5569969563008, 336.2410312402779, 312.71438890225323, 525.8928479548362, 1051.4966654734985, 4432.41928770461, 1266.731015146663, 1019.232102834779, 1150.6958318296777, 3088.407131450036, 2557.309413272286], \"loglift\": [30.0, 29.0, 28.0, 27.0, 26.0, 25.0, 24.0, 23.0, 22.0, 21.0, 20.0, 19.0, 18.0, 17.0, 16.0, 15.0, 14.0, 13.0, 12.0, 11.0, 10.0, 9.0, 8.0, 7.0, 6.0, 5.0, 4.0, 3.0, 2.0, 1.0, 1.2557, 1.2556, 1.2551, 1.2544, 1.2542, 1.2542, 1.2539, 1.2537, 1.2535, 1.2535, 1.2535, 1.2535, 1.2535, 1.2533, 1.2532, 1.2531, 1.253, 1.2525, 1.2525, 1.2524, 1.2518, 1.2518, 1.2517, 1.2517, 1.2515, 1.251, 1.251, 1.251, 1.251, 1.2508, 1.2433, 1.2432, 1.2408, 1.2486, 1.2492, 1.2415, 1.2233, 1.2501, 1.2278, 1.2456, 1.2094, 1.2211, 1.1691, 1.1779, 1.1053, 1.1263, 1.1636, 1.04, 1.1503, 0.7771, 1.0537, 1.0969, 1.0596, 0.8324, 1.0091, 0.7933, 0.9525, 0.9863, 0.7807, 0.9668, 0.6673, 0.732, 0.7093, 0.6315, 0.8443, 0.7561, 0.7705, -0.2262, -0.1248, 0.4109, 0.0793, 0.1721, -0.0486, 0.2307, -0.0871, 0.4784, 0.4067, 0.5838, -0.1279, -0.1301, -0.1461, 0.0728, -0.4567, 1.331, 1.3305, 1.3295, 1.3291, 1.3289, 1.3286, 1.3285, 1.3275, 1.3274, 1.327, 1.3263, 1.3258, 1.3258, 1.3252, 1.3252, 1.3252, 1.3248, 1.324, 1.324, 1.3237, 1.3233, 1.323, 1.3227, 1.3226, 1.3225, 1.3223, 1.322, 1.322, 1.3219, 1.3219, 1.3216, 1.3141, 1.3077, 1.2973, 1.2641, 1.1989, 1.2836, 1.2594, 1.2618, 1.2014, 1.1, 1.1066, 1.1066, 1.1848, 1.1251, 1.2234, 1.1005, 0.9492, 0.8872, 1.1275, 0.9896, 1.0598, 1.0204, 0.891, 0.9919, 0.9945, 1.0135, 0.7971, 0.9202, 0.9158, 0.9172, 0.9995, 0.8309, 1.0709, 0.8709, 0.5196, 0.6753, 0.7101, 0.5058, 0.1225, 0.1392, 0.5472, -0.0313, 0.3512, 0.4326, 0.3236, -0.4684, 0.5774, 0.7805, 1.6554, 1.6547, 1.6546, 1.6542, 1.6538, 1.6537, 1.6533, 1.6531, 1.6529, 1.6529, 1.6525, 1.6524, 1.6521, 1.652, 1.652, 1.6518, 1.6517, 1.6516, 1.6515, 1.6514, 1.6513, 1.6511, 1.6506, 1.6506, 1.6504, 1.6501, 1.6499, 1.6497, 1.6494, 1.6493, 1.6432, 1.6461, 1.6046, 1.5928, 1.6253, 1.5852, 1.6306, 1.6259, 1.5701, 1.5644, 1.582, 1.6026, 1.4527, 1.5165, 1.537, 1.5292, 1.5718, 1.4694, 1.5776, 1.4821, 1.4785, 1.4041, 1.4222, 1.4172, 1.4782, 1.5197, 1.0376, 1.3518, 1.2502, 1.1167, 1.3468, 1.384, 1.0826, 1.2558, 1.4782, 1.3015, 0.8244, 0.833, 1.2985, 1.309, 1.1982, 0.8765, 0.9025, 1.0334, 0.9867, -0.876, 0.8693, 0.5999, 0.0455, 0.0442, 1.8222, 1.822, 1.8214, 1.821, 1.82, 1.8199, 1.8197, 1.8197, 1.8193, 1.8188, 1.8188, 1.8186, 1.8185, 1.8183, 1.8177, 1.8174, 1.8158, 1.8157, 1.8155, 1.8154, 1.8152, 1.8147, 1.8146, 1.8138, 1.8134, 1.8129, 1.8126, 1.8121, 1.8108, 1.8107, 1.7375, 1.7981, 1.6519, 1.7736, 1.623, 1.6894, 1.428, 1.5242, 1.3683, 1.5238, 1.4352, 1.5905, 1.4361, 1.4331, 1.3959, 1.3109, 1.3727, 1.0115, 1.0717, 1.293, 0.842, 0.534, 0.9439, 0.7911, 0.8525, 0.5714, 0.5944, 1.1579, 0.3423, 0.5194, 0.8192, 0.4569, 0.5631, 0.6934, 0.5271, -0.7851, 2.2985, 2.2976, 2.2969, 2.2968, 2.2965, 2.2965, 2.296, 2.2953, 2.2945, 2.2943, 2.2943, 2.2942, 2.2938, 2.2936, 2.2934, 2.2933, 2.2932, 2.293, 2.2921, 2.2918, 2.2917, 2.2913, 2.291, 2.2909, 2.2907, 2.2903, 2.2893, 2.2893, 2.2892, 2.2888, 2.2875, 2.2864, 2.2875, 2.2869, 2.2816, 2.2828, 2.2768, 2.2425, 2.2255, 2.2634, 2.1401, 2.2766, 2.1805, 2.0416, 2.1191, 2.1369, 2.1727, 1.959, 1.9831, 2.0506, 1.7777, 1.8117, 1.2929, 1.5374, 2.0022, 1.717, 2.0279, 2.0497, 1.8169, 1.3069, 0.344, 1.1275, 1.2215, 1.0151, 0.1631, 0.3186], \"logprob\": [30.0, 29.0, 28.0, 27.0, 26.0, 25.0, 24.0, 23.0, 22.0, 21.0, 20.0, 19.0, 18.0, 17.0, 16.0, 15.0, 14.0, 13.0, 12.0, 11.0, 10.0, 9.0, 8.0, 7.0, 6.0, 5.0, 4.0, 3.0, 2.0, 1.0, -6.2773, -6.3493, -6.5178, -6.7892, -6.8691, -6.8978, -6.9818, -7.0268, -7.0702, -7.0573, -7.0576, -6.9404, -7.0911, -5.6147, -7.1374, -7.1667, -6.9453, -4.8426, -7.2702, -7.3167, -7.4046, -7.4162, -7.3749, -7.4396, -5.6669, -7.3259, -7.5149, -7.5373, -7.5598, -7.5521, -5.701, -6.0483, -6.2261, -7.056, -7.1569, -6.5564, -5.8146, -7.259, -6.1636, -7.0924, -6.1865, -6.6366, -5.6739, -6.2598, -5.6729, -5.909, -6.2718, -5.4554, -6.2786, -3.9419, -5.7648, -6.1081, -5.9486, -4.7835, -5.7338, -4.6808, -5.6283, -5.7983, -5.2367, -5.8394, -5.171, -5.4057, -5.4041, -5.3615, -5.7157, -5.5836, -5.6132, -4.4923, -4.7648, -5.3703, -5.1343, -5.2133, -5.0983, -5.3192, -5.1516, -5.5282, -5.5059, -5.5835, -5.4429, -5.4981, -5.5539, -5.5789, -5.6545, -6.7188, -6.8521, -7.0959, -7.1439, -7.2149, -7.2692, -7.1817, -7.4524, -7.483, -7.5213, -7.622, -7.6644, -7.6872, -7.7178, -7.7521, -7.7482, -7.7778, -7.2821, -7.8708, -7.901, -7.9408, -7.9846, -8.0163, -8.0043, -8.0157, -8.0443, -5.4579, -8.0368, -6.1427, -8.0503, -5.1825, -6.7407, -6.706, -6.576, -5.2853, -3.878, -6.8207, -6.2589, -6.5138, -5.4659, -3.9992, -4.1616, -4.4116, -5.6506, -5.1848, -6.4815, -5.2651, -4.2968, -3.8089, -5.7577, -4.7528, -5.3562, -5.1337, -4.3068, -5.0177, -5.1928, -5.3087, -4.2526, -4.9009, -5.1307, -5.1426, -5.4786, -4.8486, -5.7619, -5.1487, -4.1203, -4.7847, -4.9406, -4.5588, -4.0025, -4.0429, -4.8208, -4.2973, -4.7784, -4.9017, -4.9915, -4.9339, -5.1453, -5.1663, -6.1815, -6.4686, -6.4771, -6.6028, -6.6849, -6.7231, -6.8147, -6.5087, -6.884, -6.8662, -6.9605, -6.9734, -7.0296, -7.0433, -7.0369, -6.9071, -7.0884, -7.0791, -7.1129, -6.7934, -7.1656, -6.957, -7.2507, -7.2507, -7.1738, -7.329, -7.3296, -7.3753, -7.3827, -7.4185, -6.4059, -6.8499, -5.3282, -5.1211, -6.188, -5.0144, -6.6672, -6.6466, -5.6462, -5.7144, -6.0061, -6.3217, -4.35, -5.2119, -5.4873, -5.5863, -6.1136, -5.2288, -6.213, -5.3854, -5.4831, -5.0343, -5.2169, -5.2336, -5.688, -6.0286, -3.4279, -5.211, -4.8914, -4.3678, -5.3702, -5.5987, -4.6692, -5.3362, -5.9653, -5.5808, -4.5779, -4.6579, -5.5753, -5.6645, -5.6186, -5.4077, -5.4419, -5.529, -5.5321, -5.142, -5.5085, -5.4792, -5.4144, -5.4279, -3.5596, -4.3607, -5.1425, -5.4935, -5.1924, -6.0028, -6.0823, -6.1291, -6.2496, -6.3649, -6.3754, -6.4237, -6.4697, -6.5128, -6.6371, -6.6942, -6.9908, -6.9691, -7.0219, -7.0566, -7.0655, -7.1387, -7.1303, -7.2286, -7.3006, -7.3315, -7.3454, -7.402, -7.4782, -6.693, -4.4479, -6.9252, -3.1312, -6.6051, -4.7005, -5.5889, -2.697, -3.8836, -2.8138, -4.6754, -4.0857, -5.6772, -4.851, -4.8612, -5.0103, -4.9895, -5.2448, -4.4606, -4.651, -5.2362, -4.473, -3.9315, -4.6983, -4.4224, -4.533, -4.0686, -4.1246, -5.1061, -4.3539, -4.5452, -4.8324, -4.6726, -4.8049, -5.0585, -5.0547, -5.0512, -5.3595, -5.6987, -5.7512, -4.4129, -4.8392, -5.7946, -6.097, -6.1986, -6.3708, -6.3969, -6.3939, -6.4101, -6.3895, -6.4645, -6.2127, -6.5072, -6.5062, -5.6864, -6.6518, -6.3366, -4.6772, -6.7269, -6.7734, -6.7964, -6.7935, -5.4111, -6.9423, -6.9189, -6.9398, -6.9805, -5.4832, -6.2339, -6.3755, -6.385, -6.2495, -6.4031, -6.2675, -5.4286, -5.3554, -6.0965, -4.9162, -6.333, -5.4082, -4.3536, -4.999, -5.1787, -5.5679, -4.1392, -4.7092, -5.1243, -3.8041, -4.1704, -2.9732, -3.797, -5.4276, -4.9952, -5.6805, -5.7312, -5.4442, -5.2614, -4.7855, -5.2545, -5.378, -5.463, -5.3277, -5.3609]}, \"token.table\": {\"Topic\": [4, 1, 2, 3, 4, 5, 1, 2, 3, 4, 5, 1, 2, 4, 5, 1, 1, 1, 3, 5, 3, 4, 5, 5, 1, 5, 5, 1, 3, 5, 2, 5, 1, 2, 5, 2, 2, 5, 1, 2, 3, 4, 5, 1, 2, 3, 4, 4, 1, 2, 4, 5, 3, 5, 1, 4, 1, 2, 4, 5, 2, 3, 1, 2, 3, 5, 1, 2, 4, 5, 1, 2, 3, 5, 1, 2, 3, 4, 5, 1, 2, 3, 4, 5, 5, 2, 5, 1, 2, 2, 3, 5, 1, 5, 1, 3, 4, 5, 1, 4, 2, 4, 2, 5, 1, 3, 5, 1, 2, 4, 5, 1, 2, 3, 4, 5, 1, 1, 2, 3, 4, 5, 5, 1, 2, 3, 5, 2, 3, 5, 3, 2, 1, 3, 5, 4, 1, 1, 2, 3, 5, 1, 2, 3, 4, 5, 1, 2, 3, 5, 1, 2, 3, 4, 5, 4, 5, 1, 3, 3, 5, 1, 1, 1, 5, 1, 3, 1, 3, 2, 1, 2, 3, 4, 5, 2, 3, 1, 3, 1, 2, 3, 4, 5, 1, 2, 3, 4, 5, 1, 2, 3, 4, 5, 1, 3, 4, 5, 5, 1, 4, 1, 2, 3, 4, 5, 1, 2, 3, 4, 1, 3, 5, 5, 5, 3, 1, 2, 3, 4, 5, 1, 2, 3, 4, 5, 4, 1, 2, 3, 4, 5, 4, 1, 2, 3, 5, 1, 1, 2, 3, 5, 3, 3, 1, 2, 3, 5, 1, 1, 2, 3, 4, 5, 1, 2, 3, 4, 5, 1, 2, 3, 4, 5, 1, 2, 1, 2, 3, 4, 5, 1, 2, 3, 4, 5, 2, 3, 1, 2, 5, 3, 2, 3, 5, 4, 1, 4, 5, 1, 1, 1, 3, 4, 3, 5, 2, 1, 2, 3, 4, 5, 1, 4, 3, 4, 5, 1, 3, 1, 2, 3, 4, 5, 3, 1, 2, 4, 5, 1, 3, 5, 2, 3, 4, 5, 1, 2, 3, 5, 1, 2, 3, 4, 5, 1, 2, 3, 4, 5, 1, 5, 1, 2, 3, 4, 5, 1, 2, 3, 5, 1, 2, 3, 5, 1, 1, 2, 3, 4, 5, 1, 2, 3, 4, 5, 4, 2, 2, 1, 2, 3, 4, 5, 1, 2, 3, 4, 5, 5, 2, 5, 1, 2, 3, 4, 5, 1, 4, 5, 1, 2, 3, 4, 5, 3, 1, 2, 3, 4, 5, 3, 1, 2, 3, 4, 5, 1, 2, 3, 4, 5, 4, 2, 1, 2, 3, 4, 5, 1, 2, 3, 5, 2, 4, 1, 2, 1, 2, 3, 4, 5, 1, 4, 1, 3, 5, 1, 5, 3, 2, 1, 2, 3, 4, 5, 2, 5, 1, 2, 3, 4, 5, 1, 2, 3, 4, 5, 1, 2, 3, 4, 5, 1, 2, 3, 4, 5, 1, 2, 3, 4, 5, 1, 5, 1, 2, 3, 4, 5, 1, 2, 3, 4, 5, 1, 2, 3, 4, 5, 1, 2, 3, 4, 5, 1, 2, 3, 5, 4, 1, 2, 3, 4, 5, 2, 4, 5, 1, 2, 3, 4, 5, 1, 2, 3, 4, 5, 1, 2, 3, 4, 5, 1, 2, 3, 4, 5, 5, 1, 2, 3, 4, 5, 1, 1, 3, 5, 5, 1, 5, 1, 4, 5, 1, 2, 3, 4, 5, 5, 1, 2, 3, 4, 5, 1, 2, 3, 4, 5, 1, 2, 3, 4, 5, 1, 2, 3, 4, 5, 4, 3, 1, 2, 3, 4, 5, 4, 2, 4, 2, 1, 3, 4, 5, 1, 5, 4, 1, 3, 3, 1, 3, 5, 1, 1, 2, 3, 4, 5, 1, 4, 5, 1, 1, 1, 4, 1, 2, 3, 4, 5, 1, 2, 4, 5, 1, 5, 1, 2, 3, 5, 2, 1, 2, 3, 5, 5, 1, 2, 3, 4, 5, 1, 2, 3, 4, 5, 3, 4, 1, 1, 2, 3, 4, 5, 1, 2, 3, 4, 5, 3, 1, 3, 4, 5, 4, 1, 2, 3, 4, 5, 1, 2, 3, 4, 5, 1, 1, 2, 3, 4, 5, 2, 1, 1, 2, 3, 4, 5, 1, 5, 1, 2, 3, 4, 5, 3, 1, 2, 3, 4, 2, 5, 1, 2, 2, 4, 3, 3, 1, 2, 3, 4, 5, 4, 2, 5, 1, 2, 3, 4, 5, 5, 1, 2, 3, 5, 4, 2, 3, 3, 1, 2, 3, 4, 5, 5, 3, 1, 3, 4, 5, 4, 1, 1, 5, 1, 5, 4, 1, 2, 3, 4, 5, 1, 1, 2, 3, 4, 5, 1, 2, 3, 4, 5, 1, 2, 3, 4, 5, 1, 2, 3, 4, 5, 1, 2, 3, 4, 5, 1, 2, 4, 5, 1, 2, 3, 4, 5, 4, 1, 2, 3, 4, 5, 1, 2, 3, 4, 5, 2, 1, 3, 5, 3, 5, 1, 2, 3, 4, 5, 1, 2, 4, 5, 2, 1, 2, 3, 4, 5, 3, 3, 1, 2, 3, 4, 1, 2, 3, 1, 2, 3, 5, 3, 2, 3, 3, 5, 1, 2, 3, 4, 5, 4, 1, 2, 3, 4, 5, 1, 2, 3, 4, 5, 4, 1, 2, 1, 2, 3, 5, 1, 2, 3, 1, 2, 3, 4, 5, 1, 5, 2, 1, 3, 5, 1, 4, 5, 2, 4, 2, 3, 4, 5, 4, 1, 2, 3, 4, 5, 3, 5, 1, 2, 3, 4, 5, 3, 2, 1, 2, 4, 5, 5, 1, 2, 3, 4, 5, 1, 3, 4, 5, 1, 5, 1, 2, 3, 4, 5, 2, 1, 2, 5, 1, 2, 3, 4, 5, 1, 2, 3, 4, 5, 1, 2, 3, 4, 5, 1, 2, 5], \"Freq\": [0.9978172532752105, 0.30950153409124337, 0.0014462688508936606, 0.002892537701787321, 0.67757695664368, 0.008677613105361963, 0.11032871579983082, 0.03592097723715422, 0.8390113968963878, 0.008980244309288555, 0.005131568176736317, 0.006952315093798076, 0.715219415274477, 0.0008690393867247595, 0.2763545249784735, 0.9944537354323003, 0.9951226704109339, 0.9960131198502489, 0.9705734319691602, 0.02144913661810299, 0.0014827211143305056, 0.9978713099444303, 0.0014827211143305056, 0.9903323029521897, 0.9918391226616198, 0.005974934473865179, 0.9942254901382498, 0.1367076472169572, 0.8357488123675837, 0.026777786568269964, 0.15060325750378953, 0.8494023723213728, 0.12190340678402044, 0.31958460697432384, 0.557900276092634, 0.9966043908997287, 0.9882281994222358, 0.011653634427149007, 0.18020008809424365, 0.6420533969899459, 0.12705797096189297, 0.0352670413696509, 0.01570108006183088, 0.10171509551237272, 0.40196298856185814, 0.08061863125795468, 0.41552500129684117, 0.9877633591727557, 0.14215748151311472, 0.17446600003882262, 0.6791968561182148, 0.0035898353917453215, 0.9985497397106027, 0.9918505816652854, 0.995208856785411, 0.9959807448228274, 0.14988792439748486, 0.7913771759639227, 0.027181747947730414, 0.03106485479740619, 0.9798046179575345, 0.016820680136610033, 0.012915415888731796, 0.05811937149929308, 0.9234522360443235, 0.003228853972182949, 0.19106651740075728, 0.5747321713258073, 0.2319363606950369, 0.0020434921647139817, 0.10025303934077953, 0.02080723458016179, 0.7358194774257215, 0.14375907528111784, 0.11366577298558335, 0.14677230880662706, 0.7327579928391005, 0.00441420477613916, 0.00220710238806958, 0.033005173949545046, 0.026404139159636037, 0.9373469401670793, 0.0011001724649848349, 0.0033005173949545046, 0.982269514953937, 0.9271506375319882, 0.07131927981015294, 0.007298539899928594, 0.9926014263902888, 0.05443729665530135, 0.002865120876594808, 0.9426247683996919, 0.963378984243584, 0.03452971269690265, 0.005187779610127808, 0.835232517230577, 0.1400700494734508, 0.017292598700426026, 0.9935102894536183, 0.006623401929690788, 0.9958540801412743, 0.9901320605145979, 0.007462736495434134, 0.9925439538927399, 0.0029531963341357832, 0.00885958900240735, 0.9893207719354874, 0.8521458288199608, 0.021573312122024325, 0.07730436843725383, 0.050337728284723424, 0.10352079053277889, 0.24020058428308852, 0.0016175123520746702, 0.6526662340621294, 0.0016175123520746702, 0.9908048646460879, 0.2501397762473217, 0.36393843666819875, 0.002715958482598498, 0.3750738664468526, 0.008147875447795494, 0.9924830372345326, 0.13964951688723343, 0.7603140363860487, 0.09391634176626809, 0.006533310731566476, 0.9916178327691537, 0.9976672057105042, 0.9933427534267856, 0.9920214784955226, 0.9865342481145501, 0.045759932150082346, 0.868322614945465, 0.08593938476966684, 0.9984513839677372, 0.9895229944060773, 0.049779463389327705, 0.40366619402982107, 0.5113708511812756, 0.035298164948796014, 0.27079538743882003, 0.5845014285794838, 0.09352856073848477, 0.041869132980925254, 0.009373686488266848, 0.15882616765981855, 0.27038264256373873, 0.5350929219967696, 0.0349795726393648, 0.06945436392953791, 0.20625841409377926, 0.19503346638799535, 0.5142429167712251, 0.014732743863841376, 0.9944794477538361, 0.9982175429184448, 0.9942708913132424, 0.9920129620677348, 0.9871551069146803, 0.006537451039170068, 0.9955962950952809, 0.9977198090632516, 0.013541198204565478, 0.9817368698309972, 0.995920363224026, 0.0038502075897836057, 0.9233542980447614, 0.07486656470633202, 0.996641469383422, 0.06682225581826363, 0.13949145902062532, 0.7759734456895865, 0.014199729361381022, 0.0033411127909131816, 0.9952328503647341, 0.9954627017857123, 0.012544338196272913, 0.9868212714401359, 0.35791263845984406, 0.3311207135079555, 0.17036916379662442, 0.12777687284746833, 0.012365503823948548, 0.1568850843366219, 0.7256864564575496, 0.09665905670028838, 0.015614155313123506, 0.005948249643094669, 0.13599662718436278, 0.11126996769629681, 0.36994886695606377, 0.01236332974403298, 0.36994886695606377, 0.011627425217603666, 0.034882275652811, 0.9534488678435006, 0.9924132152985274, 0.9910945369992554, 0.9933567616328175, 0.005398678052352269, 0.8046641993603892, 0.08665614454650346, 0.0017684927458470094, 0.096382854648662, 0.011495202848005561, 0.13533090025747502, 0.20372393587146778, 0.061117180761440335, 0.5995304398503194, 0.07746247039545602, 0.06971622335591042, 0.8520871743500162, 0.9933323699536445, 0.9941967785930584, 0.994552512595078, 0.0667926896194894, 0.001945418144256973, 0.0012969454295046487, 0.9182373640892912, 0.011024036150789514, 0.023134361074038455, 0.297689653392002, 0.00181769979867445, 0.6740361344357347, 0.0033875314429842023, 0.9985530897724619, 0.12656664954401517, 0.16901757547803267, 0.4543821331455948, 0.05109833677242848, 0.1988904492834524, 0.9962153053280907, 0.09228233096910744, 0.01800630848177706, 0.14855204497466076, 0.7427602248733037, 0.9932486016656038, 0.003870512024355113, 0.0716044724505696, 0.9115055817356291, 0.013546792085242896, 0.990202380833729, 0.9929552769635962, 0.986242579596257, 0.011081377298834348, 0.0013851721623542935, 0.002770344324708587, 0.9960274208679377, 0.062101024520615986, 0.29827797787881355, 0.5820764422683644, 0.05051741372920575, 0.007078873261417366, 0.04678183846140829, 0.7121235410236596, 0.1994725612173937, 0.0006497477564084486, 0.04158385641014071, 0.027100274527097186, 0.2210811869315823, 0.7060334679427951, 0.03851091643324337, 0.00998431166787791, 0.9952644781875529, 0.9889949698505817, 0.02538864200327393, 0.7912063865675453, 0.004815087276482987, 0.15342619003702607, 0.025169774399797427, 0.026744062511294377, 0.23178187509788462, 0.0005943125002509862, 0.030309937512800294, 0.7102034377999284, 0.9645178040154899, 0.035073374691472356, 0.1366508325217309, 0.8609002448869048, 0.001242280295652099, 0.9973296849680099, 0.9883163627127801, 0.008226176621866184, 0.003525504266514079, 0.982382114433921, 0.2669990384443086, 0.005383045129925578, 0.7277877015659381, 0.9941438845885976, 0.993699537201168, 0.9835103976412577, 0.0023361292105493056, 0.014016775263295833, 0.012661347849648643, 0.9875851322725941, 0.9892003590930084, 0.09139255532383868, 0.007232504378145507, 0.1584575959211879, 0.741660448958921, 0.0013150007960264559, 0.20671320242980654, 0.7924006093142585, 0.06283087310353776, 0.00785385913794222, 0.926755378277182, 0.03136708456472504, 0.9671517740790221, 0.10431313045769929, 0.04957455704920362, 0.785963289884249, 0.03821372105876112, 0.022721671980884994, 0.9942436333631922, 0.5344510978451845, 0.2236241830823695, 0.21292446140378724, 0.02888924853217214, 0.05801255938850504, 0.9255640156984213, 0.0131846725882966, 0.029726719762260843, 0.9677698767047141, 0.9764625428375727, 0.01641113517374072, 0.14725376319198835, 0.6291252196075622, 0.20989155798261025, 0.01373635850671533, 0.24555084214819833, 0.0014899929742002325, 0.01013195222456158, 0.7420165011517158, 0.000595997189680093, 0.23669434677753207, 0.5356966756923278, 0.006458754245935867, 0.2108593297937886, 0.009878094729078385, 0.23792456174937196, 0.7613585975979903, 0.6183478601949972, 0.059260830744728675, 0.0037412140621672146, 0.29286223678644957, 0.025739552747710434, 0.023251793081053386, 0.05231653443237012, 0.9184458267016087, 0.0058129482702633465, 0.07099975435624233, 0.12263593934260036, 0.6983794019404926, 0.10714508384669295, 0.9916122492960859, 0.1310013511924746, 0.2169038765645891, 0.45743094760650965, 0.027202466367836256, 0.1667940700975223, 0.16725853438552232, 0.24024407666284114, 0.46984442841024, 0.08438953325814989, 0.038773569334825626, 0.9933741560372816, 0.9967906232132857, 0.9865015838802051, 0.16623958271243439, 0.6609037068811415, 0.032887505523056124, 0.018020550971537604, 0.12163871905787882, 0.09584228613700461, 0.33771454203005347, 0.4380899092681326, 0.010361328231027526, 0.11786010862793811, 0.9916250547900066, 0.11977800516305542, 0.8783720378624064, 0.6612145298407398, 0.00377297877227241, 0.14337319334635157, 0.16695431067305413, 0.024524362019770665, 0.9948148572336923, 0.004740035055312411, 0.9955275685337165, 0.01795115632493844, 0.710430610920291, 0.23499695552646688, 0.023934875099917922, 0.012511411984048005, 0.9945608054307736, 0.6534864192805868, 0.14163153163520859, 0.09393179300158912, 0.09356487193517667, 0.017245290121385502, 0.9952450153107198, 0.8973312424892389, 0.008995801929716682, 0.017991603859433363, 0.03148530675400838, 0.04273005916615424, 0.8158723272822359, 0.04274780157915907, 0.09404516347414994, 0.0464118988573727, 0.0012213657594045448, 0.9915496261402941, 0.9949469225047917, 0.09738287452278815, 0.8734494745659307, 0.0032104244348171917, 0.020546716382830028, 0.005350707391361987, 0.0010955177948590354, 0.002191035589718071, 0.0010955177948590354, 0.9958256755268632, 0.9836536548725517, 0.9958100677087167, 0.04860385406159571, 0.9499844202948252, 0.07412180227159819, 0.7964206237084659, 0.005442509957005462, 0.11377437481549513, 0.010107518491581572, 0.9880083064204038, 0.011163935665767274, 0.9703613726165126, 0.02165985206733287, 0.006497955620199861, 0.9859302939466916, 0.013720699915759128, 0.9968206589482075, 0.9899006155652544, 0.05266140806778612, 0.3027593576787504, 0.004023961413817544, 0.6349986065848163, 0.005686032432568268, 0.9946648487476106, 0.9931794363709144, 0.42702581143716634, 0.3618611789403965, 0.04591144562272424, 0.15106346624251202, 0.014316472290957023, 0.4588061903534632, 0.36661109300111244, 0.11063411682282091, 0.0526054379010472, 0.010846482041453031, 0.04131798420436845, 0.68060605882656, 0.12217956065340854, 0.10443564105644049, 0.051203882265536356, 0.14884876985826465, 0.8134454703657796, 0.03394796505539369, 0.0013056909636689881, 0.0026113819273379762, 0.13188587070791838, 0.18368682715464296, 0.19925889381654174, 0.4442805957823371, 0.04099584896703969, 0.02058179955647634, 0.9742051790065467, 0.016807214098927187, 0.13976525408581555, 0.8142652935822355, 0.020787870069725732, 0.007961311941597089, 0.10795444954017165, 0.020151497247498706, 0.7599993247628084, 0.09356052293481543, 0.018712104586963086, 0.2267133178412552, 0.2552546503433016, 0.07934490435568899, 0.07373177563028653, 0.3649485049261666, 0.30574247004500044, 0.04335154426011201, 0.18443420145749406, 0.3665867426907717, 0.0996324964574504, 0.08718190491540334, 0.12797343840793152, 0.012797343840793151, 0.771839800397837, 0.9987305340432049, 0.0739058007682219, 0.6045416295643972, 0.13764466598102704, 0.046142245982276106, 0.13764466598102704, 0.9287702321218132, 0.06043367948737825, 0.006361439946039816, 0.08571573475201874, 0.4723111914907155, 0.34694464066293296, 0.0629748255320954, 0.0314874127660477, 0.02113691019089037, 0.16491435423661718, 0.5377137043067166, 0.27570892743502057, 0.0005806843459035816, 0.30770373615077784, 0.2613273357261391, 0.025273911342528006, 0.35653391437566206, 0.049075556004908746, 0.5541016756702433, 0.016040991437930946, 0.1649930547901469, 0.16315979862581192, 0.10174571712059058, 0.99668955333793, 0.014698148603564831, 0.46911590959711086, 0.037153653414566654, 0.4719738829366929, 0.006532510490473258, 0.9943468751810219, 0.1151340544497975, 0.10466732222708865, 0.7780270952213589, 0.9918701596951078, 0.0033545892467152436, 0.9963130062744273, 0.993385263983317, 0.004049124717323303, 0.0013497082391077675, 0.009862916421448311, 0.09041006719660952, 0.8794433809124744, 0.006575277614298874, 0.014794374632172466, 0.9861765426847113, 0.12912635516324236, 0.13980346980206343, 0.023689848104884257, 0.6789977590625276, 0.028694745591831633, 0.5911329589475097, 0.3493620520976391, 0.037100394913023624, 0.001855019745651181, 0.021023557117380052, 0.9099074313135391, 0.0022634513216754706, 0.020371061895079232, 0.029424867181781115, 0.038478672468482994, 0.11231471476694892, 0.20447797675249277, 0.43444161437558604, 0.20951583994784403, 0.0391175259874334, 0.9949970280921696, 0.9917688699740353, 0.6205588517137649, 0.32453254435914203, 0.04714493043055104, 0.0043855749237721895, 0.003837378058300666, 0.9992211759063423, 0.006587572906697774, 0.9881359360046661, 0.9987657763584418, 0.022397526955392644, 0.6690043921023803, 0.24442518546971972, 0.06427116430677889, 0.006698067922826302, 0.9846159846554664, 0.9899112712371597, 0.992337814523667, 0.9945989513469988, 0.9959220111179811, 0.028529443369378814, 0.005705888673875763, 0.964295185885004, 0.9981762416087425, 0.605361428648525, 0.05145572143512463, 0.08096709108174022, 0.24441467681684198, 0.017404141073645095, 0.9530052741657207, 0.01740648902585791, 0.028285544667019106, 0.9960914704375519, 0.9977604248142602, 0.9980430792619571, 0.9935278862745917, 0.03259961429123396, 0.8950075923593322, 0.002963601299203087, 0.05334482338565556, 0.014818006496015435, 0.820988493803825, 0.1122214487933286, 0.0649703124592955, 0.0014765980104385341, 0.008517510778202706, 0.9908704205309149, 0.032325976795676, 0.32516129600356447, 0.026621392655262588, 0.6160950871646484, 0.9941779135926293, 0.05728623302012919, 0.23825865097008278, 0.7004543946552161, 0.0039058795240997177, 0.9903135587227222, 0.16097255607527966, 0.1628017896670442, 0.039328522222937645, 0.5890132165481824, 0.04847469018176035, 0.17681042398275265, 0.015851969046729548, 0.6316399974004543, 0.0024387644687276226, 0.17437165951402503, 0.9917738669959154, 0.9885542221320496, 0.9940742895735273, 0.33775390473964956, 0.26606498276729945, 0.002331347056011386, 0.37913531498385167, 0.014862337482072586, 0.14831582981229913, 0.009127127988449177, 0.8351322109430998, 0.004563563994224589, 0.0022817819971122943, 0.9911569738323504, 0.0909215215532195, 0.005803501375737415, 0.8763287077363497, 0.027083006420107938, 0.9987855736757729, 0.7367721198989361, 0.012520310534230287, 0.11364589561839798, 0.08475287130863579, 0.05297054456789737, 0.5781136287623341, 0.10198455455201927, 0.2311247597243987, 0.08810499979050185, 0.0006034589026746702, 0.9964155872989156, 0.6285555623557089, 0.24327074449835945, 0.020697118314651, 0.08883840015057891, 0.018786615085606292, 0.9872373733262766, 0.9933698060461561, 0.26068192114919725, 0.4367954980488577, 0.006554046679339104, 0.27167580590163704, 0.024313398971741836, 0.11082344940435075, 0.886587595234806, 0.0027384799832700533, 0.035600239782510694, 0.9475140742114384, 0.0027384799832700533, 0.010953919933080213, 0.9974206953787643, 0.0617931677603051, 0.0007444959971121096, 0.11837486354082542, 0.8189455968233206, 0.9937149134416906, 0.9940697086051247, 0.9976339476073504, 0.9897930901342155, 0.9937182352041276, 0.9941224793408306, 0.9942916501857302, 0.9937528794305789, 0.018645841928217406, 0.047105284871286075, 0.9293480161064148, 0.0019627202029702533, 0.0019627202029702533, 0.9892339609314826, 0.22064862522705245, 0.7770668975387499, 0.0477944798108876, 0.049442565321607866, 0.05768299287520917, 0.011536598575041834, 0.8339312684244526, 0.991699111433865, 0.4562258181494683, 0.045132016419087186, 0.15796205746680514, 0.33947125393487315, 0.9969172783358735, 0.9860736752382391, 0.998020309054586, 0.9909630060808045, 0.10384773433952459, 0.658078577390683, 0.009030237768654312, 0.20261595993418113, 0.026526323445422044, 0.9915993716190152, 0.9979985376398273, 0.8768708939124693, 0.021239087395803755, 0.06826849520079778, 0.03337570876483447, 0.9974917405935555, 0.9934248388550716, 0.0077260700132679785, 0.9889369616983013, 0.007794286307702654, 0.9898743610782371, 0.9919743637691448, 0.007448618477774692, 0.32525634019616156, 0.6647891991413913, 0.0006207182064812244, 0.001862154619443673, 0.9937983671107978, 0.8587868451469496, 0.09268327973580466, 0.007039236435630734, 0.039889006468574156, 0.0011732060726051224, 0.052331203847239924, 0.40591293566166, 0.0013844233822021144, 0.07420509328603334, 0.46599691044923175, 0.4289649494445771, 0.3311384322150368, 0.03809174122212188, 0.199115920024728, 0.003030024869941513, 0.23168956133156893, 0.5173772318081648, 0.19935348434355862, 0.041440409343857856, 0.010046159840935237, 0.5095104769014708, 0.29360541231447257, 0.03248129290246876, 0.16113268832009014, 0.003821328576761031, 0.20863535011775536, 0.7087771774459474, 0.08162181361892226, 0.0008328756491726761, 0.24971584352828086, 0.4553304945068424, 0.0008591141405789479, 0.2837940377712458, 0.010309369686947375, 0.9932456744185891, 0.09434134030446065, 0.6396196606998549, 0.01696681469041463, 0.22758934188176863, 0.021354784006901172, 0.05947434321729959, 0.7682102665567863, 0.0012390488170270747, 0.011151439353243671, 0.15859824857946556, 0.9914246399645466, 0.007904071930466603, 0.007904071930466603, 0.9801049193778587, 0.006603954835199941, 0.9905932252799912, 0.61438375149429, 0.2901915531510997, 0.0015814253577716604, 0.07669912985192552, 0.017395678935488264, 0.7802471673467809, 0.10191907846329504, 0.037370328769874846, 0.0804028285654883, 0.9861309412193238, 0.7627201765561419, 0.029517034696445118, 0.1263329085007851, 0.0755636088228995, 0.007084088327146828, 0.9966024083839693, 0.9874752216560778, 0.025340523859636966, 0.09375993828065678, 0.8717140207715117, 0.010136209543854788, 0.12180236879102749, 0.8757170307906631, 0.0021000408412246117, 0.014288119630610574, 0.3683159727001837, 0.004233516927588318, 0.6128015752684091, 0.9902887354332804, 0.9929888905961987, 0.9893862884705501, 0.9962010331006143, 0.9927364531764981, 0.06236525280850831, 0.5486563379989022, 0.07262788934661728, 0.0071049022186908195, 0.3094579633029779, 0.9997023138941744, 0.06701319444228254, 0.08089449900532679, 0.006222653769640522, 0.8430898081738594, 0.002712438822663817, 0.047953054522123464, 0.22877603094929735, 0.03096968104553807, 0.6373760163565577, 0.053947186337388896, 0.9948021220435788, 0.024216099518922677, 0.9726799973433942, 0.1204615754824605, 0.04287615398528255, 0.790146266300207, 0.04593873641280273, 0.025834657503939793, 0.025834657503939793, 0.9448103315726553, 0.1389760219004471, 0.3742876953455223, 0.0902441700652254, 0.2551653908594248, 0.14123212615207772, 0.021970093908717764, 0.9740074966198208, 0.9942847736951111, 0.9149779747159145, 0.032543676255285606, 0.05131887409487345, 0.9658863127414318, 0.0015210808074668217, 0.031942696956803254, 0.9873554811156129, 0.011594960482839175, 0.014077758336791922, 0.8284219328958323, 0.002165808974891065, 0.15593824619215668, 0.9979726667804341, 0.007273024506412731, 0.058184196051301845, 0.916401087808004, 0.016364305139428645, 0.0036365122532063653, 0.0039001301323474025, 0.9906330536162402, 0.0015005120952070155, 0.10953738295011213, 0.8853021361721392, 0.0015005120952070155, 0.0015005120952070155, 0.996929027622652, 0.9903725514580869, 0.017731515032609464, 0.9323043956619397, 0.045728644031466516, 0.00373295053318094, 0.988851850991482, 0.0775344510594551, 0.7966415271945729, 0.019300421293769937, 0.10149359473447984, 0.004991488265630156, 0.7479996511951458, 0.006032255251573756, 0.22681279745917324, 0.01930321680503602, 0.9855652558400765, 0.013010762453334344, 0.09122281686381999, 0.0205987005821529, 0.5624706403861343, 0.3232734846464404, 0.002522289867202396, 0.986653513470402, 0.15865329707403053, 0.8116291354944618, 0.030114746203866907, 0.11241548422903608, 0.011702558295136247, 0.009574820423293294, 0.2737689395104601, 0.5925749973082627, 0.16154423851648123, 0.7310348225473451, 0.02325734173194477, 0.08045783085645758, 0.004400037624962524, 0.2509718916711702, 0.44289970745055546, 0.007881761887193774, 0.2862324053770371, 0.012030057617295762, 0.3397577271783236, 0.6589240769519003, 0.0005719827056874134], \"Term\": [\"ahh\", \"aint\", \"aint\", \"aint\", \"aint\", \"aint\", \"air\", \"air\", \"air\", \"air\", \"air\", \"alright\", \"alright\", \"alright\", \"alright\", \"america\", \"american\", \"amp\", \"angel\", \"angel\", \"anymore\", \"anymore\", \"anymore\", \"appear\", \"arent\", \"arent\", \"arm\", \"arms\", \"arms\", \"arms\", \"arrived\", \"arrived\", \"ask\", \"ask\", \"ask\", \"autumn\", \"awake\", \"awake\", \"away\", \"away\", \"away\", \"away\", \"away\", \"baby\", \"baby\", \"baby\", \"baby\", \"babys\", \"bad\", \"bad\", \"bad\", \"bad\", \"bang\", \"bedroom\", \"beer\", \"beginning\", \"believe\", \"believe\", \"believe\", \"believe\", \"belong\", \"belong\", \"beneath\", \"beneath\", \"beneath\", \"beneath\", \"better\", \"better\", \"better\", \"better\", \"black\", \"black\", \"black\", \"black\", \"blood\", \"blood\", \"blood\", \"blood\", \"blood\", \"blue\", \"blue\", \"blue\", \"blue\", \"blue\", \"bomb\", \"bones\", \"bones\", \"bored\", \"bored\", \"breathing\", \"breathing\", \"breathing\", \"broke\", \"broke\", \"burn\", \"burn\", \"burn\", \"burn\", \"bus\", \"bus\", \"bye\", \"callin\", \"cancer\", \"cancer\", \"capital\", \"capital\", \"capital\", \"car\", \"car\", \"car\", \"car\", \"care\", \"care\", \"care\", \"care\", \"care\", \"cares\", \"cause\", \"cause\", \"cause\", \"cause\", \"cause\", \"ceiling\", \"change\", \"change\", \"change\", \"change\", \"changes\", \"choose\", \"chords\", \"circle\", \"clever\", \"close\", \"close\", \"close\", \"cmon\", \"coat\", \"cold\", \"cold\", \"cold\", \"cold\", \"come\", \"come\", \"come\", \"come\", \"come\", \"comes\", \"comes\", \"comes\", \"comes\", \"coming\", \"coming\", \"coming\", \"coming\", \"coming\", \"complain\", \"control\", \"country\", \"covered\", \"crown\", \"crown\", \"dad\", \"daddy\", \"damage\", \"damage\", \"dance\", \"dance\", \"dancing\", \"dancing\", \"dare\", \"dark\", \"dark\", \"dark\", \"dark\", \"dark\", \"date\", \"daughter\", \"dawn\", \"dawn\", \"day\", \"day\", \"day\", \"day\", \"day\", \"days\", \"days\", \"days\", \"days\", \"days\", \"dead\", \"dead\", \"dead\", \"dead\", \"dead\", \"decide\", \"decide\", \"decide\", \"deserve\", \"desk\", \"devil\", \"devil\", \"didnt\", \"didnt\", \"didnt\", \"didnt\", \"didnt\", \"die\", \"die\", \"die\", \"die\", \"died\", \"died\", \"died\", \"difficult\", \"dip\", \"divine\", \"don\", \"don\", \"don\", \"don\", \"don\", \"dont\", \"dont\", \"dont\", \"dont\", \"dont\", \"doo\", \"dream\", \"dream\", \"dream\", \"dream\", \"dream\", \"driving\", \"drop\", \"drop\", \"drop\", \"drop\", \"drowning\", \"earth\", \"earth\", \"earth\", \"earth\", \"east\", \"enemy\", \"everybody\", \"everybody\", \"everybody\", \"everybody\", \"everybodys\", \"eyes\", \"eyes\", \"eyes\", \"eyes\", \"eyes\", \"fall\", \"fall\", \"fall\", \"fall\", \"fall\", \"falling\", \"falling\", \"falling\", \"falling\", \"falling\", \"falls\", \"false\", \"feel\", \"feel\", \"feel\", \"feel\", \"feel\", \"feeling\", \"feeling\", \"feeling\", \"feeling\", \"feeling\", \"feelings\", \"feelings\", \"fine\", \"fine\", \"fine\", \"flight\", \"forever\", \"forever\", \"forever\", \"fought\", \"fuck\", \"fuck\", \"fuck\", \"fucked\", \"fuckin\", \"fucking\", \"fucking\", \"fucking\", \"future\", \"future\", \"gently\", \"girl\", \"girl\", \"girl\", \"girl\", \"girl\", \"girls\", \"girls\", \"giving\", \"giving\", \"giving\", \"glow\", \"glow\", \"goes\", \"goes\", \"goes\", \"goes\", \"goes\", \"goin\", \"going\", \"going\", \"going\", \"going\", \"gold\", \"gold\", \"gold\", \"golden\", \"golden\", \"gon\", \"gon\", \"gone\", \"gone\", \"gone\", \"gone\", \"gonna\", \"gonna\", \"gonna\", \"gonna\", \"gonna\", \"good\", \"good\", \"good\", \"good\", \"good\", \"goodbye\", \"goodbye\", \"got\", \"got\", \"got\", \"got\", \"got\", \"green\", \"green\", \"green\", \"green\", \"ground\", \"ground\", \"ground\", \"ground\", \"hall\", \"hand\", \"hand\", \"hand\", \"hand\", \"hand\", \"hands\", \"hands\", \"hands\", \"hands\", \"hands\", \"happiness\", \"harm\", \"haze\", \"head\", \"head\", \"head\", \"head\", \"head\", \"heart\", \"heart\", \"heart\", \"heart\", \"heart\", \"heat\", \"heaven\", \"heaven\", \"hes\", \"hes\", \"hes\", \"hes\", \"hes\", \"hey\", \"hey\", \"higher\", \"hold\", \"hold\", \"hold\", \"hold\", \"hold\", \"holy\", \"home\", \"home\", \"home\", \"home\", \"home\", \"hoo\", \"hot\", \"hot\", \"hot\", \"hot\", \"hot\", \"house\", \"house\", \"house\", \"house\", \"house\", \"huh\", \"hurry\", \"ill\", \"ill\", \"ill\", \"ill\", \"ill\", \"important\", \"important\", \"important\", \"important\", \"infinite\", \"insane\", \"itll\", \"itll\", \"ive\", \"ive\", \"ive\", \"ive\", \"ive\", \"job\", \"job\", \"kid\", \"kid\", \"kid\", \"kids\", \"kids\", \"killed\", \"killer\", \"know\", \"know\", \"know\", \"know\", \"know\", \"lately\", \"lean\", \"leave\", \"leave\", \"leave\", \"leave\", \"leave\", \"left\", \"left\", \"left\", \"left\", \"left\", \"let\", \"let\", \"let\", \"let\", \"let\", \"lie\", \"lie\", \"lie\", \"lie\", \"lie\", \"life\", \"life\", \"life\", \"life\", \"life\", \"lifted\", \"lifted\", \"light\", \"light\", \"light\", \"light\", \"light\", \"lights\", \"lights\", \"lights\", \"lights\", \"lights\", \"like\", \"like\", \"like\", \"like\", \"like\", \"little\", \"little\", \"little\", \"little\", \"little\", \"living\", \"living\", \"living\", \"living\", \"lonely\", \"long\", \"long\", \"long\", \"long\", \"long\", \"losing\", \"losing\", \"losing\", \"lost\", \"lost\", \"lost\", \"lost\", \"lost\", \"love\", \"love\", \"love\", \"love\", \"love\", \"make\", \"make\", \"make\", \"make\", \"make\", \"man\", \"man\", \"man\", \"man\", \"man\", \"metal\", \"mind\", \"mind\", \"mind\", \"mind\", \"mind\", \"minute\", \"miss\", \"miss\", \"miss\", \"modern\", \"moment\", \"moment\", \"money\", \"money\", \"money\", \"moon\", \"moon\", \"moon\", \"moon\", \"moon\", \"mountains\", \"need\", \"need\", \"need\", \"need\", \"need\", \"new\", \"new\", \"new\", \"new\", \"new\", \"nice\", \"nice\", \"nice\", \"nice\", \"nice\", \"night\", \"night\", \"night\", \"night\", \"night\", \"ohoh\", \"ohohoh\", \"old\", \"old\", \"old\", \"old\", \"old\", \"ooh\", \"oohooh\", \"oohooh\", \"oooh\", \"open\", \"open\", \"open\", \"open\", \"order\", \"order\", \"owe\", \"paid\", \"pale\", \"paradise\", \"parts\", \"parts\", \"parts\", \"party\", \"people\", \"people\", \"people\", \"people\", \"people\", \"phone\", \"phone\", \"phone\", \"picture\", \"plastic\", \"poor\", \"possible\", \"pretend\", \"pretend\", \"pretend\", \"pretend\", \"pretend\", \"pretty\", \"pretty\", \"pretty\", \"pretty\", \"probably\", \"probably\", \"pull\", \"pull\", \"pull\", \"pull\", \"putting\", \"rain\", \"rain\", \"rain\", \"rain\", \"rate\", \"real\", \"real\", \"real\", \"real\", \"real\", \"red\", \"red\", \"red\", \"red\", \"red\", \"reflection\", \"rhyme\", \"rich\", \"right\", \"right\", \"right\", \"right\", \"right\", \"river\", \"river\", \"river\", \"river\", \"river\", \"rivers\", \"rock\", \"rock\", \"rock\", \"rock\", \"roll\", \"room\", \"room\", \"room\", \"room\", \"room\", \"run\", \"run\", \"run\", \"run\", \"run\", \"runnin\", \"said\", \"said\", \"said\", \"said\", \"said\", \"satisfied\", \"saturday\", \"say\", \"say\", \"say\", \"say\", \"say\", \"screaming\", \"screaming\", \"sea\", \"sea\", \"sea\", \"sea\", \"sea\", \"shall\", \"shes\", \"shes\", \"shes\", \"shes\", \"shouldve\", \"shout\", \"shut\", \"sides\", \"silly\", \"simple\", \"sisters\", \"skies\", \"sky\", \"sky\", \"sky\", \"sky\", \"sky\", \"slave\", \"slowly\", \"slowly\", \"somebody\", \"somebody\", \"somebody\", \"somebody\", \"somebody\", \"somethings\", \"song\", \"song\", \"song\", \"song\", \"spend\", \"spending\", \"spirit\", \"spread\", \"stay\", \"stay\", \"stay\", \"stay\", \"stay\", \"steady\", \"steel\", \"street\", \"street\", \"street\", \"street\", \"stronger\", \"stuff\", \"sucked\", \"sucked\", \"sucks\", \"sucks\", \"suffer\", \"sun\", \"sun\", \"sun\", \"sun\", \"sun\", \"sweat\", \"sweet\", \"sweet\", \"sweet\", \"sweet\", \"sweet\", \"tell\", \"tell\", \"tell\", \"tell\", \"tell\", \"thats\", \"thats\", \"thats\", \"thats\", \"thats\", \"theres\", \"theres\", \"theres\", \"theres\", \"theres\", \"thing\", \"thing\", \"thing\", \"thing\", \"thing\", \"things\", \"things\", \"things\", \"things\", \"think\", \"think\", \"think\", \"think\", \"think\", \"thinks\", \"time\", \"time\", \"time\", \"time\", \"time\", \"times\", \"times\", \"times\", \"times\", \"times\", \"tip\", \"tips\", \"tips\", \"tips\", \"tone\", \"tone\", \"tonight\", \"tonight\", \"tonight\", \"tonight\", \"tonight\", \"took\", \"took\", \"took\", \"took\", \"touching\", \"town\", \"town\", \"town\", \"town\", \"town\", \"tracks\", \"trail\", \"trees\", \"trees\", \"trees\", \"trees\", \"true\", \"true\", \"true\", \"try\", \"try\", \"try\", \"try\", \"valley\", \"veins\", \"violence\", \"visions\", \"waited\", \"waiting\", \"waiting\", \"waiting\", \"waiting\", \"waiting\", \"wanna\", \"want\", \"want\", \"want\", \"want\", \"want\", \"wanted\", \"wanted\", \"wanted\", \"wanted\", \"wanted\", \"wanting\", \"wasted\", \"wasted\", \"water\", \"water\", \"water\", \"water\", \"waves\", \"waves\", \"waves\", \"way\", \"way\", \"way\", \"way\", \"way\", \"web\", \"web\", \"weird\", \"went\", \"went\", \"went\", \"weve\", \"weve\", \"weve\", \"whats\", \"whats\", \"white\", \"white\", \"white\", \"white\", \"whoa\", \"wild\", \"wild\", \"wild\", \"wild\", \"wild\", \"willing\", \"willing\", \"wind\", \"wind\", \"wind\", \"wind\", \"wind\", \"wings\", \"wisdom\", \"wish\", \"wish\", \"wish\", \"wish\", \"woah\", \"wont\", \"wont\", \"wont\", \"wont\", \"wont\", \"work\", \"work\", \"work\", \"work\", \"working\", \"working\", \"world\", \"world\", \"world\", \"world\", \"world\", \"worried\", \"wrong\", \"wrong\", \"wrong\", \"yeah\", \"yeah\", \"yeah\", \"yeah\", \"yeah\", \"youll\", \"youll\", \"youll\", \"youll\", \"youll\", \"youre\", \"youre\", \"youre\", \"youre\", \"youre\", \"youve\", \"youve\", \"youve\"]}, \"R\": 30, \"lambda.step\": 0.01, \"plot.opts\": {\"xlab\": \"PC1\", \"ylab\": \"PC2\"}, \"topic.order\": [2, 4, 3, 1, 5]};\n",
       "\n",
       "function LDAvis_load_lib(url, callback){\n",
       "  var s = document.createElement('script');\n",
       "  s.src = url;\n",
       "  s.async = true;\n",
       "  s.onreadystatechange = s.onload = callback;\n",
       "  s.onerror = function(){console.warn(\"failed to load library \" + url);};\n",
       "  document.getElementsByTagName(\"head\")[0].appendChild(s);\n",
       "}\n",
       "\n",
       "if(typeof(LDAvis) !== \"undefined\"){\n",
       "   // already loaded: just create the visualization\n",
       "   !function(LDAvis){\n",
       "       new LDAvis(\"#\" + \"ldavis_el160962783236314240761670764\", ldavis_el160962783236314240761670764_data);\n",
       "   }(LDAvis);\n",
       "}else if(typeof define === \"function\" && define.amd){\n",
       "   // require.js is available: use it to load d3/LDAvis\n",
       "   require.config({paths: {d3: \"https://cdnjs.cloudflare.com/ajax/libs/d3/3.5.5/d3.min\"}});\n",
       "   require([\"d3\"], function(d3){\n",
       "      window.d3 = d3;\n",
       "      LDAvis_load_lib(\"https://cdn.rawgit.com/bmabey/pyLDAvis/files/ldavis.v1.0.0.js\", function(){\n",
       "        new LDAvis(\"#\" + \"ldavis_el160962783236314240761670764\", ldavis_el160962783236314240761670764_data);\n",
       "      });\n",
       "    });\n",
       "}else{\n",
       "    // require.js not available: dynamically load d3 & LDAvis\n",
       "    LDAvis_load_lib(\"https://cdnjs.cloudflare.com/ajax/libs/d3/3.5.5/d3.min.js\", function(){\n",
       "         LDAvis_load_lib(\"https://cdn.rawgit.com/bmabey/pyLDAvis/files/ldavis.v1.0.0.js\", function(){\n",
       "                 new LDAvis(\"#\" + \"ldavis_el160962783236314240761670764\", ldavis_el160962783236314240761670764_data);\n",
       "            })\n",
       "         });\n",
       "}\n",
       "</script>"
      ],
      "text/plain": [
       "PreparedData(topic_coordinates=              x         y  topics  cluster       Freq\n",
       "topic                                                \n",
       "1     -0.038347  0.018519       1        1  28.430912\n",
       "3     -0.098373  0.024008       2        1  26.339277\n",
       "2      0.122122 -0.252266       3        1  19.051183\n",
       "0     -0.224173  0.034995       4        1  16.162186\n",
       "4      0.238772  0.174745       5        1  10.016441, topic_info=     Category          Freq       Term         Total  loglift  logprob\n",
       "849   Default  12103.000000       dont  12103.000000  30.0000  30.0000\n",
       "1634  Default  11431.000000       know  11431.000000  29.0000  29.0000\n",
       "3326  Default   6267.000000       want   6267.000000  28.0000  28.0000\n",
       "1719  Default  10511.000000       like  10511.000000  27.0000  27.0000\n",
       "3325  Default   3444.000000      wanna   3444.000000  26.0000  26.0000\n",
       "1780  Default   8610.000000       love   8610.000000  25.0000  25.0000\n",
       "1287  Default   3355.000000      gonna   3355.000000  24.0000  24.0000\n",
       "3064  Default   3611.000000       tell   3611.000000  23.0000  23.0000\n",
       "3492  Default   2819.000000       yeah   2819.000000  22.0000  22.0000\n",
       "1519  Default   4672.000000        ill   4672.000000  21.0000  21.0000\n",
       "1292  Default   6682.000000        got   6682.000000  20.0000  20.0000\n",
       "3221  Default   1889.000000        try   1889.000000  19.0000  19.0000\n",
       "1065  Default   4568.000000       feel   4568.000000  18.0000  18.0000\n",
       "3134  Default   6836.000000       time   6836.000000  17.0000  17.0000\n",
       "2036  Default   1546.000000        ooh   1546.000000  16.0000  16.0000\n",
       "1067  Default   1682.000000    feeling   1682.000000  15.0000  15.0000\n",
       "1972  Default   2997.000000       need   2997.000000  14.0000  14.0000\n",
       "3505  Default   7231.000000      youre   7231.000000  13.0000  13.0000\n",
       "848   Default   1542.000000        don   1542.000000  12.0000  12.0000\n",
       "1714  Default   2260.000000      light   2260.000000  11.0000  11.0000\n",
       "1556  Default   3858.000000        ive   3858.000000  10.0000  10.0000\n",
       "1748  Default   1250.000000     living   1250.000000   9.0000   9.0000\n",
       "1527  Default    912.000000  important    912.000000   8.0000   8.0000\n",
       "1431  Default   1687.000000        hey   1687.000000   7.0000   7.0000\n",
       "1881  Default   2449.000000       mind   2449.000000   6.0000   6.0000\n",
       "1005  Default   3107.000000       eyes   3107.000000   5.0000   5.0000\n",
       "3449  Default   3005.000000       wont   3005.000000   4.0000   4.0000\n",
       "3462  Default   2378.000000      world   2378.000000   3.0000   3.0000\n",
       "2618  Default   1343.000000       shes   1343.000000   2.0000   2.0000\n",
       "431   Default   3681.000000      cause   3681.000000   1.0000   1.0000\n",
       "...       ...           ...        ...           ...      ...      ...\n",
       "1713   Topic5    142.282709     lifted    145.759849   2.2768  -6.2675\n",
       "318    Topic5    329.208695  breathing    349.025414   2.2425  -5.4286\n",
       "1259   Topic5    354.207977     giving    381.977821   2.2255  -5.3554\n",
       "2091   Topic5    168.805670      parts    175.257538   2.2634  -6.0965\n",
       "802    Topic5    549.556994       died    645.473863   2.1401  -4.9162\n",
       "3366   Topic5    133.259353        web    136.549257   2.2766  -6.3330\n",
       "2539   Topic5    335.976049  screaming    378.981165   2.1805  -5.4082\n",
       "1748   Topic5    964.601140     living   1250.259444   2.0416  -4.3536\n",
       "2779   Topic5    505.899237   somebody    606.764633   2.1191  -4.9990\n",
       "85     Topic5    422.651505    arrived    497.997196   2.1369  -5.1787\n",
       "1412   Topic5    286.399569     heaven    325.602350   2.1727  -5.5679\n",
       "1067   Topic5   1195.265204    feeling   1682.616468   1.9590  -4.1392\n",
       "1208   Topic5    675.944506       fuck    928.842296   1.9831  -4.7092\n",
       "1892   Topic5    446.279756       miss    573.244817   2.0506  -5.1243\n",
       "3492   Topic5   1671.086366       yeah   2819.896228   1.7777  -3.8041\n",
       "3221   Topic5   1158.497905        try   1889.681826   1.8117  -4.1704\n",
       "1719   Topic5   3835.723341       like  10511.071968   1.2929  -2.9732\n",
       "3064   Topic5   1683.008788       tell   3611.611928   1.5374  -3.7970\n",
       "896    Topic5    329.542215       drop    444.288734   2.0022  -5.4276\n",
       "94     Topic5    507.812681        ask    910.556997   1.7170  -4.9952\n",
       "1289   Topic5    255.908150    goodbye    336.241031   2.0279  -5.6805\n",
       "2740   Topic5    243.244756     slowly    312.714389   2.0497  -5.7312\n",
       "2271   Topic5    324.107113       pull    525.892848   1.8169  -5.4442\n",
       "741    Topic5    389.136292       dead   1051.496665   1.3069  -5.2614\n",
       "3355   Topic5    626.251284        way   4432.419288   0.3440  -4.7855\n",
       "3310   Topic5    391.818394    waiting   1266.731015   1.1275  -5.2545\n",
       "2786   Topic5    346.303827       song   1019.232103   1.2215  -5.3780\n",
       "44     Topic5    318.074651    alright   1150.695832   1.0151  -5.4630\n",
       "1407   Topic5    364.143953      heart   3088.407131   0.1631  -5.3277\n",
       "1760   Topic5    352.265595       long   2557.309413   0.3186  -5.3609\n",
       "\n",
       "[404 rows x 6 columns], token_table=      Topic      Freq      Term\n",
       "term                           \n",
       "30        4  0.997817       ahh\n",
       "33        1  0.309502      aint\n",
       "33        2  0.001446      aint\n",
       "33        3  0.002893      aint\n",
       "33        4  0.677577      aint\n",
       "33        5  0.008678      aint\n",
       "34        1  0.110329       air\n",
       "34        2  0.035921       air\n",
       "34        3  0.839011       air\n",
       "34        4  0.008980       air\n",
       "34        5  0.005132       air\n",
       "44        1  0.006952   alright\n",
       "44        2  0.715219   alright\n",
       "44        4  0.000869   alright\n",
       "44        5  0.276355   alright\n",
       "50        1  0.994454   america\n",
       "51        1  0.995123  american\n",
       "52        1  0.996013       amp\n",
       "55        3  0.970573     angel\n",
       "55        5  0.021449     angel\n",
       "67        3  0.001483   anymore\n",
       "67        4  0.997871   anymore\n",
       "67        5  0.001483   anymore\n",
       "73        5  0.990332    appear\n",
       "79        1  0.991839     arent\n",
       "79        5  0.005975     arent\n",
       "81        5  0.994225       arm\n",
       "82        1  0.136708      arms\n",
       "82        3  0.835749      arms\n",
       "82        5  0.026778      arms\n",
       "...     ...       ...       ...\n",
       "3457      5  0.019303      work\n",
       "3460      1  0.985565   working\n",
       "3460      5  0.013011   working\n",
       "3462      1  0.091223     world\n",
       "3462      2  0.020599     world\n",
       "3462      3  0.562471     world\n",
       "3462      4  0.323273     world\n",
       "3462      5  0.002522     world\n",
       "3466      2  0.986654   worried\n",
       "3487      1  0.158653     wrong\n",
       "3487      2  0.811629     wrong\n",
       "3487      5  0.030115     wrong\n",
       "3492      1  0.112415      yeah\n",
       "3492      2  0.011703      yeah\n",
       "3492      3  0.009575      yeah\n",
       "3492      4  0.273769      yeah\n",
       "3492      5  0.592575      yeah\n",
       "3502      1  0.161544     youll\n",
       "3502      2  0.731035     youll\n",
       "3502      3  0.023257     youll\n",
       "3502      4  0.080458     youll\n",
       "3502      5  0.004400     youll\n",
       "3505      1  0.250972     youre\n",
       "3505      2  0.442900     youre\n",
       "3505      3  0.007882     youre\n",
       "3505      4  0.286232     youre\n",
       "3505      5  0.012030     youre\n",
       "3507      1  0.339758     youve\n",
       "3507      2  0.658924     youve\n",
       "3507      5  0.000572     youve\n",
       "\n",
       "[934 rows x 3 columns], R=30, lambda_step=0.01, plot_opts={'xlab': 'PC1', 'ylab': 'PC2'}, topic_order=[2, 4, 3, 1, 5])"
      ]
     },
     "execution_count": 134,
     "metadata": {},
     "output_type": "execute_result"
    }
   ],
   "source": [
    "vectorizer = CountVectorizer(analyzer='word',stop_words='english',max_df=.4, min_df=20, max_features=22000, lowercase=True, token_pattern='[a-zA-Z0-9]{3,}')\n",
    "\n",
    "bag_lyrics= vectorizer.fit_transform(songlyrics['cleaned_lyrics'])\n",
    "scipy.sparse.save_npz('sparse_lyrics_2.npz',bag_lyrics)\n",
    "LDA_model=LatentDirichletAllocation(n_components=5,learning_method='online',n_jobs= -1)\n",
    "\n",
    "LDA_result = LDA_model.fit_transform(bag_lyrics)\n",
    "\n",
    "pyLDAvis.enable_notebook()\n",
    "pyLDAvis.sklearn.prepare(LDA_model,bag_lyrics,vectorizer)"
   ]
  },
  {
   "cell_type": "code",
   "execution_count": 136,
   "metadata": {},
   "outputs": [
    {
     "name": "stderr",
     "output_type": "stream",
     "text": [
      "C:\\Users\\16142\\Anaconda3\\lib\\site-packages\\pyLDAvis\\_prepare.py:257: FutureWarning:\n",
      "\n",
      "Sorting because non-concatenation axis is not aligned. A future version\n",
      "of pandas will change to not sort by default.\n",
      "\n",
      "To accept the future behavior, pass 'sort=False'.\n",
      "\n",
      "To retain the current behavior and silence the warning, pass 'sort=True'.\n",
      "\n",
      "\n"
     ]
    },
    {
     "data": {
      "text/html": [
       "\n",
       "<link rel=\"stylesheet\" type=\"text/css\" href=\"https://cdn.rawgit.com/bmabey/pyLDAvis/files/ldavis.v1.0.0.css\">\n",
       "\n",
       "\n",
       "<div id=\"ldavis_el1609627849546074402726364107\"></div>\n",
       "<script type=\"text/javascript\">\n",
       "\n",
       "var ldavis_el1609627849546074402726364107_data = {\"mdsDat\": {\"x\": [-0.13756708495000125, -0.09558925983157066, 0.2331563447815718], \"y\": [0.11901737193169531, -0.13421480835334162, 0.015197436421646332], \"topics\": [1, 2, 3], \"cluster\": [1, 1, 1], \"Freq\": [44.34088285315326, 41.140271390150986, 14.518845756695756]}, \"tinfo\": {\"Category\": [\"Default\", \"Default\", \"Default\", \"Default\", \"Default\", \"Default\", \"Default\", \"Default\", \"Default\", \"Default\", \"Default\", \"Default\", \"Default\", \"Default\", \"Default\", \"Default\", \"Default\", \"Default\", \"Default\", \"Default\", \"Default\", \"Default\", \"Default\", \"Default\", \"Default\", \"Default\", \"Default\", \"Default\", \"Default\", \"Default\", \"Topic1\", \"Topic1\", \"Topic1\", \"Topic1\", \"Topic1\", \"Topic1\", \"Topic1\", \"Topic1\", \"Topic1\", \"Topic1\", \"Topic1\", \"Topic1\", \"Topic1\", \"Topic1\", \"Topic1\", \"Topic1\", \"Topic1\", \"Topic1\", \"Topic1\", \"Topic1\", \"Topic1\", \"Topic1\", \"Topic1\", \"Topic1\", \"Topic1\", \"Topic1\", \"Topic1\", \"Topic1\", \"Topic1\", \"Topic1\", \"Topic1\", \"Topic1\", \"Topic1\", \"Topic1\", \"Topic1\", \"Topic1\", \"Topic1\", \"Topic1\", \"Topic1\", \"Topic1\", \"Topic1\", \"Topic1\", \"Topic1\", \"Topic1\", \"Topic1\", \"Topic1\", \"Topic1\", \"Topic1\", \"Topic1\", \"Topic1\", \"Topic1\", \"Topic1\", \"Topic1\", \"Topic1\", \"Topic1\", \"Topic1\", \"Topic1\", \"Topic1\", \"Topic1\", \"Topic1\", \"Topic1\", \"Topic1\", \"Topic1\", \"Topic1\", \"Topic1\", \"Topic1\", \"Topic1\", \"Topic1\", \"Topic1\", \"Topic1\", \"Topic1\", \"Topic1\", \"Topic1\", \"Topic1\", \"Topic1\", \"Topic1\", \"Topic1\", \"Topic1\", \"Topic1\", \"Topic1\", \"Topic1\", \"Topic1\", \"Topic1\", \"Topic1\", \"Topic1\", \"Topic1\", \"Topic1\", \"Topic1\", \"Topic1\", \"Topic1\", \"Topic1\", \"Topic1\", \"Topic1\", \"Topic1\", \"Topic1\", \"Topic1\", \"Topic1\", \"Topic1\", \"Topic1\", \"Topic1\", \"Topic1\", \"Topic2\", \"Topic2\", \"Topic2\", \"Topic2\", \"Topic2\", \"Topic2\", \"Topic2\", \"Topic2\", \"Topic2\", \"Topic2\", \"Topic2\", \"Topic2\", \"Topic2\", \"Topic2\", \"Topic2\", \"Topic2\", \"Topic2\", \"Topic2\", \"Topic2\", \"Topic2\", \"Topic2\", \"Topic2\", \"Topic2\", \"Topic2\", \"Topic2\", \"Topic2\", \"Topic2\", \"Topic2\", \"Topic2\", \"Topic2\", \"Topic2\", \"Topic2\", \"Topic2\", \"Topic2\", \"Topic2\", \"Topic2\", \"Topic2\", \"Topic2\", \"Topic2\", \"Topic2\", \"Topic2\", \"Topic2\", \"Topic2\", \"Topic2\", \"Topic2\", \"Topic2\", \"Topic2\", \"Topic2\", \"Topic2\", \"Topic2\", \"Topic2\", \"Topic2\", \"Topic2\", \"Topic2\", \"Topic2\", \"Topic2\", \"Topic2\", \"Topic2\", \"Topic2\", \"Topic2\", \"Topic2\", \"Topic2\", \"Topic2\", \"Topic2\", \"Topic2\", \"Topic2\", \"Topic2\", \"Topic2\", \"Topic2\", \"Topic2\", \"Topic2\", \"Topic2\", \"Topic2\", \"Topic3\", \"Topic3\", \"Topic3\", \"Topic3\", \"Topic3\", \"Topic3\", \"Topic3\", \"Topic3\", \"Topic3\", \"Topic3\", \"Topic3\", \"Topic3\", \"Topic3\", \"Topic3\", \"Topic3\", \"Topic3\", \"Topic3\", \"Topic3\", \"Topic3\", \"Topic3\", \"Topic3\", \"Topic3\", \"Topic3\", \"Topic3\", \"Topic3\", \"Topic3\", \"Topic3\", \"Topic3\", \"Topic3\", \"Topic3\", \"Topic3\", \"Topic3\", \"Topic3\", \"Topic3\", \"Topic3\", \"Topic3\", \"Topic3\", \"Topic3\", \"Topic3\", \"Topic3\", \"Topic3\", \"Topic3\", \"Topic3\", \"Topic3\", \"Topic3\", \"Topic3\", \"Topic3\", \"Topic3\", \"Topic3\", \"Topic3\", \"Topic3\", \"Topic3\", \"Topic3\", \"Topic3\", \"Topic3\", \"Topic3\", \"Topic3\", \"Topic3\", \"Topic3\", \"Topic3\", \"Topic3\", \"Topic3\", \"Topic3\", \"Topic3\", \"Topic3\", \"Topic3\", \"Topic3\", \"Topic3\", \"Topic3\", \"Topic3\", \"Topic3\", \"Topic3\", \"Topic3\", \"Topic3\", \"Topic3\"], \"Freq\": [12209.0, 8700.0, 11330.0, 11427.0, 5513.0, 2969.0, 6288.0, 3871.0, 3481.0, 1937.0, 1372.0, 1153.0, 1043.0, 945.0, 2321.0, 3040.0, 4624.0, 3019.0, 939.0, 3023.0, 803.0, 6902.0, 7106.0, 2547.0, 1567.0, 1091.0, 1064.0, 3535.0, 2446.0, 717.0, 359.1492062656796, 276.30434144888034, 279.1609589269496, 193.675070877508, 248.1291375428208, 191.16068984339898, 187.93994239111237, 193.51516532669396, 178.81069326244938, 171.97349806959946, 157.63956310495158, 396.3390595636531, 166.70456075143528, 154.67157608431225, 156.83389144453247, 144.7500765750037, 174.18007999938274, 133.6979045558364, 129.87200117336104, 127.82578272685576, 127.48564421432933, 212.16826226023966, 123.09963061942183, 232.8116448363776, 187.25146669945252, 114.20518804771103, 122.64208871396504, 114.65828626452527, 127.3658835049163, 112.00969715199285, 991.7770728490108, 728.6649616682712, 429.2506995364333, 304.1208125685255, 283.2944993150682, 162.88506013749492, 152.07238591530628, 160.05383067135185, 972.8444985595013, 369.6311189829432, 335.1003313471468, 381.11367937262725, 369.196050375429, 228.8245168060805, 738.0428405208122, 262.55270424625564, 216.8833381160763, 292.765023826977, 495.79146173505626, 579.9710840762887, 502.5961009970276, 310.5619919745068, 500.6335397978003, 562.7091583649319, 407.4041669045071, 267.71676115456387, 673.6834090076926, 372.8584490741557, 1938.9091139736454, 1389.0253994454124, 806.414671338133, 950.40602523936, 602.6308892719484, 712.3502525330565, 681.6691396334288, 546.7203937831603, 1389.1377399155003, 938.7055391540964, 1996.2056147554242, 703.3714514852728, 1268.4420396728517, 2110.661040505676, 1054.0483061254488, 1364.6887770701012, 954.916057049808, 1084.1396464396, 744.6567095425679, 2083.9622381554213, 882.34802715159, 2317.9441408255066, 942.802613052484, 694.2709583156857, 1197.8226746669357, 1752.8467019427876, 1627.7505190126906, 1022.9530586599938, 1489.3582691364893, 1447.4183492190125, 3179.8346509775556, 1872.36174097387, 1050.474732863592, 1068.7833445192236, 930.6777086289482, 1305.3987416637829, 1725.8017616113923, 1417.5047543886037, 1030.6522520466795, 1264.702253130952, 1170.335175982043, 1097.8406327576977, 1052.2246554656604, 1566.8640380026807, 302.27146577408746, 193.5937241953013, 294.61340968719907, 190.0942471515557, 153.2509206866388, 714.3899335081134, 145.80290212945707, 181.44986977656035, 145.3573844005867, 678.4041401064167, 3460.5422877942165, 112.85612178681583, 147.55571740346335, 120.426885606425, 150.1491869587344, 93.93350291788066, 143.82147289090312, 80.28258915419354, 110.79110257325307, 70.3459159435761, 73.93644604926148, 60.05987117608804, 200.50731550651977, 785.2118740538011, 51.66200290851987, 61.07863134473805, 55.20366995779287, 12035.85416865699, 417.78380902688275, 8468.70416353818, 6056.9526597481345, 511.5231545348435, 196.27135942131142, 164.44913136082127, 10446.540489452203, 308.4277120242946, 2783.4347735177007, 1144.793163100992, 285.3931085710915, 2720.626330464404, 2275.7703650365797, 3888.2922305284374, 409.1459543839418, 2052.119707173926, 2843.3659679764264, 1032.3146532939552, 615.8537835681293, 5374.023934068706, 1055.091742395872, 3630.1634599108697, 5081.830970248585, 1577.9239391082283, 2627.769041550434, 3495.4378122734875, 3102.136375585553, 2792.060253391401, 1141.9523600285431, 1427.453278615917, 2228.60818449371, 2428.9115864142973, 3107.610127144617, 2644.1220231831703, 2917.1051541027764, 1387.1847010856861, 1595.3170229719706, 4259.069791321447, 1837.737035769217, 2304.6823689259804, 1572.0648468264892, 1841.6012477944735, 1803.10359359057, 1634.9696055294878, 1042.6317022203027, 944.2636897478721, 802.7984344457584, 385.42866717097706, 273.09879670283954, 275.72185661613275, 193.27332954596227, 199.22292737861716, 194.88377088664132, 187.44789182860413, 176.58631705517678, 170.07727068480648, 162.88093890289792, 165.36016799753125, 291.6683849843192, 156.12515518446517, 532.046803283059, 153.4946895733799, 168.49809772010977, 161.9974415486584, 198.00887794479627, 146.96975848887368, 155.33702563774318, 149.10324421682844, 144.83640875303828, 145.51270549764166, 145.5434672591328, 143.9569954932262, 159.62303420137715, 146.85838177069135, 226.78534101043104, 577.3188627835424, 324.007621601949, 214.0721264885657, 154.23362550027448, 154.72361961400162, 1119.7900957990782, 446.68221170621814, 196.3395007826463, 274.5496378018959, 284.86605185581, 399.430414252763, 177.78944143649406, 224.87518032197903, 644.2231700070549, 601.1828825030977, 817.3653704157015, 1139.0212729007812, 2128.5642858569418, 330.9589520247444, 234.4416906882123, 271.83165368500426, 1210.1823142122241, 2749.159505578852, 325.709508335173, 364.0367045102655, 1911.64235212534, 576.2031765700285, 545.1121609148862, 3891.445091923093, 605.0273850612487, 625.7615182334009, 629.2753822649598, 623.9664037197316, 399.0217958925003, 815.2384761547963, 359.5823600041086, 775.7031712312228, 700.8437276469413, 538.4777151591982, 717.681406881287, 560.9764409913183, 507.14336570381613, 422.4478277337232, 467.65488689810815], \"Term\": [\"dont\", \"love\", \"like\", \"know\", \"got\", \"yeah\", \"want\", \"tell\", \"wanna\", \"feeling\", \"living\", \"hey\", \"important\", \"fuck\", \"try\", \"gonna\", \"feel\", \"wont\", \"shes\", \"need\", \"probably\", \"time\", \"youre\", \"baby\", \"ooh\", \"aint\", \"alright\", \"cause\", \"little\", \"died\", \"quiet\", \"clouds\", \"winter\", \"lake\", \"pulled\", \"swim\", \"buried\", \"laid\", \"passing\", \"garden\", \"field\", \"burning\", \"boat\", \"steel\", \"frozen\", \"hung\", \"grass\", \"covered\", \"moonlight\", \"sunday\", \"wheels\", \"shadows\", \"shall\", \"chest\", \"highway\", \"hills\", \"ghosts\", \"painted\", \"poison\", \"killer\", \"water\", \"summer\", \"river\", \"beneath\", \"children\", \"sheets\", \"pulling\", \"lightning\", \"sky\", \"ghost\", \"green\", \"asleep\", \"gold\", \"float\", \"air\", \"dust\", \"hoo\", \"golden\", \"earth\", \"moon\", \"heaven\", \"snow\", \"lay\", \"half\", \"awake\", \"sand\", \"sea\", \"trees\", \"light\", \"sun\", \"blood\", \"saw\", \"wind\", \"house\", \"rain\", \"death\", \"old\", \"cold\", \"home\", \"city\", \"run\", \"eyes\", \"hands\", \"left\", \"dark\", \"coming\", \"blue\", \"night\", \"came\", \"away\", \"song\", \"ground\", \"gone\", \"theres\", \"day\", \"place\", \"said\", \"long\", \"like\", \"come\", \"inside\", \"hold\", \"days\", \"life\", \"time\", \"let\", \"lost\", \"youre\", \"way\", \"ill\", \"heart\", \"ooh\", \"babe\", \"everybodys\", \"desire\", \"cmon\", \"oohooh\", \"lonely\", \"woah\", \"america\", \"modern\", \"anymore\", \"wanna\", \"owe\", \"sisters\", \"enemy\", \"lately\", \"celebrate\", \"fame\", \"kills\", \"shouldve\", \"clap\", \"tame\", \"rewind\", \"shout\", \"dance\", \"lovin\", \"mmm\", \"colour\", \"dont\", \"waste\", \"love\", \"want\", \"afraid\", \"simple\", \"deserve\", \"know\", \"losing\", \"need\", \"care\", \"choose\", \"wont\", \"baby\", \"feel\", \"dancing\", \"mind\", \"cause\", \"lets\", \"easy\", \"youre\", \"change\", \"say\", \"time\", \"better\", \"think\", \"ill\", \"make\", \"ive\", \"wrong\", \"stay\", \"gonna\", \"right\", \"way\", \"let\", \"come\", \"hard\", \"world\", \"like\", \"life\", \"got\", \"good\", \"away\", \"tell\", \"heart\", \"important\", \"fuck\", \"probably\", \"capital\", \"dip\", \"feeding\", \"punk\", \"tryin\", \"special\", \"class\", \"doo\", \"monkey\", \"bands\", \"venom\", \"willing\", \"rocking\", \"arrived\", \"pistol\", \"tattoo\", \"switch\", \"gimme\", \"desk\", \"social\", \"oclock\", \"pot\", \"lipstick\", \"sucks\", \"cheese\", \"strip\", \"sucked\", \"queen\", \"shit\", \"drunk\", \"stage\", \"web\", \"grin\", \"hey\", \"drop\", \"parts\", \"kick\", \"fucking\", \"bit\", \"mama\", \"cat\", \"died\", \"somebody\", \"shes\", \"living\", \"yeah\", \"rock\", \"nose\", \"higher\", \"feeling\", \"got\", \"dog\", \"screaming\", \"tell\", \"hes\", \"moment\", \"like\", \"ask\", \"alright\", \"aint\", \"don\", \"money\", \"try\", \"giving\", \"little\", \"man\", \"bad\", \"gonna\", \"said\", \"good\", \"hell\", \"youre\"], \"Total\": [12209.0, 8700.0, 11330.0, 11427.0, 5513.0, 2969.0, 6288.0, 3871.0, 3481.0, 1937.0, 1372.0, 1153.0, 1043.0, 945.0, 2321.0, 3040.0, 4624.0, 3019.0, 939.0, 3023.0, 803.0, 6902.0, 7106.0, 2547.0, 1567.0, 1091.0, 1064.0, 3535.0, 2446.0, 717.0, 359.90100939968613, 276.98045219354236, 280.01080041951053, 194.3318518391007, 248.98292747112896, 191.81848022545833, 188.59110463561825, 194.19603220354057, 179.48193016650842, 172.65628588395205, 158.27566072630339, 397.9990032529562, 167.40846531706313, 155.3265185968304, 157.50454112529786, 145.41066784124396, 175.03263567315364, 134.36226439748754, 130.53475620614174, 128.48086158948558, 128.1391298467495, 213.25863898640702, 123.7407922148263, 234.06080575770892, 188.28035059509526, 114.83686289021271, 123.33638305238765, 115.30748935336001, 128.09865028101729, 112.65537568585994, 999.476611450372, 734.7222726283699, 432.80486879674794, 306.3073856403606, 286.5190197685596, 163.8789880545164, 153.018600126293, 161.18119992486956, 1008.4769979701857, 376.5479697601859, 340.88182377139634, 388.78777443550473, 376.98064535609444, 231.4635892844285, 773.4309224728813, 267.01780595867945, 219.3099831364884, 298.82793842096635, 515.381135449043, 606.9106513747081, 523.1046118528997, 317.80736625909185, 523.6127088592178, 591.4562971106335, 423.3129260404817, 273.25004459382546, 727.9094600290914, 388.1894392046084, 2248.4023064092407, 1593.2143286790938, 890.3729003108319, 1087.6372427783244, 659.4593946796547, 798.0717056007661, 761.3657164513394, 597.5563549234209, 1743.94383836963, 1116.354075790192, 2711.8673992618524, 811.649903733439, 1645.6478620387093, 3098.478608916335, 1336.1481508617571, 1837.016423116834, 1190.2765452144017, 1424.1822356370785, 898.2361354672715, 3444.2448813596957, 1125.9416232317185, 4162.366423590164, 1254.3398110208293, 826.4792491905052, 1820.5070437690486, 3175.6781423600964, 2889.9481447639746, 1532.9692573803284, 2913.2309172853847, 2790.6249287450078, 11330.349534222096, 4819.297887279337, 1675.0834949828482, 1835.9636386728605, 1329.2920532286425, 3211.942821641689, 6902.792649271352, 4074.3172180628403, 1733.232028867292, 7106.381074097766, 4690.493446891519, 4655.063440181487, 3128.974568372775, 1567.500681246468, 302.94534065472465, 194.3168705567609, 295.71978210933304, 190.80993349759825, 153.8423157454371, 717.4105742690051, 146.46155620249388, 182.27018361895816, 146.02720163259238, 682.41973439028, 3481.248921391517, 113.58404970674155, 148.53403496079986, 121.2268094578641, 151.16529951599753, 94.64474437628512, 144.9466919167634, 80.98858174043747, 111.82599973018492, 71.04225647474618, 74.67290629605587, 60.71897242275224, 202.88180643179794, 794.7358745711115, 52.295246616755875, 61.890982713997055, 55.992380055856586, 12209.25116155488, 423.8128924281975, 8700.110019989623, 6288.848078469707, 520.0411459839669, 199.45025078723214, 167.4578125916732, 11427.52822804812, 316.33294280612455, 3023.7563539965436, 1232.5002655627911, 294.8096712562278, 3019.180444167451, 2547.1886188687213, 4624.929875482339, 437.43531883941347, 2456.6210420485677, 3535.8076598223747, 1191.056743115616, 685.5246120224226, 7106.381074097766, 1230.4654149133291, 4736.977583364262, 6902.792649271352, 1918.9861453996057, 3362.239707928951, 4655.063440181487, 4122.168128880389, 3827.1598006450354, 1384.3578568416576, 1799.445635215684, 3040.8470878954336, 3405.0961507769202, 4690.493446891519, 4074.3172180628403, 4819.297887279337, 1784.0734284269615, 2354.8494154713267, 11330.349534222096, 3211.942821641689, 5513.529012191672, 2409.4638247160597, 4162.366423590164, 3871.296393616618, 3128.974568372775, 1043.3351209987725, 945.1188718972568, 803.580924059252, 386.1488707672032, 273.8054895216074, 276.5519844389077, 193.9807227435452, 199.97754447631843, 195.66961208025901, 188.22012149895454, 177.3213334698751, 170.7945208102944, 163.60561830982417, 166.10022852982647, 292.984543084679, 156.837271004157, 534.561717627683, 154.22164640926906, 169.29614198232437, 162.77244518014157, 198.95871800209446, 147.6788718959159, 156.08714434177273, 149.825986541449, 145.54330476304654, 146.22470696869829, 146.25825105748277, 144.66533602053556, 160.4136565253814, 147.58658345419167, 228.0133613664608, 587.2429923118823, 327.9443886214295, 215.83452265850175, 155.02526930206344, 155.54241859318884, 1153.3191027277535, 457.81906146350735, 198.21352342662544, 279.35813384758814, 291.9784519078632, 420.14454000335576, 179.67719895670805, 230.86085302865808, 717.2355992910158, 669.8806210929973, 939.2510198513818, 1372.0308133217582, 2969.5537805004383, 364.0837328280424, 245.48281215876216, 296.5901364719292, 1937.3506835656276, 5513.529012191672, 372.63031392770785, 437.4331956823467, 3871.296393616618, 800.764936471144, 750.3325048922559, 11330.349534222096, 974.8345670413371, 1064.5719012815325, 1091.3132311872641, 1253.777822447234, 554.3735274828948, 2321.0600443557205, 457.15334304627726, 2446.8393692616623, 2000.7652330033038, 1137.0658983698718, 3040.8470878954336, 2913.2309172853847, 2409.4638247160597, 836.8152792128433, 7106.381074097766], \"loglift\": [30.0, 29.0, 28.0, 27.0, 26.0, 25.0, 24.0, 23.0, 22.0, 21.0, 20.0, 19.0, 18.0, 17.0, 16.0, 15.0, 14.0, 13.0, 12.0, 11.0, 10.0, 9.0, 8.0, 7.0, 6.0, 5.0, 4.0, 3.0, 2.0, 1.0, 0.8112, 0.8108, 0.8102, 0.8099, 0.8098, 0.8098, 0.8098, 0.8098, 0.8095, 0.8093, 0.8092, 0.8091, 0.809, 0.809, 0.809, 0.8087, 0.8084, 0.8083, 0.8082, 0.8082, 0.8082, 0.8081, 0.8081, 0.8079, 0.8078, 0.8077, 0.8076, 0.8076, 0.8075, 0.8075, 0.8055, 0.805, 0.805, 0.8061, 0.8019, 0.8072, 0.8071, 0.8062, 0.7773, 0.7947, 0.7962, 0.7933, 0.7924, 0.8018, 0.7664, 0.7964, 0.8021, 0.7928, 0.7745, 0.7679, 0.7733, 0.7902, 0.7684, 0.7634, 0.775, 0.7928, 0.7358, 0.773, 0.6652, 0.6761, 0.7142, 0.6784, 0.7231, 0.6996, 0.7027, 0.7244, 0.5858, 0.6399, 0.5069, 0.6701, 0.5529, 0.4294, 0.5761, 0.516, 0.5929, 0.5405, 0.6258, 0.3108, 0.5695, 0.2279, 0.5278, 0.639, 0.3947, 0.219, 0.2392, 0.4088, 0.1423, 0.1568, -0.4574, -0.1322, 0.3466, 0.2722, 0.4568, -0.0871, -0.573, -0.2425, 0.2935, -0.9129, -0.575, -0.6313, -0.2765, 0.8878, 0.886, 0.8845, 0.8844, 0.8844, 0.8843, 0.884, 0.8837, 0.8837, 0.8836, 0.8823, 0.8822, 0.8818, 0.8816, 0.8816, 0.8814, 0.8806, 0.8804, 0.8794, 0.8789, 0.8783, 0.8783, 0.8773, 0.8764, 0.8761, 0.876, 0.875, 0.874, 0.8739, 0.8739, 0.8612, 0.8506, 0.8717, 0.8721, 0.8701, 0.7984, 0.8629, 0.8054, 0.8144, 0.8557, 0.7841, 0.7755, 0.7147, 0.8213, 0.7083, 0.6702, 0.7451, 0.781, 0.6088, 0.7344, 0.6221, 0.5819, 0.6925, 0.6417, 0.6017, 0.6039, 0.5728, 0.6957, 0.6566, 0.5774, 0.5504, 0.4765, 0.4558, 0.3861, 0.6366, 0.4988, -0.0903, 0.3298, 0.0159, 0.4612, 0.0727, 0.1241, 0.2391, 1.929, 1.9288, 1.9287, 1.9279, 1.9271, 1.9267, 1.9261, 1.9259, 1.9257, 1.9256, 1.9256, 1.9255, 1.9253, 1.9253, 1.9252, 1.9252, 1.925, 1.925, 1.925, 1.925, 1.9249, 1.9249, 1.9249, 1.9249, 1.9249, 1.9248, 1.9248, 1.9248, 1.9248, 1.9248, 1.9243, 1.9127, 1.9176, 1.9215, 1.9246, 1.9244, 1.9002, 1.9051, 1.9202, 1.9124, 1.9051, 1.8792, 1.9192, 1.9035, 1.8224, 1.8215, 1.7907, 1.7436, 1.5968, 1.8343, 1.8837, 1.8426, 1.4592, 1.2338, 1.7951, 1.7461, 1.2241, 1.6006, 1.6102, 0.861, 1.4527, 1.3984, 1.3792, 1.2319, 1.6009, 0.8834, 1.6896, 0.7809, 0.8807, 1.1823, 0.4859, 0.2824, 0.3714, 1.2462, -0.7913], \"logprob\": [30.0, 29.0, 28.0, 27.0, 26.0, 25.0, 24.0, 23.0, 22.0, 21.0, 20.0, 19.0, 18.0, 17.0, 16.0, 15.0, 14.0, 13.0, 12.0, 11.0, 10.0, 9.0, 8.0, 7.0, 6.0, 5.0, 4.0, 3.0, 2.0, 1.0, -6.8292, -7.0915, -7.0812, -7.4468, -7.199, -7.4599, -7.4768, -7.4476, -7.5266, -7.5656, -7.6527, -6.7307, -7.5967, -7.6717, -7.6578, -7.738, -7.5529, -7.8174, -7.8464, -7.8623, -7.865, -7.3556, -7.9, -7.2627, -7.4805, -7.975, -7.9037, -7.971, -7.8659, -7.9944, -5.8135, -6.1218, -6.6509, -6.9955, -7.0665, -7.6199, -7.6886, -7.6375, -5.8327, -6.8005, -6.8985, -6.7699, -6.8016, -7.28, -6.109, -7.1425, -7.3336, -7.0336, -6.5068, -6.35, -6.4932, -6.9746, -6.4971, -6.3802, -6.7032, -7.123, -6.2002, -6.7918, -5.1431, -5.4766, -6.0204, -5.8561, -6.3117, -6.1444, -6.1884, -6.409, -5.4765, -5.8685, -5.114, -6.1571, -5.5674, -5.0582, -5.7526, -5.4943, -5.8513, -5.7244, -6.1, -5.0709, -5.9304, -4.9645, -5.8641, -6.1701, -5.6247, -5.244, -5.318, -5.7825, -5.4069, -5.4354, -4.6484, -5.178, -5.756, -5.7387, -5.8771, -5.5387, -5.2595, -5.4563, -5.775, -5.5704, -5.6479, -5.7119, -5.7543, -5.2812, -6.9267, -7.3723, -6.9524, -7.3905, -7.606, -6.0666, -7.6558, -7.4371, -7.6589, -6.1183, -4.4889, -7.9119, -7.6438, -7.847, -7.6264, -8.0955, -7.6695, -8.2525, -7.9304, -8.3846, -8.3348, -8.5427, -7.3372, -5.9721, -8.6933, -8.5259, -8.627, -3.2424, -6.6031, -3.5939, -3.9291, -6.4007, -7.3586, -7.5354, -3.384, -6.9066, -4.7066, -5.5951, -6.9842, -4.7294, -4.908, -4.3723, -6.624, -5.0114, -4.6853, -5.6985, -6.215, -4.0487, -5.6767, -4.441, -4.1046, -5.2742, -4.7642, -4.4788, -4.5982, -4.7035, -5.5976, -5.3744, -4.9289, -4.8428, -4.5964, -4.758, -4.6597, -5.403, -5.2632, -4.2812, -5.1218, -4.8954, -5.2779, -5.1197, -5.1408, -5.2387, -4.647, -4.7461, -4.9084, -5.6422, -5.9867, -5.9771, -6.3324, -6.3021, -6.3241, -6.363, -6.4227, -6.4603, -6.5035, -6.4884, -5.9209, -6.5459, -5.3198, -6.5628, -6.4696, -6.5089, -6.3082, -6.6063, -6.5509, -6.5919, -6.6209, -6.6162, -6.616, -6.627, -6.5237, -6.607, -6.1725, -5.2381, -5.8157, -6.2302, -6.558, -6.5549, -4.5756, -5.4947, -6.3167, -5.9814, -5.9445, -5.6065, -6.4159, -6.181, -5.1285, -5.1976, -4.8904, -4.5586, -3.9333, -5.7945, -6.1393, -5.9913, -4.498, -3.6775, -5.8105, -5.6993, -4.0408, -5.24, -5.2955, -3.33, -5.1912, -5.1575, -5.1519, -5.1604, -5.6075, -4.893, -5.7116, -4.9427, -5.0442, -5.3078, -5.0205, -5.2668, -5.3677, -5.5504, -5.4488]}, \"token.table\": {\"Topic\": [1, 2, 3, 1, 2, 3, 1, 2, 3, 1, 2, 3, 1, 2, 1, 2, 3, 2, 3, 1, 2, 3, 1, 2, 1, 2, 1, 2, 3, 2, 1, 2, 3, 1, 2, 3, 3, 1, 2, 1, 2, 3, 1, 2, 3, 1, 2, 3, 1, 2, 3, 1, 1, 1, 2, 1, 2, 3, 3, 1, 2, 3, 2, 3, 1, 2, 3, 2, 1, 2, 3, 3, 1, 3, 1, 2, 3, 1, 2, 3, 1, 2, 3, 2, 3, 1, 2, 1, 2, 3, 1, 2, 1, 2, 3, 1, 2, 3, 1, 1, 2, 3, 1, 2, 3, 1, 2, 3, 1, 2, 3, 1, 2, 3, 1, 2, 3, 2, 3, 1, 2, 3, 1, 2, 3, 3, 1, 2, 3, 1, 2, 3, 1, 2, 3, 3, 1, 2, 3, 1, 2, 3, 1, 3, 1, 2, 3, 1, 2, 3, 1, 2, 2, 1, 2, 3, 1, 2, 3, 1, 2, 3, 1, 2, 3, 1, 1, 2, 3, 1, 3, 1, 2, 3, 1, 1, 2, 3, 1, 2, 3, 2, 3, 1, 2, 3, 1, 2, 3, 1, 2, 3, 1, 2, 3, 1, 2, 3, 1, 2, 3, 1, 2, 1, 2, 3, 3, 1, 2, 1, 2, 3, 1, 2, 3, 1, 2, 3, 1, 2, 3, 1, 2, 1, 2, 3, 1, 2, 3, 1, 2, 3, 1, 2, 3, 1, 3, 1, 1, 2, 3, 1, 2, 3, 1, 2, 1, 2, 3, 1, 1, 2, 3, 3, 1, 2, 3, 1, 2, 3, 1, 2, 3, 1, 2, 1, 2, 3, 1, 1, 1, 2, 1, 2, 1, 2, 3, 1, 2, 3, 1, 2, 3, 1, 2, 3, 1, 2, 3, 1, 2, 1, 2, 3, 3, 1, 2, 3, 1, 2, 3, 1, 2, 3, 1, 2, 3, 1, 2, 3, 1, 2, 3, 1, 2, 3, 2, 1, 2, 3, 2, 3, 1, 2, 3, 1, 2, 3, 1, 2, 2, 1, 2, 3, 1, 2, 3, 3, 1, 2, 1, 1, 2, 3, 1, 2, 3, 1, 2, 3, 3, 1, 2, 3, 2, 2, 2, 1, 2, 3, 1, 3, 1, 2, 3, 1, 3, 3, 1, 1, 2, 3, 1, 3, 1, 1, 2, 2, 1, 2, 3, 1, 3, 1, 2, 3, 3, 1, 2, 3, 1, 2, 3, 1, 2, 3, 1, 2, 3, 1, 2, 3, 1, 2, 3, 1, 2, 1, 2, 1, 1, 3, 1, 2, 3, 2, 3, 1, 2, 3, 1, 2, 3, 1, 2, 3, 1, 2, 1, 2, 1, 2, 3, 1, 2, 3, 1, 2, 3, 3, 1, 2, 3, 1, 2, 3, 1, 3, 3, 3, 1, 2, 1, 2, 1, 1, 3, 2, 3, 1, 2, 3, 1, 2, 3, 1, 2, 3, 1, 2, 3, 1, 2, 3, 1, 2, 3, 3, 3, 2, 3, 1, 2, 3, 1, 2, 3, 1, 2, 3, 1, 2, 3, 3, 1, 2, 3, 1, 2, 1, 2, 2, 1, 2, 3, 1, 2, 3, 1, 2, 3, 1, 2, 3, 1, 2, 3], \"Freq\": [0.015383398144128087, 0.9845374812241976, 0.001922924768016011, 0.0027489816069912695, 0.4205941858696642, 0.5763698102658361, 0.9541899328777824, 0.043959969807377514, 0.0012929402884522797, 0.0018786894502779929, 0.40955430016060246, 0.5880297979370117, 0.005486360852582082, 0.9930313143173569, 0.001465373800910766, 0.9935234370174993, 0.004396121402732298, 0.0037413827703108742, 0.9952078169026926, 0.021542116693436367, 0.3580094631432996, 0.6206181237870954, 0.9799690860989339, 0.01800468137189642, 0.9614636713481277, 0.03779709764513524, 0.5568947478681265, 0.4425367237157416, 0.0007207438496999049, 0.9968795009268616, 0.003533307244438441, 0.8935341431490991, 0.10285849978254129, 0.045731738217238416, 0.48106270778518107, 0.4731475992475821, 0.9962983037130345, 0.9924670910708312, 0.006529388757044942, 0.12246049851030273, 0.8223092197840753, 0.05523750145571102, 0.02142119947560931, 0.028561599300812417, 0.9496731767520128, 0.9052386923710536, 0.07637249513800452, 0.017969998856001066, 0.8294032833720761, 0.15920089868752602, 0.011132929978148673, 0.9975600677284179, 0.9968656812485386, 0.994977366182785, 0.0025125691065221844, 0.783344342016997, 0.19183943069804008, 0.02397992883725501, 0.9970247983247481, 0.04056794257741496, 0.9290058850228026, 0.03083163635883537, 0.02598968132226032, 0.974613049584762, 0.08258367764684037, 0.8040595738012575, 0.11341114635747598, 0.9931877424305594, 0.13653370339696502, 0.8573991493083221, 0.0056889043082068765, 0.9954008607809053, 0.9954678197647195, 0.004272394076243431, 0.9877180238456695, 0.003490169695567737, 0.006980339391135474, 0.003392018978681573, 0.9667254089242483, 0.030528170808134157, 0.8661369843898588, 0.07145938135791152, 0.06283497326299117, 0.9853290629202258, 0.9935175820245057, 0.9964602115933536, 0.9957552865160008, 0.8411309819739271, 0.15407298072365863, 0.005374638862453209, 0.017859573016943114, 0.9822765159318713, 0.388438325205253, 0.6052748902904503, 0.006224973160340593, 0.7611385487581896, 0.23030760515930462, 0.008425887993633096, 0.9973038233680266, 0.0037748390326773473, 0.9877495468839058, 0.00880795774291381, 0.0022860522617450313, 0.9349953750537178, 0.06172341106711584, 0.8023345531251967, 0.19743310993133112, 0.0008401408933248133, 0.5633319071657462, 0.40519758187413324, 0.031488454270321195, 0.7003728020029508, 0.28812329019025795, 0.0112842019656759, 0.915394833463197, 0.04685750518641594, 0.03849009354598452, 0.9793511420090941, 0.017914959914800504, 0.0033815796591865526, 0.997565999460033, 0.9954030533467619, 0.09899118235372475, 0.0027884840099640777, 0.897891851208433, 0.9970581688372474, 0.12076312183428595, 0.005367249859301597, 0.8748617270661604, 0.07098546361769421, 0.4314959080581187, 0.49769583480270996, 0.005979072674814502, 0.9858098453981828, 0.00827241561857897, 0.9981878465293084, 0.0240269593949111, 0.002184269035901009, 0.976368259047751, 0.0030492974866978867, 0.00914789246009366, 0.9879723856901154, 0.9849530410743425, 0.014980274388963384, 0.9623945578990653, 0.03686592056468194, 0.0019403116086674703, 0.06418442055667699, 0.8985818877934778, 0.0364684207708392, 0.00824900040240339, 0.9898800482884067, 0.998369310107491, 0.681302105467271, 0.3159615164625572, 0.002581912289785963, 0.006899088118370143, 0.9934686890453006, 0.998004048171892, 0.14486706134763286, 0.840661394805368, 0.014486706134763284, 0.049036037102563046, 0.32621868893494577, 0.6245642620431715, 0.9982583504940784, 0.9893564716072851, 0.008640667874299433, 0.004320333937149716, 0.9967966566443536, 0.9988161574903157, 0.0171245513746946, 0.006849820549877841, 0.9760994283575922, 0.9961988879779728, 0.9826105296375489, 0.015934224804933225, 0.0026557041341555374, 0.9972726372862356, 0.005026168292808727, 0.995181321976128, 0.21218263297306955, 0.7874819368072684, 0.9788300925938626, 0.013263280387450713, 0.007957968232470428, 0.9804973442183429, 0.016732036590756703, 0.003346407318151341, 0.6580584261403053, 0.33946586590543293, 0.0027464875882316584, 0.03124129469652135, 0.7330194303004851, 0.23611841675897188, 0.13695993134028, 0.6524273092936975, 0.21042025815006657, 0.08343113802119022, 0.4180625503018336, 0.4985917356961998, 0.9941003249526452, 0.005713220258348536, 0.9827452701750949, 0.014667839853359626, 0.0029335679706719254, 0.9965127288228204, 0.8397065028308188, 0.15971362878050155, 0.9518877434399677, 0.023670387936340225, 0.0253611299317931, 0.7888346807352284, 0.2028218201890388, 0.008232620007673162, 0.1978618112771537, 0.7774343689558418, 0.024662662028880344, 0.33621238428508327, 0.5225354071350866, 0.14126033636312432, 0.9615667470762937, 0.038233270261482856, 0.29994672209630907, 0.19478611833345968, 0.5042928953173006, 0.18107685963248363, 0.09865566835149107, 0.7193122148159349, 0.001734125443053647, 0.02774600708885835, 0.9711102481100422, 0.006743312585478682, 0.07754809473300484, 0.9170905116251007, 0.9931997651850102, 0.005311228690828932, 0.9927125935945083, 0.5822555400785249, 0.41449622637956723, 0.0032680385785511215, 0.7360241878136425, 0.22862474771766453, 0.0353999609369287, 0.9894670406542744, 0.009119511895431101, 0.892150410800526, 0.055132890555088694, 0.05137382983542355, 0.9971758066492596, 0.23587218823320533, 0.7507953532559678, 0.013318830300964235, 0.9996787983151073, 0.6268344253554664, 0.36117602603814974, 0.011342718173098917, 0.24064843068344657, 0.7295227127776144, 0.029787102169286546, 0.0035796344506853657, 0.014318537802741463, 0.9843994739384756, 0.9941824730345097, 0.9877935664609389, 0.05863035178119524, 0.9141959478479801, 0.027214984185002566, 0.9989905447535864, 0.9982923445849965, 0.006615274823003754, 0.9922912234505631, 0.9568140565027851, 0.043925595408311494, 0.7430526928463863, 0.24224062147739334, 0.015242106519925873, 0.34803377452141465, 0.648943088740917, 0.0031907186662753105, 0.07724233167879353, 0.8664574597012492, 0.055412977073917104, 0.4062961492362395, 0.5722393274300447, 0.021482325132031056, 0.8623901489838958, 0.13565188006193307, 0.0017790410499925649, 0.9926716023616889, 0.006204197514760556, 0.2806621270063341, 0.37589308142137634, 0.34341394219548615, 0.9984632763275334, 0.2525707276757127, 0.43035109424356877, 0.3171438263371409, 0.0940212120219693, 0.0758000469014326, 0.8301562828916513, 0.00278780390439306, 0.9952459938683226, 0.00139390195219653, 0.5185218497459424, 0.4787458128960463, 0.0025083987202637156, 0.022128583693827263, 0.9736576825283996, 0.0031612262419753235, 0.5948424578062885, 0.394061492416775, 0.011539135941926062, 0.02540197761778001, 0.9734359658143842, 0.0011494107519357472, 0.9943542360758029, 0.1833986330405536, 0.7525166133489382, 0.06404396709352665, 0.005565536449847167, 0.9906654880727956, 0.45982406372536205, 0.18992733066917128, 0.3503659442081291, 0.15142750698324658, 0.8352936675527474, 0.013026022106085729, 0.016157442589352252, 0.9856039979504874, 0.9929656829610634, 0.04664598664165007, 0.22656622083087175, 0.7263446491342653, 0.0018038379367435705, 0.27779104225850987, 0.7197313367606846, 0.995348089584344, 0.9556596159356356, 0.044487602810796834, 0.9959033423611927, 0.03207930423090923, 0.9203783883981485, 0.047292170154845575, 0.6050673142547555, 0.387022423177346, 0.007839163860306333, 0.028515234685648216, 0.016294419820370408, 0.9532235594916689, 0.9944870275142791, 0.7964706026878376, 0.11238894033608075, 0.09117266078284102, 0.9996805862654746, 0.994524811061536, 0.9948579953941642, 0.997333309786863, 0.005045064447230713, 0.9888326316572197, 0.997314881971342, 0.992078632035693, 0.6673323650000599, 0.3235550860606351, 0.009132603235582442, 0.9914234047071759, 0.9962670576710412, 0.9992770808242716, 0.9960522294395349, 0.9933432920870253, 0.006535153237414641, 0.9949442257474123, 0.0043857078989016345, 0.9955556930506712, 0.997496507716972, 0.8957587467672484, 0.10376091054928538, 0.9881590153116157, 0.23376726082121982, 0.7133425584607324, 0.05315562086512662, 0.9912088123977765, 0.006931530156627808, 0.054932418552866374, 0.035706072059363145, 0.9091315270499385, 0.9946615303951902, 0.7705172104250416, 0.21632817579756689, 0.013368595133557504, 0.5111163660817812, 0.29623467020052197, 0.19256969870509016, 0.9807866651892796, 0.007319303471561788, 0.010978955207342682, 0.8734529884001252, 0.11860572158275384, 0.00735539358652737, 0.1887279355383966, 0.7663114161122815, 0.04475427554154371, 0.16459656173941734, 0.0045721267149838145, 0.8321270621270542, 0.9259393331322595, 0.07418505042899408, 0.9940980633075913, 0.004689141808054676, 0.9940133548398478, 0.9946363590296029, 0.006102063552328852, 0.12563201690073353, 0.0031940343279847506, 0.8698420153211804, 0.01702872598041841, 0.9825574890701424, 0.008942464207007419, 0.9926135269778236, 0.008942464207007419, 0.00492897819468187, 0.9907246171310559, 0.00492897819468187, 0.010027563224944466, 0.9827011960445576, 0.005013781612472233, 0.006732463709505458, 0.9964046290068078, 0.9648212125397088, 0.03470579901221974, 0.9785802124751817, 0.022025921181113416, 0.993035016776319, 0.0029856065947045014, 0.1000178209226008, 0.8971747817087026, 0.7517898991283317, 0.2343862463878362, 0.013552946219704815, 0.9965778432678429, 0.00463317910259529, 0.00463317910259529, 0.9915003279553921, 0.1950600746867958, 0.7930220130428991, 0.011670260878697184, 0.9978978567228567, 0.997421313531894, 0.9960254960819407, 0.9982342804209982, 0.9922116521554475, 0.008166351046546894, 0.8718224378207768, 0.12804303622421775, 0.9962573290407873, 0.9957330481166553, 0.9952544475246612, 0.990988615155971, 0.9923439366830953, 0.04055489015485287, 0.4657354582751575, 0.4938914011215203, 0.5520080818697853, 0.43486774732582634, 0.013225521642059888, 0.11064053497516452, 0.7816218438568073, 0.10766632704572461, 0.2500437268939541, 0.736223765976289, 0.01376254580239029, 0.9608710653341543, 0.030912742048283787, 0.010304247349427928, 0.027142770456628808, 0.6212678571183927, 0.3511326654309917, 0.9951117287749566, 0.9933761167003518, 0.9941834319094244, 0.0057450646166392625, 0.01399302366696914, 0.9631334585321827, 0.022897675091404047, 0.0023595318072335905, 0.9862842954236407, 0.011797659036167953, 0.9925194733276225, 0.00600314197577191, 0.0020010473252573035, 0.2494407066649633, 0.6626168515510307, 0.0880504374808802, 0.9933864375357689, 0.9911102108457278, 0.003413149340478955, 0.9966396074198548, 0.914385335723239, 0.08643443472010717, 0.9963901377447008, 0.0035712908162892497, 0.9968486187470537, 0.09439647787550165, 0.9012379519271578, 0.004637019965814116, 0.28621787685099087, 0.6773256878001935, 0.03652038191273771, 0.1618078727931264, 0.8249312086149568, 0.01372477492441697, 0.001683754654599111, 0.2815237782489714, 0.7169427319283015, 0.17800902974522878, 0.7562217595658968, 0.06585630507570518], \"Term\": [\"afraid\", \"afraid\", \"afraid\", \"aint\", \"aint\", \"aint\", \"air\", \"air\", \"air\", \"alright\", \"alright\", \"alright\", \"america\", \"america\", \"anymore\", \"anymore\", \"anymore\", \"arrived\", \"arrived\", \"ask\", \"ask\", \"ask\", \"asleep\", \"asleep\", \"awake\", \"awake\", \"away\", \"away\", \"away\", \"babe\", \"baby\", \"baby\", \"baby\", \"bad\", \"bad\", \"bad\", \"bands\", \"beneath\", \"beneath\", \"better\", \"better\", \"better\", \"bit\", \"bit\", \"bit\", \"blood\", \"blood\", \"blood\", \"blue\", \"blue\", \"blue\", \"boat\", \"buried\", \"burning\", \"burning\", \"came\", \"came\", \"came\", \"capital\", \"care\", \"care\", \"care\", \"cat\", \"cat\", \"cause\", \"cause\", \"cause\", \"celebrate\", \"change\", \"change\", \"change\", \"cheese\", \"chest\", \"chest\", \"children\", \"children\", \"children\", \"choose\", \"choose\", \"choose\", \"city\", \"city\", \"city\", \"clap\", \"class\", \"clouds\", \"cmon\", \"cold\", \"cold\", \"cold\", \"colour\", \"colour\", \"come\", \"come\", \"come\", \"coming\", \"coming\", \"coming\", \"covered\", \"dance\", \"dance\", \"dance\", \"dancing\", \"dancing\", \"dancing\", \"dark\", \"dark\", \"dark\", \"day\", \"day\", \"day\", \"days\", \"days\", \"days\", \"death\", \"death\", \"death\", \"deserve\", \"deserve\", \"desire\", \"desire\", \"desk\", \"died\", \"died\", \"died\", \"dip\", \"dog\", \"dog\", \"dog\", \"don\", \"don\", \"don\", \"dont\", \"dont\", \"dont\", \"doo\", \"drop\", \"drop\", \"drop\", \"drunk\", \"drunk\", \"drunk\", \"dust\", \"dust\", \"earth\", \"earth\", \"earth\", \"easy\", \"easy\", \"easy\", \"enemy\", \"enemy\", \"everybodys\", \"eyes\", \"eyes\", \"eyes\", \"fame\", \"fame\", \"feeding\", \"feel\", \"feel\", \"feel\", \"feeling\", \"feeling\", \"feeling\", \"field\", \"float\", \"float\", \"float\", \"frozen\", \"fuck\", \"fucking\", \"fucking\", \"fucking\", \"garden\", \"ghost\", \"ghost\", \"ghost\", \"ghosts\", \"gimme\", \"gimme\", \"giving\", \"giving\", \"gold\", \"gold\", \"gold\", \"golden\", \"golden\", \"golden\", \"gone\", \"gone\", \"gone\", \"gonna\", \"gonna\", \"gonna\", \"good\", \"good\", \"good\", \"got\", \"got\", \"got\", \"grass\", \"grass\", \"green\", \"green\", \"green\", \"grin\", \"ground\", \"ground\", \"half\", \"half\", \"half\", \"hands\", \"hands\", \"hands\", \"hard\", \"hard\", \"hard\", \"heart\", \"heart\", \"heart\", \"heaven\", \"heaven\", \"hell\", \"hell\", \"hell\", \"hes\", \"hes\", \"hes\", \"hey\", \"hey\", \"hey\", \"higher\", \"higher\", \"higher\", \"highway\", \"highway\", \"hills\", \"hold\", \"hold\", \"hold\", \"home\", \"home\", \"home\", \"hoo\", \"hoo\", \"house\", \"house\", \"house\", \"hung\", \"ill\", \"ill\", \"ill\", \"important\", \"inside\", \"inside\", \"inside\", \"ive\", \"ive\", \"ive\", \"kick\", \"kick\", \"kick\", \"killer\", \"kills\", \"know\", \"know\", \"know\", \"laid\", \"lake\", \"lately\", \"lately\", \"lay\", \"lay\", \"left\", \"left\", \"left\", \"let\", \"let\", \"let\", \"lets\", \"lets\", \"lets\", \"life\", \"life\", \"life\", \"light\", \"light\", \"light\", \"lightning\", \"lightning\", \"like\", \"like\", \"like\", \"lipstick\", \"little\", \"little\", \"little\", \"living\", \"living\", \"living\", \"lonely\", \"lonely\", \"lonely\", \"long\", \"long\", \"long\", \"losing\", \"losing\", \"losing\", \"lost\", \"lost\", \"lost\", \"love\", \"love\", \"love\", \"lovin\", \"make\", \"make\", \"make\", \"mama\", \"mama\", \"man\", \"man\", \"man\", \"mind\", \"mind\", \"mind\", \"mmm\", \"mmm\", \"modern\", \"moment\", \"moment\", \"moment\", \"money\", \"money\", \"money\", \"monkey\", \"moon\", \"moon\", \"moonlight\", \"need\", \"need\", \"need\", \"night\", \"night\", \"night\", \"nose\", \"nose\", \"nose\", \"oclock\", \"old\", \"old\", \"old\", \"ooh\", \"oohooh\", \"owe\", \"painted\", \"parts\", \"parts\", \"passing\", \"pistol\", \"place\", \"place\", \"place\", \"poison\", \"pot\", \"probably\", \"pulled\", \"pulling\", \"pulling\", \"punk\", \"queen\", \"queen\", \"quiet\", \"rain\", \"rain\", \"rewind\", \"right\", \"right\", \"right\", \"river\", \"river\", \"rock\", \"rock\", \"rock\", \"rocking\", \"run\", \"run\", \"run\", \"said\", \"said\", \"said\", \"sand\", \"sand\", \"sand\", \"saw\", \"saw\", \"saw\", \"say\", \"say\", \"say\", \"screaming\", \"screaming\", \"screaming\", \"sea\", \"sea\", \"shadows\", \"shadows\", \"shall\", \"sheets\", \"sheets\", \"shes\", \"shes\", \"shes\", \"shit\", \"shit\", \"shouldve\", \"shouldve\", \"shouldve\", \"shout\", \"shout\", \"shout\", \"simple\", \"simple\", \"simple\", \"sisters\", \"sisters\", \"sky\", \"sky\", \"snow\", \"snow\", \"social\", \"somebody\", \"somebody\", \"somebody\", \"song\", \"song\", \"song\", \"special\", \"stage\", \"stage\", \"stage\", \"stay\", \"stay\", \"stay\", \"steel\", \"strip\", \"sucked\", \"sucks\", \"summer\", \"summer\", \"sun\", \"sun\", \"sunday\", \"swim\", \"switch\", \"tame\", \"tattoo\", \"tell\", \"tell\", \"tell\", \"theres\", \"theres\", \"theres\", \"think\", \"think\", \"think\", \"time\", \"time\", \"time\", \"trees\", \"trees\", \"trees\", \"try\", \"try\", \"try\", \"tryin\", \"venom\", \"wanna\", \"wanna\", \"want\", \"want\", \"want\", \"waste\", \"waste\", \"waste\", \"water\", \"water\", \"water\", \"way\", \"way\", \"way\", \"web\", \"wheels\", \"willing\", \"willing\", \"wind\", \"wind\", \"winter\", \"winter\", \"woah\", \"wont\", \"wont\", \"wont\", \"world\", \"world\", \"world\", \"wrong\", \"wrong\", \"wrong\", \"yeah\", \"yeah\", \"yeah\", \"youre\", \"youre\", \"youre\"]}, \"R\": 30, \"lambda.step\": 0.01, \"plot.opts\": {\"xlab\": \"PC1\", \"ylab\": \"PC2\"}, \"topic.order\": [3, 2, 1]};\n",
       "\n",
       "function LDAvis_load_lib(url, callback){\n",
       "  var s = document.createElement('script');\n",
       "  s.src = url;\n",
       "  s.async = true;\n",
       "  s.onreadystatechange = s.onload = callback;\n",
       "  s.onerror = function(){console.warn(\"failed to load library \" + url);};\n",
       "  document.getElementsByTagName(\"head\")[0].appendChild(s);\n",
       "}\n",
       "\n",
       "if(typeof(LDAvis) !== \"undefined\"){\n",
       "   // already loaded: just create the visualization\n",
       "   !function(LDAvis){\n",
       "       new LDAvis(\"#\" + \"ldavis_el1609627849546074402726364107\", ldavis_el1609627849546074402726364107_data);\n",
       "   }(LDAvis);\n",
       "}else if(typeof define === \"function\" && define.amd){\n",
       "   // require.js is available: use it to load d3/LDAvis\n",
       "   require.config({paths: {d3: \"https://cdnjs.cloudflare.com/ajax/libs/d3/3.5.5/d3.min\"}});\n",
       "   require([\"d3\"], function(d3){\n",
       "      window.d3 = d3;\n",
       "      LDAvis_load_lib(\"https://cdn.rawgit.com/bmabey/pyLDAvis/files/ldavis.v1.0.0.js\", function(){\n",
       "        new LDAvis(\"#\" + \"ldavis_el1609627849546074402726364107\", ldavis_el1609627849546074402726364107_data);\n",
       "      });\n",
       "    });\n",
       "}else{\n",
       "    // require.js not available: dynamically load d3 & LDAvis\n",
       "    LDAvis_load_lib(\"https://cdnjs.cloudflare.com/ajax/libs/d3/3.5.5/d3.min.js\", function(){\n",
       "         LDAvis_load_lib(\"https://cdn.rawgit.com/bmabey/pyLDAvis/files/ldavis.v1.0.0.js\", function(){\n",
       "                 new LDAvis(\"#\" + \"ldavis_el1609627849546074402726364107\", ldavis_el1609627849546074402726364107_data);\n",
       "            })\n",
       "         });\n",
       "}\n",
       "</script>"
      ],
      "text/plain": [
       "PreparedData(topic_coordinates=              x         y  topics  cluster       Freq\n",
       "topic                                                \n",
       "2     -0.137567  0.119017       1        1  44.340883\n",
       "1     -0.095589 -0.134215       2        1  41.140271\n",
       "0      0.233156  0.015197       3        1  14.518846, topic_info=     Category          Freq       Term         Total  loglift  logprob\n",
       "849   Default  12209.000000       dont  12209.000000  30.0000  30.0000\n",
       "1780  Default   8700.000000       love   8700.000000  29.0000  29.0000\n",
       "1719  Default  11330.000000       like  11330.000000  28.0000  28.0000\n",
       "1634  Default  11427.000000       know  11427.000000  27.0000  27.0000\n",
       "1292  Default   5513.000000        got   5513.000000  26.0000  26.0000\n",
       "3492  Default   2969.000000       yeah   2969.000000  25.0000  25.0000\n",
       "3326  Default   6288.000000       want   6288.000000  24.0000  24.0000\n",
       "3064  Default   3871.000000       tell   3871.000000  23.0000  23.0000\n",
       "3325  Default   3481.000000      wanna   3481.000000  22.0000  22.0000\n",
       "1067  Default   1937.000000    feeling   1937.000000  21.0000  21.0000\n",
       "1748  Default   1372.000000     living   1372.000000  20.0000  20.0000\n",
       "1431  Default   1153.000000        hey   1153.000000  19.0000  19.0000\n",
       "1527  Default   1043.000000  important   1043.000000  18.0000  18.0000\n",
       "1208  Default    945.000000       fuck    945.000000  17.0000  17.0000\n",
       "3221  Default   2321.000000        try   2321.000000  16.0000  16.0000\n",
       "1287  Default   3040.000000      gonna   3040.000000  15.0000  15.0000\n",
       "1065  Default   4624.000000       feel   4624.000000  14.0000  14.0000\n",
       "3449  Default   3019.000000       wont   3019.000000  13.0000  13.0000\n",
       "2618  Default    939.000000       shes    939.000000  12.0000  12.0000\n",
       "1972  Default   3023.000000       need   3023.000000  11.0000  11.0000\n",
       "2257  Default    803.000000   probably    803.000000  10.0000  10.0000\n",
       "3134  Default   6902.000000       time   6902.000000   9.0000   9.0000\n",
       "3505  Default   7106.000000      youre   7106.000000   8.0000   8.0000\n",
       "123   Default   2547.000000       baby   2547.000000   7.0000   7.0000\n",
       "2036  Default   1567.000000        ooh   1567.000000   6.0000   6.0000\n",
       "33    Default   1091.000000       aint   1091.000000   5.0000   5.0000\n",
       "44    Default   1064.000000    alright   1064.000000   4.0000   4.0000\n",
       "431   Default   3535.000000      cause   3535.000000   3.0000   3.0000\n",
       "1743  Default   2446.000000     little   2446.000000   2.0000   2.0000\n",
       "802   Default    717.000000       died    717.000000   1.0000   1.0000\n",
       "...       ...           ...        ...           ...      ...      ...\n",
       "2779   Topic3    601.182883   somebody    669.880621   1.8215  -5.1976\n",
       "2618   Topic3    817.365370       shes    939.251020   1.7907  -4.8904\n",
       "1748   Topic3   1139.021273     living   1372.030813   1.7436  -4.5586\n",
       "3492   Topic3   2128.564286       yeah   2969.553781   1.5968  -3.9333\n",
       "2433   Topic3    330.958952       rock    364.083733   1.8343  -5.7945\n",
       "2004   Topic3    234.441691       nose    245.482812   1.8837  -6.1393\n",
       "1438   Topic3    271.831654     higher    296.590136   1.8426  -5.9913\n",
       "1067   Topic3   1210.182314    feeling   1937.350684   1.4592  -4.4980\n",
       "1292   Topic3   2749.159506        got   5513.529012   1.2338  -3.6775\n",
       "842    Topic3    325.709508        dog    372.630314   1.7951  -5.8105\n",
       "2539   Topic3    364.036705  screaming    437.433196   1.7461  -5.6993\n",
       "3064   Topic3   1911.642352       tell   3871.296394   1.2241  -4.0408\n",
       "1430   Topic3    576.203177        hes    800.764936   1.6006  -5.2400\n",
       "1907   Topic3    545.112161     moment    750.332505   1.6102  -5.2955\n",
       "1719   Topic3   3891.445092       like  11330.349534   0.8610  -3.3300\n",
       "94     Topic3    605.027385        ask    974.834567   1.4527  -5.1912\n",
       "44     Topic3    625.761518    alright   1064.571901   1.3984  -5.1575\n",
       "33     Topic3    629.275382       aint   1091.313231   1.3792  -5.1519\n",
       "848    Topic3    623.966404        don   1253.777822   1.2319  -5.1604\n",
       "1912   Topic3    399.021796      money    554.373527   1.6009  -5.6075\n",
       "3221   Topic3    815.238476        try   2321.060044   0.8834  -4.8930\n",
       "1259   Topic3    359.582360     giving    457.153343   1.6896  -5.7116\n",
       "1743   Topic3    775.703171     little   2446.839369   0.7809  -4.9427\n",
       "1819   Topic3    700.843728        man   2000.765233   0.8807  -5.0442\n",
       "130    Topic3    538.477715        bad   1137.065898   1.1823  -5.3078\n",
       "1287   Topic3    717.681407      gonna   3040.847088   0.4859  -5.0205\n",
       "2487   Topic3    560.976441       said   2913.230917   0.2824  -5.2668\n",
       "1288   Topic3    507.143366       good   2409.463825   0.3714  -5.3677\n",
       "1420   Topic3    422.447828       hell    836.815279   1.2462  -5.5504\n",
       "3505   Topic3    467.654887      youre   7106.381074  -0.7913  -5.4488\n",
       "\n",
       "[279 rows x 6 columns], token_table=      Topic      Freq     Term\n",
       "term                          \n",
       "22        1  0.015383   afraid\n",
       "22        2  0.984537   afraid\n",
       "22        3  0.001923   afraid\n",
       "33        1  0.002749     aint\n",
       "33        2  0.420594     aint\n",
       "33        3  0.576370     aint\n",
       "34        1  0.954190      air\n",
       "34        2  0.043960      air\n",
       "34        3  0.001293      air\n",
       "44        1  0.001879  alright\n",
       "44        2  0.409554  alright\n",
       "44        3  0.588030  alright\n",
       "50        1  0.005486  america\n",
       "50        2  0.993031  america\n",
       "67        1  0.001465  anymore\n",
       "67        2  0.993523  anymore\n",
       "67        3  0.004396  anymore\n",
       "85        2  0.003741  arrived\n",
       "85        3  0.995208  arrived\n",
       "94        1  0.021542      ask\n",
       "94        2  0.358009      ask\n",
       "94        3  0.620618      ask\n",
       "98        1  0.979969   asleep\n",
       "98        2  0.018005   asleep\n",
       "114       1  0.961464    awake\n",
       "114       2  0.037797    awake\n",
       "116       1  0.556895     away\n",
       "116       2  0.442537     away\n",
       "116       3  0.000721     away\n",
       "121       2  0.996880     babe\n",
       "...     ...       ...      ...\n",
       "3349      1  0.992519    water\n",
       "3349      2  0.006003    water\n",
       "3349      3  0.002001    water\n",
       "3355      1  0.249441      way\n",
       "3355      2  0.662617      way\n",
       "3355      3  0.088050      way\n",
       "3366      3  0.993386      web\n",
       "3389      1  0.991110   wheels\n",
       "3411      2  0.003413  willing\n",
       "3411      3  0.996640  willing\n",
       "3413      1  0.914385     wind\n",
       "3413      2  0.086434     wind\n",
       "3422      1  0.996390   winter\n",
       "3422      2  0.003571   winter\n",
       "3437      2  0.996849     woah\n",
       "3449      1  0.094396     wont\n",
       "3449      2  0.901238     wont\n",
       "3449      3  0.004637     wont\n",
       "3462      1  0.286218    world\n",
       "3462      2  0.677326    world\n",
       "3462      3  0.036520    world\n",
       "3487      1  0.161808    wrong\n",
       "3487      2  0.824931    wrong\n",
       "3487      3  0.013725    wrong\n",
       "3492      1  0.001684     yeah\n",
       "3492      2  0.281524     yeah\n",
       "3492      3  0.716943     yeah\n",
       "3505      1  0.178009    youre\n",
       "3505      2  0.756222    youre\n",
       "3505      3  0.065856    youre\n",
       "\n",
       "[517 rows x 3 columns], R=30, lambda_step=0.01, plot_opts={'xlab': 'PC1', 'ylab': 'PC2'}, topic_order=[3, 2, 1])"
      ]
     },
     "execution_count": 136,
     "metadata": {},
     "output_type": "execute_result"
    }
   ],
   "source": [
    "scipy.sparse.save_npz('sparse_lyrics_2.npz',bag_lyrics)\n",
    "LDA_model=LatentDirichletAllocation(n_components=3,learning_method='online',n_jobs= -1)\n",
    "\n",
    "LDA_result = LDA_model.fit_transform(bag_lyrics)\n",
    "\n",
    "pyLDAvis.enable_notebook()\n",
    "pyLDAvis.sklearn.prepare(LDA_model,bag_lyrics,vectorizer)"
   ]
  },
  {
   "cell_type": "code",
   "execution_count": 17,
   "metadata": {},
   "outputs": [],
   "source": [
    "tfidf = TfidfTransformer().fit(lyrics_bag)"
   ]
  },
  {
   "cell_type": "code",
   "execution_count": 18,
   "metadata": {},
   "outputs": [],
   "source": [
    "lyrics_tfidf = tfidf.transform(lyrics_bag)"
   ]
  },
  {
   "cell_type": "markdown",
   "metadata": {},
   "source": [
    "Use non-negative matrix facotrization to pull out the topics"
   ]
  },
  {
   "cell_type": "code",
   "execution_count": null,
   "metadata": {},
   "outputs": [],
   "source": []
  }
 ],
 "metadata": {
  "kernelspec": {
   "display_name": "Python 3",
   "language": "python",
   "name": "python3"
  },
  "language_info": {
   "codemirror_mode": {
    "name": "ipython",
    "version": 3
   },
   "file_extension": ".py",
   "mimetype": "text/x-python",
   "name": "python",
   "nbconvert_exporter": "python",
   "pygments_lexer": "ipython3",
   "version": "3.7.3"
  }
 },
 "nbformat": 4,
 "nbformat_minor": 2
}
