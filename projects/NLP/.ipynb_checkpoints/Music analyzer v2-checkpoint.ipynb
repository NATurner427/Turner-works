{
 "cells": [
  {
   "cell_type": "code",
   "execution_count": 1,
   "metadata": {},
   "outputs": [
    {
     "name": "stderr",
     "output_type": "stream",
     "text": [
      "C:\\Users\\16142\\Anaconda3\\lib\\site-packages\\past\\types\\oldstr.py:5: DeprecationWarning:\n",
      "\n",
      "Using or importing the ABCs from 'collections' instead of from 'collections.abc' is deprecated, and in 3.8 it will stop working\n",
      "\n",
      "C:\\Users\\16142\\Anaconda3\\lib\\site-packages\\nltk\\decorators.py:68: DeprecationWarning:\n",
      "\n",
      "`formatargspec` is deprecated since Python 3.5. Use `signature` and the `Signature` object directly\n",
      "\n",
      "C:\\Users\\16142\\Anaconda3\\lib\\site-packages\\nltk\\lm\\counter.py:15: DeprecationWarning:\n",
      "\n",
      "Using or importing the ABCs from 'collections' instead of from 'collections.abc' is deprecated, and in 3.8 it will stop working\n",
      "\n"
     ]
    },
    {
     "data": {
      "text/html": [
       "        <script type=\"text/javascript\">\n",
       "        window.PlotlyConfig = {MathJaxConfig: 'local'};\n",
       "        if (window.MathJax) {MathJax.Hub.Config({SVG: {font: \"STIX-Web\"}});}\n",
       "        if (typeof require !== 'undefined') {\n",
       "        require.undef(\"plotly\");\n",
       "        requirejs.config({\n",
       "            paths: {\n",
       "                'plotly': ['https://cdn.plot.ly/plotly-latest.min']\n",
       "            }\n",
       "        });\n",
       "        require(['plotly'], function(Plotly) {\n",
       "            window._Plotly = Plotly;\n",
       "        });\n",
       "        }\n",
       "        </script>\n",
       "        "
      ]
     },
     "metadata": {},
     "output_type": "display_data"
    }
   ],
   "source": [
    "import numpy as np\n",
    "import pandas as pd\n",
    "import scipy.sparse\n",
    "import pickle\n",
    "\n",
    "import matplotlib\n",
    "import matplotlib.pyplot as plt\n",
    "from matplotlib.font_manager import FontProperties\n",
    "import plotly.graph_objects as go\n",
    "import pyLDAvis\n",
    "import pyLDAvis.sklearn\n",
    "import seaborn as sns\n",
    "sns.set_style('white')\n",
    "\n",
    "import re\n",
    "import en_core_web_sm\n",
    "import spacy\n",
    "import nltk\n",
    "\n",
    "import string\n",
    "from nltk.corpus import stopwords\n",
    "\n",
    "import psycopg2 as pg2\n",
    "\n",
    "import ipywidgets as widgets\n",
    "from ipywidgets import interact, interactive,fixed\n",
    "\n",
    "import cufflinks as cf\n",
    "import plotly.offline\n",
    "cf.go_offline()\n",
    "cf.set_config_file(offline=False, world_readable=True)\n",
    "\n",
    "from sklearn.feature_extraction.text import TfidfTransformer\n",
    "from sklearn.decomposition import LatentDirichletAllocation\n",
    "from sklearn.decomposition import nmf\n",
    "from sklearn.feature_extraction.text import CountVectorizer\n",
    "\n",
    "\n",
    "from wordcloud import WordCloud, STOPWORDS\n",
    "from subprocess import check_output\n",
    "import matplotlib as mpl\n",
    "\n",
    "%matplotlib inline"
   ]
  },
  {
   "cell_type": "markdown",
   "metadata": {},
   "source": [
    "## music lyric look up class"
   ]
  },
  {
   "cell_type": "code",
   "execution_count": 2,
   "metadata": {},
   "outputs": [],
   "source": [
    "# class that puts all the SQL query actions under the hood.\n",
    "\n",
    "class Query:\n",
    "\n",
    "    def total(self,artist):\n",
    "        conn = pg2.connect(database='Music',user='postgres',password='obscura88')\n",
    "        cur=conn.cursor()\n",
    "        cur.execute(\"SELECT artist, SUM(lyrics_word_length), SUM(cleaned_lyrics_word_length) FROM music_lyrics WHERE artist = (%s)  GROUP BY artist\", [artist])    \n",
    "        result=cur.fetchone()\n",
    "        conn.close()   \n",
    "        return print(f\"{result[0]} has {result[1]} total words in their lyrics and {result[2]} excluding stopwords\")\n",
    "        \n",
    "    def song_count(self,artist):\n",
    "        conn = pg2.connect(database='Music',user='postgres',password='obscura88')\n",
    "        cur=conn.cursor()\n",
    "        cur.execute(\"SELECT title AS Bon_Iver, lyrics_word_length, cleaned_lyrics_word_length FROM music_lyrics WHERE artist = (%s)\",[artist])\n",
    "        song=cur.fetchall()\n",
    "        conn.close() \n",
    "        return song\n",
    "    \n",
    "    def album_count(self,artist):\n",
    "        conn = pg2.connect(database='Music',user='postgres',password='obscura88')\n",
    "        cur=conn.cursor()\n",
    "        cur.execute(\"SELECT album, SUM(lyrics_word_length), SUM(cleaned_lyrics_word_length) FROM music_lyrics WHERE artist = (%s) GROUP BY album\",[artist])\n",
    "        album=cur.fetchall()\n",
    "        conn.close()\n",
    "        return album  \n",
    "        \n",
    "    def album_avg(self,artist):\n",
    "        conn = pg2.connect(database='Music',user='postgres',password='obscura88')\n",
    "        cur=conn.cursor()\n",
    "        cur.execute(\"SELECT artist,ROUND(AVG(original),0) AS average_word_count,ROUND(AVG(cleaned),0) AS cleaned_lyrics_word_length FROM (SELECT artist, album, SUM(lyrics_word_length) AS original, SUM(cleaned_lyrics_word_length) AS cleaned FROM music_lyrics WHERE artist = (%s) GROUP BY album, artist) AS T GROUP BY artist\",[artist])\n",
    "        albumavg=cur.fetchone()\n",
    "        conn.close\n",
    "        print(f'{albumavg[0]} averages {albumavg[1]} words an album {albumavg[2]} of which are non stopwords')\n",
    "        print('\\n')\n",
    "        return\n",
    "        \n",
    "    def song_avg(self,artist):\n",
    "        conn = pg2.connect(database='Music',user='postgres',password='obscura88')\n",
    "        cur=conn.cursor()\n",
    "        cur.execute(\"SELECT artist, ROUND(AVG(lyrics_word_length),0) AS average_word_count, ROUND(AVG(cleaned_lyrics_word_length),0) AS average_cleaned_word_count FROM music_lyrics GROUP BY artist ORDER BY average_word_count DESC\")\n",
    "        song_avg=cur.fetchall()\n",
    "        for j in song_avg:\n",
    "            if j[0] == artist:\n",
    "                print(f'{j[0]} has an average of {j[1]} words per song {j[2]} of which are non stopwords')\n",
    "        print('\\n')\n",
    "        return\n",
    "    \n",
    "    def similar(self,artist):\n",
    "        conn = pg2.connect(database='Music',user='postgres',password='obscura88')\n",
    "        cur=conn.cursor()\n",
    "        cur.execute(\"SELECT artist, rnk FROM verbosity WHERE rnk BETWEEN( SELECT rnk from verbosity WHERE artist = (%s))-3 AND( SELECT rnk from verbosity WHERE artist = (%s))+3\",(artist,artist))\n",
    "        similar=cur.fetchall()\n",
    "        print(f'Some artists similar to {artist} in terms of verbosity in your library:')\n",
    "        print('-------------------------------------------------------------------')\n",
    "        for j in similar:\n",
    "            if j[0] != artist:\n",
    "                print(f'{j[0]}')\n",
    "        print('\\n')\n",
    "        return\n",
    "\n",
    "    def fluff(self,artist):\n",
    "        conn = pg2.connect(database='Music',user='postgres',password='obscura88')\n",
    "        cur=conn.cursor()\n",
    "        cur.execute(\"SELECT artist, fluff FROM fluff WHERE rnk BETWEEN(SELECT rnk from fluff WHERE artist = (%s))-3 AND(SELECT rnk from fluff WHERE artist = (%s))+3\",(artist,artist))\n",
    "        fluff=cur.fetchall()\n",
    "        for j in fluff:\n",
    "            if j[0] == artist:\n",
    "                print(f'Some artists similar to {artist} in terms of fluff in your library:')\n",
    "                print('(fluff is the ratio of non stopwords divided by all words)')\n",
    "        print('-------------------------------------------------------------------')\n",
    "        for j in fluff:\n",
    "            if j[0] != artist:\n",
    "                print(f'{j[0]}')\n",
    "        print('\\n')\n",
    "        return\n",
    "\n",
    "    \n",
    "# calls to a set queries from the Query class that and formats it \n",
    "def lookup(artist):\n",
    "    print(f'\\nSome info on {artist}!\\n')\n",
    "    print('###########################################################################\\n')\n",
    "    Query().album_avg(artist)\n",
    "    Query().song_avg(artist)\n",
    "    Query().similar(artist)\n",
    "    Query().fluff(artist)\n",
    "\n",
    "# pulls the list of artists in the SQL library \n",
    "def info():\n",
    "\n",
    "    artists=[]\n",
    "    conn = pg2.connect(database='Music',user='postgres',password='obscura88')\n",
    "    cur=conn.cursor()\n",
    "    cur.execute(\"SELECT DISTINCT artist FROM music_lyrics ORDER BY artist ASC\")\n",
    "    ar=cur.fetchall()\n",
    "    for j in ar:\n",
    "        artists.append(j[0])\n",
    "\n",
    "    w=interact(lookup, artist=artists)\n",
    "    display(w)\n",
    "    \n",
    "def album_bar(artist):\n",
    "    \n",
    "    q=Query().album_count(artist)\n",
    "    title=[]\n",
    "    count=[]\n",
    "    clean=[]\n",
    "    for j in q:\n",
    "        title.append(j[0])\n",
    "        count.append(j[1])\n",
    "        clean.append(j[2])\n",
    "\n",
    "    font = {'weight' : 'normal',\n",
    "            'size'   : 18}\n",
    "    matplotlib.rc('font', **font)\n",
    "    x=np.arange(len(title))\n",
    "    width=.3\n",
    "\n",
    "    fig,ax = plt.subplots(figsize=(13,10))\n",
    "    rects1=ax.bar(x-width/2,count,width,label='Word count')\n",
    "    rects2=ax.bar(x+width/2,clean,width,label='cleaned word count')\n",
    "\n",
    "    ax.set_xlabel('Album Title',fontsize=16)\n",
    "    ax.set_ylabel('Word Count',fontsize=16)\n",
    "    ax.set_title(f'Word count by album for {artist}',fontsize=22)\n",
    "\n",
    "    ax.set_ylim(0,(max(count)+max(count)*.4))\n",
    "    ax.set_xticks(x)\n",
    "    plt.xticks(rotation=90)\n",
    "    ax.set_xticklabels(title)\n",
    "    ax.legend(loc='upper right', facecolor='white',framealpha=1)\n",
    "\n",
    "    ax.yaxis.grid()\n",
    "    ax.set_axisbelow(True)\n",
    "    fig.tight_layout()\n",
    "\n",
    "def info_album():\n",
    "    \n",
    "    artists=[]\n",
    "    conn = pg2.connect(database='Music',user='postgres',password='obscura88')\n",
    "    cur=conn.cursor()\n",
    "    cur.execute(\"SELECT DISTINCT artist FROM music_lyrics ORDER BY artist ASC\")\n",
    "    ar=cur.fetchall()\n",
    "    for j in ar:\n",
    "        artists.append(j[0])\n",
    "\n",
    "    w=interact(album_bar, artist=artists)\n",
    "    display(w)\n",
    "\n",
    "    \n",
    "def song_bar(artist):\n",
    "    \n",
    "    q=Query().song_count(artist)\n",
    "    title=[]\n",
    "    count=[]\n",
    "    clean=[]\n",
    "    for j in q:\n",
    "        title.append(j[0])\n",
    "        count.append(j[1])\n",
    "        clean.append(j[2])\n",
    "\n",
    "    font = {'weight' : 'normal',\n",
    "            'size'   : 18}\n",
    "    matplotlib.rc('font', **font)\n",
    "    x=np.arange(len(title))\n",
    "    width=.3\n",
    "\n",
    "    fig,ax = plt.subplots(figsize=(13,10))\n",
    "    rects1=ax.bar(x-width/2,count,width,label='Word count')\n",
    "    rects2=ax.bar(x+width/2,clean,width,label='cleaned word count')\n",
    "\n",
    "    ax.set_xlabel('Song Title',fontsize=16)\n",
    "    ax.set_ylabel('Word Count',fontsize=16)\n",
    "    ax.set_title(f'Word count by song for {artist}',fontsize=22)\n",
    "\n",
    "    ax.set_ylim(0,(max(count)+max(count)*.4))\n",
    "    ax.set_xticks(x)\n",
    "    plt.xticks(rotation=90)\n",
    "    ax.set_xticklabels(title)\n",
    "    ax.legend(loc='upper right', facecolor='white',framealpha=1)\n",
    "\n",
    "    ax.yaxis.grid()\n",
    "    ax.set_axisbelow(True)\n",
    "    fig.tight_layout()\n",
    "\n",
    "def info_song():\n",
    "    \n",
    "    artists=[]\n",
    "    conn = pg2.connect(database='Music',user='postgres',password='obscura88')\n",
    "    cur=conn.cursor()\n",
    "    cur.execute(\"SELECT DISTINCT artist FROM music_lyrics ORDER BY artist ASC\")\n",
    "    ar=cur.fetchall()\n",
    "    for j in ar:\n",
    "        artists.append(j[0])\n",
    "\n",
    "    w=interact(song_bar, artist=artists)\n",
    "    display(w)\n"
   ]
  },
  {
   "cell_type": "markdown",
   "metadata": {},
   "source": [
    "## clean and process\n",
    "\n",
    "clean the data, input the csv into a SQL database and build a class that outputs info based on artist via SQL queries.\n",
    "\n",
    "First issue, punctuation. Need to remove punctuation, specifically ' and \" from the csv. these characters are used as quote and escape characters by PostgreSQL. Need to remove them from the album, artist, title, and lyrics columns.\n"
   ]
  },
  {
   "cell_type": "code",
   "execution_count": 3,
   "metadata": {},
   "outputs": [],
   "source": [
    "songlyrics = pd.read_csv('song_lyrics.csv',index_col='song_id')"
   ]
  },
  {
   "cell_type": "code",
   "execution_count": 4,
   "metadata": {},
   "outputs": [],
   "source": [
    "def no_punc(mess):\n",
    "\n",
    "    nopunc = [c for c in mess if c not in string.punctuation]\n",
    "    \n",
    "    nopunc=''.join(nopunc)\n",
    "    \n",
    "    return nopunc  "
   ]
  },
  {
   "cell_type": "code",
   "execution_count": 5,
   "metadata": {},
   "outputs": [],
   "source": [
    "def clean_text(text):\n",
    "    '''Make text lowercase, remove text in square brackets, remove punctuation and remove words containing numbers.'''\n",
    "    text = text.lower()\n",
    "    text = re.sub(r'\\[.*?\\]', '', text)\n",
    "    text = re.sub(r'[%s]' % re.escape(string.punctuation), '', text)\n",
    "    text = re.sub(r'\\w*\\d\\w*', '', text)\n",
    "    return text\n",
    "\n",
    "def lemmatizer(text,i=[0]):\n",
    "    sent = []\n",
    "    doc = nlp(text)\n",
    "    for word in doc:\n",
    "        \n",
    "        sent.append(word.lemma_)\n",
    "    return \" \".join(sent)"
   ]
  },
  {
   "cell_type": "code",
   "execution_count": 6,
   "metadata": {},
   "outputs": [],
   "source": [
    "nlp = en_core_web_sm.load()"
   ]
  },
  {
   "cell_type": "code",
   "execution_count": 7,
   "metadata": {},
   "outputs": [],
   "source": [
    "songlyrics['artist']=songlyrics['artist'].apply(no_punc)\n",
    "songlyrics['album']=songlyrics['album'].apply(no_punc)\n",
    "songlyrics['title']=songlyrics['title'].apply(no_punc)\n",
    "\n",
    "songlyrics['cleaned_lyrics']=songlyrics['lyrics'].apply(clean_text)\n",
    "songlyrics['cleaned_lyrics']=songlyrics['cleaned_lyrics'].apply(lemmatizer)\n",
    "songlyrics['cleaned_lyrics']=songlyrics['cleaned_lyrics'].str.replace('-PRON-','')\n",
    "\n",
    "length=[]\n",
    "for i,j in songlyrics.iterrows():\n",
    "    length.append((len(j[7].split())))\n",
    "songlyrics['lyrics_word_length']=length\n",
    "\n",
    "length=[]\n",
    "for i,j in songlyrics.iterrows():\n",
    "    length.append((len(j[8].split())))\n",
    "songlyrics['cleaned_lyrics_word_length']=length\n",
    "\n",
    "songlyrics['lyrics']=songlyrics['lyrics'].apply(no_punc)"
   ]
  },
  {
   "cell_type": "code",
   "execution_count": 8,
   "metadata": {},
   "outputs": [],
   "source": [
    "artists={}\n",
    "art_id=[]\n",
    "n=0\n",
    "\n",
    "for i,j in songlyrics.iterrows():\n",
    "    if j[0] not in artists.keys():\n",
    "        artists[j[0]]=int(n)\n",
    "        n+=1\n",
    "        \n",
    "for i,j in songlyrics.iterrows():\n",
    "    if j[0] in artists.keys():\n",
    "        art_id.append(artists[j[0]])\n",
    "songlyrics['artist_id']=art_id"
   ]
  },
  {
   "cell_type": "code",
   "execution_count": 9,
   "metadata": {},
   "outputs": [],
   "source": [
    "# save cleaned lyrics\n",
    "#duration column is being difficult, just drop it.\n",
    "songlyrics.drop('duration',inplace=True,axis=1)\n",
    "songlyrics.to_csv('song_lyrics_cleaned.csv')"
   ]
  },
  {
   "cell_type": "markdown",
   "metadata": {},
   "source": [
    "#  EDA graphs\n",
    "\n",
    "Time to make some fun graphs. count the words in each lyrics list\n",
    "\n",
    "info() will pull info on a band, with comparisons to similar artists.\n",
    "\n",
    "info_album() will compare lyrics word count with original text and with the stopwords removed for each album of a particular artist.\n",
    "\n",
    "info_song() will compare lyrics word count with original text and with the stopwords removed for each song of a particular artist."
   ]
  },
  {
   "cell_type": "code",
   "execution_count": 12,
   "metadata": {
    "scrolled": false
   },
   "outputs": [
    {
     "data": {
      "application/vnd.jupyter.widget-view+json": {
       "model_id": "310cde75e9c648d88b2cb0bf95f6c32b",
       "version_major": 2,
       "version_minor": 0
      },
      "text/plain": [
       "interactive(children=(Dropdown(description='artist', options=('A Giant Dog', 'A Place To Bury Strangers', 'A P…"
      ]
     },
     "metadata": {},
     "output_type": "display_data"
    },
    {
     "data": {
      "text/plain": [
       "<function __main__.album_bar(artist)>"
      ]
     },
     "metadata": {},
     "output_type": "display_data"
    }
   ],
   "source": [
    "info_album()"
   ]
  },
  {
   "cell_type": "markdown",
   "metadata": {},
   "source": [
    "## 2) NLP analysis"
   ]
  },
  {
   "cell_type": "markdown",
   "metadata": {},
   "source": [
    "We can use unsupervised machine learning to further analyze my music library's lyrical content. \n",
    "\n",
    "I will apply a topic model to my music library's lyrics. I want to put sets of my songs lyrics into categories differentiated by the words used in the artists songs.  \n",
    "\n",
    "I found a paper on the topic https://www.researchgate.net/publication/221573745_Natural_language_processing_of_lyrics\n",
    "and will follow there analysis."
   ]
  },
  {
   "cell_type": "markdown",
   "metadata": {},
   "source": [
    "Use a word cloud to get an idea of topics"
   ]
  },
  {
   "cell_type": "code",
   "execution_count": 16,
   "metadata": {},
   "outputs": [],
   "source": [
    "songlyrics=pd.read_csv('song_lyrics_cleaned.csv',index_col='song_id')"
   ]
  },
  {
   "cell_type": "code",
   "execution_count": 17,
   "metadata": {
    "scrolled": true
   },
   "outputs": [
    {
     "data": {
      "text/html": [
       "<div>\n",
       "<style scoped>\n",
       "    .dataframe tbody tr th:only-of-type {\n",
       "        vertical-align: middle;\n",
       "    }\n",
       "\n",
       "    .dataframe tbody tr th {\n",
       "        vertical-align: top;\n",
       "    }\n",
       "\n",
       "    .dataframe thead th {\n",
       "        text-align: right;\n",
       "    }\n",
       "</style>\n",
       "<table border=\"1\" class=\"dataframe\">\n",
       "  <thead>\n",
       "    <tr style=\"text-align: right;\">\n",
       "      <th></th>\n",
       "      <th>artist</th>\n",
       "      <th>album</th>\n",
       "      <th>title</th>\n",
       "      <th>playcount</th>\n",
       "      <th>rating</th>\n",
       "      <th>rating_interpretation</th>\n",
       "      <th>lyrics</th>\n",
       "      <th>cleaned_lyrics</th>\n",
       "      <th>lyrics_word_length</th>\n",
       "      <th>cleaned_lyrics_word_length</th>\n",
       "      <th>artist_id</th>\n",
       "    </tr>\n",
       "    <tr>\n",
       "      <th>song_id</th>\n",
       "      <th></th>\n",
       "      <th></th>\n",
       "      <th></th>\n",
       "      <th></th>\n",
       "      <th></th>\n",
       "      <th></th>\n",
       "      <th></th>\n",
       "      <th></th>\n",
       "      <th></th>\n",
       "      <th></th>\n",
       "      <th></th>\n",
       "    </tr>\n",
       "  </thead>\n",
       "  <tbody>\n",
       "    <tr>\n",
       "      <th>0</th>\n",
       "      <td>Bon Iver</td>\n",
       "      <td>22 A Million</td>\n",
       "      <td>00000 Million</td>\n",
       "      <td>1</td>\n",
       "      <td>undefined</td>\n",
       "      <td>never-rated</td>\n",
       "      <td>Mustve been forces that took me on them wild c...</td>\n",
       "      <td>must have be force that take  on  wild course ...</td>\n",
       "      <td>233</td>\n",
       "      <td>219</td>\n",
       "      <td>0</td>\n",
       "    </tr>\n",
       "    <tr>\n",
       "      <th>1</th>\n",
       "      <td>M83</td>\n",
       "      <td>Dead Cities Red Seas  Lost Ghosts</td>\n",
       "      <td>0078h</td>\n",
       "      <td>1</td>\n",
       "      <td>0</td>\n",
       "      <td>not-rated</td>\n",
       "      <td>I was someone elses girl Every time you look i...</td>\n",
       "      <td>i be someone else girl every time  look in  ey...</td>\n",
       "      <td>179</td>\n",
       "      <td>165</td>\n",
       "      <td>1</td>\n",
       "    </tr>\n",
       "    <tr>\n",
       "      <th>2</th>\n",
       "      <td>The Magnetic Fields</td>\n",
       "      <td>50 Song Memoir</td>\n",
       "      <td>02 Be True to Your Bar</td>\n",
       "      <td>0</td>\n",
       "      <td>undefined</td>\n",
       "      <td>never-rated</td>\n",
       "      <td>Sitting in bars and cafés Writing songs about ...</td>\n",
       "      <td>sit in bar and cafés write song about song and...</td>\n",
       "      <td>197</td>\n",
       "      <td>180</td>\n",
       "      <td>2</td>\n",
       "    </tr>\n",
       "    <tr>\n",
       "      <th>3</th>\n",
       "      <td>The Magnetic Fields</td>\n",
       "      <td>50 Song Memoir</td>\n",
       "      <td>05 Never Again</td>\n",
       "      <td>0</td>\n",
       "      <td>undefined</td>\n",
       "      <td>never-rated</td>\n",
       "      <td>Well walk in the rain Just having a day Never ...</td>\n",
       "      <td>well walk in the rain just have a day never wh...</td>\n",
       "      <td>150</td>\n",
       "      <td>144</td>\n",
       "      <td>2</td>\n",
       "    </tr>\n",
       "    <tr>\n",
       "      <th>4</th>\n",
       "      <td>The Magnetic Fields</td>\n",
       "      <td>50 Song Memoir</td>\n",
       "      <td>06 Quotes</td>\n",
       "      <td>0</td>\n",
       "      <td>undefined</td>\n",
       "      <td>never-rated</td>\n",
       "      <td>For some of which you could have sued Oh the h...</td>\n",
       "      <td>for some of which  could have sue oh the hatef...</td>\n",
       "      <td>101</td>\n",
       "      <td>91</td>\n",
       "      <td>2</td>\n",
       "    </tr>\n",
       "  </tbody>\n",
       "</table>\n",
       "</div>"
      ],
      "text/plain": [
       "                      artist                              album  \\\n",
       "song_id                                                           \n",
       "0                   Bon Iver                       22 A Million   \n",
       "1                        M83  Dead Cities Red Seas  Lost Ghosts   \n",
       "2        The Magnetic Fields                     50 Song Memoir   \n",
       "3        The Magnetic Fields                     50 Song Memoir   \n",
       "4        The Magnetic Fields                     50 Song Memoir   \n",
       "\n",
       "                          title  playcount     rating rating_interpretation  \\\n",
       "song_id                                                                       \n",
       "0                 00000 Million          1  undefined           never-rated   \n",
       "1                         0078h          1          0             not-rated   \n",
       "2        02 Be True to Your Bar          0  undefined           never-rated   \n",
       "3                05 Never Again          0  undefined           never-rated   \n",
       "4                     06 Quotes          0  undefined           never-rated   \n",
       "\n",
       "                                                    lyrics  \\\n",
       "song_id                                                      \n",
       "0        Mustve been forces that took me on them wild c...   \n",
       "1        I was someone elses girl Every time you look i...   \n",
       "2        Sitting in bars and cafés Writing songs about ...   \n",
       "3        Well walk in the rain Just having a day Never ...   \n",
       "4        For some of which you could have sued Oh the h...   \n",
       "\n",
       "                                            cleaned_lyrics  \\\n",
       "song_id                                                      \n",
       "0        must have be force that take  on  wild course ...   \n",
       "1        i be someone else girl every time  look in  ey...   \n",
       "2        sit in bar and cafés write song about song and...   \n",
       "3        well walk in the rain just have a day never wh...   \n",
       "4        for some of which  could have sue oh the hatef...   \n",
       "\n",
       "         lyrics_word_length  cleaned_lyrics_word_length  artist_id  \n",
       "song_id                                                             \n",
       "0                       233                         219          0  \n",
       "1                       179                         165          1  \n",
       "2                       197                         180          2  \n",
       "3                       150                         144          2  \n",
       "4                       101                          91          2  "
      ]
     },
     "execution_count": 17,
     "metadata": {},
     "output_type": "execute_result"
    }
   ],
   "source": [
    "songlyrics.head()"
   ]
  },
  {
   "cell_type": "code",
   "execution_count": 18,
   "metadata": {},
   "outputs": [
    {
     "name": "stdout",
     "output_type": "stream",
     "text": [
      "<wordcloud.wordcloud.WordCloud object at 0x000001B511634048>\n"
     ]
    },
    {
     "data": {
      "image/png": "[encoded data removed]",
      "text/plain": [
       "<Figure size 864x864 with 1 Axes>"
      ]
     },
     "metadata": {
      "needs_background": "light"
     },
     "output_type": "display_data"
    }
   ],
   "source": [
    "mpl.rcParams['figure.figsize']=(12.0,12.0)  \n",
    "mpl.rcParams['font.size']=12            \n",
    "mpl.rcParams['savefig.dpi']=100             \n",
    "mpl.rcParams['figure.subplot.bottom']=.1 \n",
    "\n",
    "wordcloud = WordCloud(\n",
    "                          background_color='white',\n",
    "                          max_words=500,\n",
    "                          max_font_size=40, \n",
    "                          random_state=42\n",
    "                         ).generate(str(songlyrics['cleaned_lyrics'].replace(\"'\",\"\")))\n",
    "\n",
    "print(wordcloud)\n",
    "fig = plt.figure(1)\n",
    "plt.imshow(wordcloud)\n",
    "plt.axis('off')\n",
    "plt.show()"
   ]
  },
  {
   "cell_type": "markdown",
   "metadata": {},
   "source": [
    "Do a set of -grams graphs. This will pull the most common indiviual words in the lyrics corpus, called unigrams, as well as common two word and three word phrases called bigrams and trigrams."
   ]
  },
  {
   "cell_type": "markdown",
   "metadata": {},
   "source": [
    "count vectorizer changes lists of words into vectors, but term frequency-inverse document frequency penalizes the word counts for words that appear very often. They should be less likely to provide insight into the specific topics of a document given how common the word is."
   ]
  },
  {
   "cell_type": "code",
   "execution_count": 19,
   "metadata": {},
   "outputs": [
    {
     "data": {
      "application/vnd.plotly.v1+json": {
       "config": {
        "plotlyServerURL": "https://plot.ly"
       },
       "data": [
        {
         "type": "bar",
         "x": [
          "know",
          "like",
          "just",
          "oh",
          "love",
          "say",
          "come",
          "want",
          "time",
          "make",
          "feel",
          "think",
          "let",
          "way",
          "ill",
          "tell",
          "leave",
          "day",
          "away",
          "look",
          "thing",
          "yeah",
          "night",
          "try",
          "cause",
          "eye",
          "need",
          "good",
          "life",
          "right"
         ],
         "y": [
          13579,
          11296,
          10480,
          9706,
          9432,
          8840,
          8397,
          7826,
          7676,
          7460,
          6640,
          5497,
          5286,
          5061,
          4639,
          4627,
          4468,
          4247,
          4170,
          4002,
          3924,
          3921,
          3793,
          3773,
          3689,
          3651,
          3588,
          3547,
          3534,
          3484
         ]
        }
       ],
       "layout": {
        "template": {
         "data": {
          "bar": [
           {
            "error_x": {
             "color": "#2a3f5f"
            },
            "error_y": {
             "color": "#2a3f5f"
            },
            "marker": {
             "line": {
              "color": "#E5ECF6",
              "width": 0.5
             }
            },
            "type": "bar"
           }
          ],
          "barpolar": [
           {
            "marker": {
             "line": {
              "color": "#E5ECF6",
              "width": 0.5
             }
            },
            "type": "barpolar"
           }
          ],
          "carpet": [
           {
            "aaxis": {
             "endlinecolor": "#2a3f5f",
             "gridcolor": "white",
             "linecolor": "white",
             "minorgridcolor": "white",
             "startlinecolor": "#2a3f5f"
            },
            "baxis": {
             "endlinecolor": "#2a3f5f",
             "gridcolor": "white",
             "linecolor": "white",
             "minorgridcolor": "white",
             "startlinecolor": "#2a3f5f"
            },
            "type": "carpet"
           }
          ],
          "choropleth": [
           {
            "colorbar": {
             "outlinewidth": 0,
             "ticks": ""
            },
            "type": "choropleth"
           }
          ],
          "contour": [
           {
            "colorbar": {
             "outlinewidth": 0,
             "ticks": ""
            },
            "colorscale": [
             [
              0,
              "#0d0887"
             ],
             [
              0.1111111111111111,
              "#46039f"
             ],
             [
              0.2222222222222222,
              "#7201a8"
             ],
             [
              0.3333333333333333,
              "#9c179e"
             ],
             [
              0.4444444444444444,
              "#bd3786"
             ],
             [
              0.5555555555555556,
              "#d8576b"
             ],
             [
              0.6666666666666666,
              "#ed7953"
             ],
             [
              0.7777777777777778,
              "#fb9f3a"
             ],
             [
              0.8888888888888888,
              "#fdca26"
             ],
             [
              1,
              "#f0f921"
             ]
            ],
            "type": "contour"
           }
          ],
          "contourcarpet": [
           {
            "colorbar": {
             "outlinewidth": 0,
             "ticks": ""
            },
            "type": "contourcarpet"
           }
          ],
          "heatmap": [
           {
            "colorbar": {
             "outlinewidth": 0,
             "ticks": ""
            },
            "colorscale": [
             [
              0,
              "#0d0887"
             ],
             [
              0.1111111111111111,
              "#46039f"
             ],
             [
              0.2222222222222222,
              "#7201a8"
             ],
             [
              0.3333333333333333,
              "#9c179e"
             ],
             [
              0.4444444444444444,
              "#bd3786"
             ],
             [
              0.5555555555555556,
              "#d8576b"
             ],
             [
              0.6666666666666666,
              "#ed7953"
             ],
             [
              0.7777777777777778,
              "#fb9f3a"
             ],
             [
              0.8888888888888888,
              "#fdca26"
             ],
             [
              1,
              "#f0f921"
             ]
            ],
            "type": "heatmap"
           }
          ],
          "heatmapgl": [
           {
            "colorbar": {
             "outlinewidth": 0,
             "ticks": ""
            },
            "colorscale": [
             [
              0,
              "#0d0887"
             ],
             [
              0.1111111111111111,
              "#46039f"
             ],
             [
              0.2222222222222222,
              "#7201a8"
             ],
             [
              0.3333333333333333,
              "#9c179e"
             ],
             [
              0.4444444444444444,
              "#bd3786"
             ],
             [
              0.5555555555555556,
              "#d8576b"
             ],
             [
              0.6666666666666666,
              "#ed7953"
             ],
             [
              0.7777777777777778,
              "#fb9f3a"
             ],
             [
              0.8888888888888888,
              "#fdca26"
             ],
             [
              1,
              "#f0f921"
             ]
            ],
            "type": "heatmapgl"
           }
          ],
          "histogram": [
           {
            "marker": {
             "colorbar": {
              "outlinewidth": 0,
              "ticks": ""
             }
            },
            "type": "histogram"
           }
          ],
          "histogram2d": [
           {
            "colorbar": {
             "outlinewidth": 0,
             "ticks": ""
            },
            "colorscale": [
             [
              0,
              "#0d0887"
             ],
             [
              0.1111111111111111,
              "#46039f"
             ],
             [
              0.2222222222222222,
              "#7201a8"
             ],
             [
              0.3333333333333333,
              "#9c179e"
             ],
             [
              0.4444444444444444,
              "#bd3786"
             ],
             [
              0.5555555555555556,
              "#d8576b"
             ],
             [
              0.6666666666666666,
              "#ed7953"
             ],
             [
              0.7777777777777778,
              "#fb9f3a"
             ],
             [
              0.8888888888888888,
              "#fdca26"
             ],
             [
              1,
              "#f0f921"
             ]
            ],
            "type": "histogram2d"
           }
          ],
          "histogram2dcontour": [
           {
            "colorbar": {
             "outlinewidth": 0,
             "ticks": ""
            },
            "colorscale": [
             [
              0,
              "#0d0887"
             ],
             [
              0.1111111111111111,
              "#46039f"
             ],
             [
              0.2222222222222222,
              "#7201a8"
             ],
             [
              0.3333333333333333,
              "#9c179e"
             ],
             [
              0.4444444444444444,
              "#bd3786"
             ],
             [
              0.5555555555555556,
              "#d8576b"
             ],
             [
              0.6666666666666666,
              "#ed7953"
             ],
             [
              0.7777777777777778,
              "#fb9f3a"
             ],
             [
              0.8888888888888888,
              "#fdca26"
             ],
             [
              1,
              "#f0f921"
             ]
            ],
            "type": "histogram2dcontour"
           }
          ],
          "mesh3d": [
           {
            "colorbar": {
             "outlinewidth": 0,
             "ticks": ""
            },
            "type": "mesh3d"
           }
          ],
          "parcoords": [
           {
            "line": {
             "colorbar": {
              "outlinewidth": 0,
              "ticks": ""
             }
            },
            "type": "parcoords"
           }
          ],
          "pie": [
           {
            "automargin": true,
            "type": "pie"
           }
          ],
          "scatter": [
           {
            "marker": {
             "colorbar": {
              "outlinewidth": 0,
              "ticks": ""
             }
            },
            "type": "scatter"
           }
          ],
          "scatter3d": [
           {
            "line": {
             "colorbar": {
              "outlinewidth": 0,
              "ticks": ""
             }
            },
            "marker": {
             "colorbar": {
              "outlinewidth": 0,
              "ticks": ""
             }
            },
            "type": "scatter3d"
           }
          ],
          "scattercarpet": [
           {
            "marker": {
             "colorbar": {
              "outlinewidth": 0,
              "ticks": ""
             }
            },
            "type": "scattercarpet"
           }
          ],
          "scattergeo": [
           {
            "marker": {
             "colorbar": {
              "outlinewidth": 0,
              "ticks": ""
             }
            },
            "type": "scattergeo"
           }
          ],
          "scattergl": [
           {
            "marker": {
             "colorbar": {
              "outlinewidth": 0,
              "ticks": ""
             }
            },
            "type": "scattergl"
           }
          ],
          "scattermapbox": [
           {
            "marker": {
             "colorbar": {
              "outlinewidth": 0,
              "ticks": ""
             }
            },
            "type": "scattermapbox"
           }
          ],
          "scatterpolar": [
           {
            "marker": {
             "colorbar": {
              "outlinewidth": 0,
              "ticks": ""
             }
            },
            "type": "scatterpolar"
           }
          ],
          "scatterpolargl": [
           {
            "marker": {
             "colorbar": {
              "outlinewidth": 0,
              "ticks": ""
             }
            },
            "type": "scatterpolargl"
           }
          ],
          "scatterternary": [
           {
            "marker": {
             "colorbar": {
              "outlinewidth": 0,
              "ticks": ""
             }
            },
            "type": "scatterternary"
           }
          ],
          "surface": [
           {
            "colorbar": {
             "outlinewidth": 0,
             "ticks": ""
            },
            "colorscale": [
             [
              0,
              "#0d0887"
             ],
             [
              0.1111111111111111,
              "#46039f"
             ],
             [
              0.2222222222222222,
              "#7201a8"
             ],
             [
              0.3333333333333333,
              "#9c179e"
             ],
             [
              0.4444444444444444,
              "#bd3786"
             ],
             [
              0.5555555555555556,
              "#d8576b"
             ],
             [
              0.6666666666666666,
              "#ed7953"
             ],
             [
              0.7777777777777778,
              "#fb9f3a"
             ],
             [
              0.8888888888888888,
              "#fdca26"
             ],
             [
              1,
              "#f0f921"
             ]
            ],
            "type": "surface"
           }
          ],
          "table": [
           {
            "cells": {
             "fill": {
              "color": "#EBF0F8"
             },
             "line": {
              "color": "white"
             }
            },
            "header": {
             "fill": {
              "color": "#C8D4E3"
             },
             "line": {
              "color": "white"
             }
            },
            "type": "table"
           }
          ]
         },
         "layout": {
          "annotationdefaults": {
           "arrowcolor": "#2a3f5f",
           "arrowhead": 0,
           "arrowwidth": 1
          },
          "coloraxis": {
           "colorbar": {
            "outlinewidth": 0,
            "ticks": ""
           }
          },
          "colorscale": {
           "diverging": [
            [
             0,
             "#8e0152"
            ],
            [
             0.1,
             "#c51b7d"
            ],
            [
             0.2,
             "#de77ae"
            ],
            [
             0.3,
             "#f1b6da"
            ],
            [
             0.4,
             "#fde0ef"
            ],
            [
             0.5,
             "#f7f7f7"
            ],
            [
             0.6,
             "#e6f5d0"
            ],
            [
             0.7,
             "#b8e186"
            ],
            [
             0.8,
             "#7fbc41"
            ],
            [
             0.9,
             "#4d9221"
            ],
            [
             1,
             "#276419"
            ]
           ],
           "sequential": [
            [
             0,
             "#0d0887"
            ],
            [
             0.1111111111111111,
             "#46039f"
            ],
            [
             0.2222222222222222,
             "#7201a8"
            ],
            [
             0.3333333333333333,
             "#9c179e"
            ],
            [
             0.4444444444444444,
             "#bd3786"
            ],
            [
             0.5555555555555556,
             "#d8576b"
            ],
            [
             0.6666666666666666,
             "#ed7953"
            ],
            [
             0.7777777777777778,
             "#fb9f3a"
            ],
            [
             0.8888888888888888,
             "#fdca26"
            ],
            [
             1,
             "#f0f921"
            ]
           ],
           "sequentialminus": [
            [
             0,
             "#0d0887"
            ],
            [
             0.1111111111111111,
             "#46039f"
            ],
            [
             0.2222222222222222,
             "#7201a8"
            ],
            [
             0.3333333333333333,
             "#9c179e"
            ],
            [
             0.4444444444444444,
             "#bd3786"
            ],
            [
             0.5555555555555556,
             "#d8576b"
            ],
            [
             0.6666666666666666,
             "#ed7953"
            ],
            [
             0.7777777777777778,
             "#fb9f3a"
            ],
            [
             0.8888888888888888,
             "#fdca26"
            ],
            [
             1,
             "#f0f921"
            ]
           ]
          },
          "colorway": [
           "#636efa",
           "#EF553B",
           "#00cc96",
           "#ab63fa",
           "#FFA15A",
           "#19d3f3",
           "#FF6692",
           "#B6E880",
           "#FF97FF",
           "#FECB52"
          ],
          "font": {
           "color": "#2a3f5f"
          },
          "geo": {
           "bgcolor": "white",
           "lakecolor": "white",
           "landcolor": "#E5ECF6",
           "showlakes": true,
           "showland": true,
           "subunitcolor": "white"
          },
          "hoverlabel": {
           "align": "left"
          },
          "hovermode": "closest",
          "mapbox": {
           "style": "light"
          },
          "paper_bgcolor": "white",
          "plot_bgcolor": "#E5ECF6",
          "polar": {
           "angularaxis": {
            "gridcolor": "white",
            "linecolor": "white",
            "ticks": ""
           },
           "bgcolor": "#E5ECF6",
           "radialaxis": {
            "gridcolor": "white",
            "linecolor": "white",
            "ticks": ""
           }
          },
          "scene": {
           "xaxis": {
            "backgroundcolor": "#E5ECF6",
            "gridcolor": "white",
            "gridwidth": 2,
            "linecolor": "white",
            "showbackground": true,
            "ticks": "",
            "zerolinecolor": "white"
           },
           "yaxis": {
            "backgroundcolor": "#E5ECF6",
            "gridcolor": "white",
            "gridwidth": 2,
            "linecolor": "white",
            "showbackground": true,
            "ticks": "",
            "zerolinecolor": "white"
           },
           "zaxis": {
            "backgroundcolor": "#E5ECF6",
            "gridcolor": "white",
            "gridwidth": 2,
            "linecolor": "white",
            "showbackground": true,
            "ticks": "",
            "zerolinecolor": "white"
           }
          },
          "shapedefaults": {
           "line": {
            "color": "#2a3f5f"
           }
          },
          "ternary": {
           "aaxis": {
            "gridcolor": "white",
            "linecolor": "white",
            "ticks": ""
           },
           "baxis": {
            "gridcolor": "white",
            "linecolor": "white",
            "ticks": ""
           },
           "bgcolor": "#E5ECF6",
           "caxis": {
            "gridcolor": "white",
            "linecolor": "white",
            "ticks": ""
           }
          },
          "title": {
           "x": 0.05
          },
          "xaxis": {
           "automargin": true,
           "gridcolor": "white",
           "linecolor": "white",
           "ticks": "",
           "title": {
            "standoff": 15
           },
           "zerolinecolor": "white",
           "zerolinewidth": 2
          },
          "yaxis": {
           "automargin": true,
           "gridcolor": "white",
           "linecolor": "white",
           "ticks": "",
           "title": {
            "standoff": 15
           },
           "zerolinecolor": "white",
           "zerolinewidth": 2
          }
         }
        },
        "title": {
         "text": "Top 30 unigrams in the question text after removing stop words and lemmatization"
        }
       }
      },
      "text/html": [
       "<div>\n",
       "        \n",
       "        \n",
       "            <div id=\"b3b1d08e-0514-4bd1-851b-497f90031717\" class=\"plotly-graph-div\" style=\"height:525px; width:100%;\"></div>\n",
       "            <script type=\"text/javascript\">\n",
       "                require([\"plotly\"], function(Plotly) {\n",
       "                    window.PLOTLYENV=window.PLOTLYENV || {};\n",
       "                    \n",
       "                if (document.getElementById(\"b3b1d08e-0514-4bd1-851b-497f90031717\")) {\n",
       "                    Plotly.newPlot(\n",
       "                        'b3b1d08e-0514-4bd1-851b-497f90031717',\n",
       "                        [{\"type\": \"bar\", \"x\": [\"know\", \"like\", \"just\", \"oh\", \"love\", \"say\", \"come\", \"want\", \"time\", \"make\", \"feel\", \"think\", \"let\", \"way\", \"ill\", \"tell\", \"leave\", \"day\", \"away\", \"look\", \"thing\", \"yeah\", \"night\", \"try\", \"cause\", \"eye\", \"need\", \"good\", \"life\", \"right\"], \"y\": [13579, 11296, 10480, 9706, 9432, 8840, 8397, 7826, 7676, 7460, 6640, 5497, 5286, 5061, 4639, 4627, 4468, 4247, 4170, 4002, 3924, 3921, 3793, 3773, 3689, 3651, 3588, 3547, 3534, 3484]}],\n",
       "                        {\"template\": {\"data\": {\"bar\": [{\"error_x\": {\"color\": \"#2a3f5f\"}, \"error_y\": {\"color\": \"#2a3f5f\"}, \"marker\": {\"line\": {\"color\": \"#E5ECF6\", \"width\": 0.5}}, \"type\": \"bar\"}], \"barpolar\": [{\"marker\": {\"line\": {\"color\": \"#E5ECF6\", \"width\": 0.5}}, \"type\": \"barpolar\"}], \"carpet\": [{\"aaxis\": {\"endlinecolor\": \"#2a3f5f\", \"gridcolor\": \"white\", \"linecolor\": \"white\", \"minorgridcolor\": \"white\", \"startlinecolor\": \"#2a3f5f\"}, \"baxis\": {\"endlinecolor\": \"#2a3f5f\", \"gridcolor\": \"white\", \"linecolor\": \"white\", \"minorgridcolor\": \"white\", \"startlinecolor\": \"#2a3f5f\"}, \"type\": \"carpet\"}], \"choropleth\": [{\"colorbar\": {\"outlinewidth\": 0, \"ticks\": \"\"}, \"type\": \"choropleth\"}], \"contour\": [{\"colorbar\": {\"outlinewidth\": 0, \"ticks\": \"\"}, \"colorscale\": [[0.0, \"#0d0887\"], [0.1111111111111111, \"#46039f\"], [0.2222222222222222, \"#7201a8\"], [0.3333333333333333, \"#9c179e\"], [0.4444444444444444, \"#bd3786\"], [0.5555555555555556, \"#d8576b\"], [0.6666666666666666, \"#ed7953\"], [0.7777777777777778, \"#fb9f3a\"], [0.8888888888888888, \"#fdca26\"], [1.0, \"#f0f921\"]], \"type\": \"contour\"}], \"contourcarpet\": [{\"colorbar\": {\"outlinewidth\": 0, \"ticks\": \"\"}, \"type\": \"contourcarpet\"}], \"heatmap\": [{\"colorbar\": {\"outlinewidth\": 0, \"ticks\": \"\"}, \"colorscale\": [[0.0, \"#0d0887\"], [0.1111111111111111, \"#46039f\"], [0.2222222222222222, \"#7201a8\"], [0.3333333333333333, \"#9c179e\"], [0.4444444444444444, \"#bd3786\"], [0.5555555555555556, \"#d8576b\"], [0.6666666666666666, \"#ed7953\"], [0.7777777777777778, \"#fb9f3a\"], [0.8888888888888888, \"#fdca26\"], [1.0, \"#f0f921\"]], \"type\": \"heatmap\"}], \"heatmapgl\": [{\"colorbar\": {\"outlinewidth\": 0, \"ticks\": \"\"}, \"colorscale\": [[0.0, \"#0d0887\"], [0.1111111111111111, \"#46039f\"], [0.2222222222222222, \"#7201a8\"], [0.3333333333333333, \"#9c179e\"], [0.4444444444444444, \"#bd3786\"], [0.5555555555555556, \"#d8576b\"], [0.6666666666666666, \"#ed7953\"], [0.7777777777777778, \"#fb9f3a\"], [0.8888888888888888, \"#fdca26\"], [1.0, \"#f0f921\"]], \"type\": \"heatmapgl\"}], \"histogram\": [{\"marker\": {\"colorbar\": {\"outlinewidth\": 0, \"ticks\": \"\"}}, \"type\": \"histogram\"}], \"histogram2d\": [{\"colorbar\": {\"outlinewidth\": 0, \"ticks\": \"\"}, \"colorscale\": [[0.0, \"#0d0887\"], [0.1111111111111111, \"#46039f\"], [0.2222222222222222, \"#7201a8\"], [0.3333333333333333, \"#9c179e\"], [0.4444444444444444, \"#bd3786\"], [0.5555555555555556, \"#d8576b\"], [0.6666666666666666, \"#ed7953\"], [0.7777777777777778, \"#fb9f3a\"], [0.8888888888888888, \"#fdca26\"], [1.0, \"#f0f921\"]], \"type\": \"histogram2d\"}], \"histogram2dcontour\": [{\"colorbar\": {\"outlinewidth\": 0, \"ticks\": \"\"}, \"colorscale\": [[0.0, \"#0d0887\"], [0.1111111111111111, \"#46039f\"], [0.2222222222222222, \"#7201a8\"], [0.3333333333333333, \"#9c179e\"], [0.4444444444444444, \"#bd3786\"], [0.5555555555555556, \"#d8576b\"], [0.6666666666666666, \"#ed7953\"], [0.7777777777777778, \"#fb9f3a\"], [0.8888888888888888, \"#fdca26\"], [1.0, \"#f0f921\"]], \"type\": \"histogram2dcontour\"}], \"mesh3d\": [{\"colorbar\": {\"outlinewidth\": 0, \"ticks\": \"\"}, \"type\": \"mesh3d\"}], \"parcoords\": [{\"line\": {\"colorbar\": {\"outlinewidth\": 0, \"ticks\": \"\"}}, \"type\": \"parcoords\"}], \"pie\": [{\"automargin\": true, \"type\": \"pie\"}], \"scatter\": [{\"marker\": {\"colorbar\": {\"outlinewidth\": 0, \"ticks\": \"\"}}, \"type\": \"scatter\"}], \"scatter3d\": [{\"line\": {\"colorbar\": {\"outlinewidth\": 0, \"ticks\": \"\"}}, \"marker\": {\"colorbar\": {\"outlinewidth\": 0, \"ticks\": \"\"}}, \"type\": \"scatter3d\"}], \"scattercarpet\": [{\"marker\": {\"colorbar\": {\"outlinewidth\": 0, \"ticks\": \"\"}}, \"type\": \"scattercarpet\"}], \"scattergeo\": [{\"marker\": {\"colorbar\": {\"outlinewidth\": 0, \"ticks\": \"\"}}, \"type\": \"scattergeo\"}], \"scattergl\": [{\"marker\": {\"colorbar\": {\"outlinewidth\": 0, \"ticks\": \"\"}}, \"type\": \"scattergl\"}], \"scattermapbox\": [{\"marker\": {\"colorbar\": {\"outlinewidth\": 0, \"ticks\": \"\"}}, \"type\": \"scattermapbox\"}], \"scatterpolar\": [{\"marker\": {\"colorbar\": {\"outlinewidth\": 0, \"ticks\": \"\"}}, \"type\": \"scatterpolar\"}], \"scatterpolargl\": [{\"marker\": {\"colorbar\": {\"outlinewidth\": 0, \"ticks\": \"\"}}, \"type\": \"scatterpolargl\"}], \"scatterternary\": [{\"marker\": {\"colorbar\": {\"outlinewidth\": 0, \"ticks\": \"\"}}, \"type\": \"scatterternary\"}], \"surface\": [{\"colorbar\": {\"outlinewidth\": 0, \"ticks\": \"\"}, \"colorscale\": [[0.0, \"#0d0887\"], [0.1111111111111111, \"#46039f\"], [0.2222222222222222, \"#7201a8\"], [0.3333333333333333, \"#9c179e\"], [0.4444444444444444, \"#bd3786\"], [0.5555555555555556, \"#d8576b\"], [0.6666666666666666, \"#ed7953\"], [0.7777777777777778, \"#fb9f3a\"], [0.8888888888888888, \"#fdca26\"], [1.0, \"#f0f921\"]], \"type\": \"surface\"}], \"table\": [{\"cells\": {\"fill\": {\"color\": \"#EBF0F8\"}, \"line\": {\"color\": \"white\"}}, \"header\": {\"fill\": {\"color\": \"#C8D4E3\"}, \"line\": {\"color\": \"white\"}}, \"type\": \"table\"}]}, \"layout\": {\"annotationdefaults\": {\"arrowcolor\": \"#2a3f5f\", \"arrowhead\": 0, \"arrowwidth\": 1}, \"coloraxis\": {\"colorbar\": {\"outlinewidth\": 0, \"ticks\": \"\"}}, \"colorscale\": {\"diverging\": [[0, \"#8e0152\"], [0.1, \"#c51b7d\"], [0.2, \"#de77ae\"], [0.3, \"#f1b6da\"], [0.4, \"#fde0ef\"], [0.5, \"#f7f7f7\"], [0.6, \"#e6f5d0\"], [0.7, \"#b8e186\"], [0.8, \"#7fbc41\"], [0.9, \"#4d9221\"], [1, \"#276419\"]], \"sequential\": [[0.0, \"#0d0887\"], [0.1111111111111111, \"#46039f\"], [0.2222222222222222, \"#7201a8\"], [0.3333333333333333, \"#9c179e\"], [0.4444444444444444, \"#bd3786\"], [0.5555555555555556, \"#d8576b\"], [0.6666666666666666, \"#ed7953\"], [0.7777777777777778, \"#fb9f3a\"], [0.8888888888888888, \"#fdca26\"], [1.0, \"#f0f921\"]], \"sequentialminus\": [[0.0, \"#0d0887\"], [0.1111111111111111, \"#46039f\"], [0.2222222222222222, \"#7201a8\"], [0.3333333333333333, \"#9c179e\"], [0.4444444444444444, \"#bd3786\"], [0.5555555555555556, \"#d8576b\"], [0.6666666666666666, \"#ed7953\"], [0.7777777777777778, \"#fb9f3a\"], [0.8888888888888888, \"#fdca26\"], [1.0, \"#f0f921\"]]}, \"colorway\": [\"#636efa\", \"#EF553B\", \"#00cc96\", \"#ab63fa\", \"#FFA15A\", \"#19d3f3\", \"#FF6692\", \"#B6E880\", \"#FF97FF\", \"#FECB52\"], \"font\": {\"color\": \"#2a3f5f\"}, \"geo\": {\"bgcolor\": \"white\", \"lakecolor\": \"white\", \"landcolor\": \"#E5ECF6\", \"showlakes\": true, \"showland\": true, \"subunitcolor\": \"white\"}, \"hoverlabel\": {\"align\": \"left\"}, \"hovermode\": \"closest\", \"mapbox\": {\"style\": \"light\"}, \"paper_bgcolor\": \"white\", \"plot_bgcolor\": \"#E5ECF6\", \"polar\": {\"angularaxis\": {\"gridcolor\": \"white\", \"linecolor\": \"white\", \"ticks\": \"\"}, \"bgcolor\": \"#E5ECF6\", \"radialaxis\": {\"gridcolor\": \"white\", \"linecolor\": \"white\", \"ticks\": \"\"}}, \"scene\": {\"xaxis\": {\"backgroundcolor\": \"#E5ECF6\", \"gridcolor\": \"white\", \"gridwidth\": 2, \"linecolor\": \"white\", \"showbackground\": true, \"ticks\": \"\", \"zerolinecolor\": \"white\"}, \"yaxis\": {\"backgroundcolor\": \"#E5ECF6\", \"gridcolor\": \"white\", \"gridwidth\": 2, \"linecolor\": \"white\", \"showbackground\": true, \"ticks\": \"\", \"zerolinecolor\": \"white\"}, \"zaxis\": {\"backgroundcolor\": \"#E5ECF6\", \"gridcolor\": \"white\", \"gridwidth\": 2, \"linecolor\": \"white\", \"showbackground\": true, \"ticks\": \"\", \"zerolinecolor\": \"white\"}}, \"shapedefaults\": {\"line\": {\"color\": \"#2a3f5f\"}}, \"ternary\": {\"aaxis\": {\"gridcolor\": \"white\", \"linecolor\": \"white\", \"ticks\": \"\"}, \"baxis\": {\"gridcolor\": \"white\", \"linecolor\": \"white\", \"ticks\": \"\"}, \"bgcolor\": \"#E5ECF6\", \"caxis\": {\"gridcolor\": \"white\", \"linecolor\": \"white\", \"ticks\": \"\"}}, \"title\": {\"x\": 0.05}, \"xaxis\": {\"automargin\": true, \"gridcolor\": \"white\", \"linecolor\": \"white\", \"ticks\": \"\", \"title\": {\"standoff\": 15}, \"zerolinecolor\": \"white\", \"zerolinewidth\": 2}, \"yaxis\": {\"automargin\": true, \"gridcolor\": \"white\", \"linecolor\": \"white\", \"ticks\": \"\", \"title\": {\"standoff\": 15}, \"zerolinecolor\": \"white\", \"zerolinewidth\": 2}}}, \"title\": {\"text\": \"Top 30 unigrams in the question text after removing stop words and lemmatization\"}},\n",
       "                        {\"responsive\": true}\n",
       "                    ).then(function(){\n",
       "                            \n",
       "var gd = document.getElementById('b3b1d08e-0514-4bd1-851b-497f90031717');\n",
       "var x = new MutationObserver(function (mutations, observer) {{\n",
       "        var display = window.getComputedStyle(gd).display;\n",
       "        if (!display || display === 'none') {{\n",
       "            console.log([gd, 'removed!']);\n",
       "            Plotly.purge(gd);\n",
       "            observer.disconnect();\n",
       "        }}\n",
       "}});\n",
       "\n",
       "// Listen for the removal of the full notebook cells\n",
       "var notebookContainer = gd.closest('#notebook-container');\n",
       "if (notebookContainer) {{\n",
       "    x.observe(notebookContainer, {childList: true});\n",
       "}}\n",
       "\n",
       "// Listen for the clearing of the current output cell\n",
       "var outputEl = gd.closest('.output');\n",
       "if (outputEl) {{\n",
       "    x.observe(outputEl, {childList: true});\n",
       "}}\n",
       "\n",
       "                        })\n",
       "                };\n",
       "                });\n",
       "            </script>\n",
       "        </div>"
      ]
     },
     "metadata": {},
     "output_type": "display_data"
    }
   ],
   "source": [
    "def get_top_n_words(corpus, n=None):\n",
    "    vec = CountVectorizer(stop_words='english').fit(corpus)\n",
    "    bag_of_words = vec.transform(corpus)\n",
    "    sum_words = bag_of_words.sum(axis=0) \n",
    "    words_freq = [(word, sum_words[0, idx]) for word, idx in vec.vocabulary_.items()]\n",
    "    words_freq =sorted(words_freq, key = lambda x: x[1], reverse=True)\n",
    "    return words_freq[:n]\n",
    "common_words = get_top_n_words(songlyrics['cleaned_lyrics'], 30)\n",
    "df2 = pd.DataFrame(common_words, columns = ['unigram' , 'count'])\n",
    "\n",
    "fig = go.Figure([go.Bar(x=df2['unigram'], y=df2['count'])])\n",
    "fig.update_layout(title=go.layout.Title(text=\"Top 30 unigrams in the question text after removing stop words and lemmatization\"))\n",
    "fig.show()"
   ]
  },
  {
   "cell_type": "code",
   "execution_count": 20,
   "metadata": {},
   "outputs": [
    {
     "data": {
      "application/vnd.plotly.v1+json": {
       "config": {
        "plotlyServerURL": "https://plot.ly"
       },
       "data": [
        {
         "type": "bar",
         "x": [
          "oh oh",
          "know know",
          "la la",
          "feel like",
          "yeah yeah",
          "love love",
          "come come",
          "just like",
          "na na",
          "want want",
          "ooh ooh",
          "ah ah",
          "make feel",
          "da da",
          "say say",
          "just want",
          "want know",
          "hey hey",
          "time time",
          "look like",
          "run run",
          "know just",
          "just wanna",
          "come home",
          "fall love",
          "know love",
          "run away",
          "know want",
          "try try",
          "tell tell"
         ],
         "y": [
          2154,
          1205,
          1190,
          1099,
          1050,
          948,
          689,
          664,
          624,
          605,
          580,
          448,
          432,
          427,
          413,
          404,
          391,
          374,
          368,
          362,
          327,
          313,
          311,
          307,
          307,
          292,
          287,
          286,
          286,
          277
         ]
        }
       ],
       "layout": {
        "template": {
         "data": {
          "bar": [
           {
            "error_x": {
             "color": "#2a3f5f"
            },
            "error_y": {
             "color": "#2a3f5f"
            },
            "marker": {
             "line": {
              "color": "#E5ECF6",
              "width": 0.5
             }
            },
            "type": "bar"
           }
          ],
          "barpolar": [
           {
            "marker": {
             "line": {
              "color": "#E5ECF6",
              "width": 0.5
             }
            },
            "type": "barpolar"
           }
          ],
          "carpet": [
           {
            "aaxis": {
             "endlinecolor": "#2a3f5f",
             "gridcolor": "white",
             "linecolor": "white",
             "minorgridcolor": "white",
             "startlinecolor": "#2a3f5f"
            },
            "baxis": {
             "endlinecolor": "#2a3f5f",
             "gridcolor": "white",
             "linecolor": "white",
             "minorgridcolor": "white",
             "startlinecolor": "#2a3f5f"
            },
            "type": "carpet"
           }
          ],
          "choropleth": [
           {
            "colorbar": {
             "outlinewidth": 0,
             "ticks": ""
            },
            "type": "choropleth"
           }
          ],
          "contour": [
           {
            "colorbar": {
             "outlinewidth": 0,
             "ticks": ""
            },
            "colorscale": [
             [
              0,
              "#0d0887"
             ],
             [
              0.1111111111111111,
              "#46039f"
             ],
             [
              0.2222222222222222,
              "#7201a8"
             ],
             [
              0.3333333333333333,
              "#9c179e"
             ],
             [
              0.4444444444444444,
              "#bd3786"
             ],
             [
              0.5555555555555556,
              "#d8576b"
             ],
             [
              0.6666666666666666,
              "#ed7953"
             ],
             [
              0.7777777777777778,
              "#fb9f3a"
             ],
             [
              0.8888888888888888,
              "#fdca26"
             ],
             [
              1,
              "#f0f921"
             ]
            ],
            "type": "contour"
           }
          ],
          "contourcarpet": [
           {
            "colorbar": {
             "outlinewidth": 0,
             "ticks": ""
            },
            "type": "contourcarpet"
           }
          ],
          "heatmap": [
           {
            "colorbar": {
             "outlinewidth": 0,
             "ticks": ""
            },
            "colorscale": [
             [
              0,
              "#0d0887"
             ],
             [
              0.1111111111111111,
              "#46039f"
             ],
             [
              0.2222222222222222,
              "#7201a8"
             ],
             [
              0.3333333333333333,
              "#9c179e"
             ],
             [
              0.4444444444444444,
              "#bd3786"
             ],
             [
              0.5555555555555556,
              "#d8576b"
             ],
             [
              0.6666666666666666,
              "#ed7953"
             ],
             [
              0.7777777777777778,
              "#fb9f3a"
             ],
             [
              0.8888888888888888,
              "#fdca26"
             ],
             [
              1,
              "#f0f921"
             ]
            ],
            "type": "heatmap"
           }
          ],
          "heatmapgl": [
           {
            "colorbar": {
             "outlinewidth": 0,
             "ticks": ""
            },
            "colorscale": [
             [
              0,
              "#0d0887"
             ],
             [
              0.1111111111111111,
              "#46039f"
             ],
             [
              0.2222222222222222,
              "#7201a8"
             ],
             [
              0.3333333333333333,
              "#9c179e"
             ],
             [
              0.4444444444444444,
              "#bd3786"
             ],
             [
              0.5555555555555556,
              "#d8576b"
             ],
             [
              0.6666666666666666,
              "#ed7953"
             ],
             [
              0.7777777777777778,
              "#fb9f3a"
             ],
             [
              0.8888888888888888,
              "#fdca26"
             ],
             [
              1,
              "#f0f921"
             ]
            ],
            "type": "heatmapgl"
           }
          ],
          "histogram": [
           {
            "marker": {
             "colorbar": {
              "outlinewidth": 0,
              "ticks": ""
             }
            },
            "type": "histogram"
           }
          ],
          "histogram2d": [
           {
            "colorbar": {
             "outlinewidth": 0,
             "ticks": ""
            },
            "colorscale": [
             [
              0,
              "#0d0887"
             ],
             [
              0.1111111111111111,
              "#46039f"
             ],
             [
              0.2222222222222222,
              "#7201a8"
             ],
             [
              0.3333333333333333,
              "#9c179e"
             ],
             [
              0.4444444444444444,
              "#bd3786"
             ],
             [
              0.5555555555555556,
              "#d8576b"
             ],
             [
              0.6666666666666666,
              "#ed7953"
             ],
             [
              0.7777777777777778,
              "#fb9f3a"
             ],
             [
              0.8888888888888888,
              "#fdca26"
             ],
             [
              1,
              "#f0f921"
             ]
            ],
            "type": "histogram2d"
           }
          ],
          "histogram2dcontour": [
           {
            "colorbar": {
             "outlinewidth": 0,
             "ticks": ""
            },
            "colorscale": [
             [
              0,
              "#0d0887"
             ],
             [
              0.1111111111111111,
              "#46039f"
             ],
             [
              0.2222222222222222,
              "#7201a8"
             ],
             [
              0.3333333333333333,
              "#9c179e"
             ],
             [
              0.4444444444444444,
              "#bd3786"
             ],
             [
              0.5555555555555556,
              "#d8576b"
             ],
             [
              0.6666666666666666,
              "#ed7953"
             ],
             [
              0.7777777777777778,
              "#fb9f3a"
             ],
             [
              0.8888888888888888,
              "#fdca26"
             ],
             [
              1,
              "#f0f921"
             ]
            ],
            "type": "histogram2dcontour"
           }
          ],
          "mesh3d": [
           {
            "colorbar": {
             "outlinewidth": 0,
             "ticks": ""
            },
            "type": "mesh3d"
           }
          ],
          "parcoords": [
           {
            "line": {
             "colorbar": {
              "outlinewidth": 0,
              "ticks": ""
             }
            },
            "type": "parcoords"
           }
          ],
          "pie": [
           {
            "automargin": true,
            "type": "pie"
           }
          ],
          "scatter": [
           {
            "marker": {
             "colorbar": {
              "outlinewidth": 0,
              "ticks": ""
             }
            },
            "type": "scatter"
           }
          ],
          "scatter3d": [
           {
            "line": {
             "colorbar": {
              "outlinewidth": 0,
              "ticks": ""
             }
            },
            "marker": {
             "colorbar": {
              "outlinewidth": 0,
              "ticks": ""
             }
            },
            "type": "scatter3d"
           }
          ],
          "scattercarpet": [
           {
            "marker": {
             "colorbar": {
              "outlinewidth": 0,
              "ticks": ""
             }
            },
            "type": "scattercarpet"
           }
          ],
          "scattergeo": [
           {
            "marker": {
             "colorbar": {
              "outlinewidth": 0,
              "ticks": ""
             }
            },
            "type": "scattergeo"
           }
          ],
          "scattergl": [
           {
            "marker": {
             "colorbar": {
              "outlinewidth": 0,
              "ticks": ""
             }
            },
            "type": "scattergl"
           }
          ],
          "scattermapbox": [
           {
            "marker": {
             "colorbar": {
              "outlinewidth": 0,
              "ticks": ""
             }
            },
            "type": "scattermapbox"
           }
          ],
          "scatterpolar": [
           {
            "marker": {
             "colorbar": {
              "outlinewidth": 0,
              "ticks": ""
             }
            },
            "type": "scatterpolar"
           }
          ],
          "scatterpolargl": [
           {
            "marker": {
             "colorbar": {
              "outlinewidth": 0,
              "ticks": ""
             }
            },
            "type": "scatterpolargl"
           }
          ],
          "scatterternary": [
           {
            "marker": {
             "colorbar": {
              "outlinewidth": 0,
              "ticks": ""
             }
            },
            "type": "scatterternary"
           }
          ],
          "surface": [
           {
            "colorbar": {
             "outlinewidth": 0,
             "ticks": ""
            },
            "colorscale": [
             [
              0,
              "#0d0887"
             ],
             [
              0.1111111111111111,
              "#46039f"
             ],
             [
              0.2222222222222222,
              "#7201a8"
             ],
             [
              0.3333333333333333,
              "#9c179e"
             ],
             [
              0.4444444444444444,
              "#bd3786"
             ],
             [
              0.5555555555555556,
              "#d8576b"
             ],
             [
              0.6666666666666666,
              "#ed7953"
             ],
             [
              0.7777777777777778,
              "#fb9f3a"
             ],
             [
              0.8888888888888888,
              "#fdca26"
             ],
             [
              1,
              "#f0f921"
             ]
            ],
            "type": "surface"
           }
          ],
          "table": [
           {
            "cells": {
             "fill": {
              "color": "#EBF0F8"
             },
             "line": {
              "color": "white"
             }
            },
            "header": {
             "fill": {
              "color": "#C8D4E3"
             },
             "line": {
              "color": "white"
             }
            },
            "type": "table"
           }
          ]
         },
         "layout": {
          "annotationdefaults": {
           "arrowcolor": "#2a3f5f",
           "arrowhead": 0,
           "arrowwidth": 1
          },
          "coloraxis": {
           "colorbar": {
            "outlinewidth": 0,
            "ticks": ""
           }
          },
          "colorscale": {
           "diverging": [
            [
             0,
             "#8e0152"
            ],
            [
             0.1,
             "#c51b7d"
            ],
            [
             0.2,
             "#de77ae"
            ],
            [
             0.3,
             "#f1b6da"
            ],
            [
             0.4,
             "#fde0ef"
            ],
            [
             0.5,
             "#f7f7f7"
            ],
            [
             0.6,
             "#e6f5d0"
            ],
            [
             0.7,
             "#b8e186"
            ],
            [
             0.8,
             "#7fbc41"
            ],
            [
             0.9,
             "#4d9221"
            ],
            [
             1,
             "#276419"
            ]
           ],
           "sequential": [
            [
             0,
             "#0d0887"
            ],
            [
             0.1111111111111111,
             "#46039f"
            ],
            [
             0.2222222222222222,
             "#7201a8"
            ],
            [
             0.3333333333333333,
             "#9c179e"
            ],
            [
             0.4444444444444444,
             "#bd3786"
            ],
            [
             0.5555555555555556,
             "#d8576b"
            ],
            [
             0.6666666666666666,
             "#ed7953"
            ],
            [
             0.7777777777777778,
             "#fb9f3a"
            ],
            [
             0.8888888888888888,
             "#fdca26"
            ],
            [
             1,
             "#f0f921"
            ]
           ],
           "sequentialminus": [
            [
             0,
             "#0d0887"
            ],
            [
             0.1111111111111111,
             "#46039f"
            ],
            [
             0.2222222222222222,
             "#7201a8"
            ],
            [
             0.3333333333333333,
             "#9c179e"
            ],
            [
             0.4444444444444444,
             "#bd3786"
            ],
            [
             0.5555555555555556,
             "#d8576b"
            ],
            [
             0.6666666666666666,
             "#ed7953"
            ],
            [
             0.7777777777777778,
             "#fb9f3a"
            ],
            [
             0.8888888888888888,
             "#fdca26"
            ],
            [
             1,
             "#f0f921"
            ]
           ]
          },
          "colorway": [
           "#636efa",
           "#EF553B",
           "#00cc96",
           "#ab63fa",
           "#FFA15A",
           "#19d3f3",
           "#FF6692",
           "#B6E880",
           "#FF97FF",
           "#FECB52"
          ],
          "font": {
           "color": "#2a3f5f"
          },
          "geo": {
           "bgcolor": "white",
           "lakecolor": "white",
           "landcolor": "#E5ECF6",
           "showlakes": true,
           "showland": true,
           "subunitcolor": "white"
          },
          "hoverlabel": {
           "align": "left"
          },
          "hovermode": "closest",
          "mapbox": {
           "style": "light"
          },
          "paper_bgcolor": "white",
          "plot_bgcolor": "#E5ECF6",
          "polar": {
           "angularaxis": {
            "gridcolor": "white",
            "linecolor": "white",
            "ticks": ""
           },
           "bgcolor": "#E5ECF6",
           "radialaxis": {
            "gridcolor": "white",
            "linecolor": "white",
            "ticks": ""
           }
          },
          "scene": {
           "xaxis": {
            "backgroundcolor": "#E5ECF6",
            "gridcolor": "white",
            "gridwidth": 2,
            "linecolor": "white",
            "showbackground": true,
            "ticks": "",
            "zerolinecolor": "white"
           },
           "yaxis": {
            "backgroundcolor": "#E5ECF6",
            "gridcolor": "white",
            "gridwidth": 2,
            "linecolor": "white",
            "showbackground": true,
            "ticks": "",
            "zerolinecolor": "white"
           },
           "zaxis": {
            "backgroundcolor": "#E5ECF6",
            "gridcolor": "white",
            "gridwidth": 2,
            "linecolor": "white",
            "showbackground": true,
            "ticks": "",
            "zerolinecolor": "white"
           }
          },
          "shapedefaults": {
           "line": {
            "color": "#2a3f5f"
           }
          },
          "ternary": {
           "aaxis": {
            "gridcolor": "white",
            "linecolor": "white",
            "ticks": ""
           },
           "baxis": {
            "gridcolor": "white",
            "linecolor": "white",
            "ticks": ""
           },
           "bgcolor": "#E5ECF6",
           "caxis": {
            "gridcolor": "white",
            "linecolor": "white",
            "ticks": ""
           }
          },
          "title": {
           "x": 0.05
          },
          "xaxis": {
           "automargin": true,
           "gridcolor": "white",
           "linecolor": "white",
           "ticks": "",
           "title": {
            "standoff": 15
           },
           "zerolinecolor": "white",
           "zerolinewidth": 2
          },
          "yaxis": {
           "automargin": true,
           "gridcolor": "white",
           "linecolor": "white",
           "ticks": "",
           "title": {
            "standoff": 15
           },
           "zerolinecolor": "white",
           "zerolinewidth": 2
          }
         }
        },
        "title": {
         "text": "Top 20 bigrams in the question text after removing stop words and lemmatization"
        }
       }
      },
      "text/html": [
       "<div>\n",
       "        \n",
       "        \n",
       "            <div id=\"e90ae7dc-6bc6-4deb-989f-cc3ba49291c5\" class=\"plotly-graph-div\" style=\"height:525px; width:100%;\"></div>\n",
       "            <script type=\"text/javascript\">\n",
       "                require([\"plotly\"], function(Plotly) {\n",
       "                    window.PLOTLYENV=window.PLOTLYENV || {};\n",
       "                    \n",
       "                if (document.getElementById(\"e90ae7dc-6bc6-4deb-989f-cc3ba49291c5\")) {\n",
       "                    Plotly.newPlot(\n",
       "                        'e90ae7dc-6bc6-4deb-989f-cc3ba49291c5',\n",
       "                        [{\"type\": \"bar\", \"x\": [\"oh oh\", \"know know\", \"la la\", \"feel like\", \"yeah yeah\", \"love love\", \"come come\", \"just like\", \"na na\", \"want want\", \"ooh ooh\", \"ah ah\", \"make feel\", \"da da\", \"say say\", \"just want\", \"want know\", \"hey hey\", \"time time\", \"look like\", \"run run\", \"know just\", \"just wanna\", \"come home\", \"fall love\", \"know love\", \"run away\", \"know want\", \"try try\", \"tell tell\"], \"y\": [2154, 1205, 1190, 1099, 1050, 948, 689, 664, 624, 605, 580, 448, 432, 427, 413, 404, 391, 374, 368, 362, 327, 313, 311, 307, 307, 292, 287, 286, 286, 277]}],\n",
       "                        {\"template\": {\"data\": {\"bar\": [{\"error_x\": {\"color\": \"#2a3f5f\"}, \"error_y\": {\"color\": \"#2a3f5f\"}, \"marker\": {\"line\": {\"color\": \"#E5ECF6\", \"width\": 0.5}}, \"type\": \"bar\"}], \"barpolar\": [{\"marker\": {\"line\": {\"color\": \"#E5ECF6\", \"width\": 0.5}}, \"type\": \"barpolar\"}], \"carpet\": [{\"aaxis\": {\"endlinecolor\": \"#2a3f5f\", \"gridcolor\": \"white\", \"linecolor\": \"white\", \"minorgridcolor\": \"white\", \"startlinecolor\": \"#2a3f5f\"}, \"baxis\": {\"endlinecolor\": \"#2a3f5f\", \"gridcolor\": \"white\", \"linecolor\": \"white\", \"minorgridcolor\": \"white\", \"startlinecolor\": \"#2a3f5f\"}, \"type\": \"carpet\"}], \"choropleth\": [{\"colorbar\": {\"outlinewidth\": 0, \"ticks\": \"\"}, \"type\": \"choropleth\"}], \"contour\": [{\"colorbar\": {\"outlinewidth\": 0, \"ticks\": \"\"}, \"colorscale\": [[0.0, \"#0d0887\"], [0.1111111111111111, \"#46039f\"], [0.2222222222222222, \"#7201a8\"], [0.3333333333333333, \"#9c179e\"], [0.4444444444444444, \"#bd3786\"], [0.5555555555555556, \"#d8576b\"], [0.6666666666666666, \"#ed7953\"], [0.7777777777777778, \"#fb9f3a\"], [0.8888888888888888, \"#fdca26\"], [1.0, \"#f0f921\"]], \"type\": \"contour\"}], \"contourcarpet\": [{\"colorbar\": {\"outlinewidth\": 0, \"ticks\": \"\"}, \"type\": \"contourcarpet\"}], \"heatmap\": [{\"colorbar\": {\"outlinewidth\": 0, \"ticks\": \"\"}, \"colorscale\": [[0.0, \"#0d0887\"], [0.1111111111111111, \"#46039f\"], [0.2222222222222222, \"#7201a8\"], [0.3333333333333333, \"#9c179e\"], [0.4444444444444444, \"#bd3786\"], [0.5555555555555556, \"#d8576b\"], [0.6666666666666666, \"#ed7953\"], [0.7777777777777778, \"#fb9f3a\"], [0.8888888888888888, \"#fdca26\"], [1.0, \"#f0f921\"]], \"type\": \"heatmap\"}], \"heatmapgl\": [{\"colorbar\": {\"outlinewidth\": 0, \"ticks\": \"\"}, \"colorscale\": [[0.0, \"#0d0887\"], [0.1111111111111111, \"#46039f\"], [0.2222222222222222, \"#7201a8\"], [0.3333333333333333, \"#9c179e\"], [0.4444444444444444, \"#bd3786\"], [0.5555555555555556, \"#d8576b\"], [0.6666666666666666, \"#ed7953\"], [0.7777777777777778, \"#fb9f3a\"], [0.8888888888888888, \"#fdca26\"], [1.0, \"#f0f921\"]], \"type\": \"heatmapgl\"}], \"histogram\": [{\"marker\": {\"colorbar\": {\"outlinewidth\": 0, \"ticks\": \"\"}}, \"type\": \"histogram\"}], \"histogram2d\": [{\"colorbar\": {\"outlinewidth\": 0, \"ticks\": \"\"}, \"colorscale\": [[0.0, \"#0d0887\"], [0.1111111111111111, \"#46039f\"], [0.2222222222222222, \"#7201a8\"], [0.3333333333333333, \"#9c179e\"], [0.4444444444444444, \"#bd3786\"], [0.5555555555555556, \"#d8576b\"], [0.6666666666666666, \"#ed7953\"], [0.7777777777777778, \"#fb9f3a\"], [0.8888888888888888, \"#fdca26\"], [1.0, \"#f0f921\"]], \"type\": \"histogram2d\"}], \"histogram2dcontour\": [{\"colorbar\": {\"outlinewidth\": 0, \"ticks\": \"\"}, \"colorscale\": [[0.0, \"#0d0887\"], [0.1111111111111111, \"#46039f\"], [0.2222222222222222, \"#7201a8\"], [0.3333333333333333, \"#9c179e\"], [0.4444444444444444, \"#bd3786\"], [0.5555555555555556, \"#d8576b\"], [0.6666666666666666, \"#ed7953\"], [0.7777777777777778, \"#fb9f3a\"], [0.8888888888888888, \"#fdca26\"], [1.0, \"#f0f921\"]], \"type\": \"histogram2dcontour\"}], \"mesh3d\": [{\"colorbar\": {\"outlinewidth\": 0, \"ticks\": \"\"}, \"type\": \"mesh3d\"}], \"parcoords\": [{\"line\": {\"colorbar\": {\"outlinewidth\": 0, \"ticks\": \"\"}}, \"type\": \"parcoords\"}], \"pie\": [{\"automargin\": true, \"type\": \"pie\"}], \"scatter\": [{\"marker\": {\"colorbar\": {\"outlinewidth\": 0, \"ticks\": \"\"}}, \"type\": \"scatter\"}], \"scatter3d\": [{\"line\": {\"colorbar\": {\"outlinewidth\": 0, \"ticks\": \"\"}}, \"marker\": {\"colorbar\": {\"outlinewidth\": 0, \"ticks\": \"\"}}, \"type\": \"scatter3d\"}], \"scattercarpet\": [{\"marker\": {\"colorbar\": {\"outlinewidth\": 0, \"ticks\": \"\"}}, \"type\": \"scattercarpet\"}], \"scattergeo\": [{\"marker\": {\"colorbar\": {\"outlinewidth\": 0, \"ticks\": \"\"}}, \"type\": \"scattergeo\"}], \"scattergl\": [{\"marker\": {\"colorbar\": {\"outlinewidth\": 0, \"ticks\": \"\"}}, \"type\": \"scattergl\"}], \"scattermapbox\": [{\"marker\": {\"colorbar\": {\"outlinewidth\": 0, \"ticks\": \"\"}}, \"type\": \"scattermapbox\"}], \"scatterpolar\": [{\"marker\": {\"colorbar\": {\"outlinewidth\": 0, \"ticks\": \"\"}}, \"type\": \"scatterpolar\"}], \"scatterpolargl\": [{\"marker\": {\"colorbar\": {\"outlinewidth\": 0, \"ticks\": \"\"}}, \"type\": \"scatterpolargl\"}], \"scatterternary\": [{\"marker\": {\"colorbar\": {\"outlinewidth\": 0, \"ticks\": \"\"}}, \"type\": \"scatterternary\"}], \"surface\": [{\"colorbar\": {\"outlinewidth\": 0, \"ticks\": \"\"}, \"colorscale\": [[0.0, \"#0d0887\"], [0.1111111111111111, \"#46039f\"], [0.2222222222222222, \"#7201a8\"], [0.3333333333333333, \"#9c179e\"], [0.4444444444444444, \"#bd3786\"], [0.5555555555555556, \"#d8576b\"], [0.6666666666666666, \"#ed7953\"], [0.7777777777777778, \"#fb9f3a\"], [0.8888888888888888, \"#fdca26\"], [1.0, \"#f0f921\"]], \"type\": \"surface\"}], \"table\": [{\"cells\": {\"fill\": {\"color\": \"#EBF0F8\"}, \"line\": {\"color\": \"white\"}}, \"header\": {\"fill\": {\"color\": \"#C8D4E3\"}, \"line\": {\"color\": \"white\"}}, \"type\": \"table\"}]}, \"layout\": {\"annotationdefaults\": {\"arrowcolor\": \"#2a3f5f\", \"arrowhead\": 0, \"arrowwidth\": 1}, \"coloraxis\": {\"colorbar\": {\"outlinewidth\": 0, \"ticks\": \"\"}}, \"colorscale\": {\"diverging\": [[0, \"#8e0152\"], [0.1, \"#c51b7d\"], [0.2, \"#de77ae\"], [0.3, \"#f1b6da\"], [0.4, \"#fde0ef\"], [0.5, \"#f7f7f7\"], [0.6, \"#e6f5d0\"], [0.7, \"#b8e186\"], [0.8, \"#7fbc41\"], [0.9, \"#4d9221\"], [1, \"#276419\"]], \"sequential\": [[0.0, \"#0d0887\"], [0.1111111111111111, \"#46039f\"], [0.2222222222222222, \"#7201a8\"], [0.3333333333333333, \"#9c179e\"], [0.4444444444444444, \"#bd3786\"], [0.5555555555555556, \"#d8576b\"], [0.6666666666666666, \"#ed7953\"], [0.7777777777777778, \"#fb9f3a\"], [0.8888888888888888, \"#fdca26\"], [1.0, \"#f0f921\"]], \"sequentialminus\": [[0.0, \"#0d0887\"], [0.1111111111111111, \"#46039f\"], [0.2222222222222222, \"#7201a8\"], [0.3333333333333333, \"#9c179e\"], [0.4444444444444444, \"#bd3786\"], [0.5555555555555556, \"#d8576b\"], [0.6666666666666666, \"#ed7953\"], [0.7777777777777778, \"#fb9f3a\"], [0.8888888888888888, \"#fdca26\"], [1.0, \"#f0f921\"]]}, \"colorway\": [\"#636efa\", \"#EF553B\", \"#00cc96\", \"#ab63fa\", \"#FFA15A\", \"#19d3f3\", \"#FF6692\", \"#B6E880\", \"#FF97FF\", \"#FECB52\"], \"font\": {\"color\": \"#2a3f5f\"}, \"geo\": {\"bgcolor\": \"white\", \"lakecolor\": \"white\", \"landcolor\": \"#E5ECF6\", \"showlakes\": true, \"showland\": true, \"subunitcolor\": \"white\"}, \"hoverlabel\": {\"align\": \"left\"}, \"hovermode\": \"closest\", \"mapbox\": {\"style\": \"light\"}, \"paper_bgcolor\": \"white\", \"plot_bgcolor\": \"#E5ECF6\", \"polar\": {\"angularaxis\": {\"gridcolor\": \"white\", \"linecolor\": \"white\", \"ticks\": \"\"}, \"bgcolor\": \"#E5ECF6\", \"radialaxis\": {\"gridcolor\": \"white\", \"linecolor\": \"white\", \"ticks\": \"\"}}, \"scene\": {\"xaxis\": {\"backgroundcolor\": \"#E5ECF6\", \"gridcolor\": \"white\", \"gridwidth\": 2, \"linecolor\": \"white\", \"showbackground\": true, \"ticks\": \"\", \"zerolinecolor\": \"white\"}, \"yaxis\": {\"backgroundcolor\": \"#E5ECF6\", \"gridcolor\": \"white\", \"gridwidth\": 2, \"linecolor\": \"white\", \"showbackground\": true, \"ticks\": \"\", \"zerolinecolor\": \"white\"}, \"zaxis\": {\"backgroundcolor\": \"#E5ECF6\", \"gridcolor\": \"white\", \"gridwidth\": 2, \"linecolor\": \"white\", \"showbackground\": true, \"ticks\": \"\", \"zerolinecolor\": \"white\"}}, \"shapedefaults\": {\"line\": {\"color\": \"#2a3f5f\"}}, \"ternary\": {\"aaxis\": {\"gridcolor\": \"white\", \"linecolor\": \"white\", \"ticks\": \"\"}, \"baxis\": {\"gridcolor\": \"white\", \"linecolor\": \"white\", \"ticks\": \"\"}, \"bgcolor\": \"#E5ECF6\", \"caxis\": {\"gridcolor\": \"white\", \"linecolor\": \"white\", \"ticks\": \"\"}}, \"title\": {\"x\": 0.05}, \"xaxis\": {\"automargin\": true, \"gridcolor\": \"white\", \"linecolor\": \"white\", \"ticks\": \"\", \"title\": {\"standoff\": 15}, \"zerolinecolor\": \"white\", \"zerolinewidth\": 2}, \"yaxis\": {\"automargin\": true, \"gridcolor\": \"white\", \"linecolor\": \"white\", \"ticks\": \"\", \"title\": {\"standoff\": 15}, \"zerolinecolor\": \"white\", \"zerolinewidth\": 2}}}, \"title\": {\"text\": \"Top 20 bigrams in the question text after removing stop words and lemmatization\"}},\n",
       "                        {\"responsive\": true}\n",
       "                    ).then(function(){\n",
       "                            \n",
       "var gd = document.getElementById('e90ae7dc-6bc6-4deb-989f-cc3ba49291c5');\n",
       "var x = new MutationObserver(function (mutations, observer) {{\n",
       "        var display = window.getComputedStyle(gd).display;\n",
       "        if (!display || display === 'none') {{\n",
       "            console.log([gd, 'removed!']);\n",
       "            Plotly.purge(gd);\n",
       "            observer.disconnect();\n",
       "        }}\n",
       "}});\n",
       "\n",
       "// Listen for the removal of the full notebook cells\n",
       "var notebookContainer = gd.closest('#notebook-container');\n",
       "if (notebookContainer) {{\n",
       "    x.observe(notebookContainer, {childList: true});\n",
       "}}\n",
       "\n",
       "// Listen for the clearing of the current output cell\n",
       "var outputEl = gd.closest('.output');\n",
       "if (outputEl) {{\n",
       "    x.observe(outputEl, {childList: true});\n",
       "}}\n",
       "\n",
       "                        })\n",
       "                };\n",
       "                });\n",
       "            </script>\n",
       "        </div>"
      ]
     },
     "metadata": {},
     "output_type": "display_data"
    }
   ],
   "source": [
    "def get_top_n_bigram(corpus, n=None):\n",
    "    vec = CountVectorizer(ngram_range=(2, 2), stop_words='english').fit(corpus)\n",
    "    bag_of_words = vec.transform(corpus)\n",
    "    sum_words = bag_of_words.sum(axis=0) \n",
    "    words_freq = [(word, sum_words[0, idx]) for word, idx in vec.vocabulary_.items()]\n",
    "    words_freq =sorted(words_freq, key = lambda x: x[1], reverse=True)\n",
    "    return words_freq[:n]\n",
    "common_words = get_top_n_bigram(songlyrics['cleaned_lyrics'], 30)\n",
    "df3 = pd.DataFrame(common_words, columns = ['bigram' , 'count'])\n",
    "\n",
    "fig = go.Figure([go.Bar(x=df3['bigram'], y=df3['count'])])\n",
    "fig.update_layout(title=go.layout.Title(text=\"Top 20 bigrams in the question text after removing stop words and lemmatization\"))\n",
    "fig.show()"
   ]
  },
  {
   "cell_type": "code",
   "execution_count": 21,
   "metadata": {
    "scrolled": false
   },
   "outputs": [
    {
     "data": {
      "application/vnd.plotly.v1+json": {
       "config": {
        "plotlyServerURL": "https://plot.ly"
       },
       "data": [
        {
         "type": "bar",
         "x": [
          "oh oh oh",
          "la la la",
          "yeah yeah yeah",
          "na na na",
          "know know know",
          "love love love",
          "ah ah ah",
          "ooh ooh ooh",
          "da da da",
          "come come come",
          "want want want",
          "beep beep beep",
          "hey hey hey",
          "ba ba ba",
          "run run run",
          "doo doo doo",
          "say say say",
          "try try try",
          "leave leave leave",
          "way way way",
          "time time time",
          "wait wait wait",
          "make feel like",
          "tell tell tell",
          "bad bad bad",
          "need need need",
          "watch watch watch",
          "hoo hoo hoo",
          "ride ride ride",
          "boogie boogie boogie"
         ],
         "y": [
          1267,
          1001,
          720,
          554,
          365,
          365,
          344,
          343,
          300,
          277,
          265,
          210,
          195,
          192,
          173,
          140,
          133,
          131,
          117,
          111,
          104,
          101,
          100,
          98,
          97,
          95,
          95,
          93,
          89,
          86
         ]
        }
       ],
       "layout": {
        "template": {
         "data": {
          "bar": [
           {
            "error_x": {
             "color": "#2a3f5f"
            },
            "error_y": {
             "color": "#2a3f5f"
            },
            "marker": {
             "line": {
              "color": "#E5ECF6",
              "width": 0.5
             }
            },
            "type": "bar"
           }
          ],
          "barpolar": [
           {
            "marker": {
             "line": {
              "color": "#E5ECF6",
              "width": 0.5
             }
            },
            "type": "barpolar"
           }
          ],
          "carpet": [
           {
            "aaxis": {
             "endlinecolor": "#2a3f5f",
             "gridcolor": "white",
             "linecolor": "white",
             "minorgridcolor": "white",
             "startlinecolor": "#2a3f5f"
            },
            "baxis": {
             "endlinecolor": "#2a3f5f",
             "gridcolor": "white",
             "linecolor": "white",
             "minorgridcolor": "white",
             "startlinecolor": "#2a3f5f"
            },
            "type": "carpet"
           }
          ],
          "choropleth": [
           {
            "colorbar": {
             "outlinewidth": 0,
             "ticks": ""
            },
            "type": "choropleth"
           }
          ],
          "contour": [
           {
            "colorbar": {
             "outlinewidth": 0,
             "ticks": ""
            },
            "colorscale": [
             [
              0,
              "#0d0887"
             ],
             [
              0.1111111111111111,
              "#46039f"
             ],
             [
              0.2222222222222222,
              "#7201a8"
             ],
             [
              0.3333333333333333,
              "#9c179e"
             ],
             [
              0.4444444444444444,
              "#bd3786"
             ],
             [
              0.5555555555555556,
              "#d8576b"
             ],
             [
              0.6666666666666666,
              "#ed7953"
             ],
             [
              0.7777777777777778,
              "#fb9f3a"
             ],
             [
              0.8888888888888888,
              "#fdca26"
             ],
             [
              1,
              "#f0f921"
             ]
            ],
            "type": "contour"
           }
          ],
          "contourcarpet": [
           {
            "colorbar": {
             "outlinewidth": 0,
             "ticks": ""
            },
            "type": "contourcarpet"
           }
          ],
          "heatmap": [
           {
            "colorbar": {
             "outlinewidth": 0,
             "ticks": ""
            },
            "colorscale": [
             [
              0,
              "#0d0887"
             ],
             [
              0.1111111111111111,
              "#46039f"
             ],
             [
              0.2222222222222222,
              "#7201a8"
             ],
             [
              0.3333333333333333,
              "#9c179e"
             ],
             [
              0.4444444444444444,
              "#bd3786"
             ],
             [
              0.5555555555555556,
              "#d8576b"
             ],
             [
              0.6666666666666666,
              "#ed7953"
             ],
             [
              0.7777777777777778,
              "#fb9f3a"
             ],
             [
              0.8888888888888888,
              "#fdca26"
             ],
             [
              1,
              "#f0f921"
             ]
            ],
            "type": "heatmap"
           }
          ],
          "heatmapgl": [
           {
            "colorbar": {
             "outlinewidth": 0,
             "ticks": ""
            },
            "colorscale": [
             [
              0,
              "#0d0887"
             ],
             [
              0.1111111111111111,
              "#46039f"
             ],
             [
              0.2222222222222222,
              "#7201a8"
             ],
             [
              0.3333333333333333,
              "#9c179e"
             ],
             [
              0.4444444444444444,
              "#bd3786"
             ],
             [
              0.5555555555555556,
              "#d8576b"
             ],
             [
              0.6666666666666666,
              "#ed7953"
             ],
             [
              0.7777777777777778,
              "#fb9f3a"
             ],
             [
              0.8888888888888888,
              "#fdca26"
             ],
             [
              1,
              "#f0f921"
             ]
            ],
            "type": "heatmapgl"
           }
          ],
          "histogram": [
           {
            "marker": {
             "colorbar": {
              "outlinewidth": 0,
              "ticks": ""
             }
            },
            "type": "histogram"
           }
          ],
          "histogram2d": [
           {
            "colorbar": {
             "outlinewidth": 0,
             "ticks": ""
            },
            "colorscale": [
             [
              0,
              "#0d0887"
             ],
             [
              0.1111111111111111,
              "#46039f"
             ],
             [
              0.2222222222222222,
              "#7201a8"
             ],
             [
              0.3333333333333333,
              "#9c179e"
             ],
             [
              0.4444444444444444,
              "#bd3786"
             ],
             [
              0.5555555555555556,
              "#d8576b"
             ],
             [
              0.6666666666666666,
              "#ed7953"
             ],
             [
              0.7777777777777778,
              "#fb9f3a"
             ],
             [
              0.8888888888888888,
              "#fdca26"
             ],
             [
              1,
              "#f0f921"
             ]
            ],
            "type": "histogram2d"
           }
          ],
          "histogram2dcontour": [
           {
            "colorbar": {
             "outlinewidth": 0,
             "ticks": ""
            },
            "colorscale": [
             [
              0,
              "#0d0887"
             ],
             [
              0.1111111111111111,
              "#46039f"
             ],
             [
              0.2222222222222222,
              "#7201a8"
             ],
             [
              0.3333333333333333,
              "#9c179e"
             ],
             [
              0.4444444444444444,
              "#bd3786"
             ],
             [
              0.5555555555555556,
              "#d8576b"
             ],
             [
              0.6666666666666666,
              "#ed7953"
             ],
             [
              0.7777777777777778,
              "#fb9f3a"
             ],
             [
              0.8888888888888888,
              "#fdca26"
             ],
             [
              1,
              "#f0f921"
             ]
            ],
            "type": "histogram2dcontour"
           }
          ],
          "mesh3d": [
           {
            "colorbar": {
             "outlinewidth": 0,
             "ticks": ""
            },
            "type": "mesh3d"
           }
          ],
          "parcoords": [
           {
            "line": {
             "colorbar": {
              "outlinewidth": 0,
              "ticks": ""
             }
            },
            "type": "parcoords"
           }
          ],
          "pie": [
           {
            "automargin": true,
            "type": "pie"
           }
          ],
          "scatter": [
           {
            "marker": {
             "colorbar": {
              "outlinewidth": 0,
              "ticks": ""
             }
            },
            "type": "scatter"
           }
          ],
          "scatter3d": [
           {
            "line": {
             "colorbar": {
              "outlinewidth": 0,
              "ticks": ""
             }
            },
            "marker": {
             "colorbar": {
              "outlinewidth": 0,
              "ticks": ""
             }
            },
            "type": "scatter3d"
           }
          ],
          "scattercarpet": [
           {
            "marker": {
             "colorbar": {
              "outlinewidth": 0,
              "ticks": ""
             }
            },
            "type": "scattercarpet"
           }
          ],
          "scattergeo": [
           {
            "marker": {
             "colorbar": {
              "outlinewidth": 0,
              "ticks": ""
             }
            },
            "type": "scattergeo"
           }
          ],
          "scattergl": [
           {
            "marker": {
             "colorbar": {
              "outlinewidth": 0,
              "ticks": ""
             }
            },
            "type": "scattergl"
           }
          ],
          "scattermapbox": [
           {
            "marker": {
             "colorbar": {
              "outlinewidth": 0,
              "ticks": ""
             }
            },
            "type": "scattermapbox"
           }
          ],
          "scatterpolar": [
           {
            "marker": {
             "colorbar": {
              "outlinewidth": 0,
              "ticks": ""
             }
            },
            "type": "scatterpolar"
           }
          ],
          "scatterpolargl": [
           {
            "marker": {
             "colorbar": {
              "outlinewidth": 0,
              "ticks": ""
             }
            },
            "type": "scatterpolargl"
           }
          ],
          "scatterternary": [
           {
            "marker": {
             "colorbar": {
              "outlinewidth": 0,
              "ticks": ""
             }
            },
            "type": "scatterternary"
           }
          ],
          "surface": [
           {
            "colorbar": {
             "outlinewidth": 0,
             "ticks": ""
            },
            "colorscale": [
             [
              0,
              "#0d0887"
             ],
             [
              0.1111111111111111,
              "#46039f"
             ],
             [
              0.2222222222222222,
              "#7201a8"
             ],
             [
              0.3333333333333333,
              "#9c179e"
             ],
             [
              0.4444444444444444,
              "#bd3786"
             ],
             [
              0.5555555555555556,
              "#d8576b"
             ],
             [
              0.6666666666666666,
              "#ed7953"
             ],
             [
              0.7777777777777778,
              "#fb9f3a"
             ],
             [
              0.8888888888888888,
              "#fdca26"
             ],
             [
              1,
              "#f0f921"
             ]
            ],
            "type": "surface"
           }
          ],
          "table": [
           {
            "cells": {
             "fill": {
              "color": "#EBF0F8"
             },
             "line": {
              "color": "white"
             }
            },
            "header": {
             "fill": {
              "color": "#C8D4E3"
             },
             "line": {
              "color": "white"
             }
            },
            "type": "table"
           }
          ]
         },
         "layout": {
          "annotationdefaults": {
           "arrowcolor": "#2a3f5f",
           "arrowhead": 0,
           "arrowwidth": 1
          },
          "coloraxis": {
           "colorbar": {
            "outlinewidth": 0,
            "ticks": ""
           }
          },
          "colorscale": {
           "diverging": [
            [
             0,
             "#8e0152"
            ],
            [
             0.1,
             "#c51b7d"
            ],
            [
             0.2,
             "#de77ae"
            ],
            [
             0.3,
             "#f1b6da"
            ],
            [
             0.4,
             "#fde0ef"
            ],
            [
             0.5,
             "#f7f7f7"
            ],
            [
             0.6,
             "#e6f5d0"
            ],
            [
             0.7,
             "#b8e186"
            ],
            [
             0.8,
             "#7fbc41"
            ],
            [
             0.9,
             "#4d9221"
            ],
            [
             1,
             "#276419"
            ]
           ],
           "sequential": [
            [
             0,
             "#0d0887"
            ],
            [
             0.1111111111111111,
             "#46039f"
            ],
            [
             0.2222222222222222,
             "#7201a8"
            ],
            [
             0.3333333333333333,
             "#9c179e"
            ],
            [
             0.4444444444444444,
             "#bd3786"
            ],
            [
             0.5555555555555556,
             "#d8576b"
            ],
            [
             0.6666666666666666,
             "#ed7953"
            ],
            [
             0.7777777777777778,
             "#fb9f3a"
            ],
            [
             0.8888888888888888,
             "#fdca26"
            ],
            [
             1,
             "#f0f921"
            ]
           ],
           "sequentialminus": [
            [
             0,
             "#0d0887"
            ],
            [
             0.1111111111111111,
             "#46039f"
            ],
            [
             0.2222222222222222,
             "#7201a8"
            ],
            [
             0.3333333333333333,
             "#9c179e"
            ],
            [
             0.4444444444444444,
             "#bd3786"
            ],
            [
             0.5555555555555556,
             "#d8576b"
            ],
            [
             0.6666666666666666,
             "#ed7953"
            ],
            [
             0.7777777777777778,
             "#fb9f3a"
            ],
            [
             0.8888888888888888,
             "#fdca26"
            ],
            [
             1,
             "#f0f921"
            ]
           ]
          },
          "colorway": [
           "#636efa",
           "#EF553B",
           "#00cc96",
           "#ab63fa",
           "#FFA15A",
           "#19d3f3",
           "#FF6692",
           "#B6E880",
           "#FF97FF",
           "#FECB52"
          ],
          "font": {
           "color": "#2a3f5f"
          },
          "geo": {
           "bgcolor": "white",
           "lakecolor": "white",
           "landcolor": "#E5ECF6",
           "showlakes": true,
           "showland": true,
           "subunitcolor": "white"
          },
          "hoverlabel": {
           "align": "left"
          },
          "hovermode": "closest",
          "mapbox": {
           "style": "light"
          },
          "paper_bgcolor": "white",
          "plot_bgcolor": "#E5ECF6",
          "polar": {
           "angularaxis": {
            "gridcolor": "white",
            "linecolor": "white",
            "ticks": ""
           },
           "bgcolor": "#E5ECF6",
           "radialaxis": {
            "gridcolor": "white",
            "linecolor": "white",
            "ticks": ""
           }
          },
          "scene": {
           "xaxis": {
            "backgroundcolor": "#E5ECF6",
            "gridcolor": "white",
            "gridwidth": 2,
            "linecolor": "white",
            "showbackground": true,
            "ticks": "",
            "zerolinecolor": "white"
           },
           "yaxis": {
            "backgroundcolor": "#E5ECF6",
            "gridcolor": "white",
            "gridwidth": 2,
            "linecolor": "white",
            "showbackground": true,
            "ticks": "",
            "zerolinecolor": "white"
           },
           "zaxis": {
            "backgroundcolor": "#E5ECF6",
            "gridcolor": "white",
            "gridwidth": 2,
            "linecolor": "white",
            "showbackground": true,
            "ticks": "",
            "zerolinecolor": "white"
           }
          },
          "shapedefaults": {
           "line": {
            "color": "#2a3f5f"
           }
          },
          "ternary": {
           "aaxis": {
            "gridcolor": "white",
            "linecolor": "white",
            "ticks": ""
           },
           "baxis": {
            "gridcolor": "white",
            "linecolor": "white",
            "ticks": ""
           },
           "bgcolor": "#E5ECF6",
           "caxis": {
            "gridcolor": "white",
            "linecolor": "white",
            "ticks": ""
           }
          },
          "title": {
           "x": 0.05
          },
          "xaxis": {
           "automargin": true,
           "gridcolor": "white",
           "linecolor": "white",
           "ticks": "",
           "title": {
            "standoff": 15
           },
           "zerolinecolor": "white",
           "zerolinewidth": 2
          },
          "yaxis": {
           "automargin": true,
           "gridcolor": "white",
           "linecolor": "white",
           "ticks": "",
           "title": {
            "standoff": 15
           },
           "zerolinecolor": "white",
           "zerolinewidth": 2
          }
         }
        },
        "title": {
         "text": "Top 30 trigrams in the question text"
        }
       }
      },
      "text/html": [
       "<div>\n",
       "        \n",
       "        \n",
       "            <div id=\"67802b4a-3814-4ea2-a144-8c2ebeca0cb0\" class=\"plotly-graph-div\" style=\"height:525px; width:100%;\"></div>\n",
       "            <script type=\"text/javascript\">\n",
       "                require([\"plotly\"], function(Plotly) {\n",
       "                    window.PLOTLYENV=window.PLOTLYENV || {};\n",
       "                    \n",
       "                if (document.getElementById(\"67802b4a-3814-4ea2-a144-8c2ebeca0cb0\")) {\n",
       "                    Plotly.newPlot(\n",
       "                        '67802b4a-3814-4ea2-a144-8c2ebeca0cb0',\n",
       "                        [{\"type\": \"bar\", \"x\": [\"oh oh oh\", \"la la la\", \"yeah yeah yeah\", \"na na na\", \"know know know\", \"love love love\", \"ah ah ah\", \"ooh ooh ooh\", \"da da da\", \"come come come\", \"want want want\", \"beep beep beep\", \"hey hey hey\", \"ba ba ba\", \"run run run\", \"doo doo doo\", \"say say say\", \"try try try\", \"leave leave leave\", \"way way way\", \"time time time\", \"wait wait wait\", \"make feel like\", \"tell tell tell\", \"bad bad bad\", \"need need need\", \"watch watch watch\", \"hoo hoo hoo\", \"ride ride ride\", \"boogie boogie boogie\"], \"y\": [1267, 1001, 720, 554, 365, 365, 344, 343, 300, 277, 265, 210, 195, 192, 173, 140, 133, 131, 117, 111, 104, 101, 100, 98, 97, 95, 95, 93, 89, 86]}],\n",
       "                        {\"template\": {\"data\": {\"bar\": [{\"error_x\": {\"color\": \"#2a3f5f\"}, \"error_y\": {\"color\": \"#2a3f5f\"}, \"marker\": {\"line\": {\"color\": \"#E5ECF6\", \"width\": 0.5}}, \"type\": \"bar\"}], \"barpolar\": [{\"marker\": {\"line\": {\"color\": \"#E5ECF6\", \"width\": 0.5}}, \"type\": \"barpolar\"}], \"carpet\": [{\"aaxis\": {\"endlinecolor\": \"#2a3f5f\", \"gridcolor\": \"white\", \"linecolor\": \"white\", \"minorgridcolor\": \"white\", \"startlinecolor\": \"#2a3f5f\"}, \"baxis\": {\"endlinecolor\": \"#2a3f5f\", \"gridcolor\": \"white\", \"linecolor\": \"white\", \"minorgridcolor\": \"white\", \"startlinecolor\": \"#2a3f5f\"}, \"type\": \"carpet\"}], \"choropleth\": [{\"colorbar\": {\"outlinewidth\": 0, \"ticks\": \"\"}, \"type\": \"choropleth\"}], \"contour\": [{\"colorbar\": {\"outlinewidth\": 0, \"ticks\": \"\"}, \"colorscale\": [[0.0, \"#0d0887\"], [0.1111111111111111, \"#46039f\"], [0.2222222222222222, \"#7201a8\"], [0.3333333333333333, \"#9c179e\"], [0.4444444444444444, \"#bd3786\"], [0.5555555555555556, \"#d8576b\"], [0.6666666666666666, \"#ed7953\"], [0.7777777777777778, \"#fb9f3a\"], [0.8888888888888888, \"#fdca26\"], [1.0, \"#f0f921\"]], \"type\": \"contour\"}], \"contourcarpet\": [{\"colorbar\": {\"outlinewidth\": 0, \"ticks\": \"\"}, \"type\": \"contourcarpet\"}], \"heatmap\": [{\"colorbar\": {\"outlinewidth\": 0, \"ticks\": \"\"}, \"colorscale\": [[0.0, \"#0d0887\"], [0.1111111111111111, \"#46039f\"], [0.2222222222222222, \"#7201a8\"], [0.3333333333333333, \"#9c179e\"], [0.4444444444444444, \"#bd3786\"], [0.5555555555555556, \"#d8576b\"], [0.6666666666666666, \"#ed7953\"], [0.7777777777777778, \"#fb9f3a\"], [0.8888888888888888, \"#fdca26\"], [1.0, \"#f0f921\"]], \"type\": \"heatmap\"}], \"heatmapgl\": [{\"colorbar\": {\"outlinewidth\": 0, \"ticks\": \"\"}, \"colorscale\": [[0.0, \"#0d0887\"], [0.1111111111111111, \"#46039f\"], [0.2222222222222222, \"#7201a8\"], [0.3333333333333333, \"#9c179e\"], [0.4444444444444444, \"#bd3786\"], [0.5555555555555556, \"#d8576b\"], [0.6666666666666666, \"#ed7953\"], [0.7777777777777778, \"#fb9f3a\"], [0.8888888888888888, \"#fdca26\"], [1.0, \"#f0f921\"]], \"type\": \"heatmapgl\"}], \"histogram\": [{\"marker\": {\"colorbar\": {\"outlinewidth\": 0, \"ticks\": \"\"}}, \"type\": \"histogram\"}], \"histogram2d\": [{\"colorbar\": {\"outlinewidth\": 0, \"ticks\": \"\"}, \"colorscale\": [[0.0, \"#0d0887\"], [0.1111111111111111, \"#46039f\"], [0.2222222222222222, \"#7201a8\"], [0.3333333333333333, \"#9c179e\"], [0.4444444444444444, \"#bd3786\"], [0.5555555555555556, \"#d8576b\"], [0.6666666666666666, \"#ed7953\"], [0.7777777777777778, \"#fb9f3a\"], [0.8888888888888888, \"#fdca26\"], [1.0, \"#f0f921\"]], \"type\": \"histogram2d\"}], \"histogram2dcontour\": [{\"colorbar\": {\"outlinewidth\": 0, \"ticks\": \"\"}, \"colorscale\": [[0.0, \"#0d0887\"], [0.1111111111111111, \"#46039f\"], [0.2222222222222222, \"#7201a8\"], [0.3333333333333333, \"#9c179e\"], [0.4444444444444444, \"#bd3786\"], [0.5555555555555556, \"#d8576b\"], [0.6666666666666666, \"#ed7953\"], [0.7777777777777778, \"#fb9f3a\"], [0.8888888888888888, \"#fdca26\"], [1.0, \"#f0f921\"]], \"type\": \"histogram2dcontour\"}], \"mesh3d\": [{\"colorbar\": {\"outlinewidth\": 0, \"ticks\": \"\"}, \"type\": \"mesh3d\"}], \"parcoords\": [{\"line\": {\"colorbar\": {\"outlinewidth\": 0, \"ticks\": \"\"}}, \"type\": \"parcoords\"}], \"pie\": [{\"automargin\": true, \"type\": \"pie\"}], \"scatter\": [{\"marker\": {\"colorbar\": {\"outlinewidth\": 0, \"ticks\": \"\"}}, \"type\": \"scatter\"}], \"scatter3d\": [{\"line\": {\"colorbar\": {\"outlinewidth\": 0, \"ticks\": \"\"}}, \"marker\": {\"colorbar\": {\"outlinewidth\": 0, \"ticks\": \"\"}}, \"type\": \"scatter3d\"}], \"scattercarpet\": [{\"marker\": {\"colorbar\": {\"outlinewidth\": 0, \"ticks\": \"\"}}, \"type\": \"scattercarpet\"}], \"scattergeo\": [{\"marker\": {\"colorbar\": {\"outlinewidth\": 0, \"ticks\": \"\"}}, \"type\": \"scattergeo\"}], \"scattergl\": [{\"marker\": {\"colorbar\": {\"outlinewidth\": 0, \"ticks\": \"\"}}, \"type\": \"scattergl\"}], \"scattermapbox\": [{\"marker\": {\"colorbar\": {\"outlinewidth\": 0, \"ticks\": \"\"}}, \"type\": \"scattermapbox\"}], \"scatterpolar\": [{\"marker\": {\"colorbar\": {\"outlinewidth\": 0, \"ticks\": \"\"}}, \"type\": \"scatterpolar\"}], \"scatterpolargl\": [{\"marker\": {\"colorbar\": {\"outlinewidth\": 0, \"ticks\": \"\"}}, \"type\": \"scatterpolargl\"}], \"scatterternary\": [{\"marker\": {\"colorbar\": {\"outlinewidth\": 0, \"ticks\": \"\"}}, \"type\": \"scatterternary\"}], \"surface\": [{\"colorbar\": {\"outlinewidth\": 0, \"ticks\": \"\"}, \"colorscale\": [[0.0, \"#0d0887\"], [0.1111111111111111, \"#46039f\"], [0.2222222222222222, \"#7201a8\"], [0.3333333333333333, \"#9c179e\"], [0.4444444444444444, \"#bd3786\"], [0.5555555555555556, \"#d8576b\"], [0.6666666666666666, \"#ed7953\"], [0.7777777777777778, \"#fb9f3a\"], [0.8888888888888888, \"#fdca26\"], [1.0, \"#f0f921\"]], \"type\": \"surface\"}], \"table\": [{\"cells\": {\"fill\": {\"color\": \"#EBF0F8\"}, \"line\": {\"color\": \"white\"}}, \"header\": {\"fill\": {\"color\": \"#C8D4E3\"}, \"line\": {\"color\": \"white\"}}, \"type\": \"table\"}]}, \"layout\": {\"annotationdefaults\": {\"arrowcolor\": \"#2a3f5f\", \"arrowhead\": 0, \"arrowwidth\": 1}, \"coloraxis\": {\"colorbar\": {\"outlinewidth\": 0, \"ticks\": \"\"}}, \"colorscale\": {\"diverging\": [[0, \"#8e0152\"], [0.1, \"#c51b7d\"], [0.2, \"#de77ae\"], [0.3, \"#f1b6da\"], [0.4, \"#fde0ef\"], [0.5, \"#f7f7f7\"], [0.6, \"#e6f5d0\"], [0.7, \"#b8e186\"], [0.8, \"#7fbc41\"], [0.9, \"#4d9221\"], [1, \"#276419\"]], \"sequential\": [[0.0, \"#0d0887\"], [0.1111111111111111, \"#46039f\"], [0.2222222222222222, \"#7201a8\"], [0.3333333333333333, \"#9c179e\"], [0.4444444444444444, \"#bd3786\"], [0.5555555555555556, \"#d8576b\"], [0.6666666666666666, \"#ed7953\"], [0.7777777777777778, \"#fb9f3a\"], [0.8888888888888888, \"#fdca26\"], [1.0, \"#f0f921\"]], \"sequentialminus\": [[0.0, \"#0d0887\"], [0.1111111111111111, \"#46039f\"], [0.2222222222222222, \"#7201a8\"], [0.3333333333333333, \"#9c179e\"], [0.4444444444444444, \"#bd3786\"], [0.5555555555555556, \"#d8576b\"], [0.6666666666666666, \"#ed7953\"], [0.7777777777777778, \"#fb9f3a\"], [0.8888888888888888, \"#fdca26\"], [1.0, \"#f0f921\"]]}, \"colorway\": [\"#636efa\", \"#EF553B\", \"#00cc96\", \"#ab63fa\", \"#FFA15A\", \"#19d3f3\", \"#FF6692\", \"#B6E880\", \"#FF97FF\", \"#FECB52\"], \"font\": {\"color\": \"#2a3f5f\"}, \"geo\": {\"bgcolor\": \"white\", \"lakecolor\": \"white\", \"landcolor\": \"#E5ECF6\", \"showlakes\": true, \"showland\": true, \"subunitcolor\": \"white\"}, \"hoverlabel\": {\"align\": \"left\"}, \"hovermode\": \"closest\", \"mapbox\": {\"style\": \"light\"}, \"paper_bgcolor\": \"white\", \"plot_bgcolor\": \"#E5ECF6\", \"polar\": {\"angularaxis\": {\"gridcolor\": \"white\", \"linecolor\": \"white\", \"ticks\": \"\"}, \"bgcolor\": \"#E5ECF6\", \"radialaxis\": {\"gridcolor\": \"white\", \"linecolor\": \"white\", \"ticks\": \"\"}}, \"scene\": {\"xaxis\": {\"backgroundcolor\": \"#E5ECF6\", \"gridcolor\": \"white\", \"gridwidth\": 2, \"linecolor\": \"white\", \"showbackground\": true, \"ticks\": \"\", \"zerolinecolor\": \"white\"}, \"yaxis\": {\"backgroundcolor\": \"#E5ECF6\", \"gridcolor\": \"white\", \"gridwidth\": 2, \"linecolor\": \"white\", \"showbackground\": true, \"ticks\": \"\", \"zerolinecolor\": \"white\"}, \"zaxis\": {\"backgroundcolor\": \"#E5ECF6\", \"gridcolor\": \"white\", \"gridwidth\": 2, \"linecolor\": \"white\", \"showbackground\": true, \"ticks\": \"\", \"zerolinecolor\": \"white\"}}, \"shapedefaults\": {\"line\": {\"color\": \"#2a3f5f\"}}, \"ternary\": {\"aaxis\": {\"gridcolor\": \"white\", \"linecolor\": \"white\", \"ticks\": \"\"}, \"baxis\": {\"gridcolor\": \"white\", \"linecolor\": \"white\", \"ticks\": \"\"}, \"bgcolor\": \"#E5ECF6\", \"caxis\": {\"gridcolor\": \"white\", \"linecolor\": \"white\", \"ticks\": \"\"}}, \"title\": {\"x\": 0.05}, \"xaxis\": {\"automargin\": true, \"gridcolor\": \"white\", \"linecolor\": \"white\", \"ticks\": \"\", \"title\": {\"standoff\": 15}, \"zerolinecolor\": \"white\", \"zerolinewidth\": 2}, \"yaxis\": {\"automargin\": true, \"gridcolor\": \"white\", \"linecolor\": \"white\", \"ticks\": \"\", \"title\": {\"standoff\": 15}, \"zerolinecolor\": \"white\", \"zerolinewidth\": 2}}}, \"title\": {\"text\": \"Top 30 trigrams in the question text\"}},\n",
       "                        {\"responsive\": true}\n",
       "                    ).then(function(){\n",
       "                            \n",
       "var gd = document.getElementById('67802b4a-3814-4ea2-a144-8c2ebeca0cb0');\n",
       "var x = new MutationObserver(function (mutations, observer) {{\n",
       "        var display = window.getComputedStyle(gd).display;\n",
       "        if (!display || display === 'none') {{\n",
       "            console.log([gd, 'removed!']);\n",
       "            Plotly.purge(gd);\n",
       "            observer.disconnect();\n",
       "        }}\n",
       "}});\n",
       "\n",
       "// Listen for the removal of the full notebook cells\n",
       "var notebookContainer = gd.closest('#notebook-container');\n",
       "if (notebookContainer) {{\n",
       "    x.observe(notebookContainer, {childList: true});\n",
       "}}\n",
       "\n",
       "// Listen for the clearing of the current output cell\n",
       "var outputEl = gd.closest('.output');\n",
       "if (outputEl) {{\n",
       "    x.observe(outputEl, {childList: true});\n",
       "}}\n",
       "\n",
       "                        })\n",
       "                };\n",
       "                });\n",
       "            </script>\n",
       "        </div>"
      ]
     },
     "metadata": {},
     "output_type": "display_data"
    }
   ],
   "source": [
    "def get_top_n_trigram(corpus, n=None):\n",
    "    vec = CountVectorizer(ngram_range=(3, 3), stop_words='english').fit(corpus)\n",
    "    bag_of_words = vec.transform(corpus)\n",
    "    sum_words = bag_of_words.sum(axis=0) \n",
    "    words_freq = [(word, sum_words[0, idx]) for word, idx in vec.vocabulary_.items()]\n",
    "    words_freq =sorted(words_freq, key = lambda x: x[1], reverse=True)\n",
    "    return words_freq[:n]\n",
    "common_words = get_top_n_trigram(songlyrics['cleaned_lyrics'], 30)\n",
    "df4 = pd.DataFrame(common_words, columns = ['trigram' , 'count'])\n",
    "\n",
    "fig = go.Figure([go.Bar(x=df4['trigram'], y=df4['count'])])\n",
    "fig.update_layout(title=go.layout.Title(text=\"Top 30 trigrams in the question text\"))\n",
    "fig.show()"
   ]
  },
  {
   "cell_type": "markdown",
   "metadata": {},
   "source": [
    "Change the lyrics lists into vectors"
   ]
  },
  {
   "cell_type": "code",
   "execution_count": 24,
   "metadata": {},
   "outputs": [],
   "source": [
    "vectorizer = CountVectorizer(analyzer='word',stop_words='english', min_df=25, max_df=.8, lowercase=True, token_pattern='[a-zA-Z0-9]{3,}')\n",
    "\n",
    "bag_lyrics= vectorizer.fit_transform(songlyrics['cleaned_lyrics'])"
   ]
  },
  {
   "cell_type": "code",
   "execution_count": 26,
   "metadata": {
    "scrolled": false
   },
   "outputs": [
    {
     "name": "stderr",
     "output_type": "stream",
     "text": [
      "C:\\Users\\16142\\Anaconda3\\lib\\site-packages\\pyLDAvis\\_prepare.py:257: FutureWarning:\n",
      "\n",
      "Sorting because non-concatenation axis is not aligned. A future version\n",
      "of pandas will change to not sort by default.\n",
      "\n",
      "To accept the future behavior, pass 'sort=False'.\n",
      "\n",
      "To retain the current behavior and silence the warning, pass 'sort=True'.\n",
      "\n",
      "\n"
     ]
    },
    {
     "data": {
      "text/html": [
       "\n",
       "<link rel=\"stylesheet\" type=\"text/css\" href=\"https://cdn.rawgit.com/bmabey/pyLDAvis/files/ldavis.v1.0.0.css\">\n",
       "\n",
       "\n",
       "<div id=\"ldavis_el1504818772280121928494236186\"></div>\n",
       "<script type=\"text/javascript\">\n",
       "\n",
       "var ldavis_el1504818772280121928494236186_data = {\"mdsDat\": {\"x\": [-0.1168403803753362, -0.12925444416580928, 0.2460948245411454], \"y\": [0.1380565754880753, -0.13349057982034093, -0.004565995667734428], \"topics\": [1, 2, 3], \"cluster\": [1, 1, 1], \"Freq\": [50.14800427031963, 38.01969891141471, 11.832296818265654]}, \"tinfo\": {\"Category\": [\"Default\", \"Default\", \"Default\", \"Default\", \"Default\", \"Default\", \"Default\", \"Default\", \"Default\", \"Default\", \"Default\", \"Default\", \"Default\", \"Default\", \"Default\", \"Default\", \"Default\", \"Default\", \"Default\", \"Default\", \"Default\", \"Default\", \"Default\", \"Default\", \"Default\", \"Default\", \"Default\", \"Default\", \"Default\", \"Default\", \"Topic1\", \"Topic1\", \"Topic1\", \"Topic1\", \"Topic1\", \"Topic1\", \"Topic1\", \"Topic1\", \"Topic1\", \"Topic1\", \"Topic1\", \"Topic1\", \"Topic1\", \"Topic1\", \"Topic1\", \"Topic1\", \"Topic1\", \"Topic1\", \"Topic1\", \"Topic1\", \"Topic1\", \"Topic1\", \"Topic1\", \"Topic1\", \"Topic1\", \"Topic1\", \"Topic1\", \"Topic1\", \"Topic1\", \"Topic1\", \"Topic1\", \"Topic1\", \"Topic1\", \"Topic1\", \"Topic1\", \"Topic1\", \"Topic1\", \"Topic1\", \"Topic1\", \"Topic1\", \"Topic1\", \"Topic1\", \"Topic1\", \"Topic1\", \"Topic1\", \"Topic1\", \"Topic1\", \"Topic1\", \"Topic1\", \"Topic1\", \"Topic1\", \"Topic1\", \"Topic1\", \"Topic1\", \"Topic1\", \"Topic1\", \"Topic1\", \"Topic1\", \"Topic1\", \"Topic1\", \"Topic1\", \"Topic1\", \"Topic1\", \"Topic1\", \"Topic1\", \"Topic1\", \"Topic1\", \"Topic1\", \"Topic1\", \"Topic1\", \"Topic1\", \"Topic1\", \"Topic1\", \"Topic1\", \"Topic1\", \"Topic1\", \"Topic1\", \"Topic1\", \"Topic2\", \"Topic2\", \"Topic2\", \"Topic2\", \"Topic2\", \"Topic2\", \"Topic2\", \"Topic2\", \"Topic2\", \"Topic2\", \"Topic2\", \"Topic2\", \"Topic2\", \"Topic2\", \"Topic2\", \"Topic2\", \"Topic2\", \"Topic2\", \"Topic2\", \"Topic2\", \"Topic2\", \"Topic2\", \"Topic2\", \"Topic2\", \"Topic2\", \"Topic2\", \"Topic2\", \"Topic2\", \"Topic2\", \"Topic2\", \"Topic2\", \"Topic2\", \"Topic2\", \"Topic2\", \"Topic2\", \"Topic2\", \"Topic2\", \"Topic2\", \"Topic2\", \"Topic2\", \"Topic2\", \"Topic2\", \"Topic2\", \"Topic2\", \"Topic2\", \"Topic2\", \"Topic2\", \"Topic2\", \"Topic2\", \"Topic2\", \"Topic2\", \"Topic2\", \"Topic2\", \"Topic2\", \"Topic2\", \"Topic2\", \"Topic2\", \"Topic2\", \"Topic2\", \"Topic2\", \"Topic2\", \"Topic2\", \"Topic2\", \"Topic2\", \"Topic2\", \"Topic2\", \"Topic2\", \"Topic2\", \"Topic2\", \"Topic2\", \"Topic2\", \"Topic2\", \"Topic2\", \"Topic2\", \"Topic2\", \"Topic2\", \"Topic2\", \"Topic2\", \"Topic2\", \"Topic2\", \"Topic2\", \"Topic2\", \"Topic2\", \"Topic2\", \"Topic2\", \"Topic2\", \"Topic2\", \"Topic2\", \"Topic2\", \"Topic2\", \"Topic2\", \"Topic2\", \"Topic2\", \"Topic2\", \"Topic2\", \"Topic2\", \"Topic2\", \"Topic2\", \"Topic2\", \"Topic2\", \"Topic2\", \"Topic3\", \"Topic3\", \"Topic3\", \"Topic3\", \"Topic3\", \"Topic3\", \"Topic3\", \"Topic3\", \"Topic3\", \"Topic3\", \"Topic3\", \"Topic3\", \"Topic3\", \"Topic3\", \"Topic3\", \"Topic3\", \"Topic3\", \"Topic3\", \"Topic3\", \"Topic3\", \"Topic3\", \"Topic3\", \"Topic3\", \"Topic3\", \"Topic3\", \"Topic3\", \"Topic3\", \"Topic3\", \"Topic3\", \"Topic3\", \"Topic3\", \"Topic3\", \"Topic3\", \"Topic3\", \"Topic3\", \"Topic3\", \"Topic3\", \"Topic3\", \"Topic3\", \"Topic3\", \"Topic3\", \"Topic3\", \"Topic3\", \"Topic3\", \"Topic3\", \"Topic3\", \"Topic3\", \"Topic3\", \"Topic3\", \"Topic3\", \"Topic3\", \"Topic3\", \"Topic3\", \"Topic3\", \"Topic3\", \"Topic3\", \"Topic3\", \"Topic3\", \"Topic3\", \"Topic3\", \"Topic3\", \"Topic3\", \"Topic3\", \"Topic3\", \"Topic3\", \"Topic3\", \"Topic3\", \"Topic3\", \"Topic3\", \"Topic3\", \"Topic3\", \"Topic3\"], \"Freq\": [11178.0, 5075.0, 13520.0, 2807.0, 9419.0, 6983.0, 2630.0, 7794.0, 7671.0, 2229.0, 3970.0, 10331.0, 1078.0, 1075.0, 984.0, 8648.0, 5496.0, 3368.0, 1680.0, 2413.0, 758.0, 2440.0, 1354.0, 1000.0, 3215.0, 2534.0, 652.0, 2645.0, 909.0, 621.0, 1525.7685969997983, 203.6794173404701, 170.9434564822165, 918.0963413964205, 1379.2622599581016, 146.1136510106436, 109.5788740815775, 204.95865460218982, 456.4198452377901, 90.2391112901613, 72.27331026705846, 64.59862100099988, 55.039594059635995, 66.64760777640046, 59.56986059270327, 69.8545659857299, 72.25654401080646, 69.53365902609514, 70.30126158515422, 60.36592642120438, 134.9617159066621, 79.77125064986944, 149.08773364741418, 70.70539680630921, 777.5615350656598, 60.53170887744134, 43.62357064613327, 47.938824414004486, 48.825216606685785, 40.68422593301805, 9166.603975264337, 3309.554284409248, 2573.9506463504595, 2073.9477902490257, 12869.830830931014, 521.3831424969159, 1419.4904356950483, 788.9889093072412, 7387.417240618558, 196.93225277817604, 7190.241232019249, 1268.6645609783197, 1448.5652249315735, 317.824142902439, 276.23725987867294, 408.8559817202164, 1334.0330124732584, 1148.726142537185, 9229.23039219539, 1617.020603261226, 3260.82389172282, 4948.922065982486, 3095.1223148087797, 767.5495369150517, 7586.182296815849, 3178.56691258934, 2989.605128283635, 3440.949344625034, 1462.9833952590368, 4359.385141408147, 3932.4877109400845, 1697.777642622283, 2209.1673756922205, 3386.297433665636, 4155.532770992248, 5228.794553821183, 5273.257213029185, 3289.907556496288, 2217.836456261769, 2432.986630019809, 2907.784279732232, 4940.199611995658, 2981.162948103156, 3145.677891693464, 4870.555668334829, 2643.3964822134785, 2500.4139983672335, 2462.392525571696, 381.5498457784698, 464.41560527081697, 299.7369470691894, 236.80412048635614, 218.89537621099217, 202.46803879843077, 166.34232254132675, 245.80569037352717, 190.6616299878823, 221.2082327952988, 304.5382994344821, 171.69310015440138, 152.4299410076389, 153.75462517006602, 137.7908398282857, 145.77936800847297, 245.2854611827297, 129.0493681911202, 135.90954767587834, 147.9325857029845, 135.9392424423866, 143.59918758368883, 116.32144276999958, 96.16159479871997, 102.60378472951548, 98.93794469556671, 103.89806758088028, 103.53576470145563, 99.71658535618327, 224.59000145096562, 543.313587866845, 626.9790832203742, 362.1641256228396, 233.03878622376342, 298.29457445277075, 258.6173193210343, 189.82724679901307, 306.8671637280095, 885.0567310752117, 213.56244803658916, 203.50375468158808, 220.2146550851455, 1078.5454812508826, 681.0238535159745, 813.4549727453945, 228.94095100890686, 759.7258250307893, 762.7672760463254, 338.4630136302372, 599.4947776045547, 709.4074070313883, 2569.1686107932346, 707.3061161207994, 1012.3399852235794, 760.663028449699, 823.2015763540745, 456.0623832750189, 602.892334138563, 335.5896169802239, 696.1175816455739, 675.205848257161, 479.00908516795766, 741.2502643979053, 493.7364828245501, 873.0622357996554, 611.0263575596488, 1046.1516358174056, 518.1166263708809, 781.2796196468807, 693.1005600775403, 921.9270343455102, 916.6678423379451, 2221.7689485695078, 808.9757087821095, 827.6562828976655, 3410.0120470888337, 1544.5426735631502, 1545.1496744260785, 925.58223193041, 1538.6679632774276, 1080.1976394145654, 1024.1277599343825, 1049.833711739536, 872.6485685028266, 2533.3032287512933, 1104.5287338059802, 1203.3580583520668, 1160.2411057071447, 1485.5597147786586, 1178.3171069815094, 1328.1266337859943, 1132.931982805222, 1028.330535615074, 1457.3119915364177, 1059.6488074154386, 1050.894394818287, 927.4538035297874, 1074.143723660693, 1107.8689285959144, 1013.6176205923582, 928.0039782140913, 983.9883777490112, 1077.9558937475178, 757.663057941441, 1073.6703784194374, 274.6220329155236, 270.8177940890312, 256.4844301485712, 197.69741462781892, 176.72944042730677, 169.9122273383129, 146.62022912602202, 184.65293907782564, 159.05919873043447, 151.59472810220802, 145.71230703490988, 141.59088565997024, 141.54857700185244, 137.33046700574945, 138.9325602398545, 140.3430024864138, 136.28426830014243, 171.86157766460536, 140.69894839210636, 139.9428623057858, 187.84252222205765, 180.83966221797945, 149.71837746919397, 186.81731608512177, 129.87524130836724, 119.25319789883876, 309.8797383151847, 372.0800327462757, 248.9760641993823, 183.59493686447848, 636.0844236432729, 480.6097159938947, 170.95125436540616, 591.7776310697359, 165.09092836570127, 281.64387923310767, 283.0129015861178, 184.25653592782032, 276.4232416380573, 516.0211739408649, 2049.182476942065, 215.99001861860475, 471.6316685599935, 432.8082619063493, 1370.5783923808244, 3774.635369354558, 1121.236511487223, 624.4043136371239, 530.2675501354181, 1846.7395394035252, 556.2565616811755, 288.8883359825535, 344.52991354062954, 307.1002119315023, 617.1328329351121, 1391.2512288011867, 374.49099469136814, 879.7394370120038, 591.5224151427793, 689.6275735383482, 625.618630243877, 388.3466123025419, 376.73622423954794, 401.0074392331343, 574.2096472330892, 438.49942800792667, 414.02791412525863, 379.0397320025298], \"Term\": [\"like\", \"tell\", \"know\", \"yeah\", \"love\", \"feel\", \"live\", \"want\", \"time\", \"die\", \"try\", \"just\", \"hey\", \"fuck\", \"important\", \"say\", \"think\", \"wanna\", \"girl\", \"man\", \"probably\", \"little\", \"ask\", \"alright\", \"light\", \"baby\", \"kid\", \"mind\", \"dance\", \"somebody\", \"ooh\", \"oooh\", \"person\", \"feeling\", \"wrong\", \"lately\", \"reality\", \"ohoh\", \"tomorrow\", \"enjoy\", \"disagree\", \"awhile\", \"obvious\", \"resist\", \"mmm\", \"heartbeat\", \"normal\", \"discover\", \"haze\", \"ending\", \"admit\", \"danger\", \"difference\", \"emotion\", \"easy\", \"misery\", \"rely\", \"sooner\", \"heartache\", \"used\", \"love\", \"wanna\", \"mind\", \"stay\", \"know\", \"reason\", \"believe\", \"waste\", \"want\", \"tough\", \"time\", \"maybe\", \"really\", \"mistake\", \"ahead\", \"worth\", \"care\", \"wish\", \"just\", \"change\", \"need\", \"think\", \"right\", \"hurt\", \"say\", \"cause\", \"good\", \"thing\", \"mean\", \"way\", \"ill\", \"hard\", \"baby\", \"away\", \"let\", \"feel\", \"make\", \"day\", \"lose\", \"wait\", \"try\", \"come\", \"leave\", \"tell\", \"like\", \"look\", \"life\", \"night\", \"glass\", \"sink\", \"wing\", \"bye\", \"diamond\", \"boat\", \"tower\", \"field\", \"seed\", \"horse\", \"escape\", \"sweat\", \"desert\", \"coat\", \"dive\", \"map\", \"ship\", \"shall\", \"killer\", \"throat\", \"reflection\", \"fame\", \"nail\", \"bare\", \"stream\", \"hunger\", \"loss\", \"passion\", \"witness\", \"highway\", \"river\", \"death\", \"bury\", \"whoa\", \"swim\", \"knife\", \"vein\", \"beneath\", \"blood\", \"underneath\", \"remain\", \"spirit\", \"water\", \"tree\", \"set\", \"lake\", \"ride\", \"bear\", \"green\", \"wave\", \"sea\", \"light\", \"air\", \"sky\", \"sweet\", \"city\", \"ring\", \"skin\", \"paint\", \"deep\", \"wind\", \"earth\", \"house\", \"wild\", \"blue\", \"child\", \"burn\", \"bone\", \"street\", \"wall\", \"open\", \"cold\", \"eye\", \"black\", \"body\", \"come\", \"hand\", \"run\", \"dark\", \"home\", \"watch\", \"sun\", \"sleep\", \"sing\", \"like\", \"face\", \"hear\", \"man\", \"leave\", \"dream\", \"night\", \"turn\", \"old\", \"make\", \"hold\", \"fall\", \"inside\", \"look\", \"let\", \"life\", \"heart\", \"important\", \"hey\", \"probably\", \"fuck\", \"willing\", \"dip\", \"hiss\", \"punk\", \"monkey\", \"tattoo\", \"social\", \"class\", \"bang\", \"pistol\", \"gum\", \"pot\", \"desk\", \"lipstick\", \"teen\", \"culture\", \"cheese\", \"mama\", \"oclock\", \"host\", \"tryin\", \"news\", \"chord\", \"gimme\", \"daddy\", \"america\", \"drunk\", \"suck\", \"cat\", \"special\", \"kid\", \"money\", \"damage\", \"somebody\", \"shark\", \"shoot\", \"band\", \"metal\", \"breathing\", \"shit\", \"yeah\", \"queen\", \"rock\", \"drop\", \"live\", \"like\", \"die\", \"alright\", \"moment\", \"tell\", \"dance\", \"arrive\", \"feed\", \"kick\", \"ask\", \"feel\", \"bird\", \"try\", \"girl\", \"man\", \"little\", \"hell\", \"scream\", \"cut\", \"make\", \"heart\", \"say\", \"boy\"], \"Total\": [11178.0, 5075.0, 13520.0, 2807.0, 9419.0, 6983.0, 2630.0, 7794.0, 7671.0, 2229.0, 3970.0, 10331.0, 1078.0, 1075.0, 984.0, 8648.0, 5496.0, 3368.0, 1680.0, 2413.0, 758.0, 2440.0, 1354.0, 1000.0, 3215.0, 2534.0, 652.0, 2645.0, 909.0, 621.0, 1526.4251445384912, 204.29399334041065, 171.7506394422584, 922.7308262718067, 1386.4410057208295, 147.07263205246443, 110.29942313220718, 206.35178441038602, 459.65833314147824, 90.97519142481566, 72.96366607168929, 65.27622958474294, 55.66387112267177, 67.41177063881963, 60.263292164452025, 70.67354585998184, 73.10468625741363, 70.35298871782103, 71.13642649376818, 61.086494957525126, 136.59579933315095, 80.81482294294231, 151.1533961300248, 71.752907801122, 789.0815140637951, 61.460492157614794, 44.33329851456036, 48.725009620070054, 49.66530560653165, 41.39336637075771, 9419.93337517001, 3368.382157514314, 2645.13961155781, 2132.6208302957493, 13520.466110099549, 530.9099430461736, 1465.927405072117, 813.0218782646872, 7794.468236316789, 200.70761532832722, 7671.130024927991, 1332.587296121429, 1531.7999091435788, 326.5852358662328, 283.79656995990877, 423.6064329396553, 1416.3053054088127, 1217.2984487930112, 10331.546403514825, 1729.6190384540416, 3572.2037771665555, 5496.422155652038, 3404.727151809395, 810.333421263115, 8648.00049707341, 3577.847385226272, 3364.175863859136, 3906.867693705229, 1608.0318247166351, 5134.309903578594, 4601.29574516836, 1885.8068571441697, 2534.07914978154, 4125.948984692855, 5288.342938705169, 6983.104020112541, 7304.778851798692, 4222.248774961023, 2658.0713608411857, 3008.382373981263, 3970.8583417645355, 8388.516760248973, 4478.774074231079, 5075.95664507516, 11178.49426644068, 3915.980207404424, 3548.444292386267, 3811.982802075874, 382.2615986773512, 465.48286746704395, 300.4314590474461, 237.49034267986312, 219.55883873825522, 203.2001661493082, 166.95198056041016, 246.72905001675863, 191.38682533826542, 222.0689347584197, 305.7520843719884, 172.3801431157648, 153.05013774075493, 154.41448116577328, 138.39981479251472, 146.43201545202683, 246.4475941849068, 129.75872525085117, 136.65864713275215, 148.8151697993355, 136.75427692744924, 144.4636833148193, 117.03053452692987, 96.76491070491433, 103.2556984598292, 99.59711374315792, 104.59499022219087, 104.23814469673204, 100.40017690970531, 226.13279414533775, 549.8403911230014, 636.7273049052828, 366.0146870455653, 234.8989688466022, 301.4980164268792, 261.37737843499286, 191.42901321290023, 311.053509786363, 907.6557831495585, 215.99523701843654, 205.68745837473335, 223.0678681888769, 1131.327800971176, 716.0017418203327, 861.9244074978438, 233.5428451691173, 816.8125289504433, 821.1663494385601, 354.11565480650705, 651.2989018863897, 790.0932339350871, 3215.6946448872345, 792.504304612344, 1181.1308331767118, 862.9518437392553, 948.9280299753189, 495.8845972485079, 679.2004500165494, 353.9897806575141, 813.7152682659046, 785.9026295520295, 531.3656820247802, 883.0965813944484, 554.3550589357443, 1077.2239963996724, 713.117680823139, 1353.4913660305401, 587.8457213472052, 976.777416126195, 843.4557841356722, 1208.1899708196931, 1200.2243583678085, 3743.9543665409255, 1059.7850308689156, 1107.4674410964788, 8388.516760248973, 2767.5896950454776, 2805.5052718010706, 1303.7818875108921, 2849.0380036471347, 1782.5608242034587, 1634.3435600788573, 1755.845731725495, 1247.5433167568135, 11178.49426644068, 2054.277956804491, 2553.2061465394054, 2413.6782417533573, 4478.774074231079, 2705.7926085717645, 3811.982802075874, 2517.30774228897, 2135.4866733902095, 7304.778851798692, 2706.4933529818354, 3100.280671557191, 1726.6899079457653, 3915.980207404424, 5288.342938705169, 3548.444292386267, 3503.9598800013946, 984.6998928595312, 1078.8126316372575, 758.420738495151, 1075.0790341841016, 275.35140183752435, 271.6385181082451, 257.28700667855213, 198.40857685219655, 177.43856132039303, 170.6744428062728, 147.33606377644253, 185.56737673726255, 159.84820039365403, 152.34912486557158, 146.43775408753862, 142.3019100348176, 142.2692145115381, 138.0367946687841, 139.65209397481175, 141.07032056256503, 136.99392655512625, 172.75776908139255, 141.448248392583, 140.6946987969146, 188.87050445616512, 181.8310107871059, 150.54003435861313, 187.84443214431278, 130.6692808328922, 119.99975460664169, 311.96736099811767, 376.122938577213, 250.8944444728288, 184.89004709451564, 652.6424343200854, 494.43078903391904, 172.27787549358186, 621.6268267875977, 166.7190772125974, 291.13868682361436, 292.6604095693601, 188.60094328098606, 294.6892447670237, 588.6304176818157, 2807.637827984933, 231.40176738429255, 620.8658239412248, 573.7622340161303, 2630.967229121689, 11178.49426644068, 2229.544018664079, 1000.0424581521756, 836.7577242050849, 5075.95664507516, 909.3284949603539, 360.5250176127878, 495.89208882611837, 411.867958911747, 1354.3506066752236, 6983.104020112541, 604.4153272844553, 3970.8583417645355, 1680.5504480430363, 2413.6782417533573, 2440.6445256930306, 824.2034880420732, 749.0328090048347, 1059.3360873757763, 7304.778851798692, 3503.9598800013946, 8648.00049707341, 1162.2345766128753], \"loglift\": [30.0, 29.0, 28.0, 27.0, 26.0, 25.0, 24.0, 23.0, 22.0, 21.0, 20.0, 19.0, 18.0, 17.0, 16.0, 15.0, 14.0, 13.0, 12.0, 11.0, 10.0, 9.0, 8.0, 7.0, 6.0, 5.0, 4.0, 3.0, 2.0, 1.0, 0.6898, 0.6872, 0.6855, 0.6852, 0.685, 0.6836, 0.6836, 0.6834, 0.6831, 0.6821, 0.6807, 0.6798, 0.6789, 0.6788, 0.6786, 0.6785, 0.6785, 0.6785, 0.6784, 0.6783, 0.6782, 0.6772, 0.6764, 0.6755, 0.6755, 0.675, 0.6741, 0.6739, 0.6731, 0.6729, 0.6629, 0.6726, 0.6629, 0.6623, 0.6409, 0.6721, 0.658, 0.6602, 0.6366, 0.6712, 0.6255, 0.641, 0.6343, 0.663, 0.6632, 0.6547, 0.6303, 0.6322, 0.5774, 0.6229, 0.599, 0.5853, 0.5949, 0.6359, 0.5592, 0.5719, 0.5721, 0.5632, 0.5957, 0.5266, 0.5331, 0.5852, 0.553, 0.4926, 0.4491, 0.4009, 0.3643, 0.4407, 0.5091, 0.4779, 0.3786, 0.1607, 0.2832, 0.2117, -0.1406, 0.2972, 0.3401, 0.2532, 0.9652, 0.9648, 0.9648, 0.9642, 0.964, 0.9635, 0.9634, 0.9633, 0.9633, 0.9632, 0.9631, 0.9631, 0.963, 0.9628, 0.9627, 0.9626, 0.9623, 0.9616, 0.9616, 0.9611, 0.9611, 0.9611, 0.961, 0.9608, 0.9607, 0.9604, 0.9604, 0.9603, 0.9602, 0.9602, 0.9551, 0.9516, 0.9565, 0.9591, 0.9564, 0.9564, 0.9587, 0.9535, 0.9419, 0.9557, 0.9564, 0.9542, 0.9193, 0.917, 0.9092, 0.9472, 0.8946, 0.8933, 0.9219, 0.8842, 0.8593, 0.7426, 0.8533, 0.8129, 0.8409, 0.8249, 0.8834, 0.8479, 0.9137, 0.811, 0.8153, 0.8633, 0.792, 0.8513, 0.7569, 0.8126, 0.7095, 0.8408, 0.7437, 0.7707, 0.6967, 0.6975, 0.4452, 0.697, 0.6758, 0.0669, 0.3838, 0.3706, 0.6245, 0.351, 0.4662, 0.4997, 0.4527, 0.6097, -0.5174, 0.3466, 0.2148, 0.2345, -0.1365, 0.1358, -0.0873, 0.1687, 0.2363, -0.6449, 0.0293, -0.1148, 0.3455, -0.3265, -0.596, -0.2859, -0.3615, 2.1336, 2.1335, 2.1333, 2.133, 2.1317, 2.1313, 2.1312, 2.1307, 2.1303, 2.1299, 2.1295, 2.1294, 2.1294, 2.1294, 2.1294, 2.1293, 2.1293, 2.1292, 2.1292, 2.1292, 2.1291, 2.1291, 2.129, 2.129, 2.1289, 2.1289, 2.1289, 2.1289, 2.1282, 2.1281, 2.1276, 2.1235, 2.1267, 2.1273, 2.1086, 2.106, 2.1266, 2.0851, 2.1245, 2.1012, 2.1008, 2.111, 2.0703, 2.0027, 1.8194, 2.0654, 1.8594, 1.8524, 1.4822, 1.0486, 1.447, 1.6633, 1.6782, 1.1232, 1.6429, 1.9128, 1.7702, 1.8408, 1.3483, 0.521, 1.6556, 0.6272, 1.0902, 0.8816, 0.7731, 1.3818, 1.4471, 1.1629, -0.409, 0.056, -0.9048, 1.0139], \"logprob\": [30.0, 29.0, 28.0, 27.0, 26.0, 25.0, 24.0, 23.0, 22.0, 21.0, 20.0, 19.0, 18.0, 17.0, 16.0, 15.0, 14.0, 13.0, 12.0, 11.0, 10.0, 9.0, 8.0, 7.0, 6.0, 5.0, 4.0, 3.0, 2.0, 1.0, -5.4328, -7.4465, -7.6217, -5.9407, -5.5337, -7.7787, -8.0664, -7.4402, -6.6396, -8.2606, -8.4826, -8.5948, -8.755, -8.5636, -8.6759, -8.5166, -8.4828, -8.5212, -8.5103, -8.6626, -7.8581, -8.3839, -7.7585, -8.5045, -6.1069, -8.6599, -8.9874, -8.8931, -8.8748, -9.0572, -3.6397, -4.6585, -4.9098, -5.1258, -3.3004, -6.5066, -5.505, -6.0923, -3.8555, -7.4802, -3.8826, -5.6173, -5.4847, -7.0015, -7.1418, -6.7497, -5.5671, -5.7166, -3.6329, -5.3747, -4.6733, -4.2561, -4.7255, -6.1198, -3.829, -4.6989, -4.7601, -4.6195, -5.4748, -4.383, -4.486, -5.326, -5.0627, -4.6355, -4.4308, -4.2011, -4.1926, -4.6644, -5.0588, -4.9662, -4.7879, -4.2579, -4.763, -4.7093, -4.2721, -4.8832, -4.9388, -4.9542, -6.5419, -6.3454, -6.7833, -7.0189, -7.0976, -7.1756, -7.3721, -6.9816, -7.2357, -7.0871, -6.7674, -7.3405, -7.4595, -7.4508, -7.5604, -7.5041, -6.9837, -7.626, -7.5742, -7.4894, -7.574, -7.5191, -7.7298, -7.9201, -7.8553, -7.8917, -7.8428, -7.8462, -7.8838, -7.0719, -6.1885, -6.0453, -6.5941, -7.035, -6.7881, -6.9308, -7.2401, -6.7598, -5.7005, -7.1222, -7.1705, -7.0916, -5.5028, -5.9626, -5.7849, -7.0527, -5.8532, -5.8492, -6.6618, -6.0901, -5.9217, -4.6348, -5.9247, -5.5661, -5.852, -5.773, -6.3635, -6.0844, -6.6703, -5.9406, -5.9711, -6.3144, -5.8778, -6.2842, -5.7142, -6.071, -5.5333, -6.236, -5.8252, -5.945, -5.6597, -5.6654, -4.7801, -5.7904, -5.7676, -4.3517, -5.1437, -5.1433, -5.6557, -5.1475, -5.5013, -5.5546, -5.5298, -5.7146, -4.6489, -5.479, -5.3933, -5.4298, -5.1826, -5.4143, -5.2946, -5.4536, -5.5505, -5.2018, -5.5205, -5.5288, -5.6537, -5.5069, -5.476, -5.5649, -5.6531, -4.4273, -4.3361, -4.6887, -4.3401, -5.7035, -5.7174, -5.7718, -6.0322, -6.1443, -6.1836, -6.331, -6.1004, -6.2496, -6.2977, -6.3373, -6.366, -6.3663, -6.3965, -6.3849, -6.3748, -6.4042, -6.1722, -6.3723, -6.3777, -6.0833, -6.1213, -6.3101, -6.0888, -6.4523, -6.5376, -5.5827, -5.3998, -5.8015, -6.1062, -4.8636, -5.1438, -6.1775, -4.9358, -6.2124, -5.6783, -5.6734, -6.1026, -5.697, -5.0727, -3.6937, -5.9437, -5.1627, -5.2486, -4.0959, -3.0828, -4.2967, -4.8821, -5.0455, -3.7977, -4.9977, -5.6529, -5.4767, -5.5917, -4.8938, -4.0809, -5.3933, -4.5393, -4.9362, -4.7827, -4.8802, -5.357, -5.3874, -5.3249, -4.9659, -5.2355, -5.293, -5.3813]}, \"token.table\": {\"Topic\": [1, 3, 1, 2, 3, 1, 2, 3, 1, 2, 3, 3, 2, 3, 1, 2, 3, 1, 2, 3, 1, 1, 2, 3, 1, 2, 3, 3, 2, 1, 2, 3, 1, 2, 3, 1, 2, 1, 2, 3, 1, 2, 3, 1, 2, 3, 1, 2, 3, 2, 1, 2, 3, 1, 2, 3, 1, 2, 3, 2, 3, 1, 2, 3, 1, 2, 3, 2, 1, 2, 3, 2, 3, 1, 2, 3, 1, 2, 3, 3, 1, 2, 3, 3, 1, 2, 3, 2, 3, 2, 1, 2, 3, 1, 2, 3, 3, 1, 2, 3, 3, 1, 3, 1, 2, 3, 1, 2, 1, 2, 3, 1, 2, 3, 1, 2, 3, 1, 2, 3, 2, 3, 2, 1, 2, 3, 1, 2, 3, 1, 1, 2, 2, 1, 2, 3, 1, 2, 3, 1, 3, 1, 2, 3, 1, 2, 3, 1, 3, 1, 1, 1, 2, 1, 2, 3, 1, 2, 3, 1, 2, 3, 1, 2, 2, 3, 1, 2, 3, 1, 2, 3, 1, 2, 1, 2, 3, 1, 3, 1, 2, 3, 2, 1, 2, 3, 1, 2, 3, 3, 1, 2, 3, 1, 2, 3, 1, 2, 1, 2, 3, 1, 2, 3, 1, 2, 1, 2, 1, 2, 3, 3, 1, 2, 3, 1, 2, 3, 1, 2, 3, 1, 2, 3, 1, 2, 3, 2, 1, 2, 3, 1, 2, 3, 3, 1, 2, 3, 1, 2, 3, 1, 2, 3, 1, 2, 3, 2, 2, 3, 1, 2, 3, 1, 2, 1, 3, 1, 2, 3, 1, 2, 3, 1, 2, 3, 1, 2, 3, 1, 2, 3, 3, 1, 2, 3, 1, 2, 3, 1, 2, 3, 1, 2, 3, 2, 1, 2, 3, 1, 2, 3, 3, 1, 2, 3, 2, 1, 2, 3, 1, 2, 3, 2, 3, 1, 2, 3, 1, 2, 1, 2, 3, 1, 1, 2, 3, 1, 2, 3, 3, 2, 1, 2, 3, 1, 3, 1, 2, 3, 1, 1, 3, 1, 2, 1, 2, 3, 1, 1, 1, 2, 3, 1, 2, 3, 2, 1, 2, 3, 3, 3, 3, 2, 3, 1, 1, 2, 3, 1, 2, 3, 1, 2, 1, 1, 2, 1, 2, 1, 2, 3, 1, 2, 3, 1, 2, 3, 1, 2, 1, 2, 3, 1, 2, 3, 1, 2, 3, 1, 2, 3, 1, 2, 2, 1, 2, 3, 2, 2, 3, 1, 2, 1, 2, 3, 1, 2, 3, 1, 2, 3, 1, 2, 1, 2, 3, 1, 2, 1, 2, 3, 3, 1, 2, 3, 1, 1, 3, 2, 3, 1, 2, 3, 2, 1, 2, 3, 2, 3, 1, 2, 2, 1, 2, 3, 1, 2, 3, 3, 3, 1, 2, 3, 1, 2, 3, 1, 2, 3, 1, 2, 1, 2, 3, 1, 2, 1, 2, 3, 2, 1, 2, 3, 1, 2, 3, 1, 3, 1, 2, 3, 1, 2, 1, 1, 2, 3, 1, 2, 3, 1, 2, 3, 1, 2, 3, 1, 2, 3, 1, 2, 3, 1, 2, 3, 1, 2, 3, 1, 2, 1, 2, 3, 2, 3, 1, 2, 3, 3, 1, 2, 2, 1, 2, 3, 2, 1, 2, 3, 1, 2, 3, 1, 3], \"Freq\": [0.9883173615810917, 0.007320869345045124, 0.9725276103195674, 0.0035236507620274183, 0.024665555334191926, 0.10599311513025644, 0.8921087190129918, 0.0012618227991697197, 0.37498407886891594, 0.0009999575436504425, 0.6239735072378761, 0.9916686945742608, 0.19693501568941227, 0.8016087258343683, 0.4666443067880982, 0.07752793071637708, 0.45556888811433005, 0.8206596864289782, 0.17911030958978585, 0.00024236848388333677, 0.9957682974874593, 0.8717170496392883, 0.0035515859876657286, 0.12470013023359669, 0.006833859089252736, 0.027335436357010943, 0.9669910611292621, 0.9946937132131286, 0.9920951644625919, 0.06697790287875784, 0.9291661799362223, 0.004871120209364206, 0.9679879065567996, 0.027968642825108372, 0.004092972120747567, 0.012859523760870822, 0.9869684486468356, 0.016544914644915535, 0.36398812218814175, 0.618779807719841, 0.014153813804769003, 0.7633623578705415, 0.22268667052836563, 0.002203478496066004, 0.9750392345092067, 0.02203478496066004, 0.13553355707630466, 0.8104164063535203, 0.05384209801661418, 0.9940936753544467, 0.25192614215707176, 0.747651776724213, 0.0009029610830002573, 0.10206759668590255, 0.8811835847216254, 0.017011266114317095, 0.5265718404141481, 0.1471303671745414, 0.32609595999503616, 0.06108129264856779, 0.9365798206113729, 0.08792076771719494, 0.7728161599343354, 0.13890003639355167, 0.008196392402216713, 0.9890313498674835, 0.0027321308007389046, 0.9979353152876448, 0.9418873140596932, 0.028948560627022054, 0.028948560627022054, 0.00797147981575413, 0.9924492370613891, 0.8885230860116612, 0.05142757087956768, 0.060371496249927284, 0.9348879516528089, 0.06359781984032714, 0.001156323997096857, 0.9927447400033002, 0.12059720620127064, 0.856801081267167, 0.022436689525817795, 0.9964126860943404, 0.12013555970410641, 0.8672944354077156, 0.01159202769074711, 0.005388878247796002, 0.9969424758422604, 0.9973157882431486, 0.23578924892413716, 0.7640238207188472, 0.0008331775580358204, 0.5889002956290665, 0.4065080988046796, 0.0045300022740697434, 0.9924128579399496, 0.03303956168122545, 0.5890481854024195, 0.3785389781191831, 0.9948780552810409, 0.0058045758756599865, 0.9925824747378577, 0.27822728684096787, 0.10997125962093593, 0.6114402034924038, 0.9899174073113096, 0.012373967591391371, 0.28915879535629035, 0.7102414973472807, 0.000766999457178489, 0.7792056260423383, 0.21386707608396097, 0.006868377858731858, 0.0031410620914042826, 0.9847229656552425, 0.01256424836561713, 0.14009814543967394, 0.8553360458422199, 0.004915724401392069, 0.9931386030992424, 0.9981077107056335, 0.9974547199216998, 0.21125395868264515, 0.28570864475763263, 0.5027933921088009, 0.9857535709738708, 0.013231591556696252, 0.9976493830378259, 0.9867925212153889, 0.9949826052275215, 0.014214037217536021, 0.9971111609281117, 0.5636056492906756, 0.4353622654848628, 0.0007391549498894105, 0.0034857644533358633, 0.2422606295068425, 0.7546680041472145, 0.006410927071348555, 0.993693696059026, 0.09409715698890064, 0.9014507639536681, 0.005645829419334039, 0.9859564393965777, 0.006336480972985718, 0.007603777167582862, 0.9895069367333678, 0.013936717418779826, 0.9822138271596595, 0.9892806883993029, 0.003270623655940039, 0.9975402150617119, 0.3458909680024927, 0.5934901396923079, 0.06063108087765701, 0.3568163682874784, 0.5379018921659804, 0.1056332222624595, 0.6605853524130583, 0.3390015651299435, 0.0006451028832158772, 0.00692215494617268, 0.9967903122488659, 0.30450173213581405, 0.695715878058648, 0.7488074049791583, 0.05198261388552964, 0.19919508516466042, 0.9948730159033257, 0.0032512190062200185, 0.0021674793374800126, 0.004053029020831056, 0.9970451391244399, 0.0009301641723102892, 0.0009301641723102892, 0.9989963210612506, 0.005323554116481574, 0.9955046197820544, 0.625390330426478, 0.02261163896879749, 0.35226553340863453, 0.9993156553568124, 0.88877636633719, 0.04637094085237513, 0.06509766696583431, 0.028239361531373464, 0.954490419760423, 0.016943616918824077, 0.9970106473548007, 0.34217499859004163, 0.5582474897799518, 0.10008709040067743, 0.9004103434916019, 0.09704069072966028, 0.0031816619911364022, 0.9840246896030441, 0.014057495565757774, 0.5213053406612022, 0.47117229512804376, 0.007049959528100405, 0.6098814122264292, 0.2648432150426422, 0.12500143123779878, 0.9866042180067819, 0.02013477995932208, 0.9904696184154073, 0.01414956597736296, 0.28391047040564693, 0.24387181432279928, 0.4707575321256026, 0.999246735148045, 0.004422180355483028, 0.9949905799836812, 0.994997778181002, 0.6074280574858052, 0.3916506939993635, 0.0011084453603755569, 0.4569963609938768, 0.5401823345388451, 0.0028079653517288894, 0.004503106213788353, 0.995186473247226, 0.9950623669345399, 0.1460768875317163, 0.8390928190775332, 0.013588547677368959, 0.9940047083623551, 0.947758021386891, 0.037021797710425436, 0.016042779007851022, 0.8545418981444171, 0.14126455589874645, 0.003911941547965286, 0.9992892323187943, 0.46099765588309793, 0.5368653605573264, 0.0017374283513182083, 0.8932835066065488, 0.07520655375807654, 0.03155384366168977, 0.05341517717991277, 0.2015208957242164, 0.7453845179196918, 0.010725628049749036, 0.013790093206820188, 0.9744999199486266, 0.9951803479211064, 0.9909044216097525, 0.007651771595442104, 0.9518902599361081, 0.022928203619284656, 0.02522102398121312, 0.01712747824538768, 0.9805481295484447, 0.9927067868610538, 0.006799361553842835, 0.6655839188565861, 0.33178722020157225, 0.0026793046045887397, 0.7858794424208769, 0.20951742593896333, 0.004727378744110183, 0.7045340983270146, 0.2857590302814371, 0.0095816637372474, 0.20026777138927732, 0.798894261955052, 0.0009329244008817267, 0.43574741677180856, 0.22659581332026096, 0.337702011560989, 0.9924889977974941, 0.6141820261901323, 0.12947399618150887, 0.25648962534691316, 0.2805052042576641, 0.19878620843734193, 0.5211011314867988, 0.6749268024906141, 0.2742608346102609, 0.050562053308036925, 0.8344395988293111, 0.164404916451041, 0.001504850493831039, 0.9943114845087041, 0.9731491333222465, 0.021231572669842838, 0.005626366757508352, 0.7218562131694929, 0.1994584681562585, 0.07857869644591103, 0.9956136902819372, 0.23366826209209063, 0.4805942979199027, 0.2858707461764939, 0.9970497199625832, 0.9522828288199179, 0.0007504198808667595, 0.04727645249460585, 0.9098078641931154, 0.049750259149315953, 0.04042208555881921, 0.021208801665645025, 0.9756048766196711, 0.9731055361891037, 0.023061164610542084, 0.0037805187886134563, 0.9925075094349413, 0.016270614908769528, 0.9737121127246878, 0.024495902206910385, 0.003061987775863798, 0.9956309694509631, 0.27248030511651233, 0.09441203554475647, 0.6333972004901384, 0.024270333211746598, 0.004045055535291099, 0.9728358562375093, 0.99752837648632, 0.9911943106891242, 0.912881852050053, 0.07558359400598415, 0.011477508719427224, 0.005499611951070519, 0.9954297631437639, 0.6458581079272655, 0.34837512889009287, 0.005508944056243938, 0.984888981623916, 0.9880735725115356, 0.9968310078231658, 0.9934491266249599, 0.004846093300609561, 0.49731052562084743, 0.4813890963636828, 0.02107247989918845, 0.9997214769816835, 0.9985609300811856, 0.23589005610321573, 0.7631250236040874, 0.0008276844073797044, 0.05084892554402592, 0.9491799434884839, 0.00282494030800144, 0.9977153785936531, 0.995629480945771, 0.0058223946254138655, 0.9977083894254093, 0.997878383819699, 0.9994452439473295, 0.9979407298884014, 0.06482232253260739, 0.9334414444695464, 0.9972853608504526, 0.9459460020533152, 0.0039169606710282205, 0.050267661944862166, 0.9813340413454797, 0.0018835586206247213, 0.016952027585622493, 0.007312385560932176, 0.9944844362867759, 0.9924819824888307, 0.009723490269184443, 0.9917960074568132, 0.9938917100838988, 0.014834204628117891, 0.006121355663367101, 0.9304460608317994, 0.06366209889901785, 0.9090302576390609, 0.05228025391268266, 0.038769626497045566, 0.07461413442825247, 0.9195687918725169, 0.006049794683371822, 0.010912257623972512, 0.9875593149695123, 0.001610653963286384, 0.23837678656638484, 0.7602286706711733, 0.4459089820910892, 0.5507029395129759, 0.003207978288425102, 0.877196989358083, 0.07493061548959105, 0.0478723376739054, 0.09879407031357736, 0.399181446267022, 0.5033157365975496, 0.10125387304173862, 0.8973624498324084, 0.9979788298511053, 0.05452914384503907, 0.9432381690641864, 0.0011601945498944484, 0.9941527997490389, 0.005998113813482885, 0.9896887792246759, 0.004057657788494018, 0.9941261581810343, 0.11722126129964619, 0.006795435437660649, 0.8766111714582236, 0.010304367422724354, 0.024043523986356827, 0.9686105377360893, 0.26532144860547763, 0.6997753010047794, 0.035269316430939626, 0.0021483067796706817, 0.9968143457671964, 0.1089516357037115, 0.8878085990451084, 0.002944638802803013, 0.14223657132728929, 0.8568060129953379, 0.3958206506655989, 0.5980024218688904, 0.006264787276721709, 0.9977190664130104, 0.04504310109120702, 0.0032173643636576447, 0.9523398516426628, 0.9851203801554219, 0.005408619964755598, 0.99518607351503, 0.9862469291799604, 0.008965881174363276, 0.9725123052991939, 0.025789863448146412, 0.0018756264325924664, 0.9975236382723354, 0.15868507752228245, 0.7995680357735652, 0.04197476244137794, 0.01063482066563418, 0.9890383219039787, 0.37323853741655605, 0.6265512496959892, 0.9977947395280353, 0.035923209649421396, 0.8818568562325704, 0.08343455144381744, 0.009950314219488655, 0.9883978791358731, 0.0033167714064962182, 0.9960483667315186, 0.9953305821899859, 0.6197846475013415, 0.016548604701243703, 0.3638722962285371, 0.8807567263012673, 0.11185431252358437, 0.007422826231542212, 0.9004039100073278, 0.03129308396065071, 0.06840813703025969, 0.006719745045806917, 0.9945222667794238, 0.9372804236970931, 0.05853114189707855, 0.004171484500459941, 0.9920411904283867, 0.006526586779134123, 0.9815272812530699, 0.004982371986056193, 0.009964743972112385, 0.9942978780053124, 0.04748591800008731, 0.9511150046488076, 0.0013966446470613915, 0.7323353667428408, 0.046085753821850026, 0.2216145538974209, 0.005294632970242792, 0.9953909984056448, 0.5410542291351089, 0.4500840246770032, 0.008739495624796178, 0.009259463438211313, 0.9907625878886106, 0.9904968741311264, 0.005223868541221791, 0.9925350228321402, 0.005223868541221791, 0.808740278843009, 0.12398689848271367, 0.06747812437531066, 0.1730973961481726, 0.8216198324019426, 0.004742394415018427, 0.982667596850888, 0.0005937568561032555, 0.016922070398942782, 0.947723407939714, 0.04464704832313801, 0.007569470836394088, 0.9704535893720849, 0.02828952161667675, 0.001229979200725076, 0.2502018410503867, 0.6058699290009363, 0.14417460347522282, 0.045963689706344325, 0.9537465614066447, 0.0008839171097373908, 0.0798404539749565, 0.9197006140576719, 0.8489943306620028, 0.10069512937652109, 0.05025018061729679, 0.9919158059487171, 0.00425714938175415, 0.10101828980781612, 0.8911256279475207, 0.007215592129129722, 0.9987238058888412, 0.1399664485951661, 0.8588850254703374, 0.998563868614778, 0.9438934232925942, 0.050110965031199516, 0.00575043861013765, 0.9960141812293298, 0.9655188594793223, 0.03304954531225064, 0.002360681808017903, 0.994633016702387, 0.0007212712231344358, 0.004327627338806615, 0.2699778413172412, 0.7297949826636243], \"Term\": [\"admit\", \"admit\", \"ahead\", \"ahead\", \"ahead\", \"air\", \"air\", \"air\", \"alright\", \"alright\", \"alright\", \"america\", \"arrive\", \"arrive\", \"ask\", \"ask\", \"ask\", \"away\", \"away\", \"away\", \"awhile\", \"baby\", \"baby\", \"baby\", \"band\", \"band\", \"band\", \"bang\", \"bare\", \"bear\", \"bear\", \"bear\", \"believe\", \"believe\", \"believe\", \"beneath\", \"beneath\", \"bird\", \"bird\", \"bird\", \"black\", \"black\", \"black\", \"blood\", \"blood\", \"blood\", \"blue\", \"blue\", \"blue\", \"boat\", \"body\", \"body\", \"body\", \"bone\", \"bone\", \"bone\", \"boy\", \"boy\", \"boy\", \"breathing\", \"breathing\", \"burn\", \"burn\", \"burn\", \"bury\", \"bury\", \"bury\", \"bye\", \"care\", \"care\", \"care\", \"cat\", \"cat\", \"cause\", \"cause\", \"cause\", \"change\", \"change\", \"change\", \"cheese\", \"child\", \"child\", \"child\", \"chord\", \"city\", \"city\", \"city\", \"class\", \"class\", \"coat\", \"cold\", \"cold\", \"cold\", \"come\", \"come\", \"come\", \"culture\", \"cut\", \"cut\", \"cut\", \"daddy\", \"damage\", \"damage\", \"dance\", \"dance\", \"dance\", \"danger\", \"danger\", \"dark\", \"dark\", \"dark\", \"day\", \"day\", \"day\", \"death\", \"death\", \"death\", \"deep\", \"deep\", \"deep\", \"desert\", \"desk\", \"diamond\", \"die\", \"die\", \"die\", \"difference\", \"difference\", \"dip\", \"disagree\", \"discover\", \"discover\", \"dive\", \"dream\", \"dream\", \"dream\", \"drop\", \"drop\", \"drop\", \"drunk\", \"drunk\", \"earth\", \"earth\", \"earth\", \"easy\", \"easy\", \"easy\", \"emotion\", \"emotion\", \"ending\", \"enjoy\", \"escape\", \"escape\", \"eye\", \"eye\", \"eye\", \"face\", \"face\", \"face\", \"fall\", \"fall\", \"fall\", \"fame\", \"fame\", \"feed\", \"feed\", \"feel\", \"feel\", \"feel\", \"feeling\", \"feeling\", \"feeling\", \"field\", \"field\", \"fuck\", \"fuck\", \"fuck\", \"gimme\", \"gimme\", \"girl\", \"girl\", \"girl\", \"glass\", \"good\", \"good\", \"good\", \"green\", \"green\", \"green\", \"gum\", \"hand\", \"hand\", \"hand\", \"hard\", \"hard\", \"hard\", \"haze\", \"haze\", \"hear\", \"hear\", \"hear\", \"heart\", \"heart\", \"heart\", \"heartache\", \"heartache\", \"heartbeat\", \"heartbeat\", \"hell\", \"hell\", \"hell\", \"hey\", \"highway\", \"highway\", \"hiss\", \"hold\", \"hold\", \"hold\", \"home\", \"home\", \"home\", \"horse\", \"horse\", \"host\", \"house\", \"house\", \"house\", \"hunger\", \"hurt\", \"hurt\", \"hurt\", \"ill\", \"ill\", \"ill\", \"important\", \"inside\", \"inside\", \"inside\", \"just\", \"just\", \"just\", \"kick\", \"kick\", \"kick\", \"kid\", \"kid\", \"kid\", \"killer\", \"knife\", \"knife\", \"know\", \"know\", \"know\", \"lake\", \"lake\", \"lately\", \"lately\", \"leave\", \"leave\", \"leave\", \"let\", \"let\", \"let\", \"life\", \"life\", \"life\", \"light\", \"light\", \"light\", \"like\", \"like\", \"like\", \"lipstick\", \"little\", \"little\", \"little\", \"live\", \"live\", \"live\", \"look\", \"look\", \"look\", \"lose\", \"lose\", \"lose\", \"loss\", \"love\", \"love\", \"love\", \"make\", \"make\", \"make\", \"mama\", \"man\", \"man\", \"man\", \"map\", \"maybe\", \"maybe\", \"maybe\", \"mean\", \"mean\", \"mean\", \"metal\", \"metal\", \"mind\", \"mind\", \"mind\", \"misery\", \"misery\", \"mistake\", \"mistake\", \"mistake\", \"mmm\", \"moment\", \"moment\", \"moment\", \"money\", \"money\", \"money\", \"monkey\", \"nail\", \"need\", \"need\", \"need\", \"news\", \"news\", \"night\", \"night\", \"night\", \"normal\", \"obvious\", \"oclock\", \"ohoh\", \"ohoh\", \"old\", \"old\", \"old\", \"ooh\", \"oooh\", \"open\", \"open\", \"open\", \"paint\", \"paint\", \"paint\", \"passion\", \"person\", \"person\", \"pistol\", \"pot\", \"probably\", \"punk\", \"queen\", \"queen\", \"reality\", \"really\", \"really\", \"really\", \"reason\", \"reason\", \"reason\", \"reflection\", \"reflection\", \"rely\", \"remain\", \"remain\", \"resist\", \"resist\", \"ride\", \"ride\", \"ride\", \"right\", \"right\", \"right\", \"ring\", \"ring\", \"ring\", \"river\", \"river\", \"rock\", \"rock\", \"rock\", \"run\", \"run\", \"run\", \"say\", \"say\", \"say\", \"scream\", \"scream\", \"scream\", \"sea\", \"sea\", \"seed\", \"set\", \"set\", \"set\", \"shall\", \"shark\", \"shark\", \"ship\", \"ship\", \"shit\", \"shit\", \"shit\", \"shoot\", \"shoot\", \"shoot\", \"sing\", \"sing\", \"sing\", \"sink\", \"sink\", \"skin\", \"skin\", \"skin\", \"sky\", \"sky\", \"sleep\", \"sleep\", \"sleep\", \"social\", \"somebody\", \"somebody\", \"somebody\", \"sooner\", \"special\", \"special\", \"spirit\", \"spirit\", \"stay\", \"stay\", \"stay\", \"stream\", \"street\", \"street\", \"street\", \"suck\", \"suck\", \"sun\", \"sun\", \"sweat\", \"sweet\", \"sweet\", \"sweet\", \"swim\", \"swim\", \"swim\", \"tattoo\", \"teen\", \"tell\", \"tell\", \"tell\", \"thing\", \"thing\", \"thing\", \"think\", \"think\", \"think\", \"throat\", \"throat\", \"time\", \"time\", \"time\", \"tomorrow\", \"tomorrow\", \"tough\", \"tough\", \"tough\", \"tower\", \"tree\", \"tree\", \"tree\", \"try\", \"try\", \"try\", \"tryin\", \"tryin\", \"turn\", \"turn\", \"turn\", \"underneath\", \"underneath\", \"used\", \"vein\", \"vein\", \"vein\", \"wait\", \"wait\", \"wait\", \"wall\", \"wall\", \"wall\", \"wanna\", \"wanna\", \"wanna\", \"want\", \"want\", \"want\", \"waste\", \"waste\", \"waste\", \"watch\", \"watch\", \"watch\", \"water\", \"water\", \"water\", \"wave\", \"wave\", \"way\", \"way\", \"way\", \"whoa\", \"whoa\", \"wild\", \"wild\", \"wild\", \"willing\", \"wind\", \"wind\", \"wing\", \"wish\", \"wish\", \"wish\", \"witness\", \"worth\", \"worth\", \"worth\", \"wrong\", \"wrong\", \"wrong\", \"yeah\", \"yeah\"]}, \"R\": 30, \"lambda.step\": 0.01, \"plot.opts\": {\"xlab\": \"PC1\", \"ylab\": \"PC2\"}, \"topic.order\": [3, 1, 2]};\n",
       "\n",
       "function LDAvis_load_lib(url, callback){\n",
       "  var s = document.createElement('script');\n",
       "  s.src = url;\n",
       "  s.async = true;\n",
       "  s.onreadystatechange = s.onload = callback;\n",
       "  s.onerror = function(){console.warn(\"failed to load library \" + url);};\n",
       "  document.getElementsByTagName(\"head\")[0].appendChild(s);\n",
       "}\n",
       "\n",
       "if(typeof(LDAvis) !== \"undefined\"){\n",
       "   // already loaded: just create the visualization\n",
       "   !function(LDAvis){\n",
       "       new LDAvis(\"#\" + \"ldavis_el1504818772280121928494236186\", ldavis_el1504818772280121928494236186_data);\n",
       "   }(LDAvis);\n",
       "}else if(typeof define === \"function\" && define.amd){\n",
       "   // require.js is available: use it to load d3/LDAvis\n",
       "   require.config({paths: {d3: \"https://cdnjs.cloudflare.com/ajax/libs/d3/3.5.5/d3.min\"}});\n",
       "   require([\"d3\"], function(d3){\n",
       "      window.d3 = d3;\n",
       "      LDAvis_load_lib(\"https://cdn.rawgit.com/bmabey/pyLDAvis/files/ldavis.v1.0.0.js\", function(){\n",
       "        new LDAvis(\"#\" + \"ldavis_el1504818772280121928494236186\", ldavis_el1504818772280121928494236186_data);\n",
       "      });\n",
       "    });\n",
       "}else{\n",
       "    // require.js not available: dynamically load d3 & LDAvis\n",
       "    LDAvis_load_lib(\"https://cdnjs.cloudflare.com/ajax/libs/d3/3.5.5/d3.min.js\", function(){\n",
       "         LDAvis_load_lib(\"https://cdn.rawgit.com/bmabey/pyLDAvis/files/ldavis.v1.0.0.js\", function(){\n",
       "                 new LDAvis(\"#\" + \"ldavis_el1504818772280121928494236186\", ldavis_el1504818772280121928494236186_data);\n",
       "            })\n",
       "         });\n",
       "}\n",
       "</script>"
      ],
      "text/plain": [
       "PreparedData(topic_coordinates=              x         y  topics  cluster       Freq\n",
       "topic                                                \n",
       "2     -0.116840  0.138057       1        1  50.148004\n",
       "0     -0.129254 -0.133491       2        1  38.019699\n",
       "1      0.246095 -0.004566       3        1  11.832297, topic_info=     Category          Freq       Term         Total  loglift  logprob\n",
       "1162  Default  11178.000000       like  11178.000000  30.0000  30.0000\n",
       "2069  Default   5075.000000       tell   5075.000000  29.0000  29.0000\n",
       "1110  Default  13520.000000       know  13520.000000  28.0000  28.0000\n",
       "2338  Default   2807.000000       yeah   2807.000000  27.0000  27.0000\n",
       "1205  Default   9419.000000       love   9419.000000  26.0000  26.0000\n",
       "753   Default   6983.000000       feel   6983.000000  25.0000  25.0000\n",
       "1176  Default   2630.000000       live   2630.000000  24.0000  24.0000\n",
       "2248  Default   7794.000000       want   7794.000000  23.0000  23.0000\n",
       "2114  Default   7671.000000       time   7671.000000  22.0000  22.0000\n",
       "583   Default   2229.000000        die   2229.000000  21.0000  21.0000\n",
       "2168  Default   3970.000000        try   3970.000000  20.0000  20.0000\n",
       "1091  Default  10331.000000       just  10331.000000  19.0000  19.0000\n",
       "977   Default   1078.000000        hey   1078.000000  18.0000  18.0000\n",
       "839   Default   1075.000000       fuck   1075.000000  17.0000  17.0000\n",
       "1041  Default    984.000000  important    984.000000  16.0000  16.0000\n",
       "1700  Default   8648.000000        say   8648.000000  15.0000  15.0000\n",
       "2090  Default   5496.000000      think   5496.000000  14.0000  14.0000\n",
       "2247  Default   3368.000000      wanna   3368.000000  13.0000  13.0000\n",
       "868   Default   1680.000000       girl   1680.000000  12.0000  12.0000\n",
       "1232  Default   2413.000000        man   2413.000000  11.0000  11.0000\n",
       "1536  Default    758.000000   probably    758.000000  10.0000  10.0000\n",
       "1175  Default   2440.000000     little   2440.000000   9.0000   9.0000\n",
       "79    Default   1354.000000        ask   1354.000000   8.0000   8.0000\n",
       "38    Default   1000.000000    alright   1000.000000   7.0000   7.0000\n",
       "1160  Default   3215.000000      light   3215.000000   6.0000   6.0000\n",
       "101   Default   2534.000000       baby   2534.000000   5.0000   5.0000\n",
       "1094  Default    652.000000        kid    652.000000   4.0000   4.0000\n",
       "1279  Default   2645.000000       mind   2645.000000   3.0000   3.0000\n",
       "516   Default    909.000000      dance    909.000000   2.0000   2.0000\n",
       "1870  Default    621.000000   somebody    621.000000   1.0000   1.0000\n",
       "...       ...           ...        ...           ...      ...      ...\n",
       "240    Topic3    276.423242  breathing    294.689245   2.0703  -5.6970\n",
       "1770   Topic3    516.021174       shit    588.630418   2.0027  -5.0727\n",
       "2338   Topic3   2049.182477       yeah   2807.637828   1.8194  -3.6937\n",
       "1558   Topic3    215.990019      queen    231.401767   2.0654  -5.9437\n",
       "1650   Topic3    471.631669       rock    620.865824   1.8594  -5.1627\n",
       "644    Topic3    432.808262       drop    573.762234   1.8524  -5.2486\n",
       "1176   Topic3   1370.578392       live   2630.967229   1.4822  -4.0959\n",
       "1162   Topic3   3774.635369       like  11178.494266   1.0486  -3.0828\n",
       "583    Topic3   1121.236511        die   2229.544019   1.4470  -4.2967\n",
       "38     Topic3    624.404314    alright   1000.042458   1.6633  -4.8821\n",
       "1297   Topic3    530.267550     moment    836.757724   1.6782  -5.0455\n",
       "2069   Topic3   1846.739539       tell   5075.956645   1.1232  -3.7977\n",
       "516    Topic3    556.256562      dance    909.328495   1.6429  -4.9977\n",
       "70     Topic3    288.888336     arrive    360.525018   1.9128  -5.6529\n",
       "752    Topic3    344.529914       feed    495.892089   1.7702  -5.4767\n",
       "1093   Topic3    307.100212       kick    411.867959   1.8408  -5.5917\n",
       "79     Topic3    617.132833        ask   1354.350607   1.3483  -4.8938\n",
       "753    Topic3   1391.251229       feel   6983.104020   0.5210  -4.0809\n",
       "168    Topic3    374.490995       bird    604.415327   1.6556  -5.3933\n",
       "2168   Topic3    879.739437        try   3970.858342   0.6272  -4.5393\n",
       "868    Topic3    591.522415       girl   1680.550448   1.0902  -4.9362\n",
       "1232   Topic3    689.627574        man   2413.678242   0.8816  -4.7827\n",
       "1175   Topic3    625.618630     little   2440.644526   0.7731  -4.8802\n",
       "972    Topic3    388.346612       hell    824.203488   1.3818  -5.3570\n",
       "1715   Topic3    376.736224     scream    749.032809   1.4471  -5.3874\n",
       "505    Topic3    401.007439        cut   1059.336087   1.1629  -5.3249\n",
       "1226   Topic3    574.209647       make   7304.778852  -0.4090  -4.9659\n",
       "964    Topic3    438.499428      heart   3503.959880   0.0560  -5.2355\n",
       "1700   Topic3    414.027914        say   8648.000497  -0.9048  -5.2930\n",
       "226    Topic3    379.039732        boy   1162.234577   1.0139  -5.3813\n",
       "\n",
       "[281 rows x 6 columns], token_table=      Topic      Freq     Term\n",
       "term                          \n",
       "15        1  0.988317    admit\n",
       "15        3  0.007321    admit\n",
       "25        1  0.972528    ahead\n",
       "25        2  0.003524    ahead\n",
       "25        3  0.024666    ahead\n",
       "28        1  0.105993      air\n",
       "28        2  0.892109      air\n",
       "28        3  0.001262      air\n",
       "38        1  0.374984  alright\n",
       "38        2  0.001000  alright\n",
       "38        3  0.623974  alright\n",
       "42        3  0.991669  america\n",
       "70        2  0.196935   arrive\n",
       "70        3  0.801609   arrive\n",
       "79        1  0.466644      ask\n",
       "79        2  0.077528      ask\n",
       "79        3  0.455569      ask\n",
       "96        1  0.820660     away\n",
       "96        2  0.179110     away\n",
       "96        3  0.000242     away\n",
       "98        1  0.995768   awhile\n",
       "101       1  0.871717     baby\n",
       "101       2  0.003552     baby\n",
       "101       3  0.124700     baby\n",
       "116       1  0.006834     band\n",
       "116       2  0.027335     band\n",
       "116       3  0.966991     band\n",
       "117       3  0.994694     bang\n",
       "120       2  0.992095     bare\n",
       "137       1  0.066978     bear\n",
       "...     ...       ...      ...\n",
       "2256      3  0.144175    watch\n",
       "2257      1  0.045964    water\n",
       "2257      2  0.953747    water\n",
       "2257      3  0.000884    water\n",
       "2258      1  0.079840     wave\n",
       "2258      2  0.919701     wave\n",
       "2259      1  0.848994      way\n",
       "2259      2  0.100695      way\n",
       "2259      3  0.050250      way\n",
       "2286      2  0.991916     whoa\n",
       "2286      3  0.004257     whoa\n",
       "2292      1  0.101018     wild\n",
       "2292      2  0.891126     wild\n",
       "2292      3  0.007216     wild\n",
       "2293      3  0.998724  willing\n",
       "2296      1  0.139966     wind\n",
       "2296      2  0.858885     wind\n",
       "2299      2  0.998564     wing\n",
       "2307      1  0.943893     wish\n",
       "2307      2  0.050111     wish\n",
       "2307      3  0.005750     wish\n",
       "2311      2  0.996014  witness\n",
       "2327      1  0.965519    worth\n",
       "2327      2  0.033050    worth\n",
       "2327      3  0.002361    worth\n",
       "2335      1  0.994633    wrong\n",
       "2335      2  0.000721    wrong\n",
       "2335      3  0.004328    wrong\n",
       "2338      1  0.269978     yeah\n",
       "2338      3  0.729795     yeah\n",
       "\n",
       "[535 rows x 3 columns], R=30, lambda_step=0.01, plot_opts={'xlab': 'PC1', 'ylab': 'PC2'}, topic_order=[3, 1, 2])"
      ]
     },
     "execution_count": 26,
     "metadata": {},
     "output_type": "execute_result"
    }
   ],
   "source": [
    "LDA_model=LatentDirichletAllocation(n_components=3,learning_method='online',n_jobs= -1,random_state=0)\n",
    "\n",
    "LDA_result = LDA_model.fit_transform(bag_lyrics)\n",
    "\n",
    "pyLDAvis.enable_notebook()\n",
    "pyLDAvis.sklearn.prepare(LDA_model,bag_lyrics,vectorizer)"
   ]
  },
  {
   "cell_type": "code",
   "execution_count": 27,
   "metadata": {},
   "outputs": [
    {
     "data": {
      "text/html": [
       "<div>\n",
       "<style scoped>\n",
       "    .dataframe tbody tr th:only-of-type {\n",
       "        vertical-align: middle;\n",
       "    }\n",
       "\n",
       "    .dataframe tbody tr th {\n",
       "        vertical-align: top;\n",
       "    }\n",
       "\n",
       "    .dataframe thead th {\n",
       "        text-align: right;\n",
       "    }\n",
       "</style>\n",
       "<table border=\"1\" class=\"dataframe\">\n",
       "  <thead>\n",
       "    <tr style=\"text-align: right;\">\n",
       "      <th></th>\n",
       "      <th>Word 0</th>\n",
       "      <th>Word 1</th>\n",
       "      <th>Word 2</th>\n",
       "      <th>Word 3</th>\n",
       "      <th>Word 4</th>\n",
       "      <th>Word 5</th>\n",
       "      <th>Word 6</th>\n",
       "      <th>Word 7</th>\n",
       "      <th>Word 8</th>\n",
       "      <th>Word 9</th>\n",
       "      <th>Word 10</th>\n",
       "      <th>Word 11</th>\n",
       "      <th>Word 12</th>\n",
       "      <th>Word 13</th>\n",
       "      <th>Word 14</th>\n",
       "      <th>Word 15</th>\n",
       "      <th>Word 16</th>\n",
       "      <th>Word 17</th>\n",
       "      <th>Word 18</th>\n",
       "      <th>Word 19</th>\n",
       "    </tr>\n",
       "  </thead>\n",
       "  <tbody>\n",
       "    <tr>\n",
       "      <th>Topic 0</th>\n",
       "      <td>come</td>\n",
       "      <td>light</td>\n",
       "      <td>like</td>\n",
       "      <td>eye</td>\n",
       "      <td>run</td>\n",
       "      <td>hand</td>\n",
       "      <td>home</td>\n",
       "      <td>leave</td>\n",
       "      <td>make</td>\n",
       "      <td>night</td>\n",
       "      <td>hear</td>\n",
       "      <td>dream</td>\n",
       "      <td>man</td>\n",
       "      <td>turn</td>\n",
       "      <td>let</td>\n",
       "      <td>face</td>\n",
       "      <td>watch</td>\n",
       "      <td>water</td>\n",
       "      <td>look</td>\n",
       "      <td>hold</td>\n",
       "    </tr>\n",
       "    <tr>\n",
       "      <th>Topic 1</th>\n",
       "      <td>like</td>\n",
       "      <td>yeah</td>\n",
       "      <td>tell</td>\n",
       "      <td>feel</td>\n",
       "      <td>live</td>\n",
       "      <td>die</td>\n",
       "      <td>hey</td>\n",
       "      <td>fuck</td>\n",
       "      <td>important</td>\n",
       "      <td>try</td>\n",
       "      <td>probably</td>\n",
       "      <td>man</td>\n",
       "      <td>kid</td>\n",
       "      <td>little</td>\n",
       "      <td>alright</td>\n",
       "      <td>ask</td>\n",
       "      <td>somebody</td>\n",
       "      <td>girl</td>\n",
       "      <td>make</td>\n",
       "      <td>dance</td>\n",
       "    </tr>\n",
       "    <tr>\n",
       "      <th>Topic 2</th>\n",
       "      <td>know</td>\n",
       "      <td>just</td>\n",
       "      <td>love</td>\n",
       "      <td>say</td>\n",
       "      <td>want</td>\n",
       "      <td>time</td>\n",
       "      <td>make</td>\n",
       "      <td>feel</td>\n",
       "      <td>think</td>\n",
       "      <td>come</td>\n",
       "      <td>like</td>\n",
       "      <td>way</td>\n",
       "      <td>let</td>\n",
       "      <td>ill</td>\n",
       "      <td>thing</td>\n",
       "      <td>away</td>\n",
       "      <td>wanna</td>\n",
       "      <td>day</td>\n",
       "      <td>need</td>\n",
       "      <td>cause</td>\n",
       "    </tr>\n",
       "  </tbody>\n",
       "</table>\n",
       "</div>"
      ],
      "text/plain": [
       "        Word 0 Word 1 Word 2 Word 3 Word 4 Word 5 Word 6 Word 7     Word 8  \\\n",
       "Topic 0   come  light   like    eye    run   hand   home  leave       make   \n",
       "Topic 1   like   yeah   tell   feel   live    die    hey   fuck  important   \n",
       "Topic 2   know   just   love    say   want   time   make   feel      think   \n",
       "\n",
       "        Word 9   Word 10 Word 11 Word 12 Word 13  Word 14 Word 15   Word 16  \\\n",
       "Topic 0  night      hear   dream     man    turn      let    face     watch   \n",
       "Topic 1    try  probably     man     kid  little  alright     ask  somebody   \n",
       "Topic 2   come      like     way     let     ill    thing    away     wanna   \n",
       "\n",
       "        Word 17 Word 18 Word 19  \n",
       "Topic 0   water    look    hold  \n",
       "Topic 1    girl    make   dance  \n",
       "Topic 2     day    need   cause  "
      ]
     },
     "execution_count": 27,
     "metadata": {},
     "output_type": "execute_result"
    }
   ],
   "source": [
    "def show_topics(vectorizer=vectorizer, lda_model=LDA_model, n_words=20):\n",
    "    keywords = np.array(vectorizer.get_feature_names())\n",
    "    topic_keywords = []\n",
    "    for topic_weights in LDA_model.components_:\n",
    "        top_keyword_locs = (-topic_weights).argsort()[:n_words]\n",
    "        topic_keywords.append(keywords.take(top_keyword_locs))\n",
    "    return topic_keywords\n",
    "\n",
    "topic_keywords = show_topics(vectorizer=vectorizer, lda_model=LDA_model, n_words=20)\n",
    "\n",
    "df_topic_keywords = pd.DataFrame(topic_keywords)\n",
    "df_topic_keywords.columns = ['Word '+str(i) for i in range(df_topic_keywords.shape[1])]\n",
    "df_topic_keywords.index = ['Topic '+str(i) for i in range(df_topic_keywords.shape[0])]\n",
    "df_topic_keywords\n",
    "\n",
    "#topic 1 Ego\n",
    "#topic 2 Superego\n",
    "#topic 3 Id"
   ]
  },
  {
   "cell_type": "code",
   "execution_count": 28,
   "metadata": {},
   "outputs": [
    {
     "data": {
      "text/html": [
       "<div>\n",
       "<style scoped>\n",
       "    .dataframe tbody tr th:only-of-type {\n",
       "        vertical-align: middle;\n",
       "    }\n",
       "\n",
       "    .dataframe tbody tr th {\n",
       "        vertical-align: top;\n",
       "    }\n",
       "\n",
       "    .dataframe thead th {\n",
       "        text-align: right;\n",
       "    }\n",
       "</style>\n",
       "<table border=\"1\" class=\"dataframe\">\n",
       "  <thead>\n",
       "    <tr style=\"text-align: right;\">\n",
       "      <th>topic_theme</th>\n",
       "      <th>Ego</th>\n",
       "      <th>Super Ego</th>\n",
       "      <th>Id</th>\n",
       "    </tr>\n",
       "  </thead>\n",
       "  <tbody>\n",
       "    <tr>\n",
       "      <th>Word 0</th>\n",
       "      <td>come</td>\n",
       "      <td>like</td>\n",
       "      <td>know</td>\n",
       "    </tr>\n",
       "    <tr>\n",
       "      <th>Word 1</th>\n",
       "      <td>light</td>\n",
       "      <td>yeah</td>\n",
       "      <td>just</td>\n",
       "    </tr>\n",
       "    <tr>\n",
       "      <th>Word 2</th>\n",
       "      <td>like</td>\n",
       "      <td>tell</td>\n",
       "      <td>love</td>\n",
       "    </tr>\n",
       "    <tr>\n",
       "      <th>Word 3</th>\n",
       "      <td>eye</td>\n",
       "      <td>feel</td>\n",
       "      <td>say</td>\n",
       "    </tr>\n",
       "    <tr>\n",
       "      <th>Word 4</th>\n",
       "      <td>run</td>\n",
       "      <td>live</td>\n",
       "      <td>want</td>\n",
       "    </tr>\n",
       "    <tr>\n",
       "      <th>Word 5</th>\n",
       "      <td>hand</td>\n",
       "      <td>die</td>\n",
       "      <td>time</td>\n",
       "    </tr>\n",
       "    <tr>\n",
       "      <th>Word 6</th>\n",
       "      <td>home</td>\n",
       "      <td>hey</td>\n",
       "      <td>make</td>\n",
       "    </tr>\n",
       "    <tr>\n",
       "      <th>Word 7</th>\n",
       "      <td>leave</td>\n",
       "      <td>fuck</td>\n",
       "      <td>feel</td>\n",
       "    </tr>\n",
       "    <tr>\n",
       "      <th>Word 8</th>\n",
       "      <td>make</td>\n",
       "      <td>important</td>\n",
       "      <td>think</td>\n",
       "    </tr>\n",
       "    <tr>\n",
       "      <th>Word 9</th>\n",
       "      <td>night</td>\n",
       "      <td>try</td>\n",
       "      <td>come</td>\n",
       "    </tr>\n",
       "    <tr>\n",
       "      <th>Word 10</th>\n",
       "      <td>hear</td>\n",
       "      <td>probably</td>\n",
       "      <td>like</td>\n",
       "    </tr>\n",
       "    <tr>\n",
       "      <th>Word 11</th>\n",
       "      <td>dream</td>\n",
       "      <td>man</td>\n",
       "      <td>way</td>\n",
       "    </tr>\n",
       "    <tr>\n",
       "      <th>Word 12</th>\n",
       "      <td>man</td>\n",
       "      <td>kid</td>\n",
       "      <td>let</td>\n",
       "    </tr>\n",
       "    <tr>\n",
       "      <th>Word 13</th>\n",
       "      <td>turn</td>\n",
       "      <td>little</td>\n",
       "      <td>ill</td>\n",
       "    </tr>\n",
       "    <tr>\n",
       "      <th>Word 14</th>\n",
       "      <td>let</td>\n",
       "      <td>alright</td>\n",
       "      <td>thing</td>\n",
       "    </tr>\n",
       "    <tr>\n",
       "      <th>Word 15</th>\n",
       "      <td>face</td>\n",
       "      <td>ask</td>\n",
       "      <td>away</td>\n",
       "    </tr>\n",
       "    <tr>\n",
       "      <th>Word 16</th>\n",
       "      <td>watch</td>\n",
       "      <td>somebody</td>\n",
       "      <td>wanna</td>\n",
       "    </tr>\n",
       "    <tr>\n",
       "      <th>Word 17</th>\n",
       "      <td>water</td>\n",
       "      <td>girl</td>\n",
       "      <td>day</td>\n",
       "    </tr>\n",
       "    <tr>\n",
       "      <th>Word 18</th>\n",
       "      <td>look</td>\n",
       "      <td>make</td>\n",
       "      <td>need</td>\n",
       "    </tr>\n",
       "    <tr>\n",
       "      <th>Word 19</th>\n",
       "      <td>hold</td>\n",
       "      <td>dance</td>\n",
       "      <td>cause</td>\n",
       "    </tr>\n",
       "  </tbody>\n",
       "</table>\n",
       "</div>"
      ],
      "text/plain": [
       "topic_theme    Ego  Super Ego     Id\n",
       "Word 0        come       like   know\n",
       "Word 1       light       yeah   just\n",
       "Word 2        like       tell   love\n",
       "Word 3         eye       feel    say\n",
       "Word 4         run       live   want\n",
       "Word 5        hand        die   time\n",
       "Word 6        home        hey   make\n",
       "Word 7       leave       fuck   feel\n",
       "Word 8        make  important  think\n",
       "Word 9       night        try   come\n",
       "Word 10       hear   probably   like\n",
       "Word 11      dream        man    way\n",
       "Word 12        man        kid    let\n",
       "Word 13       turn     little    ill\n",
       "Word 14        let    alright  thing\n",
       "Word 15       face        ask   away\n",
       "Word 16      watch   somebody  wanna\n",
       "Word 17      water       girl    day\n",
       "Word 18       look       make   need\n",
       "Word 19       hold      dance  cause"
      ]
     },
     "execution_count": 28,
     "metadata": {},
     "output_type": "execute_result"
    }
   ],
   "source": [
    "Topics_theme = ['Ego','Super Ego','Id']\n",
    "df_topic_keywords['topic_theme'] = Topics_theme\n",
    "df_topic_keywords.set_index('topic_theme', inplace=True)\n",
    "df_topic_keywords.T"
   ]
  },
  {
   "cell_type": "code",
   "execution_count": 29,
   "metadata": {
    "scrolled": false
   },
   "outputs": [],
   "source": [
    "# get the topic fractions output from the LDA model\n",
    "LDA_result = LDA_model.transform(bag_lyrics)\n",
    "\n",
    "# get the names from the topics\n",
    "topicnames = df_topic_keywords.T.columns\n",
    "\n",
    "# index names\n",
    "index = range(len(songlyrics))\n",
    "\n",
    "# Make the pandas dataframe\n",
    "topics= pd.DataFrame(np.round(LDA_result, 3)*100, columns=topicnames, index=index)\n",
    "\n",
    "# Get dominant topic for each document\n",
    "dominant_topic = np.argmax(topics.values, axis=1)\n",
    "topics['dominant_topic'] = dominant_topic\n",
    "\n",
    "topics.reset_index(inplace=True)\n",
    "lyrics_topics= pd.merge(songlyrics, topics, left_index=True, right_index=True)\n",
    "\n",
    "lyrics_topics.drop(['rating','rating_interpretation','index','cleaned_lyrics','cleaned_lyrics_word_length','playcount','dominant_topic'], axis=1,inplace=True)\n"
   ]
  },
  {
   "cell_type": "code",
   "execution_count": 30,
   "metadata": {},
   "outputs": [],
   "source": [
    "lyrics_topics.to_csv('music_topics.csv')"
   ]
  },
  {
   "cell_type": "code",
   "execution_count": 31,
   "metadata": {},
   "outputs": [
    {
     "data": {
      "text/html": [
       "<div>\n",
       "<style scoped>\n",
       "    .dataframe tbody tr th:only-of-type {\n",
       "        vertical-align: middle;\n",
       "    }\n",
       "\n",
       "    .dataframe tbody tr th {\n",
       "        vertical-align: top;\n",
       "    }\n",
       "\n",
       "    .dataframe thead th {\n",
       "        text-align: right;\n",
       "    }\n",
       "</style>\n",
       "<table border=\"1\" class=\"dataframe\">\n",
       "  <thead>\n",
       "    <tr style=\"text-align: right;\">\n",
       "      <th></th>\n",
       "      <th>artist</th>\n",
       "      <th>album</th>\n",
       "      <th>title</th>\n",
       "      <th>lyrics</th>\n",
       "      <th>lyrics_word_length</th>\n",
       "      <th>artist_id</th>\n",
       "      <th>Ego</th>\n",
       "      <th>Super Ego</th>\n",
       "      <th>Id</th>\n",
       "    </tr>\n",
       "    <tr>\n",
       "      <th>song_id</th>\n",
       "      <th></th>\n",
       "      <th></th>\n",
       "      <th></th>\n",
       "      <th></th>\n",
       "      <th></th>\n",
       "      <th></th>\n",
       "      <th></th>\n",
       "      <th></th>\n",
       "      <th></th>\n",
       "    </tr>\n",
       "  </thead>\n",
       "  <tbody>\n",
       "    <tr>\n",
       "      <th>0</th>\n",
       "      <td>Bon Iver</td>\n",
       "      <td>22 A Million</td>\n",
       "      <td>00000 Million</td>\n",
       "      <td>Mustve been forces that took me on them wild c...</td>\n",
       "      <td>233</td>\n",
       "      <td>0</td>\n",
       "      <td>42.0</td>\n",
       "      <td>7.3</td>\n",
       "      <td>50.7</td>\n",
       "    </tr>\n",
       "    <tr>\n",
       "      <th>1</th>\n",
       "      <td>M83</td>\n",
       "      <td>Dead Cities Red Seas  Lost Ghosts</td>\n",
       "      <td>0078h</td>\n",
       "      <td>I was someone elses girl Every time you look i...</td>\n",
       "      <td>179</td>\n",
       "      <td>1</td>\n",
       "      <td>0.7</td>\n",
       "      <td>0.8</td>\n",
       "      <td>98.4</td>\n",
       "    </tr>\n",
       "    <tr>\n",
       "      <th>2</th>\n",
       "      <td>The Magnetic Fields</td>\n",
       "      <td>50 Song Memoir</td>\n",
       "      <td>02 Be True to Your Bar</td>\n",
       "      <td>Sitting in bars and cafés Writing songs about ...</td>\n",
       "      <td>197</td>\n",
       "      <td>2</td>\n",
       "      <td>0.6</td>\n",
       "      <td>18.6</td>\n",
       "      <td>80.8</td>\n",
       "    </tr>\n",
       "    <tr>\n",
       "      <th>3</th>\n",
       "      <td>The Magnetic Fields</td>\n",
       "      <td>50 Song Memoir</td>\n",
       "      <td>05 Never Again</td>\n",
       "      <td>Well walk in the rain Just having a day Never ...</td>\n",
       "      <td>150</td>\n",
       "      <td>2</td>\n",
       "      <td>50.3</td>\n",
       "      <td>0.8</td>\n",
       "      <td>48.8</td>\n",
       "    </tr>\n",
       "    <tr>\n",
       "      <th>4</th>\n",
       "      <td>The Magnetic Fields</td>\n",
       "      <td>50 Song Memoir</td>\n",
       "      <td>06 Quotes</td>\n",
       "      <td>For some of which you could have sued Oh the h...</td>\n",
       "      <td>101</td>\n",
       "      <td>2</td>\n",
       "      <td>19.2</td>\n",
       "      <td>8.3</td>\n",
       "      <td>72.5</td>\n",
       "    </tr>\n",
       "    <tr>\n",
       "      <th>5</th>\n",
       "      <td>Swearin</td>\n",
       "      <td>Swearin</td>\n",
       "      <td>1</td>\n",
       "      <td>Ignore the ghosts you can let me out Im not th...</td>\n",
       "      <td>43</td>\n",
       "      <td>3</td>\n",
       "      <td>24.0</td>\n",
       "      <td>2.8</td>\n",
       "      <td>73.2</td>\n",
       "    </tr>\n",
       "    <tr>\n",
       "      <th>6</th>\n",
       "      <td>Remember Sports</td>\n",
       "      <td>Slow Buzz</td>\n",
       "      <td>The 1 Bad Man</td>\n",
       "      <td>But I’m not getting over it And I know and I k...</td>\n",
       "      <td>169</td>\n",
       "      <td>4</td>\n",
       "      <td>0.7</td>\n",
       "      <td>0.7</td>\n",
       "      <td>98.6</td>\n",
       "    </tr>\n",
       "    <tr>\n",
       "      <th>7</th>\n",
       "      <td>Jay Som</td>\n",
       "      <td>Everybody Works</td>\n",
       "      <td>1 Billion Dogs</td>\n",
       "      <td>Just like a kid Cant see straight Im tired and...</td>\n",
       "      <td>103</td>\n",
       "      <td>5</td>\n",
       "      <td>29.7</td>\n",
       "      <td>34.6</td>\n",
       "      <td>35.7</td>\n",
       "    </tr>\n",
       "    <tr>\n",
       "      <th>8</th>\n",
       "      <td>Tapes n Tapes</td>\n",
       "      <td>The Loon</td>\n",
       "      <td>10 Gallon Ascots</td>\n",
       "      <td>Ill come to dinner and fight off the flirts I ...</td>\n",
       "      <td>102</td>\n",
       "      <td>6</td>\n",
       "      <td>77.8</td>\n",
       "      <td>0.8</td>\n",
       "      <td>21.4</td>\n",
       "    </tr>\n",
       "    <tr>\n",
       "      <th>9</th>\n",
       "      <td>La Sera</td>\n",
       "      <td>Hour Of The Dawn</td>\n",
       "      <td>10 Headed Goat Wizard</td>\n",
       "      <td>Double over in pain its just like the rain rai...</td>\n",
       "      <td>188</td>\n",
       "      <td>7</td>\n",
       "      <td>38.1</td>\n",
       "      <td>0.6</td>\n",
       "      <td>61.3</td>\n",
       "    </tr>\n",
       "    <tr>\n",
       "      <th>10</th>\n",
       "      <td>Beach House</td>\n",
       "      <td>Teen Dream</td>\n",
       "      <td>10 Mile Stereo</td>\n",
       "      <td>The heart is a stone and this is a stone that ...</td>\n",
       "      <td>257</td>\n",
       "      <td>8</td>\n",
       "      <td>41.1</td>\n",
       "      <td>0.4</td>\n",
       "      <td>58.5</td>\n",
       "    </tr>\n",
       "    <tr>\n",
       "      <th>11</th>\n",
       "      <td>Tennis</td>\n",
       "      <td>Yours Conditionally</td>\n",
       "      <td>10 Minutes 10 Years</td>\n",
       "      <td>You could have me for ten minutes You could ha...</td>\n",
       "      <td>184</td>\n",
       "      <td>9</td>\n",
       "      <td>0.9</td>\n",
       "      <td>0.8</td>\n",
       "      <td>98.3</td>\n",
       "    </tr>\n",
       "    <tr>\n",
       "      <th>12</th>\n",
       "      <td>Mates Of State</td>\n",
       "      <td>Our Constant Concern</td>\n",
       "      <td>10 Years Later</td>\n",
       "      <td>Save one for the ending and Push one oer the l...</td>\n",
       "      <td>153</td>\n",
       "      <td>10</td>\n",
       "      <td>1.1</td>\n",
       "      <td>1.1</td>\n",
       "      <td>97.8</td>\n",
       "    </tr>\n",
       "    <tr>\n",
       "      <th>13</th>\n",
       "      <td>Tennis</td>\n",
       "      <td>Small Sound EP</td>\n",
       "      <td>100 Lovers</td>\n",
       "      <td>Thats when I met him and now you know Onehundr...</td>\n",
       "      <td>122</td>\n",
       "      <td>9</td>\n",
       "      <td>23.0</td>\n",
       "      <td>0.9</td>\n",
       "      <td>76.0</td>\n",
       "    </tr>\n",
       "    <tr>\n",
       "      <th>14</th>\n",
       "      <td>Vagabon</td>\n",
       "      <td>Infinite Worlds</td>\n",
       "      <td>100 Years</td>\n",
       "      <td>We walked through the aqueduct To see your old...</td>\n",
       "      <td>43</td>\n",
       "      <td>11</td>\n",
       "      <td>64.2</td>\n",
       "      <td>13.9</td>\n",
       "      <td>22.0</td>\n",
       "    </tr>\n",
       "    <tr>\n",
       "      <th>15</th>\n",
       "      <td>Mogwai</td>\n",
       "      <td>Every Countrys Sun</td>\n",
       "      <td>1000 Foot Face</td>\n",
       "      <td>Hide somewhere Hard times over Words came call...</td>\n",
       "      <td>14</td>\n",
       "      <td>12</td>\n",
       "      <td>62.8</td>\n",
       "      <td>3.6</td>\n",
       "      <td>33.6</td>\n",
       "    </tr>\n",
       "    <tr>\n",
       "      <th>16</th>\n",
       "      <td>The Magnetic Fields</td>\n",
       "      <td>The Wayward BusDistant Plastic Trees</td>\n",
       "      <td>100000 Fireflies</td>\n",
       "      <td>I play it all night long It makes me want to k...</td>\n",
       "      <td>164</td>\n",
       "      <td>2</td>\n",
       "      <td>45.6</td>\n",
       "      <td>1.1</td>\n",
       "      <td>53.2</td>\n",
       "    </tr>\n",
       "    <tr>\n",
       "      <th>17</th>\n",
       "      <td>Tegan And Sara</td>\n",
       "      <td>Love You to Death</td>\n",
       "      <td>100x</td>\n",
       "      <td>I went crazy thinking I was wrong Like a fool ...</td>\n",
       "      <td>354</td>\n",
       "      <td>13</td>\n",
       "      <td>0.3</td>\n",
       "      <td>6.6</td>\n",
       "      <td>93.1</td>\n",
       "    </tr>\n",
       "    <tr>\n",
       "      <th>18</th>\n",
       "      <td>The Pains Of Being Pure At Heart</td>\n",
       "      <td>Higher Than The Stars</td>\n",
       "      <td>103</td>\n",
       "      <td>You can drive pretty fast You can drink with y...</td>\n",
       "      <td>86</td>\n",
       "      <td>14</td>\n",
       "      <td>33.6</td>\n",
       "      <td>1.8</td>\n",
       "      <td>64.6</td>\n",
       "    </tr>\n",
       "    <tr>\n",
       "      <th>19</th>\n",
       "      <td>The Front Bottoms</td>\n",
       "      <td>Rose</td>\n",
       "      <td>12 Feet Deep</td>\n",
       "      <td>Cause you are water twelve feet deep And I am ...</td>\n",
       "      <td>378</td>\n",
       "      <td>15</td>\n",
       "      <td>31.6</td>\n",
       "      <td>24.4</td>\n",
       "      <td>43.9</td>\n",
       "    </tr>\n",
       "    <tr>\n",
       "      <th>20</th>\n",
       "      <td>Japanese Breakfast</td>\n",
       "      <td>Soft Sounds from Another Planet</td>\n",
       "      <td>12 Steps</td>\n",
       "      <td>I said something cruel I cant say I quite regr...</td>\n",
       "      <td>176</td>\n",
       "      <td>16</td>\n",
       "      <td>0.6</td>\n",
       "      <td>7.8</td>\n",
       "      <td>91.6</td>\n",
       "    </tr>\n",
       "    <tr>\n",
       "      <th>21</th>\n",
       "      <td>The Magnetic Fields</td>\n",
       "      <td>50 Song Memoir</td>\n",
       "      <td>12 You Can Never Go Back to New York</td>\n",
       "      <td>Cause it changes as quick as the weather Every...</td>\n",
       "      <td>192</td>\n",
       "      <td>2</td>\n",
       "      <td>68.9</td>\n",
       "      <td>0.7</td>\n",
       "      <td>30.4</td>\n",
       "    </tr>\n",
       "    <tr>\n",
       "      <th>22</th>\n",
       "      <td>Elvis Perkins In Dearland</td>\n",
       "      <td>Elvis Perkins In Dearland</td>\n",
       "      <td>123 Goodbye</td>\n",
       "      <td>I love you more in death Than I ever could in ...</td>\n",
       "      <td>254</td>\n",
       "      <td>17</td>\n",
       "      <td>28.9</td>\n",
       "      <td>6.6</td>\n",
       "      <td>64.5</td>\n",
       "    </tr>\n",
       "    <tr>\n",
       "      <th>23</th>\n",
       "      <td>The Magnetic Fields</td>\n",
       "      <td>50 Song Memoir</td>\n",
       "      <td>13 Big Enough for Both of Us</td>\n",
       "      <td>This thing is big enough for both of us It thr...</td>\n",
       "      <td>161</td>\n",
       "      <td>2</td>\n",
       "      <td>0.7</td>\n",
       "      <td>15.4</td>\n",
       "      <td>83.9</td>\n",
       "    </tr>\n",
       "    <tr>\n",
       "      <th>24</th>\n",
       "      <td>The Walkmen</td>\n",
       "      <td>Bows  Arrows</td>\n",
       "      <td>138th Street</td>\n",
       "      <td>And all your friends youd finally figured out ...</td>\n",
       "      <td>161</td>\n",
       "      <td>18</td>\n",
       "      <td>30.4</td>\n",
       "      <td>0.8</td>\n",
       "      <td>68.8</td>\n",
       "    </tr>\n",
       "    <tr>\n",
       "      <th>25</th>\n",
       "      <td>Brittany Howard</td>\n",
       "      <td>Jaime</td>\n",
       "      <td>13th Century Metal</td>\n",
       "      <td>To be wary of who I give my energy to Because ...</td>\n",
       "      <td>398</td>\n",
       "      <td>19</td>\n",
       "      <td>20.0</td>\n",
       "      <td>13.4</td>\n",
       "      <td>66.6</td>\n",
       "    </tr>\n",
       "    <tr>\n",
       "      <th>26</th>\n",
       "      <td>WU LYF</td>\n",
       "      <td>Go Tell Fire To The Mountain</td>\n",
       "      <td>14 Crowns For Me  Your Friends</td>\n",
       "      <td>So I can say a thousand things It was your loo...</td>\n",
       "      <td>62</td>\n",
       "      <td>20</td>\n",
       "      <td>1.5</td>\n",
       "      <td>1.5</td>\n",
       "      <td>97.0</td>\n",
       "    </tr>\n",
       "    <tr>\n",
       "      <th>27</th>\n",
       "      <td>The Strokes</td>\n",
       "      <td>First Impressions Of Earth</td>\n",
       "      <td>15 Minutes</td>\n",
       "      <td>It was all just a dream oh no Yet I wish it wa...</td>\n",
       "      <td>218</td>\n",
       "      <td>21</td>\n",
       "      <td>3.7</td>\n",
       "      <td>21.3</td>\n",
       "      <td>75.0</td>\n",
       "    </tr>\n",
       "    <tr>\n",
       "      <th>28</th>\n",
       "      <td>Houndmouth</td>\n",
       "      <td>Little Neon Limelight</td>\n",
       "      <td>15 Years</td>\n",
       "      <td>15 years on the county line Nough to make a ma...</td>\n",
       "      <td>265</td>\n",
       "      <td>22</td>\n",
       "      <td>39.8</td>\n",
       "      <td>7.6</td>\n",
       "      <td>52.6</td>\n",
       "    </tr>\n",
       "    <tr>\n",
       "      <th>29</th>\n",
       "      <td>The Decemberists</td>\n",
       "      <td>Picaresque</td>\n",
       "      <td>16 Military Wives</td>\n",
       "      <td>Thirtytwo softly focused brightly colored eyes...</td>\n",
       "      <td>225</td>\n",
       "      <td>23</td>\n",
       "      <td>13.8</td>\n",
       "      <td>46.9</td>\n",
       "      <td>39.3</td>\n",
       "    </tr>\n",
       "    <tr>\n",
       "      <th>...</th>\n",
       "      <td>...</td>\n",
       "      <td>...</td>\n",
       "      <td>...</td>\n",
       "      <td>...</td>\n",
       "      <td>...</td>\n",
       "      <td>...</td>\n",
       "      <td>...</td>\n",
       "      <td>...</td>\n",
       "      <td>...</td>\n",
       "    </tr>\n",
       "    <tr>\n",
       "      <th>11491</th>\n",
       "      <td>Lucy Dacus</td>\n",
       "      <td>Historian</td>\n",
       "      <td>Yours  Mine</td>\n",
       "      <td>Im afraid of pain both yours and mine both you...</td>\n",
       "      <td>316</td>\n",
       "      <td>129</td>\n",
       "      <td>18.2</td>\n",
       "      <td>11.3</td>\n",
       "      <td>70.5</td>\n",
       "    </tr>\n",
       "    <tr>\n",
       "      <th>11492</th>\n",
       "      <td>Daughter</td>\n",
       "      <td>If You Leave</td>\n",
       "      <td>Youth</td>\n",
       "      <td>Shadows settle on the place that you left Our ...</td>\n",
       "      <td>243</td>\n",
       "      <td>254</td>\n",
       "      <td>37.0</td>\n",
       "      <td>0.4</td>\n",
       "      <td>62.6</td>\n",
       "    </tr>\n",
       "    <tr>\n",
       "      <th>11493</th>\n",
       "      <td>MGMT</td>\n",
       "      <td>Oracular Spectacular</td>\n",
       "      <td>The Youth</td>\n",
       "      <td>This is a call to arms to live and love and sl...</td>\n",
       "      <td>243</td>\n",
       "      <td>60</td>\n",
       "      <td>34.4</td>\n",
       "      <td>2.3</td>\n",
       "      <td>63.3</td>\n",
       "    </tr>\n",
       "    <tr>\n",
       "      <th>11494</th>\n",
       "      <td>Lykke Li</td>\n",
       "      <td>Wounded Rhymes</td>\n",
       "      <td>Youth Knows No Pain</td>\n",
       "      <td>Come down from where you are and get down We a...</td>\n",
       "      <td>234</td>\n",
       "      <td>391</td>\n",
       "      <td>40.4</td>\n",
       "      <td>0.4</td>\n",
       "      <td>59.2</td>\n",
       "    </tr>\n",
       "    <tr>\n",
       "      <th>11495</th>\n",
       "      <td>Metric</td>\n",
       "      <td>Synthetica</td>\n",
       "      <td>Youth Without Youth</td>\n",
       "      <td>Hangman we played Rubber soul with a razor bla...</td>\n",
       "      <td>227</td>\n",
       "      <td>330</td>\n",
       "      <td>79.5</td>\n",
       "      <td>0.4</td>\n",
       "      <td>20.1</td>\n",
       "    </tr>\n",
       "    <tr>\n",
       "      <th>11496</th>\n",
       "      <td>The Greeting Committee</td>\n",
       "      <td>This Is It</td>\n",
       "      <td>Youve Got Me</td>\n",
       "      <td>You got a hold on me Built my life around soun...</td>\n",
       "      <td>254</td>\n",
       "      <td>720</td>\n",
       "      <td>0.7</td>\n",
       "      <td>0.7</td>\n",
       "      <td>98.7</td>\n",
       "    </tr>\n",
       "    <tr>\n",
       "      <th>11497</th>\n",
       "      <td>Yellow Magic Orchestra</td>\n",
       "      <td>Naughty Boys  Instrumental</td>\n",
       "      <td>Youve Got to Help Yourself</td>\n",
       "      <td>See how the world goes round Youve got to help...</td>\n",
       "      <td>117</td>\n",
       "      <td>100</td>\n",
       "      <td>1.4</td>\n",
       "      <td>1.2</td>\n",
       "      <td>97.3</td>\n",
       "    </tr>\n",
       "    <tr>\n",
       "      <th>11498</th>\n",
       "      <td>of Montreal</td>\n",
       "      <td>UR FUN</td>\n",
       "      <td>Youve Had Me Everywhere</td>\n",
       "      <td>Listening to your heartbeat realizing its my h...</td>\n",
       "      <td>435</td>\n",
       "      <td>43</td>\n",
       "      <td>2.7</td>\n",
       "      <td>13.5</td>\n",
       "      <td>83.8</td>\n",
       "    </tr>\n",
       "    <tr>\n",
       "      <th>11499</th>\n",
       "      <td>Neutral Milk Hotel</td>\n",
       "      <td>On Avery Island</td>\n",
       "      <td>Youve Passed</td>\n",
       "      <td>The lady is dying She bends back like a wave A...</td>\n",
       "      <td>127</td>\n",
       "      <td>315</td>\n",
       "      <td>47.3</td>\n",
       "      <td>3.1</td>\n",
       "      <td>49.6</td>\n",
       "    </tr>\n",
       "    <tr>\n",
       "      <th>11500</th>\n",
       "      <td>Architecture In Helsinki</td>\n",
       "      <td>Moment Bends</td>\n",
       "      <td>Yr Go To</td>\n",
       "      <td>Could this be true I feel the same vibration w...</td>\n",
       "      <td>213</td>\n",
       "      <td>365</td>\n",
       "      <td>19.7</td>\n",
       "      <td>11.5</td>\n",
       "      <td>68.8</td>\n",
       "    </tr>\n",
       "    <tr>\n",
       "      <th>11501</th>\n",
       "      <td>Throw Me The Statue</td>\n",
       "      <td>Moonbeams</td>\n",
       "      <td>Yucatan Gold</td>\n",
       "      <td>Woulda wished my vacay on the Yucatan Oh but t...</td>\n",
       "      <td>209</td>\n",
       "      <td>94</td>\n",
       "      <td>42.5</td>\n",
       "      <td>7.6</td>\n",
       "      <td>49.8</td>\n",
       "    </tr>\n",
       "    <tr>\n",
       "      <th>11502</th>\n",
       "      <td>Wolf Alice</td>\n",
       "      <td>Visions Of A Life</td>\n",
       "      <td>Yuk Foo</td>\n",
       "      <td>Am I a bitch to not like you anymore Punch me ...</td>\n",
       "      <td>237</td>\n",
       "      <td>154</td>\n",
       "      <td>49.5</td>\n",
       "      <td>38.4</td>\n",
       "      <td>12.0</td>\n",
       "    </tr>\n",
       "    <tr>\n",
       "      <th>11503</th>\n",
       "      <td>PUP</td>\n",
       "      <td>PUP</td>\n",
       "      <td>Yukon</td>\n",
       "      <td>In the Yukon valley Where I spent my summer pa...</td>\n",
       "      <td>187</td>\n",
       "      <td>374</td>\n",
       "      <td>98.6</td>\n",
       "      <td>0.8</td>\n",
       "      <td>0.7</td>\n",
       "    </tr>\n",
       "    <tr>\n",
       "      <th>11504</th>\n",
       "      <td>The Avalanches</td>\n",
       "      <td>Wildflower</td>\n",
       "      <td>Zap</td>\n",
       "      <td>I love to fly Its just youre alone With the pe...</td>\n",
       "      <td>109</td>\n",
       "      <td>649</td>\n",
       "      <td>28.4</td>\n",
       "      <td>14.4</td>\n",
       "      <td>57.2</td>\n",
       "    </tr>\n",
       "    <tr>\n",
       "      <th>11505</th>\n",
       "      <td>Beach House</td>\n",
       "      <td>Teen Dream</td>\n",
       "      <td>Zebra</td>\n",
       "      <td>You know youre gold you dont got to worry none...</td>\n",
       "      <td>186</td>\n",
       "      <td>8</td>\n",
       "      <td>76.9</td>\n",
       "      <td>0.6</td>\n",
       "      <td>22.5</td>\n",
       "    </tr>\n",
       "    <tr>\n",
       "      <th>11506</th>\n",
       "      <td>Zammuto</td>\n",
       "      <td>Zammuto</td>\n",
       "      <td>Zebra Butt</td>\n",
       "      <td>While youre sitting there acting like a horses...</td>\n",
       "      <td>198</td>\n",
       "      <td>663</td>\n",
       "      <td>52.3</td>\n",
       "      <td>13.6</td>\n",
       "      <td>34.1</td>\n",
       "    </tr>\n",
       "    <tr>\n",
       "      <th>11507</th>\n",
       "      <td>The Big Moon</td>\n",
       "      <td>Love in the 4th Dimension</td>\n",
       "      <td>Zeds</td>\n",
       "      <td>Blowing bubbles through the window I try my ha...</td>\n",
       "      <td>149</td>\n",
       "      <td>525</td>\n",
       "      <td>53.7</td>\n",
       "      <td>0.9</td>\n",
       "      <td>45.4</td>\n",
       "    </tr>\n",
       "    <tr>\n",
       "      <th>11508</th>\n",
       "      <td>The Flat Stanleys</td>\n",
       "      <td>Dancing to Dad Rock</td>\n",
       "      <td>Zeppelin V The House That Ewald Built</td>\n",
       "      <td>I spent all my money for my fake ID bailing my...</td>\n",
       "      <td>236</td>\n",
       "      <td>826</td>\n",
       "      <td>18.9</td>\n",
       "      <td>27.2</td>\n",
       "      <td>53.9</td>\n",
       "    </tr>\n",
       "    <tr>\n",
       "      <th>11509</th>\n",
       "      <td>Aesop Rock</td>\n",
       "      <td>Skelethon</td>\n",
       "      <td>Zero Dark Thirty</td>\n",
       "      <td>They did not know how long they had been there...</td>\n",
       "      <td>510</td>\n",
       "      <td>53</td>\n",
       "      <td>66.5</td>\n",
       "      <td>18.4</td>\n",
       "      <td>15.1</td>\n",
       "    </tr>\n",
       "    <tr>\n",
       "      <th>11510</th>\n",
       "      <td>Okay Kaya</td>\n",
       "      <td>Watch This Liquid Pour Itself</td>\n",
       "      <td>Zero Interaction Ramen Bar</td>\n",
       "      <td>My parasite and I are blushing In the zero int...</td>\n",
       "      <td>82</td>\n",
       "      <td>334</td>\n",
       "      <td>2.1</td>\n",
       "      <td>18.8</td>\n",
       "      <td>79.1</td>\n",
       "    </tr>\n",
       "    <tr>\n",
       "      <th>11511</th>\n",
       "      <td>Speedy Ortiz</td>\n",
       "      <td>Foil Deer</td>\n",
       "      <td>Zig</td>\n",
       "      <td>Pace ‘er like a machine anachronistic with sci...</td>\n",
       "      <td>106</td>\n",
       "      <td>231</td>\n",
       "      <td>25.9</td>\n",
       "      <td>11.6</td>\n",
       "      <td>62.6</td>\n",
       "    </tr>\n",
       "    <tr>\n",
       "      <th>11512</th>\n",
       "      <td>David Bowie</td>\n",
       "      <td>Best Of Bowie</td>\n",
       "      <td>Ziggy Stardust</td>\n",
       "      <td>Oh yeah Now Ziggy played guitar Jamming good w...</td>\n",
       "      <td>176</td>\n",
       "      <td>270</td>\n",
       "      <td>20.3</td>\n",
       "      <td>51.0</td>\n",
       "      <td>28.7</td>\n",
       "    </tr>\n",
       "    <tr>\n",
       "      <th>11513</th>\n",
       "      <td>The Coathangers</td>\n",
       "      <td>Suck My Shirt</td>\n",
       "      <td>Zombie</td>\n",
       "      <td>Lost inside your skull Woah woah youre letting...</td>\n",
       "      <td>109</td>\n",
       "      <td>126</td>\n",
       "      <td>15.8</td>\n",
       "      <td>0.9</td>\n",
       "      <td>83.3</td>\n",
       "    </tr>\n",
       "    <tr>\n",
       "      <th>11514</th>\n",
       "      <td>The Magnetic Fields</td>\n",
       "      <td>Distortion</td>\n",
       "      <td>Zombie Boy</td>\n",
       "      <td>And with all of my might I prayed hard for you...</td>\n",
       "      <td>164</td>\n",
       "      <td>2</td>\n",
       "      <td>72.4</td>\n",
       "      <td>26.9</td>\n",
       "      <td>0.7</td>\n",
       "    </tr>\n",
       "    <tr>\n",
       "      <th>11515</th>\n",
       "      <td>Be Your Own Pet</td>\n",
       "      <td>Get Awkward</td>\n",
       "      <td>Zombie Graveyard Party</td>\n",
       "      <td>As dead as can be Its all because a zombie ate...</td>\n",
       "      <td>220</td>\n",
       "      <td>136</td>\n",
       "      <td>0.4</td>\n",
       "      <td>49.6</td>\n",
       "      <td>50.0</td>\n",
       "    </tr>\n",
       "    <tr>\n",
       "      <th>11516</th>\n",
       "      <td>Radiation City</td>\n",
       "      <td>Animals in the Median</td>\n",
       "      <td>Zombies</td>\n",
       "      <td>Habit is such that it lumbers along The neighb...</td>\n",
       "      <td>124</td>\n",
       "      <td>563</td>\n",
       "      <td>61.1</td>\n",
       "      <td>11.8</td>\n",
       "      <td>27.1</td>\n",
       "    </tr>\n",
       "    <tr>\n",
       "      <th>11517</th>\n",
       "      <td>JEFF The Brotherhood</td>\n",
       "      <td>Zone</td>\n",
       "      <td>Zone</td>\n",
       "      <td>Totally dead Totally cool Another afternoon An...</td>\n",
       "      <td>79</td>\n",
       "      <td>385</td>\n",
       "      <td>14.8</td>\n",
       "      <td>35.7</td>\n",
       "      <td>49.5</td>\n",
       "    </tr>\n",
       "    <tr>\n",
       "      <th>11518</th>\n",
       "      <td>Aldous Harding</td>\n",
       "      <td>Designer</td>\n",
       "      <td>Zoo Eyes</td>\n",
       "      <td>Why what am I doing in Dubai In the prime of m...</td>\n",
       "      <td>233</td>\n",
       "      <td>404</td>\n",
       "      <td>89.5</td>\n",
       "      <td>0.5</td>\n",
       "      <td>10.0</td>\n",
       "    </tr>\n",
       "    <tr>\n",
       "      <th>11519</th>\n",
       "      <td>Grandchildren</td>\n",
       "      <td>Grandchildren</td>\n",
       "      <td>Zuni</td>\n",
       "      <td>Oohooh ooh oohoohooh Oohooh ooh oohoohooh Ooho...</td>\n",
       "      <td>120</td>\n",
       "      <td>775</td>\n",
       "      <td>6.5</td>\n",
       "      <td>1.2</td>\n",
       "      <td>92.3</td>\n",
       "    </tr>\n",
       "    <tr>\n",
       "      <th>11520</th>\n",
       "      <td>Aesop Rock</td>\n",
       "      <td>Skelethon</td>\n",
       "      <td>ZZZ Top</td>\n",
       "      <td>Somebody in a cultivated moment of distress Co...</td>\n",
       "      <td>674</td>\n",
       "      <td>53</td>\n",
       "      <td>0.2</td>\n",
       "      <td>99.7</td>\n",
       "      <td>0.2</td>\n",
       "    </tr>\n",
       "  </tbody>\n",
       "</table>\n",
       "<p>11521 rows × 9 columns</p>\n",
       "</div>"
      ],
      "text/plain": [
       "                                   artist  \\\n",
       "song_id                                     \n",
       "0                                Bon Iver   \n",
       "1                                     M83   \n",
       "2                     The Magnetic Fields   \n",
       "3                     The Magnetic Fields   \n",
       "4                     The Magnetic Fields   \n",
       "5                                 Swearin   \n",
       "6                         Remember Sports   \n",
       "7                                 Jay Som   \n",
       "8                           Tapes n Tapes   \n",
       "9                                 La Sera   \n",
       "10                            Beach House   \n",
       "11                                 Tennis   \n",
       "12                         Mates Of State   \n",
       "13                                 Tennis   \n",
       "14                                Vagabon   \n",
       "15                                 Mogwai   \n",
       "16                    The Magnetic Fields   \n",
       "17                         Tegan And Sara   \n",
       "18       The Pains Of Being Pure At Heart   \n",
       "19                      The Front Bottoms   \n",
       "20                     Japanese Breakfast   \n",
       "21                    The Magnetic Fields   \n",
       "22              Elvis Perkins In Dearland   \n",
       "23                    The Magnetic Fields   \n",
       "24                            The Walkmen   \n",
       "25                        Brittany Howard   \n",
       "26                                 WU LYF   \n",
       "27                            The Strokes   \n",
       "28                             Houndmouth   \n",
       "29                       The Decemberists   \n",
       "...                                   ...   \n",
       "11491                          Lucy Dacus   \n",
       "11492                            Daughter   \n",
       "11493                                MGMT   \n",
       "11494                            Lykke Li   \n",
       "11495                              Metric   \n",
       "11496              The Greeting Committee   \n",
       "11497              Yellow Magic Orchestra   \n",
       "11498                         of Montreal   \n",
       "11499                  Neutral Milk Hotel   \n",
       "11500            Architecture In Helsinki   \n",
       "11501                 Throw Me The Statue   \n",
       "11502                          Wolf Alice   \n",
       "11503                                 PUP   \n",
       "11504                      The Avalanches   \n",
       "11505                         Beach House   \n",
       "11506                             Zammuto   \n",
       "11507                        The Big Moon   \n",
       "11508                   The Flat Stanleys   \n",
       "11509                          Aesop Rock   \n",
       "11510                           Okay Kaya   \n",
       "11511                        Speedy Ortiz   \n",
       "11512                         David Bowie   \n",
       "11513                     The Coathangers   \n",
       "11514                 The Magnetic Fields   \n",
       "11515                     Be Your Own Pet   \n",
       "11516                      Radiation City   \n",
       "11517                JEFF The Brotherhood   \n",
       "11518                      Aldous Harding   \n",
       "11519                       Grandchildren   \n",
       "11520                          Aesop Rock   \n",
       "\n",
       "                                        album  \\\n",
       "song_id                                         \n",
       "0                                22 A Million   \n",
       "1           Dead Cities Red Seas  Lost Ghosts   \n",
       "2                              50 Song Memoir   \n",
       "3                              50 Song Memoir   \n",
       "4                              50 Song Memoir   \n",
       "5                                     Swearin   \n",
       "6                                   Slow Buzz   \n",
       "7                             Everybody Works   \n",
       "8                                    The Loon   \n",
       "9                            Hour Of The Dawn   \n",
       "10                                 Teen Dream   \n",
       "11                        Yours Conditionally   \n",
       "12                       Our Constant Concern   \n",
       "13                             Small Sound EP   \n",
       "14                            Infinite Worlds   \n",
       "15                         Every Countrys Sun   \n",
       "16       The Wayward BusDistant Plastic Trees   \n",
       "17                          Love You to Death   \n",
       "18                      Higher Than The Stars   \n",
       "19                                       Rose   \n",
       "20            Soft Sounds from Another Planet   \n",
       "21                             50 Song Memoir   \n",
       "22                  Elvis Perkins In Dearland   \n",
       "23                             50 Song Memoir   \n",
       "24                               Bows  Arrows   \n",
       "25                                      Jaime   \n",
       "26               Go Tell Fire To The Mountain   \n",
       "27                 First Impressions Of Earth   \n",
       "28                      Little Neon Limelight   \n",
       "29                                 Picaresque   \n",
       "...                                       ...   \n",
       "11491                               Historian   \n",
       "11492                            If You Leave   \n",
       "11493                    Oracular Spectacular   \n",
       "11494                          Wounded Rhymes   \n",
       "11495                              Synthetica   \n",
       "11496                              This Is It   \n",
       "11497              Naughty Boys  Instrumental   \n",
       "11498                                  UR FUN   \n",
       "11499                         On Avery Island   \n",
       "11500                            Moment Bends   \n",
       "11501                               Moonbeams   \n",
       "11502                       Visions Of A Life   \n",
       "11503                                     PUP   \n",
       "11504                              Wildflower   \n",
       "11505                              Teen Dream   \n",
       "11506                                 Zammuto   \n",
       "11507               Love in the 4th Dimension   \n",
       "11508                     Dancing to Dad Rock   \n",
       "11509                               Skelethon   \n",
       "11510           Watch This Liquid Pour Itself   \n",
       "11511                               Foil Deer   \n",
       "11512                           Best Of Bowie   \n",
       "11513                           Suck My Shirt   \n",
       "11514                              Distortion   \n",
       "11515                             Get Awkward   \n",
       "11516                   Animals in the Median   \n",
       "11517                                    Zone   \n",
       "11518                                Designer   \n",
       "11519                           Grandchildren   \n",
       "11520                               Skelethon   \n",
       "\n",
       "                                         title  \\\n",
       "song_id                                          \n",
       "0                                00000 Million   \n",
       "1                                        0078h   \n",
       "2                       02 Be True to Your Bar   \n",
       "3                               05 Never Again   \n",
       "4                                    06 Quotes   \n",
       "5                                            1   \n",
       "6                                The 1 Bad Man   \n",
       "7                               1 Billion Dogs   \n",
       "8                             10 Gallon Ascots   \n",
       "9                        10 Headed Goat Wizard   \n",
       "10                              10 Mile Stereo   \n",
       "11                         10 Minutes 10 Years   \n",
       "12                              10 Years Later   \n",
       "13                                  100 Lovers   \n",
       "14                                   100 Years   \n",
       "15                              1000 Foot Face   \n",
       "16                            100000 Fireflies   \n",
       "17                                        100x   \n",
       "18                                         103   \n",
       "19                                12 Feet Deep   \n",
       "20                                    12 Steps   \n",
       "21        12 You Can Never Go Back to New York   \n",
       "22                                 123 Goodbye   \n",
       "23                13 Big Enough for Both of Us   \n",
       "24                                138th Street   \n",
       "25                          13th Century Metal   \n",
       "26              14 Crowns For Me  Your Friends   \n",
       "27                                  15 Minutes   \n",
       "28                                    15 Years   \n",
       "29                           16 Military Wives   \n",
       "...                                        ...   \n",
       "11491                              Yours  Mine   \n",
       "11492                                    Youth   \n",
       "11493                                The Youth   \n",
       "11494                      Youth Knows No Pain   \n",
       "11495                      Youth Without Youth   \n",
       "11496                             Youve Got Me   \n",
       "11497               Youve Got to Help Yourself   \n",
       "11498                  Youve Had Me Everywhere   \n",
       "11499                             Youve Passed   \n",
       "11500                                 Yr Go To   \n",
       "11501                             Yucatan Gold   \n",
       "11502                                  Yuk Foo   \n",
       "11503                                    Yukon   \n",
       "11504                                      Zap   \n",
       "11505                                    Zebra   \n",
       "11506                               Zebra Butt   \n",
       "11507                                     Zeds   \n",
       "11508    Zeppelin V The House That Ewald Built   \n",
       "11509                         Zero Dark Thirty   \n",
       "11510               Zero Interaction Ramen Bar   \n",
       "11511                                      Zig   \n",
       "11512                           Ziggy Stardust   \n",
       "11513                                   Zombie   \n",
       "11514                               Zombie Boy   \n",
       "11515                   Zombie Graveyard Party   \n",
       "11516                                  Zombies   \n",
       "11517                                     Zone   \n",
       "11518                                 Zoo Eyes   \n",
       "11519                                     Zuni   \n",
       "11520                                  ZZZ Top   \n",
       "\n",
       "                                                    lyrics  \\\n",
       "song_id                                                      \n",
       "0        Mustve been forces that took me on them wild c...   \n",
       "1        I was someone elses girl Every time you look i...   \n",
       "2        Sitting in bars and cafés Writing songs about ...   \n",
       "3        Well walk in the rain Just having a day Never ...   \n",
       "4        For some of which you could have sued Oh the h...   \n",
       "5        Ignore the ghosts you can let me out Im not th...   \n",
       "6        But I’m not getting over it And I know and I k...   \n",
       "7        Just like a kid Cant see straight Im tired and...   \n",
       "8        Ill come to dinner and fight off the flirts I ...   \n",
       "9        Double over in pain its just like the rain rai...   \n",
       "10       The heart is a stone and this is a stone that ...   \n",
       "11       You could have me for ten minutes You could ha...   \n",
       "12       Save one for the ending and Push one oer the l...   \n",
       "13       Thats when I met him and now you know Onehundr...   \n",
       "14       We walked through the aqueduct To see your old...   \n",
       "15       Hide somewhere Hard times over Words came call...   \n",
       "16       I play it all night long It makes me want to k...   \n",
       "17       I went crazy thinking I was wrong Like a fool ...   \n",
       "18       You can drive pretty fast You can drink with y...   \n",
       "19       Cause you are water twelve feet deep And I am ...   \n",
       "20       I said something cruel I cant say I quite regr...   \n",
       "21       Cause it changes as quick as the weather Every...   \n",
       "22       I love you more in death Than I ever could in ...   \n",
       "23       This thing is big enough for both of us It thr...   \n",
       "24       And all your friends youd finally figured out ...   \n",
       "25       To be wary of who I give my energy to Because ...   \n",
       "26       So I can say a thousand things It was your loo...   \n",
       "27       It was all just a dream oh no Yet I wish it wa...   \n",
       "28       15 years on the county line Nough to make a ma...   \n",
       "29       Thirtytwo softly focused brightly colored eyes...   \n",
       "...                                                    ...   \n",
       "11491    Im afraid of pain both yours and mine both you...   \n",
       "11492    Shadows settle on the place that you left Our ...   \n",
       "11493    This is a call to arms to live and love and sl...   \n",
       "11494    Come down from where you are and get down We a...   \n",
       "11495    Hangman we played Rubber soul with a razor bla...   \n",
       "11496    You got a hold on me Built my life around soun...   \n",
       "11497    See how the world goes round Youve got to help...   \n",
       "11498    Listening to your heartbeat realizing its my h...   \n",
       "11499    The lady is dying She bends back like a wave A...   \n",
       "11500    Could this be true I feel the same vibration w...   \n",
       "11501    Woulda wished my vacay on the Yucatan Oh but t...   \n",
       "11502    Am I a bitch to not like you anymore Punch me ...   \n",
       "11503    In the Yukon valley Where I spent my summer pa...   \n",
       "11504    I love to fly Its just youre alone With the pe...   \n",
       "11505    You know youre gold you dont got to worry none...   \n",
       "11506    While youre sitting there acting like a horses...   \n",
       "11507    Blowing bubbles through the window I try my ha...   \n",
       "11508    I spent all my money for my fake ID bailing my...   \n",
       "11509    They did not know how long they had been there...   \n",
       "11510    My parasite and I are blushing In the zero int...   \n",
       "11511    Pace ‘er like a machine anachronistic with sci...   \n",
       "11512    Oh yeah Now Ziggy played guitar Jamming good w...   \n",
       "11513    Lost inside your skull Woah woah youre letting...   \n",
       "11514    And with all of my might I prayed hard for you...   \n",
       "11515    As dead as can be Its all because a zombie ate...   \n",
       "11516    Habit is such that it lumbers along The neighb...   \n",
       "11517    Totally dead Totally cool Another afternoon An...   \n",
       "11518    Why what am I doing in Dubai In the prime of m...   \n",
       "11519    Oohooh ooh oohoohooh Oohooh ooh oohoohooh Ooho...   \n",
       "11520    Somebody in a cultivated moment of distress Co...   \n",
       "\n",
       "         lyrics_word_length  artist_id   Ego  Super Ego    Id  \n",
       "song_id                                                        \n",
       "0                       233          0  42.0        7.3  50.7  \n",
       "1                       179          1   0.7        0.8  98.4  \n",
       "2                       197          2   0.6       18.6  80.8  \n",
       "3                       150          2  50.3        0.8  48.8  \n",
       "4                       101          2  19.2        8.3  72.5  \n",
       "5                        43          3  24.0        2.8  73.2  \n",
       "6                       169          4   0.7        0.7  98.6  \n",
       "7                       103          5  29.7       34.6  35.7  \n",
       "8                       102          6  77.8        0.8  21.4  \n",
       "9                       188          7  38.1        0.6  61.3  \n",
       "10                      257          8  41.1        0.4  58.5  \n",
       "11                      184          9   0.9        0.8  98.3  \n",
       "12                      153         10   1.1        1.1  97.8  \n",
       "13                      122          9  23.0        0.9  76.0  \n",
       "14                       43         11  64.2       13.9  22.0  \n",
       "15                       14         12  62.8        3.6  33.6  \n",
       "16                      164          2  45.6        1.1  53.2  \n",
       "17                      354         13   0.3        6.6  93.1  \n",
       "18                       86         14  33.6        1.8  64.6  \n",
       "19                      378         15  31.6       24.4  43.9  \n",
       "20                      176         16   0.6        7.8  91.6  \n",
       "21                      192          2  68.9        0.7  30.4  \n",
       "22                      254         17  28.9        6.6  64.5  \n",
       "23                      161          2   0.7       15.4  83.9  \n",
       "24                      161         18  30.4        0.8  68.8  \n",
       "25                      398         19  20.0       13.4  66.6  \n",
       "26                       62         20   1.5        1.5  97.0  \n",
       "27                      218         21   3.7       21.3  75.0  \n",
       "28                      265         22  39.8        7.6  52.6  \n",
       "29                      225         23  13.8       46.9  39.3  \n",
       "...                     ...        ...   ...        ...   ...  \n",
       "11491                   316        129  18.2       11.3  70.5  \n",
       "11492                   243        254  37.0        0.4  62.6  \n",
       "11493                   243         60  34.4        2.3  63.3  \n",
       "11494                   234        391  40.4        0.4  59.2  \n",
       "11495                   227        330  79.5        0.4  20.1  \n",
       "11496                   254        720   0.7        0.7  98.7  \n",
       "11497                   117        100   1.4        1.2  97.3  \n",
       "11498                   435         43   2.7       13.5  83.8  \n",
       "11499                   127        315  47.3        3.1  49.6  \n",
       "11500                   213        365  19.7       11.5  68.8  \n",
       "11501                   209         94  42.5        7.6  49.8  \n",
       "11502                   237        154  49.5       38.4  12.0  \n",
       "11503                   187        374  98.6        0.8   0.7  \n",
       "11504                   109        649  28.4       14.4  57.2  \n",
       "11505                   186          8  76.9        0.6  22.5  \n",
       "11506                   198        663  52.3       13.6  34.1  \n",
       "11507                   149        525  53.7        0.9  45.4  \n",
       "11508                   236        826  18.9       27.2  53.9  \n",
       "11509                   510         53  66.5       18.4  15.1  \n",
       "11510                    82        334   2.1       18.8  79.1  \n",
       "11511                   106        231  25.9       11.6  62.6  \n",
       "11512                   176        270  20.3       51.0  28.7  \n",
       "11513                   109        126  15.8        0.9  83.3  \n",
       "11514                   164          2  72.4       26.9   0.7  \n",
       "11515                   220        136   0.4       49.6  50.0  \n",
       "11516                   124        563  61.1       11.8  27.1  \n",
       "11517                    79        385  14.8       35.7  49.5  \n",
       "11518                   233        404  89.5        0.5  10.0  \n",
       "11519                   120        775   6.5        1.2  92.3  \n",
       "11520                   674         53   0.2       99.7   0.2  \n",
       "\n",
       "[11521 rows x 9 columns]"
      ]
     },
     "execution_count": 31,
     "metadata": {},
     "output_type": "execute_result"
    }
   ],
   "source": [
    "lyrics_topics"
   ]
  },
  {
   "cell_type": "markdown",
   "metadata": {},
   "source": [
    "Now that we have an LDA model that  split each song into 4 topics, lets test how well it does with new songs."
   ]
  },
  {
   "cell_type": "code",
   "execution_count": 32,
   "metadata": {},
   "outputs": [],
   "source": [
    "from selenium import webdriver\n",
    "from selenium.webdriver.common.by import By\n",
    "from selenium.webdriver.support.ui import WebDriverWait\n",
    "from selenium.webdriver.support import expected_conditions as EC\n",
    "from selenium.common.exceptions import TimeoutException\n",
    "\n",
    "from webdriver_manager.chrome import ChromeDriverManager\n",
    "\n",
    "import time\n",
    "import string\n",
    "import requests\n",
    "from bs4 import BeautifulSoup\n",
    "\n",
    "import unidecode\n",
    "import pandas as pd"
   ]
  },
  {
   "cell_type": "code",
   "execution_count": 33,
   "metadata": {},
   "outputs": [],
   "source": [
    "# set driver options and import song list\n",
    "option = webdriver.ChromeOptions()\n",
    "option.add_argument(' - incognito')"
   ]
  },
  {
   "cell_type": "markdown",
   "metadata": {},
   "source": [
    "ooh la la by run the jewels - works. combine all into a function that takes a genius page url and outputs the topic breakdown"
   ]
  },
  {
   "cell_type": "code",
   "execution_count": 39,
   "metadata": {
    "scrolled": false
   },
   "outputs": [],
   "source": [
    "def lyric_grab(url):\n",
    "    driver = webdriver.Chrome(ChromeDriverManager().install())\n",
    "    driver.implicitly_wait(30)\n",
    "\n",
    "    driver.get(url)\n",
    "\n",
    "    page= driver.find_element_by_xpath(f'/html/body/routable-page/ng-outlet/song-page/div/div/div/div/div')\n",
    "\n",
    "    soup=BeautifulSoup(page.text,'html.parser')\n",
    "    driver.quit()\n",
    "\n",
    "    s=str(soup)\n",
    "    s=s.replace('\\u2005',' ')\n",
    "    s=s.split('\\n')\n",
    "    s.pop()\n",
    "    s.pop()\n",
    "    s.pop(0)\n",
    "\n",
    "    s=[x for x in s if '[' not in x]\n",
    "    for line in s:\n",
    "        if line == '':\n",
    "            s.remove('')\n",
    "\n",
    "    lyrics=''\n",
    "    for line in s:        \n",
    "        lyrics+=str(line)\n",
    "        lyrics+=' '\n",
    "    return lyrics\n",
    "\n",
    "def Freud(url):\n",
    "    lyrics=lyric_grab(url)\n",
    "    lyrics=clean_text(lyrics)\n",
    "    lyrics=lemmatizer(lyrics).replace('-PRON-','')\n",
    "    lyric_list=[]\n",
    "    lyric_list.append(lyrics)\n",
    "    vector=vectorizer.transform(lyric_list)\n",
    "    prob_scores=LDA_model.transform(vector)\n",
    "    print('         Ego          SuperEgo          id')\n",
    "    return prob_scores[0]"
   ]
  },
  {
   "cell_type": "code",
   "execution_count": 40,
   "metadata": {
    "scrolled": true
   },
   "outputs": [
    {
     "name": "stderr",
     "output_type": "stream",
     "text": [
      "[WDM] - Cache is valid for [05/06/2020]\n",
      "[WDM] - Looking for [chromedriver 83.0.4103.39 win32] driver in cache \n",
      "[WDM] - Driver found in cache [C:\\Users\\16142\\.wdm\\drivers\\chromedriver\\83.0.4103.39\\win32\\chromedriver.exe]\n"
     ]
    },
    {
     "name": "stdout",
     "output_type": "stream",
     "text": [
      " \n",
      "         Ego          SuperEgo          id\n"
     ]
    },
    {
     "data": {
      "text/plain": [
       "array([0.10568112, 0.4279531 , 0.46636578])"
      ]
     },
     "execution_count": 40,
     "metadata": {},
     "output_type": "execute_result"
    }
   ],
   "source": [
    "url='https://genius.com/Be-your-own-pet-the-kelly-affair-lyrics'\n",
    "\n",
    "Freud(url)"
   ]
  },
  {
   "cell_type": "markdown",
   "metadata": {},
   "source": [
    "works try your own! export the models used to do this so it can be used anytime!"
   ]
  },
  {
   "cell_type": "code",
   "execution_count": 41,
   "metadata": {},
   "outputs": [],
   "source": [
    "pickle.dump(LDA_model, open('Nathan_Freud_Music_Psychologist.sav','wb'))"
   ]
  },
  {
   "cell_type": "code",
   "execution_count": 42,
   "metadata": {},
   "outputs": [],
   "source": [
    "pickle.dump(vectorizer, open('Nathan_Freud_vectorizer.sav','wb'))"
   ]
  },
  {
   "cell_type": "markdown",
   "metadata": {},
   "source": [
    "## NMF"
   ]
  },
  {
   "cell_type": "code",
   "execution_count": null,
   "metadata": {},
   "outputs": [],
   "source": []
  }
 ],
 "metadata": {
  "kernelspec": {
   "display_name": "Python 3",
   "language": "python",
   "name": "python3"
  },
  "language_info": {
   "codemirror_mode": {
    "name": "ipython",
    "version": 3
   },
   "file_extension": ".py",
   "mimetype": "text/x-python",
   "name": "python",
   "nbconvert_exporter": "python",
   "pygments_lexer": "ipython3",
   "version": "3.7.3"
  }
 },
 "nbformat": 4,
 "nbformat_minor": 2
}
