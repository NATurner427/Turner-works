{
 "cells": [
  {
   "cell_type": "code",
   "execution_count": 1,
   "metadata": {},
   "outputs": [],
   "source": [
    "import numpy as np\n",
    "import pandas as pd\n",
    "\n",
    "import matplotlib.pyplot as plt\n",
    "import seaborn as sns\n",
    "\n",
    "%matplotlib inline"
   ]
  },
  {
   "cell_type": "code",
   "execution_count": 35,
   "metadata": {},
   "outputs": [],
   "source": [
    "songlyrics = pd.read_csv('song_lyrics.csv',index_col='song_id')"
   ]
  },
  {
   "cell_type": "code",
   "execution_count": 37,
   "metadata": {},
   "outputs": [],
   "source": [
    "length=[]\n",
    "for i,j in songlyrics.iterrows():\n",
    "    length.append((len(j[7].split())))"
   ]
  },
  {
   "cell_type": "code",
   "execution_count": 39,
   "metadata": {},
   "outputs": [],
   "source": [
    "songlyrics['lyrics word length']=length"
   ]
  },
  {
   "cell_type": "markdown",
   "metadata": {},
   "source": [
    "# level 1) straightforward EDA graphs\n",
    "\n",
    "Time to make some fun graphs. "
   ]
  },
  {
   "cell_type": "code",
   "execution_count": 44,
   "metadata": {},
   "outputs": [
    {
     "data": {
      "text/plain": [
       "883"
      ]
     },
     "execution_count": 44,
     "metadata": {},
     "output_type": "execute_result"
    }
   ],
   "source": [
    "len(songlyrics['artist'].unique())"
   ]
  },
  {
   "cell_type": "markdown",
   "metadata": {},
   "source": [
    "too many to populate one for each all at once, but lets do a call up. \n",
    "\n",
    "Pick an artist, report word count by album, word count song to song...avgerage would count per song...similar bands based on average word count per song (verbose to mum). \n",
    "\n",
    "Considering, we could use SQL queries via the psycopg2 library. Not sure how well it will work, but only one way to find out.\n",
    "\n",
    "First issue, punctuation. Need to remove punctuation, specifically ' and \" from the csv. these characters are used as quote and escape characters by PostgreSQL\n"
   ]
  },
  {
   "cell_type": "code",
   "execution_count": null,
   "metadata": {},
   "outputs": [],
   "source": []
  }
 ],
 "metadata": {
  "kernelspec": {
   "display_name": "Python 3",
   "language": "python",
   "name": "python3"
  },
  "language_info": {
   "codemirror_mode": {
    "name": "ipython",
    "version": 3
   },
   "file_extension": ".py",
   "mimetype": "text/x-python",
   "name": "python",
   "nbconvert_exporter": "python",
   "pygments_lexer": "ipython3",
   "version": "3.7.3"
  }
 },
 "nbformat": 4,
 "nbformat_minor": 2
}
